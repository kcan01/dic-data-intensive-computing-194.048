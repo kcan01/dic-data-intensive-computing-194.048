{
 "cells": [
  {
   "cell_type": "code",
   "execution_count": null,
   "id": "initial_id",
   "metadata": {
    "collapsed": true
   },
   "outputs": [],
   "source": []
  },
  {
   "cell_type": "code",
   "outputs": [],
   "source": [
    "# adapted from https://docs.aws.amazon.com/lambda/latest/dg/with-s3-tutorial.html\n",
    "import os\n",
    "import typing\n",
    "import uuid\n",
    "from urllib.parse import unquote_plus\n",
    "os.environ[\"AWS_DEFAULT_REGION\"] =  \"us-east-1\"\n",
    "os.environ[\"AWS_ACCESS_KEY_ID\"] = \"test\"\n",
    "os.environ[\"AWS_SECRET_ACCESS_KEY\"] = \"test\"\n",
    "\n",
    "import boto3\n",
    "from PIL import Image\n",
    "\n",
    "if typing.TYPE_CHECKING:\n",
    "    from mypy_boto3_s3 import S3Client\n",
    "    from mypy_boto3_ssm import SSMClient\n",
    "    from mypy_boto3_dynamodb import DynamoDBClient, DynamoDBServiceResource\n",
    "\n",
    "MAX_DIMENSIONS = 400, 400\n",
    "\"\"\"The max width and height to scale the image to.\"\"\"\n",
    "\n",
    "endpoint_url = None\n",
    "if os.getenv(\"STAGE\") == \"local\":\n",
    "    endpoint_url = \"https://localhost.localstack.cloud:4566\"\n",
    "\n",
    "args = {\n",
    "    \"region_name\": \"us-east-1\",\n",
    "    \"endpoint_url\": \"http://localhost:4566\",\n",
    "    \"aws_access_key_id\": \"test\",\n",
    "    \"aws_secret_access_key\": \"test\",\n",
    "}\n",
    "s3: \"S3Client\" = boto3.client(\"s3\", **args)\n",
    "ssm: \"SSMClient\" = boto3.client(\"ssm\", **args)\n",
    "client: \"DynamoDBServiceResource\" = boto3.client(\"dynamodb\", **args)\n",
    "dynamodb: \"DynamoDBClient\" = boto3.resource(\"dynamodb\", **args)"
   ],
   "metadata": {
    "collapsed": false,
    "ExecuteTime": {
     "end_time": "2025-06-06T15:32:26.787336900Z",
     "start_time": "2025-06-06T15:32:26.755971200Z"
    }
   },
   "id": "b9fb839ec355189d",
   "execution_count": 39
  },
  {
   "cell_type": "code",
   "outputs": [
    {
     "data": {
      "text/plain": "{'Parameters': [{'Name': '/localstack-thumbnail-app/buckets/images',\n   'Type': 'String',\n   'LastModifiedDate': datetime.datetime(2025, 6, 6, 15, 55, 56, 734000, tzinfo=tzlocal()),\n   'LastModifiedUser': 'N/A',\n   'Version': 1,\n   'DataType': 'text'},\n  {'Name': '/localstack-thumbnail-app/buckets/resized',\n   'Type': 'String',\n   'LastModifiedDate': datetime.datetime(2025, 6, 6, 15, 56, 2, 625000, tzinfo=tzlocal()),\n   'LastModifiedUser': 'N/A',\n   'Version': 1,\n   'DataType': 'text'},\n  {'Name': '/localstack--assignment3/buckets/reviewsraw',\n   'Type': 'String',\n   'LastModifiedDate': datetime.datetime(2025, 6, 6, 17, 13, 25, 744000, tzinfo=tzlocal()),\n   'LastModifiedUser': 'N/A',\n   'Version': 1,\n   'DataType': 'text'},\n  {'Name': '/localstack-assignment3/buckets/reviewsprocessed',\n   'Type': 'String',\n   'LastModifiedDate': datetime.datetime(2025, 6, 6, 17, 13, 27, 159000, tzinfo=tzlocal()),\n   'LastModifiedUser': 'N/A',\n   'Version': 1,\n   'DataType': 'text'},\n  {'Name': '/localstack-assignment3/tables/sentiment',\n   'Type': 'String',\n   'LastModifiedDate': datetime.datetime(2025, 6, 6, 17, 13, 28, 628000, tzinfo=tzlocal()),\n   'LastModifiedUser': 'N/A',\n   'Version': 1,\n   'DataType': 'text'},\n  {'Name': '/localstack-assignment3/tables/profanity',\n   'Type': 'String',\n   'LastModifiedDate': datetime.datetime(2025, 6, 6, 17, 13, 30, 58000, tzinfo=tzlocal()),\n   'LastModifiedUser': 'N/A',\n   'Version': 1,\n   'DataType': 'text'},\n  {'Name': '/localstack-assignment3/tables/users',\n   'Type': 'String',\n   'LastModifiedDate': datetime.datetime(2025, 6, 6, 17, 13, 31, 451000, tzinfo=tzlocal()),\n   'LastModifiedUser': 'N/A',\n   'Version': 1,\n   'DataType': 'text'}],\n 'ResponseMetadata': {'RequestId': '1f8f912c-ed44-4560-ba97-89339e5bb2e8',\n  'HTTPStatusCode': 200,\n  'HTTPHeaders': {'server': 'TwistedWeb/24.3.0',\n   'date': 'Fri, 06 Jun 2025 15:35:30 GMT',\n   'content-type': 'application/x-amz-json-1.1',\n   'content-length': '1207',\n   'x-amzn-requestid': '1f8f912c-ed44-4560-ba97-89339e5bb2e8'},\n  'RetryAttempts': 0}}"
     },
     "execution_count": 49,
     "metadata": {},
     "output_type": "execute_result"
    }
   ],
   "source": [
    "ssm.describe_parameters()\n",
    "ssm.describe_parameters()"
   ],
   "metadata": {
    "collapsed": false,
    "ExecuteTime": {
     "end_time": "2025-06-06T15:35:30.162678600Z",
     "start_time": "2025-06-06T15:35:28.083621200Z"
    }
   },
   "id": "6345ed49e8a6ac87",
   "execution_count": 49
  },
  {
   "cell_type": "code",
   "outputs": [
    {
     "name": "stdout",
     "output_type": "stream",
     "text": [
      "/localstack-thumbnail-app/buckets/images\n",
      "/localstack-thumbnail-app/buckets/resized\n",
      "/localstack--assignment3/buckets/reviewsraw\n",
      "/localstack-assignment3/buckets/reviewsprocessed\n",
      "/localstack-assignment3/tables/sentiment\n",
      "/localstack-assignment3/tables/profanity\n",
      "/localstack-assignment3/tables/users\n"
     ]
    }
   ],
   "source": [
    "for parameter in ssm.describe_parameters()['Parameters']:\n",
    "    print(parameter['Name'])"
   ],
   "metadata": {
    "collapsed": false,
    "ExecuteTime": {
     "end_time": "2025-06-06T15:36:39.796545300Z",
     "start_time": "2025-06-06T15:36:39.784243400Z"
    }
   },
   "id": "a06a5b94ff7db7af",
   "execution_count": 51
  },
  {
   "cell_type": "code",
   "outputs": [],
   "source": [
    "def get_table_name() -> str:\n",
    "    parameter = ssm.get_parameter(Name=\"/localstack-assignment3/tables/profanity\")\n",
    "    return parameter[\"Parameter\"][\"Value\"]"
   ],
   "metadata": {
    "collapsed": false,
    "ExecuteTime": {
     "end_time": "2025-06-06T15:32:31.750075100Z",
     "start_time": "2025-06-06T15:32:31.736502Z"
    }
   },
   "id": "37f6cbfb64e32056",
   "execution_count": 40
  },
  {
   "cell_type": "code",
   "outputs": [
    {
     "data": {
      "text/plain": "'Profanity'"
     },
     "execution_count": 41,
     "metadata": {},
     "output_type": "execute_result"
    }
   ],
   "source": [
    "get_table_name()"
   ],
   "metadata": {
    "collapsed": false,
    "ExecuteTime": {
     "end_time": "2025-06-06T15:32:34.471187500Z",
     "start_time": "2025-06-06T15:32:32.380691900Z"
    }
   },
   "id": "db50874c934b2fc2",
   "execution_count": 41
  },
  {
   "cell_type": "code",
   "outputs": [
    {
     "data": {
      "text/plain": "{'TableNames': ['Profanity', 'Sentiment', 'Users'],\n 'ResponseMetadata': {'RequestId': '77d7c00e-a532-4277-aa34-17d12adefa30',\n  'HTTPStatusCode': 200,\n  'HTTPHeaders': {'server': 'TwistedWeb/24.3.0',\n   'date': 'Fri, 06 Jun 2025 15:32:36 GMT',\n   'content-type': 'application/x-amz-json-1.0',\n   'content-length': '51',\n   'x-amzn-requestid': '77d7c00e-a532-4277-aa34-17d12adefa30',\n   'x-amz-crc32': '792070558'},\n  'RetryAttempts': 0}}"
     },
     "execution_count": 42,
     "metadata": {},
     "output_type": "execute_result"
    }
   ],
   "source": [
    "client.list_tables()"
   ],
   "metadata": {
    "collapsed": false,
    "ExecuteTime": {
     "end_time": "2025-06-06T15:32:36.961894800Z",
     "start_time": "2025-06-06T15:32:34.878915400Z"
    }
   },
   "id": "bb652c23bf037792",
   "execution_count": 42
  },
  {
   "cell_type": "code",
   "outputs": [],
   "source": [
    "table = dynamodb.Table(\"Profanity\")"
   ],
   "metadata": {
    "collapsed": false,
    "ExecuteTime": {
     "end_time": "2025-06-06T15:33:04.622970700Z",
     "start_time": "2025-06-06T15:33:04.613428600Z"
    }
   },
   "id": "14418b9a145a83a8",
   "execution_count": 45
  },
  {
   "cell_type": "code",
   "outputs": [
    {
     "data": {
      "text/plain": "{'ResponseMetadata': {'RequestId': '6e2f34e0-7d91-4651-8f13-a65e4e572787',\n  'HTTPStatusCode': 200,\n  'HTTPHeaders': {'server': 'TwistedWeb/24.3.0',\n   'date': 'Fri, 06 Jun 2025 15:34:22 GMT',\n   'content-type': 'application/x-amz-json-1.0',\n   'content-length': '2',\n   'x-amzn-requestid': '6e2f34e0-7d91-4651-8f13-a65e4e572787',\n   'x-amz-crc32': '2745614147'},\n  'RetryAttempts': 0}}"
     },
     "execution_count": 47,
     "metadata": {},
     "output_type": "execute_result"
    }
   ],
   "source": [
    "table.put_item(\n",
    "    Item={\n",
    "    \"reviewerID\": \"review_0001.json\",\n",
    "    \"has_profanity\": True,\n",
    "    \"UserID\": \"Theresa Mayer\",\n",
    "    }\n",
    ")"
   ],
   "metadata": {
    "collapsed": false,
    "ExecuteTime": {
     "end_time": "2025-06-06T15:34:23.087197Z",
     "start_time": "2025-06-06T15:34:20.869466200Z"
    }
   },
   "id": "f0019df492aa5842",
   "execution_count": 47
  },
  {
   "cell_type": "code",
   "outputs": [
    {
     "data": {
      "text/plain": "{'Item': {'has_profanity': True,\n  'UserID': 'Theresa Mayer',\n  'ReviewID': 'review_0001.json'},\n 'ResponseMetadata': {'RequestId': 'd71bb9d7-8ce7-40a8-ab07-9a856488b861',\n  'HTTPStatusCode': 200,\n  'HTTPHeaders': {'server': 'TwistedWeb/24.3.0',\n   'date': 'Fri, 06 Jun 2025 15:39:20 GMT',\n   'content-type': 'application/x-amz-json-1.0',\n   'content-length': '116',\n   'x-amzn-requestid': 'd71bb9d7-8ce7-40a8-ab07-9a856488b861',\n   'x-amz-crc32': '3931046080'},\n  'RetryAttempts': 0}}"
     },
     "execution_count": 54,
     "metadata": {},
     "output_type": "execute_result"
    }
   ],
   "source": "table.get_item(Key={\"reviewerID\": \"review_0001.json\"})",
   "metadata": {
    "collapsed": false,
    "ExecuteTime": {
     "end_time": "2025-06-06T15:39:20.525951400Z",
     "start_time": "2025-06-06T15:39:18.435530600Z"
    }
   },
   "id": "ed99449e631ba171",
   "execution_count": 54
  }
 ],
 "metadata": {
  "kernelspec": {
   "display_name": "Python 3",
   "language": "python",
   "name": "python3"
  },
  "language_info": {
   "codemirror_mode": {
    "name": "ipython",
    "version": 2
   },
   "file_extension": ".py",
   "mimetype": "text/x-python",
   "name": "python",
   "nbconvert_exporter": "python",
   "pygments_lexer": "ipython2",
   "version": "2.7.6"
  }
 },
 "nbformat": 4,
 "nbformat_minor": 5
}
