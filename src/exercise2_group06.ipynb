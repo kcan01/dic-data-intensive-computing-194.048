{
 "cells": [
  {
   "cell_type": "markdown",
   "id": "6001bd1cd5bbeecc",
   "metadata": {
    "collapsed": false,
    "jupyter": {
     "outputs_hidden": false
    }
   },
   "source": [
    "#### DiC Assignment 2\n",
    "\n",
    "Group 6\n",
    "Members:\n",
    " Theresa Mayer\n",
    " Theresa Bruckner\n",
    " Jan Tölken\n",
    " Can Kenan Kandil \n",
    " Thomas Klar\n"
   ]
  },
  {
   "cell_type": "markdown",
   "id": "8a0df0004ee49a7c",
   "metadata": {
    "collapsed": false,
    "jupyter": {
     "outputs_hidden": false
    }
   },
   "source": [
    "## Part 1"
   ]
  },
  {
   "cell_type": "code",
   "execution_count": null,
   "id": "a7eaeda76730d351",
   "metadata": {
    "ExecuteTime": {
     "end_time": "2025-04-29T15:03:33.421474600Z",
     "start_time": "2025-04-29T15:03:33.323946700Z"
    },
    "collapsed": false,
    "jupyter": {
     "outputs_hidden": false
    }
   },
   "outputs": [],
   "source": []
  },
  {
   "cell_type": "markdown",
   "id": "fb7e8356017720c9",
   "metadata": {
    "collapsed": false,
    "jupyter": {
     "outputs_hidden": false
    }
   },
   "source": [
    "## Part 2"
   ]
  },
  {
   "cell_type": "code",
   "execution_count": 80,
   "id": "3dd56b41-bc17-4cd5-b924-e15b1af2b16c",
   "metadata": {},
   "outputs": [],
   "source": [
    "import os\n",
    "import sys\n",
    "\n",
    "os.environ['PYSPARK_PYTHON'] = sys.executable\n",
    "os.environ['PYSPARK_DRIVER_PYTHON'] = sys.executable"
   ]
  },
  {
   "cell_type": "code",
   "execution_count": 81,
   "id": "initial_id",
   "metadata": {
    "ExecuteTime": {
     "end_time": "2025-04-29T15:03:34.296920900Z",
     "start_time": "2025-04-29T15:03:33.431494700Z"
    }
   },
   "outputs": [],
   "source": [
    "from pyspark.ml import Pipeline\n",
    "from pyspark.ml.feature import RegexTokenizer, StopWordsRemover, IDF, ChiSqSelector, IndexToString, StringIndexer, CountVectorizer, Normalizer\n",
    "from pyspark.sql import SparkSession"
   ]
  },
  {
   "cell_type": "code",
   "execution_count": 82,
   "id": "cd89c21ff4105670",
   "metadata": {
    "ExecuteTime": {
     "end_time": "2025-04-29T15:03:42.848449300Z",
     "start_time": "2025-04-29T15:03:34.296920900Z"
    },
    "collapsed": false,
    "jupyter": {
     "outputs_hidden": false
    }
   },
   "outputs": [],
   "source": [
    "spark = SparkSession.builder.appName(\"Assignment2\").getOrCreate()"
   ]
  },
  {
   "cell_type": "code",
   "execution_count": null,
   "id": "2350079a-bbc3-41c7-acab-85082c7b4014",
   "metadata": {},
   "outputs": [],
   "source": []
  },
  {
   "cell_type": "code",
   "execution_count": 83,
   "id": "e7b1f20b244ab0a3",
   "metadata": {
    "ExecuteTime": {
     "end_time": "2025-04-29T15:03:48.146028200Z",
     "start_time": "2025-04-29T15:03:42.852449100Z"
    },
    "collapsed": false,
    "jupyter": {
     "outputs_hidden": false
    }
   },
   "outputs": [],
   "source": [
    "path = \"hdfs:///user/dic25_shared/amazon-reviews/full/reviews_devset.json\"\n",
    "input_file = spark.read.format(\"json\").load(path).select(\"category\", \"reviewText\")"
   ]
  },
  {
   "cell_type": "code",
   "execution_count": 84,
   "id": "e3b86ac2dbe88c0e",
   "metadata": {
    "ExecuteTime": {
     "end_time": "2025-04-29T15:03:48.531400800Z",
     "start_time": "2025-04-29T15:03:48.150021Z"
    },
    "collapsed": false,
    "jupyter": {
     "outputs_hidden": false
    }
   },
   "outputs": [
    {
     "name": "stdout",
     "output_type": "stream",
     "text": [
      "+--------------------+--------------------+\n",
      "|            category|          reviewText|\n",
      "+--------------------+--------------------+\n",
      "|Patio_Lawn_and_Garde|This was a gift f...|\n",
      "|Patio_Lawn_and_Garde|This is a very ni...|\n",
      "|Patio_Lawn_and_Garde|The metal base wi...|\n",
      "|Patio_Lawn_and_Garde|For the most part...|\n",
      "|Patio_Lawn_and_Garde|This hose is supp...|\n",
      "+--------------------+--------------------+\n",
      "only showing top 5 rows\n",
      "\n"
     ]
    }
   ],
   "source": [
    "input_file.show(n=5)"
   ]
  },
  {
   "cell_type": "markdown",
   "id": "386773c21dd2c42f",
   "metadata": {
    "collapsed": false,
    "jupyter": {
     "outputs_hidden": false
    }
   },
   "source": [
    "### Label Encoding"
   ]
  },
  {
   "cell_type": "code",
   "execution_count": 85,
   "id": "f74a275212c51ff1",
   "metadata": {
    "ExecuteTime": {
     "end_time": "2025-04-29T15:03:51.030898900Z",
     "start_time": "2025-04-29T15:03:48.522400600Z"
    },
    "collapsed": false,
    "jupyter": {
     "outputs_hidden": false
    }
   },
   "outputs": [],
   "source": [
    "indexer = StringIndexer(inputCol=\"category\", outputCol=\"label\")\n",
    "indexModel = indexer.fit(input_file)\n",
    "input_file_1 = indexModel.transform(input_file)"
   ]
  },
  {
   "cell_type": "code",
   "execution_count": 86,
   "id": "91dbb482ceee28c8",
   "metadata": {
    "ExecuteTime": {
     "end_time": "2025-04-29T15:03:51.564745200Z",
     "start_time": "2025-04-29T15:03:51.036907300Z"
    },
    "collapsed": false,
    "jupyter": {
     "outputs_hidden": false
    }
   },
   "outputs": [
    {
     "name": "stdout",
     "output_type": "stream",
     "text": [
      "+--------------------+--------------------+-----+--------------------+\n",
      "|            category|          reviewText|label|  category_reindexed|\n",
      "+--------------------+--------------------+-----+--------------------+\n",
      "|Patio_Lawn_and_Garde|This was a gift f...| 18.0|Patio_Lawn_and_Garde|\n",
      "|Patio_Lawn_and_Garde|This is a very ni...| 18.0|Patio_Lawn_and_Garde|\n",
      "|Patio_Lawn_and_Garde|The metal base wi...| 18.0|Patio_Lawn_and_Garde|\n",
      "|Patio_Lawn_and_Garde|For the most part...| 18.0|Patio_Lawn_and_Garde|\n",
      "|Patio_Lawn_and_Garde|This hose is supp...| 18.0|Patio_Lawn_and_Garde|\n",
      "+--------------------+--------------------+-----+--------------------+\n",
      "only showing top 5 rows\n",
      "\n"
     ]
    }
   ],
   "source": [
    "reindexer = IndexToString(inputCol=indexer.getOutputCol(), outputCol=\"category_reindexed\")\n",
    "reindexer.transform(input_file_1).show(n=5)"
   ]
  },
  {
   "cell_type": "markdown",
   "id": "3de1257a194d0d98",
   "metadata": {
    "collapsed": false,
    "jupyter": {
     "outputs_hidden": false
    }
   },
   "source": [
    "### Tokenization"
   ]
  },
  {
   "cell_type": "code",
   "execution_count": 87,
   "id": "86f44a30b94fde24",
   "metadata": {
    "ExecuteTime": {
     "end_time": "2025-04-29T15:04:21.275649700Z",
     "start_time": "2025-04-29T15:04:21.250638500Z"
    },
    "collapsed": false,
    "jupyter": {
     "outputs_hidden": false
    }
   },
   "outputs": [],
   "source": [
    "tokenizer = RegexTokenizer(inputCol='reviewText', outputCol='tokens', pattern=r\"[ \\t\\d(){}\\[\\].!?;:,\\-=\\\"~#@&*%€$§\\\\'\\n\\r\\/]+\", minTokenLength=2, toLowercase=True)"
   ]
  },
  {
   "cell_type": "code",
   "execution_count": 88,
   "id": "73744aba0411c769",
   "metadata": {
    "ExecuteTime": {
     "end_time": "2025-04-29T15:04:24.440250Z",
     "start_time": "2025-04-29T15:04:23.912453900Z"
    },
    "collapsed": false,
    "jupyter": {
     "outputs_hidden": false
    }
   },
   "outputs": [
    {
     "name": "stdout",
     "output_type": "stream",
     "text": [
      "+--------------------+--------------------+-----+--------------------+\n",
      "|            category|          reviewText|label|              tokens|\n",
      "+--------------------+--------------------+-----+--------------------+\n",
      "|Patio_Lawn_and_Garde|This was a gift f...| 18.0|[this, was, gift,...|\n",
      "|Patio_Lawn_and_Garde|This is a very ni...| 18.0|[this, is, very, ...|\n",
      "|Patio_Lawn_and_Garde|The metal base wi...| 18.0|[the, metal, base...|\n",
      "|Patio_Lawn_and_Garde|For the most part...| 18.0|[for, the, most, ...|\n",
      "|Patio_Lawn_and_Garde|This hose is supp...| 18.0|[this, hose, is, ...|\n",
      "+--------------------+--------------------+-----+--------------------+\n",
      "only showing top 5 rows\n",
      "\n"
     ]
    }
   ],
   "source": [
    "input_2 = tokenizer.transform(input_file_1)\n",
    "input_2.show(n=5)"
   ]
  },
  {
   "cell_type": "markdown",
   "id": "2809b821557c1231",
   "metadata": {
    "collapsed": false,
    "jupyter": {
     "outputs_hidden": false
    }
   },
   "source": [
    "### Stopword Removal"
   ]
  },
  {
   "cell_type": "code",
   "execution_count": 89,
   "id": "8a7de5f2412c7f14",
   "metadata": {
    "ExecuteTime": {
     "end_time": "2025-04-29T15:04:27.557741600Z",
     "start_time": "2025-04-29T15:04:27.538762400Z"
    },
    "collapsed": false,
    "jupyter": {
     "outputs_hidden": false
    }
   },
   "outputs": [],
   "source": [
    "stopword_file = \"stopwords.txt\"\n",
    "with open(stopword_file, 'r', encoding='utf-8') as f:\n",
    "    # Strip whitespace and convert to lowercase\n",
    "    stopwords = [line.strip() for line in f]"
   ]
  },
  {
   "cell_type": "code",
   "execution_count": 90,
   "id": "eff2476bc98647e2",
   "metadata": {
    "ExecuteTime": {
     "end_time": "2025-04-29T15:04:27.913262900Z",
     "start_time": "2025-04-29T15:04:27.794292900Z"
    },
    "collapsed": false,
    "jupyter": {
     "outputs_hidden": false
    }
   },
   "outputs": [],
   "source": [
    "stopword_remover = StopWordsRemover(inputCol=tokenizer.getOutputCol(), \n",
    "                                    outputCol=\"tokens_nostop\",\n",
    "                                    stopWords=stopwords)"
   ]
  },
  {
   "cell_type": "code",
   "execution_count": 91,
   "id": "1ae56d94bfefafe0",
   "metadata": {
    "ExecuteTime": {
     "end_time": "2025-04-29T15:04:28.479942600Z",
     "start_time": "2025-04-29T15:04:27.985933700Z"
    },
    "collapsed": false,
    "jupyter": {
     "outputs_hidden": false
    }
   },
   "outputs": [
    {
     "name": "stdout",
     "output_type": "stream",
     "text": [
      "+--------------------+--------------------+\n",
      "|              tokens|       tokens_nostop|\n",
      "+--------------------+--------------------+\n",
      "|[this, was, gift,...|[gift, husband, m...|\n",
      "|[this, is, very, ...|[nice, spreader, ...|\n",
      "|[the, metal, base...|[metal, base, hos...|\n",
      "|[for, the, most, ...|[part, works, pre...|\n",
      "|[this, hose, is, ...|[hose, supposed, ...|\n",
      "+--------------------+--------------------+\n",
      "only showing top 5 rows\n",
      "\n"
     ]
    }
   ],
   "source": [
    "input_3 = stopword_remover.transform(input_2)\n",
    "input_3.select(\"tokens\", \"tokens_nostop\").show(n=5)"
   ]
  },
  {
   "cell_type": "markdown",
   "id": "a4bd4517a28d0224",
   "metadata": {
    "collapsed": false,
    "jupyter": {
     "outputs_hidden": false
    }
   },
   "source": [
    "### TF-IDF Calculation"
   ]
  },
  {
   "cell_type": "code",
   "execution_count": 92,
   "id": "520f4384afb1c02a",
   "metadata": {
    "ExecuteTime": {
     "end_time": "2025-04-29T15:04:28.481944Z",
     "start_time": "2025-04-29T15:04:28.467328200Z"
    },
    "collapsed": false,
    "jupyter": {
     "outputs_hidden": false
    }
   },
   "outputs": [],
   "source": [
    "tf = CountVectorizer(inputCol=stopword_remover.getOutputCol(), \n",
    "                      outputCol=\"tf_output\", \n",
    "                      vocabSize=40_000)"
   ]
  },
  {
   "cell_type": "code",
   "execution_count": 93,
   "id": "18f6a5940ffa4f7a",
   "metadata": {
    "ExecuteTime": {
     "end_time": "2025-04-29T15:04:28.667236400Z",
     "start_time": "2025-04-29T15:04:28.626180800Z"
    },
    "collapsed": false,
    "jupyter": {
     "outputs_hidden": false
    }
   },
   "outputs": [],
   "source": [
    "idf = IDF(inputCol=tf.getOutputCol(), \n",
    "          outputCol=\"tfidf_output\",\n",
    "          minDocFreq=4)"
   ]
  },
  {
   "cell_type": "code",
   "execution_count": 94,
   "id": "c16333ea627b73ef",
   "metadata": {
    "ExecuteTime": {
     "end_time": "2025-04-29T15:04:33.860458700Z",
     "start_time": "2025-04-29T15:04:28.745429100Z"
    },
    "collapsed": false,
    "jupyter": {
     "outputs_hidden": false
    }
   },
   "outputs": [
    {
     "name": "stderr",
     "output_type": "stream",
     "text": [
      "                                                                                "
     ]
    },
    {
     "name": "stdout",
     "output_type": "stream",
     "text": [
      "+--------------------+--------------------+\n",
      "|       tokens_nostop|           tf_output|\n",
      "+--------------------+--------------------+\n",
      "|[gift, husband, m...|(40000,[2,3,7,8,3...|\n",
      "|[nice, spreader, ...|(40000,[0,1,3,21,...|\n",
      "|[metal, base, hos...|(40000,[4,10,29,1...|\n",
      "|[part, works, pre...|(40000,[1,3,4,9,1...|\n",
      "|[hose, supposed, ...|(40000,[12,32,42,...|\n",
      "+--------------------+--------------------+\n",
      "only showing top 5 rows\n",
      "\n"
     ]
    }
   ],
   "source": [
    "tfmodel = tf.fit(input_3)\n",
    "input_4 = tfmodel.transform(input_3)\n",
    "input_4.select(\"tokens_nostop\", \"tf_output\").show(n=5)"
   ]
  },
  {
   "cell_type": "code",
   "execution_count": 95,
   "id": "671b0e229579f64",
   "metadata": {
    "ExecuteTime": {
     "end_time": "2025-04-29T15:04:37.236613500Z",
     "start_time": "2025-04-29T15:04:33.850439300Z"
    },
    "collapsed": false,
    "jupyter": {
     "outputs_hidden": false
    }
   },
   "outputs": [
    {
     "name": "stderr",
     "output_type": "stream",
     "text": [
      "                                                                                "
     ]
    },
    {
     "name": "stdout",
     "output_type": "stream",
     "text": [
      "+--------------------+--------------------+\n",
      "|           tf_output|        tfidf_output|\n",
      "+--------------------+--------------------+\n",
      "|(40000,[2,3,7,8,3...|(40000,[2,3,7,8,3...|\n",
      "|(40000,[0,1,3,21,...|(40000,[0,1,3,21,...|\n",
      "|(40000,[4,10,29,1...|(40000,[4,10,29,1...|\n",
      "|(40000,[1,3,4,9,1...|(40000,[1,3,4,9,1...|\n",
      "|(40000,[12,32,42,...|(40000,[12,32,42,...|\n",
      "+--------------------+--------------------+\n",
      "only showing top 5 rows\n",
      "\n"
     ]
    }
   ],
   "source": [
    "idfModel = idf.fit(input_4)\n",
    "input_5 = idfModel.transform(input_4)\n",
    "input_5.select(\"tf_output\", \"tfidf_output\").show(n=5)"
   ]
  },
  {
   "cell_type": "markdown",
   "id": "687262ca63c769e8",
   "metadata": {
    "collapsed": false,
    "jupyter": {
     "outputs_hidden": false
    }
   },
   "source": [
    "### Selection of top 2000 features"
   ]
  },
  {
   "cell_type": "code",
   "execution_count": 96,
   "id": "5838bd7b13080160",
   "metadata": {
    "ExecuteTime": {
     "end_time": "2025-04-29T15:04:37.311542300Z",
     "start_time": "2025-04-29T15:04:37.228617400Z"
    },
    "collapsed": false,
    "jupyter": {
     "outputs_hidden": false
    }
   },
   "outputs": [],
   "source": [
    "chisq = ChiSqSelector(featuresCol=idf.getOutputCol(),\n",
    "                      labelCol=\"label\",\n",
    "                      outputCol=\"features\",\n",
    "                      numTopFeatures=2000)"
   ]
  },
  {
   "cell_type": "code",
   "execution_count": 97,
   "id": "e886fe30ccd73050",
   "metadata": {
    "ExecuteTime": {
     "end_time": "2025-04-29T15:04:44.431678300Z",
     "start_time": "2025-04-29T15:04:37.261549400Z"
    },
    "collapsed": false,
    "jupyter": {
     "outputs_hidden": false
    }
   },
   "outputs": [
    {
     "name": "stderr",
     "output_type": "stream",
     "text": [
      "                                                                                "
     ]
    },
    {
     "name": "stdout",
     "output_type": "stream",
     "text": [
      "+--------------------+\n",
      "|            features|\n",
      "+--------------------+\n",
      "|(2000,[2,3,7,8,35...|\n",
      "|(2000,[0,1,3,21,3...|\n",
      "|(2000,[4,10,174,3...|\n",
      "|(2000,[1,3,4,9,10...|\n",
      "|(2000,[12,29,101,...|\n",
      "+--------------------+\n",
      "only showing top 5 rows\n",
      "\n"
     ]
    }
   ],
   "source": [
    "chisqModel = chisq.fit(input_5)\n",
    "input_6 = chisqModel.transform(input_5)\n",
    "input_6.select(\"features\").show(n=5)"
   ]
  },
  {
   "cell_type": "markdown",
   "id": "515f5142fe2926a8",
   "metadata": {
    "collapsed": false,
    "jupyter": {
     "outputs_hidden": false
    }
   },
   "source": [
    "### Pipeline Creation"
   ]
  },
  {
   "cell_type": "code",
   "execution_count": 98,
   "id": "da44c70940813a8b",
   "metadata": {
    "ExecuteTime": {
     "end_time": "2025-04-29T15:04:44.432676200Z",
     "start_time": "2025-04-29T15:04:44.421649800Z"
    },
    "collapsed": false,
    "jupyter": {
     "outputs_hidden": false
    }
   },
   "outputs": [],
   "source": [
    "def get_pipeline(n_features=2000):\n",
    "    chisq.setNumTopFeatures(n_features)\n",
    "    pipeline = Pipeline(stages=[\n",
    "        indexer,\n",
    "        tokenizer,\n",
    "        stopword_remover,\n",
    "        tf,\n",
    "        idf,\n",
    "        chisq\n",
    "    ])\n",
    "    return pipeline"
   ]
  },
  {
   "cell_type": "code",
   "execution_count": 99,
   "id": "7e782a230d004d18",
   "metadata": {
    "ExecuteTime": {
     "end_time": "2025-04-29T15:04:53.501032800Z",
     "start_time": "2025-04-29T15:04:44.431678300Z"
    },
    "collapsed": false,
    "jupyter": {
     "outputs_hidden": false
    }
   },
   "outputs": [
    {
     "name": "stderr",
     "output_type": "stream",
     "text": [
      "                                                                                "
     ]
    },
    {
     "name": "stdout",
     "output_type": "stream",
     "text": [
      "+-----+--------------------+\n",
      "|label|            features|\n",
      "+-----+--------------------+\n",
      "| 18.0|(2000,[2,3,7,8,35...|\n",
      "| 18.0|(2000,[0,1,3,21,3...|\n",
      "| 18.0|(2000,[4,10,174,3...|\n",
      "| 18.0|(2000,[1,3,4,9,10...|\n",
      "| 18.0|(2000,[12,29,101,...|\n",
      "+-----+--------------------+\n",
      "only showing top 5 rows\n",
      "\n"
     ]
    }
   ],
   "source": [
    "pipeline = get_pipeline(n_features=2000)\n",
    "preprocessing_pipeline = pipeline.fit(input_file)\n",
    "preprocessing_pipeline.transform(input_file).select(\"label\", \"features\").show(n=5)"
   ]
  },
  {
   "cell_type": "markdown",
   "id": "9c248123a0fdd46a",
   "metadata": {
    "collapsed": false,
    "jupyter": {
     "outputs_hidden": false
    }
   },
   "source": [
    "### Export most important tokens to file"
   ]
  },
  {
   "cell_type": "code",
   "execution_count": 100,
   "id": "2db6ff9b908acf67",
   "metadata": {
    "ExecuteTime": {
     "end_time": "2025-04-29T15:04:53.502030400Z",
     "start_time": "2025-04-29T15:04:53.495018100Z"
    },
    "collapsed": false,
    "jupyter": {
     "outputs_hidden": false
    }
   },
   "outputs": [],
   "source": [
    "def get_top_terms_from_pipeline(pipeline):\n",
    "    n = len(pipeline.stages[5].selectedFeatures)\n",
    "\n",
    "\n",
    "    vocab = pipeline.stages[3].vocabulary.copy()\n",
    "    top_words = \" \".join(sorted([vocab[i] for i in pipeline.stages[5].selectedFeatures]))\n",
    "    \n",
    "    with open(\"output_ds.txt\", \"w\") as f:\n",
    "        f.write(top_words)\n",
    "        \n",
    "    return n"
   ]
  },
  {
   "cell_type": "code",
   "execution_count": 101,
   "id": "a16d8f0f587ffeb3",
   "metadata": {
    "ExecuteTime": {
     "end_time": "2025-04-29T15:04:53.704594400Z",
     "start_time": "2025-04-29T15:04:53.502030400Z"
    },
    "collapsed": false,
    "jupyter": {
     "outputs_hidden": false
    }
   },
   "outputs": [
    {
     "data": {
      "text/plain": [
       "2000"
      ]
     },
     "execution_count": 101,
     "metadata": {},
     "output_type": "execute_result"
    }
   ],
   "source": [
    "get_top_terms_from_pipeline(preprocessing_pipeline)"
   ]
  },
  {
   "cell_type": "markdown",
   "id": "aad6541e9575ab6c",
   "metadata": {
    "collapsed": false,
    "jupyter": {
     "outputs_hidden": false
    }
   },
   "source": [
    "# Part 3"
   ]
  },
  {
   "cell_type": "markdown",
   "id": "6b5467ae-0ae8-4faf-9a62-8befd0681fd3",
   "metadata": {},
   "source": [
    "For this part we create a svm classifier to predict the categories based on their review text. "
   ]
  },
  {
   "cell_type": "markdown",
   "id": "d758a0f0-d8c1-4bd4-aa43-8f3360b20bdf",
   "metadata": {},
   "source": [
    "First we import the necessary libraries from pyspark,..."
   ]
  },
  {
   "cell_type": "code",
   "execution_count": 102,
   "id": "e25aedd3-59d5-4053-8be2-eaf02960fc2f",
   "metadata": {},
   "outputs": [],
   "source": [
    "from pyspark.ml.classification import LinearSVC, OneVsRest\n",
    "from pyspark.ml.evaluation import MulticlassClassificationEvaluator\n",
    "from pyspark.ml.tuning import ParamGridBuilder, CrossValidator\n",
    "from pyspark.ml.tuning import ParamGridBuilder, TrainValidationSplit\n",
    "\n",
    "import time \n",
    "from datetime import datetime\n",
    "\n",
    "#to ignore the warning messages coming from the parameter grid search when training tvs\n",
    "spark.sparkContext.setLogLevel(\"ERROR\")"
   ]
  },
  {
   "cell_type": "markdown",
   "id": "9a30778d-126c-41fc-a15f-de31dc50da52",
   "metadata": {},
   "source": [
    "Now we add the needed steps for our pipeline, starting with a normalizer with L2 norm by using p=2"
   ]
  },
  {
   "cell_type": "code",
   "execution_count": null,
   "id": "c60f7ee5-bdc8-4e07-89fe-30ed20912944",
   "metadata": {},
   "outputs": [],
   "source": [
    "#Normalizer using features from the ChiSquare step and output should be the normalized features\n",
    "normalizer = Normalizer(inputCol=\"features\", outputCol=\"norm_features\", p =2)\n"
   ]
  },
  {
   "cell_type": "markdown",
   "id": "da2a03b3-c481-4b43-ab6b-514358500b61",
   "metadata": {},
   "source": [
    "Next we create the classifier and add One-vs-Rest since SVM is only binary and we have a multi-class-problem. For further explanation on why OVR is used see the report. "
   ]
  },
  {
   "cell_type": "code",
   "execution_count": null,
   "id": "34744f28-6b07-45d4-8508-1c1c6d087a5d",
   "metadata": {},
   "outputs": [],
   "source": [
    "#SVM uses the normalized features and the created label from the indexer\n",
    "svm = LinearSVC(labelCol=\"label\", featuresCol=\"norm_features\")\n",
    "ovr = OneVsRest(classifier=svm, labelCol=\"label\", featuresCol=\"norm_features\")"
   ]
  },
  {
   "cell_type": "markdown",
   "id": "3cf440a3-fd88-4ca0-93eb-94f5b082a05f",
   "metadata": {},
   "source": [
    "Now we create the get_full_pipeline function to be able to switch between used features. "
   ]
  },
  {
   "cell_type": "code",
   "execution_count": null,
   "id": "9e433fae-1b3c-4c4e-bd68-be61c5f81464",
   "metadata": {},
   "outputs": [],
   "source": [
    "#Pipeline with additional normalization and SVM with OVR \n",
    "def get_full_pipeline(n_features=2000):\n",
    "    chisq.setNumTopFeatures(n_features)\n",
    "    full_pipeline = Pipeline(stages=[\n",
    "    indexer,\n",
    "    tokenizer,\n",
    "    stopword_remover,\n",
    "    tf,\n",
    "    idf,\n",
    "    chisq,\n",
    "    normalizer,\n",
    "    ovr\n",
    "    ])\n",
    "    return full_pipeline"
   ]
  },
  {
   "cell_type": "markdown",
   "id": "b4f4cca1-30d0-45a5-a8bd-ecf4cb17508c",
   "metadata": {},
   "source": [
    "Now we create the parameter grid to compare the input parameters for SVM to get the best performing model based on F1-Score. "
   ]
  },
  {
   "cell_type": "code",
   "execution_count": null,
   "id": "25877222-5b72-4b6c-8280-17b3a0b4ff62",
   "metadata": {},
   "outputs": [],
   "source": [
    "paramGrid = (ParamGridBuilder()\n",
    "    .addGrid(svm.regParam, [0.01, 0.1, 1.0])\n",
    "    .addGrid(svm.maxIter, [10, 100])\n",
    "    .addGrid(svm.standardization, [True, False])\n",
    "    .build()\n",
    ")"
   ]
  },
  {
   "cell_type": "markdown",
   "id": "455d3c30-a17c-488b-b229-54bd77e781b2",
   "metadata": {},
   "source": [
    "Now we split the input data into training and test (we also had to desample the input file, since otherwise the training of the classifier in combination with the parameter grid would take too long). We decided to use 30% of the input data, since with this split we get a good ratio between computing time and sample size. \n",
    "\n",
    "Here we dont split the data into training and validation since this will be done automaticall in the function TrainValidationSplit. "
   ]
  },
  {
   "cell_type": "code",
   "execution_count": 115,
   "id": "cb3a170f-b32c-4dfa-8b6e-dbd4ec860819",
   "metadata": {},
   "outputs": [],
   "source": [
    "# Splitting dataset \n",
    "devset_sample, devset_rest = input_file.randomSplit([0.3,0.7], seed = 1234)\n",
    "train_data, test_data = devset_sample.randomSplit([0.8, 0.2], seed=1234)"
   ]
  },
  {
   "cell_type": "code",
   "execution_count": 116,
   "id": "2c2402de-121c-47ab-9719-bff4167ddd1b",
   "metadata": {},
   "outputs": [
    {
     "name": "stdout",
     "output_type": "stream",
     "text": [
      "used data for modeling has 23665 rows\n",
      "training data has 18905 rows\n"
     ]
    }
   ],
   "source": [
    "print(f\"used data for modeling has {devset_sample.count()} rows\")\n",
    "print(f\"training data has {train_data.count()} rows\")\n",
    "print(f\" so {train_data.count() * 0.2} rows will be used for validation\")"
   ]
  },
  {
   "cell_type": "markdown",
   "id": "31d176eb-6cdb-45a2-8e09-e0b3a954091e",
   "metadata": {},
   "source": [
    "Lastly we need an evaluator with F1-metric."
   ]
  },
  {
   "cell_type": "code",
   "execution_count": 117,
   "id": "7ac89ad6-a7d7-4c12-8d96-7088a8524ea9",
   "metadata": {},
   "outputs": [],
   "source": [
    "# Evaluator\n",
    "evaluator = MulticlassClassificationEvaluator(labelCol=\"label\", predictionCol=\"prediction\", metricName=\"f1\")"
   ]
  },
  {
   "cell_type": "markdown",
   "id": "095dc65e-c4da-4dd8-9b0a-af242f6da0bf",
   "metadata": {},
   "source": [
    "## Model with 2000 features "
   ]
  },
  {
   "cell_type": "markdown",
   "id": "884eaafa-98dd-4725-8465-efa9eeb15d7a",
   "metadata": {},
   "source": [
    "Now we train the model using the top 2000 features. We start with getting the full pipeline with n_features = 2000."
   ]
  },
  {
   "cell_type": "code",
   "execution_count": 118,
   "id": "ac043ffe-4c9e-4bdf-9686-50f067d00f6e",
   "metadata": {},
   "outputs": [],
   "source": [
    "#Full pipeline with 2000 features\n",
    "full_pipeline = get_full_pipeline(n_features=2000)\n"
   ]
  },
  {
   "cell_type": "markdown",
   "id": "6b948be8-2587-48a0-a739-dd7273458bc7",
   "metadata": {},
   "source": [
    "Now we set up the TrainValidationSplit setup for the computation later on. Here we predefined that we use 80% of the data for training and the remaining 20% for validation for parameter decision."
   ]
  },
  {
   "cell_type": "code",
   "execution_count": 119,
   "id": "e589e066-0305-4c2e-8bb1-a07432b89d6c",
   "metadata": {},
   "outputs": [],
   "source": [
    "# TrainValidationSplit Setup\n",
    "tvs = TrainValidationSplit(\n",
    "    estimator=full_pipeline,\n",
    "    estimatorParamMaps=paramGrid,\n",
    "    evaluator=evaluator,\n",
    "    trainRatio=0.8,\n",
    "    parallelism=50\n",
    ")\n"
   ]
  },
  {
   "cell_type": "code",
   "execution_count": 120,
   "id": "b19a159b-804f-45fe-977c-8ea343a59c9a",
   "metadata": {},
   "outputs": [
    {
     "name": "stdout",
     "output_type": "stream",
     "text": [
      "starting at 2025-05-12 13:42:44\n"
     ]
    },
    {
     "name": "stderr",
     "output_type": "stream",
     "text": [
      "                                                                                "
     ]
    },
    {
     "name": "stdout",
     "output_type": "stream",
     "text": [
      "fit_time=3165.2696483135223\n"
     ]
    }
   ],
   "source": [
    "# Training with 2000 features \n",
    "start_time = time.time()\n",
    "start_time_readable = datetime.fromtimestamp(start_time).strftime('%Y-%m-%d %H:%M:%S')\n",
    "print(f\"starting at {start_time_readable}\") \n",
    "tvs_model = tvs.fit(train_data)\n",
    "fit_time = time.time() - start_time\n",
    "print(f'fit_time={fit_time}')"
   ]
  },
  {
   "cell_type": "code",
   "execution_count": null,
   "id": "fef068f4-16bf-43da-89fc-5774ae63ab35",
   "metadata": {},
   "outputs": [],
   "source": []
  },
  {
   "cell_type": "code",
   "execution_count": null,
   "id": "96a09b08-cf8c-4f66-91cf-e9196ea9eeea",
   "metadata": {},
   "outputs": [],
   "source": []
  },
  {
   "cell_type": "code",
   "execution_count": null,
   "id": "ca7b52fe-2649-48ab-8f2d-c81957485350",
   "metadata": {},
   "outputs": [],
   "source": []
  },
  {
   "cell_type": "code",
   "execution_count": null,
   "id": "86142489-bc4e-46bf-8fdf-c40398308342",
   "metadata": {},
   "outputs": [],
   "source": []
  },
  {
   "cell_type": "code",
   "execution_count": null,
   "id": "6b6a375b-b023-4d79-8032-2d5cd4dfdd8f",
   "metadata": {},
   "outputs": [],
   "source": [
    "#fit_time=3726.6424901485443 bei 20 parallelism\n",
    "#fit_time=2063.811951637268 bei 50 parallelism \n",
    "#fit_time=2226.436852455139 bei 100 \n",
    "#fit_time=3263.985917568207 bei 50 parallelism und 30% von devset "
   ]
  },
  {
   "cell_type": "code",
   "execution_count": 121,
   "id": "8491245d-fc75-4df1-9ccd-9a4f6dadce2d",
   "metadata": {},
   "outputs": [],
   "source": [
    "# Evaluation\n",
    "test_predictions = tvs_model.transform(test_data)"
   ]
  },
  {
   "cell_type": "code",
   "execution_count": 122,
   "id": "23c15966-1357-40bd-9357-6650c326c14a",
   "metadata": {},
   "outputs": [],
   "source": [
    "best_model = tvs_model.bestModel"
   ]
  },
  {
   "cell_type": "code",
   "execution_count": 123,
   "id": "8420f217-2ee0-49ca-b5b2-424f5fb225fa",
   "metadata": {},
   "outputs": [
    {
     "name": "stdout",
     "output_type": "stream",
     "text": [
      "Best model:\n",
      "  regParam:        0.1\n",
      "  maxIter:         100\n",
      "  standardization: True\n"
     ]
    }
   ],
   "source": [
    "ovr_model = best_model.stages[-1] \n",
    "best_svm_model = ovr_model.getClassifier()\n",
    "\n",
    "# Show Parameters\n",
    "print(\"Best model:\")\n",
    "print(f\"  regParam:        {best_svm_model.getRegParam()}\")\n",
    "print(f\"  maxIter:         {best_svm_model.getMaxIter()}\")\n",
    "print(f\"  standardization: {best_svm_model.getStandardization()}\")"
   ]
  },
  {
   "cell_type": "code",
   "execution_count": 124,
   "id": "a656eb4d-5362-48eb-8f02-9c122f648686",
   "metadata": {},
   "outputs": [
    {
     "name": "stderr",
     "output_type": "stream",
     "text": [
      "[Stage 245773:===========================>                          (1 + 1) / 2]"
     ]
    },
    {
     "name": "stdout",
     "output_type": "stream",
     "text": [
      "Validation f1: 0.5712\n",
      "Test f1: 0.5680\n"
     ]
    },
    {
     "name": "stderr",
     "output_type": "stream",
     "text": [
      "                                                                                "
     ]
    }
   ],
   "source": [
    "test_f1 = evaluator.evaluate(test_predictions)\n",
    "\n",
    "print(f\"Test f1: {test_f1:.4f}\")"
   ]
  },
  {
   "cell_type": "markdown",
   "id": "86b65d98-0e1e-49c7-b1ac-49f411900ebe",
   "metadata": {},
   "source": [
    "Validation f1: 0.5712\n",
    "Test f1: 0.5680"
   ]
  },
  {
   "cell_type": "markdown",
   "id": "b480f833-71da-405b-a83b-49225559847c",
   "metadata": {},
   "source": [
    "## Model with 500 features"
   ]
  },
  {
   "cell_type": "markdown",
   "id": "7922d112-8f4a-42b5-abd8-23fc7ad203e0",
   "metadata": {},
   "source": [
    "Now we do the same with only 500 features"
   ]
  },
  {
   "cell_type": "code",
   "execution_count": 125,
   "id": "5f6a0dee-5896-4106-9021-275795c7b54e",
   "metadata": {},
   "outputs": [],
   "source": [
    "full_pipeline_500 = get_full_pipeline(n_features=500)"
   ]
  },
  {
   "cell_type": "code",
   "execution_count": 126,
   "id": "27c99bd3-08b2-4842-9178-56f1d9b39790",
   "metadata": {},
   "outputs": [],
   "source": [
    "# TrainValidationSplit Setup\n",
    "tvs_500 = TrainValidationSplit(\n",
    "    estimator=full_pipeline_500,\n",
    "    estimatorParamMaps=paramGrid,\n",
    "    evaluator=evaluator,\n",
    "    trainRatio=0.8,\n",
    "    parallelism=50\n",
    ")\n"
   ]
  },
  {
   "cell_type": "code",
   "execution_count": 127,
   "id": "a1dbc760-c47c-4d13-bbe5-39e1d768d549",
   "metadata": {},
   "outputs": [
    {
     "name": "stdout",
     "output_type": "stream",
     "text": [
      "starting at 2025-05-12 15:03:45\n"
     ]
    },
    {
     "name": "stderr",
     "output_type": "stream",
     "text": [
      "                                                                                "
     ]
    },
    {
     "name": "stdout",
     "output_type": "stream",
     "text": [
      "fit_time=3314.2471628189087\n"
     ]
    }
   ],
   "source": [
    "# Training with 500 features \n",
    "start_time = time.time()\n",
    "start_time_readable = datetime.fromtimestamp(start_time).strftime('%Y-%m-%d %H:%M:%S')\n",
    "print(f\"starting at {start_time_readable}\") \n",
    "tvs_model_500 = tvs_500.fit(train_data)\n",
    "fit_time = time.time() - start_time\n",
    "print(f'fit_time={fit_time}')"
   ]
  },
  {
   "cell_type": "code",
   "execution_count": 128,
   "id": "be1b1dfd-0862-4c81-a600-76951ff8e811",
   "metadata": {},
   "outputs": [],
   "source": [
    "# Evaluation\n",
    "test_predictions_500 = tvs_model_500.transform(test_data)"
   ]
  },
  {
   "cell_type": "code",
   "execution_count": 129,
   "id": "bcdb1088-d26e-40e2-9c0f-3f512959e2cb",
   "metadata": {},
   "outputs": [],
   "source": [
    "best_model_500 = tvs_model_500.bestModel"
   ]
  },
  {
   "cell_type": "code",
   "execution_count": 130,
   "id": "40d9c1a8-f8b9-4727-b920-62dbf88656ce",
   "metadata": {},
   "outputs": [
    {
     "name": "stdout",
     "output_type": "stream",
     "text": [
      "Best model:\n",
      "  regParam:        0.01\n",
      "  maxIter:         10\n",
      "  standardization: True\n"
     ]
    }
   ],
   "source": [
    "ovr_model_500 = best_model_500.stages[-1] \n",
    "best_svm_model_500 = ovr_model_500.getClassifier()\n",
    "\n",
    "# Show best parameters\n",
    "print(\"Best model:\")\n",
    "print(f\"  regParam:        {best_svm_model_500.getRegParam()}\")\n",
    "print(f\"  maxIter:         {best_svm_model_500.getMaxIter()}\")\n",
    "print(f\"  standardization: {best_svm_model_500.getStandardization()}\")"
   ]
  },
  {
   "cell_type": "code",
   "execution_count": 131,
   "id": "17b830d0-b920-4818-9a7e-125e646053e3",
   "metadata": {},
   "outputs": [
    {
     "name": "stderr",
     "output_type": "stream",
     "text": [
      "[Stage 282330:>                                                     (0 + 2) / 2]"
     ]
    },
    {
     "name": "stdout",
     "output_type": "stream",
     "text": [
      "Test f1: 0.4944\n"
     ]
    },
    {
     "name": "stderr",
     "output_type": "stream",
     "text": [
      "                                                                                "
     ]
    }
   ],
   "source": [
    "test_f1_500 = evaluator.evaluate(test_predictions_500)\n",
    "\n",
    "print(f\"Test f1: {test_f1_500:.4f}\")"
   ]
  },
  {
   "cell_type": "code",
   "execution_count": null,
   "id": "f511ef4e-0a80-4d31-83ea-ee07ada429fc",
   "metadata": {},
   "outputs": [],
   "source": []
  },
  {
   "cell_type": "markdown",
   "id": "b96a1922-4800-477a-8449-e6941aef48fb",
   "metadata": {},
   "source": [
    "### Additional part only for Report "
   ]
  },
  {
   "cell_type": "markdown",
   "id": "b1f99cd7-ffae-422c-bed0-a88476601224",
   "metadata": {},
   "source": [
    "This part is only used for comparison of different parameters, in finished code this should be commented "
   ]
  },
  {
   "cell_type": "code",
   "execution_count": null,
   "id": "ee1e7630-e743-4282-8e24-8c65758f6181",
   "metadata": {},
   "outputs": [
    {
     "name": "stderr",
     "output_type": "stream",
     "text": [
      "                                                                                "
     ]
    },
    {
     "name": "stdout",
     "output_type": "stream",
     "text": [
      "Param-Kombi:\n",
      "  regParam: 0.01\n",
      "  maxIter: 10\n",
      "  standardization: True\n",
      "  → F1-Score: 0.5183\n",
      "\n"
     ]
    },
    {
     "name": "stderr",
     "output_type": "stream",
     "text": [
      "                                                                                "
     ]
    },
    {
     "name": "stdout",
     "output_type": "stream",
     "text": [
      "Param-Kombi:\n",
      "  regParam: 0.01\n",
      "  maxIter: 10\n",
      "  standardization: False\n",
      "  → F1-Score: 0.5179\n",
      "\n"
     ]
    },
    {
     "name": "stderr",
     "output_type": "stream",
     "text": [
      "                                                                                "
     ]
    },
    {
     "name": "stdout",
     "output_type": "stream",
     "text": [
      "Param-Kombi:\n",
      "  regParam: 0.01\n",
      "  maxIter: 100\n",
      "  standardization: True\n",
      "  → F1-Score: 0.5135\n",
      "\n"
     ]
    },
    {
     "name": "stderr",
     "output_type": "stream",
     "text": [
      "[Stage 295360:>                                                     (0 + 2) / 2]"
     ]
    }
   ],
   "source": [
    "#for protocoll to see how the different settings perform \n",
    "#evaluator = MulticlassClassificationEvaluator(labelCol=\"label\", predictionCol=\"prediction\", metricName=\"f1\")\n",
    "#results = []\n",
    "# Loop über alle Parameterkombinationen\n",
    "#for params in paramGrid:\n",
    "    # Setze die Parameter im SVM-Objekt\n",
    "#    for param, value in params.items():\n",
    "#        svm._set(**{param.name: value})\n",
    "\n",
    "    # Pipeline neu aufbauen mit aktuellem SVM\n",
    "#    current_pipeline = full_pipeline.copy()\n",
    "#    current_pipeline.setStages(full_pipeline.getStages()[:-1] + [OneVsRest(classifier=svm)])\n",
    "\n",
    "    # Trainiere das Modell\n",
    "#    model = current_pipeline.fit(train_data)\n",
    "\n",
    "    # Vorhersage auf Validierungsdaten\n",
    "#    predictions = model.transform(val_data)\n",
    "\n",
    "    # F1-Score berechnen\n",
    "#    f1 = evaluator.evaluate(predictions)\n",
    "\n",
    "    # Parameter & Score speichern\n",
    "#    results.append((params, f1))\n",
    "\n",
    "    # Ausgabe\n",
    "#    print(\"Param-Kombi:\")\n",
    "#    for p, v in params.items():\n",
    "#        print(f\"  {p.name}: {v}\")\n",
    "#    print(f\"  → F1-Score: {f1:.4f}\\n\")"
   ]
  },
  {
   "cell_type": "code",
   "execution_count": null,
   "id": "46e0eb00-5624-44b5-ac4e-f8f35d2380b2",
   "metadata": {},
   "outputs": [],
   "source": [
    "#best_params, best_f1 = max(results, key=lambda x: x[1])\n",
    "#print(f\"Best combination → F1: {best_f1:.4f}\")\n",
    "#for p, v in best_params.items():\n",
    "#    print(f\"{p.name}: {v}\")"
   ]
  }
 ],
 "metadata": {
  "kernelspec": {
   "display_name": "Python 3 (LLM)",
   "language": "python",
   "name": "python3_llm"
  },
  "language_info": {
   "codemirror_mode": {
    "name": "ipython",
    "version": 3
   },
   "file_extension": ".py",
   "mimetype": "text/x-python",
   "name": "python",
   "nbconvert_exporter": "python",
   "pygments_lexer": "ipython3",
   "version": "3.9.20"
  }
 },
 "nbformat": 4,
 "nbformat_minor": 5
}
