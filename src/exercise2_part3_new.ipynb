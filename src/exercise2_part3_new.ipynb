{
 "cells": [
  {
   "cell_type": "markdown",
   "id": "6001bd1cd5bbeecc",
   "metadata": {
    "collapsed": false,
    "jupyter": {
     "outputs_hidden": false
    }
   },
   "source": [
    "#### DiC Assignment 2\n",
    "\n",
    "Group 6\n",
    "Members:\n",
    " Theresa Mayer\n",
    " Theresa Brucker\n",
    " Jan Tölken\n",
    " Can Kenan Kandil \n",
    " Thomas Klar\n"
   ]
  },
  {
   "cell_type": "markdown",
   "id": "8a0df0004ee49a7c",
   "metadata": {
    "collapsed": false,
    "jupyter": {
     "outputs_hidden": false
    }
   },
   "source": [
    "## Part 1"
   ]
  },
  {
   "cell_type": "code",
   "execution_count": null,
   "id": "a7eaeda76730d351",
   "metadata": {
    "ExecuteTime": {
     "end_time": "2025-04-29T15:03:33.421474600Z",
     "start_time": "2025-04-29T15:03:33.323946700Z"
    },
    "collapsed": false,
    "jupyter": {
     "outputs_hidden": false
    }
   },
   "outputs": [],
   "source": []
  },
  {
   "cell_type": "markdown",
   "id": "fb7e8356017720c9",
   "metadata": {
    "collapsed": false,
    "jupyter": {
     "outputs_hidden": false
    }
   },
   "source": [
    "## Part 2"
   ]
  },
  {
   "cell_type": "code",
   "execution_count": 1,
   "id": "3dd56b41-bc17-4cd5-b924-e15b1af2b16c",
   "metadata": {},
   "outputs": [],
   "source": [
    "import os\n",
    "import sys\n",
    "\n",
    "#os.environ['PYSPARK_PYTHON'] = sys.executable\n",
    "#os.environ['PYSPARK_DRIVER_PYTHON'] = sys.executable"
   ]
  },
  {
   "cell_type": "code",
   "execution_count": 2,
   "id": "initial_id",
   "metadata": {
    "ExecuteTime": {
     "end_time": "2025-04-29T15:03:34.296920900Z",
     "start_time": "2025-04-29T15:03:33.431494700Z"
    }
   },
   "outputs": [],
   "source": [
    "from pyspark.ml import Pipeline\n",
    "from pyspark.ml.feature import RegexTokenizer, StopWordsRemover, IDF, ChiSqSelector, IndexToString, StringIndexer, CountVectorizer, Normalizer\n",
    "from pyspark.sql import SparkSession"
   ]
  },
  {
   "cell_type": "code",
   "execution_count": 3,
   "id": "cd89c21ff4105670",
   "metadata": {
    "ExecuteTime": {
     "end_time": "2025-04-29T15:03:42.848449300Z",
     "start_time": "2025-04-29T15:03:34.296920900Z"
    },
    "collapsed": false,
    "jupyter": {
     "outputs_hidden": false
    }
   },
   "outputs": [
    {
     "name": "stderr",
     "output_type": "stream",
     "text": [
      "SLF4J: Class path contains multiple SLF4J bindings.\n"
     ]
    },
    {
     "name": "stdout",
     "output_type": "stream",
     "text": [
      "25/05/11 09:20:39 WARN Utils: Service 'SparkUI' could not bind on port 4040. Attempting port 4041.\n"
     ]
    }
   ],
   "source": [
    "spark = SparkSession.builder.appName(\"Assignment2\").getOrCreate()"
   ]
  },
  {
   "cell_type": "code",
   "execution_count": null,
   "id": "2350079a-bbc3-41c7-acab-85082c7b4014",
   "metadata": {},
   "outputs": [],
   "source": []
  },
  {
   "cell_type": "code",
   "execution_count": 4,
   "id": "e7b1f20b244ab0a3",
   "metadata": {
    "ExecuteTime": {
     "end_time": "2025-04-29T15:03:48.146028200Z",
     "start_time": "2025-04-29T15:03:42.852449100Z"
    },
    "collapsed": false,
    "jupyter": {
     "outputs_hidden": false
    }
   },
   "outputs": [],
   "source": [
    "path = \"hdfs:///user/dic25_shared/amazon-reviews/full/reviews_devset.json\"\n",
    "input_file = spark.read.format(\"json\").load(path).select(\"category\", \"reviewText\")"
   ]
  },
  {
   "cell_type": "code",
   "execution_count": 5,
   "id": "e3b86ac2dbe88c0e",
   "metadata": {
    "ExecuteTime": {
     "end_time": "2025-04-29T15:03:48.531400800Z",
     "start_time": "2025-04-29T15:03:48.150021Z"
    },
    "collapsed": false,
    "jupyter": {
     "outputs_hidden": false
    }
   },
   "outputs": [
    {
     "name": "stdout",
     "output_type": "stream",
     "text": [
      "+--------------------+--------------------+\n",
      "|            category|          reviewText|\n",
      "+--------------------+--------------------+\n",
      "|Patio_Lawn_and_Garde|This was a gift f...|\n",
      "|Patio_Lawn_and_Garde|This is a very ni...|\n",
      "|Patio_Lawn_and_Garde|The metal base wi...|\n",
      "|Patio_Lawn_and_Garde|For the most part...|\n",
      "|Patio_Lawn_and_Garde|This hose is supp...|\n",
      "+--------------------+--------------------+\n",
      "only showing top 5 rows\n",
      "\n"
     ]
    }
   ],
   "source": [
    "input_file.show(n=5)"
   ]
  },
  {
   "cell_type": "markdown",
   "id": "386773c21dd2c42f",
   "metadata": {
    "collapsed": false,
    "jupyter": {
     "outputs_hidden": false
    }
   },
   "source": [
    "### Label Encoding"
   ]
  },
  {
   "cell_type": "code",
   "execution_count": 6,
   "id": "f74a275212c51ff1",
   "metadata": {
    "ExecuteTime": {
     "end_time": "2025-04-29T15:03:51.030898900Z",
     "start_time": "2025-04-29T15:03:48.522400600Z"
    },
    "collapsed": false,
    "jupyter": {
     "outputs_hidden": false
    }
   },
   "outputs": [],
   "source": [
    "indexer = StringIndexer(inputCol=\"category\", outputCol=\"label\")\n",
    "indexModel = indexer.fit(input_file)\n",
    "input_file_1 = indexModel.transform(input_file)"
   ]
  },
  {
   "cell_type": "code",
   "execution_count": 7,
   "id": "91dbb482ceee28c8",
   "metadata": {
    "ExecuteTime": {
     "end_time": "2025-04-29T15:03:51.564745200Z",
     "start_time": "2025-04-29T15:03:51.036907300Z"
    },
    "collapsed": false,
    "jupyter": {
     "outputs_hidden": false
    }
   },
   "outputs": [
    {
     "name": "stdout",
     "output_type": "stream",
     "text": [
      "+--------------------+--------------------+-----+--------------------+\n",
      "|            category|          reviewText|label|  category_reindexed|\n",
      "+--------------------+--------------------+-----+--------------------+\n",
      "|Patio_Lawn_and_Garde|This was a gift f...| 18.0|Patio_Lawn_and_Garde|\n",
      "|Patio_Lawn_and_Garde|This is a very ni...| 18.0|Patio_Lawn_and_Garde|\n",
      "|Patio_Lawn_and_Garde|The metal base wi...| 18.0|Patio_Lawn_and_Garde|\n",
      "|Patio_Lawn_and_Garde|For the most part...| 18.0|Patio_Lawn_and_Garde|\n",
      "|Patio_Lawn_and_Garde|This hose is supp...| 18.0|Patio_Lawn_and_Garde|\n",
      "+--------------------+--------------------+-----+--------------------+\n",
      "only showing top 5 rows\n",
      "\n"
     ]
    }
   ],
   "source": [
    "reindexer = IndexToString(inputCol=indexer.getOutputCol(), outputCol=\"category_reindexed\")\n",
    "reindexer.transform(input_file_1).show(n=5)"
   ]
  },
  {
   "cell_type": "markdown",
   "id": "3de1257a194d0d98",
   "metadata": {
    "collapsed": false,
    "jupyter": {
     "outputs_hidden": false
    }
   },
   "source": [
    "### Tokenization"
   ]
  },
  {
   "cell_type": "code",
   "execution_count": 8,
   "id": "86f44a30b94fde24",
   "metadata": {
    "ExecuteTime": {
     "end_time": "2025-04-29T15:04:21.275649700Z",
     "start_time": "2025-04-29T15:04:21.250638500Z"
    },
    "collapsed": false,
    "jupyter": {
     "outputs_hidden": false
    }
   },
   "outputs": [],
   "source": [
    "tokenizer = RegexTokenizer(inputCol='reviewText', outputCol='tokens', pattern=r\"[ \\t\\d(){}\\[\\].!?;:,\\-=\\\"~#@&*%€$§\\\\'\\n\\r\\/]+\", minTokenLength=2, toLowercase=True)"
   ]
  },
  {
   "cell_type": "code",
   "execution_count": 9,
   "id": "73744aba0411c769",
   "metadata": {
    "ExecuteTime": {
     "end_time": "2025-04-29T15:04:24.440250Z",
     "start_time": "2025-04-29T15:04:23.912453900Z"
    },
    "collapsed": false,
    "jupyter": {
     "outputs_hidden": false
    }
   },
   "outputs": [
    {
     "name": "stdout",
     "output_type": "stream",
     "text": [
      "+--------------------+--------------------+-----+--------------------+\n",
      "|            category|          reviewText|label|              tokens|\n",
      "+--------------------+--------------------+-----+--------------------+\n",
      "|Patio_Lawn_and_Garde|This was a gift f...| 18.0|[this, was, gift,...|\n",
      "|Patio_Lawn_and_Garde|This is a very ni...| 18.0|[this, is, very, ...|\n",
      "|Patio_Lawn_and_Garde|The metal base wi...| 18.0|[the, metal, base...|\n",
      "|Patio_Lawn_and_Garde|For the most part...| 18.0|[for, the, most, ...|\n",
      "|Patio_Lawn_and_Garde|This hose is supp...| 18.0|[this, hose, is, ...|\n",
      "+--------------------+--------------------+-----+--------------------+\n",
      "only showing top 5 rows\n",
      "\n"
     ]
    }
   ],
   "source": [
    "input_2 = tokenizer.transform(input_file_1)\n",
    "input_2.show(n=5)"
   ]
  },
  {
   "cell_type": "code",
   "execution_count": 10,
   "id": "a2efd271-933d-4595-8e9c-9a6a332b59d0",
   "metadata": {},
   "outputs": [
    {
     "name": "stdout",
     "output_type": "stream",
     "text": [
      "/home/e01609010/Exercise_2\n"
     ]
    }
   ],
   "source": [
    "import os\n",
    "print(os.getcwd())"
   ]
  },
  {
   "cell_type": "markdown",
   "id": "2809b821557c1231",
   "metadata": {
    "collapsed": false,
    "jupyter": {
     "outputs_hidden": false
    }
   },
   "source": [
    "### Stopword Removal"
   ]
  },
  {
   "cell_type": "code",
   "execution_count": 11,
   "id": "8a7de5f2412c7f14",
   "metadata": {
    "ExecuteTime": {
     "end_time": "2025-04-29T15:04:27.557741600Z",
     "start_time": "2025-04-29T15:04:27.538762400Z"
    },
    "collapsed": false,
    "jupyter": {
     "outputs_hidden": false
    }
   },
   "outputs": [],
   "source": [
    "stopword_file = \"stopwords.txt\"\n",
    "with open(stopword_file, 'r', encoding='utf-8') as f:\n",
    "    # Strip whitespace and convert to lowercase\n",
    "    stopwords = [line.strip() for line in f]"
   ]
  },
  {
   "cell_type": "code",
   "execution_count": 12,
   "id": "eff2476bc98647e2",
   "metadata": {
    "ExecuteTime": {
     "end_time": "2025-04-29T15:04:27.913262900Z",
     "start_time": "2025-04-29T15:04:27.794292900Z"
    },
    "collapsed": false,
    "jupyter": {
     "outputs_hidden": false
    }
   },
   "outputs": [],
   "source": [
    "stopword_remover = StopWordsRemover(inputCol=tokenizer.getOutputCol(), \n",
    "                                    outputCol=\"tokens_nostop\",\n",
    "                                    stopWords=stopwords)"
   ]
  },
  {
   "cell_type": "code",
   "execution_count": 13,
   "id": "1ae56d94bfefafe0",
   "metadata": {
    "ExecuteTime": {
     "end_time": "2025-04-29T15:04:28.479942600Z",
     "start_time": "2025-04-29T15:04:27.985933700Z"
    },
    "collapsed": false,
    "jupyter": {
     "outputs_hidden": false
    }
   },
   "outputs": [
    {
     "name": "stdout",
     "output_type": "stream",
     "text": [
      "+--------------------+--------------------+\n",
      "|              tokens|       tokens_nostop|\n",
      "+--------------------+--------------------+\n",
      "|[this, was, gift,...|[gift, husband, m...|\n",
      "|[this, is, very, ...|[nice, spreader, ...|\n",
      "|[the, metal, base...|[metal, base, hos...|\n",
      "|[for, the, most, ...|[part, works, pre...|\n",
      "|[this, hose, is, ...|[hose, supposed, ...|\n",
      "+--------------------+--------------------+\n",
      "only showing top 5 rows\n",
      "\n"
     ]
    }
   ],
   "source": [
    "input_3 = stopword_remover.transform(input_2)\n",
    "input_3.select(\"tokens\", \"tokens_nostop\").show(n=5)"
   ]
  },
  {
   "cell_type": "markdown",
   "id": "a4bd4517a28d0224",
   "metadata": {
    "collapsed": false,
    "jupyter": {
     "outputs_hidden": false
    }
   },
   "source": [
    "### TF-IDF Calculation"
   ]
  },
  {
   "cell_type": "code",
   "execution_count": 14,
   "id": "520f4384afb1c02a",
   "metadata": {
    "ExecuteTime": {
     "end_time": "2025-04-29T15:04:28.481944Z",
     "start_time": "2025-04-29T15:04:28.467328200Z"
    },
    "collapsed": false,
    "jupyter": {
     "outputs_hidden": false
    }
   },
   "outputs": [],
   "source": [
    "tf = CountVectorizer(inputCol=stopword_remover.getOutputCol(), \n",
    "                      outputCol=\"tf_output\", \n",
    "                      vocabSize=40_000)"
   ]
  },
  {
   "cell_type": "code",
   "execution_count": 15,
   "id": "18f6a5940ffa4f7a",
   "metadata": {
    "ExecuteTime": {
     "end_time": "2025-04-29T15:04:28.667236400Z",
     "start_time": "2025-04-29T15:04:28.626180800Z"
    },
    "collapsed": false,
    "jupyter": {
     "outputs_hidden": false
    }
   },
   "outputs": [],
   "source": [
    "idf = IDF(inputCol=tf.getOutputCol(), \n",
    "          outputCol=\"tfidf_output\",\n",
    "          minDocFreq=4)"
   ]
  },
  {
   "cell_type": "code",
   "execution_count": 16,
   "id": "c16333ea627b73ef",
   "metadata": {
    "ExecuteTime": {
     "end_time": "2025-04-29T15:04:33.860458700Z",
     "start_time": "2025-04-29T15:04:28.745429100Z"
    },
    "collapsed": false,
    "jupyter": {
     "outputs_hidden": false
    }
   },
   "outputs": [
    {
     "name": "stdout",
     "output_type": "stream",
     "text": [
      "+--------------------+--------------------+\n",
      "|       tokens_nostop|           tf_output|\n",
      "+--------------------+--------------------+\n",
      "|[gift, husband, m...|(40000,[2,3,7,8,3...|\n",
      "|[nice, spreader, ...|(40000,[0,1,3,21,...|\n",
      "|[metal, base, hos...|(40000,[4,10,29,1...|\n",
      "|[part, works, pre...|(40000,[1,3,4,9,1...|\n",
      "|[hose, supposed, ...|(40000,[12,32,42,...|\n",
      "+--------------------+--------------------+\n",
      "only showing top 5 rows\n",
      "\n"
     ]
    }
   ],
   "source": [
    "tfmodel = tf.fit(input_3)\n",
    "input_4 = tfmodel.transform(input_3)\n",
    "input_4.select(\"tokens_nostop\", \"tf_output\").show(n=5)"
   ]
  },
  {
   "cell_type": "code",
   "execution_count": 17,
   "id": "671b0e229579f64",
   "metadata": {
    "ExecuteTime": {
     "end_time": "2025-04-29T15:04:37.236613500Z",
     "start_time": "2025-04-29T15:04:33.850439300Z"
    },
    "collapsed": false,
    "jupyter": {
     "outputs_hidden": false
    }
   },
   "outputs": [
    {
     "name": "stdout",
     "output_type": "stream",
     "text": [
      "+--------------------+--------------------+\n",
      "|           tf_output|        tfidf_output|\n",
      "+--------------------+--------------------+\n",
      "|(40000,[2,3,7,8,3...|(40000,[2,3,7,8,3...|\n",
      "|(40000,[0,1,3,21,...|(40000,[0,1,3,21,...|\n",
      "|(40000,[4,10,29,1...|(40000,[4,10,29,1...|\n",
      "|(40000,[1,3,4,9,1...|(40000,[1,3,4,9,1...|\n",
      "|(40000,[12,32,42,...|(40000,[12,32,42,...|\n",
      "+--------------------+--------------------+\n",
      "only showing top 5 rows\n",
      "\n"
     ]
    }
   ],
   "source": [
    "idfModel = idf.fit(input_4)\n",
    "input_5 = idfModel.transform(input_4)\n",
    "input_5.select(\"tf_output\", \"tfidf_output\").show(n=5)"
   ]
  },
  {
   "cell_type": "markdown",
   "id": "687262ca63c769e8",
   "metadata": {
    "collapsed": false,
    "jupyter": {
     "outputs_hidden": false
    }
   },
   "source": [
    "### Selection of top 2000 features"
   ]
  },
  {
   "cell_type": "code",
   "execution_count": 18,
   "id": "5838bd7b13080160",
   "metadata": {
    "ExecuteTime": {
     "end_time": "2025-04-29T15:04:37.311542300Z",
     "start_time": "2025-04-29T15:04:37.228617400Z"
    },
    "collapsed": false,
    "jupyter": {
     "outputs_hidden": false
    }
   },
   "outputs": [],
   "source": [
    "chisq = ChiSqSelector(featuresCol=idf.getOutputCol(),\n",
    "                      labelCol=\"label\",\n",
    "                      outputCol=\"features\",\n",
    "                      numTopFeatures=2000)"
   ]
  },
  {
   "cell_type": "code",
   "execution_count": 19,
   "id": "e886fe30ccd73050",
   "metadata": {
    "ExecuteTime": {
     "end_time": "2025-04-29T15:04:44.431678300Z",
     "start_time": "2025-04-29T15:04:37.261549400Z"
    },
    "collapsed": false,
    "jupyter": {
     "outputs_hidden": false
    }
   },
   "outputs": [
    {
     "name": "stdout",
     "output_type": "stream",
     "text": [
      "+--------------------+\n",
      "|            features|\n",
      "+--------------------+\n",
      "|(2000,[2,3,7,8,35...|\n",
      "|(2000,[0,1,3,21,3...|\n",
      "|(2000,[4,10,174,3...|\n",
      "|(2000,[1,3,4,9,10...|\n",
      "|(2000,[12,29,101,...|\n",
      "+--------------------+\n",
      "only showing top 5 rows\n",
      "\n"
     ]
    }
   ],
   "source": [
    "chisqModel = chisq.fit(input_5)\n",
    "input_6 = chisqModel.transform(input_5)\n",
    "input_6.select(\"features\").show(n=5)"
   ]
  },
  {
   "cell_type": "markdown",
   "id": "515f5142fe2926a8",
   "metadata": {
    "collapsed": false,
    "jupyter": {
     "outputs_hidden": false
    }
   },
   "source": [
    "### Pipeline Creation"
   ]
  },
  {
   "cell_type": "code",
   "execution_count": 20,
   "id": "da44c70940813a8b",
   "metadata": {
    "ExecuteTime": {
     "end_time": "2025-04-29T15:04:44.432676200Z",
     "start_time": "2025-04-29T15:04:44.421649800Z"
    },
    "collapsed": false,
    "jupyter": {
     "outputs_hidden": false
    }
   },
   "outputs": [],
   "source": [
    "def get_pipeline(n_features=2000):\n",
    "    chisq.setNumTopFeatures(n_features)\n",
    "    pipeline = Pipeline(stages=[\n",
    "        indexer,\n",
    "        tokenizer,\n",
    "        stopword_remover,\n",
    "        tf,\n",
    "        idf,\n",
    "        chisq\n",
    "    ])\n",
    "    return pipeline"
   ]
  },
  {
   "cell_type": "code",
   "execution_count": 21,
   "id": "7e782a230d004d18",
   "metadata": {
    "ExecuteTime": {
     "end_time": "2025-04-29T15:04:53.501032800Z",
     "start_time": "2025-04-29T15:04:44.431678300Z"
    },
    "collapsed": false,
    "jupyter": {
     "outputs_hidden": false
    }
   },
   "outputs": [
    {
     "name": "stdout",
     "output_type": "stream",
     "text": [
      "+-----+--------------------+\n",
      "|label|            features|\n",
      "+-----+--------------------+\n",
      "| 18.0|(2000,[2,3,7,8,35...|\n",
      "| 18.0|(2000,[0,1,3,21,3...|\n",
      "| 18.0|(2000,[4,10,174,3...|\n",
      "| 18.0|(2000,[1,3,4,9,10...|\n",
      "| 18.0|(2000,[12,29,101,...|\n",
      "+-----+--------------------+\n",
      "only showing top 5 rows\n",
      "\n"
     ]
    }
   ],
   "source": [
    "pipeline = get_pipeline(n_features=2000)\n",
    "preprocessing_pipeline = pipeline.fit(input_file)\n",
    "preprocessing_pipeline.transform(input_file).select(\"label\", \"features\").show(n=5)"
   ]
  },
  {
   "cell_type": "markdown",
   "id": "9c248123a0fdd46a",
   "metadata": {
    "collapsed": false,
    "jupyter": {
     "outputs_hidden": false
    }
   },
   "source": [
    "### Export most important tokens to file"
   ]
  },
  {
   "cell_type": "code",
   "execution_count": 22,
   "id": "2db6ff9b908acf67",
   "metadata": {
    "ExecuteTime": {
     "end_time": "2025-04-29T15:04:53.502030400Z",
     "start_time": "2025-04-29T15:04:53.495018100Z"
    },
    "collapsed": false,
    "jupyter": {
     "outputs_hidden": false
    }
   },
   "outputs": [],
   "source": [
    "def get_top_terms_from_pipeline(pipeline):\n",
    "    n = len(pipeline.stages[5].selectedFeatures)\n",
    "\n",
    "\n",
    "    vocab = pipeline.stages[3].vocabulary.copy()\n",
    "    top_words = \" \".join(sorted([vocab[i] for i in pipeline.stages[5].selectedFeatures]))\n",
    "    \n",
    "    with open(\"output_ds.txt\", \"w\") as f:\n",
    "        f.write(top_words)\n",
    "        \n",
    "    return n"
   ]
  },
  {
   "cell_type": "code",
   "execution_count": 23,
   "id": "a16d8f0f587ffeb3",
   "metadata": {
    "ExecuteTime": {
     "end_time": "2025-04-29T15:04:53.704594400Z",
     "start_time": "2025-04-29T15:04:53.502030400Z"
    },
    "collapsed": false,
    "jupyter": {
     "outputs_hidden": false
    }
   },
   "outputs": [
    {
     "data": {
      "text/plain": [
       "2000"
      ]
     },
     "execution_count": 23,
     "metadata": {},
     "output_type": "execute_result"
    }
   ],
   "source": [
    "get_top_terms_from_pipeline(preprocessing_pipeline)"
   ]
  },
  {
   "cell_type": "markdown",
   "id": "aad6541e9575ab6c",
   "metadata": {
    "collapsed": false,
    "jupyter": {
     "outputs_hidden": false
    }
   },
   "source": [
    "# Part 3"
   ]
  },
  {
   "cell_type": "markdown",
   "id": "d758a0f0-d8c1-4bd4-aa43-8f3360b20bdf",
   "metadata": {},
   "source": [
    "Import the necessary libraries from pyspark"
   ]
  },
  {
   "cell_type": "code",
   "execution_count": 24,
   "id": "e25aedd3-59d5-4053-8be2-eaf02960fc2f",
   "metadata": {},
   "outputs": [],
   "source": [
    "from pyspark.ml.classification import LinearSVC, OneVsRest\n",
    "from pyspark.ml.evaluation import MulticlassClassificationEvaluator\n",
    "from pyspark.ml.tuning import ParamGridBuilder, CrossValidator\n",
    "import time\n",
    "#to ignore the warning messages \n",
    "spark.sparkContext.setLogLevel(\"ERROR\")"
   ]
  },
  {
   "cell_type": "markdown",
   "id": "d8d77b69-14c5-4133-81dc-5813e9618758",
   "metadata": {},
   "source": [
    "Now we split the data into training, validation and testing "
   ]
  },
  {
   "cell_type": "code",
   "execution_count": 25,
   "id": "6da834d8-c09d-46e3-b391-c4004cd885ef",
   "metadata": {},
   "outputs": [],
   "source": [
    "train_data, val_data, test_data = input_file.randomSplit([0.6,0.2,0.2], seed = 1234)"
   ]
  },
  {
   "cell_type": "markdown",
   "id": "cb9cdccd-8b18-435a-af06-e5c67caf8957",
   "metadata": {},
   "source": [
    "We want to get additional steps into the pipeline, so for that we add a normalizer, a svm and ovr "
   ]
  },
  {
   "cell_type": "code",
   "execution_count": null,
   "id": "01d71e8a-e0e9-420b-8f15-b2cee71dd33e",
   "metadata": {},
   "outputs": [],
   "source": [
    "#Normalizer \n",
    "normalizer = Normalizer(inputCol=selector.getOutputCol(), outputCol=\"norm_features\")\n",
    "\n",
    "#SVR: we will not add features, as we will compute the best option later on in CV\n",
    "svm = LinearSVC(featuresCol = \"norm_features\", output = \"norm_features\")\n",
    "\n",
    "#OVR \n",
    "ovr = OneVsRest(classifier = svm, labelCol = \"label\",featuresCol = \"norm_features\")"
   ]
  },
  {
   "cell_type": "markdown",
   "id": "18e7bb84-bfe2-41ec-919d-9efffe50bd7d",
   "metadata": {},
   "source": [
    "Now we preprocess the data with the exisiting pipeline "
   ]
  },
  {
   "cell_type": "code",
   "execution_count": null,
   "id": "e5e5e778-89ae-4f57-adbd-3acfab695e2a",
   "metadata": {},
   "outputs": [],
   "source": [
    "#pipeline = get_pipeline(n_features=2000)\n",
    "pre_model = pipeline.fit(train_data)\n",
    "# Cache the precomputed results\n",
    "preprocessed_train = pre_model.transform(train_data).cache()\n",
    "print('train done')\n",
    "preprocessed_test = pre_model.transform(test_data).cache()\n",
    "print('test done')\n",
    "preprocessed_val= pre_model.transform(val_data).cache()\n",
    "print('val done')"
   ]
  },
  {
   "cell_type": "markdown",
   "id": "87f50a47-ed9d-42bb-a10e-4aaf3f540efc",
   "metadata": {},
   "source": [
    "## Now we do cross validation"
   ]
  },
  {
   "cell_type": "code",
   "execution_count": null,
   "id": "4059ace5-3c93-4ee3-a70b-a1674f1476cb",
   "metadata": {},
   "outputs": [],
   "source": [
    "#first we create parameters for best model selection\n",
    "best_model = None\n",
    "best_f1_score = float('-inf')\n",
    "best_params = None"
   ]
  },
  {
   "cell_type": "markdown",
   "id": "3783aaf3-3305-48f7-9abd-9f3a52d60cf1",
   "metadata": {},
   "source": [
    "We create the cross validation grid to compare the specific parameters with each other "
   ]
  },
  {
   "cell_type": "code",
   "execution_count": null,
   "id": "bf5588ad-da4e-407c-8b4c-4bd35b9d1abd",
   "metadata": {},
   "outputs": [],
   "source": [
    "paramGrid = ParamGridBuilder() \\\n",
    "    .addGrid(LinearSVC.regParam, [0.01, 0.1, 1.0]) \\\n",
    "    .addGrid(LinearSVC.maxIter, [10, 50]) \\\n",
    "    .addGrid(LinearSVC.standardization, [True, False]) \\\n",
    "    .build()"
   ]
  },
  {
   "cell_type": "markdown",
   "id": "5a143944-22b3-46fa-99e3-61e18ee85baa",
   "metadata": {},
   "source": [
    "Now we will iterate over all parameters in the grid "
   ]
  },
  {
   "cell_type": "code",
   "execution_count": null,
   "id": "a085039f-13dd-40cc-9f87-b3698458f1f7",
   "metadata": {},
   "outputs": [],
   "source": [
    "# Iterate over the parameter grid\n",
    "for params in paramGrid:\n",
    "    regParam = params[LinearSVC.regParam]\n",
    "    maxIter = params[LinearSVC.maxIter]\n",
    "    standardization = params[LinearSVC.standardization]\n",
    "\n",
    "    print(f'fregParam={regParam}, maxIter={maxIter}, standardization={standardization}')\n",
    "\n",
    "    normalizer = Normalizer(inputCol=\"features\", outputCol=\"norm_features\")\n",
    "    svm = LinearSVC(featuresCol=\"norm_features\", labelCol=\"label\", regParam=regParam, maxIter=maxIter, standardization=standardization)\n",
    "    ovr = OneVsRest(classifier=svm, labelCol=\"label\")\n",
    "\n",
    "    pipeline = Pipeline(stages=[normalizer, ovr])\n",
    "\n",
    "    # Create a new pipeline model with the current parameter combination\n",
    "    start_time = time.time()\n",
    "    pipeline_model = pipeline.fit(preprocessed_train)\n",
    "    fit_time = time.time() - start_time\n",
    "    print(f'fit_time={fit_time}')\n",
    "\n",
    "    # Make predictions on the validation set\n",
    "    predictions = pipeline_model.transform(preprocessed_val)\n",
    "    transform_time = time.time() - start_time - fit_time\n",
    "    print(f'transform_time={transform_time}')\n",
    "\n",
    "    # Evaluate the model\n",
    "    f1_score = evaluator.evaluate(predictions)\n",
    "    evaluate_time = time.time() - start_time - fit_time - transform_time\n",
    "    print(f'evaluate_time={evaluate_time}')\n",
    "\n",
    "    print(f'f1_score={f1_score}')\n",
    "\n",
    "    if f1_score > best_f1_score:\n",
    "        best_f1_score = f1_score\n",
    "        best_model = pipeline_model\n",
    "        best_params = f'regParam={regParam}, maxIter={maxIter}, standardization={standardization}'\n",
    "\n"
   ]
  },
  {
   "cell_type": "code",
   "execution_count": null,
   "id": "225ed2e1-4928-4b2a-8b1c-b502e7e1718a",
   "metadata": {},
   "outputs": [],
   "source": []
  },
  {
   "cell_type": "code",
   "execution_count": null,
   "id": "7666ab9a-6483-408e-8d66-f73ac19966ce",
   "metadata": {},
   "outputs": [],
   "source": []
  },
  {
   "cell_type": "markdown",
   "id": "574b05db-6810-44f3-84ca-7e98a0a557fb",
   "metadata": {},
   "source": [
    "### Evaluation "
   ]
  },
  {
   "cell_type": "code",
   "execution_count": 34,
   "id": "638a15b9-17a4-49a0-bbac-fbe84869530f",
   "metadata": {},
   "outputs": [
    {
     "name": "stdout",
     "output_type": "stream",
     "text": [
      "fregParam=0.01, maxIter=10, standardization=True\n",
      "fit_time=110.07819104194641\n",
      "transform_time=9.401306867599487\n",
      "evaluate_time=26.320063591003418\n",
      "f1_score=0.5963699016803471\n",
      "fregParam=0.01, maxIter=10, standardization=False\n",
      "fit_time=92.75269603729248\n",
      "transform_time=8.642877340316772\n",
      "evaluate_time=18.99094271659851\n",
      "f1_score=0.597002399556832\n",
      "fregParam=0.01, maxIter=50, standardization=True\n",
      "fit_time=326.4193527698517\n",
      "transform_time=8.712846755981445\n",
      "evaluate_time=19.49401593208313\n",
      "f1_score=0.5929666346012658\n",
      "fregParam=0.01, maxIter=50, standardization=False\n",
      "fit_time=328.99077558517456\n",
      "transform_time=8.457764625549316\n",
      "evaluate_time=18.910300731658936\n",
      "f1_score=0.5939834684873975\n",
      "fregParam=0.1, maxIter=10, standardization=True\n",
      "fit_time=88.93471503257751\n",
      "transform_time=8.575965166091919\n",
      "evaluate_time=18.862366914749146\n",
      "f1_score=0.580914042899032\n",
      "fregParam=0.1, maxIter=10, standardization=False\n",
      "fit_time=91.14981198310852\n",
      "transform_time=8.866122484207153\n",
      "evaluate_time=18.89891266822815\n",
      "f1_score=0.5684168839048417\n",
      "fregParam=0.1, maxIter=50, standardization=True\n",
      "fit_time=315.81054067611694\n",
      "transform_time=7.69809103012085\n",
      "evaluate_time=18.970778226852417\n",
      "f1_score=0.5858103984795735\n",
      "fregParam=0.1, maxIter=50, standardization=False\n",
      "fit_time=327.3001971244812\n",
      "transform_time=7.833466529846191\n",
      "evaluate_time=18.708279132843018\n",
      "f1_score=0.5713809804608839\n",
      "fregParam=1.0, maxIter=10, standardization=True\n",
      "fit_time=100.88220930099487\n",
      "transform_time=8.049031496047974\n",
      "evaluate_time=18.647817134857178\n",
      "f1_score=0.5510191946670208\n",
      "fregParam=1.0, maxIter=10, standardization=False\n",
      "fit_time=90.69876098632812\n",
      "transform_time=7.797666549682617\n",
      "evaluate_time=18.478278875350952\n",
      "f1_score=0.38642501443056965\n",
      "fregParam=1.0, maxIter=50, standardization=True\n",
      "fit_time=336.05292797088623\n",
      "transform_time=7.6816086769104\n",
      "evaluate_time=19.21349573135376\n",
      "f1_score=0.5542200968434973\n",
      "fregParam=1.0, maxIter=50, standardization=False\n",
      "fit_time=341.91740226745605\n",
      "transform_time=8.640399694442749\n",
      "evaluate_time=19.393712520599365\n",
      "f1_score=0.5209467404542905\n"
     ]
    }
   ],
   "source": [
    "\n",
    "spark.sparkContext.setLogLevel(\"ERROR\")\n",
    "\n",
    "# Create parameter grid\n",
    "paramGrid = ParamGridBuilder() \\\n",
    "    .addGrid(LinearSVC.regParam, [0.01, 0.1, 1.0]) \\\n",
    "    .addGrid(LinearSVC.maxIter, [10, 50]) \\\n",
    "    .addGrid(LinearSVC.standardization, [True, False]) \\\n",
    "    .build()\n",
    "\n",
    "train_df = preprocessed_train_df_2000\n",
    "validation_df = preprocessed_validation_df_2000\n",
    "test_df = preprocessed_test_df_2000\n",
    "\n",
    "\n",
    "# Iterate over the parameter grid\n",
    "for params in paramGrid:\n",
    "    regParam = params[LinearSVC.regParam]\n",
    "    maxIter = params[LinearSVC.maxIter]\n",
    "    standardization = params[LinearSVC.standardization]\n",
    "\n",
    "    print(f'fregParam={regParam}, maxIter={maxIter}, standardization={standardization}')\n",
    "\n",
    "    normalizer = Normalizer(inputCol=\"features\", outputCol=\"norm_features_2000\")\n",
    "    svm = LinearSVC(featuresCol=\"norm_features_2000\", labelCol=\"label\", regParam=regParam, maxIter=maxIter, standardization=standardization)\n",
    "    ovr = OneVsRest(classifier=svm, labelCol=\"label\")\n",
    "\n",
    "    pipeline = Pipeline(stages=[normalizer, ovr])\n",
    "\n",
    "    # Create a new pipeline model with the current parameter combination\n",
    "    start_time = time.time()\n",
    "    pipeline_model = pipeline.fit(train_df)\n",
    "    fit_time = time.time() - start_time\n",
    "    print(f'fit_time={fit_time}')\n",
    "\n",
    "    # Make predictions on the validation set\n",
    "    predictions = pipeline_model.transform(validation_df)\n",
    "    transform_time = time.time() - start_time - fit_time\n",
    "    print(f'transform_time={transform_time}')\n",
    "\n",
    "    # Evaluate the model\n",
    "    f1_score = evaluator.evaluate(predictions)\n",
    "    evaluate_time = time.time() - start_time - fit_time - transform_time\n",
    "    print(f'evaluate_time={evaluate_time}')\n",
    "\n",
    "    print(f'f1_score={f1_score}')\n",
    "\n",
    "    if f1_score > best_f1_score:\n",
    "        best_f1_score = f1_score\n",
    "        best_model = pipeline_model\n",
    "        best_params = f'regParam={regParam}, maxIter={maxIter}, standardization={standardization}'\n",
    "\n"
   ]
  },
  {
   "cell_type": "code",
   "execution_count": 35,
   "id": "274fe99e-b67f-4974-a5d6-6d1acd5315bb",
   "metadata": {},
   "outputs": [
    {
     "name": "stdout",
     "output_type": "stream",
     "text": [
      "Best F1 Score: 0.597002399556832\n",
      "Best Parameters: regParam=0.01, maxIter=10, standardization=False\n"
     ]
    }
   ],
   "source": [
    "print(f\"Best F1 Score: {best_f1_score}\")\n",
    "print(f\"Best Parameters: {best_params}\")"
   ]
  },
  {
   "cell_type": "code",
   "execution_count": 36,
   "id": "9ccd3ef1-2d7f-4023-837f-e84056244c6b",
   "metadata": {},
   "outputs": [
    {
     "name": "stdout",
     "output_type": "stream",
     "text": [
      "Making predictions...\n",
      "Predictions made.\n"
     ]
    }
   ],
   "source": [
    "# Predictions on the test data\n",
    "try:\n",
    "    print(\"Making predictions...\")\n",
    "    predictions = best_model.transform(test_df)\n",
    "    print(\"Predictions made.\")\n",
    "except Exception as e:\n",
    "    print(f\"Error during predictions: {e}\")"
   ]
  },
  {
   "cell_type": "code",
   "execution_count": 37,
   "id": "a89e50af-ad97-4116-9f1e-db51b4564fb4",
   "metadata": {},
   "outputs": [
    {
     "name": "stdout",
     "output_type": "stream",
     "text": [
      "Evaluating the model...\n",
      "F1 Score: 0.5978292729528246\n"
     ]
    }
   ],
   "source": [
    "# Evaluating the model\n",
    "try:\n",
    "    print(\"Evaluating the model...\")\n",
    "    f1_score = evaluator.evaluate(predictions)\n",
    "    print(f\"F1 Score: {f1_score}\")\n",
    "except Exception as e:\n",
    "    print(f\"Error during evaluation: {e}\")"
   ]
  },
  {
   "cell_type": "code",
   "execution_count": 36,
   "id": "8c43bf5c-b9ce-4795-be98-ca8eef486ce8",
   "metadata": {},
   "outputs": [
    {
     "name": "stdout",
     "output_type": "stream",
     "text": [
      "25/05/10 21:16:46 WARN CacheManager: Asked to cache already cached data.\n",
      "25/05/10 21:16:46 WARN CacheManager: Asked to cache already cached data.\n"
     ]
    },
    {
     "name": "stderr",
     "output_type": "stream",
     "text": [
      "                                                                                "
     ]
    },
    {
     "name": "stdout",
     "output_type": "stream",
     "text": [
      "25/05/10 21:16:47 WARN DAGScheduler: Broadcasting large task binary with size 1130.8 KiB\n",
      "25/05/10 21:16:47 WARN DAGScheduler: Broadcasting large task binary with size 1112.4 KiB\n"
     ]
    },
    {
     "name": "stderr",
     "output_type": "stream",
     "text": [
      "                                                                                "
     ]
    },
    {
     "name": "stdout",
     "output_type": "stream",
     "text": [
      "25/05/10 21:16:51 WARN DAGScheduler: Broadcasting large task binary with size 1114.4 KiB\n"
     ]
    },
    {
     "name": "stderr",
     "output_type": "stream",
     "text": [
      "                                                                                "
     ]
    },
    {
     "name": "stdout",
     "output_type": "stream",
     "text": [
      "25/05/10 21:16:57 WARN DAGScheduler: Broadcasting large task binary with size 1114.4 KiB\n"
     ]
    },
    {
     "name": "stderr",
     "output_type": "stream",
     "text": [
      "                                                                                "
     ]
    },
    {
     "name": "stdout",
     "output_type": "stream",
     "text": [
      "25/05/10 21:17:02 WARN DAGScheduler: Broadcasting large task binary with size 1130.8 KiB\n"
     ]
    },
    {
     "name": "stderr",
     "output_type": "stream",
     "text": [
      "                                                                                "
     ]
    },
    {
     "name": "stdout",
     "output_type": "stream",
     "text": [
      "25/05/10 21:17:07 WARN DAGScheduler: Broadcasting large task binary with size 1114.4 KiB\n"
     ]
    },
    {
     "name": "stderr",
     "output_type": "stream",
     "text": [
      "                                                                                "
     ]
    },
    {
     "name": "stdout",
     "output_type": "stream",
     "text": [
      "25/05/10 21:17:23 WARN DAGScheduler: Broadcasting large task binary with size 1130.8 KiB\n"
     ]
    },
    {
     "name": "stderr",
     "output_type": "stream",
     "text": [
      "                                                                                "
     ]
    },
    {
     "name": "stdout",
     "output_type": "stream",
     "text": [
      "25/05/10 21:17:39 WARN DAGScheduler: Broadcasting large task binary with size 1129.6 KiB\n",
      "25/05/10 21:17:39 WARN DAGScheduler: Broadcasting large task binary with size 1129.6 KiB\n"
     ]
    },
    {
     "name": "stderr",
     "output_type": "stream",
     "text": [
      "                                                                                "
     ]
    },
    {
     "name": "stdout",
     "output_type": "stream",
     "text": [
      "25/05/10 21:17:40 WARN DAGScheduler: Broadcasting large task binary with size 1130.8 KiB\n"
     ]
    },
    {
     "name": "stderr",
     "output_type": "stream",
     "text": [
      "                                                                                "
     ]
    },
    {
     "name": "stdout",
     "output_type": "stream",
     "text": [
      "25/05/10 21:17:54 WARN DAGScheduler: Broadcasting large task binary with size 1130.8 KiB\n",
      "25/05/10 21:17:54 WARN DAGScheduler: Broadcasting large task binary with size 1130.8 KiB\n"
     ]
    },
    {
     "name": "stderr",
     "output_type": "stream",
     "text": [
      "                                                                                "
     ]
    },
    {
     "name": "stdout",
     "output_type": "stream",
     "text": [
      "25/05/10 21:17:58 WARN DAGScheduler: Broadcasting large task binary with size 1130.8 KiB\n",
      "25/05/10 21:17:58 WARN DAGScheduler: Broadcasting large task binary with size 1129.7 KiB\n",
      "25/05/10 21:17:58 WARN DAGScheduler: Broadcasting large task binary with size 1110.3 KiB\n",
      "25/05/10 21:17:58 WARN DAGScheduler: Broadcasting large task binary with size 1129.7 KiB\n"
     ]
    },
    {
     "name": "stderr",
     "output_type": "stream",
     "text": [
      "                                                                                "
     ]
    },
    {
     "name": "stdout",
     "output_type": "stream",
     "text": [
      "25/05/10 21:18:03 WARN DAGScheduler: Broadcasting large task binary with size 1110.3 KiB\n"
     ]
    },
    {
     "name": "stderr",
     "output_type": "stream",
     "text": [
      "                                                                                "
     ]
    },
    {
     "name": "stdout",
     "output_type": "stream",
     "text": [
      "25/05/10 21:18:07 WARN DAGScheduler: Broadcasting large task binary with size 1130.8 KiB\n",
      "25/05/10 21:18:07 WARN DAGScheduler: Broadcasting large task binary with size 1130.8 KiB\n"
     ]
    },
    {
     "name": "stderr",
     "output_type": "stream",
     "text": [
      "                                                                                "
     ]
    },
    {
     "name": "stdout",
     "output_type": "stream",
     "text": [
      "25/05/10 21:18:12 WARN DAGScheduler: Broadcasting large task binary with size 1130.8 KiB\n",
      "25/05/10 21:18:12 WARN DAGScheduler: Broadcasting large task binary with size 1112.4 KiB\n"
     ]
    },
    {
     "name": "stderr",
     "output_type": "stream",
     "text": [
      "                                                                                "
     ]
    },
    {
     "name": "stdout",
     "output_type": "stream",
     "text": [
      "25/05/10 21:18:17 WARN DAGScheduler: Broadcasting large task binary with size 1130.9 KiB\n"
     ]
    },
    {
     "name": "stderr",
     "output_type": "stream",
     "text": [
      "                                                                                "
     ]
    },
    {
     "name": "stdout",
     "output_type": "stream",
     "text": [
      "25/05/10 21:18:21 WARN DAGScheduler: Broadcasting large task binary with size 1130.9 KiB\n"
     ]
    },
    {
     "name": "stderr",
     "output_type": "stream",
     "text": [
      "                                                                                "
     ]
    },
    {
     "name": "stdout",
     "output_type": "stream",
     "text": [
      "25/05/10 21:18:23 WARN DAGScheduler: Broadcasting large task binary with size 1112.4 KiB\n"
     ]
    },
    {
     "name": "stderr",
     "output_type": "stream",
     "text": [
      "                                                                                "
     ]
    },
    {
     "name": "stdout",
     "output_type": "stream",
     "text": [
      "25/05/10 21:18:26 WARN DAGScheduler: Broadcasting large task binary with size 1110.3 KiB\n"
     ]
    },
    {
     "name": "stderr",
     "output_type": "stream",
     "text": [
      "                                                                                "
     ]
    },
    {
     "name": "stdout",
     "output_type": "stream",
     "text": [
      "25/05/10 21:18:30 WARN DAGScheduler: Broadcasting large task binary with size 1130.8 KiB\n",
      "25/05/10 21:18:30 WARN DAGScheduler: Broadcasting large task binary with size 1130.8 KiB\n",
      "25/05/10 21:18:30 WARN DAGScheduler: Broadcasting large task binary with size 1130.8 KiB\n",
      "25/05/10 21:18:30 WARN DAGScheduler: Broadcasting large task binary with size 1110.3 KiB\n"
     ]
    },
    {
     "name": "stderr",
     "output_type": "stream",
     "text": [
      "                                                                                "
     ]
    },
    {
     "name": "stdout",
     "output_type": "stream",
     "text": [
      "25/05/10 21:18:35 WARN DAGScheduler: Broadcasting large task binary with size 1130.9 KiB\n"
     ]
    },
    {
     "name": "stderr",
     "output_type": "stream",
     "text": [
      "                                                                                "
     ]
    },
    {
     "name": "stdout",
     "output_type": "stream",
     "text": [
      "25/05/10 21:18:38 WARN DAGScheduler: Broadcasting large task binary with size 1114.4 KiB\n"
     ]
    },
    {
     "name": "stderr",
     "output_type": "stream",
     "text": [
      "                                                                                "
     ]
    },
    {
     "name": "stdout",
     "output_type": "stream",
     "text": [
      "25/05/10 21:18:40 WARN DAGScheduler: Broadcasting large task binary with size 1130.9 KiB\n"
     ]
    },
    {
     "name": "stderr",
     "output_type": "stream",
     "text": [
      "                                                                                "
     ]
    },
    {
     "name": "stdout",
     "output_type": "stream",
     "text": [
      "25/05/10 21:18:41 WARN DAGScheduler: Broadcasting large task binary with size 1112.4 KiB\n",
      "25/05/10 21:18:42 WARN DAGScheduler: Broadcasting large task binary with size 1112.4 KiB\n"
     ]
    },
    {
     "name": "stderr",
     "output_type": "stream",
     "text": [
      "                                                                                "
     ]
    },
    {
     "name": "stdout",
     "output_type": "stream",
     "text": [
      "25/05/10 21:18:44 WARN DAGScheduler: Broadcasting large task binary with size 1130.8 KiB\n",
      "25/05/10 21:18:44 WARN DAGScheduler: Broadcasting large task binary with size 1130.8 KiB\n",
      "25/05/10 21:18:44 WARN DAGScheduler: Broadcasting large task binary with size 1114.4 KiB\n",
      "25/05/10 21:18:44 WARN DAGScheduler: Broadcasting large task binary with size 1130.8 KiB\n",
      "25/05/10 21:18:44 WARN DAGScheduler: Broadcasting large task binary with size 1130.9 KiB\n"
     ]
    },
    {
     "name": "stderr",
     "output_type": "stream",
     "text": [
      "                                                                                "
     ]
    },
    {
     "name": "stdout",
     "output_type": "stream",
     "text": [
      "25/05/10 21:18:51 WARN DAGScheduler: Broadcasting large task binary with size 1130.9 KiB\n"
     ]
    },
    {
     "name": "stderr",
     "output_type": "stream",
     "text": [
      "                                                                                "
     ]
    },
    {
     "name": "stdout",
     "output_type": "stream",
     "text": [
      "25/05/10 21:18:58 WARN DAGScheduler: Broadcasting large task binary with size 1114.4 KiB\n",
      "25/05/10 21:18:59 WARN DAGScheduler: Broadcasting large task binary with size 1130.8 KiB\n",
      "25/05/10 21:18:59 WARN DAGScheduler: Broadcasting large task binary with size 1130.8 KiB\n",
      "25/05/10 21:18:59 WARN DAGScheduler: Broadcasting large task binary with size 1114.4 KiB\n"
     ]
    },
    {
     "name": "stderr",
     "output_type": "stream",
     "text": [
      "                                                                                "
     ]
    },
    {
     "name": "stdout",
     "output_type": "stream",
     "text": [
      "25/05/10 21:19:06 WARN DAGScheduler: Broadcasting large task binary with size 1130.8 KiB\n"
     ]
    },
    {
     "name": "stderr",
     "output_type": "stream",
     "text": [
      "                                                                                "
     ]
    },
    {
     "name": "stdout",
     "output_type": "stream",
     "text": [
      "25/05/10 21:19:09 WARN DAGScheduler: Broadcasting large task binary with size 1130.9 KiB\n",
      "25/05/10 21:19:09 WARN DAGScheduler: Broadcasting large task binary with size 1130.9 KiB\n"
     ]
    },
    {
     "name": "stderr",
     "output_type": "stream",
     "text": [
      "                                                                                "
     ]
    },
    {
     "name": "stdout",
     "output_type": "stream",
     "text": [
      "25/05/10 21:19:16 WARN DAGScheduler: Broadcasting large task binary with size 1130.8 KiB\n",
      "25/05/10 21:19:16 WARN DAGScheduler: Broadcasting large task binary with size 1129.6 KiB\n"
     ]
    },
    {
     "name": "stderr",
     "output_type": "stream",
     "text": [
      "                                                                                "
     ]
    },
    {
     "name": "stdout",
     "output_type": "stream",
     "text": [
      "25/05/10 21:19:17 WARN DAGScheduler: Broadcasting large task binary with size 1130.8 KiB\n",
      "25/05/10 21:19:17 WARN DAGScheduler: Broadcasting large task binary with size 1130.8 KiB\n",
      "25/05/10 21:19:17 WARN DAGScheduler: Broadcasting large task binary with size 1130.9 KiB\n",
      "25/05/10 21:19:18 WARN DAGScheduler: Broadcasting large task binary with size 1130.9 KiB\n"
     ]
    },
    {
     "name": "stderr",
     "output_type": "stream",
     "text": [
      "                                                                                "
     ]
    },
    {
     "name": "stdout",
     "output_type": "stream",
     "text": [
      "25/05/10 21:19:23 WARN DAGScheduler: Broadcasting large task binary with size 1129.7 KiB\n"
     ]
    },
    {
     "name": "stderr",
     "output_type": "stream",
     "text": [
      "                                                                                "
     ]
    },
    {
     "name": "stdout",
     "output_type": "stream",
     "text": [
      "25/05/10 21:19:24 WARN DAGScheduler: Broadcasting large task binary with size 1130.8 KiB\n"
     ]
    },
    {
     "name": "stderr",
     "output_type": "stream",
     "text": [
      "                                                                                "
     ]
    },
    {
     "name": "stdout",
     "output_type": "stream",
     "text": [
      "25/05/10 21:19:29 WARN DAGScheduler: Broadcasting large task binary with size 1130.8 KiB\n",
      "25/05/10 21:19:29 WARN DAGScheduler: Broadcasting large task binary with size 1130.8 KiB\n",
      "25/05/10 21:19:29 WARN DAGScheduler: Broadcasting large task binary with size 1130.9 KiB\n",
      "25/05/10 21:19:29 WARN DAGScheduler: Broadcasting large task binary with size 1130.9 KiB\n"
     ]
    },
    {
     "name": "stderr",
     "output_type": "stream",
     "text": [
      "                                                                                "
     ]
    },
    {
     "name": "stdout",
     "output_type": "stream",
     "text": [
      "25/05/10 21:19:31 WARN DAGScheduler: Broadcasting large task binary with size 1130.8 KiB\n",
      "25/05/10 21:19:31 WARN DAGScheduler: Broadcasting large task binary with size 1130.8 KiB\n"
     ]
    },
    {
     "name": "stderr",
     "output_type": "stream",
     "text": [
      "                                                                                "
     ]
    },
    {
     "name": "stdout",
     "output_type": "stream",
     "text": [
      "25/05/10 21:19:33 WARN DAGScheduler: Broadcasting large task binary with size 1130.9 KiB\n",
      "25/05/10 21:19:33 WARN DAGScheduler: Broadcasting large task binary with size 1130.8 KiB\n",
      "25/05/10 21:19:33 WARN DAGScheduler: Broadcasting large task binary with size 1130.9 KiB\n",
      "25/05/10 21:19:33 WARN DAGScheduler: Broadcasting large task binary with size 1130.8 KiB\n",
      "25/05/10 21:19:33 WARN DAGScheduler: Broadcasting large task binary with size 1130.9 KiB\n",
      "25/05/10 21:19:34 WARN DAGScheduler: Broadcasting large task binary with size 1129.7 KiB\n"
     ]
    },
    {
     "name": "stderr",
     "output_type": "stream",
     "text": [
      "                                                                                "
     ]
    },
    {
     "name": "stdout",
     "output_type": "stream",
     "text": [
      "25/05/10 21:19:35 WARN DAGScheduler: Broadcasting large task binary with size 1129.6 KiB\n"
     ]
    },
    {
     "name": "stderr",
     "output_type": "stream",
     "text": [
      "                                                                                "
     ]
    },
    {
     "name": "stdout",
     "output_type": "stream",
     "text": [
      "25/05/10 21:19:38 WARN DAGScheduler: Broadcasting large task binary with size 1130.8 KiB\n",
      "25/05/10 21:19:38 WARN DAGScheduler: Broadcasting large task binary with size 1130.8 KiB\n"
     ]
    },
    {
     "name": "stderr",
     "output_type": "stream",
     "text": [
      "                                                                                "
     ]
    },
    {
     "name": "stdout",
     "output_type": "stream",
     "text": [
      "25/05/10 21:19:42 WARN DAGScheduler: Broadcasting large task binary with size 1130.9 KiB\n",
      "25/05/10 21:19:43 WARN DAGScheduler: Broadcasting large task binary with size 1130.8 KiB\n",
      "25/05/10 21:19:43 WARN DAGScheduler: Broadcasting large task binary with size 1130.9 KiB\n",
      "25/05/10 21:19:43 WARN DAGScheduler: Broadcasting large task binary with size 1130.9 KiB\n",
      "25/05/10 21:19:43 WARN DAGScheduler: Broadcasting large task binary with size 1130.8 KiB\n"
     ]
    },
    {
     "name": "stderr",
     "output_type": "stream",
     "text": [
      "                                                                                "
     ]
    },
    {
     "name": "stdout",
     "output_type": "stream",
     "text": [
      "25/05/10 21:19:47 WARN DAGScheduler: Broadcasting large task binary with size 1130.9 KiB\n"
     ]
    },
    {
     "name": "stderr",
     "output_type": "stream",
     "text": [
      "                                                                                "
     ]
    },
    {
     "name": "stdout",
     "output_type": "stream",
     "text": [
      "25/05/10 21:19:52 WARN DAGScheduler: Broadcasting large task binary with size 1130.8 KiB\n",
      "25/05/10 21:19:52 WARN DAGScheduler: Broadcasting large task binary with size 1130.8 KiB\n",
      "25/05/10 21:19:52 WARN DAGScheduler: Broadcasting large task binary with size 1130.8 KiB\n",
      "25/05/10 21:19:52 WARN DAGScheduler: Broadcasting large task binary with size 1130.9 KiB\n",
      "25/05/10 21:19:52 WARN DAGScheduler: Broadcasting large task binary with size 1130.9 KiB\n",
      "25/05/10 21:19:52 WARN DAGScheduler: Broadcasting large task binary with size 1130.8 KiB\n",
      "25/05/10 21:19:52 WARN DAGScheduler: Broadcasting large task binary with size 1130.9 KiB\n",
      "25/05/10 21:19:52 WARN DAGScheduler: Broadcasting large task binary with size 1130.8 KiB\n"
     ]
    },
    {
     "name": "stderr",
     "output_type": "stream",
     "text": [
      "                                                                                "
     ]
    },
    {
     "name": "stdout",
     "output_type": "stream",
     "text": [
      "25/05/10 21:19:57 WARN DAGScheduler: Broadcasting large task binary with size 1130.9 KiB\n"
     ]
    },
    {
     "name": "stderr",
     "output_type": "stream",
     "text": [
      "                                                                                "
     ]
    },
    {
     "name": "stdout",
     "output_type": "stream",
     "text": [
      "25/05/10 21:20:01 WARN DAGScheduler: Broadcasting large task binary with size 1130.8 KiB\n",
      "25/05/10 21:20:01 WARN DAGScheduler: Broadcasting large task binary with size 1130.8 KiB\n",
      "25/05/10 21:20:01 WARN DAGScheduler: Broadcasting large task binary with size 1130.8 KiB\n",
      "25/05/10 21:20:01 WARN DAGScheduler: Broadcasting large task binary with size 1130.9 KiB\n",
      "25/05/10 21:20:01 WARN DAGScheduler: Broadcasting large task binary with size 1130.8 KiB\n",
      "25/05/10 21:20:01 WARN DAGScheduler: Broadcasting large task binary with size 1130.9 KiB\n",
      "25/05/10 21:20:02 WARN DAGScheduler: Broadcasting large task binary with size 1130.8 KiB\n",
      "25/05/10 21:20:02 WARN DAGScheduler: Broadcasting large task binary with size 1130.9 KiB\n",
      "25/05/10 21:20:02 WARN DAGScheduler: Broadcasting large task binary with size 1130.9 KiB\n",
      "25/05/10 21:20:02 WARN DAGScheduler: Broadcasting large task binary with size 1130.8 KiB\n",
      "25/05/10 21:20:02 WARN DAGScheduler: Broadcasting large task binary with size 1130.9 KiB\n",
      "25/05/10 21:20:02 WARN DAGScheduler: Broadcasting large task binary with size 1130.8 KiB\n",
      "25/05/10 21:20:02 WARN DAGScheduler: Broadcasting large task binary with size 1130.8 KiB\n",
      "25/05/10 21:20:02 WARN DAGScheduler: Broadcasting large task binary with size 1130.9 KiB\n",
      "25/05/10 21:20:02 WARN DAGScheduler: Broadcasting large task binary with size 1130.8 KiB\n",
      "25/05/10 21:20:02 WARN DAGScheduler: Broadcasting large task binary with size 1130.9 KiB\n",
      "25/05/10 21:20:02 WARN DAGScheduler: Broadcasting large task binary with size 1130.8 KiB\n",
      "25/05/10 21:20:02 WARN DAGScheduler: Broadcasting large task binary with size 1130.8 KiB\n",
      "25/05/10 21:20:02 WARN DAGScheduler: Broadcasting large task binary with size 1130.8 KiB\n",
      "25/05/10 21:20:02 WARN DAGScheduler: Broadcasting large task binary with size 1130.9 KiB\n",
      "25/05/10 21:20:02 WARN DAGScheduler: Broadcasting large task binary with size 1130.8 KiB\n",
      "25/05/10 21:20:02 WARN DAGScheduler: Broadcasting large task binary with size 1130.9 KiB\n",
      "25/05/10 21:20:02 WARN DAGScheduler: Broadcasting large task binary with size 1130.9 KiB\n",
      "25/05/10 21:20:02 WARN DAGScheduler: Broadcasting large task binary with size 1130.9 KiB\n",
      "25/05/10 21:20:02 WARN DAGScheduler: Broadcasting large task binary with size 1130.8 KiB\n",
      "25/05/10 21:20:02 WARN DAGScheduler: Broadcasting large task binary with size 1130.8 KiB\n",
      "25/05/10 21:20:02 WARN DAGScheduler: Broadcasting large task binary with size 1130.8 KiB\n",
      "25/05/10 21:20:03 WARN DAGScheduler: Broadcasting large task binary with size 1130.9 KiB\n",
      "25/05/10 21:20:03 WARN DAGScheduler: Broadcasting large task binary with size 1130.9 KiB\n",
      "25/05/10 21:20:03 WARN DAGScheduler: Broadcasting large task binary with size 1130.9 KiB\n",
      "25/05/10 21:20:03 WARN DAGScheduler: Broadcasting large task binary with size 1130.8 KiB\n",
      "25/05/10 21:20:03 WARN DAGScheduler: Broadcasting large task binary with size 1130.8 KiB\n",
      "25/05/10 21:20:03 WARN DAGScheduler: Broadcasting large task binary with size 1130.9 KiB\n",
      "25/05/10 21:20:03 WARN DAGScheduler: Broadcasting large task binary with size 1130.9 KiB\n",
      "25/05/10 21:20:03 WARN DAGScheduler: Broadcasting large task binary with size 1130.9 KiB\n",
      "25/05/10 21:20:03 WARN DAGScheduler: Broadcasting large task binary with size 1130.9 KiB\n",
      "25/05/10 21:20:03 WARN DAGScheduler: Broadcasting large task binary with size 1130.8 KiB\n",
      "25/05/10 21:20:03 WARN DAGScheduler: Broadcasting large task binary with size 1130.8 KiB\n",
      "25/05/10 21:20:03 WARN DAGScheduler: Broadcasting large task binary with size 1130.8 KiB\n",
      "25/05/10 21:20:03 WARN DAGScheduler: Broadcasting large task binary with size 1130.8 KiB\n",
      "25/05/10 21:20:03 WARN DAGScheduler: Broadcasting large task binary with size 1130.9 KiB\n",
      "25/05/10 21:20:03 WARN DAGScheduler: Broadcasting large task binary with size 1130.9 KiB\n",
      "25/05/10 21:20:03 WARN DAGScheduler: Broadcasting large task binary with size 1130.9 KiB\n",
      "25/05/10 21:20:03 WARN DAGScheduler: Broadcasting large task binary with size 1130.9 KiB\n",
      "25/05/10 21:20:03 WARN DAGScheduler: Broadcasting large task binary with size 1130.8 KiB\n",
      "25/05/10 21:20:03 WARN DAGScheduler: Broadcasting large task binary with size 1130.8 KiB\n",
      "25/05/10 21:20:03 WARN DAGScheduler: Broadcasting large task binary with size 1130.8 KiB\n",
      "25/05/10 21:20:04 WARN DAGScheduler: Broadcasting large task binary with size 1130.8 KiB\n",
      "25/05/10 21:20:04 WARN DAGScheduler: Broadcasting large task binary with size 1130.8 KiB\n",
      "25/05/10 21:20:04 WARN DAGScheduler: Broadcasting large task binary with size 1130.9 KiB\n",
      "25/05/10 21:20:04 WARN DAGScheduler: Broadcasting large task binary with size 1130.8 KiB\n",
      "25/05/10 21:20:04 WARN DAGScheduler: Broadcasting large task binary with size 1130.9 KiB\n",
      "25/05/10 21:20:04 WARN DAGScheduler: Broadcasting large task binary with size 1130.9 KiB\n",
      "25/05/10 21:20:04 WARN DAGScheduler: Broadcasting large task binary with size 1130.8 KiB\n",
      "25/05/10 21:20:04 WARN DAGScheduler: Broadcasting large task binary with size 1130.9 KiB\n",
      "25/05/10 21:20:04 WARN DAGScheduler: Broadcasting large task binary with size 1130.8 KiB\n",
      "25/05/10 21:20:04 WARN DAGScheduler: Broadcasting large task binary with size 1130.8 KiB\n",
      "25/05/10 21:20:04 WARN DAGScheduler: Broadcasting large task binary with size 1130.8 KiB\n",
      "25/05/10 21:20:04 WARN DAGScheduler: Broadcasting large task binary with size 1130.9 KiB\n",
      "25/05/10 21:20:04 WARN DAGScheduler: Broadcasting large task binary with size 1130.9 KiB\n",
      "25/05/10 21:20:04 WARN DAGScheduler: Broadcasting large task binary with size 1130.9 KiB\n",
      "25/05/10 21:20:04 WARN DAGScheduler: Broadcasting large task binary with size 1130.8 KiB\n",
      "25/05/10 21:20:04 WARN DAGScheduler: Broadcasting large task binary with size 1130.8 KiB\n",
      "25/05/10 21:20:04 WARN DAGScheduler: Broadcasting large task binary with size 1130.9 KiB\n",
      "25/05/10 21:20:04 WARN DAGScheduler: Broadcasting large task binary with size 1130.8 KiB\n",
      "25/05/10 21:20:04 WARN DAGScheduler: Broadcasting large task binary with size 1130.8 KiB\n",
      "25/05/10 21:20:04 WARN DAGScheduler: Broadcasting large task binary with size 1130.9 KiB\n",
      "25/05/10 21:20:04 WARN DAGScheduler: Broadcasting large task binary with size 1130.9 KiB\n",
      "25/05/10 21:20:04 WARN DAGScheduler: Broadcasting large task binary with size 1130.8 KiB\n",
      "25/05/10 21:20:04 WARN DAGScheduler: Broadcasting large task binary with size 1130.9 KiB\n",
      "25/05/10 21:20:04 WARN DAGScheduler: Broadcasting large task binary with size 1130.8 KiB\n",
      "25/05/10 21:20:05 WARN DAGScheduler: Broadcasting large task binary with size 1130.8 KiB\n",
      "25/05/10 21:20:05 WARN DAGScheduler: Broadcasting large task binary with size 1130.9 KiB\n",
      "25/05/10 21:20:05 WARN DAGScheduler: Broadcasting large task binary with size 1130.8 KiB\n",
      "25/05/10 21:20:05 WARN DAGScheduler: Broadcasting large task binary with size 1130.8 KiB\n",
      "25/05/10 21:20:05 WARN DAGScheduler: Broadcasting large task binary with size 1130.8 KiB\n",
      "25/05/10 21:20:05 WARN DAGScheduler: Broadcasting large task binary with size 1130.9 KiB\n",
      "25/05/10 21:20:05 WARN DAGScheduler: Broadcasting large task binary with size 1130.9 KiB\n",
      "25/05/10 21:20:05 WARN DAGScheduler: Broadcasting large task binary with size 1130.8 KiB\n",
      "25/05/10 21:20:05 WARN DAGScheduler: Broadcasting large task binary with size 1130.8 KiB\n",
      "25/05/10 21:20:05 WARN DAGScheduler: Broadcasting large task binary with size 1130.9 KiB\n",
      "25/05/10 21:20:05 WARN DAGScheduler: Broadcasting large task binary with size 1130.8 KiB\n",
      "25/05/10 21:20:05 WARN DAGScheduler: Broadcasting large task binary with size 1130.9 KiB\n",
      "25/05/10 21:20:05 WARN DAGScheduler: Broadcasting large task binary with size 1130.8 KiB\n",
      "25/05/10 21:20:05 WARN DAGScheduler: Broadcasting large task binary with size 1130.8 KiB\n",
      "25/05/10 21:20:05 WARN DAGScheduler: Broadcasting large task binary with size 1130.8 KiB\n",
      "25/05/10 21:20:05 WARN DAGScheduler: Broadcasting large task binary with size 1130.9 KiB\n",
      "25/05/10 21:20:05 WARN DAGScheduler: Broadcasting large task binary with size 1130.8 KiB\n",
      "25/05/10 21:20:05 WARN DAGScheduler: Broadcasting large task binary with size 1130.9 KiB\n",
      "25/05/10 21:20:05 WARN DAGScheduler: Broadcasting large task binary with size 1130.9 KiB\n",
      "25/05/10 21:20:05 WARN DAGScheduler: Broadcasting large task binary with size 1130.9 KiB\n",
      "25/05/10 21:20:05 WARN DAGScheduler: Broadcasting large task binary with size 1130.8 KiB\n",
      "25/05/10 21:20:05 WARN DAGScheduler: Broadcasting large task binary with size 1130.8 KiB\n",
      "25/05/10 21:20:05 WARN DAGScheduler: Broadcasting large task binary with size 1130.8 KiB\n",
      "25/05/10 21:20:05 WARN DAGScheduler: Broadcasting large task binary with size 1130.8 KiB\n",
      "25/05/10 21:20:06 WARN DAGScheduler: Broadcasting large task binary with size 1130.9 KiB\n",
      "25/05/10 21:20:06 WARN DAGScheduler: Broadcasting large task binary with size 1130.9 KiB\n",
      "25/05/10 21:20:06 WARN DAGScheduler: Broadcasting large task binary with size 1130.8 KiB\n",
      "25/05/10 21:20:06 WARN DAGScheduler: Broadcasting large task binary with size 1130.9 KiB\n",
      "25/05/10 21:20:06 WARN DAGScheduler: Broadcasting large task binary with size 1130.9 KiB\n",
      "25/05/10 21:20:06 WARN DAGScheduler: Broadcasting large task binary with size 1130.8 KiB\n",
      "25/05/10 21:20:06 WARN DAGScheduler: Broadcasting large task binary with size 1130.8 KiB\n",
      "25/05/10 21:20:06 WARN DAGScheduler: Broadcasting large task binary with size 1130.8 KiB\n",
      "25/05/10 21:20:06 WARN DAGScheduler: Broadcasting large task binary with size 1130.8 KiB\n",
      "25/05/10 21:20:06 WARN DAGScheduler: Broadcasting large task binary with size 1130.9 KiB\n",
      "25/05/10 21:20:06 WARN DAGScheduler: Broadcasting large task binary with size 1130.8 KiB\n",
      "25/05/10 21:20:06 WARN DAGScheduler: Broadcasting large task binary with size 1130.9 KiB\n",
      "25/05/10 21:20:06 WARN DAGScheduler: Broadcasting large task binary with size 1130.9 KiB\n",
      "25/05/10 21:20:06 WARN DAGScheduler: Broadcasting large task binary with size 1130.8 KiB\n",
      "25/05/10 21:20:06 WARN DAGScheduler: Broadcasting large task binary with size 1130.8 KiB\n",
      "25/05/10 21:20:06 WARN DAGScheduler: Broadcasting large task binary with size 1130.9 KiB\n",
      "25/05/10 21:20:06 WARN DAGScheduler: Broadcasting large task binary with size 1130.8 KiB\n",
      "25/05/10 21:20:06 WARN DAGScheduler: Broadcasting large task binary with size 1130.9 KiB\n",
      "25/05/10 21:20:06 WARN DAGScheduler: Broadcasting large task binary with size 1130.8 KiB\n",
      "25/05/10 21:20:06 WARN DAGScheduler: Broadcasting large task binary with size 1130.8 KiB\n",
      "25/05/10 21:20:06 WARN DAGScheduler: Broadcasting large task binary with size 1130.9 KiB\n",
      "25/05/10 21:20:06 WARN DAGScheduler: Broadcasting large task binary with size 1130.9 KiB\n",
      "25/05/10 21:20:06 WARN DAGScheduler: Broadcasting large task binary with size 1130.8 KiB\n",
      "25/05/10 21:20:06 WARN DAGScheduler: Broadcasting large task binary with size 1130.9 KiB\n",
      "25/05/10 21:20:06 WARN DAGScheduler: Broadcasting large task binary with size 1130.8 KiB\n",
      "25/05/10 21:20:06 WARN DAGScheduler: Broadcasting large task binary with size 1130.8 KiB\n",
      "25/05/10 21:20:06 WARN DAGScheduler: Broadcasting large task binary with size 1130.9 KiB\n",
      "25/05/10 21:20:06 WARN DAGScheduler: Broadcasting large task binary with size 1130.8 KiB\n",
      "25/05/10 21:20:06 WARN DAGScheduler: Broadcasting large task binary with size 1130.8 KiB\n",
      "25/05/10 21:20:07 WARN DAGScheduler: Broadcasting large task binary with size 1130.9 KiB\n",
      "25/05/10 21:20:07 WARN DAGScheduler: Broadcasting large task binary with size 1130.9 KiB\n",
      "25/05/10 21:20:07 WARN DAGScheduler: Broadcasting large task binary with size 1130.9 KiB\n",
      "25/05/10 21:20:07 WARN DAGScheduler: Broadcasting large task binary with size 1130.8 KiB\n",
      "25/05/10 21:20:07 WARN DAGScheduler: Broadcasting large task binary with size 1130.9 KiB\n",
      "25/05/10 21:20:07 WARN DAGScheduler: Broadcasting large task binary with size 1130.8 KiB\n",
      "25/05/10 21:20:07 WARN DAGScheduler: Broadcasting large task binary with size 1130.8 KiB\n",
      "25/05/10 21:20:07 WARN DAGScheduler: Broadcasting large task binary with size 1130.9 KiB\n",
      "25/05/10 21:20:07 WARN DAGScheduler: Broadcasting large task binary with size 1130.9 KiB\n",
      "25/05/10 21:20:07 WARN DAGScheduler: Broadcasting large task binary with size 1130.9 KiB\n",
      "25/05/10 21:20:07 WARN DAGScheduler: Broadcasting large task binary with size 1130.8 KiB\n",
      "25/05/10 21:20:07 WARN DAGScheduler: Broadcasting large task binary with size 1130.9 KiB\n",
      "25/05/10 21:20:07 WARN DAGScheduler: Broadcasting large task binary with size 1130.8 KiB\n",
      "25/05/10 21:20:07 WARN DAGScheduler: Broadcasting large task binary with size 1130.8 KiB\n",
      "25/05/10 21:20:07 WARN DAGScheduler: Broadcasting large task binary with size 1130.9 KiB\n",
      "25/05/10 21:20:07 WARN DAGScheduler: Broadcasting large task binary with size 1129.6 KiB\n",
      "25/05/10 21:20:07 WARN DAGScheduler: Broadcasting large task binary with size 1129.6 KiB\n",
      "25/05/10 21:20:07 WARN DAGScheduler: Broadcasting large task binary with size 1130.9 KiB\n",
      "25/05/10 21:20:07 WARN DAGScheduler: Broadcasting large task binary with size 1130.9 KiB\n",
      "25/05/10 21:20:07 WARN DAGScheduler: Broadcasting large task binary with size 1130.9 KiB\n",
      "25/05/10 21:20:07 WARN DAGScheduler: Broadcasting large task binary with size 1130.8 KiB\n",
      "25/05/10 21:20:07 WARN DAGScheduler: Broadcasting large task binary with size 1130.9 KiB\n",
      "25/05/10 21:20:08 WARN DAGScheduler: Broadcasting large task binary with size 1130.8 KiB\n"
     ]
    },
    {
     "name": "stderr",
     "output_type": "stream",
     "text": [
      "[Stage 1524:> (0 + 2) / 2][Stage 1525:> (0 + 0) / 2][Stage 1526:> (0 + 0) / 2]"
     ]
    },
    {
     "name": "stdout",
     "output_type": "stream",
     "text": [
      "25/05/10 21:20:08 WARN DAGScheduler: Broadcasting large task binary with size 1129.6 KiB\n"
     ]
    },
    {
     "name": "stderr",
     "output_type": "stream",
     "text": [
      "                                                                                "
     ]
    },
    {
     "name": "stdout",
     "output_type": "stream",
     "text": [
      "25/05/10 21:20:12 WARN DAGScheduler: Broadcasting large task binary with size 1130.8 KiB\n"
     ]
    },
    {
     "name": "stderr",
     "output_type": "stream",
     "text": [
      "                                                                                "
     ]
    },
    {
     "name": "stdout",
     "output_type": "stream",
     "text": [
      "25/05/10 21:20:16 WARN DAGScheduler: Broadcasting large task binary with size 1130.8 KiB\n",
      "25/05/10 21:20:17 WARN DAGScheduler: Broadcasting large task binary with size 1130.9 KiB\n",
      "25/05/10 21:20:17 WARN DAGScheduler: Broadcasting large task binary with size 1130.9 KiB\n",
      "25/05/10 21:20:17 WARN DAGScheduler: Broadcasting large task binary with size 1130.9 KiB\n",
      "25/05/10 21:20:17 WARN DAGScheduler: Broadcasting large task binary with size 1130.8 KiB\n",
      "25/05/10 21:20:17 WARN DAGScheduler: Broadcasting large task binary with size 1130.8 KiB\n",
      "25/05/10 21:20:17 WARN DAGScheduler: Broadcasting large task binary with size 1130.9 KiB\n"
     ]
    },
    {
     "name": "stderr",
     "output_type": "stream",
     "text": [
      "                                                                                "
     ]
    },
    {
     "name": "stdout",
     "output_type": "stream",
     "text": [
      "25/05/10 21:20:21 WARN DAGScheduler: Broadcasting large task binary with size 1130.8 KiB\n"
     ]
    },
    {
     "name": "stderr",
     "output_type": "stream",
     "text": [
      "                                                                                "
     ]
    },
    {
     "name": "stdout",
     "output_type": "stream",
     "text": [
      "25/05/10 21:20:26 WARN DAGScheduler: Broadcasting large task binary with size 1130.8 KiB\n"
     ]
    },
    {
     "name": "stderr",
     "output_type": "stream",
     "text": [
      "                                                                                "
     ]
    },
    {
     "name": "stdout",
     "output_type": "stream",
     "text": [
      "25/05/10 21:20:31 WARN DAGScheduler: Broadcasting large task binary with size 1130.8 KiB\n",
      "25/05/10 21:20:31 WARN DAGScheduler: Broadcasting large task binary with size 1130.9 KiB\n",
      "25/05/10 21:20:31 WARN DAGScheduler: Broadcasting large task binary with size 1130.9 KiB\n",
      "25/05/10 21:20:31 WARN DAGScheduler: Broadcasting large task binary with size 1130.9 KiB\n",
      "25/05/10 21:20:31 WARN DAGScheduler: Broadcasting large task binary with size 1130.9 KiB\n",
      "25/05/10 21:20:31 WARN DAGScheduler: Broadcasting large task binary with size 1130.8 KiB\n",
      "25/05/10 21:20:31 WARN DAGScheduler: Broadcasting large task binary with size 1130.8 KiB\n"
     ]
    },
    {
     "name": "stderr",
     "output_type": "stream",
     "text": [
      "                                                                                "
     ]
    },
    {
     "name": "stdout",
     "output_type": "stream",
     "text": [
      "25/05/10 21:20:35 WARN DAGScheduler: Broadcasting large task binary with size 1130.8 KiB\n",
      "25/05/10 21:20:35 WARN DAGScheduler: Broadcasting large task binary with size 1130.8 KiB\n",
      "25/05/10 21:20:35 WARN DAGScheduler: Broadcasting large task binary with size 1130.8 KiB\n",
      "25/05/10 21:20:35 WARN DAGScheduler: Broadcasting large task binary with size 1130.9 KiB\n",
      "25/05/10 21:20:36 WARN DAGScheduler: Broadcasting large task binary with size 1130.9 KiB\n",
      "25/05/10 21:20:36 WARN DAGScheduler: Broadcasting large task binary with size 1130.9 KiB\n",
      "25/05/10 21:20:36 WARN DAGScheduler: Broadcasting large task binary with size 1130.9 KiB\n",
      "25/05/10 21:20:36 WARN DAGScheduler: Broadcasting large task binary with size 1130.8 KiB\n",
      "25/05/10 21:20:36 WARN DAGScheduler: Broadcasting large task binary with size 1130.8 KiB\n",
      "25/05/10 21:20:36 WARN DAGScheduler: Broadcasting large task binary with size 1130.8 KiB\n",
      "25/05/10 21:20:36 WARN DAGScheduler: Broadcasting large task binary with size 1130.9 KiB\n",
      "25/05/10 21:20:36 WARN DAGScheduler: Broadcasting large task binary with size 1130.8 KiB\n",
      "25/05/10 21:20:36 WARN DAGScheduler: Broadcasting large task binary with size 1130.8 KiB\n",
      "25/05/10 21:20:36 WARN DAGScheduler: Broadcasting large task binary with size 1130.9 KiB\n",
      "25/05/10 21:20:36 WARN DAGScheduler: Broadcasting large task binary with size 1130.8 KiB\n",
      "25/05/10 21:20:36 WARN DAGScheduler: Broadcasting large task binary with size 1130.8 KiB\n",
      "25/05/10 21:20:36 WARN DAGScheduler: Broadcasting large task binary with size 1130.8 KiB\n",
      "25/05/10 21:20:36 WARN DAGScheduler: Broadcasting large task binary with size 1130.9 KiB\n",
      "25/05/10 21:20:36 WARN DAGScheduler: Broadcasting large task binary with size 1130.9 KiB\n",
      "25/05/10 21:20:36 WARN DAGScheduler: Broadcasting large task binary with size 1130.8 KiB\n",
      "25/05/10 21:20:36 WARN DAGScheduler: Broadcasting large task binary with size 1130.8 KiB\n",
      "25/05/10 21:20:36 WARN DAGScheduler: Broadcasting large task binary with size 1130.8 KiB\n",
      "25/05/10 21:20:36 WARN DAGScheduler: Broadcasting large task binary with size 1129.7 KiB\n",
      "25/05/10 21:20:36 WARN DAGScheduler: Broadcasting large task binary with size 1130.8 KiB\n",
      "25/05/10 21:20:37 WARN DAGScheduler: Broadcasting large task binary with size 1130.9 KiB\n",
      "25/05/10 21:20:37 WARN DAGScheduler: Broadcasting large task binary with size 1130.9 KiB\n",
      "25/05/10 21:20:37 WARN DAGScheduler: Broadcasting large task binary with size 1130.8 KiB\n",
      "25/05/10 21:20:37 WARN DAGScheduler: Broadcasting large task binary with size 1130.9 KiB\n",
      "25/05/10 21:20:37 WARN DAGScheduler: Broadcasting large task binary with size 1130.8 KiB\n",
      "25/05/10 21:20:37 WARN DAGScheduler: Broadcasting large task binary with size 1130.8 KiB\n",
      "25/05/10 21:20:37 WARN DAGScheduler: Broadcasting large task binary with size 1129.6 KiB\n"
     ]
    },
    {
     "name": "stderr",
     "output_type": "stream",
     "text": [
      "                                                                                "
     ]
    },
    {
     "name": "stdout",
     "output_type": "stream",
     "text": [
      "25/05/10 21:20:41 WARN DAGScheduler: Broadcasting large task binary with size 1130.9 KiB\n",
      "25/05/10 21:20:41 WARN DAGScheduler: Broadcasting large task binary with size 1130.8 KiB\n",
      "25/05/10 21:20:41 WARN DAGScheduler: Broadcasting large task binary with size 1130.9 KiB\n",
      "25/05/10 21:20:41 WARN DAGScheduler: Broadcasting large task binary with size 1130.9 KiB\n",
      "25/05/10 21:20:41 WARN DAGScheduler: Broadcasting large task binary with size 1130.8 KiB\n",
      "25/05/10 21:20:41 WARN DAGScheduler: Broadcasting large task binary with size 1130.9 KiB\n",
      "25/05/10 21:20:41 WARN DAGScheduler: Broadcasting large task binary with size 1130.8 KiB\n",
      "25/05/10 21:20:41 WARN DAGScheduler: Broadcasting large task binary with size 1130.8 KiB\n"
     ]
    },
    {
     "name": "stderr",
     "output_type": "stream",
     "text": [
      "                                                                                "
     ]
    },
    {
     "name": "stdout",
     "output_type": "stream",
     "text": [
      "25/05/10 21:20:46 WARN DAGScheduler: Broadcasting large task binary with size 1130.8 KiB\n"
     ]
    },
    {
     "name": "stderr",
     "output_type": "stream",
     "text": [
      "                                                                                "
     ]
    },
    {
     "name": "stdout",
     "output_type": "stream",
     "text": [
      "25/05/10 21:20:50 WARN DAGScheduler: Broadcasting large task binary with size 1130.9 KiB\n",
      "25/05/10 21:20:51 WARN DAGScheduler: Broadcasting large task binary with size 1130.8 KiB\n",
      "25/05/10 21:20:51 WARN DAGScheduler: Broadcasting large task binary with size 1130.9 KiB\n",
      "25/05/10 21:20:51 WARN DAGScheduler: Broadcasting large task binary with size 1130.9 KiB\n",
      "25/05/10 21:20:51 WARN DAGScheduler: Broadcasting large task binary with size 1130.9 KiB\n",
      "25/05/10 21:20:51 WARN DAGScheduler: Broadcasting large task binary with size 1130.8 KiB\n",
      "25/05/10 21:20:51 WARN DAGScheduler: Broadcasting large task binary with size 1130.8 KiB\n",
      "25/05/10 21:20:51 WARN DAGScheduler: Broadcasting large task binary with size 1130.8 KiB\n"
     ]
    },
    {
     "name": "stderr",
     "output_type": "stream",
     "text": [
      "                                                                                "
     ]
    },
    {
     "name": "stdout",
     "output_type": "stream",
     "text": [
      "25/05/10 21:20:55 WARN DAGScheduler: Broadcasting large task binary with size 1130.8 KiB\n",
      "25/05/10 21:20:55 WARN DAGScheduler: Broadcasting large task binary with size 1130.8 KiB\n",
      "25/05/10 21:20:55 WARN DAGScheduler: Broadcasting large task binary with size 1130.9 KiB\n",
      "25/05/10 21:20:55 WARN DAGScheduler: Broadcasting large task binary with size 1130.9 KiB\n",
      "25/05/10 21:20:56 WARN DAGScheduler: Broadcasting large task binary with size 1130.9 KiB\n",
      "25/05/10 21:20:56 WARN DAGScheduler: Broadcasting large task binary with size 1130.9 KiB\n",
      "25/05/10 21:20:56 WARN DAGScheduler: Broadcasting large task binary with size 1130.8 KiB\n",
      "25/05/10 21:20:56 WARN DAGScheduler: Broadcasting large task binary with size 1130.8 KiB\n",
      "25/05/10 21:20:56 WARN DAGScheduler: Broadcasting large task binary with size 1130.8 KiB\n",
      "25/05/10 21:20:56 WARN DAGScheduler: Broadcasting large task binary with size 1130.8 KiB\n",
      "25/05/10 21:20:56 WARN DAGScheduler: Broadcasting large task binary with size 1130.8 KiB\n",
      "25/05/10 21:20:56 WARN DAGScheduler: Broadcasting large task binary with size 1130.9 KiB\n",
      "25/05/10 21:20:56 WARN DAGScheduler: Broadcasting large task binary with size 1130.9 KiB\n",
      "25/05/10 21:20:56 WARN DAGScheduler: Broadcasting large task binary with size 1130.9 KiB\n",
      "25/05/10 21:20:56 WARN DAGScheduler: Broadcasting large task binary with size 1130.8 KiB\n",
      "25/05/10 21:20:56 WARN DAGScheduler: Broadcasting large task binary with size 1130.9 KiB\n",
      "25/05/10 21:20:56 WARN DAGScheduler: Broadcasting large task binary with size 1130.8 KiB\n",
      "25/05/10 21:20:56 WARN DAGScheduler: Broadcasting large task binary with size 1130.8 KiB\n",
      "25/05/10 21:20:56 WARN DAGScheduler: Broadcasting large task binary with size 1130.8 KiB\n",
      "25/05/10 21:20:56 WARN DAGScheduler: Broadcasting large task binary with size 1130.8 KiB\n",
      "25/05/10 21:20:56 WARN DAGScheduler: Broadcasting large task binary with size 1130.9 KiB\n",
      "25/05/10 21:20:56 WARN DAGScheduler: Broadcasting large task binary with size 1130.9 KiB\n",
      "25/05/10 21:20:56 WARN DAGScheduler: Broadcasting large task binary with size 1130.9 KiB\n",
      "25/05/10 21:20:56 WARN DAGScheduler: Broadcasting large task binary with size 1130.8 KiB\n",
      "25/05/10 21:20:56 WARN DAGScheduler: Broadcasting large task binary with size 1130.9 KiB\n",
      "25/05/10 21:20:56 WARN DAGScheduler: Broadcasting large task binary with size 1130.8 KiB\n",
      "25/05/10 21:20:56 WARN DAGScheduler: Broadcasting large task binary with size 1130.8 KiB\n",
      "25/05/10 21:20:56 WARN DAGScheduler: Broadcasting large task binary with size 1130.9 KiB\n",
      "25/05/10 21:20:56 WARN DAGScheduler: Broadcasting large task binary with size 1130.9 KiB\n",
      "25/05/10 21:20:57 WARN DAGScheduler: Broadcasting large task binary with size 1130.8 KiB\n",
      "25/05/10 21:20:57 WARN DAGScheduler: Broadcasting large task binary with size 1130.8 KiB\n",
      "25/05/10 21:20:57 WARN DAGScheduler: Broadcasting large task binary with size 1130.9 KiB\n",
      "25/05/10 21:20:57 WARN DAGScheduler: Broadcasting large task binary with size 1130.8 KiB\n",
      "25/05/10 21:20:57 WARN DAGScheduler: Broadcasting large task binary with size 1130.9 KiB\n",
      "25/05/10 21:20:57 WARN DAGScheduler: Broadcasting large task binary with size 1130.9 KiB\n",
      "25/05/10 21:20:57 WARN DAGScheduler: Broadcasting large task binary with size 1130.8 KiB\n",
      "25/05/10 21:20:57 WARN DAGScheduler: Broadcasting large task binary with size 1130.8 KiB\n",
      "25/05/10 21:20:57 WARN DAGScheduler: Broadcasting large task binary with size 1130.9 KiB\n",
      "25/05/10 21:20:57 WARN DAGScheduler: Broadcasting large task binary with size 1130.8 KiB\n",
      "25/05/10 21:20:57 WARN DAGScheduler: Broadcasting large task binary with size 1130.8 KiB\n",
      "25/05/10 21:20:57 WARN DAGScheduler: Broadcasting large task binary with size 1130.9 KiB\n",
      "25/05/10 21:20:57 WARN DAGScheduler: Broadcasting large task binary with size 1130.8 KiB\n",
      "25/05/10 21:20:57 WARN DAGScheduler: Broadcasting large task binary with size 1130.9 KiB\n",
      "25/05/10 21:20:57 WARN DAGScheduler: Broadcasting large task binary with size 1130.9 KiB\n",
      "25/05/10 21:20:57 WARN DAGScheduler: Broadcasting large task binary with size 1130.8 KiB\n",
      "25/05/10 21:20:57 WARN DAGScheduler: Broadcasting large task binary with size 1130.8 KiB\n",
      "25/05/10 21:20:57 WARN DAGScheduler: Broadcasting large task binary with size 1130.9 KiB\n",
      "25/05/10 21:20:57 WARN DAGScheduler: Broadcasting large task binary with size 1130.8 KiB\n",
      "25/05/10 21:20:57 WARN DAGScheduler: Broadcasting large task binary with size 1130.8 KiB\n",
      "25/05/10 21:20:57 WARN DAGScheduler: Broadcasting large task binary with size 1130.9 KiB\n",
      "25/05/10 21:20:57 WARN DAGScheduler: Broadcasting large task binary with size 1130.8 KiB\n",
      "25/05/10 21:20:57 WARN DAGScheduler: Broadcasting large task binary with size 1130.9 KiB\n",
      "25/05/10 21:20:57 WARN DAGScheduler: Broadcasting large task binary with size 1130.9 KiB\n",
      "25/05/10 21:20:57 WARN DAGScheduler: Broadcasting large task binary with size 1130.8 KiB\n",
      "25/05/10 21:20:58 WARN DAGScheduler: Broadcasting large task binary with size 1130.8 KiB\n",
      "25/05/10 21:20:58 WARN DAGScheduler: Broadcasting large task binary with size 1130.8 KiB\n",
      "25/05/10 21:20:58 WARN DAGScheduler: Broadcasting large task binary with size 1130.9 KiB\n",
      "25/05/10 21:20:58 WARN DAGScheduler: Broadcasting large task binary with size 1130.8 KiB\n",
      "25/05/10 21:20:58 WARN DAGScheduler: Broadcasting large task binary with size 1130.9 KiB\n",
      "25/05/10 21:20:58 WARN DAGScheduler: Broadcasting large task binary with size 1130.9 KiB\n",
      "25/05/10 21:20:58 WARN DAGScheduler: Broadcasting large task binary with size 1130.8 KiB\n",
      "25/05/10 21:20:58 WARN DAGScheduler: Broadcasting large task binary with size 1130.9 KiB\n",
      "25/05/10 21:20:58 WARN DAGScheduler: Broadcasting large task binary with size 1130.8 KiB\n",
      "25/05/10 21:20:58 WARN DAGScheduler: Broadcasting large task binary with size 1130.8 KiB\n",
      "25/05/10 21:20:58 WARN DAGScheduler: Broadcasting large task binary with size 1130.8 KiB\n",
      "25/05/10 21:20:58 WARN DAGScheduler: Broadcasting large task binary with size 1130.8 KiB\n",
      "25/05/10 21:20:58 WARN DAGScheduler: Broadcasting large task binary with size 1130.9 KiB\n",
      "25/05/10 21:20:58 WARN DAGScheduler: Broadcasting large task binary with size 1130.9 KiB\n",
      "25/05/10 21:20:58 WARN DAGScheduler: Broadcasting large task binary with size 1130.9 KiB\n",
      "25/05/10 21:20:58 WARN DAGScheduler: Broadcasting large task binary with size 1130.8 KiB\n",
      "25/05/10 21:20:58 WARN DAGScheduler: Broadcasting large task binary with size 1130.9 KiB\n",
      "25/05/10 21:20:58 WARN DAGScheduler: Broadcasting large task binary with size 1130.8 KiB\n",
      "25/05/10 21:20:58 WARN DAGScheduler: Broadcasting large task binary with size 1130.8 KiB\n",
      "25/05/10 21:20:58 WARN DAGScheduler: Broadcasting large task binary with size 1130.8 KiB\n",
      "25/05/10 21:20:58 WARN DAGScheduler: Broadcasting large task binary with size 1130.8 KiB\n",
      "25/05/10 21:20:58 WARN DAGScheduler: Broadcasting large task binary with size 1130.9 KiB\n",
      "25/05/10 21:20:58 WARN DAGScheduler: Broadcasting large task binary with size 1130.9 KiB\n",
      "25/05/10 21:20:58 WARN DAGScheduler: Broadcasting large task binary with size 1130.9 KiB\n",
      "25/05/10 21:20:58 WARN DAGScheduler: Broadcasting large task binary with size 1130.8 KiB\n",
      "25/05/10 21:20:58 WARN DAGScheduler: Broadcasting large task binary with size 1130.8 KiB\n",
      "25/05/10 21:20:58 WARN DAGScheduler: Broadcasting large task binary with size 1130.9 KiB\n",
      "25/05/10 21:20:58 WARN DAGScheduler: Broadcasting large task binary with size 1130.8 KiB\n",
      "25/05/10 21:20:58 WARN DAGScheduler: Broadcasting large task binary with size 1130.8 KiB\n",
      "25/05/10 21:20:59 WARN DAGScheduler: Broadcasting large task binary with size 1130.8 KiB\n",
      "25/05/10 21:20:59 WARN DAGScheduler: Broadcasting large task binary with size 1130.9 KiB\n",
      "25/05/10 21:20:59 WARN DAGScheduler: Broadcasting large task binary with size 1130.9 KiB\n",
      "25/05/10 21:20:59 WARN DAGScheduler: Broadcasting large task binary with size 1130.9 KiB\n",
      "25/05/10 21:20:59 WARN DAGScheduler: Broadcasting large task binary with size 1130.8 KiB\n",
      "25/05/10 21:20:59 WARN DAGScheduler: Broadcasting large task binary with size 1130.8 KiB\n",
      "25/05/10 21:20:59 WARN DAGScheduler: Broadcasting large task binary with size 1130.9 KiB\n",
      "25/05/10 21:20:59 WARN DAGScheduler: Broadcasting large task binary with size 1130.8 KiB\n",
      "25/05/10 21:20:59 WARN DAGScheduler: Broadcasting large task binary with size 1130.9 KiB\n",
      "25/05/10 21:20:59 WARN DAGScheduler: Broadcasting large task binary with size 1130.8 KiB\n",
      "25/05/10 21:20:59 WARN DAGScheduler: Broadcasting large task binary with size 1130.8 KiB\n",
      "25/05/10 21:20:59 WARN DAGScheduler: Broadcasting large task binary with size 1130.9 KiB\n",
      "25/05/10 21:20:59 WARN BlockManager: Asked to remove block broadcast_3230_piece0, which does not exist\n",
      "25/05/10 21:20:59 WARN DAGScheduler: Broadcasting large task binary with size 1130.9 KiB\n",
      "25/05/10 21:20:59 WARN DAGScheduler: Broadcasting large task binary with size 1130.8 KiB\n",
      "25/05/10 21:20:59 WARN DAGScheduler: Broadcasting large task binary with size 1130.9 KiB\n",
      "25/05/10 21:20:59 WARN DAGScheduler: Broadcasting large task binary with size 1130.8 KiB\n",
      "25/05/10 21:20:59 WARN DAGScheduler: Broadcasting large task binary with size 1130.8 KiB\n",
      "25/05/10 21:20:59 WARN DAGScheduler: Broadcasting large task binary with size 1130.9 KiB\n",
      "25/05/10 21:20:59 WARN DAGScheduler: Broadcasting large task binary with size 1130.8 KiB\n",
      "25/05/10 21:20:59 WARN DAGScheduler: Broadcasting large task binary with size 1130.9 KiB\n",
      "25/05/10 21:20:59 WARN DAGScheduler: Broadcasting large task binary with size 1130.9 KiB\n",
      "25/05/10 21:20:59 WARN DAGScheduler: Broadcasting large task binary with size 1130.8 KiB\n",
      "25/05/10 21:20:59 WARN DAGScheduler: Broadcasting large task binary with size 1130.8 KiB\n",
      "25/05/10 21:20:59 WARN DAGScheduler: Broadcasting large task binary with size 1130.9 KiB\n",
      "25/05/10 21:20:59 WARN DAGScheduler: Broadcasting large task binary with size 1130.8 KiB\n",
      "25/05/10 21:20:59 WARN DAGScheduler: Broadcasting large task binary with size 1130.8 KiB\n",
      "25/05/10 21:20:59 WARN DAGScheduler: Broadcasting large task binary with size 1130.9 KiB\n",
      "25/05/10 21:21:00 WARN DAGScheduler: Broadcasting large task binary with size 1130.9 KiB\n",
      "25/05/10 21:21:00 WARN DAGScheduler: Broadcasting large task binary with size 1130.8 KiB\n",
      "25/05/10 21:21:00 WARN DAGScheduler: Broadcasting large task binary with size 1130.9 KiB\n",
      "25/05/10 21:21:00 WARN DAGScheduler: Broadcasting large task binary with size 1130.8 KiB\n",
      "25/05/10 21:21:00 WARN DAGScheduler: Broadcasting large task binary with size 1130.8 KiB\n",
      "25/05/10 21:21:00 WARN DAGScheduler: Broadcasting large task binary with size 1130.9 KiB\n",
      "25/05/10 21:21:00 WARN DAGScheduler: Broadcasting large task binary with size 1130.9 KiB\n",
      "25/05/10 21:21:00 WARN DAGScheduler: Broadcasting large task binary with size 1130.8 KiB\n",
      "25/05/10 21:21:00 WARN DAGScheduler: Broadcasting large task binary with size 1130.8 KiB\n",
      "25/05/10 21:21:00 WARN DAGScheduler: Broadcasting large task binary with size 1130.8 KiB\n",
      "25/05/10 21:21:00 WARN DAGScheduler: Broadcasting large task binary with size 1130.9 KiB\n",
      "25/05/10 21:21:00 WARN DAGScheduler: Broadcasting large task binary with size 1130.8 KiB\n",
      "25/05/10 21:21:00 WARN DAGScheduler: Broadcasting large task binary with size 1130.9 KiB\n",
      "25/05/10 21:21:00 WARN DAGScheduler: Broadcasting large task binary with size 1130.8 KiB\n",
      "25/05/10 21:21:00 WARN DAGScheduler: Broadcasting large task binary with size 1130.8 KiB\n",
      "25/05/10 21:21:00 WARN DAGScheduler: Broadcasting large task binary with size 1130.9 KiB\n",
      "25/05/10 21:21:00 WARN DAGScheduler: Broadcasting large task binary with size 1130.9 KiB\n",
      "25/05/10 21:21:00 WARN DAGScheduler: Broadcasting large task binary with size 1130.8 KiB\n",
      "25/05/10 21:21:00 WARN DAGScheduler: Broadcasting large task binary with size 1130.8 KiB\n",
      "25/05/10 21:21:00 WARN DAGScheduler: Broadcasting large task binary with size 1130.8 KiB\n",
      "25/05/10 21:21:00 WARN DAGScheduler: Broadcasting large task binary with size 1130.9 KiB\n",
      "25/05/10 21:21:00 WARN DAGScheduler: Broadcasting large task binary with size 1130.9 KiB\n",
      "25/05/10 21:21:00 WARN DAGScheduler: Broadcasting large task binary with size 1130.8 KiB\n",
      "25/05/10 21:21:00 WARN DAGScheduler: Broadcasting large task binary with size 1130.9 KiB\n",
      "25/05/10 21:21:00 WARN DAGScheduler: Broadcasting large task binary with size 1130.8 KiB\n",
      "25/05/10 21:21:00 WARN DAGScheduler: Broadcasting large task binary with size 1130.9 KiB\n",
      "25/05/10 21:21:00 WARN DAGScheduler: Broadcasting large task binary with size 1130.8 KiB\n",
      "25/05/10 21:21:01 WARN DAGScheduler: Broadcasting large task binary with size 1130.8 KiB\n",
      "25/05/10 21:21:01 WARN DAGScheduler: Broadcasting large task binary with size 1130.8 KiB\n",
      "25/05/10 21:21:01 WARN DAGScheduler: Broadcasting large task binary with size 1130.9 KiB\n",
      "25/05/10 21:21:01 WARN DAGScheduler: Broadcasting large task binary with size 1130.9 KiB\n",
      "25/05/10 21:21:01 WARN DAGScheduler: Broadcasting large task binary with size 1130.8 KiB\n",
      "25/05/10 21:21:01 WARN DAGScheduler: Broadcasting large task binary with size 1130.9 KiB\n",
      "25/05/10 21:21:01 WARN DAGScheduler: Broadcasting large task binary with size 1130.8 KiB\n",
      "25/05/10 21:21:01 WARN DAGScheduler: Broadcasting large task binary with size 1130.9 KiB\n",
      "25/05/10 21:21:01 WARN DAGScheduler: Broadcasting large task binary with size 1130.8 KiB\n",
      "25/05/10 21:21:01 WARN DAGScheduler: Broadcasting large task binary with size 1130.8 KiB\n",
      "25/05/10 21:21:01 WARN DAGScheduler: Broadcasting large task binary with size 1130.9 KiB\n",
      "25/05/10 21:21:01 WARN DAGScheduler: Broadcasting large task binary with size 1130.9 KiB\n",
      "25/05/10 21:21:01 WARN DAGScheduler: Broadcasting large task binary with size 1130.8 KiB\n",
      "25/05/10 21:21:01 WARN DAGScheduler: Broadcasting large task binary with size 1130.9 KiB\n",
      "25/05/10 21:21:01 WARN DAGScheduler: Broadcasting large task binary with size 1130.8 KiB\n",
      "25/05/10 21:21:01 WARN DAGScheduler: Broadcasting large task binary with size 1130.9 KiB\n",
      "25/05/10 21:21:01 WARN DAGScheduler: Broadcasting large task binary with size 1130.8 KiB\n",
      "25/05/10 21:21:01 WARN DAGScheduler: Broadcasting large task binary with size 1130.8 KiB\n",
      "25/05/10 21:21:01 WARN DAGScheduler: Broadcasting large task binary with size 1130.9 KiB\n",
      "25/05/10 21:21:01 WARN DAGScheduler: Broadcasting large task binary with size 1130.9 KiB\n",
      "25/05/10 21:21:01 WARN DAGScheduler: Broadcasting large task binary with size 1130.8 KiB\n",
      "25/05/10 21:21:01 WARN DAGScheduler: Broadcasting large task binary with size 1129.6 KiB\n",
      "25/05/10 21:21:01 WARN DAGScheduler: Broadcasting large task binary with size 1130.9 KiB\n",
      "25/05/10 21:21:01 WARN DAGScheduler: Broadcasting large task binary with size 1130.8 KiB\n",
      "25/05/10 21:21:01 WARN DAGScheduler: Broadcasting large task binary with size 1130.9 KiB\n",
      "25/05/10 21:21:01 WARN DAGScheduler: Broadcasting large task binary with size 1130.8 KiB\n",
      "25/05/10 21:21:01 WARN DAGScheduler: Broadcasting large task binary with size 1130.8 KiB\n",
      "25/05/10 21:21:01 WARN DAGScheduler: Broadcasting large task binary with size 1130.9 KiB\n",
      "25/05/10 21:21:01 WARN DAGScheduler: Broadcasting large task binary with size 1130.9 KiB\n",
      "25/05/10 21:21:02 WARN DAGScheduler: Broadcasting large task binary with size 1130.8 KiB\n"
     ]
    },
    {
     "name": "stderr",
     "output_type": "stream",
     "text": [
      "                                                                                "
     ]
    },
    {
     "name": "stdout",
     "output_type": "stream",
     "text": [
      "25/05/10 21:21:06 WARN DAGScheduler: Broadcasting large task binary with size 1130.8 KiB\n",
      "25/05/10 21:21:06 WARN DAGScheduler: Broadcasting large task binary with size 1130.9 KiB\n",
      "25/05/10 21:21:06 WARN DAGScheduler: Broadcasting large task binary with size 1130.8 KiB\n",
      "25/05/10 21:21:06 WARN DAGScheduler: Broadcasting large task binary with size 1130.9 KiB\n",
      "25/05/10 21:21:06 WARN DAGScheduler: Broadcasting large task binary with size 1130.8 KiB\n",
      "25/05/10 21:21:06 WARN DAGScheduler: Broadcasting large task binary with size 1130.8 KiB\n",
      "25/05/10 21:21:06 WARN DAGScheduler: Broadcasting large task binary with size 1130.9 KiB\n",
      "25/05/10 21:21:06 WARN DAGScheduler: Broadcasting large task binary with size 1130.9 KiB\n",
      "25/05/10 21:21:06 WARN DAGScheduler: Broadcasting large task binary with size 1130.8 KiB\n"
     ]
    },
    {
     "name": "stderr",
     "output_type": "stream",
     "text": [
      "                                                                                "
     ]
    },
    {
     "name": "stdout",
     "output_type": "stream",
     "text": [
      "25/05/10 21:21:11 WARN DAGScheduler: Broadcasting large task binary with size 1130.8 KiB\n",
      "25/05/10 21:21:11 WARN DAGScheduler: Broadcasting large task binary with size 1130.8 KiB\n",
      "25/05/10 21:21:11 WARN DAGScheduler: Broadcasting large task binary with size 1130.9 KiB\n",
      "25/05/10 21:21:11 WARN DAGScheduler: Broadcasting large task binary with size 1130.8 KiB\n",
      "25/05/10 21:21:11 WARN DAGScheduler: Broadcasting large task binary with size 1130.8 KiB\n",
      "25/05/10 21:21:11 WARN DAGScheduler: Broadcasting large task binary with size 1130.9 KiB\n",
      "25/05/10 21:21:11 WARN DAGScheduler: Broadcasting large task binary with size 1130.9 KiB\n",
      "25/05/10 21:21:11 WARN DAGScheduler: Broadcasting large task binary with size 1130.9 KiB\n",
      "25/05/10 21:21:11 WARN DAGScheduler: Broadcasting large task binary with size 1130.8 KiB\n",
      "25/05/10 21:21:11 WARN DAGScheduler: Broadcasting large task binary with size 1130.8 KiB\n",
      "25/05/10 21:21:11 WARN DAGScheduler: Broadcasting large task binary with size 1130.9 KiB\n",
      "25/05/10 21:21:11 WARN DAGScheduler: Broadcasting large task binary with size 1130.8 KiB\n",
      "25/05/10 21:21:11 WARN DAGScheduler: Broadcasting large task binary with size 1130.8 KiB\n",
      "25/05/10 21:21:11 WARN DAGScheduler: Broadcasting large task binary with size 1130.8 KiB\n",
      "25/05/10 21:21:11 WARN DAGScheduler: Broadcasting large task binary with size 1130.9 KiB\n",
      "25/05/10 21:21:12 WARN DAGScheduler: Broadcasting large task binary with size 1130.8 KiB\n",
      "25/05/10 21:21:12 WARN DAGScheduler: Broadcasting large task binary with size 1130.9 KiB\n",
      "25/05/10 21:21:12 WARN DAGScheduler: Broadcasting large task binary with size 1130.9 KiB\n",
      "25/05/10 21:21:12 WARN DAGScheduler: Broadcasting large task binary with size 1130.8 KiB\n",
      "25/05/10 21:21:12 WARN DAGScheduler: Broadcasting large task binary with size 1130.9 KiB\n",
      "25/05/10 21:21:12 WARN DAGScheduler: Broadcasting large task binary with size 1130.8 KiB\n",
      "25/05/10 21:21:12 WARN DAGScheduler: Broadcasting large task binary with size 1130.9 KiB\n",
      "25/05/10 21:21:12 WARN DAGScheduler: Broadcasting large task binary with size 1130.8 KiB\n",
      "25/05/10 21:21:12 WARN DAGScheduler: Broadcasting large task binary with size 1130.9 KiB\n",
      "25/05/10 21:21:12 WARN DAGScheduler: Broadcasting large task binary with size 1130.8 KiB\n",
      "25/05/10 21:21:12 WARN DAGScheduler: Broadcasting large task binary with size 1130.9 KiB\n",
      "25/05/10 21:21:12 WARN DAGScheduler: Broadcasting large task binary with size 1129.6 KiB\n",
      "25/05/10 21:21:12 WARN DAGScheduler: Broadcasting large task binary with size 1130.9 KiB\n",
      "25/05/10 21:21:12 WARN DAGScheduler: Broadcasting large task binary with size 1130.9 KiB\n",
      "25/05/10 21:21:12 WARN DAGScheduler: Broadcasting large task binary with size 1130.8 KiB\n",
      "25/05/10 21:21:12 WARN DAGScheduler: Broadcasting large task binary with size 1130.9 KiB\n",
      "25/05/10 21:21:12 WARN DAGScheduler: Broadcasting large task binary with size 1130.8 KiB\n",
      "25/05/10 21:21:12 WARN DAGScheduler: Broadcasting large task binary with size 1130.9 KiB\n",
      "25/05/10 21:21:12 WARN DAGScheduler: Broadcasting large task binary with size 1129.6 KiB\n",
      "25/05/10 21:21:13 WARN DAGScheduler: Broadcasting large task binary with size 1129.6 KiB\n"
     ]
    },
    {
     "name": "stderr",
     "output_type": "stream",
     "text": [
      "                                                                                "
     ]
    },
    {
     "name": "stdout",
     "output_type": "stream",
     "text": [
      "25/05/10 21:21:17 WARN DAGScheduler: Broadcasting large task binary with size 1130.8 KiB\n",
      "25/05/10 21:21:17 WARN DAGScheduler: Broadcasting large task binary with size 1130.9 KiB\n",
      "25/05/10 21:21:17 WARN DAGScheduler: Broadcasting large task binary with size 1130.9 KiB\n",
      "25/05/10 21:21:17 WARN DAGScheduler: Broadcasting large task binary with size 1130.8 KiB\n",
      "25/05/10 21:21:17 WARN DAGScheduler: Broadcasting large task binary with size 1130.9 KiB\n",
      "25/05/10 21:21:17 WARN DAGScheduler: Broadcasting large task binary with size 1130.8 KiB\n",
      "25/05/10 21:21:17 WARN DAGScheduler: Broadcasting large task binary with size 1130.9 KiB\n"
     ]
    },
    {
     "name": "stderr",
     "output_type": "stream",
     "text": [
      "                                                                                "
     ]
    },
    {
     "name": "stdout",
     "output_type": "stream",
     "text": [
      "25/05/10 21:21:21 WARN DAGScheduler: Broadcasting large task binary with size 1130.8 KiB\n"
     ]
    },
    {
     "name": "stderr",
     "output_type": "stream",
     "text": [
      "                                                                                "
     ]
    },
    {
     "name": "stdout",
     "output_type": "stream",
     "text": [
      "25/05/10 21:21:26 WARN DAGScheduler: Broadcasting large task binary with size 1130.8 KiB\n"
     ]
    },
    {
     "name": "stderr",
     "output_type": "stream",
     "text": [
      "                                                                                "
     ]
    },
    {
     "name": "stdout",
     "output_type": "stream",
     "text": [
      "25/05/10 21:21:30 WARN DAGScheduler: Broadcasting large task binary with size 1130.8 KiB\n",
      "25/05/10 21:21:30 WARN DAGScheduler: Broadcasting large task binary with size 1130.9 KiB\n",
      "25/05/10 21:21:31 WARN DAGScheduler: Broadcasting large task binary with size 1130.8 KiB\n",
      "25/05/10 21:21:31 WARN DAGScheduler: Broadcasting large task binary with size 1130.9 KiB\n",
      "25/05/10 21:21:31 WARN DAGScheduler: Broadcasting large task binary with size 1130.8 KiB\n",
      "25/05/10 21:21:31 WARN DAGScheduler: Broadcasting large task binary with size 1130.9 KiB\n",
      "25/05/10 21:21:31 WARN DAGScheduler: Broadcasting large task binary with size 1130.9 KiB\n"
     ]
    },
    {
     "name": "stderr",
     "output_type": "stream",
     "text": [
      "                                                                                "
     ]
    },
    {
     "name": "stdout",
     "output_type": "stream",
     "text": [
      "25/05/10 21:21:35 WARN DAGScheduler: Broadcasting large task binary with size 1130.8 KiB\n"
     ]
    },
    {
     "name": "stderr",
     "output_type": "stream",
     "text": [
      "                                                                                "
     ]
    },
    {
     "name": "stdout",
     "output_type": "stream",
     "text": [
      "25/05/10 21:21:40 WARN DAGScheduler: Broadcasting large task binary with size 1130.8 KiB\n",
      "25/05/10 21:21:40 WARN DAGScheduler: Broadcasting large task binary with size 1130.8 KiB\n",
      "25/05/10 21:21:40 WARN DAGScheduler: Broadcasting large task binary with size 1130.8 KiB\n",
      "25/05/10 21:21:40 WARN DAGScheduler: Broadcasting large task binary with size 1130.9 KiB\n",
      "25/05/10 21:21:40 WARN DAGScheduler: Broadcasting large task binary with size 1130.9 KiB\n",
      "25/05/10 21:21:40 WARN DAGScheduler: Broadcasting large task binary with size 1130.9 KiB\n",
      "25/05/10 21:21:40 WARN DAGScheduler: Broadcasting large task binary with size 1130.8 KiB\n",
      "25/05/10 21:21:40 WARN DAGScheduler: Broadcasting large task binary with size 1130.9 KiB\n",
      "25/05/10 21:21:40 WARN DAGScheduler: Broadcasting large task binary with size 1130.8 KiB\n",
      "25/05/10 21:21:40 WARN DAGScheduler: Broadcasting large task binary with size 1130.8 KiB\n",
      "25/05/10 21:21:40 WARN DAGScheduler: Broadcasting large task binary with size 1130.8 KiB\n",
      "25/05/10 21:21:40 WARN DAGScheduler: Broadcasting large task binary with size 1130.8 KiB\n",
      "25/05/10 21:21:40 WARN DAGScheduler: Broadcasting large task binary with size 1130.8 KiB\n",
      "25/05/10 21:21:40 WARN DAGScheduler: Broadcasting large task binary with size 1130.9 KiB\n",
      "25/05/10 21:21:40 WARN DAGScheduler: Broadcasting large task binary with size 1130.9 KiB\n",
      "25/05/10 21:21:40 WARN DAGScheduler: Broadcasting large task binary with size 1130.9 KiB\n",
      "25/05/10 21:21:40 WARN DAGScheduler: Broadcasting large task binary with size 1130.8 KiB\n",
      "25/05/10 21:21:41 WARN DAGScheduler: Broadcasting large task binary with size 1130.8 KiB\n",
      "25/05/10 21:21:41 WARN DAGScheduler: Broadcasting large task binary with size 1130.8 KiB\n",
      "25/05/10 21:21:41 WARN DAGScheduler: Broadcasting large task binary with size 1130.8 KiB\n",
      "25/05/10 21:21:41 WARN DAGScheduler: Broadcasting large task binary with size 1130.9 KiB\n",
      "25/05/10 21:21:41 WARN DAGScheduler: Broadcasting large task binary with size 1130.9 KiB\n",
      "25/05/10 21:21:41 WARN DAGScheduler: Broadcasting large task binary with size 1130.9 KiB\n",
      "25/05/10 21:21:41 WARN DAGScheduler: Broadcasting large task binary with size 1130.8 KiB\n",
      "25/05/10 21:21:41 WARN DAGScheduler: Broadcasting large task binary with size 1130.8 KiB\n",
      "25/05/10 21:21:41 WARN DAGScheduler: Broadcasting large task binary with size 1129.7 KiB\n",
      "25/05/10 21:21:41 WARN DAGScheduler: Broadcasting large task binary with size 1130.8 KiB\n",
      "25/05/10 21:21:41 WARN DAGScheduler: Broadcasting large task binary with size 1130.8 KiB\n",
      "25/05/10 21:21:41 WARN DAGScheduler: Broadcasting large task binary with size 1130.9 KiB\n",
      "25/05/10 21:21:41 WARN DAGScheduler: Broadcasting large task binary with size 1130.9 KiB\n",
      "25/05/10 21:21:41 WARN DAGScheduler: Broadcasting large task binary with size 1130.9 KiB\n",
      "25/05/10 21:21:41 WARN DAGScheduler: Broadcasting large task binary with size 1130.8 KiB\n",
      "25/05/10 21:21:41 WARN DAGScheduler: Broadcasting large task binary with size 1130.8 KiB\n",
      "25/05/10 21:21:41 WARN DAGScheduler: Broadcasting large task binary with size 1130.8 KiB\n"
     ]
    },
    {
     "name": "stderr",
     "output_type": "stream",
     "text": [
      "                                                                                "
     ]
    },
    {
     "name": "stdout",
     "output_type": "stream",
     "text": [
      "25/05/10 21:21:46 WARN DAGScheduler: Broadcasting large task binary with size 1130.9 KiB\n",
      "25/05/10 21:21:46 WARN DAGScheduler: Broadcasting large task binary with size 1130.8 KiB\n",
      "25/05/10 21:21:46 WARN DAGScheduler: Broadcasting large task binary with size 1130.8 KiB\n",
      "25/05/10 21:21:46 WARN DAGScheduler: Broadcasting large task binary with size 1130.9 KiB\n",
      "25/05/10 21:21:46 WARN DAGScheduler: Broadcasting large task binary with size 1130.9 KiB\n",
      "25/05/10 21:21:46 WARN DAGScheduler: Broadcasting large task binary with size 1130.9 KiB\n",
      "25/05/10 21:21:46 WARN DAGScheduler: Broadcasting large task binary with size 1130.8 KiB\n",
      "25/05/10 21:21:46 WARN DAGScheduler: Broadcasting large task binary with size 1130.8 KiB\n",
      "25/05/10 21:21:46 WARN DAGScheduler: Broadcasting large task binary with size 1130.8 KiB\n"
     ]
    },
    {
     "name": "stderr",
     "output_type": "stream",
     "text": [
      "                                                                                "
     ]
    },
    {
     "name": "stdout",
     "output_type": "stream",
     "text": [
      "25/05/10 21:21:50 WARN DAGScheduler: Broadcasting large task binary with size 1130.9 KiB\n",
      "25/05/10 21:21:51 WARN DAGScheduler: Broadcasting large task binary with size 1130.8 KiB\n",
      "25/05/10 21:21:51 WARN DAGScheduler: Broadcasting large task binary with size 1130.8 KiB\n",
      "25/05/10 21:21:51 WARN DAGScheduler: Broadcasting large task binary with size 1130.9 KiB\n",
      "25/05/10 21:21:51 WARN DAGScheduler: Broadcasting large task binary with size 1130.9 KiB\n",
      "25/05/10 21:21:51 WARN DAGScheduler: Broadcasting large task binary with size 1130.8 KiB\n",
      "25/05/10 21:21:51 WARN DAGScheduler: Broadcasting large task binary with size 1130.8 KiB\n",
      "25/05/10 21:21:51 WARN DAGScheduler: Broadcasting large task binary with size 1130.9 KiB\n",
      "25/05/10 21:21:51 WARN DAGScheduler: Broadcasting large task binary with size 1130.9 KiB\n",
      "25/05/10 21:21:51 WARN DAGScheduler: Broadcasting large task binary with size 1130.8 KiB\n",
      "25/05/10 21:21:51 WARN DAGScheduler: Broadcasting large task binary with size 1130.9 KiB\n",
      "25/05/10 21:21:51 WARN DAGScheduler: Broadcasting large task binary with size 1130.8 KiB\n",
      "25/05/10 21:21:51 WARN DAGScheduler: Broadcasting large task binary with size 1130.8 KiB\n",
      "25/05/10 21:21:51 WARN DAGScheduler: Broadcasting large task binary with size 1130.8 KiB\n",
      "25/05/10 21:21:51 WARN DAGScheduler: Broadcasting large task binary with size 1130.9 KiB\n",
      "25/05/10 21:21:51 WARN DAGScheduler: Broadcasting large task binary with size 1130.8 KiB\n",
      "25/05/10 21:21:51 WARN DAGScheduler: Broadcasting large task binary with size 1130.9 KiB\n",
      "25/05/10 21:21:52 WARN DAGScheduler: Broadcasting large task binary with size 1130.8 KiB\n",
      "25/05/10 21:21:52 WARN DAGScheduler: Broadcasting large task binary with size 1130.9 KiB\n",
      "25/05/10 21:21:52 WARN DAGScheduler: Broadcasting large task binary with size 1130.8 KiB\n",
      "25/05/10 21:21:52 WARN DAGScheduler: Broadcasting large task binary with size 1130.9 KiB\n",
      "25/05/10 21:21:52 WARN DAGScheduler: Broadcasting large task binary with size 1130.8 KiB\n",
      "25/05/10 21:21:52 WARN DAGScheduler: Broadcasting large task binary with size 1130.8 KiB\n",
      "25/05/10 21:21:52 WARN DAGScheduler: Broadcasting large task binary with size 1130.9 KiB\n",
      "25/05/10 21:21:52 WARN DAGScheduler: Broadcasting large task binary with size 1130.8 KiB\n",
      "25/05/10 21:21:52 WARN DAGScheduler: Broadcasting large task binary with size 1130.9 KiB\n",
      "25/05/10 21:21:52 WARN DAGScheduler: Broadcasting large task binary with size 1130.8 KiB\n",
      "25/05/10 21:21:52 WARN DAGScheduler: Broadcasting large task binary with size 1130.8 KiB\n",
      "25/05/10 21:21:52 WARN DAGScheduler: Broadcasting large task binary with size 1130.8 KiB\n",
      "25/05/10 21:21:52 WARN DAGScheduler: Broadcasting large task binary with size 1130.9 KiB\n",
      "25/05/10 21:21:52 WARN DAGScheduler: Broadcasting large task binary with size 1130.9 KiB\n",
      "25/05/10 21:21:52 WARN DAGScheduler: Broadcasting large task binary with size 1130.8 KiB\n",
      "25/05/10 21:21:52 WARN DAGScheduler: Broadcasting large task binary with size 1130.8 KiB\n",
      "25/05/10 21:21:52 WARN DAGScheduler: Broadcasting large task binary with size 1130.8 KiB\n",
      "25/05/10 21:21:52 WARN DAGScheduler: Broadcasting large task binary with size 1130.9 KiB\n",
      "25/05/10 21:21:52 WARN DAGScheduler: Broadcasting large task binary with size 1130.8 KiB\n",
      "25/05/10 21:21:52 WARN DAGScheduler: Broadcasting large task binary with size 1130.9 KiB\n",
      "25/05/10 21:21:53 WARN DAGScheduler: Broadcasting large task binary with size 1130.8 KiB\n",
      "25/05/10 21:21:53 WARN DAGScheduler: Broadcasting large task binary with size 1130.9 KiB\n",
      "25/05/10 21:21:53 WARN DAGScheduler: Broadcasting large task binary with size 1130.9 KiB\n",
      "25/05/10 21:21:53 WARN DAGScheduler: Broadcasting large task binary with size 1130.8 KiB\n",
      "25/05/10 21:21:53 WARN DAGScheduler: Broadcasting large task binary with size 1130.8 KiB\n",
      "25/05/10 21:21:53 WARN DAGScheduler: Broadcasting large task binary with size 1130.9 KiB\n",
      "25/05/10 21:21:53 WARN DAGScheduler: Broadcasting large task binary with size 1130.9 KiB\n",
      "25/05/10 21:21:53 WARN DAGScheduler: Broadcasting large task binary with size 1130.8 KiB\n",
      "25/05/10 21:21:53 WARN DAGScheduler: Broadcasting large task binary with size 1130.8 KiB\n",
      "25/05/10 21:21:53 WARN DAGScheduler: Broadcasting large task binary with size 1130.8 KiB\n",
      "25/05/10 21:21:53 WARN DAGScheduler: Broadcasting large task binary with size 1130.9 KiB\n",
      "25/05/10 21:21:53 WARN DAGScheduler: Broadcasting large task binary with size 1130.9 KiB\n",
      "25/05/10 21:21:53 WARN DAGScheduler: Broadcasting large task binary with size 1130.8 KiB\n",
      "25/05/10 21:21:53 WARN DAGScheduler: Broadcasting large task binary with size 1130.8 KiB\n",
      "25/05/10 21:21:53 WARN DAGScheduler: Broadcasting large task binary with size 1130.8 KiB\n",
      "25/05/10 21:21:53 WARN DAGScheduler: Broadcasting large task binary with size 1130.9 KiB\n",
      "25/05/10 21:21:53 WARN DAGScheduler: Broadcasting large task binary with size 1130.9 KiB\n",
      "25/05/10 21:21:53 WARN DAGScheduler: Broadcasting large task binary with size 1130.8 KiB\n",
      "25/05/10 21:21:53 WARN DAGScheduler: Broadcasting large task binary with size 1130.8 KiB\n",
      "25/05/10 21:21:53 WARN DAGScheduler: Broadcasting large task binary with size 1130.9 KiB\n",
      "25/05/10 21:21:53 WARN DAGScheduler: Broadcasting large task binary with size 1130.9 KiB\n",
      "25/05/10 21:21:53 WARN DAGScheduler: Broadcasting large task binary with size 1130.8 KiB\n",
      "25/05/10 21:21:54 WARN DAGScheduler: Broadcasting large task binary with size 1130.9 KiB\n",
      "25/05/10 21:21:54 WARN DAGScheduler: Broadcasting large task binary with size 1130.8 KiB\n",
      "25/05/10 21:21:54 WARN DAGScheduler: Broadcasting large task binary with size 1130.9 KiB\n",
      "25/05/10 21:21:54 WARN DAGScheduler: Broadcasting large task binary with size 1130.8 KiB\n",
      "25/05/10 21:21:54 WARN DAGScheduler: Broadcasting large task binary with size 1130.8 KiB\n",
      "25/05/10 21:21:54 WARN DAGScheduler: Broadcasting large task binary with size 1130.8 KiB\n",
      "25/05/10 21:21:54 WARN DAGScheduler: Broadcasting large task binary with size 1130.8 KiB\n",
      "25/05/10 21:21:54 WARN DAGScheduler: Broadcasting large task binary with size 1130.9 KiB\n",
      "25/05/10 21:21:54 WARN DAGScheduler: Broadcasting large task binary with size 1130.9 KiB\n",
      "25/05/10 21:21:54 WARN DAGScheduler: Broadcasting large task binary with size 1130.9 KiB\n",
      "25/05/10 21:21:54 WARN DAGScheduler: Broadcasting large task binary with size 1130.9 KiB\n",
      "25/05/10 21:21:54 WARN DAGScheduler: Broadcasting large task binary with size 1130.8 KiB\n",
      "25/05/10 21:21:54 WARN DAGScheduler: Broadcasting large task binary with size 1130.8 KiB\n",
      "25/05/10 21:21:54 WARN DAGScheduler: Broadcasting large task binary with size 1130.8 KiB\n",
      "25/05/10 21:21:54 WARN DAGScheduler: Broadcasting large task binary with size 1130.8 KiB\n",
      "25/05/10 21:21:54 WARN DAGScheduler: Broadcasting large task binary with size 1130.8 KiB\n",
      "25/05/10 21:21:54 WARN DAGScheduler: Broadcasting large task binary with size 1130.9 KiB\n",
      "25/05/10 21:21:54 WARN DAGScheduler: Broadcasting large task binary with size 1130.9 KiB\n",
      "25/05/10 21:21:54 WARN DAGScheduler: Broadcasting large task binary with size 1130.9 KiB\n",
      "25/05/10 21:21:55 WARN DAGScheduler: Broadcasting large task binary with size 1130.9 KiB\n",
      "25/05/10 21:21:55 WARN DAGScheduler: Broadcasting large task binary with size 1130.8 KiB\n",
      "25/05/10 21:21:55 WARN DAGScheduler: Broadcasting large task binary with size 1130.8 KiB\n",
      "25/05/10 21:21:55 WARN DAGScheduler: Broadcasting large task binary with size 1130.8 KiB\n",
      "25/05/10 21:21:55 WARN DAGScheduler: Broadcasting large task binary with size 1130.8 KiB\n",
      "25/05/10 21:21:55 WARN DAGScheduler: Broadcasting large task binary with size 1130.8 KiB\n",
      "25/05/10 21:21:55 WARN DAGScheduler: Broadcasting large task binary with size 1130.9 KiB\n",
      "25/05/10 21:21:55 WARN DAGScheduler: Broadcasting large task binary with size 1130.9 KiB\n",
      "25/05/10 21:21:55 WARN DAGScheduler: Broadcasting large task binary with size 1130.9 KiB\n",
      "25/05/10 21:21:55 WARN DAGScheduler: Broadcasting large task binary with size 1130.9 KiB\n",
      "25/05/10 21:21:55 WARN DAGScheduler: Broadcasting large task binary with size 1130.8 KiB\n",
      "25/05/10 21:21:55 WARN DAGScheduler: Broadcasting large task binary with size 1130.8 KiB\n",
      "25/05/10 21:21:55 WARN DAGScheduler: Broadcasting large task binary with size 1130.8 KiB\n",
      "25/05/10 21:21:55 WARN DAGScheduler: Broadcasting large task binary with size 1130.8 KiB\n",
      "25/05/10 21:21:55 WARN DAGScheduler: Broadcasting large task binary with size 1130.8 KiB\n",
      "25/05/10 21:21:55 WARN DAGScheduler: Broadcasting large task binary with size 1130.9 KiB\n",
      "25/05/10 21:21:55 WARN DAGScheduler: Broadcasting large task binary with size 1130.9 KiB\n",
      "25/05/10 21:21:55 WARN DAGScheduler: Broadcasting large task binary with size 1130.9 KiB\n",
      "25/05/10 21:21:55 WARN DAGScheduler: Broadcasting large task binary with size 1130.9 KiB\n",
      "25/05/10 21:21:55 WARN DAGScheduler: Broadcasting large task binary with size 1130.8 KiB\n",
      "25/05/10 21:21:55 WARN DAGScheduler: Broadcasting large task binary with size 1130.8 KiB\n",
      "25/05/10 21:21:56 WARN DAGScheduler: Broadcasting large task binary with size 1130.9 KiB\n",
      "25/05/10 21:21:56 WARN DAGScheduler: Broadcasting large task binary with size 1130.8 KiB\n",
      "25/05/10 21:21:56 WARN DAGScheduler: Broadcasting large task binary with size 1130.8 KiB\n",
      "25/05/10 21:21:56 WARN DAGScheduler: Broadcasting large task binary with size 1130.9 KiB\n",
      "25/05/10 21:21:56 WARN DAGScheduler: Broadcasting large task binary with size 1130.9 KiB\n",
      "25/05/10 21:21:56 WARN DAGScheduler: Broadcasting large task binary with size 1130.9 KiB\n",
      "25/05/10 21:21:56 WARN DAGScheduler: Broadcasting large task binary with size 1130.8 KiB\n",
      "25/05/10 21:21:56 WARN DAGScheduler: Broadcasting large task binary with size 1130.8 KiB\n",
      "25/05/10 21:21:56 WARN DAGScheduler: Broadcasting large task binary with size 1130.8 KiB\n",
      "25/05/10 21:21:56 WARN DAGScheduler: Broadcasting large task binary with size 1130.9 KiB\n",
      "25/05/10 21:21:56 WARN DAGScheduler: Broadcasting large task binary with size 1129.6 KiB\n",
      "25/05/10 21:21:56 WARN DAGScheduler: Broadcasting large task binary with size 1130.8 KiB\n",
      "25/05/10 21:21:56 WARN DAGScheduler: Broadcasting large task binary with size 1130.9 KiB\n",
      "25/05/10 21:21:56 WARN DAGScheduler: Broadcasting large task binary with size 1130.9 KiB\n",
      "25/05/10 21:21:56 WARN DAGScheduler: Broadcasting large task binary with size 1130.9 KiB\n",
      "25/05/10 21:21:56 WARN DAGScheduler: Broadcasting large task binary with size 1130.8 KiB\n",
      "25/05/10 21:21:56 WARN DAGScheduler: Broadcasting large task binary with size 1130.8 KiB\n",
      "25/05/10 21:21:56 WARN DAGScheduler: Broadcasting large task binary with size 1130.8 KiB\n",
      "25/05/10 21:21:56 WARN DAGScheduler: Broadcasting large task binary with size 1130.9 KiB\n"
     ]
    },
    {
     "name": "stderr",
     "output_type": "stream",
     "text": [
      "                                                                                "
     ]
    },
    {
     "name": "stdout",
     "output_type": "stream",
     "text": [
      "25/05/10 21:22:01 WARN DAGScheduler: Broadcasting large task binary with size 1130.8 KiB\n",
      "25/05/10 21:22:01 WARN DAGScheduler: Broadcasting large task binary with size 1130.8 KiB\n",
      "25/05/10 21:22:01 WARN DAGScheduler: Broadcasting large task binary with size 1130.9 KiB\n",
      "25/05/10 21:22:01 WARN DAGScheduler: Broadcasting large task binary with size 1130.9 KiB\n",
      "25/05/10 21:22:01 WARN DAGScheduler: Broadcasting large task binary with size 1130.9 KiB\n",
      "25/05/10 21:22:01 WARN DAGScheduler: Broadcasting large task binary with size 1130.8 KiB\n",
      "25/05/10 21:22:01 WARN DAGScheduler: Broadcasting large task binary with size 1130.9 KiB\n",
      "25/05/10 21:22:01 WARN DAGScheduler: Broadcasting large task binary with size 1130.8 KiB\n",
      "25/05/10 21:22:01 WARN DAGScheduler: Broadcasting large task binary with size 1130.8 KiB\n"
     ]
    },
    {
     "name": "stderr",
     "output_type": "stream",
     "text": [
      "                                                                                "
     ]
    },
    {
     "name": "stdout",
     "output_type": "stream",
     "text": [
      "25/05/10 21:22:05 WARN DAGScheduler: Broadcasting large task binary with size 1130.8 KiB\n",
      "25/05/10 21:22:06 WARN DAGScheduler: Broadcasting large task binary with size 1130.9 KiB\n",
      "25/05/10 21:22:06 WARN DAGScheduler: Broadcasting large task binary with size 1130.9 KiB\n",
      "25/05/10 21:22:06 WARN DAGScheduler: Broadcasting large task binary with size 1130.8 KiB\n",
      "25/05/10 21:22:06 WARN DAGScheduler: Broadcasting large task binary with size 1130.8 KiB\n",
      "25/05/10 21:22:06 WARN DAGScheduler: Broadcasting large task binary with size 1130.8 KiB\n",
      "25/05/10 21:22:06 WARN DAGScheduler: Broadcasting large task binary with size 1130.8 KiB\n",
      "25/05/10 21:22:06 WARN DAGScheduler: Broadcasting large task binary with size 1130.9 KiB\n",
      "25/05/10 21:22:06 WARN DAGScheduler: Broadcasting large task binary with size 1130.8 KiB\n",
      "25/05/10 21:22:06 WARN DAGScheduler: Broadcasting large task binary with size 1130.9 KiB\n",
      "25/05/10 21:22:06 WARN DAGScheduler: Broadcasting large task binary with size 1130.8 KiB\n"
     ]
    },
    {
     "name": "stderr",
     "output_type": "stream",
     "text": [
      "[Stage 2005:========>       (1 + 1) / 2][Stage 2006:>               (0 + 0) / 2]"
     ]
    },
    {
     "name": "stdout",
     "output_type": "stream",
     "text": [
      "25/05/10 21:22:07 WARN DAGScheduler: Broadcasting large task binary with size 1130.9 KiB\n",
      "25/05/10 21:22:07 WARN DAGScheduler: Broadcasting large task binary with size 1130.8 KiB\n",
      "25/05/10 21:22:07 WARN DAGScheduler: Broadcasting large task binary with size 1130.8 KiB\n",
      "25/05/10 21:22:07 WARN DAGScheduler: Broadcasting large task binary with size 1130.9 KiB\n",
      "25/05/10 21:22:07 WARN DAGScheduler: Broadcasting large task binary with size 1130.8 KiB\n",
      "25/05/10 21:22:07 WARN DAGScheduler: Broadcasting large task binary with size 1130.9 KiB\n",
      "25/05/10 21:22:07 WARN DAGScheduler: Broadcasting large task binary with size 1130.8 KiB\n",
      "25/05/10 21:22:07 WARN DAGScheduler: Broadcasting large task binary with size 1130.9 KiB\n",
      "25/05/10 21:22:07 WARN DAGScheduler: Broadcasting large task binary with size 1130.9 KiB\n",
      "25/05/10 21:22:07 WARN DAGScheduler: Broadcasting large task binary with size 1130.8 KiB\n",
      "25/05/10 21:22:07 WARN DAGScheduler: Broadcasting large task binary with size 1130.8 KiB\n"
     ]
    },
    {
     "name": "stderr",
     "output_type": "stream",
     "text": [
      "                                                                                "
     ]
    },
    {
     "name": "stdout",
     "output_type": "stream",
     "text": [
      "25/05/10 21:22:07 WARN DAGScheduler: Broadcasting large task binary with size 1130.8 KiB\n",
      "25/05/10 21:22:07 WARN DAGScheduler: Broadcasting large task binary with size 1130.8 KiB\n",
      "25/05/10 21:22:07 WARN DAGScheduler: Broadcasting large task binary with size 1130.9 KiB\n",
      "25/05/10 21:22:07 WARN DAGScheduler: Broadcasting large task binary with size 1130.9 KiB\n",
      "25/05/10 21:22:07 WARN DAGScheduler: Broadcasting large task binary with size 1130.8 KiB\n",
      "25/05/10 21:22:08 WARN DAGScheduler: Broadcasting large task binary with size 1130.8 KiB\n",
      "25/05/10 21:22:08 WARN DAGScheduler: Broadcasting large task binary with size 1130.9 KiB\n",
      "25/05/10 21:22:08 WARN DAGScheduler: Broadcasting large task binary with size 1130.9 KiB\n",
      "25/05/10 21:22:08 WARN DAGScheduler: Broadcasting large task binary with size 1130.8 KiB\n",
      "25/05/10 21:22:08 WARN DAGScheduler: Broadcasting large task binary with size 1130.8 KiB\n",
      "25/05/10 21:22:08 WARN DAGScheduler: Broadcasting large task binary with size 1130.9 KiB\n",
      "25/05/10 21:22:08 WARN DAGScheduler: Broadcasting large task binary with size 1130.8 KiB\n",
      "25/05/10 21:22:08 WARN DAGScheduler: Broadcasting large task binary with size 1130.9 KiB\n",
      "25/05/10 21:22:08 WARN DAGScheduler: Broadcasting large task binary with size 1130.8 KiB\n",
      "25/05/10 21:22:08 WARN DAGScheduler: Broadcasting large task binary with size 1130.8 KiB\n",
      "25/05/10 21:22:08 WARN DAGScheduler: Broadcasting large task binary with size 1130.8 KiB\n",
      "25/05/10 21:22:08 WARN DAGScheduler: Broadcasting large task binary with size 1130.9 KiB\n",
      "25/05/10 21:22:08 WARN DAGScheduler: Broadcasting large task binary with size 1130.9 KiB\n",
      "25/05/10 21:22:08 WARN DAGScheduler: Broadcasting large task binary with size 1129.6 KiB\n",
      "25/05/10 21:22:08 WARN DAGScheduler: Broadcasting large task binary with size 1130.9 KiB\n",
      "25/05/10 21:22:08 WARN DAGScheduler: Broadcasting large task binary with size 1130.9 KiB\n",
      "25/05/10 21:22:08 WARN DAGScheduler: Broadcasting large task binary with size 1130.8 KiB\n",
      "25/05/10 21:22:08 WARN DAGScheduler: Broadcasting large task binary with size 1130.9 KiB\n",
      "25/05/10 21:22:08 WARN DAGScheduler: Broadcasting large task binary with size 1130.8 KiB\n",
      "25/05/10 21:22:08 WARN DAGScheduler: Broadcasting large task binary with size 1130.8 KiB\n",
      "25/05/10 21:22:08 WARN DAGScheduler: Broadcasting large task binary with size 1130.8 KiB\n",
      "25/05/10 21:22:08 WARN DAGScheduler: Broadcasting large task binary with size 1130.9 KiB\n"
     ]
    },
    {
     "name": "stderr",
     "output_type": "stream",
     "text": [
      "                                                                                "
     ]
    },
    {
     "name": "stdout",
     "output_type": "stream",
     "text": [
      "25/05/10 21:22:13 WARN DAGScheduler: Broadcasting large task binary with size 1130.8 KiB\n",
      "25/05/10 21:22:13 WARN DAGScheduler: Broadcasting large task binary with size 1130.9 KiB\n",
      "25/05/10 21:22:13 WARN DAGScheduler: Broadcasting large task binary with size 1130.8 KiB\n",
      "25/05/10 21:22:13 WARN DAGScheduler: Broadcasting large task binary with size 1130.9 KiB\n",
      "25/05/10 21:22:13 WARN DAGScheduler: Broadcasting large task binary with size 1130.9 KiB\n",
      "25/05/10 21:22:13 WARN DAGScheduler: Broadcasting large task binary with size 1130.8 KiB\n",
      "25/05/10 21:22:13 WARN DAGScheduler: Broadcasting large task binary with size 1130.9 KiB\n",
      "25/05/10 21:22:13 WARN DAGScheduler: Broadcasting large task binary with size 1130.8 KiB\n",
      "25/05/10 21:22:13 WARN DAGScheduler: Broadcasting large task binary with size 1130.8 KiB\n"
     ]
    },
    {
     "name": "stderr",
     "output_type": "stream",
     "text": [
      "                                                                                "
     ]
    },
    {
     "name": "stdout",
     "output_type": "stream",
     "text": [
      "25/05/10 21:22:18 WARN DAGScheduler: Broadcasting large task binary with size 1130.8 KiB\n",
      "25/05/10 21:22:18 WARN DAGScheduler: Broadcasting large task binary with size 1130.9 KiB\n",
      "25/05/10 21:22:18 WARN DAGScheduler: Broadcasting large task binary with size 1130.8 KiB\n",
      "25/05/10 21:22:18 WARN DAGScheduler: Broadcasting large task binary with size 1130.9 KiB\n",
      "25/05/10 21:22:18 WARN DAGScheduler: Broadcasting large task binary with size 1130.9 KiB\n",
      "25/05/10 21:22:18 WARN DAGScheduler: Broadcasting large task binary with size 1130.8 KiB\n",
      "25/05/10 21:22:18 WARN DAGScheduler: Broadcasting large task binary with size 1130.9 KiB\n",
      "25/05/10 21:22:18 WARN DAGScheduler: Broadcasting large task binary with size 1130.8 KiB\n",
      "25/05/10 21:22:18 WARN DAGScheduler: Broadcasting large task binary with size 1130.8 KiB\n",
      "25/05/10 21:22:18 WARN DAGScheduler: Broadcasting large task binary with size 1130.8 KiB\n",
      "25/05/10 21:22:18 WARN DAGScheduler: Broadcasting large task binary with size 1130.8 KiB\n",
      "25/05/10 21:22:18 WARN DAGScheduler: Broadcasting large task binary with size 1130.9 KiB\n",
      "25/05/10 21:22:18 WARN DAGScheduler: Broadcasting large task binary with size 1130.9 KiB\n",
      "25/05/10 21:22:18 WARN DAGScheduler: Broadcasting large task binary with size 1130.9 KiB\n",
      "25/05/10 21:22:18 WARN DAGScheduler: Broadcasting large task binary with size 1130.8 KiB\n",
      "25/05/10 21:22:18 WARN DAGScheduler: Broadcasting large task binary with size 1130.8 KiB\n",
      "25/05/10 21:22:18 WARN DAGScheduler: Broadcasting large task binary with size 1130.8 KiB\n",
      "25/05/10 21:22:18 WARN DAGScheduler: Broadcasting large task binary with size 1130.8 KiB\n",
      "25/05/10 21:22:18 WARN DAGScheduler: Broadcasting large task binary with size 1130.9 KiB\n",
      "25/05/10 21:22:18 WARN DAGScheduler: Broadcasting large task binary with size 1130.8 KiB\n",
      "25/05/10 21:22:19 WARN DAGScheduler: Broadcasting large task binary with size 1130.9 KiB\n",
      "25/05/10 21:22:19 WARN DAGScheduler: Broadcasting large task binary with size 1130.9 KiB\n",
      "25/05/10 21:22:19 WARN DAGScheduler: Broadcasting large task binary with size 1130.9 KiB\n",
      "25/05/10 21:22:19 WARN DAGScheduler: Broadcasting large task binary with size 1130.8 KiB\n",
      "25/05/10 21:22:19 WARN DAGScheduler: Broadcasting large task binary with size 1130.8 KiB\n",
      "25/05/10 21:22:19 WARN DAGScheduler: Broadcasting large task binary with size 1130.8 KiB\n",
      "25/05/10 21:22:19 WARN DAGScheduler: Broadcasting large task binary with size 1130.8 KiB\n",
      "25/05/10 21:22:19 WARN DAGScheduler: Broadcasting large task binary with size 1130.9 KiB\n",
      "25/05/10 21:22:19 WARN DAGScheduler: Broadcasting large task binary with size 1130.8 KiB\n",
      "25/05/10 21:22:19 WARN DAGScheduler: Broadcasting large task binary with size 1130.8 KiB\n",
      "25/05/10 21:22:19 WARN DAGScheduler: Broadcasting large task binary with size 1130.8 KiB\n",
      "25/05/10 21:22:19 WARN DAGScheduler: Broadcasting large task binary with size 1130.9 KiB\n",
      "25/05/10 21:22:19 WARN DAGScheduler: Broadcasting large task binary with size 1130.9 KiB\n",
      "25/05/10 21:22:19 WARN DAGScheduler: Broadcasting large task binary with size 1130.8 KiB\n",
      "25/05/10 21:22:19 WARN DAGScheduler: Broadcasting large task binary with size 1130.8 KiB\n",
      "25/05/10 21:22:19 WARN DAGScheduler: Broadcasting large task binary with size 1130.9 KiB\n",
      "25/05/10 21:22:19 WARN DAGScheduler: Broadcasting large task binary with size 1130.9 KiB\n",
      "25/05/10 21:22:19 WARN DAGScheduler: Broadcasting large task binary with size 1130.8 KiB\n",
      "25/05/10 21:22:19 WARN DAGScheduler: Broadcasting large task binary with size 1130.9 KiB\n",
      "25/05/10 21:22:19 WARN DAGScheduler: Broadcasting large task binary with size 1130.8 KiB\n",
      "25/05/10 21:22:19 WARN DAGScheduler: Broadcasting large task binary with size 1130.8 KiB\n",
      "25/05/10 21:22:19 WARN DAGScheduler: Broadcasting large task binary with size 1130.9 KiB\n",
      "25/05/10 21:22:19 WARN DAGScheduler: Broadcasting large task binary with size 1130.8 KiB\n",
      "25/05/10 21:22:20 WARN DAGScheduler: Broadcasting large task binary with size 1130.8 KiB\n",
      "25/05/10 21:22:20 WARN DAGScheduler: Broadcasting large task binary with size 1130.8 KiB\n",
      "25/05/10 21:22:20 WARN DAGScheduler: Broadcasting large task binary with size 1130.9 KiB\n",
      "25/05/10 21:22:20 WARN DAGScheduler: Broadcasting large task binary with size 1130.9 KiB\n",
      "25/05/10 21:22:20 WARN DAGScheduler: Broadcasting large task binary with size 1130.9 KiB\n",
      "25/05/10 21:22:20 WARN DAGScheduler: Broadcasting large task binary with size 1130.8 KiB\n",
      "25/05/10 21:22:20 WARN DAGScheduler: Broadcasting large task binary with size 1130.9 KiB\n",
      "25/05/10 21:22:20 WARN DAGScheduler: Broadcasting large task binary with size 1130.9 KiB\n",
      "25/05/10 21:22:20 WARN DAGScheduler: Broadcasting large task binary with size 1130.8 KiB\n",
      "25/05/10 21:22:20 WARN DAGScheduler: Broadcasting large task binary with size 1130.9 KiB\n",
      "25/05/10 21:22:20 WARN DAGScheduler: Broadcasting large task binary with size 1130.8 KiB\n",
      "25/05/10 21:22:20 WARN DAGScheduler: Broadcasting large task binary with size 1130.9 KiB\n",
      "25/05/10 21:22:20 WARN DAGScheduler: Broadcasting large task binary with size 1130.8 KiB\n",
      "25/05/10 21:22:20 WARN DAGScheduler: Broadcasting large task binary with size 1130.8 KiB\n",
      "25/05/10 21:22:20 WARN DAGScheduler: Broadcasting large task binary with size 1130.9 KiB\n",
      "25/05/10 21:22:20 WARN DAGScheduler: Broadcasting large task binary with size 1130.9 KiB\n",
      "25/05/10 21:22:20 WARN DAGScheduler: Broadcasting large task binary with size 1130.9 KiB\n",
      "25/05/10 21:22:20 WARN DAGScheduler: Broadcasting large task binary with size 1130.8 KiB\n",
      "25/05/10 21:22:20 WARN DAGScheduler: Broadcasting large task binary with size 1130.8 KiB\n",
      "25/05/10 21:22:20 WARN DAGScheduler: Broadcasting large task binary with size 1130.9 KiB\n",
      "25/05/10 21:22:20 WARN DAGScheduler: Broadcasting large task binary with size 1130.8 KiB\n",
      "25/05/10 21:22:21 WARN DAGScheduler: Broadcasting large task binary with size 1130.8 KiB\n",
      "25/05/10 21:22:21 WARN DAGScheduler: Broadcasting large task binary with size 1130.8 KiB\n",
      "25/05/10 21:22:21 WARN DAGScheduler: Broadcasting large task binary with size 1130.9 KiB\n",
      "25/05/10 21:22:21 WARN DAGScheduler: Broadcasting large task binary with size 1130.9 KiB\n",
      "25/05/10 21:22:21 WARN DAGScheduler: Broadcasting large task binary with size 1130.8 KiB\n",
      "25/05/10 21:22:21 WARN DAGScheduler: Broadcasting large task binary with size 1130.9 KiB\n",
      "25/05/10 21:22:21 WARN DAGScheduler: Broadcasting large task binary with size 1130.9 KiB\n",
      "25/05/10 21:22:21 WARN DAGScheduler: Broadcasting large task binary with size 1130.8 KiB\n",
      "25/05/10 21:22:21 WARN DAGScheduler: Broadcasting large task binary with size 1130.8 KiB\n",
      "25/05/10 21:22:21 WARN DAGScheduler: Broadcasting large task binary with size 1130.9 KiB\n",
      "25/05/10 21:22:21 WARN DAGScheduler: Broadcasting large task binary with size 1130.8 KiB\n",
      "25/05/10 21:22:21 WARN DAGScheduler: Broadcasting large task binary with size 1130.8 KiB\n",
      "25/05/10 21:22:21 WARN DAGScheduler: Broadcasting large task binary with size 1130.9 KiB\n",
      "25/05/10 21:22:21 WARN DAGScheduler: Broadcasting large task binary with size 1130.9 KiB\n",
      "25/05/10 21:22:21 WARN DAGScheduler: Broadcasting large task binary with size 1130.9 KiB\n",
      "25/05/10 21:22:21 WARN DAGScheduler: Broadcasting large task binary with size 1130.9 KiB\n",
      "25/05/10 21:22:21 WARN DAGScheduler: Broadcasting large task binary with size 1130.8 KiB\n",
      "25/05/10 21:22:21 WARN DAGScheduler: Broadcasting large task binary with size 1130.8 KiB\n",
      "25/05/10 21:22:21 WARN DAGScheduler: Broadcasting large task binary with size 1130.8 KiB\n",
      "25/05/10 21:22:21 WARN DAGScheduler: Broadcasting large task binary with size 1130.9 KiB\n",
      "25/05/10 21:22:21 WARN DAGScheduler: Broadcasting large task binary with size 1130.9 KiB\n",
      "25/05/10 21:22:21 WARN DAGScheduler: Broadcasting large task binary with size 1130.9 KiB\n",
      "25/05/10 21:22:21 WARN DAGScheduler: Broadcasting large task binary with size 1130.9 KiB\n",
      "25/05/10 21:22:21 WARN DAGScheduler: Broadcasting large task binary with size 1130.8 KiB\n",
      "25/05/10 21:22:21 WARN DAGScheduler: Broadcasting large task binary with size 1130.8 KiB\n",
      "25/05/10 21:22:21 WARN DAGScheduler: Broadcasting large task binary with size 1130.9 KiB\n",
      "25/05/10 21:22:21 WARN DAGScheduler: Broadcasting large task binary with size 1130.9 KiB\n",
      "25/05/10 21:22:22 WARN DAGScheduler: Broadcasting large task binary with size 1130.9 KiB\n",
      "25/05/10 21:22:22 WARN DAGScheduler: Broadcasting large task binary with size 1130.8 KiB\n",
      "25/05/10 21:22:22 WARN DAGScheduler: Broadcasting large task binary with size 1130.9 KiB\n",
      "25/05/10 21:22:22 WARN DAGScheduler: Broadcasting large task binary with size 1130.8 KiB\n",
      "25/05/10 21:22:22 WARN DAGScheduler: Broadcasting large task binary with size 1130.8 KiB\n",
      "25/05/10 21:22:22 WARN DAGScheduler: Broadcasting large task binary with size 1130.9 KiB\n",
      "25/05/10 21:22:22 WARN DAGScheduler: Broadcasting large task binary with size 1130.9 KiB\n",
      "25/05/10 21:22:22 WARN DAGScheduler: Broadcasting large task binary with size 1130.9 KiB\n",
      "25/05/10 21:22:22 WARN DAGScheduler: Broadcasting large task binary with size 1130.9 KiB\n",
      "25/05/10 21:22:22 WARN DAGScheduler: Broadcasting large task binary with size 1130.8 KiB\n",
      "25/05/10 21:22:22 WARN DAGScheduler: Broadcasting large task binary with size 1130.8 KiB\n",
      "25/05/10 21:22:22 WARN DAGScheduler: Broadcasting large task binary with size 1130.8 KiB\n",
      "25/05/10 21:22:22 WARN DAGScheduler: Broadcasting large task binary with size 1130.9 KiB\n",
      "25/05/10 21:22:22 WARN DAGScheduler: Broadcasting large task binary with size 1130.9 KiB\n",
      "25/05/10 21:22:22 WARN DAGScheduler: Broadcasting large task binary with size 1130.9 KiB\n",
      "25/05/10 21:22:22 WARN DAGScheduler: Broadcasting large task binary with size 1130.9 KiB\n",
      "25/05/10 21:22:22 WARN DAGScheduler: Broadcasting large task binary with size 1130.8 KiB\n",
      "25/05/10 21:22:22 WARN DAGScheduler: Broadcasting large task binary with size 1129.6 KiB\n",
      "25/05/10 21:22:23 WARN DAGScheduler: Broadcasting large task binary with size 1130.8 KiB\n",
      "25/05/10 21:22:23 WARN DAGScheduler: Broadcasting large task binary with size 1130.9 KiB\n",
      "25/05/10 21:22:23 WARN DAGScheduler: Broadcasting large task binary with size 1130.9 KiB\n",
      "25/05/10 21:22:23 WARN DAGScheduler: Broadcasting large task binary with size 1130.8 KiB\n",
      "25/05/10 21:22:23 WARN DAGScheduler: Broadcasting large task binary with size 1130.9 KiB\n",
      "25/05/10 21:22:23 WARN DAGScheduler: Broadcasting large task binary with size 1130.9 KiB\n",
      "25/05/10 21:22:23 WARN DAGScheduler: Broadcasting large task binary with size 1130.8 KiB\n"
     ]
    },
    {
     "name": "stderr",
     "output_type": "stream",
     "text": [
      "                                                                                "
     ]
    },
    {
     "name": "stdout",
     "output_type": "stream",
     "text": [
      "25/05/10 21:22:27 WARN DAGScheduler: Broadcasting large task binary with size 1130.8 KiB\n",
      "25/05/10 21:22:27 WARN DAGScheduler: Broadcasting large task binary with size 1130.8 KiB\n",
      "25/05/10 21:22:27 WARN DAGScheduler: Broadcasting large task binary with size 1130.9 KiB\n",
      "25/05/10 21:22:28 WARN DAGScheduler: Broadcasting large task binary with size 1130.8 KiB\n",
      "25/05/10 21:22:28 WARN DAGScheduler: Broadcasting large task binary with size 1130.9 KiB\n",
      "25/05/10 21:22:28 WARN DAGScheduler: Broadcasting large task binary with size 1130.9 KiB\n",
      "25/05/10 21:22:28 WARN DAGScheduler: Broadcasting large task binary with size 1130.9 KiB\n"
     ]
    },
    {
     "name": "stderr",
     "output_type": "stream",
     "text": [
      "[Stage 2170:> (0 + 2) / 2][Stage 2171:> (0 + 0) / 2][Stage 2172:> (0 + 0) / 2]"
     ]
    },
    {
     "name": "stdout",
     "output_type": "stream",
     "text": [
      "25/05/10 21:22:28 WARN DAGScheduler: Broadcasting large task binary with size 1129.6 KiB\n"
     ]
    },
    {
     "name": "stderr",
     "output_type": "stream",
     "text": [
      "                                                                                "
     ]
    },
    {
     "name": "stdout",
     "output_type": "stream",
     "text": [
      "25/05/10 21:22:32 WARN DAGScheduler: Broadcasting large task binary with size 1130.8 KiB\n",
      "25/05/10 21:22:33 WARN DAGScheduler: Broadcasting large task binary with size 1130.8 KiB\n",
      "25/05/10 21:22:33 WARN DAGScheduler: Broadcasting large task binary with size 1130.9 KiB\n",
      "25/05/10 21:22:33 WARN DAGScheduler: Broadcasting large task binary with size 1130.8 KiB\n",
      "25/05/10 21:22:33 WARN DAGScheduler: Broadcasting large task binary with size 1130.9 KiB\n",
      "25/05/10 21:22:33 WARN DAGScheduler: Broadcasting large task binary with size 1130.9 KiB\n",
      "25/05/10 21:22:33 WARN DAGScheduler: Broadcasting large task binary with size 1130.9 KiB\n"
     ]
    },
    {
     "name": "stderr",
     "output_type": "stream",
     "text": [
      "[Stage 2177:> (0 + 2) / 2][Stage 2178:> (0 + 0) / 2][Stage 2179:> (0 + 0) / 2]"
     ]
    },
    {
     "name": "stdout",
     "output_type": "stream",
     "text": [
      "25/05/10 21:22:33 WARN DAGScheduler: Broadcasting large task binary with size 1734.5 KiB\n"
     ]
    },
    {
     "name": "stderr",
     "output_type": "stream",
     "text": [
      "                                                                                "
     ]
    },
    {
     "name": "stdout",
     "output_type": "stream",
     "text": [
      "25/05/10 21:22:37 WARN DAGScheduler: Broadcasting large task binary with size 1130.8 KiB\n",
      "25/05/10 21:22:37 WARN DAGScheduler: Broadcasting large task binary with size 1130.8 KiB\n",
      "25/05/10 21:22:38 WARN DAGScheduler: Broadcasting large task binary with size 1130.8 KiB\n",
      "25/05/10 21:22:38 WARN DAGScheduler: Broadcasting large task binary with size 1130.9 KiB\n",
      "25/05/10 21:22:38 WARN DAGScheduler: Broadcasting large task binary with size 1130.8 KiB\n",
      "25/05/10 21:22:38 WARN DAGScheduler: Broadcasting large task binary with size 1130.9 KiB\n",
      "25/05/10 21:22:38 WARN DAGScheduler: Broadcasting large task binary with size 1130.9 KiB\n",
      "25/05/10 21:22:38 WARN DAGScheduler: Broadcasting large task binary with size 1130.9 KiB\n"
     ]
    },
    {
     "name": "stderr",
     "output_type": "stream",
     "text": [
      "                                                                                "
     ]
    },
    {
     "name": "stdout",
     "output_type": "stream",
     "text": [
      "25/05/10 21:22:59 WARN DAGScheduler: Broadcasting large task binary with size 1130.8 KiB\n",
      "25/05/10 21:22:59 WARN DAGScheduler: Broadcasting large task binary with size 1130.8 KiB\n",
      "25/05/10 21:22:59 WARN DAGScheduler: Broadcasting large task binary with size 1130.8 KiB\n",
      "25/05/10 21:22:59 WARN DAGScheduler: Broadcasting large task binary with size 1130.9 KiB\n",
      "25/05/10 21:22:59 WARN DAGScheduler: Broadcasting large task binary with size 1130.9 KiB\n",
      "25/05/10 21:22:59 WARN DAGScheduler: Broadcasting large task binary with size 1130.8 KiB\n",
      "25/05/10 21:22:59 WARN DAGScheduler: Broadcasting large task binary with size 1130.9 KiB\n",
      "25/05/10 21:22:59 WARN DAGScheduler: Broadcasting large task binary with size 1130.8 KiB\n",
      "25/05/10 21:22:59 WARN DAGScheduler: Broadcasting large task binary with size 1130.8 KiB\n",
      "25/05/10 21:22:59 WARN DAGScheduler: Broadcasting large task binary with size 1130.9 KiB\n",
      "25/05/10 21:22:59 WARN DAGScheduler: Broadcasting large task binary with size 1130.8 KiB\n",
      "25/05/10 21:22:59 WARN DAGScheduler: Broadcasting large task binary with size 1130.9 KiB\n",
      "25/05/10 21:22:59 WARN DAGScheduler: Broadcasting large task binary with size 1129.7 KiB\n",
      "25/05/10 21:22:59 WARN DAGScheduler: Broadcasting large task binary with size 1130.9 KiB\n",
      "25/05/10 21:22:59 WARN DAGScheduler: Broadcasting large task binary with size 1130.8 KiB\n",
      "25/05/10 21:22:59 WARN DAGScheduler: Broadcasting large task binary with size 1130.8 KiB\n",
      "25/05/10 21:22:59 WARN DAGScheduler: Broadcasting large task binary with size 1130.9 KiB\n",
      "25/05/10 21:23:00 WARN DAGScheduler: Broadcasting large task binary with size 1130.8 KiB\n",
      "25/05/10 21:23:00 WARN DAGScheduler: Broadcasting large task binary with size 1130.8 KiB\n",
      "25/05/10 21:23:00 WARN DAGScheduler: Broadcasting large task binary with size 1130.9 KiB\n"
     ]
    },
    {
     "name": "stderr",
     "output_type": "stream",
     "text": [
      "                                                                                "
     ]
    },
    {
     "name": "stdout",
     "output_type": "stream",
     "text": [
      "25/05/10 21:23:04 WARN DAGScheduler: Broadcasting large task binary with size 1130.9 KiB\n",
      "25/05/10 21:23:04 WARN DAGScheduler: Broadcasting large task binary with size 1130.9 KiB\n",
      "25/05/10 21:23:04 WARN DAGScheduler: Broadcasting large task binary with size 1130.8 KiB\n",
      "25/05/10 21:23:04 WARN DAGScheduler: Broadcasting large task binary with size 1130.8 KiB\n",
      "25/05/10 21:23:04 WARN DAGScheduler: Broadcasting large task binary with size 1130.9 KiB\n",
      "25/05/10 21:23:04 WARN DAGScheduler: Broadcasting large task binary with size 1130.8 KiB\n",
      "25/05/10 21:23:05 WARN DAGScheduler: Broadcasting large task binary with size 1130.9 KiB\n",
      "25/05/10 21:23:05 WARN DAGScheduler: Broadcasting large task binary with size 1130.8 KiB\n"
     ]
    },
    {
     "name": "stderr",
     "output_type": "stream",
     "text": [
      "                                                                                "
     ]
    },
    {
     "name": "stdout",
     "output_type": "stream",
     "text": [
      "25/05/10 21:23:13 WARN DAGScheduler: Broadcasting large task binary with size 1130.9 KiB\n",
      "25/05/10 21:23:13 WARN DAGScheduler: Broadcasting large task binary with size 1130.9 KiB\n",
      "25/05/10 21:23:13 WARN DAGScheduler: Broadcasting large task binary with size 1130.8 KiB\n",
      "25/05/10 21:23:13 WARN DAGScheduler: Broadcasting large task binary with size 1130.8 KiB\n",
      "25/05/10 21:23:13 WARN DAGScheduler: Broadcasting large task binary with size 1130.8 KiB\n",
      "25/05/10 21:23:13 WARN DAGScheduler: Broadcasting large task binary with size 1130.9 KiB\n",
      "25/05/10 21:23:14 WARN DAGScheduler: Broadcasting large task binary with size 1130.9 KiB\n",
      "25/05/10 21:23:14 WARN DAGScheduler: Broadcasting large task binary with size 1130.8 KiB\n"
     ]
    },
    {
     "name": "stderr",
     "output_type": "stream",
     "text": [
      "                                                                                "
     ]
    },
    {
     "name": "stdout",
     "output_type": "stream",
     "text": [
      "25/05/10 21:23:18 WARN DAGScheduler: Broadcasting large task binary with size 1130.9 KiB\n",
      "25/05/10 21:23:18 WARN DAGScheduler: Broadcasting large task binary with size 1130.9 KiB\n",
      "25/05/10 21:23:18 WARN DAGScheduler: Broadcasting large task binary with size 1130.8 KiB\n",
      "25/05/10 21:23:18 WARN DAGScheduler: Broadcasting large task binary with size 1130.8 KiB\n",
      "25/05/10 21:23:18 WARN DAGScheduler: Broadcasting large task binary with size 1130.8 KiB\n",
      "25/05/10 21:23:18 WARN DAGScheduler: Broadcasting large task binary with size 1110.2 KiB\n",
      "25/05/10 21:23:18 WARN DAGScheduler: Broadcasting large task binary with size 1130.9 KiB\n",
      "25/05/10 21:23:19 WARN DAGScheduler: Broadcasting large task binary with size 1130.8 KiB\n",
      "25/05/10 21:23:19 WARN DAGScheduler: Broadcasting large task binary with size 1130.9 KiB\n",
      "25/05/10 21:23:19 WARN DAGScheduler: Broadcasting large task binary with size 1130.9 KiB\n",
      "25/05/10 21:23:19 WARN DAGScheduler: Broadcasting large task binary with size 1130.9 KiB\n",
      "25/05/10 21:23:19 WARN DAGScheduler: Broadcasting large task binary with size 1130.8 KiB\n",
      "25/05/10 21:23:19 WARN DAGScheduler: Broadcasting large task binary with size 1130.8 KiB\n",
      "25/05/10 21:23:19 WARN DAGScheduler: Broadcasting large task binary with size 1130.8 KiB\n",
      "25/05/10 21:23:19 WARN DAGScheduler: Broadcasting large task binary with size 1112.3 KiB\n",
      "25/05/10 21:23:19 WARN DAGScheduler: Broadcasting large task binary with size 1130.9 KiB\n",
      "25/05/10 21:23:19 WARN DAGScheduler: Broadcasting large task binary with size 1130.8 KiB\n",
      "25/05/10 21:23:19 WARN DAGScheduler: Broadcasting large task binary with size 1130.9 KiB\n",
      "25/05/10 21:23:19 WARN DAGScheduler: Broadcasting large task binary with size 1130.9 KiB\n",
      "25/05/10 21:23:19 WARN DAGScheduler: Broadcasting large task binary with size 1130.8 KiB\n",
      "25/05/10 21:23:19 WARN DAGScheduler: Broadcasting large task binary with size 1130.9 KiB\n",
      "25/05/10 21:23:19 WARN DAGScheduler: Broadcasting large task binary with size 1130.8 KiB\n",
      "25/05/10 21:23:19 WARN DAGScheduler: Broadcasting large task binary with size 1130.8 KiB\n"
     ]
    },
    {
     "name": "stderr",
     "output_type": "stream",
     "text": [
      "                                                                                "
     ]
    },
    {
     "name": "stdout",
     "output_type": "stream",
     "text": [
      "25/05/10 21:23:24 WARN DAGScheduler: Broadcasting large task binary with size 1130.9 KiB\n",
      "25/05/10 21:23:24 WARN DAGScheduler: Broadcasting large task binary with size 1130.9 KiB\n",
      "25/05/10 21:23:24 WARN DAGScheduler: Broadcasting large task binary with size 1130.8 KiB\n",
      "25/05/10 21:23:24 WARN DAGScheduler: Broadcasting large task binary with size 1114.4 KiB\n",
      "25/05/10 21:23:24 WARN DAGScheduler: Broadcasting large task binary with size 1130.9 KiB\n",
      "25/05/10 21:23:24 WARN DAGScheduler: Broadcasting large task binary with size 1130.8 KiB\n",
      "25/05/10 21:23:24 WARN DAGScheduler: Broadcasting large task binary with size 1130.9 KiB\n",
      "25/05/10 21:23:24 WARN DAGScheduler: Broadcasting large task binary with size 1130.8 KiB\n",
      "25/05/10 21:23:24 WARN DAGScheduler: Broadcasting large task binary with size 1130.9 KiB\n",
      "25/05/10 21:23:24 WARN DAGScheduler: Broadcasting large task binary with size 1130.8 KiB\n",
      "25/05/10 21:23:24 WARN DAGScheduler: Broadcasting large task binary with size 1130.9 KiB\n",
      "25/05/10 21:23:24 WARN DAGScheduler: Broadcasting large task binary with size 1129.6 KiB\n"
     ]
    },
    {
     "name": "stderr",
     "output_type": "stream",
     "text": [
      "                                                                                "
     ]
    },
    {
     "name": "stdout",
     "output_type": "stream",
     "text": [
      "25/05/10 21:23:31 WARN DAGScheduler: Broadcasting large task binary with size 1130.9 KiB\n"
     ]
    },
    {
     "name": "stderr",
     "output_type": "stream",
     "text": [
      "                                                                                "
     ]
    },
    {
     "name": "stdout",
     "output_type": "stream",
     "text": [
      "25/05/10 21:23:34 WARN DAGScheduler: Broadcasting large task binary with size 1130.8 KiB\n",
      "25/05/10 21:23:34 WARN DAGScheduler: Broadcasting large task binary with size 1130.9 KiB\n",
      "25/05/10 21:23:34 WARN DAGScheduler: Broadcasting large task binary with size 1130.8 KiB\n",
      "25/05/10 21:23:34 WARN DAGScheduler: Broadcasting large task binary with size 1130.8 KiB\n",
      "25/05/10 21:23:34 WARN DAGScheduler: Broadcasting large task binary with size 1130.9 KiB\n",
      "25/05/10 21:23:34 WARN DAGScheduler: Broadcasting large task binary with size 1130.9 KiB\n"
     ]
    },
    {
     "name": "stderr",
     "output_type": "stream",
     "text": [
      "                                                                                "
     ]
    },
    {
     "name": "stdout",
     "output_type": "stream",
     "text": [
      "25/05/10 21:23:39 WARN DAGScheduler: Broadcasting large task binary with size 1130.8 KiB\n",
      "25/05/10 21:23:39 WARN DAGScheduler: Broadcasting large task binary with size 1130.8 KiB\n",
      "25/05/10 21:23:39 WARN DAGScheduler: Broadcasting large task binary with size 1130.9 KiB\n",
      "25/05/10 21:23:39 WARN DAGScheduler: Broadcasting large task binary with size 1130.9 KiB\n",
      "25/05/10 21:23:39 WARN DAGScheduler: Broadcasting large task binary with size 1130.8 KiB\n",
      "25/05/10 21:23:39 WARN DAGScheduler: Broadcasting large task binary with size 1130.9 KiB\n",
      "25/05/10 21:23:39 WARN DAGScheduler: Broadcasting large task binary with size 1130.8 KiB\n",
      "25/05/10 21:23:39 WARN DAGScheduler: Broadcasting large task binary with size 1130.9 KiB\n"
     ]
    },
    {
     "name": "stderr",
     "output_type": "stream",
     "text": [
      "                                                                                "
     ]
    },
    {
     "name": "stdout",
     "output_type": "stream",
     "text": [
      "25/05/10 21:23:43 WARN DAGScheduler: Broadcasting large task binary with size 1129.6 KiB\n"
     ]
    },
    {
     "name": "stderr",
     "output_type": "stream",
     "text": [
      "                                                                                "
     ]
    },
    {
     "name": "stdout",
     "output_type": "stream",
     "text": [
      "25/05/10 21:23:44 WARN DAGScheduler: Broadcasting large task binary with size 1130.8 KiB\n",
      "25/05/10 21:23:44 WARN DAGScheduler: Broadcasting large task binary with size 1130.8 KiB\n",
      "25/05/10 21:23:44 WARN DAGScheduler: Broadcasting large task binary with size 1130.9 KiB\n",
      "25/05/10 21:23:44 WARN DAGScheduler: Broadcasting large task binary with size 1130.9 KiB\n",
      "25/05/10 21:23:44 WARN DAGScheduler: Broadcasting large task binary with size 1130.9 KiB\n",
      "25/05/10 21:23:44 WARN DAGScheduler: Broadcasting large task binary with size 1130.9 KiB\n",
      "25/05/10 21:23:44 WARN DAGScheduler: Broadcasting large task binary with size 1130.8 KiB\n",
      "25/05/10 21:23:44 WARN DAGScheduler: Broadcasting large task binary with size 1130.8 KiB\n"
     ]
    },
    {
     "name": "stderr",
     "output_type": "stream",
     "text": [
      "                                                                                "
     ]
    },
    {
     "name": "stdout",
     "output_type": "stream",
     "text": [
      "25/05/10 21:23:48 WARN DAGScheduler: Broadcasting large task binary with size 1130.8 KiB\n",
      "25/05/10 21:23:48 WARN DAGScheduler: Broadcasting large task binary with size 1130.8 KiB\n",
      "25/05/10 21:23:48 WARN DAGScheduler: Broadcasting large task binary with size 1130.8 KiB\n",
      "25/05/10 21:23:49 WARN DAGScheduler: Broadcasting large task binary with size 1130.9 KiB\n",
      "25/05/10 21:23:49 WARN DAGScheduler: Broadcasting large task binary with size 1130.9 KiB\n",
      "25/05/10 21:23:49 WARN DAGScheduler: Broadcasting large task binary with size 1130.9 KiB\n",
      "25/05/10 21:23:49 WARN DAGScheduler: Broadcasting large task binary with size 1130.9 KiB\n",
      "25/05/10 21:23:49 WARN DAGScheduler: Broadcasting large task binary with size 1130.8 KiB\n",
      "25/05/10 21:23:49 WARN DAGScheduler: Broadcasting large task binary with size 1130.8 KiB\n"
     ]
    },
    {
     "name": "stderr",
     "output_type": "stream",
     "text": [
      "                                                                                "
     ]
    },
    {
     "name": "stdout",
     "output_type": "stream",
     "text": [
      "25/05/10 21:23:53 WARN DAGScheduler: Broadcasting large task binary with size 1130.8 KiB\n",
      "25/05/10 21:23:53 WARN DAGScheduler: Broadcasting large task binary with size 1130.8 KiB\n",
      "25/05/10 21:23:53 WARN DAGScheduler: Broadcasting large task binary with size 1130.8 KiB\n",
      "25/05/10 21:23:53 WARN DAGScheduler: Broadcasting large task binary with size 1130.9 KiB\n",
      "25/05/10 21:23:54 WARN DAGScheduler: Broadcasting large task binary with size 1130.8 KiB\n",
      "25/05/10 21:23:54 WARN DAGScheduler: Broadcasting large task binary with size 1130.8 KiB\n",
      "25/05/10 21:23:54 WARN DAGScheduler: Broadcasting large task binary with size 1130.9 KiB\n",
      "25/05/10 21:23:54 WARN DAGScheduler: Broadcasting large task binary with size 1130.9 KiB\n",
      "25/05/10 21:23:54 WARN DAGScheduler: Broadcasting large task binary with size 1130.9 KiB\n",
      "25/05/10 21:23:54 WARN DAGScheduler: Broadcasting large task binary with size 1130.8 KiB\n",
      "25/05/10 21:23:54 WARN DAGScheduler: Broadcasting large task binary with size 1130.8 KiB\n",
      "25/05/10 21:23:54 WARN DAGScheduler: Broadcasting large task binary with size 1130.8 KiB\n",
      "25/05/10 21:23:54 WARN DAGScheduler: Broadcasting large task binary with size 1130.9 KiB\n",
      "25/05/10 21:23:54 WARN DAGScheduler: Broadcasting large task binary with size 1130.8 KiB\n",
      "25/05/10 21:23:54 WARN DAGScheduler: Broadcasting large task binary with size 1130.8 KiB\n",
      "25/05/10 21:23:54 WARN DAGScheduler: Broadcasting large task binary with size 1130.9 KiB\n",
      "25/05/10 21:23:54 WARN DAGScheduler: Broadcasting large task binary with size 1130.9 KiB\n",
      "25/05/10 21:23:54 WARN DAGScheduler: Broadcasting large task binary with size 1130.9 KiB\n",
      "25/05/10 21:23:54 WARN DAGScheduler: Broadcasting large task binary with size 1130.8 KiB\n",
      "25/05/10 21:23:54 WARN DAGScheduler: Broadcasting large task binary with size 1130.9 KiB\n",
      "25/05/10 21:23:54 WARN DAGScheduler: Broadcasting large task binary with size 1130.8 KiB\n",
      "25/05/10 21:23:54 WARN DAGScheduler: Broadcasting large task binary with size 1130.8 KiB\n",
      "25/05/10 21:23:54 WARN DAGScheduler: Broadcasting large task binary with size 1130.8 KiB\n",
      "25/05/10 21:23:54 WARN DAGScheduler: Broadcasting large task binary with size 1130.8 KiB\n",
      "25/05/10 21:23:54 WARN DAGScheduler: Broadcasting large task binary with size 1130.9 KiB\n",
      "25/05/10 21:23:54 WARN DAGScheduler: Broadcasting large task binary with size 1130.9 KiB\n",
      "25/05/10 21:23:54 WARN DAGScheduler: Broadcasting large task binary with size 1130.9 KiB\n",
      "25/05/10 21:23:54 WARN DAGScheduler: Broadcasting large task binary with size 1130.8 KiB\n",
      "25/05/10 21:23:54 WARN DAGScheduler: Broadcasting large task binary with size 1130.9 KiB\n",
      "25/05/10 21:23:54 WARN DAGScheduler: Broadcasting large task binary with size 1130.8 KiB\n",
      "25/05/10 21:23:54 WARN DAGScheduler: Broadcasting large task binary with size 1130.8 KiB\n",
      "25/05/10 21:23:54 WARN DAGScheduler: Broadcasting large task binary with size 1130.8 KiB\n",
      "25/05/10 21:23:54 WARN DAGScheduler: Broadcasting large task binary with size 1130.8 KiB\n",
      "25/05/10 21:23:54 WARN DAGScheduler: Broadcasting large task binary with size 1130.9 KiB\n",
      "25/05/10 21:23:55 WARN DAGScheduler: Broadcasting large task binary with size 1130.9 KiB\n",
      "25/05/10 21:23:55 WARN DAGScheduler: Broadcasting large task binary with size 1130.9 KiB\n",
      "25/05/10 21:23:55 WARN DAGScheduler: Broadcasting large task binary with size 1130.8 KiB\n",
      "25/05/10 21:23:55 WARN DAGScheduler: Broadcasting large task binary with size 1130.8 KiB\n",
      "25/05/10 21:23:55 WARN DAGScheduler: Broadcasting large task binary with size 1130.8 KiB\n",
      "25/05/10 21:23:55 WARN DAGScheduler: Broadcasting large task binary with size 1130.9 KiB\n",
      "25/05/10 21:23:55 WARN DAGScheduler: Broadcasting large task binary with size 1130.8 KiB\n",
      "25/05/10 21:23:55 WARN DAGScheduler: Broadcasting large task binary with size 1130.8 KiB\n",
      "25/05/10 21:23:55 WARN DAGScheduler: Broadcasting large task binary with size 1130.9 KiB\n",
      "25/05/10 21:23:55 WARN DAGScheduler: Broadcasting large task binary with size 1130.8 KiB\n",
      "25/05/10 21:23:55 WARN DAGScheduler: Broadcasting large task binary with size 1130.9 KiB\n",
      "25/05/10 21:23:55 WARN DAGScheduler: Broadcasting large task binary with size 1130.9 KiB\n",
      "25/05/10 21:23:55 WARN DAGScheduler: Broadcasting large task binary with size 1130.8 KiB\n",
      "25/05/10 21:23:55 WARN DAGScheduler: Broadcasting large task binary with size 1130.8 KiB\n",
      "25/05/10 21:23:55 WARN DAGScheduler: Broadcasting large task binary with size 1130.9 KiB\n",
      "25/05/10 21:23:55 WARN DAGScheduler: Broadcasting large task binary with size 1130.8 KiB\n",
      "25/05/10 21:23:55 WARN DAGScheduler: Broadcasting large task binary with size 1130.8 KiB\n",
      "25/05/10 21:23:55 WARN DAGScheduler: Broadcasting large task binary with size 1130.9 KiB\n",
      "25/05/10 21:23:55 WARN DAGScheduler: Broadcasting large task binary with size 1130.8 KiB\n",
      "25/05/10 21:23:55 WARN DAGScheduler: Broadcasting large task binary with size 1130.9 KiB\n",
      "25/05/10 21:23:55 WARN DAGScheduler: Broadcasting large task binary with size 1130.9 KiB\n",
      "25/05/10 21:23:55 WARN DAGScheduler: Broadcasting large task binary with size 1130.8 KiB\n",
      "25/05/10 21:23:55 WARN DAGScheduler: Broadcasting large task binary with size 1130.8 KiB\n",
      "25/05/10 21:23:55 WARN DAGScheduler: Broadcasting large task binary with size 1130.8 KiB\n",
      "25/05/10 21:23:55 WARN DAGScheduler: Broadcasting large task binary with size 1130.9 KiB\n",
      "25/05/10 21:23:55 WARN DAGScheduler: Broadcasting large task binary with size 1130.8 KiB\n",
      "25/05/10 21:23:55 WARN DAGScheduler: Broadcasting large task binary with size 1130.8 KiB\n",
      "25/05/10 21:23:56 WARN DAGScheduler: Broadcasting large task binary with size 1130.8 KiB\n",
      "25/05/10 21:23:56 WARN DAGScheduler: Broadcasting large task binary with size 1130.9 KiB\n",
      "25/05/10 21:23:56 WARN DAGScheduler: Broadcasting large task binary with size 1130.8 KiB\n",
      "25/05/10 21:23:56 WARN DAGScheduler: Broadcasting large task binary with size 1130.9 KiB\n",
      "25/05/10 21:23:56 WARN DAGScheduler: Broadcasting large task binary with size 1130.8 KiB\n",
      "25/05/10 21:23:56 WARN DAGScheduler: Broadcasting large task binary with size 1130.9 KiB\n",
      "25/05/10 21:23:56 WARN DAGScheduler: Broadcasting large task binary with size 1130.8 KiB\n",
      "25/05/10 21:23:56 WARN DAGScheduler: Broadcasting large task binary with size 1130.8 KiB\n",
      "25/05/10 21:23:56 WARN DAGScheduler: Broadcasting large task binary with size 1130.9 KiB\n",
      "25/05/10 21:23:56 WARN DAGScheduler: Broadcasting large task binary with size 1130.8 KiB\n",
      "25/05/10 21:23:56 WARN DAGScheduler: Broadcasting large task binary with size 1130.8 KiB\n",
      "25/05/10 21:23:56 WARN DAGScheduler: Broadcasting large task binary with size 1129.7 KiB\n",
      "25/05/10 21:23:56 WARN DAGScheduler: Broadcasting large task binary with size 1130.8 KiB\n",
      "25/05/10 21:23:56 WARN DAGScheduler: Broadcasting large task binary with size 1130.9 KiB\n",
      "25/05/10 21:23:56 WARN DAGScheduler: Broadcasting large task binary with size 1130.9 KiB\n",
      "25/05/10 21:23:56 WARN DAGScheduler: Broadcasting large task binary with size 1130.8 KiB\n",
      "25/05/10 21:23:56 WARN DAGScheduler: Broadcasting large task binary with size 1130.9 KiB\n",
      "25/05/10 21:23:56 WARN DAGScheduler: Broadcasting large task binary with size 1130.8 KiB\n",
      "25/05/10 21:23:56 WARN DAGScheduler: Broadcasting large task binary with size 1130.8 KiB\n",
      "25/05/10 21:23:56 WARN DAGScheduler: Broadcasting large task binary with size 1129.6 KiB\n"
     ]
    },
    {
     "name": "stderr",
     "output_type": "stream",
     "text": [
      "                                                                                "
     ]
    },
    {
     "name": "stdout",
     "output_type": "stream",
     "text": [
      "25/05/10 21:24:01 WARN DAGScheduler: Broadcasting large task binary with size 1130.9 KiB\n",
      "25/05/10 21:24:01 WARN DAGScheduler: Broadcasting large task binary with size 1130.8 KiB\n",
      "25/05/10 21:24:01 WARN DAGScheduler: Broadcasting large task binary with size 1130.9 KiB\n",
      "25/05/10 21:24:01 WARN DAGScheduler: Broadcasting large task binary with size 1130.8 KiB\n",
      "25/05/10 21:24:01 WARN DAGScheduler: Broadcasting large task binary with size 1130.9 KiB\n",
      "25/05/10 21:24:01 WARN DAGScheduler: Broadcasting large task binary with size 1130.8 KiB\n",
      "25/05/10 21:24:01 WARN DAGScheduler: Broadcasting large task binary with size 1130.9 KiB\n",
      "25/05/10 21:24:01 WARN DAGScheduler: Broadcasting large task binary with size 1130.8 KiB\n"
     ]
    },
    {
     "name": "stderr",
     "output_type": "stream",
     "text": [
      "                                                                                "
     ]
    },
    {
     "name": "stdout",
     "output_type": "stream",
     "text": [
      "25/05/10 21:24:06 WARN DAGScheduler: Broadcasting large task binary with size 1130.8 KiB\n"
     ]
    },
    {
     "name": "stderr",
     "output_type": "stream",
     "text": [
      "                                                                                "
     ]
    },
    {
     "name": "stdout",
     "output_type": "stream",
     "text": [
      "25/05/10 21:24:10 WARN DAGScheduler: Broadcasting large task binary with size 1130.9 KiB\n",
      "25/05/10 21:24:10 WARN DAGScheduler: Broadcasting large task binary with size 1130.8 KiB\n",
      "25/05/10 21:24:10 WARN DAGScheduler: Broadcasting large task binary with size 1130.9 KiB\n",
      "25/05/10 21:24:10 WARN DAGScheduler: Broadcasting large task binary with size 1130.8 KiB\n",
      "25/05/10 21:24:10 WARN DAGScheduler: Broadcasting large task binary with size 1130.8 KiB\n",
      "25/05/10 21:24:10 WARN DAGScheduler: Broadcasting large task binary with size 1130.9 KiB\n",
      "25/05/10 21:24:11 WARN DAGScheduler: Broadcasting large task binary with size 1130.9 KiB\n",
      "25/05/10 21:24:11 WARN DAGScheduler: Broadcasting large task binary with size 1130.8 KiB\n"
     ]
    },
    {
     "name": "stderr",
     "output_type": "stream",
     "text": [
      "                                                                                "
     ]
    },
    {
     "name": "stdout",
     "output_type": "stream",
     "text": [
      "25/05/10 21:24:15 WARN DAGScheduler: Broadcasting large task binary with size 1130.8 KiB\n",
      "25/05/10 21:24:15 WARN DAGScheduler: Broadcasting large task binary with size 1130.9 KiB\n",
      "25/05/10 21:24:15 WARN DAGScheduler: Broadcasting large task binary with size 1130.8 KiB\n",
      "25/05/10 21:24:15 WARN DAGScheduler: Broadcasting large task binary with size 1130.9 KiB\n",
      "25/05/10 21:24:15 WARN DAGScheduler: Broadcasting large task binary with size 1130.8 KiB\n",
      "25/05/10 21:24:15 WARN DAGScheduler: Broadcasting large task binary with size 1130.9 KiB\n",
      "25/05/10 21:24:15 WARN DAGScheduler: Broadcasting large task binary with size 1130.8 KiB\n",
      "25/05/10 21:24:15 WARN DAGScheduler: Broadcasting large task binary with size 1130.8 KiB\n",
      "25/05/10 21:24:15 WARN DAGScheduler: Broadcasting large task binary with size 1130.9 KiB\n",
      "25/05/10 21:24:15 WARN DAGScheduler: Broadcasting large task binary with size 1130.8 KiB\n",
      "25/05/10 21:24:15 WARN DAGScheduler: Broadcasting large task binary with size 1130.9 KiB\n",
      "25/05/10 21:24:16 WARN DAGScheduler: Broadcasting large task binary with size 1130.8 KiB\n",
      "25/05/10 21:24:16 WARN DAGScheduler: Broadcasting large task binary with size 1130.9 KiB\n",
      "25/05/10 21:24:16 WARN DAGScheduler: Broadcasting large task binary with size 1130.9 KiB\n",
      "25/05/10 21:24:16 WARN DAGScheduler: Broadcasting large task binary with size 1130.9 KiB\n",
      "25/05/10 21:24:16 WARN DAGScheduler: Broadcasting large task binary with size 1130.8 KiB\n",
      "25/05/10 21:24:16 WARN DAGScheduler: Broadcasting large task binary with size 1129.6 KiB\n",
      "25/05/10 21:24:16 WARN DAGScheduler: Broadcasting large task binary with size 1130.8 KiB\n",
      "25/05/10 21:24:16 WARN DAGScheduler: Broadcasting large task binary with size 1130.9 KiB\n",
      "25/05/10 21:24:16 WARN DAGScheduler: Broadcasting large task binary with size 1130.9 KiB\n",
      "25/05/10 21:24:16 WARN DAGScheduler: Broadcasting large task binary with size 1130.8 KiB\n",
      "25/05/10 21:24:16 WARN DAGScheduler: Broadcasting large task binary with size 1130.9 KiB\n",
      "25/05/10 21:24:16 WARN DAGScheduler: Broadcasting large task binary with size 1130.9 KiB\n",
      "25/05/10 21:24:16 WARN DAGScheduler: Broadcasting large task binary with size 1130.8 KiB\n",
      "25/05/10 21:24:16 WARN DAGScheduler: Broadcasting large task binary with size 1129.6 KiB\n"
     ]
    },
    {
     "name": "stderr",
     "output_type": "stream",
     "text": [
      "                                                                                "
     ]
    },
    {
     "name": "stdout",
     "output_type": "stream",
     "text": [
      "25/05/10 21:24:20 WARN DAGScheduler: Broadcasting large task binary with size 1130.8 KiB\n",
      "25/05/10 21:24:20 WARN DAGScheduler: Broadcasting large task binary with size 1130.9 KiB\n",
      "25/05/10 21:24:20 WARN DAGScheduler: Broadcasting large task binary with size 1130.8 KiB\n",
      "25/05/10 21:24:20 WARN DAGScheduler: Broadcasting large task binary with size 1130.9 KiB\n",
      "25/05/10 21:24:21 WARN DAGScheduler: Broadcasting large task binary with size 1130.8 KiB\n",
      "25/05/10 21:24:21 WARN DAGScheduler: Broadcasting large task binary with size 1130.9 KiB\n",
      "25/05/10 21:24:21 WARN DAGScheduler: Broadcasting large task binary with size 1130.9 KiB\n",
      "25/05/10 21:24:21 WARN DAGScheduler: Broadcasting large task binary with size 1130.8 KiB\n"
     ]
    },
    {
     "name": "stderr",
     "output_type": "stream",
     "text": [
      "                                                                                "
     ]
    },
    {
     "name": "stdout",
     "output_type": "stream",
     "text": [
      "25/05/10 21:24:25 WARN DAGScheduler: Broadcasting large task binary with size 1130.8 KiB\n"
     ]
    },
    {
     "name": "stderr",
     "output_type": "stream",
     "text": [
      "                                                                                "
     ]
    },
    {
     "name": "stdout",
     "output_type": "stream",
     "text": [
      "25/05/10 21:24:30 WARN DAGScheduler: Broadcasting large task binary with size 1130.8 KiB\n",
      "25/05/10 21:24:30 WARN DAGScheduler: Broadcasting large task binary with size 1130.8 KiB\n",
      "25/05/10 21:24:30 WARN DAGScheduler: Broadcasting large task binary with size 1130.9 KiB\n",
      "25/05/10 21:24:30 WARN DAGScheduler: Broadcasting large task binary with size 1130.9 KiB\n",
      "25/05/10 21:24:30 WARN DAGScheduler: Broadcasting large task binary with size 1130.8 KiB\n",
      "25/05/10 21:24:30 WARN DAGScheduler: Broadcasting large task binary with size 1130.9 KiB\n",
      "25/05/10 21:24:30 WARN DAGScheduler: Broadcasting large task binary with size 1130.8 KiB\n",
      "25/05/10 21:24:30 WARN DAGScheduler: Broadcasting large task binary with size 1129.7 KiB\n"
     ]
    },
    {
     "name": "stderr",
     "output_type": "stream",
     "text": [
      "                                                                                "
     ]
    },
    {
     "name": "stdout",
     "output_type": "stream",
     "text": [
      "25/05/10 21:24:34 WARN DAGScheduler: Broadcasting large task binary with size 1130.8 KiB\n",
      "25/05/10 21:24:35 WARN DAGScheduler: Broadcasting large task binary with size 1130.8 KiB\n",
      "25/05/10 21:24:35 WARN DAGScheduler: Broadcasting large task binary with size 1130.8 KiB\n",
      "25/05/10 21:24:35 WARN DAGScheduler: Broadcasting large task binary with size 1130.9 KiB\n",
      "25/05/10 21:24:35 WARN DAGScheduler: Broadcasting large task binary with size 1130.8 KiB\n",
      "25/05/10 21:24:35 WARN DAGScheduler: Broadcasting large task binary with size 1130.9 KiB\n",
      "25/05/10 21:24:35 WARN DAGScheduler: Broadcasting large task binary with size 1130.8 KiB\n",
      "25/05/10 21:24:35 WARN DAGScheduler: Broadcasting large task binary with size 1130.9 KiB\n"
     ]
    },
    {
     "name": "stderr",
     "output_type": "stream",
     "text": [
      "                                                                                "
     ]
    },
    {
     "name": "stdout",
     "output_type": "stream",
     "text": [
      "25/05/10 21:24:39 WARN DAGScheduler: Broadcasting large task binary with size 1130.9 KiB\n",
      "25/05/10 21:24:39 WARN DAGScheduler: Broadcasting large task binary with size 1130.8 KiB\n",
      "25/05/10 21:24:39 WARN DAGScheduler: Broadcasting large task binary with size 1130.8 KiB\n",
      "25/05/10 21:24:39 WARN DAGScheduler: Broadcasting large task binary with size 1130.8 KiB\n",
      "25/05/10 21:24:39 WARN DAGScheduler: Broadcasting large task binary with size 1130.9 KiB\n",
      "25/05/10 21:24:39 WARN DAGScheduler: Broadcasting large task binary with size 1130.8 KiB\n",
      "25/05/10 21:24:40 WARN DAGScheduler: Broadcasting large task binary with size 1130.9 KiB\n",
      "25/05/10 21:24:40 WARN DAGScheduler: Broadcasting large task binary with size 1130.8 KiB\n",
      "25/05/10 21:24:40 WARN DAGScheduler: Broadcasting large task binary with size 1130.9 KiB\n"
     ]
    },
    {
     "name": "stderr",
     "output_type": "stream",
     "text": [
      "                                                                                "
     ]
    },
    {
     "name": "stdout",
     "output_type": "stream",
     "text": [
      "25/05/10 21:24:44 WARN DAGScheduler: Broadcasting large task binary with size 1130.9 KiB\n",
      "25/05/10 21:24:44 WARN DAGScheduler: Broadcasting large task binary with size 1130.8 KiB\n",
      "25/05/10 21:24:44 WARN DAGScheduler: Broadcasting large task binary with size 1130.8 KiB\n",
      "25/05/10 21:24:44 WARN DAGScheduler: Broadcasting large task binary with size 1130.8 KiB\n",
      "25/05/10 21:24:44 WARN DAGScheduler: Broadcasting large task binary with size 1130.9 KiB\n",
      "25/05/10 21:24:44 WARN DAGScheduler: Broadcasting large task binary with size 1130.9 KiB\n",
      "25/05/10 21:24:44 WARN DAGScheduler: Broadcasting large task binary with size 1130.8 KiB\n",
      "25/05/10 21:24:44 WARN DAGScheduler: Broadcasting large task binary with size 1130.8 KiB\n",
      "25/05/10 21:24:44 WARN DAGScheduler: Broadcasting large task binary with size 1130.9 KiB\n",
      "25/05/10 21:24:44 WARN DAGScheduler: Broadcasting large task binary with size 1130.9 KiB\n",
      "25/05/10 21:24:44 WARN DAGScheduler: Broadcasting large task binary with size 1130.8 KiB\n",
      "25/05/10 21:24:45 WARN DAGScheduler: Broadcasting large task binary with size 1130.8 KiB\n",
      "25/05/10 21:24:45 WARN DAGScheduler: Broadcasting large task binary with size 1130.8 KiB\n",
      "25/05/10 21:24:45 WARN DAGScheduler: Broadcasting large task binary with size 1130.9 KiB\n",
      "25/05/10 21:24:45 WARN DAGScheduler: Broadcasting large task binary with size 1130.9 KiB\n",
      "25/05/10 21:24:45 WARN DAGScheduler: Broadcasting large task binary with size 1130.8 KiB\n",
      "25/05/10 21:24:45 WARN DAGScheduler: Broadcasting large task binary with size 1130.8 KiB\n",
      "25/05/10 21:24:45 WARN DAGScheduler: Broadcasting large task binary with size 1130.9 KiB\n",
      "25/05/10 21:24:45 WARN DAGScheduler: Broadcasting large task binary with size 1130.8 KiB\n",
      "25/05/10 21:24:45 WARN DAGScheduler: Broadcasting large task binary with size 1130.9 KiB\n",
      "25/05/10 21:24:45 WARN DAGScheduler: Broadcasting large task binary with size 1130.9 KiB\n",
      "25/05/10 21:24:45 WARN DAGScheduler: Broadcasting large task binary with size 1130.8 KiB\n",
      "25/05/10 21:24:45 WARN DAGScheduler: Broadcasting large task binary with size 1130.8 KiB\n",
      "25/05/10 21:24:45 WARN DAGScheduler: Broadcasting large task binary with size 1130.9 KiB\n",
      "25/05/10 21:24:45 WARN DAGScheduler: Broadcasting large task binary with size 1130.8 KiB\n",
      "25/05/10 21:24:45 WARN DAGScheduler: Broadcasting large task binary with size 1130.9 KiB\n",
      "25/05/10 21:24:45 WARN DAGScheduler: Broadcasting large task binary with size 1130.8 KiB\n",
      "25/05/10 21:24:45 WARN DAGScheduler: Broadcasting large task binary with size 1130.8 KiB\n",
      "25/05/10 21:24:45 WARN DAGScheduler: Broadcasting large task binary with size 1130.9 KiB\n",
      "25/05/10 21:24:45 WARN DAGScheduler: Broadcasting large task binary with size 1130.8 KiB\n",
      "25/05/10 21:24:45 WARN DAGScheduler: Broadcasting large task binary with size 1130.9 KiB\n",
      "25/05/10 21:24:45 WARN DAGScheduler: Broadcasting large task binary with size 1130.8 KiB\n",
      "25/05/10 21:24:45 WARN DAGScheduler: Broadcasting large task binary with size 1130.9 KiB\n",
      "25/05/10 21:24:45 WARN DAGScheduler: Broadcasting large task binary with size 1130.8 KiB\n",
      "25/05/10 21:24:45 WARN DAGScheduler: Broadcasting large task binary with size 1130.8 KiB\n",
      "25/05/10 21:24:45 WARN DAGScheduler: Broadcasting large task binary with size 1130.9 KiB\n",
      "25/05/10 21:24:45 WARN DAGScheduler: Broadcasting large task binary with size 1130.8 KiB\n",
      "25/05/10 21:24:45 WARN DAGScheduler: Broadcasting large task binary with size 1130.9 KiB\n",
      "25/05/10 21:24:45 WARN DAGScheduler: Broadcasting large task binary with size 1130.8 KiB\n",
      "25/05/10 21:24:45 WARN DAGScheduler: Broadcasting large task binary with size 1130.9 KiB\n",
      "25/05/10 21:24:45 WARN DAGScheduler: Broadcasting large task binary with size 1130.9 KiB\n",
      "25/05/10 21:24:45 WARN DAGScheduler: Broadcasting large task binary with size 1130.8 KiB\n",
      "25/05/10 21:24:45 WARN DAGScheduler: Broadcasting large task binary with size 1130.8 KiB\n",
      "25/05/10 21:24:46 WARN DAGScheduler: Broadcasting large task binary with size 1130.8 KiB\n",
      "25/05/10 21:24:46 WARN DAGScheduler: Broadcasting large task binary with size 1130.9 KiB\n",
      "25/05/10 21:24:46 WARN DAGScheduler: Broadcasting large task binary with size 1130.9 KiB\n",
      "25/05/10 21:24:46 WARN DAGScheduler: Broadcasting large task binary with size 1130.8 KiB\n",
      "25/05/10 21:24:46 WARN DAGScheduler: Broadcasting large task binary with size 1130.9 KiB\n",
      "25/05/10 21:24:46 WARN DAGScheduler: Broadcasting large task binary with size 1130.9 KiB\n",
      "25/05/10 21:24:46 WARN DAGScheduler: Broadcasting large task binary with size 1130.8 KiB\n",
      "25/05/10 21:24:46 WARN DAGScheduler: Broadcasting large task binary with size 1130.8 KiB\n",
      "25/05/10 21:24:46 WARN DAGScheduler: Broadcasting large task binary with size 1130.8 KiB\n",
      "25/05/10 21:24:46 WARN DAGScheduler: Broadcasting large task binary with size 1130.9 KiB\n",
      "25/05/10 21:24:46 WARN DAGScheduler: Broadcasting large task binary with size 1130.9 KiB\n",
      "25/05/10 21:24:46 WARN DAGScheduler: Broadcasting large task binary with size 1129.6 KiB\n",
      "25/05/10 21:24:46 WARN DAGScheduler: Broadcasting large task binary with size 1130.8 KiB\n",
      "25/05/10 21:24:46 WARN DAGScheduler: Broadcasting large task binary with size 1130.9 KiB\n",
      "25/05/10 21:24:46 WARN DAGScheduler: Broadcasting large task binary with size 1130.9 KiB\n",
      "25/05/10 21:24:46 WARN DAGScheduler: Broadcasting large task binary with size 1130.8 KiB\n",
      "25/05/10 21:24:46 WARN DAGScheduler: Broadcasting large task binary with size 1130.8 KiB\n",
      "25/05/10 21:24:46 WARN DAGScheduler: Broadcasting large task binary with size 1130.8 KiB\n",
      "25/05/10 21:24:46 WARN DAGScheduler: Broadcasting large task binary with size 1130.9 KiB\n",
      "25/05/10 21:24:46 WARN DAGScheduler: Broadcasting large task binary with size 1130.9 KiB\n"
     ]
    },
    {
     "name": "stderr",
     "output_type": "stream",
     "text": [
      "                                                                                "
     ]
    },
    {
     "name": "stdout",
     "output_type": "stream",
     "text": [
      "25/05/10 21:24:51 WARN DAGScheduler: Broadcasting large task binary with size 1130.8 KiB\n",
      "25/05/10 21:24:51 WARN DAGScheduler: Broadcasting large task binary with size 1130.8 KiB\n",
      "25/05/10 21:24:51 WARN DAGScheduler: Broadcasting large task binary with size 1130.9 KiB\n",
      "25/05/10 21:24:51 WARN DAGScheduler: Broadcasting large task binary with size 1130.9 KiB\n",
      "25/05/10 21:24:51 WARN DAGScheduler: Broadcasting large task binary with size 1130.8 KiB\n",
      "25/05/10 21:24:51 WARN DAGScheduler: Broadcasting large task binary with size 1130.8 KiB\n",
      "25/05/10 21:24:51 WARN DAGScheduler: Broadcasting large task binary with size 1130.8 KiB\n",
      "25/05/10 21:24:51 WARN DAGScheduler: Broadcasting large task binary with size 1130.9 KiB\n",
      "25/05/10 21:24:51 WARN DAGScheduler: Broadcasting large task binary with size 1130.9 KiB\n"
     ]
    },
    {
     "name": "stderr",
     "output_type": "stream",
     "text": [
      "                                                                                "
     ]
    },
    {
     "name": "stdout",
     "output_type": "stream",
     "text": [
      "25/05/10 21:24:55 WARN DAGScheduler: Broadcasting large task binary with size 1130.8 KiB\n",
      "25/05/10 21:24:55 WARN DAGScheduler: Broadcasting large task binary with size 1130.8 KiB\n",
      "25/05/10 21:24:56 WARN DAGScheduler: Broadcasting large task binary with size 1130.9 KiB\n",
      "25/05/10 21:24:56 WARN DAGScheduler: Broadcasting large task binary with size 1130.9 KiB\n",
      "25/05/10 21:24:56 WARN DAGScheduler: Broadcasting large task binary with size 1130.8 KiB\n",
      "25/05/10 21:24:56 WARN DAGScheduler: Broadcasting large task binary with size 1130.8 KiB\n",
      "25/05/10 21:24:56 WARN DAGScheduler: Broadcasting large task binary with size 1130.8 KiB\n",
      "25/05/10 21:24:56 WARN DAGScheduler: Broadcasting large task binary with size 1130.9 KiB\n",
      "25/05/10 21:24:56 WARN DAGScheduler: Broadcasting large task binary with size 1130.9 KiB\n",
      "25/05/10 21:24:56 WARN DAGScheduler: Broadcasting large task binary with size 1130.8 KiB\n",
      "25/05/10 21:24:56 WARN DAGScheduler: Broadcasting large task binary with size 1130.9 KiB\n",
      "25/05/10 21:24:56 WARN DAGScheduler: Broadcasting large task binary with size 1130.8 KiB\n",
      "25/05/10 21:24:56 WARN DAGScheduler: Broadcasting large task binary with size 1130.9 KiB\n",
      "25/05/10 21:24:56 WARN DAGScheduler: Broadcasting large task binary with size 1130.8 KiB\n",
      "25/05/10 21:24:56 WARN DAGScheduler: Broadcasting large task binary with size 1130.8 KiB\n",
      "25/05/10 21:24:56 WARN DAGScheduler: Broadcasting large task binary with size 1130.8 KiB\n",
      "25/05/10 21:24:56 WARN DAGScheduler: Broadcasting large task binary with size 1130.9 KiB\n",
      "25/05/10 21:24:56 WARN DAGScheduler: Broadcasting large task binary with size 1130.9 KiB\n",
      "25/05/10 21:24:56 WARN DAGScheduler: Broadcasting large task binary with size 1130.8 KiB\n",
      "25/05/10 21:24:56 WARN DAGScheduler: Broadcasting large task binary with size 1130.9 KiB\n",
      "25/05/10 21:24:56 WARN DAGScheduler: Broadcasting large task binary with size 1130.8 KiB\n",
      "25/05/10 21:24:56 WARN DAGScheduler: Broadcasting large task binary with size 1130.9 KiB\n",
      "25/05/10 21:24:56 WARN DAGScheduler: Broadcasting large task binary with size 1130.8 KiB\n",
      "25/05/10 21:24:56 WARN DAGScheduler: Broadcasting large task binary with size 1130.8 KiB\n",
      "25/05/10 21:24:56 WARN DAGScheduler: Broadcasting large task binary with size 1130.8 KiB\n",
      "25/05/10 21:24:56 WARN DAGScheduler: Broadcasting large task binary with size 1130.9 KiB\n",
      "25/05/10 21:24:56 WARN DAGScheduler: Broadcasting large task binary with size 1130.9 KiB\n",
      "25/05/10 21:24:56 WARN DAGScheduler: Broadcasting large task binary with size 1130.9 KiB\n",
      "25/05/10 21:24:56 WARN DAGScheduler: Broadcasting large task binary with size 1130.8 KiB\n",
      "25/05/10 21:24:56 WARN DAGScheduler: Broadcasting large task binary with size 1130.8 KiB\n",
      "25/05/10 21:24:56 WARN DAGScheduler: Broadcasting large task binary with size 1130.9 KiB\n",
      "25/05/10 21:24:56 WARN DAGScheduler: Broadcasting large task binary with size 1130.8 KiB\n",
      "25/05/10 21:24:57 WARN DAGScheduler: Broadcasting large task binary with size 1130.8 KiB\n",
      "25/05/10 21:24:57 WARN DAGScheduler: Broadcasting large task binary with size 1130.8 KiB\n",
      "25/05/10 21:24:57 WARN DAGScheduler: Broadcasting large task binary with size 1130.9 KiB\n",
      "25/05/10 21:24:57 WARN DAGScheduler: Broadcasting large task binary with size 1130.9 KiB\n",
      "25/05/10 21:24:57 WARN DAGScheduler: Broadcasting large task binary with size 1130.9 KiB\n",
      "25/05/10 21:24:57 WARN DAGScheduler: Broadcasting large task binary with size 1130.8 KiB\n",
      "25/05/10 21:24:57 WARN DAGScheduler: Broadcasting large task binary with size 1130.8 KiB\n",
      "25/05/10 21:24:57 WARN DAGScheduler: Broadcasting large task binary with size 1130.9 KiB\n",
      "25/05/10 21:24:57 WARN DAGScheduler: Broadcasting large task binary with size 1130.8 KiB\n",
      "25/05/10 21:24:57 WARN DAGScheduler: Broadcasting large task binary with size 1130.8 KiB\n",
      "25/05/10 21:24:57 WARN DAGScheduler: Broadcasting large task binary with size 1130.9 KiB\n",
      "25/05/10 21:24:57 WARN DAGScheduler: Broadcasting large task binary with size 1130.9 KiB\n",
      "25/05/10 21:24:57 WARN DAGScheduler: Broadcasting large task binary with size 1130.8 KiB\n",
      "25/05/10 21:24:57 WARN DAGScheduler: Broadcasting large task binary with size 1130.9 KiB\n",
      "25/05/10 21:24:57 WARN DAGScheduler: Broadcasting large task binary with size 1130.8 KiB\n",
      "25/05/10 21:24:57 WARN DAGScheduler: Broadcasting large task binary with size 1130.9 KiB\n",
      "25/05/10 21:24:57 WARN DAGScheduler: Broadcasting large task binary with size 1130.8 KiB\n",
      "25/05/10 21:24:57 WARN DAGScheduler: Broadcasting large task binary with size 1130.8 KiB\n",
      "25/05/10 21:24:57 WARN DAGScheduler: Broadcasting large task binary with size 1130.8 KiB\n",
      "25/05/10 21:24:57 WARN DAGScheduler: Broadcasting large task binary with size 1130.8 KiB\n",
      "25/05/10 21:24:57 WARN DAGScheduler: Broadcasting large task binary with size 1130.8 KiB\n",
      "25/05/10 21:24:57 WARN DAGScheduler: Broadcasting large task binary with size 1130.9 KiB\n",
      "25/05/10 21:24:58 WARN DAGScheduler: Broadcasting large task binary with size 1130.8 KiB\n",
      "25/05/10 21:24:58 WARN DAGScheduler: Broadcasting large task binary with size 1130.9 KiB\n",
      "25/05/10 21:24:58 WARN DAGScheduler: Broadcasting large task binary with size 1130.9 KiB\n",
      "25/05/10 21:24:58 WARN DAGScheduler: Broadcasting large task binary with size 1130.9 KiB\n",
      "25/05/10 21:24:58 WARN DAGScheduler: Broadcasting large task binary with size 1130.8 KiB\n",
      "25/05/10 21:24:58 WARN DAGScheduler: Broadcasting large task binary with size 1130.9 KiB\n",
      "25/05/10 21:24:58 WARN DAGScheduler: Broadcasting large task binary with size 1130.8 KiB\n",
      "25/05/10 21:24:58 WARN DAGScheduler: Broadcasting large task binary with size 1130.9 KiB\n",
      "25/05/10 21:24:58 WARN DAGScheduler: Broadcasting large task binary with size 1130.8 KiB\n",
      "25/05/10 21:24:58 WARN DAGScheduler: Broadcasting large task binary with size 1130.8 KiB\n",
      "25/05/10 21:24:58 WARN DAGScheduler: Broadcasting large task binary with size 1130.9 KiB\n",
      "25/05/10 21:24:58 WARN DAGScheduler: Broadcasting large task binary with size 1129.6 KiB\n",
      "25/05/10 21:24:58 WARN DAGScheduler: Broadcasting large task binary with size 1130.9 KiB\n",
      "25/05/10 21:24:58 WARN DAGScheduler: Broadcasting large task binary with size 1130.8 KiB\n",
      "25/05/10 21:24:58 WARN DAGScheduler: Broadcasting large task binary with size 1130.8 KiB\n",
      "25/05/10 21:24:58 WARN DAGScheduler: Broadcasting large task binary with size 1130.9 KiB\n",
      "25/05/10 21:24:58 WARN DAGScheduler: Broadcasting large task binary with size 1130.9 KiB\n",
      "25/05/10 21:24:58 WARN DAGScheduler: Broadcasting large task binary with size 1130.8 KiB\n",
      "25/05/10 21:24:58 WARN DAGScheduler: Broadcasting large task binary with size 1130.8 KiB\n",
      "25/05/10 21:24:58 WARN DAGScheduler: Broadcasting large task binary with size 1130.9 KiB\n"
     ]
    },
    {
     "name": "stderr",
     "output_type": "stream",
     "text": [
      "                                                                                "
     ]
    },
    {
     "name": "stdout",
     "output_type": "stream",
     "text": [
      "25/05/10 21:25:03 WARN DAGScheduler: Broadcasting large task binary with size 1130.8 KiB\n",
      "25/05/10 21:25:03 WARN DAGScheduler: Broadcasting large task binary with size 1130.9 KiB\n",
      "25/05/10 21:25:03 WARN DAGScheduler: Broadcasting large task binary with size 1130.8 KiB\n",
      "25/05/10 21:25:03 WARN DAGScheduler: Broadcasting large task binary with size 1130.8 KiB\n",
      "25/05/10 21:25:03 WARN DAGScheduler: Broadcasting large task binary with size 1130.8 KiB\n",
      "25/05/10 21:25:03 WARN DAGScheduler: Broadcasting large task binary with size 1130.9 KiB\n",
      "25/05/10 21:25:03 WARN DAGScheduler: Broadcasting large task binary with size 1130.9 KiB\n",
      "25/05/10 21:25:03 WARN DAGScheduler: Broadcasting large task binary with size 1130.8 KiB\n",
      "25/05/10 21:25:03 WARN DAGScheduler: Broadcasting large task binary with size 1130.9 KiB\n"
     ]
    },
    {
     "name": "stderr",
     "output_type": "stream",
     "text": [
      "                                                                                "
     ]
    },
    {
     "name": "stdout",
     "output_type": "stream",
     "text": [
      "25/05/10 21:25:07 WARN DAGScheduler: Broadcasting large task binary with size 1130.8 KiB\n",
      "25/05/10 21:25:07 WARN DAGScheduler: Broadcasting large task binary with size 1130.9 KiB\n",
      "25/05/10 21:25:08 WARN DAGScheduler: Broadcasting large task binary with size 1130.8 KiB\n",
      "25/05/10 21:25:08 WARN DAGScheduler: Broadcasting large task binary with size 1130.8 KiB\n",
      "25/05/10 21:25:08 WARN DAGScheduler: Broadcasting large task binary with size 1130.8 KiB\n",
      "25/05/10 21:25:08 WARN DAGScheduler: Broadcasting large task binary with size 1130.9 KiB\n",
      "25/05/10 21:25:08 WARN DAGScheduler: Broadcasting large task binary with size 1130.8 KiB\n",
      "25/05/10 21:25:08 WARN DAGScheduler: Broadcasting large task binary with size 1130.9 KiB\n",
      "25/05/10 21:25:08 WARN DAGScheduler: Broadcasting large task binary with size 1130.9 KiB\n",
      "25/05/10 21:25:08 WARN DAGScheduler: Broadcasting large task binary with size 1130.8 KiB\n",
      "25/05/10 21:25:08 WARN DAGScheduler: Broadcasting large task binary with size 1130.8 KiB\n",
      "25/05/10 21:25:08 WARN DAGScheduler: Broadcasting large task binary with size 1130.8 KiB\n",
      "25/05/10 21:25:08 WARN DAGScheduler: Broadcasting large task binary with size 1130.9 KiB\n",
      "25/05/10 21:25:08 WARN DAGScheduler: Broadcasting large task binary with size 1130.9 KiB\n",
      "25/05/10 21:25:08 WARN DAGScheduler: Broadcasting large task binary with size 1130.8 KiB\n",
      "25/05/10 21:25:08 WARN DAGScheduler: Broadcasting large task binary with size 1130.9 KiB\n",
      "25/05/10 21:25:08 WARN DAGScheduler: Broadcasting large task binary with size 1130.9 KiB\n",
      "25/05/10 21:25:08 WARN DAGScheduler: Broadcasting large task binary with size 1130.8 KiB\n",
      "25/05/10 21:25:08 WARN DAGScheduler: Broadcasting large task binary with size 1130.8 KiB\n",
      "25/05/10 21:25:08 WARN DAGScheduler: Broadcasting large task binary with size 1130.8 KiB\n",
      "25/05/10 21:25:08 WARN DAGScheduler: Broadcasting large task binary with size 1130.9 KiB\n",
      "25/05/10 21:25:08 WARN DAGScheduler: Broadcasting large task binary with size 1130.8 KiB\n",
      "25/05/10 21:25:08 WARN DAGScheduler: Broadcasting large task binary with size 1130.9 KiB\n",
      "25/05/10 21:25:08 WARN DAGScheduler: Broadcasting large task binary with size 1130.9 KiB\n",
      "25/05/10 21:25:08 WARN DAGScheduler: Broadcasting large task binary with size 1130.9 KiB\n",
      "25/05/10 21:25:08 WARN DAGScheduler: Broadcasting large task binary with size 1130.8 KiB\n",
      "25/05/10 21:25:08 WARN DAGScheduler: Broadcasting large task binary with size 1130.8 KiB\n",
      "25/05/10 21:25:08 WARN DAGScheduler: Broadcasting large task binary with size 1130.8 KiB\n",
      "25/05/10 21:25:09 WARN DAGScheduler: Broadcasting large task binary with size 1129.6 KiB\n",
      "25/05/10 21:25:09 WARN DAGScheduler: Broadcasting large task binary with size 1130.8 KiB\n",
      "25/05/10 21:25:09 WARN DAGScheduler: Broadcasting large task binary with size 1130.9 KiB\n",
      "25/05/10 21:25:09 WARN DAGScheduler: Broadcasting large task binary with size 1130.9 KiB\n",
      "25/05/10 21:25:09 WARN DAGScheduler: Broadcasting large task binary with size 1130.9 KiB\n",
      "25/05/10 21:25:09 WARN DAGScheduler: Broadcasting large task binary with size 1130.8 KiB\n",
      "25/05/10 21:25:09 WARN DAGScheduler: Broadcasting large task binary with size 1130.8 KiB\n",
      "25/05/10 21:25:09 WARN DAGScheduler: Broadcasting large task binary with size 1130.8 KiB\n",
      "25/05/10 21:25:09 WARN DAGScheduler: Broadcasting large task binary with size 1129.7 KiB\n"
     ]
    },
    {
     "name": "stderr",
     "output_type": "stream",
     "text": [
      "                                                                                "
     ]
    },
    {
     "name": "stdout",
     "output_type": "stream",
     "text": [
      "25/05/10 21:25:13 WARN DAGScheduler: Broadcasting large task binary with size 1130.8 KiB\n",
      "25/05/10 21:25:13 WARN DAGScheduler: Broadcasting large task binary with size 1130.8 KiB\n",
      "25/05/10 21:25:13 WARN DAGScheduler: Broadcasting large task binary with size 1130.9 KiB\n",
      "25/05/10 21:25:13 WARN DAGScheduler: Broadcasting large task binary with size 1130.9 KiB\n",
      "25/05/10 21:25:13 WARN DAGScheduler: Broadcasting large task binary with size 1130.9 KiB\n",
      "25/05/10 21:25:13 WARN DAGScheduler: Broadcasting large task binary with size 1130.8 KiB\n",
      "25/05/10 21:25:14 WARN DAGScheduler: Broadcasting large task binary with size 1130.8 KiB\n",
      "25/05/10 21:25:14 WARN DAGScheduler: Broadcasting large task binary with size 1130.8 KiB\n"
     ]
    },
    {
     "name": "stderr",
     "output_type": "stream",
     "text": [
      "                                                                                "
     ]
    },
    {
     "name": "stdout",
     "output_type": "stream",
     "text": [
      "25/05/10 21:25:18 WARN DAGScheduler: Broadcasting large task binary with size 1130.9 KiB\n"
     ]
    },
    {
     "name": "stderr",
     "output_type": "stream",
     "text": [
      "                                                                                "
     ]
    },
    {
     "name": "stdout",
     "output_type": "stream",
     "text": [
      "25/05/10 21:25:22 WARN DAGScheduler: Broadcasting large task binary with size 1130.8 KiB\n",
      "25/05/10 21:25:22 WARN DAGScheduler: Broadcasting large task binary with size 1130.8 KiB\n",
      "25/05/10 21:25:22 WARN DAGScheduler: Broadcasting large task binary with size 1130.9 KiB\n",
      "25/05/10 21:25:22 WARN DAGScheduler: Broadcasting large task binary with size 1130.9 KiB\n",
      "25/05/10 21:25:23 WARN DAGScheduler: Broadcasting large task binary with size 1130.9 KiB\n",
      "25/05/10 21:25:23 WARN DAGScheduler: Broadcasting large task binary with size 1130.8 KiB\n",
      "25/05/10 21:25:23 WARN DAGScheduler: Broadcasting large task binary with size 1130.8 KiB\n",
      "25/05/10 21:25:23 WARN DAGScheduler: Broadcasting large task binary with size 1130.8 KiB\n"
     ]
    },
    {
     "name": "stderr",
     "output_type": "stream",
     "text": [
      "                                                                                "
     ]
    },
    {
     "name": "stdout",
     "output_type": "stream",
     "text": [
      "25/05/10 21:25:27 WARN DAGScheduler: Broadcasting large task binary with size 1130.9 KiB\n",
      "25/05/10 21:25:27 WARN DAGScheduler: Broadcasting large task binary with size 1130.8 KiB\n",
      "25/05/10 21:25:27 WARN DAGScheduler: Broadcasting large task binary with size 1130.8 KiB\n",
      "25/05/10 21:25:27 WARN DAGScheduler: Broadcasting large task binary with size 1130.9 KiB\n",
      "25/05/10 21:25:28 WARN DAGScheduler: Broadcasting large task binary with size 1130.9 KiB\n",
      "25/05/10 21:25:28 WARN DAGScheduler: Broadcasting large task binary with size 1130.9 KiB\n",
      "25/05/10 21:25:28 WARN DAGScheduler: Broadcasting large task binary with size 1130.8 KiB\n",
      "25/05/10 21:25:28 WARN DAGScheduler: Broadcasting large task binary with size 1130.8 KiB\n",
      "25/05/10 21:25:28 WARN DAGScheduler: Broadcasting large task binary with size 1130.8 KiB\n",
      "25/05/10 21:25:28 WARN DAGScheduler: Broadcasting large task binary with size 1130.8 KiB\n",
      "25/05/10 21:25:28 WARN DAGScheduler: Broadcasting large task binary with size 1130.9 KiB\n",
      "25/05/10 21:25:28 WARN DAGScheduler: Broadcasting large task binary with size 1130.9 KiB\n",
      "25/05/10 21:25:28 WARN DAGScheduler: Broadcasting large task binary with size 1130.8 KiB\n",
      "25/05/10 21:25:28 WARN DAGScheduler: Broadcasting large task binary with size 1130.9 KiB\n",
      "25/05/10 21:25:28 WARN DAGScheduler: Broadcasting large task binary with size 1130.8 KiB\n",
      "25/05/10 21:25:28 WARN DAGScheduler: Broadcasting large task binary with size 1130.9 KiB\n",
      "25/05/10 21:25:28 WARN DAGScheduler: Broadcasting large task binary with size 1130.8 KiB\n",
      "25/05/10 21:25:28 WARN DAGScheduler: Broadcasting large task binary with size 1130.9 KiB\n",
      "25/05/10 21:25:28 WARN DAGScheduler: Broadcasting large task binary with size 1130.9 KiB\n",
      "25/05/10 21:25:28 WARN DAGScheduler: Broadcasting large task binary with size 1130.8 KiB\n",
      "25/05/10 21:25:28 WARN DAGScheduler: Broadcasting large task binary with size 1130.8 KiB\n",
      "25/05/10 21:25:28 WARN DAGScheduler: Broadcasting large task binary with size 1130.8 KiB\n",
      "25/05/10 21:25:28 WARN DAGScheduler: Broadcasting large task binary with size 1130.8 KiB\n",
      "25/05/10 21:25:28 WARN DAGScheduler: Broadcasting large task binary with size 1130.9 KiB\n",
      "25/05/10 21:25:28 WARN DAGScheduler: Broadcasting large task binary with size 1130.9 KiB\n",
      "25/05/10 21:25:28 WARN DAGScheduler: Broadcasting large task binary with size 1130.9 KiB\n",
      "25/05/10 21:25:28 WARN DAGScheduler: Broadcasting large task binary with size 1130.8 KiB\n",
      "25/05/10 21:25:29 WARN DAGScheduler: Broadcasting large task binary with size 1130.9 KiB\n",
      "25/05/10 21:25:29 WARN DAGScheduler: Broadcasting large task binary with size 1130.8 KiB\n",
      "25/05/10 21:25:29 WARN DAGScheduler: Broadcasting large task binary with size 1130.8 KiB\n",
      "25/05/10 21:25:29 WARN DAGScheduler: Broadcasting large task binary with size 1130.9 KiB\n",
      "25/05/10 21:25:29 WARN DAGScheduler: Broadcasting large task binary with size 1130.8 KiB\n",
      "25/05/10 21:25:29 WARN DAGScheduler: Broadcasting large task binary with size 1130.8 KiB\n",
      "25/05/10 21:25:29 WARN DAGScheduler: Broadcasting large task binary with size 1130.8 KiB\n",
      "25/05/10 21:25:29 WARN DAGScheduler: Broadcasting large task binary with size 1130.9 KiB\n",
      "25/05/10 21:25:29 WARN DAGScheduler: Broadcasting large task binary with size 1130.9 KiB\n",
      "25/05/10 21:25:29 WARN DAGScheduler: Broadcasting large task binary with size 1130.9 KiB\n",
      "25/05/10 21:25:29 WARN DAGScheduler: Broadcasting large task binary with size 1130.9 KiB\n",
      "25/05/10 21:25:29 WARN DAGScheduler: Broadcasting large task binary with size 1130.8 KiB\n",
      "25/05/10 21:25:29 WARN DAGScheduler: Broadcasting large task binary with size 1130.8 KiB\n",
      "25/05/10 21:25:29 WARN DAGScheduler: Broadcasting large task binary with size 1130.8 KiB\n",
      "25/05/10 21:25:29 WARN DAGScheduler: Broadcasting large task binary with size 1130.8 KiB\n",
      "25/05/10 21:25:29 WARN DAGScheduler: Broadcasting large task binary with size 1130.8 KiB\n",
      "25/05/10 21:25:29 WARN DAGScheduler: Broadcasting large task binary with size 1130.8 KiB\n",
      "25/05/10 21:25:29 WARN DAGScheduler: Broadcasting large task binary with size 1130.9 KiB\n",
      "25/05/10 21:25:29 WARN DAGScheduler: Broadcasting large task binary with size 1130.9 KiB\n",
      "25/05/10 21:25:29 WARN DAGScheduler: Broadcasting large task binary with size 1130.8 KiB\n",
      "25/05/10 21:25:29 WARN DAGScheduler: Broadcasting large task binary with size 1130.9 KiB\n",
      "25/05/10 21:25:29 WARN DAGScheduler: Broadcasting large task binary with size 1130.9 KiB\n",
      "25/05/10 21:25:29 WARN DAGScheduler: Broadcasting large task binary with size 1130.8 KiB\n",
      "25/05/10 21:25:29 WARN DAGScheduler: Broadcasting large task binary with size 1130.8 KiB\n",
      "25/05/10 21:25:29 WARN DAGScheduler: Broadcasting large task binary with size 1130.9 KiB\n",
      "25/05/10 21:25:29 WARN DAGScheduler: Broadcasting large task binary with size 1130.9 KiB\n",
      "25/05/10 21:25:29 WARN DAGScheduler: Broadcasting large task binary with size 1130.8 KiB\n",
      "25/05/10 21:25:29 WARN DAGScheduler: Broadcasting large task binary with size 1130.8 KiB\n",
      "25/05/10 21:25:29 WARN DAGScheduler: Broadcasting large task binary with size 1130.8 KiB\n",
      "25/05/10 21:25:29 WARN DAGScheduler: Broadcasting large task binary with size 1130.9 KiB\n",
      "25/05/10 21:25:30 WARN DAGScheduler: Broadcasting large task binary with size 1130.8 KiB\n",
      "25/05/10 21:25:30 WARN DAGScheduler: Broadcasting large task binary with size 1130.9 KiB\n",
      "25/05/10 21:25:30 WARN DAGScheduler: Broadcasting large task binary with size 1130.8 KiB\n",
      "25/05/10 21:25:30 WARN DAGScheduler: Broadcasting large task binary with size 1130.9 KiB\n",
      "25/05/10 21:25:30 WARN DAGScheduler: Broadcasting large task binary with size 1130.9 KiB\n",
      "25/05/10 21:25:30 WARN DAGScheduler: Broadcasting large task binary with size 1130.8 KiB\n",
      "25/05/10 21:25:30 WARN DAGScheduler: Broadcasting large task binary with size 1130.8 KiB\n",
      "25/05/10 21:25:30 WARN DAGScheduler: Broadcasting large task binary with size 1130.8 KiB\n",
      "25/05/10 21:25:30 WARN DAGScheduler: Broadcasting large task binary with size 1130.9 KiB\n",
      "25/05/10 21:25:30 WARN DAGScheduler: Broadcasting large task binary with size 1130.9 KiB\n",
      "25/05/10 21:25:30 WARN DAGScheduler: Broadcasting large task binary with size 1130.8 KiB\n",
      "25/05/10 21:25:30 WARN DAGScheduler: Broadcasting large task binary with size 1130.9 KiB\n",
      "25/05/10 21:25:30 WARN DAGScheduler: Broadcasting large task binary with size 1130.9 KiB\n",
      "25/05/10 21:25:30 WARN DAGScheduler: Broadcasting large task binary with size 1130.8 KiB\n"
     ]
    },
    {
     "name": "stderr",
     "output_type": "stream",
     "text": [
      "                                                                                "
     ]
    },
    {
     "name": "stdout",
     "output_type": "stream",
     "text": [
      "25/05/10 21:25:31 WARN DAGScheduler: Broadcasting large task binary with size 1130.9 KiB\n",
      "25/05/10 21:25:31 WARN DAGScheduler: Broadcasting large task binary with size 1130.8 KiB\n",
      "25/05/10 21:25:31 WARN DAGScheduler: Broadcasting large task binary with size 1130.9 KiB\n",
      "25/05/10 21:25:31 WARN DAGScheduler: Broadcasting large task binary with size 1130.8 KiB\n",
      "25/05/10 21:25:31 WARN DAGScheduler: Broadcasting large task binary with size 1129.6 KiB\n",
      "25/05/10 21:25:31 WARN DAGScheduler: Broadcasting large task binary with size 1130.8 KiB\n",
      "25/05/10 21:25:31 WARN DAGScheduler: Broadcasting large task binary with size 1130.9 KiB\n",
      "25/05/10 21:25:31 WARN DAGScheduler: Broadcasting large task binary with size 1130.9 KiB\n",
      "25/05/10 21:25:31 WARN DAGScheduler: Broadcasting large task binary with size 1130.8 KiB\n",
      "25/05/10 21:25:31 WARN DAGScheduler: Broadcasting large task binary with size 1130.8 KiB\n",
      "25/05/10 21:25:31 WARN DAGScheduler: Broadcasting large task binary with size 1130.9 KiB\n",
      "25/05/10 21:25:31 WARN DAGScheduler: Broadcasting large task binary with size 1130.9 KiB\n",
      "25/05/10 21:25:31 WARN DAGScheduler: Broadcasting large task binary with size 1130.8 KiB\n"
     ]
    },
    {
     "name": "stderr",
     "output_type": "stream",
     "text": [
      "                                                                                "
     ]
    },
    {
     "name": "stdout",
     "output_type": "stream",
     "text": [
      "25/05/10 21:25:36 WARN DAGScheduler: Broadcasting large task binary with size 1130.8 KiB\n",
      "25/05/10 21:25:36 WARN DAGScheduler: Broadcasting large task binary with size 1130.8 KiB\n",
      "25/05/10 21:25:36 WARN DAGScheduler: Broadcasting large task binary with size 1130.9 KiB\n",
      "25/05/10 21:25:36 WARN DAGScheduler: Broadcasting large task binary with size 1130.9 KiB\n",
      "25/05/10 21:25:36 WARN DAGScheduler: Broadcasting large task binary with size 1130.8 KiB\n",
      "25/05/10 21:25:36 WARN DAGScheduler: Broadcasting large task binary with size 1130.9 KiB\n",
      "25/05/10 21:25:36 WARN DAGScheduler: Broadcasting large task binary with size 1130.8 KiB\n",
      "25/05/10 21:25:36 WARN DAGScheduler: Broadcasting large task binary with size 1130.8 KiB\n",
      "25/05/10 21:25:36 WARN DAGScheduler: Broadcasting large task binary with size 1130.9 KiB\n"
     ]
    },
    {
     "name": "stderr",
     "output_type": "stream",
     "text": [
      "                                                                                "
     ]
    },
    {
     "name": "stdout",
     "output_type": "stream",
     "text": [
      "25/05/10 21:25:40 WARN DAGScheduler: Broadcasting large task binary with size 1130.8 KiB\n",
      "25/05/10 21:25:40 WARN DAGScheduler: Broadcasting large task binary with size 1130.8 KiB\n",
      "25/05/10 21:25:41 WARN DAGScheduler: Broadcasting large task binary with size 1130.9 KiB\n",
      "25/05/10 21:25:41 WARN DAGScheduler: Broadcasting large task binary with size 1130.9 KiB\n",
      "25/05/10 21:25:41 WARN DAGScheduler: Broadcasting large task binary with size 1130.8 KiB\n",
      "25/05/10 21:25:41 WARN DAGScheduler: Broadcasting large task binary with size 1130.8 KiB\n",
      "25/05/10 21:25:41 WARN DAGScheduler: Broadcasting large task binary with size 1130.8 KiB\n",
      "25/05/10 21:25:41 WARN DAGScheduler: Broadcasting large task binary with size 1130.9 KiB\n",
      "25/05/10 21:25:41 WARN DAGScheduler: Broadcasting large task binary with size 1130.9 KiB\n",
      "25/05/10 21:25:41 WARN DAGScheduler: Broadcasting large task binary with size 1130.8 KiB\n",
      "25/05/10 21:25:41 WARN DAGScheduler: Broadcasting large task binary with size 1130.8 KiB\n",
      "25/05/10 21:25:41 WARN DAGScheduler: Broadcasting large task binary with size 1130.9 KiB\n",
      "25/05/10 21:25:41 WARN DAGScheduler: Broadcasting large task binary with size 1130.9 KiB\n",
      "25/05/10 21:25:41 WARN DAGScheduler: Broadcasting large task binary with size 1130.8 KiB\n",
      "25/05/10 21:25:41 WARN DAGScheduler: Broadcasting large task binary with size 1130.8 KiB\n",
      "25/05/10 21:25:41 WARN DAGScheduler: Broadcasting large task binary with size 1130.8 KiB\n",
      "25/05/10 21:25:41 WARN DAGScheduler: Broadcasting large task binary with size 1130.9 KiB\n",
      "25/05/10 21:25:41 WARN DAGScheduler: Broadcasting large task binary with size 1130.9 KiB\n",
      "25/05/10 21:25:41 WARN DAGScheduler: Broadcasting large task binary with size 1130.8 KiB\n",
      "25/05/10 21:25:41 WARN DAGScheduler: Broadcasting large task binary with size 1130.9 KiB\n",
      "25/05/10 21:25:41 WARN DAGScheduler: Broadcasting large task binary with size 1130.8 KiB\n",
      "25/05/10 21:25:41 WARN DAGScheduler: Broadcasting large task binary with size 1130.9 KiB\n",
      "25/05/10 21:25:41 WARN DAGScheduler: Broadcasting large task binary with size 1130.9 KiB\n",
      "25/05/10 21:25:41 WARN DAGScheduler: Broadcasting large task binary with size 1130.8 KiB\n",
      "25/05/10 21:25:42 WARN DAGScheduler: Broadcasting large task binary with size 1130.9 KiB\n",
      "25/05/10 21:25:42 WARN DAGScheduler: Broadcasting large task binary with size 1130.9 KiB\n",
      "25/05/10 21:25:42 WARN DAGScheduler: Broadcasting large task binary with size 1130.8 KiB\n",
      "25/05/10 21:25:42 WARN DAGScheduler: Broadcasting large task binary with size 1130.8 KiB\n",
      "25/05/10 21:25:42 WARN DAGScheduler: Broadcasting large task binary with size 1130.8 KiB\n",
      "25/05/10 21:25:42 WARN DAGScheduler: Broadcasting large task binary with size 1130.8 KiB\n",
      "25/05/10 21:25:42 WARN DAGScheduler: Broadcasting large task binary with size 1130.8 KiB\n",
      "25/05/10 21:25:42 WARN DAGScheduler: Broadcasting large task binary with size 1130.9 KiB\n",
      "25/05/10 21:25:42 WARN DAGScheduler: Broadcasting large task binary with size 1130.8 KiB\n",
      "25/05/10 21:25:42 WARN DAGScheduler: Broadcasting large task binary with size 1130.9 KiB\n",
      "25/05/10 21:25:42 WARN DAGScheduler: Broadcasting large task binary with size 1130.9 KiB\n",
      "25/05/10 21:25:42 WARN DAGScheduler: Broadcasting large task binary with size 1130.9 KiB\n",
      "25/05/10 21:25:42 WARN DAGScheduler: Broadcasting large task binary with size 1130.8 KiB\n",
      "25/05/10 21:25:42 WARN DAGScheduler: Broadcasting large task binary with size 1130.8 KiB\n",
      "25/05/10 21:25:42 WARN DAGScheduler: Broadcasting large task binary with size 1130.9 KiB\n",
      "25/05/10 21:25:42 WARN DAGScheduler: Broadcasting large task binary with size 1130.8 KiB\n",
      "25/05/10 21:25:42 WARN DAGScheduler: Broadcasting large task binary with size 1130.9 KiB\n",
      "25/05/10 21:25:42 WARN DAGScheduler: Broadcasting large task binary with size 1130.9 KiB\n",
      "25/05/10 21:25:42 WARN DAGScheduler: Broadcasting large task binary with size 1130.8 KiB\n",
      "25/05/10 21:25:42 WARN DAGScheduler: Broadcasting large task binary with size 1130.9 KiB\n",
      "25/05/10 21:25:42 WARN DAGScheduler: Broadcasting large task binary with size 1130.8 KiB\n",
      "25/05/10 21:25:42 WARN DAGScheduler: Broadcasting large task binary with size 1130.8 KiB\n",
      "25/05/10 21:25:42 WARN DAGScheduler: Broadcasting large task binary with size 1130.9 KiB\n",
      "25/05/10 21:25:42 WARN DAGScheduler: Broadcasting large task binary with size 1130.8 KiB\n",
      "25/05/10 21:25:42 WARN DAGScheduler: Broadcasting large task binary with size 1130.9 KiB\n",
      "25/05/10 21:25:43 WARN DAGScheduler: Broadcasting large task binary with size 1130.9 KiB\n",
      "25/05/10 21:25:43 WARN DAGScheduler: Broadcasting large task binary with size 1130.8 KiB\n",
      "25/05/10 21:25:43 WARN DAGScheduler: Broadcasting large task binary with size 1129.6 KiB\n",
      "25/05/10 21:25:43 WARN DAGScheduler: Broadcasting large task binary with size 1130.9 KiB\n",
      "25/05/10 21:25:43 WARN DAGScheduler: Broadcasting large task binary with size 1130.8 KiB\n",
      "25/05/10 21:25:43 WARN DAGScheduler: Broadcasting large task binary with size 1130.8 KiB\n",
      "25/05/10 21:25:43 WARN DAGScheduler: Broadcasting large task binary with size 1130.9 KiB\n",
      "25/05/10 21:25:43 WARN DAGScheduler: Broadcasting large task binary with size 1130.8 KiB\n",
      "25/05/10 21:25:43 WARN DAGScheduler: Broadcasting large task binary with size 1130.9 KiB\n",
      "25/05/10 21:25:43 WARN DAGScheduler: Broadcasting large task binary with size 1130.9 KiB\n",
      "25/05/10 21:25:43 WARN DAGScheduler: Broadcasting large task binary with size 1130.8 KiB\n"
     ]
    },
    {
     "name": "stderr",
     "output_type": "stream",
     "text": [
      "                                                                                "
     ]
    },
    {
     "name": "stdout",
     "output_type": "stream",
     "text": [
      "25/05/10 21:25:47 WARN DAGScheduler: Broadcasting large task binary with size 1130.8 KiB\n",
      "25/05/10 21:25:47 WARN DAGScheduler: Broadcasting large task binary with size 1130.9 KiB\n",
      "25/05/10 21:25:47 WARN DAGScheduler: Broadcasting large task binary with size 1130.9 KiB\n",
      "25/05/10 21:25:48 WARN DAGScheduler: Broadcasting large task binary with size 1130.8 KiB\n",
      "25/05/10 21:25:48 WARN DAGScheduler: Broadcasting large task binary with size 1130.8 KiB\n",
      "25/05/10 21:25:48 WARN DAGScheduler: Broadcasting large task binary with size 1130.8 KiB\n",
      "25/05/10 21:25:48 WARN DAGScheduler: Broadcasting large task binary with size 1130.9 KiB\n",
      "25/05/10 21:25:48 WARN DAGScheduler: Broadcasting large task binary with size 1130.9 KiB\n",
      "25/05/10 21:25:48 WARN DAGScheduler: Broadcasting large task binary with size 1130.8 KiB\n"
     ]
    },
    {
     "name": "stderr",
     "output_type": "stream",
     "text": [
      "                                                                                "
     ]
    },
    {
     "name": "stdout",
     "output_type": "stream",
     "text": [
      "25/05/10 21:25:52 WARN DAGScheduler: Broadcasting large task binary with size 1130.8 KiB\n",
      "25/05/10 21:25:52 WARN DAGScheduler: Broadcasting large task binary with size 1130.9 KiB\n",
      "25/05/10 21:25:52 WARN DAGScheduler: Broadcasting large task binary with size 1130.9 KiB\n",
      "25/05/10 21:25:52 WARN DAGScheduler: Broadcasting large task binary with size 1130.8 KiB\n",
      "25/05/10 21:25:52 WARN DAGScheduler: Broadcasting large task binary with size 1130.8 KiB\n",
      "25/05/10 21:25:52 WARN DAGScheduler: Broadcasting large task binary with size 1130.9 KiB\n",
      "25/05/10 21:25:53 WARN DAGScheduler: Broadcasting large task binary with size 1130.8 KiB\n",
      "25/05/10 21:25:53 WARN DAGScheduler: Broadcasting large task binary with size 1130.9 KiB\n",
      "25/05/10 21:25:53 WARN DAGScheduler: Broadcasting large task binary with size 1130.8 KiB\n",
      "25/05/10 21:25:53 WARN DAGScheduler: Broadcasting large task binary with size 1130.8 KiB\n",
      "25/05/10 21:25:53 WARN DAGScheduler: Broadcasting large task binary with size 1130.9 KiB\n",
      "25/05/10 21:25:53 WARN DAGScheduler: Broadcasting large task binary with size 1130.8 KiB\n",
      "25/05/10 21:25:53 WARN DAGScheduler: Broadcasting large task binary with size 1130.8 KiB\n",
      "25/05/10 21:25:53 WARN DAGScheduler: Broadcasting large task binary with size 1130.9 KiB\n",
      "25/05/10 21:25:53 WARN DAGScheduler: Broadcasting large task binary with size 1130.9 KiB\n",
      "25/05/10 21:25:53 WARN DAGScheduler: Broadcasting large task binary with size 1130.8 KiB\n",
      "25/05/10 21:25:53 WARN DAGScheduler: Broadcasting large task binary with size 1130.9 KiB\n",
      "25/05/10 21:25:53 WARN DAGScheduler: Broadcasting large task binary with size 1130.8 KiB\n",
      "25/05/10 21:25:53 WARN DAGScheduler: Broadcasting large task binary with size 1130.8 KiB\n",
      "25/05/10 21:25:53 WARN DAGScheduler: Broadcasting large task binary with size 1130.8 KiB\n",
      "25/05/10 21:25:53 WARN DAGScheduler: Broadcasting large task binary with size 1130.8 KiB\n",
      "25/05/10 21:25:53 WARN DAGScheduler: Broadcasting large task binary with size 1130.9 KiB\n",
      "25/05/10 21:25:53 WARN DAGScheduler: Broadcasting large task binary with size 1130.9 KiB\n",
      "25/05/10 21:25:53 WARN DAGScheduler: Broadcasting large task binary with size 1130.8 KiB\n",
      "25/05/10 21:25:53 WARN DAGScheduler: Broadcasting large task binary with size 1130.9 KiB\n",
      "25/05/10 21:25:53 WARN DAGScheduler: Broadcasting large task binary with size 1130.8 KiB\n",
      "25/05/10 21:25:53 WARN DAGScheduler: Broadcasting large task binary with size 1130.8 KiB\n",
      "25/05/10 21:25:53 WARN DAGScheduler: Broadcasting large task binary with size 1130.8 KiB\n",
      "25/05/10 21:25:53 WARN DAGScheduler: Broadcasting large task binary with size 1130.8 KiB\n",
      "25/05/10 21:25:53 WARN DAGScheduler: Broadcasting large task binary with size 1130.9 KiB\n",
      "25/05/10 21:25:54 WARN DAGScheduler: Broadcasting large task binary with size 1129.7 KiB\n",
      "25/05/10 21:25:54 WARN DAGScheduler: Broadcasting large task binary with size 1130.8 KiB\n",
      "25/05/10 21:25:54 WARN DAGScheduler: Broadcasting large task binary with size 1130.9 KiB\n",
      "25/05/10 21:25:54 WARN DAGScheduler: Broadcasting large task binary with size 1130.9 KiB\n",
      "25/05/10 21:25:54 WARN DAGScheduler: Broadcasting large task binary with size 1130.8 KiB\n",
      "25/05/10 21:25:54 WARN DAGScheduler: Broadcasting large task binary with size 1130.8 KiB\n",
      "25/05/10 21:25:54 WARN DAGScheduler: Broadcasting large task binary with size 1130.8 KiB\n",
      "25/05/10 21:25:54 WARN DAGScheduler: Broadcasting large task binary with size 1130.8 KiB\n",
      "25/05/10 21:25:54 WARN DAGScheduler: Broadcasting large task binary with size 1130.9 KiB\n"
     ]
    },
    {
     "name": "stderr",
     "output_type": "stream",
     "text": [
      "                                                                                "
     ]
    },
    {
     "name": "stdout",
     "output_type": "stream",
     "text": [
      "25/05/10 21:25:58 WARN DAGScheduler: Broadcasting large task binary with size 1130.9 KiB\n",
      "25/05/10 21:25:58 WARN DAGScheduler: Broadcasting large task binary with size 1130.8 KiB\n",
      "25/05/10 21:25:58 WARN DAGScheduler: Broadcasting large task binary with size 1130.8 KiB\n",
      "25/05/10 21:25:58 WARN DAGScheduler: Broadcasting large task binary with size 1130.9 KiB\n",
      "25/05/10 21:25:58 WARN DAGScheduler: Broadcasting large task binary with size 1130.9 KiB\n",
      "25/05/10 21:25:58 WARN DAGScheduler: Broadcasting large task binary with size 1130.8 KiB\n",
      "25/05/10 21:25:58 WARN DAGScheduler: Broadcasting large task binary with size 1130.8 KiB\n",
      "25/05/10 21:25:58 WARN DAGScheduler: Broadcasting large task binary with size 1130.9 KiB\n",
      "25/05/10 21:25:59 WARN DAGScheduler: Broadcasting large task binary with size 1130.8 KiB\n"
     ]
    },
    {
     "name": "stderr",
     "output_type": "stream",
     "text": [
      "                                                                                "
     ]
    },
    {
     "name": "stdout",
     "output_type": "stream",
     "text": [
      "25/05/10 21:26:03 WARN DAGScheduler: Broadcasting large task binary with size 1130.9 KiB\n",
      "25/05/10 21:26:03 WARN DAGScheduler: Broadcasting large task binary with size 1130.8 KiB\n",
      "25/05/10 21:26:03 WARN DAGScheduler: Broadcasting large task binary with size 1130.8 KiB\n",
      "25/05/10 21:26:03 WARN DAGScheduler: Broadcasting large task binary with size 1130.9 KiB\n",
      "25/05/10 21:26:03 WARN DAGScheduler: Broadcasting large task binary with size 1130.9 KiB\n",
      "25/05/10 21:26:03 WARN DAGScheduler: Broadcasting large task binary with size 1130.8 KiB\n",
      "25/05/10 21:26:03 WARN DAGScheduler: Broadcasting large task binary with size 1130.9 KiB\n",
      "25/05/10 21:26:03 WARN DAGScheduler: Broadcasting large task binary with size 1130.8 KiB\n",
      "25/05/10 21:26:03 WARN DAGScheduler: Broadcasting large task binary with size 1130.8 KiB\n",
      "25/05/10 21:26:03 WARN DAGScheduler: Broadcasting large task binary with size 1130.9 KiB\n",
      "25/05/10 21:26:04 WARN DAGScheduler: Broadcasting large task binary with size 1130.9 KiB\n",
      "25/05/10 21:26:04 WARN DAGScheduler: Broadcasting large task binary with size 1130.9 KiB\n",
      "25/05/10 21:26:04 WARN DAGScheduler: Broadcasting large task binary with size 1130.8 KiB\n",
      "25/05/10 21:26:04 WARN DAGScheduler: Broadcasting large task binary with size 1130.9 KiB\n",
      "25/05/10 21:26:04 WARN DAGScheduler: Broadcasting large task binary with size 1130.8 KiB\n",
      "25/05/10 21:26:04 WARN DAGScheduler: Broadcasting large task binary with size 1130.8 KiB\n",
      "25/05/10 21:26:04 WARN DAGScheduler: Broadcasting large task binary with size 1130.9 KiB\n",
      "25/05/10 21:26:04 WARN DAGScheduler: Broadcasting large task binary with size 1130.9 KiB\n",
      "25/05/10 21:26:04 WARN DAGScheduler: Broadcasting large task binary with size 1130.8 KiB\n",
      "25/05/10 21:26:04 WARN DAGScheduler: Broadcasting large task binary with size 1130.9 KiB\n",
      "25/05/10 21:26:04 WARN DAGScheduler: Broadcasting large task binary with size 1130.8 KiB\n",
      "25/05/10 21:26:04 WARN DAGScheduler: Broadcasting large task binary with size 1130.9 KiB\n",
      "25/05/10 21:26:04 WARN DAGScheduler: Broadcasting large task binary with size 1129.6 KiB\n",
      "25/05/10 21:26:04 WARN DAGScheduler: Broadcasting large task binary with size 1130.8 KiB\n",
      "25/05/10 21:26:04 WARN DAGScheduler: Broadcasting large task binary with size 1130.9 KiB\n",
      "25/05/10 21:26:04 WARN DAGScheduler: Broadcasting large task binary with size 1130.9 KiB\n",
      "25/05/10 21:26:04 WARN DAGScheduler: Broadcasting large task binary with size 1130.9 KiB\n",
      "25/05/10 21:26:04 WARN DAGScheduler: Broadcasting large task binary with size 1130.8 KiB\n",
      "25/05/10 21:26:04 WARN DAGScheduler: Broadcasting large task binary with size 1130.8 KiB\n",
      "25/05/10 21:26:04 WARN DAGScheduler: Broadcasting large task binary with size 1130.8 KiB\n",
      "25/05/10 21:26:05 WARN DAGScheduler: Broadcasting large task binary with size 1130.9 KiB\n"
     ]
    },
    {
     "name": "stderr",
     "output_type": "stream",
     "text": [
      "                                                                                "
     ]
    },
    {
     "name": "stdout",
     "output_type": "stream",
     "text": [
      "25/05/10 21:26:09 WARN DAGScheduler: Broadcasting large task binary with size 1130.8 KiB\n",
      "25/05/10 21:26:09 WARN DAGScheduler: Broadcasting large task binary with size 1130.8 KiB\n",
      "25/05/10 21:26:09 WARN DAGScheduler: Broadcasting large task binary with size 1130.9 KiB\n",
      "25/05/10 21:26:09 WARN DAGScheduler: Broadcasting large task binary with size 1130.9 KiB\n",
      "25/05/10 21:26:09 WARN DAGScheduler: Broadcasting large task binary with size 1130.9 KiB\n",
      "25/05/10 21:26:09 WARN DAGScheduler: Broadcasting large task binary with size 1130.8 KiB\n",
      "25/05/10 21:26:09 WARN DAGScheduler: Broadcasting large task binary with size 1130.8 KiB\n",
      "25/05/10 21:26:09 WARN DAGScheduler: Broadcasting large task binary with size 1130.8 KiB\n",
      "25/05/10 21:26:09 WARN DAGScheduler: Broadcasting large task binary with size 1130.9 KiB\n"
     ]
    },
    {
     "name": "stderr",
     "output_type": "stream",
     "text": [
      "                                                                                "
     ]
    },
    {
     "name": "stdout",
     "output_type": "stream",
     "text": [
      "25/05/10 21:26:14 WARN DAGScheduler: Broadcasting large task binary with size 1130.8 KiB\n",
      "25/05/10 21:26:14 WARN DAGScheduler: Broadcasting large task binary with size 1130.9 KiB\n",
      "25/05/10 21:26:14 WARN DAGScheduler: Broadcasting large task binary with size 1130.8 KiB\n",
      "25/05/10 21:26:14 WARN DAGScheduler: Broadcasting large task binary with size 1130.9 KiB\n",
      "25/05/10 21:26:14 WARN DAGScheduler: Broadcasting large task binary with size 1130.8 KiB\n",
      "25/05/10 21:26:14 WARN DAGScheduler: Broadcasting large task binary with size 1130.9 KiB\n",
      "25/05/10 21:26:14 WARN DAGScheduler: Broadcasting large task binary with size 1130.8 KiB\n",
      "25/05/10 21:26:14 WARN DAGScheduler: Broadcasting large task binary with size 1130.8 KiB\n",
      "25/05/10 21:26:14 WARN DAGScheduler: Broadcasting large task binary with size 1130.8 KiB\n",
      "25/05/10 21:26:14 WARN DAGScheduler: Broadcasting large task binary with size 1130.9 KiB\n",
      "25/05/10 21:26:14 WARN DAGScheduler: Broadcasting large task binary with size 1130.9 KiB\n",
      "25/05/10 21:26:14 WARN DAGScheduler: Broadcasting large task binary with size 1130.8 KiB\n",
      "25/05/10 21:26:14 WARN DAGScheduler: Broadcasting large task binary with size 1130.9 KiB\n",
      "25/05/10 21:26:14 WARN DAGScheduler: Broadcasting large task binary with size 1130.8 KiB\n",
      "25/05/10 21:26:14 WARN DAGScheduler: Broadcasting large task binary with size 1130.8 KiB\n",
      "25/05/10 21:26:15 WARN DAGScheduler: Broadcasting large task binary with size 1130.8 KiB\n",
      "25/05/10 21:26:15 WARN DAGScheduler: Broadcasting large task binary with size 1130.8 KiB\n",
      "25/05/10 21:26:15 WARN DAGScheduler: Broadcasting large task binary with size 1130.8 KiB\n",
      "25/05/10 21:26:15 WARN DAGScheduler: Broadcasting large task binary with size 1130.9 KiB\n",
      "25/05/10 21:26:15 WARN DAGScheduler: Broadcasting large task binary with size 1130.9 KiB\n",
      "25/05/10 21:26:15 WARN DAGScheduler: Broadcasting large task binary with size 1130.9 KiB\n",
      "25/05/10 21:26:15 WARN DAGScheduler: Broadcasting large task binary with size 1130.8 KiB\n",
      "25/05/10 21:26:15 WARN DAGScheduler: Broadcasting large task binary with size 1130.8 KiB\n",
      "25/05/10 21:26:15 WARN DAGScheduler: Broadcasting large task binary with size 1130.9 KiB\n",
      "25/05/10 21:26:15 WARN DAGScheduler: Broadcasting large task binary with size 1130.8 KiB\n",
      "25/05/10 21:26:15 WARN DAGScheduler: Broadcasting large task binary with size 1130.8 KiB\n",
      "25/05/10 21:26:15 WARN DAGScheduler: Broadcasting large task binary with size 1130.9 KiB\n",
      "25/05/10 21:26:15 WARN DAGScheduler: Broadcasting large task binary with size 1130.8 KiB\n",
      "25/05/10 21:26:15 WARN DAGScheduler: Broadcasting large task binary with size 1130.9 KiB\n"
     ]
    },
    {
     "name": "stderr",
     "output_type": "stream",
     "text": [
      "                                                                                "
     ]
    },
    {
     "name": "stdout",
     "output_type": "stream",
     "text": [
      "25/05/10 21:26:16 WARN DAGScheduler: Broadcasting large task binary with size 1130.9 KiB\n",
      "25/05/10 21:26:16 WARN DAGScheduler: Broadcasting large task binary with size 1130.8 KiB\n",
      "25/05/10 21:26:16 WARN DAGScheduler: Broadcasting large task binary with size 1130.8 KiB\n",
      "25/05/10 21:26:16 WARN DAGScheduler: Broadcasting large task binary with size 1130.9 KiB\n",
      "25/05/10 21:26:16 WARN DAGScheduler: Broadcasting large task binary with size 1130.8 KiB\n",
      "25/05/10 21:26:16 WARN DAGScheduler: Broadcasting large task binary with size 1130.8 KiB\n",
      "25/05/10 21:26:16 WARN DAGScheduler: Broadcasting large task binary with size 1130.9 KiB\n",
      "25/05/10 21:26:16 WARN DAGScheduler: Broadcasting large task binary with size 1130.8 KiB\n",
      "25/05/10 21:26:16 WARN DAGScheduler: Broadcasting large task binary with size 1130.9 KiB\n",
      "25/05/10 21:26:16 WARN DAGScheduler: Broadcasting large task binary with size 1130.8 KiB\n",
      "25/05/10 21:26:16 WARN DAGScheduler: Broadcasting large task binary with size 1130.9 KiB\n",
      "25/05/10 21:26:16 WARN DAGScheduler: Broadcasting large task binary with size 1130.8 KiB\n",
      "25/05/10 21:26:16 WARN DAGScheduler: Broadcasting large task binary with size 1130.8 KiB\n",
      "25/05/10 21:26:16 WARN DAGScheduler: Broadcasting large task binary with size 1130.9 KiB\n",
      "25/05/10 21:26:16 WARN DAGScheduler: Broadcasting large task binary with size 1130.8 KiB\n",
      "25/05/10 21:26:16 WARN DAGScheduler: Broadcasting large task binary with size 1130.8 KiB\n",
      "25/05/10 21:26:16 WARN DAGScheduler: Broadcasting large task binary with size 1130.8 KiB\n",
      "25/05/10 21:26:16 WARN DAGScheduler: Broadcasting large task binary with size 1130.9 KiB\n",
      "25/05/10 21:26:16 WARN DAGScheduler: Broadcasting large task binary with size 1130.9 KiB\n",
      "25/05/10 21:26:16 WARN DAGScheduler: Broadcasting large task binary with size 1130.9 KiB\n",
      "25/05/10 21:26:16 WARN DAGScheduler: Broadcasting large task binary with size 1130.8 KiB\n",
      "25/05/10 21:26:16 WARN DAGScheduler: Broadcasting large task binary with size 1130.8 KiB\n",
      "25/05/10 21:26:17 WARN DAGScheduler: Broadcasting large task binary with size 1130.9 KiB\n",
      "25/05/10 21:26:17 WARN DAGScheduler: Broadcasting large task binary with size 1130.8 KiB\n",
      "25/05/10 21:26:17 WARN DAGScheduler: Broadcasting large task binary with size 1130.8 KiB\n",
      "25/05/10 21:26:17 WARN DAGScheduler: Broadcasting large task binary with size 1130.9 KiB\n",
      "25/05/10 21:26:17 WARN DAGScheduler: Broadcasting large task binary with size 1130.8 KiB\n",
      "25/05/10 21:26:17 WARN DAGScheduler: Broadcasting large task binary with size 1130.8 KiB\n",
      "25/05/10 21:26:17 WARN DAGScheduler: Broadcasting large task binary with size 1130.9 KiB\n",
      "25/05/10 21:26:17 WARN DAGScheduler: Broadcasting large task binary with size 1130.9 KiB\n",
      "25/05/10 21:26:17 WARN DAGScheduler: Broadcasting large task binary with size 1130.8 KiB\n",
      "25/05/10 21:26:17 WARN DAGScheduler: Broadcasting large task binary with size 1130.9 KiB\n",
      "25/05/10 21:26:17 WARN DAGScheduler: Broadcasting large task binary with size 1130.8 KiB\n",
      "25/05/10 21:26:17 WARN DAGScheduler: Broadcasting large task binary with size 1129.6 KiB\n",
      "25/05/10 21:26:17 WARN DAGScheduler: Broadcasting large task binary with size 1130.9 KiB\n",
      "25/05/10 21:26:17 WARN DAGScheduler: Broadcasting large task binary with size 1130.8 KiB\n",
      "25/05/10 21:26:17 WARN DAGScheduler: Broadcasting large task binary with size 1130.9 KiB\n",
      "25/05/10 21:26:17 WARN DAGScheduler: Broadcasting large task binary with size 1130.9 KiB\n",
      "25/05/10 21:26:17 WARN DAGScheduler: Broadcasting large task binary with size 1130.8 KiB\n",
      "25/05/10 21:26:17 WARN DAGScheduler: Broadcasting large task binary with size 1130.8 KiB\n",
      "25/05/10 21:26:17 WARN DAGScheduler: Broadcasting large task binary with size 1130.9 KiB\n",
      "25/05/10 21:26:17 WARN DAGScheduler: Broadcasting large task binary with size 1130.8 KiB\n"
     ]
    },
    {
     "name": "stderr",
     "output_type": "stream",
     "text": [
      "                                                                                "
     ]
    },
    {
     "name": "stdout",
     "output_type": "stream",
     "text": [
      "25/05/10 21:26:22 WARN DAGScheduler: Broadcasting large task binary with size 1130.8 KiB\n",
      "25/05/10 21:26:22 WARN DAGScheduler: Broadcasting large task binary with size 1130.9 KiB\n",
      "25/05/10 21:26:22 WARN DAGScheduler: Broadcasting large task binary with size 1130.8 KiB\n",
      "25/05/10 21:26:22 WARN DAGScheduler: Broadcasting large task binary with size 1130.9 KiB\n",
      "25/05/10 21:26:22 WARN DAGScheduler: Broadcasting large task binary with size 1130.9 KiB\n",
      "25/05/10 21:26:22 WARN DAGScheduler: Broadcasting large task binary with size 1130.9 KiB\n",
      "25/05/10 21:26:22 WARN DAGScheduler: Broadcasting large task binary with size 1130.8 KiB\n",
      "25/05/10 21:26:22 WARN DAGScheduler: Broadcasting large task binary with size 1130.8 KiB\n",
      "25/05/10 21:26:22 WARN DAGScheduler: Broadcasting large task binary with size 1130.8 KiB\n"
     ]
    },
    {
     "name": "stderr",
     "output_type": "stream",
     "text": [
      "                                                                                "
     ]
    },
    {
     "name": "stdout",
     "output_type": "stream",
     "text": [
      "25/05/10 21:26:26 WARN DAGScheduler: Broadcasting large task binary with size 1130.8 KiB\n",
      "25/05/10 21:26:26 WARN DAGScheduler: Broadcasting large task binary with size 1130.8 KiB\n",
      "25/05/10 21:26:26 WARN DAGScheduler: Broadcasting large task binary with size 1130.9 KiB\n",
      "25/05/10 21:26:26 WARN DAGScheduler: Broadcasting large task binary with size 1130.9 KiB\n",
      "25/05/10 21:26:27 WARN DAGScheduler: Broadcasting large task binary with size 1130.9 KiB\n",
      "25/05/10 21:26:27 WARN DAGScheduler: Broadcasting large task binary with size 1130.9 KiB\n",
      "25/05/10 21:26:27 WARN DAGScheduler: Broadcasting large task binary with size 1130.8 KiB\n",
      "25/05/10 21:26:27 WARN DAGScheduler: Broadcasting large task binary with size 1130.8 KiB\n",
      "25/05/10 21:26:27 WARN DAGScheduler: Broadcasting large task binary with size 1130.8 KiB\n",
      "25/05/10 21:26:27 WARN DAGScheduler: Broadcasting large task binary with size 1130.8 KiB\n",
      "25/05/10 21:26:27 WARN DAGScheduler: Broadcasting large task binary with size 1130.8 KiB\n",
      "25/05/10 21:26:27 WARN DAGScheduler: Broadcasting large task binary with size 1130.9 KiB\n",
      "25/05/10 21:26:27 WARN DAGScheduler: Broadcasting large task binary with size 1130.9 KiB\n",
      "25/05/10 21:26:27 WARN DAGScheduler: Broadcasting large task binary with size 1130.9 KiB\n",
      "25/05/10 21:26:27 WARN DAGScheduler: Broadcasting large task binary with size 1130.9 KiB\n",
      "25/05/10 21:26:27 WARN DAGScheduler: Broadcasting large task binary with size 1130.8 KiB\n",
      "25/05/10 21:26:27 WARN DAGScheduler: Broadcasting large task binary with size 1130.8 KiB\n",
      "25/05/10 21:26:27 WARN DAGScheduler: Broadcasting large task binary with size 1130.9 KiB\n",
      "25/05/10 21:26:27 WARN DAGScheduler: Broadcasting large task binary with size 1130.8 KiB\n",
      "25/05/10 21:26:27 WARN DAGScheduler: Broadcasting large task binary with size 1130.8 KiB\n",
      "25/05/10 21:26:27 WARN DAGScheduler: Broadcasting large task binary with size 1130.8 KiB\n",
      "25/05/10 21:26:27 WARN DAGScheduler: Broadcasting large task binary with size 1130.9 KiB\n",
      "25/05/10 21:26:27 WARN DAGScheduler: Broadcasting large task binary with size 1130.9 KiB\n",
      "25/05/10 21:26:27 WARN DAGScheduler: Broadcasting large task binary with size 1130.9 KiB\n",
      "25/05/10 21:26:27 WARN DAGScheduler: Broadcasting large task binary with size 1130.8 KiB\n",
      "25/05/10 21:26:27 WARN DAGScheduler: Broadcasting large task binary with size 1130.8 KiB\n",
      "25/05/10 21:26:28 WARN DAGScheduler: Broadcasting large task binary with size 1130.9 KiB\n",
      "25/05/10 21:26:28 WARN DAGScheduler: Broadcasting large task binary with size 1130.8 KiB\n",
      "25/05/10 21:26:28 WARN DAGScheduler: Broadcasting large task binary with size 1130.9 KiB\n",
      "25/05/10 21:26:28 WARN DAGScheduler: Broadcasting large task binary with size 1130.8 KiB\n",
      "25/05/10 21:26:28 WARN DAGScheduler: Broadcasting large task binary with size 1130.9 KiB\n",
      "25/05/10 21:26:28 WARN DAGScheduler: Broadcasting large task binary with size 1130.8 KiB\n",
      "25/05/10 21:26:28 WARN DAGScheduler: Broadcasting large task binary with size 1130.9 KiB\n",
      "25/05/10 21:26:28 WARN DAGScheduler: Broadcasting large task binary with size 1130.8 KiB\n",
      "25/05/10 21:26:28 WARN DAGScheduler: Broadcasting large task binary with size 1130.8 KiB\n",
      "25/05/10 21:26:28 WARN DAGScheduler: Broadcasting large task binary with size 1130.9 KiB\n",
      "25/05/10 21:26:28 WARN DAGScheduler: Broadcasting large task binary with size 1130.8 KiB\n",
      "25/05/10 21:26:28 WARN DAGScheduler: Broadcasting large task binary with size 1130.9 KiB\n",
      "25/05/10 21:26:28 WARN DAGScheduler: Broadcasting large task binary with size 1130.9 KiB\n",
      "25/05/10 21:26:28 WARN DAGScheduler: Broadcasting large task binary with size 1130.8 KiB\n",
      "25/05/10 21:26:28 WARN DAGScheduler: Broadcasting large task binary with size 1130.9 KiB\n",
      "25/05/10 21:26:28 WARN DAGScheduler: Broadcasting large task binary with size 1130.8 KiB\n",
      "25/05/10 21:26:28 WARN DAGScheduler: Broadcasting large task binary with size 1130.8 KiB\n",
      "25/05/10 21:26:28 WARN DAGScheduler: Broadcasting large task binary with size 1130.8 KiB\n",
      "25/05/10 21:26:28 WARN DAGScheduler: Broadcasting large task binary with size 1130.9 KiB\n",
      "25/05/10 21:26:28 WARN DAGScheduler: Broadcasting large task binary with size 1130.8 KiB\n",
      "25/05/10 21:26:28 WARN DAGScheduler: Broadcasting large task binary with size 1130.8 KiB\n",
      "25/05/10 21:26:28 WARN DAGScheduler: Broadcasting large task binary with size 1130.9 KiB\n",
      "25/05/10 21:26:28 WARN DAGScheduler: Broadcasting large task binary with size 1130.9 KiB\n",
      "25/05/10 21:26:29 WARN DAGScheduler: Broadcasting large task binary with size 1130.9 KiB\n",
      "25/05/10 21:26:29 WARN DAGScheduler: Broadcasting large task binary with size 1130.8 KiB\n",
      "25/05/10 21:26:29 WARN DAGScheduler: Broadcasting large task binary with size 1130.8 KiB\n",
      "25/05/10 21:26:29 WARN DAGScheduler: Broadcasting large task binary with size 1130.9 KiB\n",
      "25/05/10 21:26:29 WARN DAGScheduler: Broadcasting large task binary with size 1130.9 KiB\n",
      "25/05/10 21:26:29 WARN DAGScheduler: Broadcasting large task binary with size 1130.8 KiB\n",
      "25/05/10 21:26:29 WARN DAGScheduler: Broadcasting large task binary with size 1130.8 KiB\n",
      "25/05/10 21:26:29 WARN DAGScheduler: Broadcasting large task binary with size 1130.8 KiB\n",
      "25/05/10 21:26:29 WARN DAGScheduler: Broadcasting large task binary with size 1130.9 KiB\n",
      "25/05/10 21:26:29 WARN DAGScheduler: Broadcasting large task binary with size 1130.8 KiB\n",
      "25/05/10 21:26:29 WARN DAGScheduler: Broadcasting large task binary with size 1130.9 KiB\n",
      "25/05/10 21:26:29 WARN DAGScheduler: Broadcasting large task binary with size 1130.8 KiB\n",
      "25/05/10 21:26:29 WARN DAGScheduler: Broadcasting large task binary with size 1130.8 KiB\n",
      "25/05/10 21:26:29 WARN DAGScheduler: Broadcasting large task binary with size 1130.9 KiB\n",
      "25/05/10 21:26:29 WARN DAGScheduler: Broadcasting large task binary with size 1130.9 KiB\n",
      "25/05/10 21:26:29 WARN DAGScheduler: Broadcasting large task binary with size 1130.8 KiB\n",
      "25/05/10 21:26:29 WARN DAGScheduler: Broadcasting large task binary with size 1130.8 KiB\n",
      "25/05/10 21:26:29 WARN DAGScheduler: Broadcasting large task binary with size 1130.8 KiB\n",
      "25/05/10 21:26:29 WARN DAGScheduler: Broadcasting large task binary with size 1130.9 KiB\n",
      "25/05/10 21:26:29 WARN DAGScheduler: Broadcasting large task binary with size 1130.9 KiB\n",
      "25/05/10 21:26:29 WARN DAGScheduler: Broadcasting large task binary with size 1130.8 KiB\n",
      "25/05/10 21:26:29 WARN DAGScheduler: Broadcasting large task binary with size 1130.8 KiB\n",
      "25/05/10 21:26:30 WARN DAGScheduler: Broadcasting large task binary with size 1130.9 KiB\n",
      "25/05/10 21:26:30 WARN DAGScheduler: Broadcasting large task binary with size 1130.9 KiB\n",
      "25/05/10 21:26:30 WARN DAGScheduler: Broadcasting large task binary with size 1130.8 KiB\n",
      "25/05/10 21:26:30 WARN DAGScheduler: Broadcasting large task binary with size 1130.8 KiB\n",
      "25/05/10 21:26:30 WARN DAGScheduler: Broadcasting large task binary with size 1130.8 KiB\n",
      "25/05/10 21:26:30 WARN DAGScheduler: Broadcasting large task binary with size 1130.9 KiB\n",
      "25/05/10 21:26:30 WARN DAGScheduler: Broadcasting large task binary with size 1130.8 KiB\n",
      "25/05/10 21:26:30 WARN DAGScheduler: Broadcasting large task binary with size 1130.8 KiB\n",
      "25/05/10 21:26:30 WARN DAGScheduler: Broadcasting large task binary with size 1130.9 KiB\n",
      "25/05/10 21:26:30 WARN DAGScheduler: Broadcasting large task binary with size 1130.9 KiB\n",
      "25/05/10 21:26:30 WARN DAGScheduler: Broadcasting large task binary with size 1130.9 KiB\n",
      "25/05/10 21:26:30 WARN DAGScheduler: Broadcasting large task binary with size 1130.8 KiB\n",
      "25/05/10 21:26:30 WARN DAGScheduler: Broadcasting large task binary with size 1130.8 KiB\n",
      "25/05/10 21:26:30 WARN DAGScheduler: Broadcasting large task binary with size 1130.8 KiB\n",
      "25/05/10 21:26:30 WARN DAGScheduler: Broadcasting large task binary with size 1130.8 KiB\n",
      "25/05/10 21:26:30 WARN DAGScheduler: Broadcasting large task binary with size 1130.9 KiB\n",
      "25/05/10 21:26:30 WARN DAGScheduler: Broadcasting large task binary with size 1130.8 KiB\n",
      "25/05/10 21:26:30 WARN DAGScheduler: Broadcasting large task binary with size 1130.9 KiB\n",
      "25/05/10 21:26:30 WARN DAGScheduler: Broadcasting large task binary with size 1130.9 KiB\n",
      "25/05/10 21:26:30 WARN DAGScheduler: Broadcasting large task binary with size 1130.8 KiB\n",
      "25/05/10 21:26:30 WARN DAGScheduler: Broadcasting large task binary with size 1130.8 KiB\n",
      "25/05/10 21:26:30 WARN DAGScheduler: Broadcasting large task binary with size 1130.8 KiB\n",
      "25/05/10 21:26:30 WARN DAGScheduler: Broadcasting large task binary with size 1130.8 KiB\n",
      "25/05/10 21:26:30 WARN DAGScheduler: Broadcasting large task binary with size 1130.8 KiB\n",
      "25/05/10 21:26:30 WARN DAGScheduler: Broadcasting large task binary with size 1130.9 KiB\n",
      "25/05/10 21:26:30 WARN DAGScheduler: Broadcasting large task binary with size 1130.9 KiB\n",
      "25/05/10 21:26:30 WARN DAGScheduler: Broadcasting large task binary with size 1130.9 KiB\n",
      "25/05/10 21:26:30 WARN DAGScheduler: Broadcasting large task binary with size 1130.8 KiB\n",
      "25/05/10 21:26:30 WARN DAGScheduler: Broadcasting large task binary with size 1130.8 KiB\n",
      "25/05/10 21:26:31 WARN DAGScheduler: Broadcasting large task binary with size 1129.7 KiB\n",
      "25/05/10 21:26:31 WARN DAGScheduler: Broadcasting large task binary with size 1130.8 KiB\n",
      "25/05/10 21:26:31 WARN DAGScheduler: Broadcasting large task binary with size 1130.8 KiB\n",
      "25/05/10 21:26:31 WARN DAGScheduler: Broadcasting large task binary with size 1130.8 KiB\n",
      "25/05/10 21:26:31 WARN DAGScheduler: Broadcasting large task binary with size 1130.9 KiB\n",
      "25/05/10 21:26:31 WARN DAGScheduler: Broadcasting large task binary with size 1130.9 KiB\n",
      "25/05/10 21:26:31 WARN DAGScheduler: Broadcasting large task binary with size 1130.9 KiB\n",
      "25/05/10 21:26:31 WARN DAGScheduler: Broadcasting large task binary with size 1130.8 KiB\n",
      "25/05/10 21:26:31 WARN DAGScheduler: Broadcasting large task binary with size 1130.8 KiB\n"
     ]
    },
    {
     "name": "stderr",
     "output_type": "stream",
     "text": [
      "                                                                                "
     ]
    },
    {
     "name": "stdout",
     "output_type": "stream",
     "text": [
      "25/05/10 21:26:35 WARN DAGScheduler: Broadcasting large task binary with size 1130.9 KiB\n",
      "25/05/10 21:26:36 WARN DAGScheduler: Broadcasting large task binary with size 1130.8 KiB\n",
      "25/05/10 21:26:36 WARN DAGScheduler: Broadcasting large task binary with size 1130.8 KiB\n",
      "25/05/10 21:26:36 WARN DAGScheduler: Broadcasting large task binary with size 1130.9 KiB\n",
      "25/05/10 21:26:36 WARN DAGScheduler: Broadcasting large task binary with size 1130.8 KiB\n",
      "25/05/10 21:26:36 WARN DAGScheduler: Broadcasting large task binary with size 1130.9 KiB\n",
      "25/05/10 21:26:36 WARN DAGScheduler: Broadcasting large task binary with size 1130.9 KiB\n",
      "25/05/10 21:26:36 WARN DAGScheduler: Broadcasting large task binary with size 1130.8 KiB\n",
      "25/05/10 21:26:36 WARN DAGScheduler: Broadcasting large task binary with size 1130.8 KiB\n"
     ]
    },
    {
     "name": "stderr",
     "output_type": "stream",
     "text": [
      "                                                                                "
     ]
    },
    {
     "name": "stdout",
     "output_type": "stream",
     "text": [
      "25/05/10 21:26:40 WARN DAGScheduler: Broadcasting large task binary with size 1130.9 KiB\n",
      "25/05/10 21:26:40 WARN DAGScheduler: Broadcasting large task binary with size 1130.8 KiB\n",
      "25/05/10 21:26:40 WARN DAGScheduler: Broadcasting large task binary with size 1130.9 KiB\n",
      "25/05/10 21:26:40 WARN DAGScheduler: Broadcasting large task binary with size 1130.9 KiB\n",
      "25/05/10 21:26:41 WARN DAGScheduler: Broadcasting large task binary with size 1130.9 KiB\n",
      "25/05/10 21:26:41 WARN DAGScheduler: Broadcasting large task binary with size 1130.9 KiB\n",
      "25/05/10 21:26:41 WARN DAGScheduler: Broadcasting large task binary with size 1130.8 KiB\n",
      "25/05/10 21:26:41 WARN DAGScheduler: Broadcasting large task binary with size 1130.8 KiB\n",
      "25/05/10 21:26:41 WARN DAGScheduler: Broadcasting large task binary with size 1130.8 KiB\n",
      "25/05/10 21:26:41 WARN DAGScheduler: Broadcasting large task binary with size 1130.9 KiB\n",
      "25/05/10 21:26:41 WARN DAGScheduler: Broadcasting large task binary with size 1130.9 KiB\n",
      "25/05/10 21:26:41 WARN DAGScheduler: Broadcasting large task binary with size 1130.9 KiB\n",
      "25/05/10 21:26:41 WARN DAGScheduler: Broadcasting large task binary with size 1129.6 KiB\n",
      "25/05/10 21:26:41 WARN DAGScheduler: Broadcasting large task binary with size 1129.6 KiB\n",
      "25/05/10 21:26:41 WARN DAGScheduler: Broadcasting large task binary with size 1130.8 KiB\n",
      "25/05/10 21:26:41 WARN DAGScheduler: Broadcasting large task binary with size 1130.9 KiB\n",
      "25/05/10 21:26:41 WARN DAGScheduler: Broadcasting large task binary with size 1130.8 KiB\n",
      "25/05/10 21:26:41 WARN DAGScheduler: Broadcasting large task binary with size 1130.8 KiB\n",
      "25/05/10 21:26:41 WARN DAGScheduler: Broadcasting large task binary with size 1130.9 KiB\n",
      "25/05/10 21:26:41 WARN DAGScheduler: Broadcasting large task binary with size 1130.9 KiB\n",
      "25/05/10 21:26:41 WARN DAGScheduler: Broadcasting large task binary with size 1130.9 KiB\n"
     ]
    },
    {
     "name": "stderr",
     "output_type": "stream",
     "text": [
      "                                                                                "
     ]
    },
    {
     "name": "stdout",
     "output_type": "stream",
     "text": [
      "25/05/10 21:26:46 WARN DAGScheduler: Broadcasting large task binary with size 1130.8 KiB\n"
     ]
    },
    {
     "name": "stderr",
     "output_type": "stream",
     "text": [
      "                                                                                "
     ]
    },
    {
     "name": "stdout",
     "output_type": "stream",
     "text": [
      "25/05/10 21:26:50 WARN DAGScheduler: Broadcasting large task binary with size 1130.8 KiB\n",
      "25/05/10 21:26:50 WARN DAGScheduler: Broadcasting large task binary with size 1130.8 KiB\n",
      "25/05/10 21:26:51 WARN DAGScheduler: Broadcasting large task binary with size 1130.8 KiB\n",
      "25/05/10 21:26:51 WARN DAGScheduler: Broadcasting large task binary with size 1130.9 KiB\n",
      "25/05/10 21:26:51 WARN DAGScheduler: Broadcasting large task binary with size 1130.8 KiB\n",
      "25/05/10 21:26:51 WARN DAGScheduler: Broadcasting large task binary with size 1130.9 KiB\n",
      "25/05/10 21:26:51 WARN DAGScheduler: Broadcasting large task binary with size 1130.9 KiB\n",
      "25/05/10 21:26:51 WARN DAGScheduler: Broadcasting large task binary with size 1130.9 KiB\n"
     ]
    },
    {
     "name": "stderr",
     "output_type": "stream",
     "text": [
      "                                                                                "
     ]
    },
    {
     "name": "stdout",
     "output_type": "stream",
     "text": [
      "25/05/10 21:26:55 WARN DAGScheduler: Broadcasting large task binary with size 1130.8 KiB\n"
     ]
    },
    {
     "name": "stderr",
     "output_type": "stream",
     "text": [
      "                                                                                "
     ]
    },
    {
     "name": "stdout",
     "output_type": "stream",
     "text": [
      "25/05/10 21:27:00 WARN DAGScheduler: Broadcasting large task binary with size 1130.8 KiB\n",
      "25/05/10 21:27:00 WARN DAGScheduler: Broadcasting large task binary with size 1130.8 KiB\n",
      "25/05/10 21:27:00 WARN DAGScheduler: Broadcasting large task binary with size 1130.8 KiB\n",
      "25/05/10 21:27:00 WARN DAGScheduler: Broadcasting large task binary with size 1130.9 KiB\n",
      "25/05/10 21:27:00 WARN DAGScheduler: Broadcasting large task binary with size 1130.9 KiB\n",
      "25/05/10 21:27:00 WARN DAGScheduler: Broadcasting large task binary with size 1130.8 KiB\n",
      "25/05/10 21:27:00 WARN DAGScheduler: Broadcasting large task binary with size 1130.9 KiB\n",
      "25/05/10 21:27:00 WARN DAGScheduler: Broadcasting large task binary with size 1130.9 KiB\n",
      "25/05/10 21:27:00 WARN DAGScheduler: Broadcasting large task binary with size 1130.8 KiB\n",
      "25/05/10 21:27:00 WARN DAGScheduler: Broadcasting large task binary with size 1130.8 KiB\n",
      "25/05/10 21:27:00 WARN DAGScheduler: Broadcasting large task binary with size 1130.8 KiB\n",
      "25/05/10 21:27:00 WARN DAGScheduler: Broadcasting large task binary with size 1130.9 KiB\n",
      "25/05/10 21:27:00 WARN DAGScheduler: Broadcasting large task binary with size 1130.8 KiB\n",
      "25/05/10 21:27:00 WARN DAGScheduler: Broadcasting large task binary with size 1130.8 KiB\n",
      "25/05/10 21:27:00 WARN DAGScheduler: Broadcasting large task binary with size 1130.9 KiB\n",
      "25/05/10 21:27:01 WARN DAGScheduler: Broadcasting large task binary with size 1130.8 KiB\n",
      "25/05/10 21:27:01 WARN DAGScheduler: Broadcasting large task binary with size 1130.8 KiB\n",
      "25/05/10 21:27:01 WARN DAGScheduler: Broadcasting large task binary with size 1130.8 KiB\n",
      "25/05/10 21:27:01 WARN DAGScheduler: Broadcasting large task binary with size 1130.8 KiB\n",
      "25/05/10 21:27:01 WARN DAGScheduler: Broadcasting large task binary with size 1130.9 KiB\n",
      "25/05/10 21:27:01 WARN DAGScheduler: Broadcasting large task binary with size 1130.8 KiB\n",
      "25/05/10 21:27:01 WARN DAGScheduler: Broadcasting large task binary with size 1129.7 KiB\n",
      "25/05/10 21:27:01 WARN DAGScheduler: Broadcasting large task binary with size 1130.9 KiB\n",
      "25/05/10 21:27:01 WARN DAGScheduler: Broadcasting large task binary with size 1130.8 KiB\n",
      "25/05/10 21:27:01 WARN DAGScheduler: Broadcasting large task binary with size 1130.8 KiB\n",
      "25/05/10 21:27:01 WARN DAGScheduler: Broadcasting large task binary with size 1130.8 KiB\n",
      "25/05/10 21:27:01 WARN DAGScheduler: Broadcasting large task binary with size 1130.8 KiB\n",
      "25/05/10 21:27:01 WARN DAGScheduler: Broadcasting large task binary with size 1130.9 KiB\n",
      "25/05/10 21:27:01 WARN DAGScheduler: Broadcasting large task binary with size 1129.7 KiB\n",
      "25/05/10 21:27:01 WARN DAGScheduler: Broadcasting large task binary with size 1130.8 KiB\n"
     ]
    },
    {
     "name": "stderr",
     "output_type": "stream",
     "text": [
      "                                                                                "
     ]
    },
    {
     "name": "stdout",
     "output_type": "stream",
     "text": [
      "25/05/10 21:27:06 WARN DAGScheduler: Broadcasting large task binary with size 1130.9 KiB\n",
      "25/05/10 21:27:06 WARN DAGScheduler: Broadcasting large task binary with size 1130.8 KiB\n",
      "25/05/10 21:27:06 WARN DAGScheduler: Broadcasting large task binary with size 1130.9 KiB\n",
      "25/05/10 21:27:06 WARN DAGScheduler: Broadcasting large task binary with size 1130.8 KiB\n",
      "25/05/10 21:27:06 WARN DAGScheduler: Broadcasting large task binary with size 1130.8 KiB\n",
      "25/05/10 21:27:06 WARN DAGScheduler: Broadcasting large task binary with size 1130.9 KiB\n",
      "25/05/10 21:27:06 WARN DAGScheduler: Broadcasting large task binary with size 1130.8 KiB\n"
     ]
    },
    {
     "name": "stderr",
     "output_type": "stream",
     "text": [
      "                                                                                "
     ]
    },
    {
     "name": "stdout",
     "output_type": "stream",
     "text": [
      "25/05/10 21:27:10 WARN DAGScheduler: Broadcasting large task binary with size 1130.9 KiB\n",
      "25/05/10 21:27:10 WARN DAGScheduler: Broadcasting large task binary with size 1130.8 KiB\n"
     ]
    },
    {
     "name": "stderr",
     "output_type": "stream",
     "text": [
      "                                                                                "
     ]
    },
    {
     "name": "stdout",
     "output_type": "stream",
     "text": [
      "25/05/10 21:27:15 WARN DAGScheduler: Broadcasting large task binary with size 1130.9 KiB\n",
      "25/05/10 21:27:15 WARN DAGScheduler: Broadcasting large task binary with size 1130.8 KiB\n",
      "25/05/10 21:27:15 WARN DAGScheduler: Broadcasting large task binary with size 1130.9 KiB\n",
      "25/05/10 21:27:15 WARN DAGScheduler: Broadcasting large task binary with size 1130.8 KiB\n",
      "25/05/10 21:27:15 WARN DAGScheduler: Broadcasting large task binary with size 1130.9 KiB\n",
      "25/05/10 21:27:15 WARN DAGScheduler: Broadcasting large task binary with size 1130.8 KiB\n",
      "25/05/10 21:27:15 WARN DAGScheduler: Broadcasting large task binary with size 1130.8 KiB\n"
     ]
    },
    {
     "name": "stderr",
     "output_type": "stream",
     "text": [
      "                                                                                "
     ]
    },
    {
     "name": "stdout",
     "output_type": "stream",
     "text": [
      "25/05/10 21:27:20 WARN DAGScheduler: Broadcasting large task binary with size 1130.9 KiB\n",
      "25/05/10 21:27:20 WARN DAGScheduler: Broadcasting large task binary with size 1130.9 KiB\n",
      "25/05/10 21:27:20 WARN DAGScheduler: Broadcasting large task binary with size 1130.8 KiB\n",
      "25/05/10 21:27:20 WARN DAGScheduler: Broadcasting large task binary with size 1130.8 KiB\n",
      "25/05/10 21:27:20 WARN DAGScheduler: Broadcasting large task binary with size 1130.9 KiB\n",
      "25/05/10 21:27:20 WARN DAGScheduler: Broadcasting large task binary with size 1130.8 KiB\n",
      "25/05/10 21:27:20 WARN DAGScheduler: Broadcasting large task binary with size 1130.8 KiB\n",
      "25/05/10 21:27:20 WARN DAGScheduler: Broadcasting large task binary with size 1130.9 KiB\n",
      "25/05/10 21:27:20 WARN DAGScheduler: Broadcasting large task binary with size 1130.8 KiB\n",
      "25/05/10 21:27:20 WARN DAGScheduler: Broadcasting large task binary with size 1130.8 KiB\n",
      "25/05/10 21:27:20 WARN DAGScheduler: Broadcasting large task binary with size 1130.9 KiB\n",
      "25/05/10 21:27:20 WARN DAGScheduler: Broadcasting large task binary with size 1130.9 KiB\n",
      "25/05/10 21:27:21 WARN DAGScheduler: Broadcasting large task binary with size 1130.8 KiB\n",
      "25/05/10 21:27:21 WARN DAGScheduler: Broadcasting large task binary with size 1130.9 KiB\n",
      "25/05/10 21:27:21 WARN DAGScheduler: Broadcasting large task binary with size 1130.8 KiB\n",
      "25/05/10 21:27:21 WARN DAGScheduler: Broadcasting large task binary with size 1130.8 KiB\n",
      "25/05/10 21:27:21 WARN DAGScheduler: Broadcasting large task binary with size 1130.8 KiB\n",
      "25/05/10 21:27:21 WARN DAGScheduler: Broadcasting large task binary with size 1130.9 KiB\n",
      "25/05/10 21:27:21 WARN DAGScheduler: Broadcasting large task binary with size 1130.9 KiB\n",
      "25/05/10 21:27:21 WARN DAGScheduler: Broadcasting large task binary with size 1130.9 KiB\n",
      "25/05/10 21:27:21 WARN DAGScheduler: Broadcasting large task binary with size 1129.6 KiB\n",
      "25/05/10 21:27:21 WARN DAGScheduler: Broadcasting large task binary with size 1130.8 KiB\n",
      "25/05/10 21:27:21 WARN DAGScheduler: Broadcasting large task binary with size 1130.9 KiB\n",
      "25/05/10 21:27:21 WARN DAGScheduler: Broadcasting large task binary with size 1130.8 KiB\n",
      "25/05/10 21:27:21 WARN DAGScheduler: Broadcasting large task binary with size 1130.8 KiB\n",
      "25/05/10 21:27:21 WARN DAGScheduler: Broadcasting large task binary with size 1130.9 KiB\n",
      "25/05/10 21:27:21 WARN DAGScheduler: Broadcasting large task binary with size 1130.8 KiB\n",
      "25/05/10 21:27:21 WARN DAGScheduler: Broadcasting large task binary with size 1130.9 KiB\n",
      "25/05/10 21:27:21 WARN DAGScheduler: Broadcasting large task binary with size 1130.9 KiB\n"
     ]
    },
    {
     "name": "stderr",
     "output_type": "stream",
     "text": [
      "                                                                                "
     ]
    },
    {
     "name": "stdout",
     "output_type": "stream",
     "text": [
      "25/05/10 21:27:26 WARN DAGScheduler: Broadcasting large task binary with size 1130.8 KiB\n",
      "25/05/10 21:27:26 WARN DAGScheduler: Broadcasting large task binary with size 1130.8 KiB\n",
      "25/05/10 21:27:26 WARN DAGScheduler: Broadcasting large task binary with size 1130.8 KiB\n",
      "25/05/10 21:27:26 WARN DAGScheduler: Broadcasting large task binary with size 1130.8 KiB\n",
      "25/05/10 21:27:26 WARN DAGScheduler: Broadcasting large task binary with size 1130.9 KiB\n",
      "25/05/10 21:27:26 WARN DAGScheduler: Broadcasting large task binary with size 1130.9 KiB\n",
      "25/05/10 21:27:26 WARN DAGScheduler: Broadcasting large task binary with size 1130.9 KiB\n",
      "25/05/10 21:27:26 WARN DAGScheduler: Broadcasting large task binary with size 1130.9 KiB\n",
      "25/05/10 21:27:26 WARN DAGScheduler: Broadcasting large task binary with size 1130.8 KiB\n"
     ]
    },
    {
     "name": "stderr",
     "output_type": "stream",
     "text": [
      "                                                                                "
     ]
    },
    {
     "name": "stdout",
     "output_type": "stream",
     "text": [
      "25/05/10 21:27:31 WARN DAGScheduler: Broadcasting large task binary with size 1130.8 KiB\n",
      "25/05/10 21:27:31 WARN DAGScheduler: Broadcasting large task binary with size 1130.8 KiB\n",
      "25/05/10 21:27:31 WARN DAGScheduler: Broadcasting large task binary with size 1130.8 KiB\n",
      "25/05/10 21:27:31 WARN DAGScheduler: Broadcasting large task binary with size 1130.8 KiB\n",
      "25/05/10 21:27:31 WARN DAGScheduler: Broadcasting large task binary with size 1130.9 KiB\n",
      "25/05/10 21:27:31 WARN DAGScheduler: Broadcasting large task binary with size 1130.9 KiB\n",
      "25/05/10 21:27:31 WARN DAGScheduler: Broadcasting large task binary with size 1130.9 KiB\n",
      "25/05/10 21:27:31 WARN DAGScheduler: Broadcasting large task binary with size 1130.9 KiB\n",
      "25/05/10 21:27:31 WARN DAGScheduler: Broadcasting large task binary with size 1130.8 KiB\n",
      "25/05/10 21:27:31 WARN DAGScheduler: Broadcasting large task binary with size 1130.9 KiB\n",
      "25/05/10 21:27:31 WARN DAGScheduler: Broadcasting large task binary with size 1130.8 KiB\n",
      "25/05/10 21:27:31 WARN DAGScheduler: Broadcasting large task binary with size 1130.8 KiB\n",
      "25/05/10 21:27:31 WARN DAGScheduler: Broadcasting large task binary with size 1130.8 KiB\n",
      "25/05/10 21:27:31 WARN DAGScheduler: Broadcasting large task binary with size 1130.8 KiB\n",
      "25/05/10 21:27:31 WARN DAGScheduler: Broadcasting large task binary with size 1130.9 KiB\n",
      "25/05/10 21:27:31 WARN DAGScheduler: Broadcasting large task binary with size 1130.8 KiB\n",
      "25/05/10 21:27:32 WARN DAGScheduler: Broadcasting large task binary with size 1130.9 KiB\n",
      "25/05/10 21:27:32 WARN DAGScheduler: Broadcasting large task binary with size 1130.9 KiB\n",
      "25/05/10 21:27:32 WARN DAGScheduler: Broadcasting large task binary with size 1130.8 KiB\n",
      "25/05/10 21:27:32 WARN DAGScheduler: Broadcasting large task binary with size 1130.9 KiB\n",
      "25/05/10 21:27:32 WARN DAGScheduler: Broadcasting large task binary with size 1130.8 KiB\n",
      "25/05/10 21:27:32 WARN DAGScheduler: Broadcasting large task binary with size 1130.8 KiB\n",
      "25/05/10 21:27:32 WARN DAGScheduler: Broadcasting large task binary with size 1130.8 KiB\n",
      "25/05/10 21:27:32 WARN DAGScheduler: Broadcasting large task binary with size 1130.8 KiB\n",
      "25/05/10 21:27:32 WARN DAGScheduler: Broadcasting large task binary with size 1130.8 KiB\n",
      "25/05/10 21:27:32 WARN DAGScheduler: Broadcasting large task binary with size 1130.9 KiB\n",
      "25/05/10 21:27:32 WARN DAGScheduler: Broadcasting large task binary with size 1130.9 KiB\n",
      "25/05/10 21:27:32 WARN DAGScheduler: Broadcasting large task binary with size 1130.9 KiB\n",
      "25/05/10 21:27:32 WARN DAGScheduler: Broadcasting large task binary with size 1130.9 KiB\n",
      "25/05/10 21:27:32 WARN DAGScheduler: Broadcasting large task binary with size 1130.9 KiB\n",
      "25/05/10 21:27:32 WARN DAGScheduler: Broadcasting large task binary with size 1130.8 KiB\n",
      "25/05/10 21:27:32 WARN DAGScheduler: Broadcasting large task binary with size 1130.8 KiB\n",
      "25/05/10 21:27:32 WARN DAGScheduler: Broadcasting large task binary with size 1130.9 KiB\n",
      "25/05/10 21:27:32 WARN DAGScheduler: Broadcasting large task binary with size 1130.8 KiB\n",
      "25/05/10 21:27:32 WARN DAGScheduler: Broadcasting large task binary with size 1130.8 KiB\n",
      "25/05/10 21:27:32 WARN DAGScheduler: Broadcasting large task binary with size 1130.8 KiB\n",
      "25/05/10 21:27:32 WARN DAGScheduler: Broadcasting large task binary with size 1130.9 KiB\n",
      "25/05/10 21:27:32 WARN DAGScheduler: Broadcasting large task binary with size 1130.8 KiB\n",
      "25/05/10 21:27:32 WARN DAGScheduler: Broadcasting large task binary with size 1130.9 KiB\n",
      "25/05/10 21:27:32 WARN DAGScheduler: Broadcasting large task binary with size 1130.9 KiB\n",
      "25/05/10 21:27:32 WARN DAGScheduler: Broadcasting large task binary with size 1130.9 KiB\n",
      "25/05/10 21:27:32 WARN DAGScheduler: Broadcasting large task binary with size 1130.8 KiB\n",
      "25/05/10 21:27:32 WARN DAGScheduler: Broadcasting large task binary with size 1130.8 KiB\n",
      "25/05/10 21:27:33 WARN DAGScheduler: Broadcasting large task binary with size 1130.8 KiB\n",
      "25/05/10 21:27:33 WARN DAGScheduler: Broadcasting large task binary with size 1130.8 KiB\n",
      "25/05/10 21:27:33 WARN DAGScheduler: Broadcasting large task binary with size 1130.9 KiB\n",
      "25/05/10 21:27:33 WARN DAGScheduler: Broadcasting large task binary with size 1130.8 KiB\n",
      "25/05/10 21:27:33 WARN DAGScheduler: Broadcasting large task binary with size 1130.9 KiB\n",
      "25/05/10 21:27:33 WARN DAGScheduler: Broadcasting large task binary with size 1130.9 KiB\n",
      "25/05/10 21:27:33 WARN DAGScheduler: Broadcasting large task binary with size 1130.9 KiB\n",
      "25/05/10 21:27:33 WARN DAGScheduler: Broadcasting large task binary with size 1130.8 KiB\n",
      "25/05/10 21:27:33 WARN DAGScheduler: Broadcasting large task binary with size 1130.8 KiB\n",
      "25/05/10 21:27:33 WARN DAGScheduler: Broadcasting large task binary with size 1130.8 KiB\n",
      "25/05/10 21:27:33 WARN DAGScheduler: Broadcasting large task binary with size 1130.8 KiB\n",
      "25/05/10 21:27:33 WARN DAGScheduler: Broadcasting large task binary with size 1130.9 KiB\n",
      "25/05/10 21:27:33 WARN DAGScheduler: Broadcasting large task binary with size 1130.8 KiB\n",
      "25/05/10 21:27:33 WARN DAGScheduler: Broadcasting large task binary with size 1130.9 KiB\n",
      "25/05/10 21:27:33 WARN DAGScheduler: Broadcasting large task binary with size 1130.9 KiB\n",
      "25/05/10 21:27:33 WARN DAGScheduler: Broadcasting large task binary with size 1130.9 KiB\n",
      "25/05/10 21:27:33 WARN DAGScheduler: Broadcasting large task binary with size 1130.9 KiB\n",
      "25/05/10 21:27:33 WARN DAGScheduler: Broadcasting large task binary with size 1130.8 KiB\n",
      "25/05/10 21:27:33 WARN DAGScheduler: Broadcasting large task binary with size 1130.8 KiB\n",
      "25/05/10 21:27:33 WARN DAGScheduler: Broadcasting large task binary with size 1130.8 KiB\n",
      "25/05/10 21:27:33 WARN DAGScheduler: Broadcasting large task binary with size 1130.8 KiB\n",
      "25/05/10 21:27:33 WARN DAGScheduler: Broadcasting large task binary with size 1130.8 KiB\n",
      "25/05/10 21:27:33 WARN DAGScheduler: Broadcasting large task binary with size 1130.9 KiB\n",
      "25/05/10 21:27:34 WARN DAGScheduler: Broadcasting large task binary with size 1130.9 KiB\n",
      "25/05/10 21:27:34 WARN DAGScheduler: Broadcasting large task binary with size 1130.9 KiB\n",
      "25/05/10 21:27:34 WARN DAGScheduler: Broadcasting large task binary with size 1130.8 KiB\n",
      "25/05/10 21:27:34 WARN DAGScheduler: Broadcasting large task binary with size 1130.9 KiB\n",
      "25/05/10 21:27:34 WARN DAGScheduler: Broadcasting large task binary with size 1130.8 KiB\n",
      "25/05/10 21:27:34 WARN DAGScheduler: Broadcasting large task binary with size 1130.8 KiB\n",
      "25/05/10 21:27:34 WARN DAGScheduler: Broadcasting large task binary with size 1130.8 KiB\n",
      "25/05/10 21:27:34 WARN DAGScheduler: Broadcasting large task binary with size 1130.8 KiB\n",
      "25/05/10 21:27:34 WARN DAGScheduler: Broadcasting large task binary with size 1130.8 KiB\n",
      "25/05/10 21:27:34 WARN DAGScheduler: Broadcasting large task binary with size 1130.9 KiB\n",
      "25/05/10 21:27:34 WARN DAGScheduler: Broadcasting large task binary with size 1130.8 KiB\n",
      "25/05/10 21:27:34 WARN DAGScheduler: Broadcasting large task binary with size 1130.9 KiB\n",
      "25/05/10 21:27:34 WARN DAGScheduler: Broadcasting large task binary with size 1130.8 KiB\n",
      "25/05/10 21:27:34 WARN DAGScheduler: Broadcasting large task binary with size 1130.9 KiB\n",
      "25/05/10 21:27:34 WARN DAGScheduler: Broadcasting large task binary with size 1130.9 KiB\n",
      "25/05/10 21:27:34 WARN DAGScheduler: Broadcasting large task binary with size 1130.8 KiB\n",
      "25/05/10 21:27:34 WARN DAGScheduler: Broadcasting large task binary with size 1130.8 KiB\n",
      "25/05/10 21:27:34 WARN DAGScheduler: Broadcasting large task binary with size 1130.9 KiB\n",
      "25/05/10 21:27:34 WARN DAGScheduler: Broadcasting large task binary with size 1130.8 KiB\n",
      "25/05/10 21:27:34 WARN DAGScheduler: Broadcasting large task binary with size 1130.9 KiB\n",
      "25/05/10 21:27:34 WARN DAGScheduler: Broadcasting large task binary with size 1130.8 KiB\n",
      "25/05/10 21:27:34 WARN DAGScheduler: Broadcasting large task binary with size 1130.8 KiB\n",
      "25/05/10 21:27:35 WARN DAGScheduler: Broadcasting large task binary with size 1130.9 KiB\n",
      "25/05/10 21:27:35 WARN DAGScheduler: Broadcasting large task binary with size 1130.9 KiB\n",
      "25/05/10 21:27:35 WARN DAGScheduler: Broadcasting large task binary with size 1130.9 KiB\n",
      "25/05/10 21:27:35 WARN DAGScheduler: Broadcasting large task binary with size 1130.8 KiB\n",
      "25/05/10 21:27:35 WARN DAGScheduler: Broadcasting large task binary with size 1130.8 KiB\n",
      "25/05/10 21:27:35 WARN DAGScheduler: Broadcasting large task binary with size 1130.8 KiB\n",
      "25/05/10 21:27:35 WARN DAGScheduler: Broadcasting large task binary with size 1130.9 KiB\n",
      "25/05/10 21:27:35 WARN DAGScheduler: Broadcasting large task binary with size 1130.8 KiB\n",
      "25/05/10 21:27:35 WARN DAGScheduler: Broadcasting large task binary with size 1130.8 KiB\n",
      "25/05/10 21:27:35 WARN DAGScheduler: Broadcasting large task binary with size 1130.8 KiB\n",
      "25/05/10 21:27:35 WARN DAGScheduler: Broadcasting large task binary with size 1130.9 KiB\n",
      "25/05/10 21:27:35 WARN DAGScheduler: Broadcasting large task binary with size 1130.9 KiB\n",
      "25/05/10 21:27:35 WARN DAGScheduler: Broadcasting large task binary with size 1130.9 KiB\n",
      "25/05/10 21:27:35 WARN DAGScheduler: Broadcasting large task binary with size 1130.9 KiB\n",
      "25/05/10 21:27:35 WARN DAGScheduler: Broadcasting large task binary with size 1130.8 KiB\n",
      "25/05/10 21:27:35 WARN DAGScheduler: Broadcasting large task binary with size 1130.8 KiB\n",
      "25/05/10 21:27:35 WARN DAGScheduler: Broadcasting large task binary with size 1130.8 KiB\n",
      "25/05/10 21:27:35 WARN DAGScheduler: Broadcasting large task binary with size 1130.8 KiB\n",
      "25/05/10 21:27:35 WARN DAGScheduler: Broadcasting large task binary with size 1130.9 KiB\n",
      "25/05/10 21:27:35 WARN DAGScheduler: Broadcasting large task binary with size 1130.9 KiB\n",
      "25/05/10 21:27:35 WARN DAGScheduler: Broadcasting large task binary with size 1130.9 KiB\n",
      "25/05/10 21:27:35 WARN DAGScheduler: Broadcasting large task binary with size 1130.9 KiB\n",
      "25/05/10 21:27:35 WARN DAGScheduler: Broadcasting large task binary with size 1130.8 KiB\n",
      "25/05/10 21:27:35 WARN DAGScheduler: Broadcasting large task binary with size 1130.8 KiB\n",
      "25/05/10 21:27:35 WARN DAGScheduler: Broadcasting large task binary with size 1130.8 KiB\n",
      "25/05/10 21:27:36 WARN DAGScheduler: Broadcasting large task binary with size 1130.8 KiB\n",
      "25/05/10 21:27:36 WARN DAGScheduler: Broadcasting large task binary with size 1129.6 KiB\n",
      "25/05/10 21:27:36 WARN DAGScheduler: Broadcasting large task binary with size 1130.9 KiB\n",
      "25/05/10 21:27:36 WARN DAGScheduler: Broadcasting large task binary with size 1130.9 KiB\n",
      "25/05/10 21:27:36 WARN DAGScheduler: Broadcasting large task binary with size 1130.9 KiB\n",
      "25/05/10 21:27:36 WARN DAGScheduler: Broadcasting large task binary with size 1130.9 KiB\n",
      "25/05/10 21:27:36 WARN DAGScheduler: Broadcasting large task binary with size 1130.8 KiB\n",
      "25/05/10 21:27:36 WARN DAGScheduler: Broadcasting large task binary with size 1130.8 KiB\n",
      "25/05/10 21:27:36 WARN DAGScheduler: Broadcasting large task binary with size 1130.8 KiB\n",
      "25/05/10 21:27:36 WARN DAGScheduler: Broadcasting large task binary with size 1130.8 KiB\n"
     ]
    },
    {
     "name": "stderr",
     "output_type": "stream",
     "text": [
      "                                                                                "
     ]
    },
    {
     "name": "stdout",
     "output_type": "stream",
     "text": [
      "25/05/10 21:27:40 WARN DAGScheduler: Broadcasting large task binary with size 1130.8 KiB\n",
      "25/05/10 21:27:40 WARN DAGScheduler: Broadcasting large task binary with size 1130.9 KiB\n",
      "25/05/10 21:27:40 WARN DAGScheduler: Broadcasting large task binary with size 1130.9 KiB\n",
      "25/05/10 21:27:41 WARN DAGScheduler: Broadcasting large task binary with size 1130.9 KiB\n",
      "25/05/10 21:27:41 WARN DAGScheduler: Broadcasting large task binary with size 1130.8 KiB\n",
      "25/05/10 21:27:41 WARN DAGScheduler: Broadcasting large task binary with size 1130.9 KiB\n",
      "25/05/10 21:27:41 WARN DAGScheduler: Broadcasting large task binary with size 1130.8 KiB\n",
      "25/05/10 21:27:41 WARN DAGScheduler: Broadcasting large task binary with size 1130.8 KiB\n",
      "25/05/10 21:27:41 WARN DAGScheduler: Broadcasting large task binary with size 1129.6 KiB\n"
     ]
    },
    {
     "name": "stderr",
     "output_type": "stream",
     "text": [
      "                                                                                "
     ]
    },
    {
     "name": "stdout",
     "output_type": "stream",
     "text": [
      "25/05/10 21:27:45 WARN DAGScheduler: Broadcasting large task binary with size 1130.8 KiB\n",
      "25/05/10 21:27:45 WARN DAGScheduler: Broadcasting large task binary with size 1130.9 KiB\n",
      "25/05/10 21:27:45 WARN DAGScheduler: Broadcasting large task binary with size 1130.9 KiB\n",
      "25/05/10 21:27:45 WARN DAGScheduler: Broadcasting large task binary with size 1130.9 KiB\n",
      "25/05/10 21:27:45 WARN DAGScheduler: Broadcasting large task binary with size 1130.8 KiB\n",
      "25/05/10 21:27:45 WARN DAGScheduler: Broadcasting large task binary with size 1130.9 KiB\n",
      "25/05/10 21:27:46 WARN DAGScheduler: Broadcasting large task binary with size 1130.8 KiB\n",
      "25/05/10 21:27:46 WARN DAGScheduler: Broadcasting large task binary with size 1130.8 KiB\n"
     ]
    },
    {
     "name": "stderr",
     "output_type": "stream",
     "text": [
      "                                                                                "
     ]
    },
    {
     "name": "stdout",
     "output_type": "stream",
     "text": [
      "25/05/10 21:27:50 WARN DAGScheduler: Broadcasting large task binary with size 1130.8 KiB\n",
      "25/05/10 21:27:50 WARN DAGScheduler: Broadcasting large task binary with size 1130.9 KiB\n",
      "25/05/10 21:27:50 WARN DAGScheduler: Broadcasting large task binary with size 1130.8 KiB\n",
      "25/05/10 21:27:51 WARN DAGScheduler: Broadcasting large task binary with size 1130.9 KiB\n",
      "25/05/10 21:27:51 WARN DAGScheduler: Broadcasting large task binary with size 1130.8 KiB\n",
      "25/05/10 21:27:51 WARN DAGScheduler: Broadcasting large task binary with size 1130.9 KiB\n",
      "25/05/10 21:27:51 WARN DAGScheduler: Broadcasting large task binary with size 1130.8 KiB\n",
      "25/05/10 21:27:51 WARN DAGScheduler: Broadcasting large task binary with size 1130.8 KiB\n",
      "25/05/10 21:27:51 WARN DAGScheduler: Broadcasting large task binary with size 1129.7 KiB\n"
     ]
    },
    {
     "name": "stderr",
     "output_type": "stream",
     "text": [
      "                                                                                "
     ]
    },
    {
     "name": "stdout",
     "output_type": "stream",
     "text": [
      "25/05/10 21:27:55 WARN DAGScheduler: Broadcasting large task binary with size 1130.8 KiB\n",
      "25/05/10 21:27:55 WARN DAGScheduler: Broadcasting large task binary with size 1130.8 KiB\n",
      "25/05/10 21:27:55 WARN DAGScheduler: Broadcasting large task binary with size 1130.9 KiB\n",
      "25/05/10 21:27:55 WARN DAGScheduler: Broadcasting large task binary with size 1130.9 KiB\n",
      "25/05/10 21:27:55 WARN DAGScheduler: Broadcasting large task binary with size 1130.8 KiB\n",
      "25/05/10 21:27:55 WARN DAGScheduler: Broadcasting large task binary with size 1130.9 KiB\n",
      "25/05/10 21:27:55 WARN DAGScheduler: Broadcasting large task binary with size 1130.8 KiB\n",
      "25/05/10 21:27:56 WARN DAGScheduler: Broadcasting large task binary with size 1130.8 KiB\n"
     ]
    },
    {
     "name": "stderr",
     "output_type": "stream",
     "text": [
      "                                                                                "
     ]
    },
    {
     "name": "stdout",
     "output_type": "stream",
     "text": [
      "25/05/10 21:28:00 WARN DAGScheduler: Broadcasting large task binary with size 1130.9 KiB\n",
      "25/05/10 21:28:00 WARN DAGScheduler: Broadcasting large task binary with size 1130.8 KiB\n",
      "25/05/10 21:28:00 WARN DAGScheduler: Broadcasting large task binary with size 1130.8 KiB\n",
      "25/05/10 21:28:00 WARN DAGScheduler: Broadcasting large task binary with size 1130.9 KiB\n",
      "25/05/10 21:28:00 WARN DAGScheduler: Broadcasting large task binary with size 1130.9 KiB\n",
      "25/05/10 21:28:00 WARN DAGScheduler: Broadcasting large task binary with size 1130.8 KiB\n",
      "25/05/10 21:28:00 WARN DAGScheduler: Broadcasting large task binary with size 1130.9 KiB\n",
      "25/05/10 21:28:00 WARN DAGScheduler: Broadcasting large task binary with size 1130.8 KiB\n",
      "25/05/10 21:28:00 WARN DAGScheduler: Broadcasting large task binary with size 1130.8 KiB\n"
     ]
    },
    {
     "name": "stderr",
     "output_type": "stream",
     "text": [
      "                                                                                "
     ]
    },
    {
     "name": "stdout",
     "output_type": "stream",
     "text": [
      "25/05/10 21:28:05 WARN DAGScheduler: Broadcasting large task binary with size 1130.9 KiB\n",
      "25/05/10 21:28:05 WARN DAGScheduler: Broadcasting large task binary with size 1130.8 KiB\n",
      "25/05/10 21:28:05 WARN DAGScheduler: Broadcasting large task binary with size 1130.8 KiB\n",
      "25/05/10 21:28:05 WARN DAGScheduler: Broadcasting large task binary with size 1130.9 KiB\n",
      "25/05/10 21:28:05 WARN DAGScheduler: Broadcasting large task binary with size 1130.8 KiB\n",
      "25/05/10 21:28:05 WARN DAGScheduler: Broadcasting large task binary with size 1130.9 KiB\n",
      "25/05/10 21:28:05 WARN DAGScheduler: Broadcasting large task binary with size 1130.9 KiB\n",
      "25/05/10 21:28:05 WARN DAGScheduler: Broadcasting large task binary with size 1130.8 KiB\n",
      "25/05/10 21:28:05 WARN DAGScheduler: Broadcasting large task binary with size 1130.8 KiB\n",
      "25/05/10 21:28:05 WARN DAGScheduler: Broadcasting large task binary with size 1130.9 KiB\n",
      "25/05/10 21:28:05 WARN DAGScheduler: Broadcasting large task binary with size 1130.8 KiB\n",
      "25/05/10 21:28:05 WARN DAGScheduler: Broadcasting large task binary with size 1130.9 KiB\n",
      "25/05/10 21:28:05 WARN DAGScheduler: Broadcasting large task binary with size 1130.8 KiB\n",
      "25/05/10 21:28:05 WARN DAGScheduler: Broadcasting large task binary with size 1130.8 KiB\n",
      "25/05/10 21:28:05 WARN DAGScheduler: Broadcasting large task binary with size 1130.9 KiB\n",
      "25/05/10 21:28:06 WARN DAGScheduler: Broadcasting large task binary with size 1130.9 KiB\n",
      "25/05/10 21:28:06 WARN DAGScheduler: Broadcasting large task binary with size 1130.8 KiB\n",
      "25/05/10 21:28:06 WARN DAGScheduler: Broadcasting large task binary with size 1130.8 KiB\n",
      "25/05/10 21:28:06 WARN DAGScheduler: Broadcasting large task binary with size 1130.9 KiB\n",
      "25/05/10 21:28:06 WARN DAGScheduler: Broadcasting large task binary with size 1130.8 KiB\n",
      "25/05/10 21:28:06 WARN DAGScheduler: Broadcasting large task binary with size 1130.9 KiB\n",
      "25/05/10 21:28:06 WARN DAGScheduler: Broadcasting large task binary with size 1130.8 KiB\n",
      "25/05/10 21:28:06 WARN DAGScheduler: Broadcasting large task binary with size 1130.8 KiB\n",
      "25/05/10 21:28:06 WARN DAGScheduler: Broadcasting large task binary with size 1130.9 KiB\n",
      "25/05/10 21:28:06 WARN DAGScheduler: Broadcasting large task binary with size 1130.9 KiB\n",
      "25/05/10 21:28:06 WARN DAGScheduler: Broadcasting large task binary with size 1130.8 KiB\n",
      "25/05/10 21:28:06 WARN DAGScheduler: Broadcasting large task binary with size 1130.8 KiB\n",
      "25/05/10 21:28:06 WARN DAGScheduler: Broadcasting large task binary with size 1130.8 KiB\n",
      "25/05/10 21:28:06 WARN DAGScheduler: Broadcasting large task binary with size 1130.9 KiB\n",
      "25/05/10 21:28:06 WARN DAGScheduler: Broadcasting large task binary with size 1130.9 KiB\n",
      "25/05/10 21:28:06 WARN DAGScheduler: Broadcasting large task binary with size 1130.8 KiB\n",
      "25/05/10 21:28:06 WARN DAGScheduler: Broadcasting large task binary with size 1130.8 KiB\n",
      "25/05/10 21:28:06 WARN DAGScheduler: Broadcasting large task binary with size 1130.9 KiB\n",
      "25/05/10 21:28:07 WARN DAGScheduler: Broadcasting large task binary with size 1130.9 KiB\n",
      "25/05/10 21:28:07 WARN DAGScheduler: Broadcasting large task binary with size 1130.8 KiB\n",
      "25/05/10 21:28:07 WARN DAGScheduler: Broadcasting large task binary with size 1130.8 KiB\n",
      "25/05/10 21:28:07 WARN DAGScheduler: Broadcasting large task binary with size 1130.8 KiB\n",
      "25/05/10 21:28:07 WARN DAGScheduler: Broadcasting large task binary with size 1130.9 KiB\n",
      "25/05/10 21:28:07 WARN DAGScheduler: Broadcasting large task binary with size 1130.9 KiB\n",
      "25/05/10 21:28:07 WARN DAGScheduler: Broadcasting large task binary with size 1130.8 KiB\n",
      "25/05/10 21:28:07 WARN DAGScheduler: Broadcasting large task binary with size 1130.9 KiB\n",
      "25/05/10 21:28:07 WARN DAGScheduler: Broadcasting large task binary with size 1130.9 KiB\n",
      "25/05/10 21:28:07 WARN DAGScheduler: Broadcasting large task binary with size 1130.8 KiB\n",
      "25/05/10 21:28:07 WARN DAGScheduler: Broadcasting large task binary with size 1130.9 KiB\n",
      "25/05/10 21:28:07 WARN DAGScheduler: Broadcasting large task binary with size 1130.8 KiB\n",
      "25/05/10 21:28:07 WARN DAGScheduler: Broadcasting large task binary with size 1130.9 KiB\n",
      "25/05/10 21:28:07 WARN DAGScheduler: Broadcasting large task binary with size 1130.8 KiB\n",
      "25/05/10 21:28:07 WARN DAGScheduler: Broadcasting large task binary with size 1130.9 KiB\n",
      "25/05/10 21:28:07 WARN DAGScheduler: Broadcasting large task binary with size 1130.8 KiB\n",
      "25/05/10 21:28:07 WARN DAGScheduler: Broadcasting large task binary with size 1130.8 KiB\n",
      "25/05/10 21:28:07 WARN DAGScheduler: Broadcasting large task binary with size 1130.9 KiB\n",
      "25/05/10 21:28:07 WARN DAGScheduler: Broadcasting large task binary with size 1130.9 KiB\n",
      "25/05/10 21:28:07 WARN DAGScheduler: Broadcasting large task binary with size 1129.6 KiB\n",
      "25/05/10 21:28:07 WARN DAGScheduler: Broadcasting large task binary with size 1130.8 KiB\n",
      "25/05/10 21:28:07 WARN DAGScheduler: Broadcasting large task binary with size 1130.9 KiB\n",
      "25/05/10 21:28:08 WARN DAGScheduler: Broadcasting large task binary with size 1130.8 KiB\n",
      "25/05/10 21:28:08 WARN DAGScheduler: Broadcasting large task binary with size 1130.9 KiB\n",
      "25/05/10 21:28:08 WARN DAGScheduler: Broadcasting large task binary with size 1130.8 KiB\n",
      "25/05/10 21:28:08 WARN DAGScheduler: Broadcasting large task binary with size 1130.9 KiB\n",
      "25/05/10 21:28:08 WARN DAGScheduler: Broadcasting large task binary with size 1130.8 KiB\n",
      "25/05/10 21:28:08 WARN DAGScheduler: Broadcasting large task binary with size 1130.9 KiB\n"
     ]
    },
    {
     "name": "stderr",
     "output_type": "stream",
     "text": [
      "                                                                                "
     ]
    },
    {
     "name": "stdout",
     "output_type": "stream",
     "text": [
      "25/05/10 21:28:12 WARN DAGScheduler: Broadcasting large task binary with size 1130.8 KiB\n",
      "25/05/10 21:28:12 WARN DAGScheduler: Broadcasting large task binary with size 1130.8 KiB\n",
      "25/05/10 21:28:12 WARN DAGScheduler: Broadcasting large task binary with size 1130.9 KiB\n",
      "25/05/10 21:28:12 WARN DAGScheduler: Broadcasting large task binary with size 1130.9 KiB\n",
      "25/05/10 21:28:12 WARN DAGScheduler: Broadcasting large task binary with size 1130.8 KiB\n",
      "25/05/10 21:28:12 WARN DAGScheduler: Broadcasting large task binary with size 1130.8 KiB\n",
      "25/05/10 21:28:12 WARN DAGScheduler: Broadcasting large task binary with size 1130.8 KiB\n",
      "25/05/10 21:28:12 WARN DAGScheduler: Broadcasting large task binary with size 1130.9 KiB\n",
      "25/05/10 21:28:12 WARN DAGScheduler: Broadcasting large task binary with size 1130.9 KiB\n"
     ]
    },
    {
     "name": "stderr",
     "output_type": "stream",
     "text": [
      "                                                                                "
     ]
    },
    {
     "name": "stdout",
     "output_type": "stream",
     "text": [
      "25/05/10 21:28:17 WARN DAGScheduler: Broadcasting large task binary with size 1130.8 KiB\n",
      "25/05/10 21:28:17 WARN DAGScheduler: Broadcasting large task binary with size 1130.9 KiB\n",
      "25/05/10 21:28:17 WARN DAGScheduler: Broadcasting large task binary with size 1130.8 KiB\n",
      "25/05/10 21:28:17 WARN DAGScheduler: Broadcasting large task binary with size 1130.9 KiB\n",
      "25/05/10 21:28:17 WARN DAGScheduler: Broadcasting large task binary with size 1130.8 KiB\n",
      "25/05/10 21:28:17 WARN DAGScheduler: Broadcasting large task binary with size 1130.8 KiB\n",
      "25/05/10 21:28:17 WARN DAGScheduler: Broadcasting large task binary with size 1130.8 KiB\n",
      "25/05/10 21:28:17 WARN DAGScheduler: Broadcasting large task binary with size 1130.9 KiB\n",
      "25/05/10 21:28:17 WARN DAGScheduler: Broadcasting large task binary with size 1130.9 KiB\n",
      "25/05/10 21:28:17 WARN DAGScheduler: Broadcasting large task binary with size 1130.9 KiB\n",
      "25/05/10 21:28:17 WARN DAGScheduler: Broadcasting large task binary with size 1130.8 KiB\n",
      "25/05/10 21:28:17 WARN DAGScheduler: Broadcasting large task binary with size 1130.8 KiB\n",
      "25/05/10 21:28:17 WARN DAGScheduler: Broadcasting large task binary with size 1130.8 KiB\n",
      "25/05/10 21:28:17 WARN DAGScheduler: Broadcasting large task binary with size 1130.8 KiB\n",
      "25/05/10 21:28:17 WARN DAGScheduler: Broadcasting large task binary with size 1130.8 KiB\n",
      "25/05/10 21:28:17 WARN DAGScheduler: Broadcasting large task binary with size 1130.9 KiB\n",
      "25/05/10 21:28:17 WARN DAGScheduler: Broadcasting large task binary with size 1130.9 KiB\n",
      "25/05/10 21:28:18 WARN DAGScheduler: Broadcasting large task binary with size 1130.9 KiB\n",
      "25/05/10 21:28:18 WARN DAGScheduler: Broadcasting large task binary with size 1130.8 KiB\n",
      "25/05/10 21:28:18 WARN DAGScheduler: Broadcasting large task binary with size 1130.8 KiB\n",
      "25/05/10 21:28:18 WARN DAGScheduler: Broadcasting large task binary with size 1130.9 KiB\n",
      "25/05/10 21:28:18 WARN DAGScheduler: Broadcasting large task binary with size 1130.8 KiB\n",
      "25/05/10 21:28:18 WARN DAGScheduler: Broadcasting large task binary with size 1130.8 KiB\n",
      "25/05/10 21:28:18 WARN DAGScheduler: Broadcasting large task binary with size 1130.8 KiB\n",
      "25/05/10 21:28:18 WARN DAGScheduler: Broadcasting large task binary with size 1130.9 KiB\n",
      "25/05/10 21:28:18 WARN DAGScheduler: Broadcasting large task binary with size 1130.9 KiB\n",
      "25/05/10 21:28:18 WARN DAGScheduler: Broadcasting large task binary with size 1130.8 KiB\n",
      "25/05/10 21:28:18 WARN DAGScheduler: Broadcasting large task binary with size 1130.9 KiB\n",
      "25/05/10 21:28:18 WARN DAGScheduler: Broadcasting large task binary with size 1130.8 KiB\n",
      "25/05/10 21:28:18 WARN DAGScheduler: Broadcasting large task binary with size 1130.9 KiB\n",
      "25/05/10 21:28:18 WARN DAGScheduler: Broadcasting large task binary with size 1130.8 KiB\n",
      "25/05/10 21:28:18 WARN DAGScheduler: Broadcasting large task binary with size 1130.9 KiB\n",
      "25/05/10 21:28:18 WARN DAGScheduler: Broadcasting large task binary with size 1130.8 KiB\n",
      "25/05/10 21:28:18 WARN DAGScheduler: Broadcasting large task binary with size 1130.8 KiB\n",
      "25/05/10 21:28:18 WARN DAGScheduler: Broadcasting large task binary with size 1130.8 KiB\n",
      "25/05/10 21:28:18 WARN DAGScheduler: Broadcasting large task binary with size 1130.9 KiB\n",
      "25/05/10 21:28:18 WARN DAGScheduler: Broadcasting large task binary with size 1130.9 KiB\n",
      "25/05/10 21:28:18 WARN DAGScheduler: Broadcasting large task binary with size 1130.9 KiB\n",
      "25/05/10 21:28:18 WARN DAGScheduler: Broadcasting large task binary with size 1130.8 KiB\n",
      "25/05/10 21:28:19 WARN DAGScheduler: Broadcasting large task binary with size 1130.8 KiB\n",
      "25/05/10 21:28:19 WARN DAGScheduler: Broadcasting large task binary with size 1130.9 KiB\n",
      "25/05/10 21:28:19 WARN DAGScheduler: Broadcasting large task binary with size 1130.8 KiB\n",
      "25/05/10 21:28:19 WARN DAGScheduler: Broadcasting large task binary with size 1130.8 KiB\n",
      "25/05/10 21:28:19 WARN DAGScheduler: Broadcasting large task binary with size 1130.8 KiB\n",
      "25/05/10 21:28:19 WARN DAGScheduler: Broadcasting large task binary with size 1130.9 KiB\n",
      "25/05/10 21:28:19 WARN DAGScheduler: Broadcasting large task binary with size 1130.9 KiB\n",
      "25/05/10 21:28:19 WARN DAGScheduler: Broadcasting large task binary with size 1130.8 KiB\n",
      "25/05/10 21:28:19 WARN DAGScheduler: Broadcasting large task binary with size 1130.9 KiB\n",
      "25/05/10 21:28:19 WARN DAGScheduler: Broadcasting large task binary with size 1130.8 KiB\n",
      "25/05/10 21:28:19 WARN DAGScheduler: Broadcasting large task binary with size 1130.9 KiB\n",
      "25/05/10 21:28:19 WARN DAGScheduler: Broadcasting large task binary with size 1130.8 KiB\n",
      "25/05/10 21:28:19 WARN DAGScheduler: Broadcasting large task binary with size 1130.9 KiB\n",
      "25/05/10 21:28:19 WARN DAGScheduler: Broadcasting large task binary with size 1130.8 KiB\n",
      "25/05/10 21:28:19 WARN DAGScheduler: Broadcasting large task binary with size 1130.8 KiB\n",
      "25/05/10 21:28:19 WARN DAGScheduler: Broadcasting large task binary with size 1130.9 KiB\n",
      "25/05/10 21:28:19 WARN DAGScheduler: Broadcasting large task binary with size 1130.8 KiB\n",
      "25/05/10 21:28:19 WARN DAGScheduler: Broadcasting large task binary with size 1130.9 KiB\n",
      "25/05/10 21:28:19 WARN DAGScheduler: Broadcasting large task binary with size 1130.9 KiB\n",
      "25/05/10 21:28:19 WARN DAGScheduler: Broadcasting large task binary with size 1130.8 KiB\n",
      "25/05/10 21:28:19 WARN DAGScheduler: Broadcasting large task binary with size 1130.8 KiB\n",
      "25/05/10 21:28:20 WARN DAGScheduler: Broadcasting large task binary with size 1130.9 KiB\n",
      "25/05/10 21:28:20 WARN DAGScheduler: Broadcasting large task binary with size 1130.9 KiB\n",
      "25/05/10 21:28:20 WARN DAGScheduler: Broadcasting large task binary with size 1130.8 KiB\n",
      "25/05/10 21:28:20 WARN DAGScheduler: Broadcasting large task binary with size 1130.8 KiB\n",
      "25/05/10 21:28:20 WARN DAGScheduler: Broadcasting large task binary with size 1130.8 KiB\n",
      "25/05/10 21:28:20 WARN DAGScheduler: Broadcasting large task binary with size 1130.8 KiB\n",
      "25/05/10 21:28:20 WARN DAGScheduler: Broadcasting large task binary with size 1130.9 KiB\n",
      "25/05/10 21:28:20 WARN DAGScheduler: Broadcasting large task binary with size 1130.9 KiB\n",
      "25/05/10 21:28:20 WARN DAGScheduler: Broadcasting large task binary with size 1130.8 KiB\n",
      "25/05/10 21:28:20 WARN DAGScheduler: Broadcasting large task binary with size 1130.9 KiB\n",
      "25/05/10 21:28:20 WARN DAGScheduler: Broadcasting large task binary with size 1130.9 KiB\n",
      "25/05/10 21:28:20 WARN DAGScheduler: Broadcasting large task binary with size 1130.8 KiB\n",
      "25/05/10 21:28:20 WARN DAGScheduler: Broadcasting large task binary with size 1130.8 KiB\n",
      "25/05/10 21:28:20 WARN DAGScheduler: Broadcasting large task binary with size 1130.8 KiB\n",
      "25/05/10 21:28:20 WARN DAGScheduler: Broadcasting large task binary with size 1130.9 KiB\n",
      "25/05/10 21:28:20 WARN DAGScheduler: Broadcasting large task binary with size 1130.8 KiB\n",
      "25/05/10 21:28:20 WARN DAGScheduler: Broadcasting large task binary with size 1130.9 KiB\n",
      "25/05/10 21:28:20 WARN DAGScheduler: Broadcasting large task binary with size 1130.8 KiB\n",
      "25/05/10 21:28:20 WARN DAGScheduler: Broadcasting large task binary with size 1130.9 KiB\n",
      "25/05/10 21:28:20 WARN DAGScheduler: Broadcasting large task binary with size 1130.9 KiB\n",
      "25/05/10 21:28:20 WARN DAGScheduler: Broadcasting large task binary with size 1130.8 KiB\n",
      "25/05/10 21:28:20 WARN DAGScheduler: Broadcasting large task binary with size 1130.8 KiB\n",
      "25/05/10 21:28:20 WARN DAGScheduler: Broadcasting large task binary with size 1130.8 KiB\n",
      "25/05/10 21:28:20 WARN DAGScheduler: Broadcasting large task binary with size 1130.9 KiB\n",
      "25/05/10 21:28:20 WARN DAGScheduler: Broadcasting large task binary with size 1130.8 KiB\n",
      "25/05/10 21:28:21 WARN DAGScheduler: Broadcasting large task binary with size 1130.8 KiB\n",
      "25/05/10 21:28:21 WARN DAGScheduler: Broadcasting large task binary with size 1130.9 KiB\n",
      "25/05/10 21:28:21 WARN DAGScheduler: Broadcasting large task binary with size 1130.9 KiB\n",
      "25/05/10 21:28:21 WARN DAGScheduler: Broadcasting large task binary with size 1130.9 KiB\n",
      "25/05/10 21:28:21 WARN DAGScheduler: Broadcasting large task binary with size 1130.8 KiB\n",
      "25/05/10 21:28:21 WARN DAGScheduler: Broadcasting large task binary with size 1130.8 KiB\n",
      "25/05/10 21:28:21 WARN DAGScheduler: Broadcasting large task binary with size 1130.8 KiB\n",
      "25/05/10 21:28:21 WARN DAGScheduler: Broadcasting large task binary with size 1130.8 KiB\n",
      "25/05/10 21:28:21 WARN DAGScheduler: Broadcasting large task binary with size 1130.9 KiB\n",
      "25/05/10 21:28:21 WARN DAGScheduler: Broadcasting large task binary with size 1130.9 KiB\n",
      "25/05/10 21:28:21 WARN DAGScheduler: Broadcasting large task binary with size 1130.8 KiB\n",
      "25/05/10 21:28:21 WARN DAGScheduler: Broadcasting large task binary with size 1130.9 KiB\n",
      "25/05/10 21:28:21 WARN DAGScheduler: Broadcasting large task binary with size 1130.9 KiB\n",
      "25/05/10 21:28:21 WARN DAGScheduler: Broadcasting large task binary with size 1130.8 KiB\n",
      "25/05/10 21:28:21 WARN DAGScheduler: Broadcasting large task binary with size 1130.8 KiB\n",
      "25/05/10 21:28:21 WARN DAGScheduler: Broadcasting large task binary with size 1130.9 KiB\n",
      "25/05/10 21:28:21 WARN DAGScheduler: Broadcasting large task binary with size 1130.8 KiB\n",
      "25/05/10 21:28:21 WARN DAGScheduler: Broadcasting large task binary with size 1130.9 KiB\n",
      "25/05/10 21:28:21 WARN DAGScheduler: Broadcasting large task binary with size 1130.8 KiB\n",
      "25/05/10 21:28:21 WARN DAGScheduler: Broadcasting large task binary with size 1130.8 KiB\n",
      "25/05/10 21:28:21 WARN DAGScheduler: Broadcasting large task binary with size 1130.9 KiB\n",
      "25/05/10 21:28:21 WARN DAGScheduler: Broadcasting large task binary with size 1130.9 KiB\n",
      "25/05/10 21:28:22 WARN DAGScheduler: Broadcasting large task binary with size 1130.8 KiB\n",
      "25/05/10 21:28:22 WARN DAGScheduler: Broadcasting large task binary with size 1130.8 KiB\n",
      "25/05/10 21:28:22 WARN DAGScheduler: Broadcasting large task binary with size 1130.9 KiB\n",
      "25/05/10 21:28:22 WARN DAGScheduler: Broadcasting large task binary with size 1130.8 KiB\n",
      "25/05/10 21:28:22 WARN DAGScheduler: Broadcasting large task binary with size 1130.9 KiB\n",
      "25/05/10 21:28:22 WARN DAGScheduler: Broadcasting large task binary with size 1130.8 KiB\n",
      "25/05/10 21:28:22 WARN DAGScheduler: Broadcasting large task binary with size 1130.8 KiB\n",
      "25/05/10 21:28:22 WARN DAGScheduler: Broadcasting large task binary with size 1130.9 KiB\n",
      "25/05/10 21:28:22 WARN DAGScheduler: Broadcasting large task binary with size 1130.8 KiB\n",
      "25/05/10 21:28:22 WARN DAGScheduler: Broadcasting large task binary with size 1130.9 KiB\n",
      "25/05/10 21:28:22 WARN DAGScheduler: Broadcasting large task binary with size 1130.8 KiB\n",
      "25/05/10 21:28:22 WARN DAGScheduler: Broadcasting large task binary with size 1130.8 KiB\n",
      "25/05/10 21:28:22 WARN DAGScheduler: Broadcasting large task binary with size 1130.9 KiB\n",
      "25/05/10 21:28:22 WARN DAGScheduler: Broadcasting large task binary with size 1130.9 KiB\n",
      "25/05/10 21:28:22 WARN DAGScheduler: Broadcasting large task binary with size 1130.8 KiB\n",
      "25/05/10 21:28:22 WARN DAGScheduler: Broadcasting large task binary with size 1130.8 KiB\n",
      "25/05/10 21:28:22 WARN DAGScheduler: Broadcasting large task binary with size 1130.9 KiB\n",
      "25/05/10 21:28:22 WARN DAGScheduler: Broadcasting large task binary with size 1130.9 KiB\n",
      "25/05/10 21:28:22 WARN DAGScheduler: Broadcasting large task binary with size 1130.9 KiB\n",
      "25/05/10 21:28:22 WARN DAGScheduler: Broadcasting large task binary with size 1130.8 KiB\n",
      "25/05/10 21:28:22 WARN DAGScheduler: Broadcasting large task binary with size 1130.9 KiB\n",
      "25/05/10 21:28:22 WARN DAGScheduler: Broadcasting large task binary with size 1129.6 KiB\n",
      "25/05/10 21:28:22 WARN DAGScheduler: Broadcasting large task binary with size 1130.8 KiB\n",
      "25/05/10 21:28:23 WARN DAGScheduler: Broadcasting large task binary with size 1130.8 KiB\n",
      "25/05/10 21:28:23 WARN DAGScheduler: Broadcasting large task binary with size 1130.9 KiB\n",
      "25/05/10 21:28:23 WARN DAGScheduler: Broadcasting large task binary with size 1130.8 KiB\n",
      "25/05/10 21:28:23 WARN DAGScheduler: Broadcasting large task binary with size 1130.9 KiB\n",
      "25/05/10 21:28:23 WARN DAGScheduler: Broadcasting large task binary with size 1130.9 KiB\n",
      "25/05/10 21:28:23 WARN DAGScheduler: Broadcasting large task binary with size 1129.6 KiB\n",
      "25/05/10 21:28:23 WARN DAGScheduler: Broadcasting large task binary with size 1129.7 KiB\n"
     ]
    },
    {
     "name": "stderr",
     "output_type": "stream",
     "text": [
      "                                                                                "
     ]
    },
    {
     "name": "stdout",
     "output_type": "stream",
     "text": [
      "25/05/10 21:28:27 WARN DAGScheduler: Broadcasting large task binary with size 1130.8 KiB\n",
      "25/05/10 21:28:27 WARN DAGScheduler: Broadcasting large task binary with size 1130.8 KiB\n",
      "25/05/10 21:28:27 WARN DAGScheduler: Broadcasting large task binary with size 1130.8 KiB\n",
      "25/05/10 21:28:27 WARN DAGScheduler: Broadcasting large task binary with size 1130.9 KiB\n",
      "25/05/10 21:28:27 WARN DAGScheduler: Broadcasting large task binary with size 1130.8 KiB\n",
      "25/05/10 21:28:27 WARN DAGScheduler: Broadcasting large task binary with size 1130.9 KiB\n",
      "25/05/10 21:28:28 WARN DAGScheduler: Broadcasting large task binary with size 1129.7 KiB\n"
     ]
    },
    {
     "name": "stderr",
     "output_type": "stream",
     "text": [
      "                                                                                "
     ]
    },
    {
     "name": "stdout",
     "output_type": "stream",
     "text": [
      "25/05/10 21:28:32 WARN DAGScheduler: Broadcasting large task binary with size 1130.8 KiB\n"
     ]
    },
    {
     "name": "stderr",
     "output_type": "stream",
     "text": [
      "                                                                                "
     ]
    },
    {
     "name": "stdout",
     "output_type": "stream",
     "text": [
      "25/05/10 21:28:37 WARN DAGScheduler: Broadcasting large task binary with size 1130.9 KiB\n"
     ]
    },
    {
     "name": "stderr",
     "output_type": "stream",
     "text": [
      "                                                                                "
     ]
    },
    {
     "name": "stdout",
     "output_type": "stream",
     "text": [
      "25/05/10 21:28:41 WARN DAGScheduler: Broadcasting large task binary with size 1130.8 KiB\n",
      "25/05/10 21:28:41 WARN DAGScheduler: Broadcasting large task binary with size 1130.8 KiB\n",
      "25/05/10 21:28:41 WARN DAGScheduler: Broadcasting large task binary with size 1130.8 KiB\n",
      "25/05/10 21:28:41 WARN DAGScheduler: Broadcasting large task binary with size 1130.9 KiB\n",
      "25/05/10 21:28:41 WARN DAGScheduler: Broadcasting large task binary with size 1130.8 KiB\n",
      "25/05/10 21:28:41 WARN DAGScheduler: Broadcasting large task binary with size 1130.9 KiB\n"
     ]
    },
    {
     "name": "stderr",
     "output_type": "stream",
     "text": [
      "                                                                                "
     ]
    },
    {
     "name": "stdout",
     "output_type": "stream",
     "text": [
      "25/05/10 21:28:46 WARN DAGScheduler: Broadcasting large task binary with size 1130.9 KiB\n"
     ]
    },
    {
     "name": "stderr",
     "output_type": "stream",
     "text": [
      "[Stage 3622:=>(1 + 1) / 2][Stage 3623:=>(1 + 0) / 2][Stage 3624:=>(1 + 0) / 2]  "
     ]
    },
    {
     "name": "stdout",
     "output_type": "stream",
     "text": [
      "25/05/10 21:28:51 WARN DAGScheduler: Broadcasting large task binary with size 1130.8 KiB\n"
     ]
    },
    {
     "name": "stderr",
     "output_type": "stream",
     "text": [
      "                                                                                "
     ]
    },
    {
     "name": "stdout",
     "output_type": "stream",
     "text": [
      "25/05/10 21:28:55 WARN DAGScheduler: Broadcasting large task binary with size 1130.9 KiB\n",
      "25/05/10 21:28:55 WARN DAGScheduler: Broadcasting large task binary with size 1130.8 KiB\n",
      "25/05/10 21:28:55 WARN DAGScheduler: Broadcasting large task binary with size 1130.8 KiB\n",
      "25/05/10 21:28:55 WARN DAGScheduler: Broadcasting large task binary with size 1130.8 KiB\n",
      "25/05/10 21:28:55 WARN DAGScheduler: Broadcasting large task binary with size 1130.9 KiB\n",
      "25/05/10 21:28:55 WARN DAGScheduler: Broadcasting large task binary with size 1130.9 KiB\n",
      "25/05/10 21:28:55 WARN DAGScheduler: Broadcasting large task binary with size 1130.8 KiB\n",
      "25/05/10 21:28:55 WARN DAGScheduler: Broadcasting large task binary with size 1130.8 KiB\n"
     ]
    },
    {
     "name": "stderr",
     "output_type": "stream",
     "text": [
      "                                                                                "
     ]
    },
    {
     "name": "stdout",
     "output_type": "stream",
     "text": [
      "25/05/10 21:29:00 WARN DAGScheduler: Broadcasting large task binary with size 1130.9 KiB\n",
      "25/05/10 21:29:00 WARN DAGScheduler: Broadcasting large task binary with size 1130.8 KiB\n",
      "25/05/10 21:29:00 WARN DAGScheduler: Broadcasting large task binary with size 1130.9 KiB\n",
      "25/05/10 21:29:00 WARN DAGScheduler: Broadcasting large task binary with size 1130.8 KiB\n",
      "25/05/10 21:29:00 WARN DAGScheduler: Broadcasting large task binary with size 1130.9 KiB\n",
      "25/05/10 21:29:00 WARN DAGScheduler: Broadcasting large task binary with size 1130.8 KiB\n",
      "25/05/10 21:29:00 WARN DAGScheduler: Broadcasting large task binary with size 1130.8 KiB\n",
      "25/05/10 21:29:00 WARN DAGScheduler: Broadcasting large task binary with size 1130.9 KiB\n",
      "25/05/10 21:29:00 WARN DAGScheduler: Broadcasting large task binary with size 1130.8 KiB\n",
      "25/05/10 21:29:00 WARN DAGScheduler: Broadcasting large task binary with size 1130.9 KiB\n",
      "25/05/10 21:29:00 WARN DAGScheduler: Broadcasting large task binary with size 1130.9 KiB\n",
      "25/05/10 21:29:00 WARN DAGScheduler: Broadcasting large task binary with size 1130.8 KiB\n",
      "25/05/10 21:29:00 WARN DAGScheduler: Broadcasting large task binary with size 1130.8 KiB\n",
      "25/05/10 21:29:00 WARN DAGScheduler: Broadcasting large task binary with size 1130.8 KiB\n",
      "25/05/10 21:29:00 WARN DAGScheduler: Broadcasting large task binary with size 1130.9 KiB\n",
      "25/05/10 21:29:00 WARN DAGScheduler: Broadcasting large task binary with size 1130.8 KiB\n",
      "25/05/10 21:29:00 WARN DAGScheduler: Broadcasting large task binary with size 1130.9 KiB\n",
      "25/05/10 21:29:00 WARN DAGScheduler: Broadcasting large task binary with size 1130.8 KiB\n",
      "25/05/10 21:29:00 WARN DAGScheduler: Broadcasting large task binary with size 1130.9 KiB\n",
      "25/05/10 21:29:00 WARN DAGScheduler: Broadcasting large task binary with size 1130.8 KiB\n",
      "25/05/10 21:29:01 WARN DAGScheduler: Broadcasting large task binary with size 1130.9 KiB\n",
      "25/05/10 21:29:01 WARN DAGScheduler: Broadcasting large task binary with size 1130.8 KiB\n",
      "25/05/10 21:29:01 WARN DAGScheduler: Broadcasting large task binary with size 1130.8 KiB\n",
      "25/05/10 21:29:01 WARN DAGScheduler: Broadcasting large task binary with size 1130.9 KiB\n",
      "25/05/10 21:29:01 WARN DAGScheduler: Broadcasting large task binary with size 1130.9 KiB\n",
      "25/05/10 21:29:01 WARN DAGScheduler: Broadcasting large task binary with size 1130.8 KiB\n",
      "25/05/10 21:29:01 WARN DAGScheduler: Broadcasting large task binary with size 1130.8 KiB\n",
      "25/05/10 21:29:01 WARN DAGScheduler: Broadcasting large task binary with size 1130.8 KiB\n",
      "25/05/10 21:29:01 WARN DAGScheduler: Broadcasting large task binary with size 1130.9 KiB\n",
      "25/05/10 21:29:01 WARN DAGScheduler: Broadcasting large task binary with size 1130.9 KiB\n",
      "25/05/10 21:29:01 WARN DAGScheduler: Broadcasting large task binary with size 1130.8 KiB\n",
      "25/05/10 21:29:01 WARN DAGScheduler: Broadcasting large task binary with size 1130.9 KiB\n",
      "25/05/10 21:29:01 WARN DAGScheduler: Broadcasting large task binary with size 1130.8 KiB\n",
      "25/05/10 21:29:01 WARN DAGScheduler: Broadcasting large task binary with size 1130.8 KiB\n",
      "25/05/10 21:29:01 WARN DAGScheduler: Broadcasting large task binary with size 1130.8 KiB\n",
      "25/05/10 21:29:01 WARN DAGScheduler: Broadcasting large task binary with size 1130.9 KiB\n",
      "25/05/10 21:29:01 WARN DAGScheduler: Broadcasting large task binary with size 1130.8 KiB\n",
      "25/05/10 21:29:01 WARN DAGScheduler: Broadcasting large task binary with size 1130.9 KiB\n",
      "25/05/10 21:29:01 WARN DAGScheduler: Broadcasting large task binary with size 1130.8 KiB\n",
      "25/05/10 21:29:01 WARN DAGScheduler: Broadcasting large task binary with size 1130.8 KiB\n",
      "25/05/10 21:29:01 WARN DAGScheduler: Broadcasting large task binary with size 1130.9 KiB\n",
      "25/05/10 21:29:01 WARN DAGScheduler: Broadcasting large task binary with size 1130.9 KiB\n",
      "25/05/10 21:29:01 WARN DAGScheduler: Broadcasting large task binary with size 1130.8 KiB\n",
      "25/05/10 21:29:01 WARN DAGScheduler: Broadcasting large task binary with size 1130.8 KiB\n",
      "25/05/10 21:29:01 WARN DAGScheduler: Broadcasting large task binary with size 1130.9 KiB\n",
      "25/05/10 21:29:02 WARN DAGScheduler: Broadcasting large task binary with size 1130.9 KiB\n",
      "25/05/10 21:29:02 WARN DAGScheduler: Broadcasting large task binary with size 1130.8 KiB\n",
      "25/05/10 21:29:02 WARN DAGScheduler: Broadcasting large task binary with size 1130.9 KiB\n",
      "25/05/10 21:29:02 WARN DAGScheduler: Broadcasting large task binary with size 1130.9 KiB\n",
      "25/05/10 21:29:02 WARN DAGScheduler: Broadcasting large task binary with size 1130.8 KiB\n",
      "25/05/10 21:29:02 WARN DAGScheduler: Broadcasting large task binary with size 1130.9 KiB\n",
      "25/05/10 21:29:02 WARN DAGScheduler: Broadcasting large task binary with size 1130.9 KiB\n",
      "25/05/10 21:29:02 WARN DAGScheduler: Broadcasting large task binary with size 1130.8 KiB\n",
      "25/05/10 21:29:02 WARN DAGScheduler: Broadcasting large task binary with size 1130.8 KiB\n",
      "25/05/10 21:29:02 WARN DAGScheduler: Broadcasting large task binary with size 1129.6 KiB\n",
      "25/05/10 21:29:02 WARN DAGScheduler: Broadcasting large task binary with size 1130.9 KiB\n",
      "25/05/10 21:29:02 WARN DAGScheduler: Broadcasting large task binary with size 1129.6 KiB\n",
      "25/05/10 21:29:02 WARN DAGScheduler: Broadcasting large task binary with size 1130.9 KiB\n",
      "25/05/10 21:29:02 WARN DAGScheduler: Broadcasting large task binary with size 1130.8 KiB\n",
      "25/05/10 21:29:02 WARN DAGScheduler: Broadcasting large task binary with size 1130.9 KiB\n",
      "25/05/10 21:29:02 WARN DAGScheduler: Broadcasting large task binary with size 1130.9 KiB\n",
      "25/05/10 21:29:02 WARN DAGScheduler: Broadcasting large task binary with size 1130.8 KiB\n",
      "25/05/10 21:29:02 WARN DAGScheduler: Broadcasting large task binary with size 1130.8 KiB\n"
     ]
    },
    {
     "name": "stderr",
     "output_type": "stream",
     "text": [
      "                                                                                "
     ]
    },
    {
     "name": "stdout",
     "output_type": "stream",
     "text": [
      "25/05/10 21:29:06 WARN DAGScheduler: Broadcasting large task binary with size 1130.9 KiB\n"
     ]
    },
    {
     "name": "stderr",
     "output_type": "stream",
     "text": [
      "                                                                                "
     ]
    },
    {
     "name": "stdout",
     "output_type": "stream",
     "text": [
      "25/05/10 21:29:07 WARN DAGScheduler: Broadcasting large task binary with size 1130.8 KiB\n"
     ]
    },
    {
     "name": "stderr",
     "output_type": "stream",
     "text": [
      "                                                                                "
     ]
    },
    {
     "name": "stdout",
     "output_type": "stream",
     "text": [
      "25/05/10 21:29:09 WARN DAGScheduler: Broadcasting large task binary with size 1130.9 KiB\n"
     ]
    },
    {
     "name": "stderr",
     "output_type": "stream",
     "text": [
      "                                                                                "
     ]
    },
    {
     "name": "stdout",
     "output_type": "stream",
     "text": [
      "25/05/10 21:29:11 WARN DAGScheduler: Broadcasting large task binary with size 1130.8 KiB\n",
      "25/05/10 21:29:11 WARN DAGScheduler: Broadcasting large task binary with size 1130.9 KiB\n",
      "25/05/10 21:29:11 WARN DAGScheduler: Broadcasting large task binary with size 1130.8 KiB\n",
      "25/05/10 21:29:12 WARN DAGScheduler: Broadcasting large task binary with size 1130.9 KiB\n",
      "25/05/10 21:29:12 WARN DAGScheduler: Broadcasting large task binary with size 1130.9 KiB\n",
      "25/05/10 21:29:12 WARN DAGScheduler: Broadcasting large task binary with size 1130.8 KiB\n",
      "25/05/10 21:29:12 WARN DAGScheduler: Broadcasting large task binary with size 1130.8 KiB\n"
     ]
    },
    {
     "name": "stderr",
     "output_type": "stream",
     "text": [
      "                                                                                "
     ]
    },
    {
     "name": "stdout",
     "output_type": "stream",
     "text": [
      "25/05/10 21:29:13 WARN DAGScheduler: Broadcasting large task binary with size 1130.9 KiB\n"
     ]
    },
    {
     "name": "stderr",
     "output_type": "stream",
     "text": [
      "                                                                                "
     ]
    },
    {
     "name": "stdout",
     "output_type": "stream",
     "text": [
      "25/05/10 21:29:16 WARN DAGScheduler: Broadcasting large task binary with size 1130.8 KiB\n"
     ]
    },
    {
     "name": "stderr",
     "output_type": "stream",
     "text": [
      "                                                                                "
     ]
    },
    {
     "name": "stdout",
     "output_type": "stream",
     "text": [
      "25/05/10 21:29:17 WARN DAGScheduler: Broadcasting large task binary with size 1130.9 KiB\n",
      "25/05/10 21:29:17 WARN DAGScheduler: Broadcasting large task binary with size 1130.9 KiB\n",
      "25/05/10 21:29:17 WARN DAGScheduler: Broadcasting large task binary with size 1130.9 KiB\n",
      "25/05/10 21:29:17 WARN DAGScheduler: Broadcasting large task binary with size 1130.9 KiB\n",
      "25/05/10 21:29:18 WARN DAGScheduler: Broadcasting large task binary with size 1130.9 KiB\n",
      "25/05/10 21:29:18 WARN DAGScheduler: Broadcasting large task binary with size 1130.9 KiB\n",
      "25/05/10 21:29:18 WARN DAGScheduler: Broadcasting large task binary with size 1130.9 KiB\n",
      "25/05/10 21:29:18 WARN DAGScheduler: Broadcasting large task binary with size 1130.9 KiB\n",
      "25/05/10 21:29:18 WARN DAGScheduler: Broadcasting large task binary with size 1130.9 KiB\n",
      "25/05/10 21:29:18 WARN DAGScheduler: Broadcasting large task binary with size 1130.9 KiB\n",
      "25/05/10 21:29:18 WARN DAGScheduler: Broadcasting large task binary with size 1130.9 KiB\n",
      "25/05/10 21:29:19 WARN DAGScheduler: Broadcasting large task binary with size 1130.9 KiB\n",
      "25/05/10 21:29:19 WARN DAGScheduler: Broadcasting large task binary with size 1130.9 KiB\n",
      "25/05/10 21:29:19 WARN DAGScheduler: Broadcasting large task binary with size 1130.9 KiB\n",
      "25/05/10 21:29:19 WARN DAGScheduler: Broadcasting large task binary with size 1130.9 KiB\n",
      "25/05/10 21:29:19 WARN DAGScheduler: Broadcasting large task binary with size 1130.9 KiB\n",
      "25/05/10 21:29:19 WARN DAGScheduler: Broadcasting large task binary with size 1130.9 KiB\n",
      "25/05/10 21:29:20 WARN DAGScheduler: Broadcasting large task binary with size 1129.7 KiB\n"
     ]
    },
    {
     "name": "stderr",
     "output_type": "stream",
     "text": [
      "                                                                                "
     ]
    },
    {
     "name": "stdout",
     "output_type": "stream",
     "text": [
      "25/05/10 21:29:21 WARN DAGScheduler: Broadcasting large task binary with size 1130.8 KiB\n",
      "25/05/10 21:29:21 WARN DAGScheduler: Broadcasting large task binary with size 1130.9 KiB\n",
      "25/05/10 21:29:21 WARN DAGScheduler: Broadcasting large task binary with size 1130.8 KiB\n",
      "25/05/10 21:29:21 WARN DAGScheduler: Broadcasting large task binary with size 1130.9 KiB\n",
      "25/05/10 21:29:21 WARN DAGScheduler: Broadcasting large task binary with size 1130.8 KiB\n",
      "25/05/10 21:29:21 WARN DAGScheduler: Broadcasting large task binary with size 1130.9 KiB\n",
      "25/05/10 21:29:21 WARN DAGScheduler: Broadcasting large task binary with size 1130.8 KiB\n",
      "25/05/10 21:29:21 WARN DAGScheduler: Broadcasting large task binary with size 1130.8 KiB\n"
     ]
    },
    {
     "name": "stderr",
     "output_type": "stream",
     "text": [
      "                                                                                "
     ]
    },
    {
     "name": "stdout",
     "output_type": "stream",
     "text": [
      "25/05/10 21:29:26 WARN DAGScheduler: Broadcasting large task binary with size 1130.9 KiB\n",
      "25/05/10 21:29:26 WARN DAGScheduler: Broadcasting large task binary with size 1130.8 KiB\n",
      "25/05/10 21:29:26 WARN DAGScheduler: Broadcasting large task binary with size 1130.9 KiB\n",
      "25/05/10 21:29:26 WARN DAGScheduler: Broadcasting large task binary with size 1130.8 KiB\n",
      "25/05/10 21:29:26 WARN DAGScheduler: Broadcasting large task binary with size 1130.9 KiB\n",
      "25/05/10 21:29:26 WARN DAGScheduler: Broadcasting large task binary with size 1130.8 KiB\n",
      "25/05/10 21:29:26 WARN DAGScheduler: Broadcasting large task binary with size 1130.9 KiB\n",
      "25/05/10 21:29:26 WARN DAGScheduler: Broadcasting large task binary with size 1130.8 KiB\n",
      "25/05/10 21:29:26 WARN DAGScheduler: Broadcasting large task binary with size 1130.8 KiB\n"
     ]
    },
    {
     "name": "stderr",
     "output_type": "stream",
     "text": [
      "                                                                                "
     ]
    },
    {
     "name": "stdout",
     "output_type": "stream",
     "text": [
      "25/05/10 21:29:30 WARN DAGScheduler: Broadcasting large task binary with size 1130.9 KiB\n",
      "25/05/10 21:29:30 WARN DAGScheduler: Broadcasting large task binary with size 1130.8 KiB\n",
      "25/05/10 21:29:31 WARN DAGScheduler: Broadcasting large task binary with size 1130.9 KiB\n",
      "25/05/10 21:29:31 WARN DAGScheduler: Broadcasting large task binary with size 1130.8 KiB\n",
      "25/05/10 21:29:31 WARN DAGScheduler: Broadcasting large task binary with size 1130.9 KiB\n",
      "25/05/10 21:29:31 WARN DAGScheduler: Broadcasting large task binary with size 1130.8 KiB\n",
      "25/05/10 21:29:31 WARN DAGScheduler: Broadcasting large task binary with size 1130.9 KiB\n",
      "25/05/10 21:29:31 WARN DAGScheduler: Broadcasting large task binary with size 1130.8 KiB\n",
      "25/05/10 21:29:31 WARN DAGScheduler: Broadcasting large task binary with size 1130.8 KiB\n",
      "25/05/10 21:29:31 WARN DAGScheduler: Broadcasting large task binary with size 1130.9 KiB\n",
      "25/05/10 21:29:31 WARN DAGScheduler: Broadcasting large task binary with size 1130.8 KiB\n",
      "25/05/10 21:29:31 WARN DAGScheduler: Broadcasting large task binary with size 1130.9 KiB\n",
      "25/05/10 21:29:31 WARN DAGScheduler: Broadcasting large task binary with size 1130.8 KiB\n",
      "25/05/10 21:29:31 WARN DAGScheduler: Broadcasting large task binary with size 1130.9 KiB\n",
      "25/05/10 21:29:31 WARN DAGScheduler: Broadcasting large task binary with size 1130.8 KiB\n",
      "25/05/10 21:29:31 WARN DAGScheduler: Broadcasting large task binary with size 1130.9 KiB\n",
      "25/05/10 21:29:31 WARN DAGScheduler: Broadcasting large task binary with size 1130.8 KiB\n",
      "25/05/10 21:29:31 WARN DAGScheduler: Broadcasting large task binary with size 1130.8 KiB\n",
      "25/05/10 21:29:31 WARN DAGScheduler: Broadcasting large task binary with size 1130.9 KiB\n",
      "25/05/10 21:29:31 WARN DAGScheduler: Broadcasting large task binary with size 1130.8 KiB\n",
      "25/05/10 21:29:31 WARN DAGScheduler: Broadcasting large task binary with size 1130.9 KiB\n",
      "25/05/10 21:29:31 WARN DAGScheduler: Broadcasting large task binary with size 1130.8 KiB\n",
      "25/05/10 21:29:31 WARN DAGScheduler: Broadcasting large task binary with size 1130.9 KiB\n",
      "25/05/10 21:29:31 WARN DAGScheduler: Broadcasting large task binary with size 1130.8 KiB\n",
      "25/05/10 21:29:31 WARN DAGScheduler: Broadcasting large task binary with size 1130.9 KiB\n",
      "25/05/10 21:29:31 WARN DAGScheduler: Broadcasting large task binary with size 1130.8 KiB\n",
      "25/05/10 21:29:31 WARN DAGScheduler: Broadcasting large task binary with size 1130.8 KiB\n",
      "25/05/10 21:29:32 WARN DAGScheduler: Broadcasting large task binary with size 1130.9 KiB\n",
      "25/05/10 21:29:32 WARN DAGScheduler: Broadcasting large task binary with size 1130.9 KiB\n",
      "25/05/10 21:29:32 WARN DAGScheduler: Broadcasting large task binary with size 1130.8 KiB\n",
      "25/05/10 21:29:32 WARN DAGScheduler: Broadcasting large task binary with size 1130.9 KiB\n",
      "25/05/10 21:29:32 WARN DAGScheduler: Broadcasting large task binary with size 1130.8 KiB\n",
      "25/05/10 21:29:32 WARN DAGScheduler: Broadcasting large task binary with size 1130.8 KiB\n",
      "25/05/10 21:29:32 WARN DAGScheduler: Broadcasting large task binary with size 1130.8 KiB\n",
      "25/05/10 21:29:32 WARN DAGScheduler: Broadcasting large task binary with size 1130.9 KiB\n",
      "25/05/10 21:29:32 WARN DAGScheduler: Broadcasting large task binary with size 1130.8 KiB\n",
      "25/05/10 21:29:32 WARN DAGScheduler: Broadcasting large task binary with size 1130.9 KiB\n",
      "25/05/10 21:29:32 WARN DAGScheduler: Broadcasting large task binary with size 1130.9 KiB\n",
      "25/05/10 21:29:32 WARN DAGScheduler: Broadcasting large task binary with size 1130.8 KiB\n",
      "25/05/10 21:29:32 WARN DAGScheduler: Broadcasting large task binary with size 1130.9 KiB\n",
      "25/05/10 21:29:32 WARN DAGScheduler: Broadcasting large task binary with size 1130.8 KiB\n",
      "25/05/10 21:29:32 WARN DAGScheduler: Broadcasting large task binary with size 1130.8 KiB\n",
      "25/05/10 21:29:32 WARN DAGScheduler: Broadcasting large task binary with size 1130.9 KiB\n",
      "25/05/10 21:29:32 WARN DAGScheduler: Broadcasting large task binary with size 1130.8 KiB\n",
      "25/05/10 21:29:32 WARN DAGScheduler: Broadcasting large task binary with size 1130.9 KiB\n",
      "25/05/10 21:29:32 WARN DAGScheduler: Broadcasting large task binary with size 1130.8 KiB\n",
      "25/05/10 21:29:32 WARN DAGScheduler: Broadcasting large task binary with size 1130.9 KiB\n",
      "25/05/10 21:29:33 WARN DAGScheduler: Broadcasting large task binary with size 1130.8 KiB\n",
      "25/05/10 21:29:33 WARN DAGScheduler: Broadcasting large task binary with size 1130.9 KiB\n",
      "25/05/10 21:29:33 WARN DAGScheduler: Broadcasting large task binary with size 1130.9 KiB\n",
      "25/05/10 21:29:33 WARN DAGScheduler: Broadcasting large task binary with size 1130.8 KiB\n",
      "25/05/10 21:29:33 WARN DAGScheduler: Broadcasting large task binary with size 1130.8 KiB\n",
      "25/05/10 21:29:33 WARN DAGScheduler: Broadcasting large task binary with size 1130.8 KiB\n",
      "25/05/10 21:29:33 WARN DAGScheduler: Broadcasting large task binary with size 1130.9 KiB\n",
      "25/05/10 21:29:33 WARN DAGScheduler: Broadcasting large task binary with size 1130.8 KiB\n",
      "25/05/10 21:29:33 WARN DAGScheduler: Broadcasting large task binary with size 1130.8 KiB\n",
      "25/05/10 21:29:33 WARN DAGScheduler: Broadcasting large task binary with size 1130.9 KiB\n",
      "25/05/10 21:29:33 WARN DAGScheduler: Broadcasting large task binary with size 1130.9 KiB\n",
      "25/05/10 21:29:33 WARN DAGScheduler: Broadcasting large task binary with size 1130.9 KiB\n",
      "25/05/10 21:29:33 WARN DAGScheduler: Broadcasting large task binary with size 1130.8 KiB\n",
      "25/05/10 21:29:33 WARN DAGScheduler: Broadcasting large task binary with size 1130.8 KiB\n",
      "25/05/10 21:29:33 WARN DAGScheduler: Broadcasting large task binary with size 1130.8 KiB\n",
      "25/05/10 21:29:33 WARN DAGScheduler: Broadcasting large task binary with size 1130.9 KiB\n",
      "25/05/10 21:29:33 WARN DAGScheduler: Broadcasting large task binary with size 1130.8 KiB\n",
      "25/05/10 21:29:33 WARN DAGScheduler: Broadcasting large task binary with size 1130.8 KiB\n",
      "25/05/10 21:29:33 WARN DAGScheduler: Broadcasting large task binary with size 1130.9 KiB\n",
      "25/05/10 21:29:33 WARN DAGScheduler: Broadcasting large task binary with size 1130.9 KiB\n",
      "25/05/10 21:29:33 WARN DAGScheduler: Broadcasting large task binary with size 1130.9 KiB\n",
      "25/05/10 21:29:33 WARN DAGScheduler: Broadcasting large task binary with size 1130.8 KiB\n",
      "25/05/10 21:29:33 WARN DAGScheduler: Broadcasting large task binary with size 1130.8 KiB\n",
      "25/05/10 21:29:33 WARN DAGScheduler: Broadcasting large task binary with size 1130.8 KiB\n",
      "25/05/10 21:29:33 WARN DAGScheduler: Broadcasting large task binary with size 1130.9 KiB\n",
      "25/05/10 21:29:34 WARN DAGScheduler: Broadcasting large task binary with size 1130.8 KiB\n",
      "25/05/10 21:29:34 WARN DAGScheduler: Broadcasting large task binary with size 1130.9 KiB\n",
      "25/05/10 21:29:34 WARN DAGScheduler: Broadcasting large task binary with size 1130.8 KiB\n",
      "25/05/10 21:29:34 WARN DAGScheduler: Broadcasting large task binary with size 1130.9 KiB\n",
      "25/05/10 21:29:34 WARN DAGScheduler: Broadcasting large task binary with size 1130.9 KiB\n",
      "25/05/10 21:29:34 WARN DAGScheduler: Broadcasting large task binary with size 1130.8 KiB\n",
      "25/05/10 21:29:34 WARN DAGScheduler: Broadcasting large task binary with size 1130.8 KiB\n",
      "25/05/10 21:29:34 WARN DAGScheduler: Broadcasting large task binary with size 1130.8 KiB\n",
      "25/05/10 21:29:34 WARN DAGScheduler: Broadcasting large task binary with size 1130.9 KiB\n",
      "25/05/10 21:29:34 WARN DAGScheduler: Broadcasting large task binary with size 1130.8 KiB\n",
      "25/05/10 21:29:34 WARN DAGScheduler: Broadcasting large task binary with size 1130.9 KiB\n",
      "25/05/10 21:29:34 WARN DAGScheduler: Broadcasting large task binary with size 1130.8 KiB\n",
      "25/05/10 21:29:34 WARN DAGScheduler: Broadcasting large task binary with size 1130.9 KiB\n",
      "25/05/10 21:29:34 WARN DAGScheduler: Broadcasting large task binary with size 1130.9 KiB\n",
      "25/05/10 21:29:34 WARN DAGScheduler: Broadcasting large task binary with size 1130.8 KiB\n",
      "25/05/10 21:29:34 WARN DAGScheduler: Broadcasting large task binary with size 1130.8 KiB\n",
      "25/05/10 21:29:34 WARN DAGScheduler: Broadcasting large task binary with size 1130.8 KiB\n",
      "25/05/10 21:29:34 WARN DAGScheduler: Broadcasting large task binary with size 1130.9 KiB\n",
      "25/05/10 21:29:34 WARN DAGScheduler: Broadcasting large task binary with size 1130.8 KiB\n",
      "25/05/10 21:29:34 WARN DAGScheduler: Broadcasting large task binary with size 1130.9 KiB\n",
      "25/05/10 21:29:34 WARN DAGScheduler: Broadcasting large task binary with size 1130.8 KiB\n",
      "25/05/10 21:29:34 WARN DAGScheduler: Broadcasting large task binary with size 1130.9 KiB\n",
      "25/05/10 21:29:34 WARN DAGScheduler: Broadcasting large task binary with size 1130.8 KiB\n",
      "25/05/10 21:29:34 WARN DAGScheduler: Broadcasting large task binary with size 1130.9 KiB\n",
      "25/05/10 21:29:34 WARN DAGScheduler: Broadcasting large task binary with size 1130.8 KiB\n",
      "25/05/10 21:29:34 WARN DAGScheduler: Broadcasting large task binary with size 1130.8 KiB\n",
      "25/05/10 21:29:34 WARN DAGScheduler: Broadcasting large task binary with size 1130.9 KiB\n",
      "25/05/10 21:29:34 WARN DAGScheduler: Broadcasting large task binary with size 1130.8 KiB\n",
      "25/05/10 21:29:35 WARN DAGScheduler: Broadcasting large task binary with size 1130.9 KiB\n",
      "25/05/10 21:29:35 WARN DAGScheduler: Broadcasting large task binary with size 1130.9 KiB\n",
      "25/05/10 21:29:35 WARN DAGScheduler: Broadcasting large task binary with size 1130.8 KiB\n",
      "25/05/10 21:29:35 WARN DAGScheduler: Broadcasting large task binary with size 1130.8 KiB\n",
      "25/05/10 21:29:35 WARN DAGScheduler: Broadcasting large task binary with size 1130.9 KiB\n",
      "25/05/10 21:29:35 WARN DAGScheduler: Broadcasting large task binary with size 1130.8 KiB\n",
      "25/05/10 21:29:35 WARN DAGScheduler: Broadcasting large task binary with size 1130.8 KiB\n",
      "25/05/10 21:29:35 WARN DAGScheduler: Broadcasting large task binary with size 1130.9 KiB\n",
      "25/05/10 21:29:35 WARN DAGScheduler: Broadcasting large task binary with size 1130.9 KiB\n",
      "25/05/10 21:29:35 WARN DAGScheduler: Broadcasting large task binary with size 1130.8 KiB\n",
      "25/05/10 21:29:35 WARN DAGScheduler: Broadcasting large task binary with size 1130.9 KiB\n",
      "25/05/10 21:29:35 WARN DAGScheduler: Broadcasting large task binary with size 1130.8 KiB\n",
      "25/05/10 21:29:35 WARN DAGScheduler: Broadcasting large task binary with size 1130.8 KiB\n",
      "25/05/10 21:29:35 WARN DAGScheduler: Broadcasting large task binary with size 1130.9 KiB\n",
      "25/05/10 21:29:35 WARN DAGScheduler: Broadcasting large task binary with size 1130.8 KiB\n",
      "25/05/10 21:29:35 WARN DAGScheduler: Broadcasting large task binary with size 1130.9 KiB\n",
      "25/05/10 21:29:35 WARN DAGScheduler: Broadcasting large task binary with size 1130.9 KiB\n",
      "25/05/10 21:29:35 WARN DAGScheduler: Broadcasting large task binary with size 1130.9 KiB\n",
      "25/05/10 21:29:35 WARN DAGScheduler: Broadcasting large task binary with size 1130.8 KiB\n",
      "25/05/10 21:29:35 WARN DAGScheduler: Broadcasting large task binary with size 1130.9 KiB\n",
      "25/05/10 21:29:35 WARN DAGScheduler: Broadcasting large task binary with size 1130.8 KiB\n",
      "25/05/10 21:29:35 WARN DAGScheduler: Broadcasting large task binary with size 1130.8 KiB\n",
      "25/05/10 21:29:35 WARN DAGScheduler: Broadcasting large task binary with size 1130.9 KiB\n",
      "25/05/10 21:29:35 WARN DAGScheduler: Broadcasting large task binary with size 1130.9 KiB\n",
      "25/05/10 21:29:35 WARN DAGScheduler: Broadcasting large task binary with size 1130.9 KiB\n",
      "25/05/10 21:29:35 WARN DAGScheduler: Broadcasting large task binary with size 1130.8 KiB\n",
      "25/05/10 21:29:36 WARN DAGScheduler: Broadcasting large task binary with size 1129.6 KiB\n",
      "25/05/10 21:29:36 WARN DAGScheduler: Broadcasting large task binary with size 1130.9 KiB\n",
      "25/05/10 21:29:36 WARN DAGScheduler: Broadcasting large task binary with size 1130.8 KiB\n",
      "25/05/10 21:29:36 WARN DAGScheduler: Broadcasting large task binary with size 1130.8 KiB\n",
      "25/05/10 21:29:36 WARN DAGScheduler: Broadcasting large task binary with size 1130.9 KiB\n",
      "25/05/10 21:29:36 WARN DAGScheduler: Broadcasting large task binary with size 1130.9 KiB\n",
      "25/05/10 21:29:36 WARN DAGScheduler: Broadcasting large task binary with size 1129.6 KiB\n",
      "25/05/10 21:29:36 WARN DAGScheduler: Broadcasting large task binary with size 1130.9 KiB\n",
      "25/05/10 21:29:36 WARN DAGScheduler: Broadcasting large task binary with size 1130.8 KiB\n"
     ]
    },
    {
     "name": "stderr",
     "output_type": "stream",
     "text": [
      "                                                                                "
     ]
    },
    {
     "name": "stdout",
     "output_type": "stream",
     "text": [
      "25/05/10 21:29:40 WARN DAGScheduler: Broadcasting large task binary with size 1130.8 KiB\n",
      "25/05/10 21:29:40 WARN DAGScheduler: Broadcasting large task binary with size 1130.9 KiB\n",
      "25/05/10 21:29:40 WARN DAGScheduler: Broadcasting large task binary with size 1130.8 KiB\n",
      "25/05/10 21:29:40 WARN DAGScheduler: Broadcasting large task binary with size 1130.9 KiB\n",
      "25/05/10 21:29:40 WARN DAGScheduler: Broadcasting large task binary with size 1130.8 KiB\n",
      "25/05/10 21:29:40 WARN DAGScheduler: Broadcasting large task binary with size 1130.9 KiB\n"
     ]
    },
    {
     "name": "stderr",
     "output_type": "stream",
     "text": [
      "                                                                                "
     ]
    },
    {
     "name": "stdout",
     "output_type": "stream",
     "text": [
      "25/05/10 21:29:45 WARN DAGScheduler: Broadcasting large task binary with size 1130.8 KiB\n",
      "25/05/10 21:29:45 WARN DAGScheduler: Broadcasting large task binary with size 1130.9 KiB\n",
      "25/05/10 21:29:45 WARN DAGScheduler: Broadcasting large task binary with size 1130.8 KiB\n"
     ]
    },
    {
     "name": "stderr",
     "output_type": "stream",
     "text": [
      "                                                                                "
     ]
    },
    {
     "name": "stdout",
     "output_type": "stream",
     "text": [
      "25/05/10 21:29:50 WARN DAGScheduler: Broadcasting large task binary with size 1130.8 KiB\n",
      "25/05/10 21:29:50 WARN DAGScheduler: Broadcasting large task binary with size 1130.9 KiB\n",
      "25/05/10 21:29:50 WARN DAGScheduler: Broadcasting large task binary with size 1130.8 KiB\n",
      "25/05/10 21:29:50 WARN DAGScheduler: Broadcasting large task binary with size 1130.9 KiB\n",
      "25/05/10 21:29:50 WARN DAGScheduler: Broadcasting large task binary with size 1130.8 KiB\n",
      "25/05/10 21:29:50 WARN DAGScheduler: Broadcasting large task binary with size 1130.9 KiB\n"
     ]
    },
    {
     "name": "stderr",
     "output_type": "stream",
     "text": [
      "                                                                                "
     ]
    },
    {
     "name": "stdout",
     "output_type": "stream",
     "text": [
      "25/05/10 21:29:55 WARN DAGScheduler: Broadcasting large task binary with size 1130.8 KiB\n",
      "25/05/10 21:29:55 WARN DAGScheduler: Broadcasting large task binary with size 1130.9 KiB\n",
      "25/05/10 21:29:55 WARN DAGScheduler: Broadcasting large task binary with size 1130.8 KiB\n",
      "25/05/10 21:29:55 WARN DAGScheduler: Broadcasting large task binary with size 1130.8 KiB\n",
      "25/05/10 21:29:55 WARN DAGScheduler: Broadcasting large task binary with size 1130.8 KiB\n",
      "25/05/10 21:29:55 WARN DAGScheduler: Broadcasting large task binary with size 1130.9 KiB\n",
      "25/05/10 21:29:55 WARN DAGScheduler: Broadcasting large task binary with size 1130.9 KiB\n",
      "25/05/10 21:29:55 WARN DAGScheduler: Broadcasting large task binary with size 1130.9 KiB\n",
      "25/05/10 21:29:55 WARN DAGScheduler: Broadcasting large task binary with size 1130.8 KiB\n",
      "25/05/10 21:29:55 WARN DAGScheduler: Broadcasting large task binary with size 1130.8 KiB\n",
      "25/05/10 21:29:55 WARN DAGScheduler: Broadcasting large task binary with size 1130.8 KiB\n",
      "25/05/10 21:29:55 WARN DAGScheduler: Broadcasting large task binary with size 1130.8 KiB\n",
      "25/05/10 21:29:55 WARN DAGScheduler: Broadcasting large task binary with size 1130.9 KiB\n",
      "25/05/10 21:29:55 WARN DAGScheduler: Broadcasting large task binary with size 1130.8 KiB\n",
      "25/05/10 21:29:55 WARN DAGScheduler: Broadcasting large task binary with size 1130.8 KiB\n",
      "25/05/10 21:29:55 WARN DAGScheduler: Broadcasting large task binary with size 1130.9 KiB\n",
      "25/05/10 21:29:55 WARN DAGScheduler: Broadcasting large task binary with size 1130.9 KiB\n",
      "25/05/10 21:29:55 WARN DAGScheduler: Broadcasting large task binary with size 1130.9 KiB\n",
      "25/05/10 21:29:55 WARN DAGScheduler: Broadcasting large task binary with size 1130.8 KiB\n",
      "25/05/10 21:29:55 WARN DAGScheduler: Broadcasting large task binary with size 1130.8 KiB\n",
      "25/05/10 21:29:55 WARN DAGScheduler: Broadcasting large task binary with size 1130.8 KiB\n",
      "25/05/10 21:29:55 WARN DAGScheduler: Broadcasting large task binary with size 1130.8 KiB\n",
      "25/05/10 21:29:55 WARN DAGScheduler: Broadcasting large task binary with size 1130.8 KiB\n",
      "25/05/10 21:29:55 WARN DAGScheduler: Broadcasting large task binary with size 1130.9 KiB\n",
      "25/05/10 21:29:55 WARN DAGScheduler: Broadcasting large task binary with size 1130.9 KiB\n",
      "25/05/10 21:29:56 WARN DAGScheduler: Broadcasting large task binary with size 1130.9 KiB\n",
      "25/05/10 21:29:56 WARN DAGScheduler: Broadcasting large task binary with size 1130.8 KiB\n",
      "25/05/10 21:29:56 WARN DAGScheduler: Broadcasting large task binary with size 1130.8 KiB\n",
      "25/05/10 21:29:56 WARN DAGScheduler: Broadcasting large task binary with size 1130.9 KiB\n",
      "25/05/10 21:29:56 WARN DAGScheduler: Broadcasting large task binary with size 1130.8 KiB\n",
      "25/05/10 21:29:56 WARN DAGScheduler: Broadcasting large task binary with size 1130.8 KiB\n",
      "25/05/10 21:29:56 WARN DAGScheduler: Broadcasting large task binary with size 1130.8 KiB\n",
      "25/05/10 21:29:56 WARN DAGScheduler: Broadcasting large task binary with size 1130.9 KiB\n",
      "25/05/10 21:29:56 WARN DAGScheduler: Broadcasting large task binary with size 1130.8 KiB\n",
      "25/05/10 21:29:56 WARN DAGScheduler: Broadcasting large task binary with size 1130.9 KiB\n",
      "25/05/10 21:29:56 WARN DAGScheduler: Broadcasting large task binary with size 1130.9 KiB\n",
      "25/05/10 21:29:56 WARN DAGScheduler: Broadcasting large task binary with size 1130.8 KiB\n",
      "25/05/10 21:29:56 WARN DAGScheduler: Broadcasting large task binary with size 1130.8 KiB\n",
      "25/05/10 21:29:56 WARN DAGScheduler: Broadcasting large task binary with size 1130.9 KiB\n",
      "25/05/10 21:29:56 WARN DAGScheduler: Broadcasting large task binary with size 1130.8 KiB\n",
      "25/05/10 21:29:56 WARN DAGScheduler: Broadcasting large task binary with size 1130.9 KiB\n",
      "25/05/10 21:29:56 WARN DAGScheduler: Broadcasting large task binary with size 1130.8 KiB\n",
      "25/05/10 21:29:56 WARN DAGScheduler: Broadcasting large task binary with size 1130.8 KiB\n",
      "25/05/10 21:29:56 WARN DAGScheduler: Broadcasting large task binary with size 1130.9 KiB\n",
      "25/05/10 21:29:56 WARN DAGScheduler: Broadcasting large task binary with size 1130.9 KiB\n",
      "25/05/10 21:29:56 WARN DAGScheduler: Broadcasting large task binary with size 1130.9 KiB\n",
      "25/05/10 21:29:56 WARN DAGScheduler: Broadcasting large task binary with size 1130.8 KiB\n",
      "25/05/10 21:29:56 WARN DAGScheduler: Broadcasting large task binary with size 1130.8 KiB\n",
      "25/05/10 21:29:56 WARN DAGScheduler: Broadcasting large task binary with size 1130.9 KiB\n",
      "25/05/10 21:29:56 WARN DAGScheduler: Broadcasting large task binary with size 1130.8 KiB\n",
      "25/05/10 21:29:56 WARN DAGScheduler: Broadcasting large task binary with size 1130.8 KiB\n",
      "25/05/10 21:29:56 WARN DAGScheduler: Broadcasting large task binary with size 1130.9 KiB\n",
      "25/05/10 21:29:57 WARN DAGScheduler: Broadcasting large task binary with size 1130.9 KiB\n",
      "25/05/10 21:29:57 WARN DAGScheduler: Broadcasting large task binary with size 1130.9 KiB\n",
      "25/05/10 21:29:57 WARN DAGScheduler: Broadcasting large task binary with size 1130.8 KiB\n",
      "25/05/10 21:29:57 WARN DAGScheduler: Broadcasting large task binary with size 1130.8 KiB\n",
      "25/05/10 21:29:57 WARN DAGScheduler: Broadcasting large task binary with size 1130.9 KiB\n",
      "25/05/10 21:29:57 WARN DAGScheduler: Broadcasting large task binary with size 1130.8 KiB\n",
      "25/05/10 21:29:57 WARN DAGScheduler: Broadcasting large task binary with size 1129.6 KiB\n",
      "25/05/10 21:29:57 WARN DAGScheduler: Broadcasting large task binary with size 1130.8 KiB\n",
      "25/05/10 21:29:57 WARN DAGScheduler: Broadcasting large task binary with size 1130.9 KiB\n",
      "25/05/10 21:29:57 WARN DAGScheduler: Broadcasting large task binary with size 1130.9 KiB\n",
      "25/05/10 21:29:57 WARN DAGScheduler: Broadcasting large task binary with size 1130.9 KiB\n",
      "25/05/10 21:29:57 WARN DAGScheduler: Broadcasting large task binary with size 1130.8 KiB\n",
      "25/05/10 21:29:57 WARN DAGScheduler: Broadcasting large task binary with size 1130.8 KiB\n",
      "25/05/10 21:29:57 WARN DAGScheduler: Broadcasting large task binary with size 1130.8 KiB\n"
     ]
    },
    {
     "name": "stderr",
     "output_type": "stream",
     "text": [
      "[Stage 3957:> (0 + 2) / 2][Stage 3958:> (0 + 0) / 2][Stage 3959:> (0 + 0) / 2]"
     ]
    },
    {
     "name": "stdout",
     "output_type": "stream",
     "text": [
      "25/05/10 21:29:57 WARN DAGScheduler: Broadcasting large task binary with size 1129.7 KiB\n"
     ]
    },
    {
     "name": "stderr",
     "output_type": "stream",
     "text": [
      "                                                                                "
     ]
    },
    {
     "name": "stdout",
     "output_type": "stream",
     "text": [
      "25/05/10 21:30:01 WARN DAGScheduler: Broadcasting large task binary with size 1130.8 KiB\n",
      "25/05/10 21:30:01 WARN DAGScheduler: Broadcasting large task binary with size 1130.8 KiB\n",
      "25/05/10 21:30:02 WARN DAGScheduler: Broadcasting large task binary with size 1130.9 KiB\n",
      "25/05/10 21:30:02 WARN DAGScheduler: Broadcasting large task binary with size 1130.9 KiB\n",
      "25/05/10 21:30:02 WARN DAGScheduler: Broadcasting large task binary with size 1130.8 KiB\n",
      "25/05/10 21:30:02 WARN DAGScheduler: Broadcasting large task binary with size 1130.8 KiB\n",
      "25/05/10 21:30:02 WARN DAGScheduler: Broadcasting large task binary with size 1130.8 KiB\n",
      "25/05/10 21:30:02 WARN DAGScheduler: Broadcasting large task binary with size 1130.9 KiB\n"
     ]
    },
    {
     "name": "stderr",
     "output_type": "stream",
     "text": [
      "                                                                                "
     ]
    },
    {
     "name": "stdout",
     "output_type": "stream",
     "text": [
      "25/05/10 21:30:06 WARN DAGScheduler: Broadcasting large task binary with size 1130.9 KiB\n"
     ]
    },
    {
     "name": "stderr",
     "output_type": "stream",
     "text": [
      "                                                                                "
     ]
    },
    {
     "name": "stdout",
     "output_type": "stream",
     "text": [
      "25/05/10 21:30:11 WARN DAGScheduler: Broadcasting large task binary with size 1130.8 KiB\n",
      "25/05/10 21:30:11 WARN DAGScheduler: Broadcasting large task binary with size 1130.9 KiB\n",
      "25/05/10 21:30:11 WARN DAGScheduler: Broadcasting large task binary with size 1130.8 KiB\n",
      "25/05/10 21:30:11 WARN DAGScheduler: Broadcasting large task binary with size 1130.8 KiB\n",
      "25/05/10 21:30:11 WARN DAGScheduler: Broadcasting large task binary with size 1130.9 KiB\n",
      "25/05/10 21:30:11 WARN DAGScheduler: Broadcasting large task binary with size 1130.8 KiB\n",
      "25/05/10 21:30:11 WARN DAGScheduler: Broadcasting large task binary with size 1130.8 KiB\n",
      "25/05/10 21:30:11 WARN DAGScheduler: Broadcasting large task binary with size 1130.9 KiB\n"
     ]
    },
    {
     "name": "stderr",
     "output_type": "stream",
     "text": [
      "                                                                                "
     ]
    },
    {
     "name": "stdout",
     "output_type": "stream",
     "text": [
      "25/05/10 21:30:16 WARN DAGScheduler: Broadcasting large task binary with size 1130.9 KiB\n",
      "25/05/10 21:30:16 WARN DAGScheduler: Broadcasting large task binary with size 1130.9 KiB\n",
      "25/05/10 21:30:16 WARN DAGScheduler: Broadcasting large task binary with size 1130.8 KiB\n",
      "25/05/10 21:30:16 WARN DAGScheduler: Broadcasting large task binary with size 1130.8 KiB\n",
      "25/05/10 21:30:16 WARN DAGScheduler: Broadcasting large task binary with size 1130.8 KiB\n",
      "25/05/10 21:30:16 WARN DAGScheduler: Broadcasting large task binary with size 1130.9 KiB\n",
      "25/05/10 21:30:16 WARN DAGScheduler: Broadcasting large task binary with size 1130.8 KiB\n",
      "25/05/10 21:30:16 WARN DAGScheduler: Broadcasting large task binary with size 1130.8 KiB\n",
      "25/05/10 21:30:16 WARN DAGScheduler: Broadcasting large task binary with size 1130.9 KiB\n",
      "25/05/10 21:30:16 WARN DAGScheduler: Broadcasting large task binary with size 1130.9 KiB\n",
      "25/05/10 21:30:16 WARN DAGScheduler: Broadcasting large task binary with size 1130.9 KiB\n",
      "25/05/10 21:30:16 WARN DAGScheduler: Broadcasting large task binary with size 1130.9 KiB\n",
      "25/05/10 21:30:16 WARN DAGScheduler: Broadcasting large task binary with size 1130.8 KiB\n",
      "25/05/10 21:30:16 WARN DAGScheduler: Broadcasting large task binary with size 1130.8 KiB\n",
      "25/05/10 21:30:16 WARN DAGScheduler: Broadcasting large task binary with size 1130.8 KiB\n",
      "25/05/10 21:30:16 WARN DAGScheduler: Broadcasting large task binary with size 1130.8 KiB\n",
      "25/05/10 21:30:16 WARN DAGScheduler: Broadcasting large task binary with size 1130.9 KiB\n",
      "25/05/10 21:30:16 WARN DAGScheduler: Broadcasting large task binary with size 1130.8 KiB\n",
      "25/05/10 21:30:17 WARN DAGScheduler: Broadcasting large task binary with size 1130.9 KiB\n",
      "25/05/10 21:30:17 WARN DAGScheduler: Broadcasting large task binary with size 1130.9 KiB\n",
      "25/05/10 21:30:17 WARN DAGScheduler: Broadcasting large task binary with size 1130.8 KiB\n",
      "25/05/10 21:30:17 WARN DAGScheduler: Broadcasting large task binary with size 1130.9 KiB\n",
      "25/05/10 21:30:17 WARN DAGScheduler: Broadcasting large task binary with size 1130.8 KiB\n",
      "25/05/10 21:30:17 WARN DAGScheduler: Broadcasting large task binary with size 1130.8 KiB\n",
      "25/05/10 21:30:17 WARN DAGScheduler: Broadcasting large task binary with size 1130.8 KiB\n",
      "25/05/10 21:30:17 WARN DAGScheduler: Broadcasting large task binary with size 1130.9 KiB\n",
      "25/05/10 21:30:17 WARN DAGScheduler: Broadcasting large task binary with size 1130.8 KiB\n",
      "25/05/10 21:30:17 WARN DAGScheduler: Broadcasting large task binary with size 1130.9 KiB\n",
      "25/05/10 21:30:17 WARN DAGScheduler: Broadcasting large task binary with size 1130.9 KiB\n",
      "25/05/10 21:30:17 WARN DAGScheduler: Broadcasting large task binary with size 1130.8 KiB\n",
      "25/05/10 21:30:17 WARN DAGScheduler: Broadcasting large task binary with size 1130.9 KiB\n",
      "25/05/10 21:30:17 WARN DAGScheduler: Broadcasting large task binary with size 1130.8 KiB\n",
      "25/05/10 21:30:17 WARN DAGScheduler: Broadcasting large task binary with size 1130.8 KiB\n",
      "25/05/10 21:30:17 WARN DAGScheduler: Broadcasting large task binary with size 1130.9 KiB\n",
      "25/05/10 21:30:17 WARN DAGScheduler: Broadcasting large task binary with size 1130.8 KiB\n",
      "25/05/10 21:30:17 WARN DAGScheduler: Broadcasting large task binary with size 1130.8 KiB\n",
      "25/05/10 21:30:17 WARN DAGScheduler: Broadcasting large task binary with size 1130.9 KiB\n",
      "25/05/10 21:30:17 WARN DAGScheduler: Broadcasting large task binary with size 1130.8 KiB\n",
      "25/05/10 21:30:17 WARN DAGScheduler: Broadcasting large task binary with size 1130.9 KiB\n",
      "25/05/10 21:30:17 WARN DAGScheduler: Broadcasting large task binary with size 1130.9 KiB\n",
      "25/05/10 21:30:17 WARN DAGScheduler: Broadcasting large task binary with size 1130.8 KiB\n",
      "25/05/10 21:30:17 WARN DAGScheduler: Broadcasting large task binary with size 1130.9 KiB\n",
      "25/05/10 21:30:17 WARN DAGScheduler: Broadcasting large task binary with size 1130.8 KiB\n",
      "25/05/10 21:30:17 WARN DAGScheduler: Broadcasting large task binary with size 1130.8 KiB\n",
      "25/05/10 21:30:18 WARN DAGScheduler: Broadcasting large task binary with size 1130.9 KiB\n",
      "25/05/10 21:30:18 WARN DAGScheduler: Broadcasting large task binary with size 1130.8 KiB\n",
      "25/05/10 21:30:18 WARN DAGScheduler: Broadcasting large task binary with size 1130.8 KiB\n",
      "25/05/10 21:30:18 WARN DAGScheduler: Broadcasting large task binary with size 1130.9 KiB\n",
      "25/05/10 21:30:18 WARN DAGScheduler: Broadcasting large task binary with size 1130.9 KiB\n",
      "25/05/10 21:30:18 WARN DAGScheduler: Broadcasting large task binary with size 1130.8 KiB\n",
      "25/05/10 21:30:18 WARN DAGScheduler: Broadcasting large task binary with size 1130.8 KiB\n",
      "25/05/10 21:30:18 WARN DAGScheduler: Broadcasting large task binary with size 1130.9 KiB\n",
      "25/05/10 21:30:18 WARN DAGScheduler: Broadcasting large task binary with size 1130.9 KiB\n",
      "25/05/10 21:30:18 WARN DAGScheduler: Broadcasting large task binary with size 1130.8 KiB\n",
      "25/05/10 21:30:18 WARN DAGScheduler: Broadcasting large task binary with size 1130.9 KiB\n",
      "25/05/10 21:30:18 WARN DAGScheduler: Broadcasting large task binary with size 1130.8 KiB\n",
      "25/05/10 21:30:18 WARN DAGScheduler: Broadcasting large task binary with size 1130.8 KiB\n",
      "25/05/10 21:30:18 WARN DAGScheduler: Broadcasting large task binary with size 1130.8 KiB\n",
      "25/05/10 21:30:18 WARN DAGScheduler: Broadcasting large task binary with size 1130.9 KiB\n",
      "25/05/10 21:30:18 WARN DAGScheduler: Broadcasting large task binary with size 1130.8 KiB\n",
      "25/05/10 21:30:18 WARN DAGScheduler: Broadcasting large task binary with size 1130.8 KiB\n",
      "25/05/10 21:30:18 WARN DAGScheduler: Broadcasting large task binary with size 1130.9 KiB\n",
      "25/05/10 21:30:18 WARN DAGScheduler: Broadcasting large task binary with size 1130.8 KiB\n",
      "25/05/10 21:30:18 WARN DAGScheduler: Broadcasting large task binary with size 1130.9 KiB\n",
      "25/05/10 21:30:19 WARN DAGScheduler: Broadcasting large task binary with size 1130.8 KiB\n",
      "25/05/10 21:30:19 WARN DAGScheduler: Broadcasting large task binary with size 1130.9 KiB\n",
      "25/05/10 21:30:19 WARN DAGScheduler: Broadcasting large task binary with size 1130.8 KiB\n",
      "25/05/10 21:30:19 WARN DAGScheduler: Broadcasting large task binary with size 1130.9 KiB\n",
      "25/05/10 21:30:19 WARN DAGScheduler: Broadcasting large task binary with size 1130.8 KiB\n",
      "25/05/10 21:30:19 WARN DAGScheduler: Broadcasting large task binary with size 1130.8 KiB\n",
      "25/05/10 21:30:19 WARN DAGScheduler: Broadcasting large task binary with size 1130.8 KiB\n",
      "25/05/10 21:30:19 WARN DAGScheduler: Broadcasting large task binary with size 1130.9 KiB\n",
      "25/05/10 21:30:19 WARN DAGScheduler: Broadcasting large task binary with size 1130.9 KiB\n",
      "25/05/10 21:30:19 WARN DAGScheduler: Broadcasting large task binary with size 1130.8 KiB\n",
      "25/05/10 21:30:19 WARN DAGScheduler: Broadcasting large task binary with size 1130.9 KiB\n",
      "25/05/10 21:30:19 WARN DAGScheduler: Broadcasting large task binary with size 1130.8 KiB\n",
      "25/05/10 21:30:19 WARN DAGScheduler: Broadcasting large task binary with size 1130.9 KiB\n",
      "25/05/10 21:30:19 WARN DAGScheduler: Broadcasting large task binary with size 1130.8 KiB\n",
      "25/05/10 21:30:19 WARN DAGScheduler: Broadcasting large task binary with size 1130.8 KiB\n",
      "25/05/10 21:30:19 WARN DAGScheduler: Broadcasting large task binary with size 1130.8 KiB\n",
      "25/05/10 21:30:19 WARN DAGScheduler: Broadcasting large task binary with size 1130.9 KiB\n",
      "25/05/10 21:30:19 WARN DAGScheduler: Broadcasting large task binary with size 1130.8 KiB\n",
      "25/05/10 21:30:19 WARN DAGScheduler: Broadcasting large task binary with size 1130.9 KiB\n",
      "25/05/10 21:30:19 WARN DAGScheduler: Broadcasting large task binary with size 1130.9 KiB\n",
      "25/05/10 21:30:19 WARN DAGScheduler: Broadcasting large task binary with size 1130.9 KiB\n",
      "25/05/10 21:30:19 WARN DAGScheduler: Broadcasting large task binary with size 1130.8 KiB\n",
      "25/05/10 21:30:19 WARN DAGScheduler: Broadcasting large task binary with size 1130.8 KiB\n",
      "25/05/10 21:30:19 WARN DAGScheduler: Broadcasting large task binary with size 1130.8 KiB\n",
      "25/05/10 21:30:19 WARN DAGScheduler: Broadcasting large task binary with size 1130.8 KiB\n",
      "25/05/10 21:30:19 WARN DAGScheduler: Broadcasting large task binary with size 1130.9 KiB\n",
      "25/05/10 21:30:20 WARN DAGScheduler: Broadcasting large task binary with size 1130.8 KiB\n",
      "25/05/10 21:30:20 WARN DAGScheduler: Broadcasting large task binary with size 1130.9 KiB\n",
      "25/05/10 21:30:20 WARN DAGScheduler: Broadcasting large task binary with size 1130.9 KiB\n",
      "25/05/10 21:30:20 WARN DAGScheduler: Broadcasting large task binary with size 1130.9 KiB\n",
      "25/05/10 21:30:20 WARN DAGScheduler: Broadcasting large task binary with size 1130.8 KiB\n",
      "25/05/10 21:30:20 WARN DAGScheduler: Broadcasting large task binary with size 1130.8 KiB\n",
      "25/05/10 21:30:20 WARN DAGScheduler: Broadcasting large task binary with size 1130.8 KiB\n",
      "25/05/10 21:30:20 WARN DAGScheduler: Broadcasting large task binary with size 1130.8 KiB\n",
      "25/05/10 21:30:20 WARN DAGScheduler: Broadcasting large task binary with size 1130.9 KiB\n",
      "25/05/10 21:30:20 WARN DAGScheduler: Broadcasting large task binary with size 1130.8 KiB\n",
      "25/05/10 21:30:20 WARN DAGScheduler: Broadcasting large task binary with size 1130.9 KiB\n",
      "25/05/10 21:30:20 WARN DAGScheduler: Broadcasting large task binary with size 1130.9 KiB\n",
      "25/05/10 21:30:21 WARN DAGScheduler: Broadcasting large task binary with size 1130.9 KiB\n",
      "25/05/10 21:30:21 WARN DAGScheduler: Broadcasting large task binary with size 1130.8 KiB\n",
      "25/05/10 21:30:21 WARN DAGScheduler: Broadcasting large task binary with size 1130.8 KiB\n",
      "25/05/10 21:30:21 WARN DAGScheduler: Broadcasting large task binary with size 1130.8 KiB\n",
      "25/05/10 21:30:21 WARN DAGScheduler: Broadcasting large task binary with size 1130.8 KiB\n",
      "25/05/10 21:30:21 WARN DAGScheduler: Broadcasting large task binary with size 1130.9 KiB\n",
      "25/05/10 21:30:21 WARN DAGScheduler: Broadcasting large task binary with size 1130.8 KiB\n",
      "25/05/10 21:30:21 WARN DAGScheduler: Broadcasting large task binary with size 1130.9 KiB\n",
      "25/05/10 21:30:21 WARN DAGScheduler: Broadcasting large task binary with size 1130.9 KiB\n",
      "25/05/10 21:30:21 WARN DAGScheduler: Broadcasting large task binary with size 1130.9 KiB\n",
      "25/05/10 21:30:21 WARN DAGScheduler: Broadcasting large task binary with size 1130.8 KiB\n",
      "25/05/10 21:30:21 WARN DAGScheduler: Broadcasting large task binary with size 1130.8 KiB\n",
      "25/05/10 21:30:21 WARN DAGScheduler: Broadcasting large task binary with size 1130.8 KiB\n",
      "25/05/10 21:30:21 WARN DAGScheduler: Broadcasting large task binary with size 1130.9 KiB\n",
      "25/05/10 21:30:21 WARN DAGScheduler: Broadcasting large task binary with size 1130.8 KiB\n",
      "25/05/10 21:30:21 WARN DAGScheduler: Broadcasting large task binary with size 1130.9 KiB\n",
      "25/05/10 21:30:21 WARN DAGScheduler: Broadcasting large task binary with size 1130.9 KiB\n",
      "25/05/10 21:30:21 WARN DAGScheduler: Broadcasting large task binary with size 1130.9 KiB\n",
      "25/05/10 21:30:21 WARN DAGScheduler: Broadcasting large task binary with size 1130.8 KiB\n",
      "25/05/10 21:30:21 WARN DAGScheduler: Broadcasting large task binary with size 1130.8 KiB\n",
      "25/05/10 21:30:21 WARN DAGScheduler: Broadcasting large task binary with size 1130.8 KiB\n",
      "25/05/10 21:30:21 WARN DAGScheduler: Broadcasting large task binary with size 1130.9 KiB\n",
      "25/05/10 21:30:21 WARN DAGScheduler: Broadcasting large task binary with size 1130.9 KiB\n",
      "25/05/10 21:30:21 WARN DAGScheduler: Broadcasting large task binary with size 1130.9 KiB\n",
      "25/05/10 21:30:21 WARN DAGScheduler: Broadcasting large task binary with size 1130.9 KiB\n",
      "25/05/10 21:30:22 WARN DAGScheduler: Broadcasting large task binary with size 1129.6 KiB\n",
      "25/05/10 21:30:22 WARN DAGScheduler: Broadcasting large task binary with size 1130.8 KiB\n",
      "25/05/10 21:30:22 WARN DAGScheduler: Broadcasting large task binary with size 1130.8 KiB\n",
      "25/05/10 21:30:22 WARN DAGScheduler: Broadcasting large task binary with size 1130.9 KiB\n",
      "25/05/10 21:30:22 WARN DAGScheduler: Broadcasting large task binary with size 1130.9 KiB\n",
      "25/05/10 21:30:22 WARN DAGScheduler: Broadcasting large task binary with size 1130.9 KiB\n",
      "25/05/10 21:30:22 WARN DAGScheduler: Broadcasting large task binary with size 1130.9 KiB\n",
      "25/05/10 21:30:22 WARN DAGScheduler: Broadcasting large task binary with size 1129.6 KiB\n",
      "25/05/10 21:30:22 WARN DAGScheduler: Broadcasting large task binary with size 1129.6 KiB\n"
     ]
    },
    {
     "name": "stderr",
     "output_type": "stream",
     "text": [
      "                                                                                "
     ]
    },
    {
     "name": "stdout",
     "output_type": "stream",
     "text": [
      "25/05/10 21:30:26 WARN DAGScheduler: Broadcasting large task binary with size 1130.8 KiB\n",
      "25/05/10 21:30:26 WARN DAGScheduler: Broadcasting large task binary with size 1130.8 KiB\n",
      "25/05/10 21:30:26 WARN DAGScheduler: Broadcasting large task binary with size 1130.8 KiB\n",
      "25/05/10 21:30:27 WARN DAGScheduler: Broadcasting large task binary with size 1130.9 KiB\n",
      "25/05/10 21:30:27 WARN DAGScheduler: Broadcasting large task binary with size 1130.9 KiB\n",
      "25/05/10 21:30:27 WARN DAGScheduler: Broadcasting large task binary with size 1130.9 KiB\n",
      "25/05/10 21:30:27 WARN DAGScheduler: Broadcasting large task binary with size 1130.9 KiB\n"
     ]
    },
    {
     "name": "stderr",
     "output_type": "stream",
     "text": [
      "                                                                                "
     ]
    },
    {
     "name": "stdout",
     "output_type": "stream",
     "text": [
      "25/05/10 21:30:31 WARN DAGScheduler: Broadcasting large task binary with size 1130.8 KiB\n"
     ]
    },
    {
     "name": "stderr",
     "output_type": "stream",
     "text": [
      "                                                                                "
     ]
    },
    {
     "name": "stdout",
     "output_type": "stream",
     "text": [
      "25/05/10 21:30:36 WARN DAGScheduler: Broadcasting large task binary with size 1130.8 KiB\n"
     ]
    },
    {
     "name": "stderr",
     "output_type": "stream",
     "text": [
      "                                                                                "
     ]
    },
    {
     "name": "stdout",
     "output_type": "stream",
     "text": [
      "25/05/10 21:30:40 WARN DAGScheduler: Broadcasting large task binary with size 1130.8 KiB\n",
      "25/05/10 21:30:40 WARN DAGScheduler: Broadcasting large task binary with size 1130.8 KiB\n",
      "25/05/10 21:30:40 WARN DAGScheduler: Broadcasting large task binary with size 1130.8 KiB\n",
      "25/05/10 21:30:41 WARN DAGScheduler: Broadcasting large task binary with size 1130.9 KiB\n",
      "25/05/10 21:30:41 WARN DAGScheduler: Broadcasting large task binary with size 1130.9 KiB\n",
      "25/05/10 21:30:41 WARN DAGScheduler: Broadcasting large task binary with size 1130.9 KiB\n",
      "25/05/10 21:30:41 WARN DAGScheduler: Broadcasting large task binary with size 1130.9 KiB\n"
     ]
    },
    {
     "name": "stderr",
     "output_type": "stream",
     "text": [
      "                                                                                "
     ]
    },
    {
     "name": "stdout",
     "output_type": "stream",
     "text": [
      "25/05/10 21:30:45 WARN DAGScheduler: Broadcasting large task binary with size 1130.8 KiB\n"
     ]
    },
    {
     "name": "stderr",
     "output_type": "stream",
     "text": [
      "                                                                                "
     ]
    },
    {
     "name": "stdout",
     "output_type": "stream",
     "text": [
      "25/05/10 21:30:50 WARN DAGScheduler: Broadcasting large task binary with size 1130.8 KiB\n",
      "25/05/10 21:30:50 WARN DAGScheduler: Broadcasting large task binary with size 1130.8 KiB\n",
      "25/05/10 21:30:50 WARN DAGScheduler: Broadcasting large task binary with size 1130.8 KiB\n",
      "25/05/10 21:30:50 WARN DAGScheduler: Broadcasting large task binary with size 1130.9 KiB\n",
      "25/05/10 21:30:50 WARN DAGScheduler: Broadcasting large task binary with size 1130.8 KiB\n",
      "25/05/10 21:30:50 WARN DAGScheduler: Broadcasting large task binary with size 1130.9 KiB\n",
      "25/05/10 21:30:50 WARN DAGScheduler: Broadcasting large task binary with size 1130.9 KiB\n",
      "25/05/10 21:30:50 WARN DAGScheduler: Broadcasting large task binary with size 1130.8 KiB\n",
      "25/05/10 21:30:50 WARN DAGScheduler: Broadcasting large task binary with size 1130.9 KiB\n",
      "25/05/10 21:30:50 WARN DAGScheduler: Broadcasting large task binary with size 1130.8 KiB\n",
      "25/05/10 21:30:50 WARN DAGScheduler: Broadcasting large task binary with size 1130.8 KiB\n",
      "25/05/10 21:30:50 WARN DAGScheduler: Broadcasting large task binary with size 1130.8 KiB\n",
      "25/05/10 21:30:50 WARN DAGScheduler: Broadcasting large task binary with size 1130.9 KiB\n",
      "25/05/10 21:30:50 WARN DAGScheduler: Broadcasting large task binary with size 1130.8 KiB\n",
      "25/05/10 21:30:50 WARN DAGScheduler: Broadcasting large task binary with size 1130.9 KiB\n",
      "25/05/10 21:30:50 WARN DAGScheduler: Broadcasting large task binary with size 1130.9 KiB\n",
      "25/05/10 21:30:51 WARN DAGScheduler: Broadcasting large task binary with size 1130.8 KiB\n",
      "25/05/10 21:30:51 WARN DAGScheduler: Broadcasting large task binary with size 1130.9 KiB\n",
      "25/05/10 21:30:51 WARN DAGScheduler: Broadcasting large task binary with size 1130.8 KiB\n",
      "25/05/10 21:30:51 WARN DAGScheduler: Broadcasting large task binary with size 1130.8 KiB\n",
      "25/05/10 21:30:51 WARN DAGScheduler: Broadcasting large task binary with size 1130.8 KiB\n",
      "25/05/10 21:30:51 WARN DAGScheduler: Broadcasting large task binary with size 1130.9 KiB\n",
      "25/05/10 21:30:51 WARN DAGScheduler: Broadcasting large task binary with size 1130.9 KiB\n",
      "25/05/10 21:30:51 WARN DAGScheduler: Broadcasting large task binary with size 1130.8 KiB\n",
      "25/05/10 21:30:51 WARN DAGScheduler: Broadcasting large task binary with size 1130.9 KiB\n",
      "25/05/10 21:30:51 WARN DAGScheduler: Broadcasting large task binary with size 1130.8 KiB\n",
      "25/05/10 21:30:51 WARN DAGScheduler: Broadcasting large task binary with size 1130.8 KiB\n",
      "25/05/10 21:30:51 WARN DAGScheduler: Broadcasting large task binary with size 1130.8 KiB\n",
      "25/05/10 21:30:51 WARN DAGScheduler: Broadcasting large task binary with size 1130.9 KiB\n",
      "25/05/10 21:30:51 WARN DAGScheduler: Broadcasting large task binary with size 1130.8 KiB\n",
      "25/05/10 21:30:51 WARN DAGScheduler: Broadcasting large task binary with size 1130.9 KiB\n",
      "25/05/10 21:30:51 WARN DAGScheduler: Broadcasting large task binary with size 1130.9 KiB\n",
      "25/05/10 21:30:51 WARN DAGScheduler: Broadcasting large task binary with size 1130.8 KiB\n",
      "25/05/10 21:30:51 WARN DAGScheduler: Broadcasting large task binary with size 1130.8 KiB\n",
      "25/05/10 21:30:51 WARN DAGScheduler: Broadcasting large task binary with size 1130.8 KiB\n",
      "25/05/10 21:30:51 WARN DAGScheduler: Broadcasting large task binary with size 1130.9 KiB\n",
      "25/05/10 21:30:51 WARN DAGScheduler: Broadcasting large task binary with size 1130.8 KiB\n",
      "25/05/10 21:30:51 WARN DAGScheduler: Broadcasting large task binary with size 1130.9 KiB\n",
      "25/05/10 21:30:51 WARN DAGScheduler: Broadcasting large task binary with size 1130.8 KiB\n",
      "25/05/10 21:30:51 WARN DAGScheduler: Broadcasting large task binary with size 1130.9 KiB\n",
      "25/05/10 21:30:52 WARN DAGScheduler: Broadcasting large task binary with size 1130.8 KiB\n",
      "25/05/10 21:30:52 WARN DAGScheduler: Broadcasting large task binary with size 1130.8 KiB\n",
      "25/05/10 21:30:52 WARN DAGScheduler: Broadcasting large task binary with size 1130.8 KiB\n",
      "25/05/10 21:30:52 WARN DAGScheduler: Broadcasting large task binary with size 1130.9 KiB\n",
      "25/05/10 21:30:52 WARN DAGScheduler: Broadcasting large task binary with size 1130.9 KiB\n",
      "25/05/10 21:30:52 WARN DAGScheduler: Broadcasting large task binary with size 1130.9 KiB\n",
      "25/05/10 21:30:52 WARN DAGScheduler: Broadcasting large task binary with size 1130.8 KiB\n",
      "25/05/10 21:30:52 WARN DAGScheduler: Broadcasting large task binary with size 1130.8 KiB\n",
      "25/05/10 21:30:52 WARN DAGScheduler: Broadcasting large task binary with size 1130.8 KiB\n",
      "25/05/10 21:30:52 WARN DAGScheduler: Broadcasting large task binary with size 1130.9 KiB\n",
      "25/05/10 21:30:52 WARN DAGScheduler: Broadcasting large task binary with size 1130.8 KiB\n",
      "25/05/10 21:30:52 WARN DAGScheduler: Broadcasting large task binary with size 1130.8 KiB\n",
      "25/05/10 21:30:52 WARN DAGScheduler: Broadcasting large task binary with size 1130.8 KiB\n",
      "25/05/10 21:30:52 WARN DAGScheduler: Broadcasting large task binary with size 1130.9 KiB\n",
      "25/05/10 21:30:52 WARN DAGScheduler: Broadcasting large task binary with size 1130.9 KiB\n",
      "25/05/10 21:30:52 WARN DAGScheduler: Broadcasting large task binary with size 1130.8 KiB\n",
      "25/05/10 21:30:52 WARN DAGScheduler: Broadcasting large task binary with size 1130.8 KiB\n",
      "25/05/10 21:30:52 WARN DAGScheduler: Broadcasting large task binary with size 1130.8 KiB\n",
      "25/05/10 21:30:52 WARN DAGScheduler: Broadcasting large task binary with size 1130.9 KiB\n",
      "25/05/10 21:30:52 WARN DAGScheduler: Broadcasting large task binary with size 1130.9 KiB\n",
      "25/05/10 21:30:52 WARN DAGScheduler: Broadcasting large task binary with size 1130.8 KiB\n",
      "25/05/10 21:30:52 WARN DAGScheduler: Broadcasting large task binary with size 1130.8 KiB\n",
      "25/05/10 21:30:52 WARN DAGScheduler: Broadcasting large task binary with size 1130.8 KiB\n",
      "25/05/10 21:30:53 WARN DAGScheduler: Broadcasting large task binary with size 1130.9 KiB\n",
      "25/05/10 21:30:53 WARN DAGScheduler: Broadcasting large task binary with size 1130.8 KiB\n",
      "25/05/10 21:30:53 WARN DAGScheduler: Broadcasting large task binary with size 1130.9 KiB\n",
      "25/05/10 21:30:53 WARN DAGScheduler: Broadcasting large task binary with size 1130.9 KiB\n",
      "25/05/10 21:30:53 WARN DAGScheduler: Broadcasting large task binary with size 1130.8 KiB\n",
      "25/05/10 21:30:53 WARN DAGScheduler: Broadcasting large task binary with size 1130.9 KiB\n",
      "25/05/10 21:30:53 WARN DAGScheduler: Broadcasting large task binary with size 1130.8 KiB\n",
      "25/05/10 21:30:53 WARN DAGScheduler: Broadcasting large task binary with size 1130.8 KiB\n",
      "25/05/10 21:30:53 WARN DAGScheduler: Broadcasting large task binary with size 1130.9 KiB\n",
      "25/05/10 21:30:53 WARN DAGScheduler: Broadcasting large task binary with size 1130.8 KiB\n",
      "25/05/10 21:30:53 WARN DAGScheduler: Broadcasting large task binary with size 1129.6 KiB\n",
      "25/05/10 21:30:53 WARN DAGScheduler: Broadcasting large task binary with size 1130.9 KiB\n",
      "25/05/10 21:30:53 WARN DAGScheduler: Broadcasting large task binary with size 1130.8 KiB\n",
      "25/05/10 21:30:53 WARN DAGScheduler: Broadcasting large task binary with size 1130.9 KiB\n",
      "25/05/10 21:30:53 WARN DAGScheduler: Broadcasting large task binary with size 1130.9 KiB\n",
      "25/05/10 21:30:53 WARN DAGScheduler: Broadcasting large task binary with size 1130.8 KiB\n",
      "25/05/10 21:30:53 WARN DAGScheduler: Broadcasting large task binary with size 1130.8 KiB\n",
      "25/05/10 21:30:53 WARN DAGScheduler: Broadcasting large task binary with size 1130.8 KiB\n",
      "25/05/10 21:30:53 WARN DAGScheduler: Broadcasting large task binary with size 1129.7 KiB\n"
     ]
    },
    {
     "name": "stderr",
     "output_type": "stream",
     "text": [
      "                                                                                "
     ]
    },
    {
     "name": "stdout",
     "output_type": "stream",
     "text": [
      "25/05/10 21:30:58 WARN DAGScheduler: Broadcasting large task binary with size 1130.8 KiB\n",
      "25/05/10 21:30:58 WARN DAGScheduler: Broadcasting large task binary with size 1130.9 KiB\n",
      "25/05/10 21:30:58 WARN DAGScheduler: Broadcasting large task binary with size 1130.8 KiB\n",
      "25/05/10 21:30:58 WARN DAGScheduler: Broadcasting large task binary with size 1130.9 KiB\n",
      "25/05/10 21:30:58 WARN DAGScheduler: Broadcasting large task binary with size 1130.9 KiB\n",
      "25/05/10 21:30:58 WARN DAGScheduler: Broadcasting large task binary with size 1130.8 KiB\n",
      "25/05/10 21:30:58 WARN DAGScheduler: Broadcasting large task binary with size 1130.8 KiB\n",
      "25/05/10 21:30:58 WARN DAGScheduler: Broadcasting large task binary with size 1130.8 KiB\n"
     ]
    },
    {
     "name": "stderr",
     "output_type": "stream",
     "text": [
      "                                                                                "
     ]
    },
    {
     "name": "stdout",
     "output_type": "stream",
     "text": [
      "25/05/10 21:31:03 WARN DAGScheduler: Broadcasting large task binary with size 1130.9 KiB\n"
     ]
    },
    {
     "name": "stderr",
     "output_type": "stream",
     "text": [
      "                                                                                "
     ]
    },
    {
     "name": "stdout",
     "output_type": "stream",
     "text": [
      "25/05/10 21:31:07 WARN DAGScheduler: Broadcasting large task binary with size 1130.8 KiB\n",
      "25/05/10 21:31:07 WARN DAGScheduler: Broadcasting large task binary with size 1130.9 KiB\n",
      "25/05/10 21:31:07 WARN DAGScheduler: Broadcasting large task binary with size 1130.8 KiB\n",
      "25/05/10 21:31:08 WARN DAGScheduler: Broadcasting large task binary with size 1130.9 KiB\n",
      "25/05/10 21:31:08 WARN DAGScheduler: Broadcasting large task binary with size 1130.8 KiB\n",
      "25/05/10 21:31:08 WARN DAGScheduler: Broadcasting large task binary with size 1130.8 KiB\n",
      "25/05/10 21:31:08 WARN DAGScheduler: Broadcasting large task binary with size 1130.9 KiB\n",
      "25/05/10 21:31:08 WARN DAGScheduler: Broadcasting large task binary with size 1130.8 KiB\n"
     ]
    },
    {
     "name": "stderr",
     "output_type": "stream",
     "text": [
      "                                                                                "
     ]
    },
    {
     "name": "stdout",
     "output_type": "stream",
     "text": [
      "25/05/10 21:31:12 WARN DAGScheduler: Broadcasting large task binary with size 1130.9 KiB\n",
      "25/05/10 21:31:12 WARN DAGScheduler: Broadcasting large task binary with size 1130.8 KiB\n",
      "25/05/10 21:31:12 WARN DAGScheduler: Broadcasting large task binary with size 1130.9 KiB\n",
      "25/05/10 21:31:12 WARN DAGScheduler: Broadcasting large task binary with size 1130.8 KiB\n",
      "25/05/10 21:31:13 WARN DAGScheduler: Broadcasting large task binary with size 1130.9 KiB\n",
      "25/05/10 21:31:13 WARN DAGScheduler: Broadcasting large task binary with size 1130.8 KiB\n",
      "25/05/10 21:31:13 WARN DAGScheduler: Broadcasting large task binary with size 1130.8 KiB\n",
      "25/05/10 21:31:13 WARN DAGScheduler: Broadcasting large task binary with size 1130.9 KiB\n",
      "25/05/10 21:31:13 WARN DAGScheduler: Broadcasting large task binary with size 1130.8 KiB\n",
      "25/05/10 21:31:13 WARN DAGScheduler: Broadcasting large task binary with size 1130.9 KiB\n",
      "25/05/10 21:31:13 WARN DAGScheduler: Broadcasting large task binary with size 1130.8 KiB\n",
      "25/05/10 21:31:13 WARN DAGScheduler: Broadcasting large task binary with size 1130.9 KiB\n",
      "25/05/10 21:31:13 WARN DAGScheduler: Broadcasting large task binary with size 1130.8 KiB\n",
      "25/05/10 21:31:13 WARN DAGScheduler: Broadcasting large task binary with size 1130.8 KiB\n",
      "25/05/10 21:31:13 WARN DAGScheduler: Broadcasting large task binary with size 1130.9 KiB\n",
      "25/05/10 21:31:13 WARN DAGScheduler: Broadcasting large task binary with size 1130.9 KiB\n",
      "25/05/10 21:31:13 WARN DAGScheduler: Broadcasting large task binary with size 1130.9 KiB\n",
      "25/05/10 21:31:13 WARN DAGScheduler: Broadcasting large task binary with size 1130.8 KiB\n",
      "25/05/10 21:31:13 WARN DAGScheduler: Broadcasting large task binary with size 1130.8 KiB\n",
      "25/05/10 21:31:13 WARN DAGScheduler: Broadcasting large task binary with size 1130.8 KiB\n",
      "25/05/10 21:31:13 WARN DAGScheduler: Broadcasting large task binary with size 1130.9 KiB\n",
      "25/05/10 21:31:13 WARN DAGScheduler: Broadcasting large task binary with size 1130.8 KiB\n",
      "25/05/10 21:31:13 WARN DAGScheduler: Broadcasting large task binary with size 1130.9 KiB\n",
      "25/05/10 21:31:13 WARN DAGScheduler: Broadcasting large task binary with size 1130.8 KiB\n",
      "25/05/10 21:31:13 WARN DAGScheduler: Broadcasting large task binary with size 1130.9 KiB\n",
      "25/05/10 21:31:13 WARN DAGScheduler: Broadcasting large task binary with size 1130.8 KiB\n",
      "25/05/10 21:31:13 WARN DAGScheduler: Broadcasting large task binary with size 1130.9 KiB\n",
      "25/05/10 21:31:13 WARN DAGScheduler: Broadcasting large task binary with size 1130.8 KiB\n",
      "25/05/10 21:31:14 WARN DAGScheduler: Broadcasting large task binary with size 1130.9 KiB\n",
      "25/05/10 21:31:14 WARN DAGScheduler: Broadcasting large task binary with size 1130.8 KiB\n",
      "25/05/10 21:31:14 WARN DAGScheduler: Broadcasting large task binary with size 1130.8 KiB\n",
      "25/05/10 21:31:14 WARN DAGScheduler: Broadcasting large task binary with size 1130.9 KiB\n",
      "25/05/10 21:31:14 WARN DAGScheduler: Broadcasting large task binary with size 1130.8 KiB\n",
      "25/05/10 21:31:14 WARN DAGScheduler: Broadcasting large task binary with size 1130.9 KiB\n",
      "25/05/10 21:31:14 WARN DAGScheduler: Broadcasting large task binary with size 1130.8 KiB\n",
      "25/05/10 21:31:14 WARN DAGScheduler: Broadcasting large task binary with size 1130.9 KiB\n",
      "25/05/10 21:31:14 WARN DAGScheduler: Broadcasting large task binary with size 1130.9 KiB\n",
      "25/05/10 21:31:14 WARN DAGScheduler: Broadcasting large task binary with size 1130.8 KiB\n",
      "25/05/10 21:31:14 WARN DAGScheduler: Broadcasting large task binary with size 1130.8 KiB\n",
      "25/05/10 21:31:14 WARN DAGScheduler: Broadcasting large task binary with size 1130.8 KiB\n",
      "25/05/10 21:31:14 WARN DAGScheduler: Broadcasting large task binary with size 1130.9 KiB\n",
      "25/05/10 21:31:14 WARN DAGScheduler: Broadcasting large task binary with size 1130.9 KiB\n",
      "25/05/10 21:31:14 WARN DAGScheduler: Broadcasting large task binary with size 1130.9 KiB\n",
      "25/05/10 21:31:14 WARN DAGScheduler: Broadcasting large task binary with size 1130.9 KiB\n",
      "25/05/10 21:31:14 WARN DAGScheduler: Broadcasting large task binary with size 1130.8 KiB\n",
      "25/05/10 21:31:14 WARN DAGScheduler: Broadcasting large task binary with size 1130.8 KiB\n",
      "25/05/10 21:31:14 WARN DAGScheduler: Broadcasting large task binary with size 1130.8 KiB\n",
      "25/05/10 21:31:14 WARN DAGScheduler: Broadcasting large task binary with size 1130.8 KiB\n",
      "25/05/10 21:31:14 WARN DAGScheduler: Broadcasting large task binary with size 1130.8 KiB\n",
      "25/05/10 21:31:14 WARN DAGScheduler: Broadcasting large task binary with size 1130.9 KiB\n",
      "25/05/10 21:31:14 WARN DAGScheduler: Broadcasting large task binary with size 1130.9 KiB\n",
      "25/05/10 21:31:14 WARN DAGScheduler: Broadcasting large task binary with size 1130.9 KiB\n",
      "25/05/10 21:31:14 WARN DAGScheduler: Broadcasting large task binary with size 1130.9 KiB\n",
      "25/05/10 21:31:14 WARN DAGScheduler: Broadcasting large task binary with size 1130.8 KiB\n",
      "25/05/10 21:31:14 WARN DAGScheduler: Broadcasting large task binary with size 1130.8 KiB\n",
      "25/05/10 21:31:14 WARN DAGScheduler: Broadcasting large task binary with size 1130.8 KiB\n",
      "25/05/10 21:31:14 WARN DAGScheduler: Broadcasting large task binary with size 1130.8 KiB\n",
      "25/05/10 21:31:14 WARN DAGScheduler: Broadcasting large task binary with size 1130.8 KiB\n",
      "25/05/10 21:31:15 WARN DAGScheduler: Broadcasting large task binary with size 1130.9 KiB\n",
      "25/05/10 21:31:15 WARN DAGScheduler: Broadcasting large task binary with size 1130.9 KiB\n",
      "25/05/10 21:31:15 WARN DAGScheduler: Broadcasting large task binary with size 1130.9 KiB\n",
      "25/05/10 21:31:15 WARN DAGScheduler: Broadcasting large task binary with size 1130.9 KiB\n",
      "25/05/10 21:31:15 WARN DAGScheduler: Broadcasting large task binary with size 1130.8 KiB\n",
      "25/05/10 21:31:15 WARN DAGScheduler: Broadcasting large task binary with size 1130.8 KiB\n",
      "25/05/10 21:31:15 WARN DAGScheduler: Broadcasting large task binary with size 1130.8 KiB\n",
      "25/05/10 21:31:15 WARN DAGScheduler: Broadcasting large task binary with size 1130.8 KiB\n",
      "25/05/10 21:31:15 WARN DAGScheduler: Broadcasting large task binary with size 1130.8 KiB\n",
      "25/05/10 21:31:15 WARN DAGScheduler: Broadcasting large task binary with size 1130.9 KiB\n",
      "25/05/10 21:31:15 WARN DAGScheduler: Broadcasting large task binary with size 1130.9 KiB\n",
      "25/05/10 21:31:15 WARN DAGScheduler: Broadcasting large task binary with size 1130.9 KiB\n",
      "25/05/10 21:31:15 WARN DAGScheduler: Broadcasting large task binary with size 1130.9 KiB\n",
      "25/05/10 21:31:15 WARN DAGScheduler: Broadcasting large task binary with size 1130.8 KiB\n",
      "25/05/10 21:31:15 WARN DAGScheduler: Broadcasting large task binary with size 1130.8 KiB\n",
      "25/05/10 21:31:15 WARN DAGScheduler: Broadcasting large task binary with size 1130.8 KiB\n",
      "25/05/10 21:31:15 WARN DAGScheduler: Broadcasting large task binary with size 1130.8 KiB\n",
      "25/05/10 21:31:15 WARN DAGScheduler: Broadcasting large task binary with size 1130.8 KiB\n",
      "25/05/10 21:31:15 WARN DAGScheduler: Broadcasting large task binary with size 1130.9 KiB\n",
      "25/05/10 21:31:15 WARN DAGScheduler: Broadcasting large task binary with size 1130.9 KiB\n",
      "25/05/10 21:31:15 WARN DAGScheduler: Broadcasting large task binary with size 1130.9 KiB\n",
      "25/05/10 21:31:15 WARN DAGScheduler: Broadcasting large task binary with size 1130.9 KiB\n",
      "25/05/10 21:31:15 WARN DAGScheduler: Broadcasting large task binary with size 1130.8 KiB\n",
      "25/05/10 21:31:15 WARN DAGScheduler: Broadcasting large task binary with size 1130.8 KiB\n",
      "25/05/10 21:31:15 WARN DAGScheduler: Broadcasting large task binary with size 1130.8 KiB\n",
      "25/05/10 21:31:15 WARN DAGScheduler: Broadcasting large task binary with size 1130.8 KiB\n",
      "25/05/10 21:31:15 WARN DAGScheduler: Broadcasting large task binary with size 1130.9 KiB\n",
      "25/05/10 21:31:16 WARN DAGScheduler: Broadcasting large task binary with size 1130.8 KiB\n",
      "25/05/10 21:31:16 WARN DAGScheduler: Broadcasting large task binary with size 1130.9 KiB\n",
      "25/05/10 21:31:16 WARN DAGScheduler: Broadcasting large task binary with size 1130.9 KiB\n",
      "25/05/10 21:31:16 WARN DAGScheduler: Broadcasting large task binary with size 1130.9 KiB\n",
      "25/05/10 21:31:16 WARN DAGScheduler: Broadcasting large task binary with size 1130.8 KiB\n",
      "25/05/10 21:31:16 WARN DAGScheduler: Broadcasting large task binary with size 1130.8 KiB\n",
      "25/05/10 21:31:16 WARN DAGScheduler: Broadcasting large task binary with size 1130.8 KiB\n",
      "25/05/10 21:31:16 WARN DAGScheduler: Broadcasting large task binary with size 1130.8 KiB\n",
      "25/05/10 21:31:16 WARN DAGScheduler: Broadcasting large task binary with size 1130.9 KiB\n",
      "25/05/10 21:31:16 WARN DAGScheduler: Broadcasting large task binary with size 1130.8 KiB\n"
     ]
    },
    {
     "name": "stderr",
     "output_type": "stream",
     "text": [
      "[Stage 4328:========>       (1 + 1) / 2][Stage 4329:>               (0 + 1) / 2]"
     ]
    },
    {
     "name": "stdout",
     "output_type": "stream",
     "text": [
      "25/05/10 21:31:17 WARN DAGScheduler: Broadcasting large task binary with size 1130.8 KiB\n",
      "25/05/10 21:31:17 WARN DAGScheduler: Broadcasting large task binary with size 1130.8 KiB\n",
      "25/05/10 21:31:17 WARN DAGScheduler: Broadcasting large task binary with size 1130.9 KiB\n",
      "25/05/10 21:31:17 WARN DAGScheduler: Broadcasting large task binary with size 1130.9 KiB\n",
      "25/05/10 21:31:17 WARN DAGScheduler: Broadcasting large task binary with size 1130.9 KiB\n",
      "25/05/10 21:31:17 WARN DAGScheduler: Broadcasting large task binary with size 1130.8 KiB\n"
     ]
    },
    {
     "name": "stderr",
     "output_type": "stream",
     "text": [
      "                                                                                "
     ]
    },
    {
     "name": "stdout",
     "output_type": "stream",
     "text": [
      "25/05/10 21:31:17 WARN DAGScheduler: Broadcasting large task binary with size 1130.8 KiB\n",
      "25/05/10 21:31:17 WARN DAGScheduler: Broadcasting large task binary with size 1130.9 KiB\n",
      "25/05/10 21:31:17 WARN DAGScheduler: Broadcasting large task binary with size 1130.9 KiB\n",
      "25/05/10 21:31:17 WARN DAGScheduler: Broadcasting large task binary with size 1130.9 KiB\n",
      "25/05/10 21:31:17 WARN DAGScheduler: Broadcasting large task binary with size 1130.9 KiB\n",
      "25/05/10 21:31:17 WARN DAGScheduler: Broadcasting large task binary with size 1130.8 KiB\n",
      "25/05/10 21:31:17 WARN DAGScheduler: Broadcasting large task binary with size 1130.8 KiB\n",
      "25/05/10 21:31:17 WARN DAGScheduler: Broadcasting large task binary with size 1130.8 KiB\n",
      "25/05/10 21:31:17 WARN DAGScheduler: Broadcasting large task binary with size 1130.9 KiB\n",
      "25/05/10 21:31:17 WARN DAGScheduler: Broadcasting large task binary with size 1130.9 KiB\n",
      "25/05/10 21:31:17 WARN DAGScheduler: Broadcasting large task binary with size 1130.9 KiB\n",
      "25/05/10 21:31:17 WARN DAGScheduler: Broadcasting large task binary with size 1130.8 KiB\n",
      "25/05/10 21:31:17 WARN DAGScheduler: Broadcasting large task binary with size 1130.9 KiB\n",
      "25/05/10 21:31:17 WARN DAGScheduler: Broadcasting large task binary with size 1130.8 KiB\n",
      "25/05/10 21:31:17 WARN DAGScheduler: Broadcasting large task binary with size 1130.9 KiB\n",
      "25/05/10 21:31:17 WARN DAGScheduler: Broadcasting large task binary with size 1130.8 KiB\n",
      "25/05/10 21:31:17 WARN DAGScheduler: Broadcasting large task binary with size 1130.9 KiB\n",
      "25/05/10 21:31:18 WARN DAGScheduler: Broadcasting large task binary with size 1130.8 KiB\n",
      "25/05/10 21:31:18 WARN DAGScheduler: Broadcasting large task binary with size 1130.9 KiB\n",
      "25/05/10 21:31:18 WARN DAGScheduler: Broadcasting large task binary with size 1130.8 KiB\n",
      "25/05/10 21:31:18 WARN DAGScheduler: Broadcasting large task binary with size 1129.6 KiB\n",
      "25/05/10 21:31:18 WARN DAGScheduler: Broadcasting large task binary with size 1130.9 KiB\n",
      "25/05/10 21:31:18 WARN DAGScheduler: Broadcasting large task binary with size 1130.9 KiB\n",
      "25/05/10 21:31:18 WARN DAGScheduler: Broadcasting large task binary with size 1130.8 KiB\n",
      "25/05/10 21:31:18 WARN DAGScheduler: Broadcasting large task binary with size 1130.9 KiB\n",
      "25/05/10 21:31:18 WARN DAGScheduler: Broadcasting large task binary with size 1130.8 KiB\n",
      "25/05/10 21:31:18 WARN DAGScheduler: Broadcasting large task binary with size 1130.9 KiB\n",
      "25/05/10 21:31:18 WARN DAGScheduler: Broadcasting large task binary with size 1130.8 KiB\n",
      "25/05/10 21:31:18 WARN DAGScheduler: Broadcasting large task binary with size 1129.6 KiB\n"
     ]
    },
    {
     "name": "stderr",
     "output_type": "stream",
     "text": [
      "                                                                                "
     ]
    },
    {
     "name": "stdout",
     "output_type": "stream",
     "text": [
      "25/05/10 21:31:22 WARN DAGScheduler: Broadcasting large task binary with size 1130.8 KiB\n",
      "25/05/10 21:31:22 WARN DAGScheduler: Broadcasting large task binary with size 1130.9 KiB\n",
      "25/05/10 21:31:22 WARN DAGScheduler: Broadcasting large task binary with size 1130.9 KiB\n",
      "25/05/10 21:31:22 WARN DAGScheduler: Broadcasting large task binary with size 1130.8 KiB\n",
      "25/05/10 21:31:23 WARN DAGScheduler: Broadcasting large task binary with size 1130.8 KiB\n",
      "25/05/10 21:31:23 WARN DAGScheduler: Broadcasting large task binary with size 1130.9 KiB\n",
      "25/05/10 21:31:23 WARN DAGScheduler: Broadcasting large task binary with size 1130.9 KiB\n",
      "25/05/10 21:31:23 WARN DAGScheduler: Broadcasting large task binary with size 1130.8 KiB\n"
     ]
    },
    {
     "name": "stderr",
     "output_type": "stream",
     "text": [
      "                                                                                "
     ]
    },
    {
     "name": "stdout",
     "output_type": "stream",
     "text": [
      "25/05/10 21:31:27 WARN DAGScheduler: Broadcasting large task binary with size 1130.8 KiB\n"
     ]
    },
    {
     "name": "stderr",
     "output_type": "stream",
     "text": [
      "                                                                                "
     ]
    },
    {
     "name": "stdout",
     "output_type": "stream",
     "text": [
      "25/05/10 21:31:32 WARN DAGScheduler: Broadcasting large task binary with size 1130.8 KiB\n",
      "25/05/10 21:31:32 WARN DAGScheduler: Broadcasting large task binary with size 1130.9 KiB\n",
      "25/05/10 21:31:32 WARN DAGScheduler: Broadcasting large task binary with size 1130.9 KiB\n",
      "25/05/10 21:31:32 WARN DAGScheduler: Broadcasting large task binary with size 1130.8 KiB\n",
      "25/05/10 21:31:32 WARN DAGScheduler: Broadcasting large task binary with size 1130.8 KiB\n",
      "25/05/10 21:31:32 WARN DAGScheduler: Broadcasting large task binary with size 1130.9 KiB\n",
      "25/05/10 21:31:32 WARN DAGScheduler: Broadcasting large task binary with size 1130.9 KiB\n",
      "25/05/10 21:31:32 WARN DAGScheduler: Broadcasting large task binary with size 1130.8 KiB\n"
     ]
    },
    {
     "name": "stderr",
     "output_type": "stream",
     "text": [
      "                                                                                "
     ]
    },
    {
     "name": "stdout",
     "output_type": "stream",
     "text": [
      "25/05/10 21:31:37 WARN DAGScheduler: Broadcasting large task binary with size 1130.8 KiB\n",
      "25/05/10 21:31:37 WARN DAGScheduler: Broadcasting large task binary with size 1130.9 KiB\n",
      "25/05/10 21:31:37 WARN DAGScheduler: Broadcasting large task binary with size 1130.8 KiB\n",
      "25/05/10 21:31:37 WARN DAGScheduler: Broadcasting large task binary with size 1130.9 KiB\n",
      "25/05/10 21:31:37 WARN DAGScheduler: Broadcasting large task binary with size 1130.8 KiB\n",
      "25/05/10 21:31:37 WARN DAGScheduler: Broadcasting large task binary with size 1130.9 KiB\n",
      "25/05/10 21:31:37 WARN DAGScheduler: Broadcasting large task binary with size 1130.8 KiB\n",
      "25/05/10 21:31:37 WARN DAGScheduler: Broadcasting large task binary with size 1130.9 KiB\n",
      "25/05/10 21:31:37 WARN DAGScheduler: Broadcasting large task binary with size 1130.9 KiB\n",
      "25/05/10 21:31:37 WARN DAGScheduler: Broadcasting large task binary with size 1130.8 KiB\n",
      "25/05/10 21:31:37 WARN DAGScheduler: Broadcasting large task binary with size 1130.8 KiB\n",
      "25/05/10 21:31:37 WARN DAGScheduler: Broadcasting large task binary with size 1130.8 KiB\n",
      "25/05/10 21:31:37 WARN DAGScheduler: Broadcasting large task binary with size 1130.8 KiB\n",
      "25/05/10 21:31:37 WARN DAGScheduler: Broadcasting large task binary with size 1130.9 KiB\n",
      "25/05/10 21:31:37 WARN DAGScheduler: Broadcasting large task binary with size 1130.9 KiB\n",
      "25/05/10 21:31:37 WARN DAGScheduler: Broadcasting large task binary with size 1130.8 KiB\n",
      "25/05/10 21:31:38 WARN DAGScheduler: Broadcasting large task binary with size 1130.9 KiB\n",
      "25/05/10 21:31:38 WARN DAGScheduler: Broadcasting large task binary with size 1130.9 KiB\n",
      "25/05/10 21:31:38 WARN DAGScheduler: Broadcasting large task binary with size 1130.8 KiB\n",
      "25/05/10 21:31:38 WARN DAGScheduler: Broadcasting large task binary with size 1130.8 KiB\n",
      "25/05/10 21:31:38 WARN DAGScheduler: Broadcasting large task binary with size 1130.8 KiB\n",
      "25/05/10 21:31:38 WARN DAGScheduler: Broadcasting large task binary with size 1130.8 KiB\n",
      "25/05/10 21:31:38 WARN DAGScheduler: Broadcasting large task binary with size 1130.9 KiB\n",
      "25/05/10 21:31:38 WARN DAGScheduler: Broadcasting large task binary with size 1130.9 KiB\n",
      "25/05/10 21:31:38 WARN DAGScheduler: Broadcasting large task binary with size 1130.8 KiB\n",
      "25/05/10 21:31:38 WARN DAGScheduler: Broadcasting large task binary with size 1130.8 KiB\n",
      "25/05/10 21:31:38 WARN DAGScheduler: Broadcasting large task binary with size 1130.9 KiB\n",
      "25/05/10 21:31:38 WARN DAGScheduler: Broadcasting large task binary with size 1130.9 KiB\n",
      "25/05/10 21:31:38 WARN DAGScheduler: Broadcasting large task binary with size 1130.8 KiB\n",
      "25/05/10 21:31:38 WARN DAGScheduler: Broadcasting large task binary with size 1130.8 KiB\n",
      "25/05/10 21:31:38 WARN DAGScheduler: Broadcasting large task binary with size 1130.8 KiB\n",
      "25/05/10 21:31:38 WARN DAGScheduler: Broadcasting large task binary with size 1130.9 KiB\n",
      "25/05/10 21:31:38 WARN DAGScheduler: Broadcasting large task binary with size 1130.8 KiB\n",
      "25/05/10 21:31:38 WARN DAGScheduler: Broadcasting large task binary with size 1130.9 KiB\n",
      "25/05/10 21:31:38 WARN DAGScheduler: Broadcasting large task binary with size 1130.9 KiB\n",
      "25/05/10 21:31:38 WARN DAGScheduler: Broadcasting large task binary with size 1130.9 KiB\n",
      "25/05/10 21:31:38 WARN DAGScheduler: Broadcasting large task binary with size 1130.8 KiB\n",
      "25/05/10 21:31:38 WARN DAGScheduler: Broadcasting large task binary with size 1130.8 KiB\n",
      "25/05/10 21:31:38 WARN DAGScheduler: Broadcasting large task binary with size 1130.8 KiB\n",
      "25/05/10 21:31:38 WARN DAGScheduler: Broadcasting large task binary with size 1130.9 KiB\n",
      "25/05/10 21:31:38 WARN DAGScheduler: Broadcasting large task binary with size 1130.8 KiB\n",
      "25/05/10 21:31:39 WARN DAGScheduler: Broadcasting large task binary with size 1130.8 KiB\n",
      "25/05/10 21:31:39 WARN DAGScheduler: Broadcasting large task binary with size 1130.9 KiB\n",
      "25/05/10 21:31:39 WARN DAGScheduler: Broadcasting large task binary with size 1130.9 KiB\n",
      "25/05/10 21:31:39 WARN DAGScheduler: Broadcasting large task binary with size 1130.9 KiB\n",
      "25/05/10 21:31:39 WARN DAGScheduler: Broadcasting large task binary with size 1130.8 KiB\n",
      "25/05/10 21:31:39 WARN DAGScheduler: Broadcasting large task binary with size 1130.9 KiB\n",
      "25/05/10 21:31:39 WARN DAGScheduler: Broadcasting large task binary with size 1130.8 KiB\n",
      "25/05/10 21:31:39 WARN DAGScheduler: Broadcasting large task binary with size 1130.8 KiB\n",
      "25/05/10 21:31:39 WARN DAGScheduler: Broadcasting large task binary with size 1130.8 KiB\n",
      "25/05/10 21:31:39 WARN DAGScheduler: Broadcasting large task binary with size 1130.8 KiB\n",
      "25/05/10 21:31:39 WARN DAGScheduler: Broadcasting large task binary with size 1130.9 KiB\n",
      "25/05/10 21:31:39 WARN DAGScheduler: Broadcasting large task binary with size 1130.9 KiB\n",
      "25/05/10 21:31:39 WARN DAGScheduler: Broadcasting large task binary with size 1130.9 KiB\n",
      "25/05/10 21:31:39 WARN DAGScheduler: Broadcasting large task binary with size 1130.9 KiB\n",
      "25/05/10 21:31:39 WARN DAGScheduler: Broadcasting large task binary with size 1130.8 KiB\n",
      "25/05/10 21:31:39 WARN DAGScheduler: Broadcasting large task binary with size 1130.8 KiB\n",
      "25/05/10 21:31:39 WARN DAGScheduler: Broadcasting large task binary with size 1130.8 KiB\n",
      "25/05/10 21:31:39 WARN DAGScheduler: Broadcasting large task binary with size 1130.8 KiB\n",
      "25/05/10 21:31:39 WARN DAGScheduler: Broadcasting large task binary with size 1130.9 KiB\n",
      "25/05/10 21:31:39 WARN DAGScheduler: Broadcasting large task binary with size 1130.9 KiB\n",
      "25/05/10 21:31:39 WARN DAGScheduler: Broadcasting large task binary with size 1130.9 KiB\n",
      "25/05/10 21:31:39 WARN DAGScheduler: Broadcasting large task binary with size 1130.9 KiB\n",
      "25/05/10 21:31:39 WARN DAGScheduler: Broadcasting large task binary with size 1130.8 KiB\n",
      "25/05/10 21:31:39 WARN DAGScheduler: Broadcasting large task binary with size 1130.8 KiB\n",
      "25/05/10 21:31:39 WARN DAGScheduler: Broadcasting large task binary with size 1130.8 KiB\n",
      "25/05/10 21:31:39 WARN DAGScheduler: Broadcasting large task binary with size 1130.8 KiB\n",
      "25/05/10 21:31:40 WARN DAGScheduler: Broadcasting large task binary with size 1130.9 KiB\n",
      "25/05/10 21:31:40 WARN DAGScheduler: Broadcasting large task binary with size 1130.9 KiB\n",
      "25/05/10 21:31:40 WARN DAGScheduler: Broadcasting large task binary with size 1130.9 KiB\n",
      "25/05/10 21:31:40 WARN DAGScheduler: Broadcasting large task binary with size 1129.6 KiB\n",
      "25/05/10 21:31:40 WARN DAGScheduler: Broadcasting large task binary with size 1130.9 KiB\n",
      "25/05/10 21:31:40 WARN DAGScheduler: Broadcasting large task binary with size 1130.8 KiB\n",
      "25/05/10 21:31:40 WARN DAGScheduler: Broadcasting large task binary with size 1130.8 KiB\n",
      "25/05/10 21:31:40 WARN DAGScheduler: Broadcasting large task binary with size 1130.8 KiB\n",
      "25/05/10 21:31:40 WARN DAGScheduler: Broadcasting large task binary with size 1130.8 KiB\n",
      "25/05/10 21:31:40 WARN DAGScheduler: Broadcasting large task binary with size 1130.9 KiB\n",
      "25/05/10 21:31:40 WARN DAGScheduler: Broadcasting large task binary with size 1130.9 KiB\n",
      "25/05/10 21:31:40 WARN DAGScheduler: Broadcasting large task binary with size 1130.9 KiB\n"
     ]
    },
    {
     "name": "stderr",
     "output_type": "stream",
     "text": [
      "                                                                                "
     ]
    },
    {
     "name": "stdout",
     "output_type": "stream",
     "text": [
      "25/05/10 21:31:44 WARN DAGScheduler: Broadcasting large task binary with size 1130.8 KiB\n",
      "25/05/10 21:31:44 WARN DAGScheduler: Broadcasting large task binary with size 1130.9 KiB\n",
      "25/05/10 21:31:45 WARN DAGScheduler: Broadcasting large task binary with size 1130.8 KiB\n",
      "25/05/10 21:31:45 WARN DAGScheduler: Broadcasting large task binary with size 1130.8 KiB\n",
      "25/05/10 21:31:45 WARN DAGScheduler: Broadcasting large task binary with size 1130.8 KiB\n",
      "25/05/10 21:31:45 WARN DAGScheduler: Broadcasting large task binary with size 1130.9 KiB\n",
      "25/05/10 21:31:45 WARN DAGScheduler: Broadcasting large task binary with size 1130.9 KiB\n",
      "25/05/10 21:31:45 WARN DAGScheduler: Broadcasting large task binary with size 1130.9 KiB\n",
      "25/05/10 21:31:45 WARN DAGScheduler: Broadcasting large task binary with size 1130.8 KiB\n"
     ]
    },
    {
     "name": "stderr",
     "output_type": "stream",
     "text": [
      "                                                                                "
     ]
    },
    {
     "name": "stdout",
     "output_type": "stream",
     "text": [
      "25/05/10 21:31:49 WARN DAGScheduler: Broadcasting large task binary with size 1130.8 KiB\n",
      "25/05/10 21:31:49 WARN DAGScheduler: Broadcasting large task binary with size 1130.8 KiB\n",
      "25/05/10 21:31:49 WARN DAGScheduler: Broadcasting large task binary with size 1130.9 KiB\n",
      "25/05/10 21:31:49 WARN DAGScheduler: Broadcasting large task binary with size 1130.8 KiB\n",
      "25/05/10 21:31:50 WARN DAGScheduler: Broadcasting large task binary with size 1130.9 KiB\n",
      "25/05/10 21:31:50 WARN DAGScheduler: Broadcasting large task binary with size 1130.8 KiB\n",
      "25/05/10 21:31:50 WARN DAGScheduler: Broadcasting large task binary with size 1130.9 KiB\n",
      "25/05/10 21:31:50 WARN DAGScheduler: Broadcasting large task binary with size 1130.9 KiB\n",
      "25/05/10 21:31:50 WARN DAGScheduler: Broadcasting large task binary with size 1130.8 KiB\n",
      "25/05/10 21:31:50 WARN DAGScheduler: Broadcasting large task binary with size 1130.8 KiB\n",
      "25/05/10 21:31:50 WARN DAGScheduler: Broadcasting large task binary with size 1130.8 KiB\n",
      "25/05/10 21:31:50 WARN DAGScheduler: Broadcasting large task binary with size 1130.9 KiB\n",
      "25/05/10 21:31:50 WARN DAGScheduler: Broadcasting large task binary with size 1130.8 KiB\n",
      "25/05/10 21:31:50 WARN DAGScheduler: Broadcasting large task binary with size 1130.9 KiB\n",
      "25/05/10 21:31:50 WARN DAGScheduler: Broadcasting large task binary with size 1130.8 KiB\n",
      "25/05/10 21:31:50 WARN DAGScheduler: Broadcasting large task binary with size 1130.9 KiB\n",
      "25/05/10 21:31:50 WARN DAGScheduler: Broadcasting large task binary with size 1130.9 KiB\n",
      "25/05/10 21:31:50 WARN DAGScheduler: Broadcasting large task binary with size 1130.8 KiB\n",
      "25/05/10 21:31:50 WARN DAGScheduler: Broadcasting large task binary with size 1130.8 KiB\n",
      "25/05/10 21:31:50 WARN DAGScheduler: Broadcasting large task binary with size 1130.8 KiB\n",
      "25/05/10 21:31:50 WARN DAGScheduler: Broadcasting large task binary with size 1130.9 KiB\n",
      "25/05/10 21:31:50 WARN DAGScheduler: Broadcasting large task binary with size 1130.9 KiB\n",
      "25/05/10 21:31:50 WARN DAGScheduler: Broadcasting large task binary with size 1130.8 KiB\n",
      "25/05/10 21:31:50 WARN DAGScheduler: Broadcasting large task binary with size 1130.8 KiB\n",
      "25/05/10 21:31:50 WARN DAGScheduler: Broadcasting large task binary with size 1130.9 KiB\n",
      "25/05/10 21:31:50 WARN DAGScheduler: Broadcasting large task binary with size 1130.8 KiB\n",
      "25/05/10 21:31:50 WARN DAGScheduler: Broadcasting large task binary with size 1130.9 KiB\n",
      "25/05/10 21:31:50 WARN DAGScheduler: Broadcasting large task binary with size 1130.8 KiB\n",
      "25/05/10 21:31:50 WARN DAGScheduler: Broadcasting large task binary with size 1130.8 KiB\n",
      "25/05/10 21:31:50 WARN DAGScheduler: Broadcasting large task binary with size 1130.9 KiB\n",
      "25/05/10 21:31:50 WARN DAGScheduler: Broadcasting large task binary with size 1130.9 KiB\n",
      "25/05/10 21:31:50 WARN DAGScheduler: Broadcasting large task binary with size 1130.8 KiB\n",
      "25/05/10 21:31:51 WARN DAGScheduler: Broadcasting large task binary with size 1130.9 KiB\n",
      "25/05/10 21:31:51 WARN DAGScheduler: Broadcasting large task binary with size 1130.8 KiB\n",
      "25/05/10 21:31:51 WARN DAGScheduler: Broadcasting large task binary with size 1130.8 KiB\n",
      "25/05/10 21:31:51 WARN DAGScheduler: Broadcasting large task binary with size 1130.9 KiB\n",
      "25/05/10 21:31:51 WARN DAGScheduler: Broadcasting large task binary with size 1130.8 KiB\n",
      "25/05/10 21:31:51 WARN DAGScheduler: Broadcasting large task binary with size 1130.8 KiB\n",
      "25/05/10 21:31:51 WARN DAGScheduler: Broadcasting large task binary with size 1130.9 KiB\n",
      "25/05/10 21:31:51 WARN DAGScheduler: Broadcasting large task binary with size 1130.8 KiB\n",
      "25/05/10 21:31:51 WARN DAGScheduler: Broadcasting large task binary with size 1130.9 KiB\n",
      "25/05/10 21:31:51 WARN DAGScheduler: Broadcasting large task binary with size 1130.9 KiB\n",
      "25/05/10 21:31:51 WARN DAGScheduler: Broadcasting large task binary with size 1130.8 KiB\n",
      "25/05/10 21:31:51 WARN DAGScheduler: Broadcasting large task binary with size 1130.8 KiB\n",
      "25/05/10 21:31:51 WARN DAGScheduler: Broadcasting large task binary with size 1130.9 KiB\n",
      "25/05/10 21:31:51 WARN DAGScheduler: Broadcasting large task binary with size 1130.8 KiB\n",
      "25/05/10 21:31:51 WARN DAGScheduler: Broadcasting large task binary with size 1130.8 KiB\n",
      "25/05/10 21:31:51 WARN DAGScheduler: Broadcasting large task binary with size 1130.9 KiB\n",
      "25/05/10 21:31:51 WARN DAGScheduler: Broadcasting large task binary with size 1130.8 KiB\n",
      "25/05/10 21:31:51 WARN DAGScheduler: Broadcasting large task binary with size 1130.9 KiB\n",
      "25/05/10 21:31:51 WARN DAGScheduler: Broadcasting large task binary with size 1129.7 KiB\n",
      "25/05/10 21:31:51 WARN DAGScheduler: Broadcasting large task binary with size 1130.9 KiB\n",
      "25/05/10 21:31:51 WARN DAGScheduler: Broadcasting large task binary with size 1130.8 KiB\n",
      "25/05/10 21:31:51 WARN DAGScheduler: Broadcasting large task binary with size 1130.8 KiB\n",
      "25/05/10 21:31:51 WARN DAGScheduler: Broadcasting large task binary with size 1130.8 KiB\n",
      "25/05/10 21:31:52 WARN DAGScheduler: Broadcasting large task binary with size 1130.8 KiB\n",
      "25/05/10 21:31:52 WARN DAGScheduler: Broadcasting large task binary with size 1130.9 KiB\n",
      "25/05/10 21:31:52 WARN DAGScheduler: Broadcasting large task binary with size 1130.8 KiB\n",
      "25/05/10 21:31:52 WARN DAGScheduler: Broadcasting large task binary with size 1130.9 KiB\n"
     ]
    },
    {
     "name": "stderr",
     "output_type": "stream",
     "text": [
      "                                                                                "
     ]
    },
    {
     "name": "stdout",
     "output_type": "stream",
     "text": [
      "25/05/10 21:31:56 WARN DAGScheduler: Broadcasting large task binary with size 1130.9 KiB\n",
      "25/05/10 21:31:56 WARN DAGScheduler: Broadcasting large task binary with size 1130.9 KiB\n",
      "25/05/10 21:31:56 WARN DAGScheduler: Broadcasting large task binary with size 1130.8 KiB\n",
      "25/05/10 21:31:56 WARN DAGScheduler: Broadcasting large task binary with size 1130.8 KiB\n",
      "25/05/10 21:31:56 WARN DAGScheduler: Broadcasting large task binary with size 1130.8 KiB\n",
      "25/05/10 21:31:56 WARN DAGScheduler: Broadcasting large task binary with size 1130.8 KiB\n",
      "25/05/10 21:31:56 WARN DAGScheduler: Broadcasting large task binary with size 1130.9 KiB\n",
      "25/05/10 21:31:56 WARN DAGScheduler: Broadcasting large task binary with size 1130.8 KiB\n",
      "25/05/10 21:31:57 WARN DAGScheduler: Broadcasting large task binary with size 1130.9 KiB\n"
     ]
    },
    {
     "name": "stderr",
     "output_type": "stream",
     "text": [
      "                                                                                "
     ]
    },
    {
     "name": "stdout",
     "output_type": "stream",
     "text": [
      "25/05/10 21:32:01 WARN DAGScheduler: Broadcasting large task binary with size 1130.9 KiB\n",
      "25/05/10 21:32:01 WARN DAGScheduler: Broadcasting large task binary with size 1130.8 KiB\n",
      "25/05/10 21:32:01 WARN DAGScheduler: Broadcasting large task binary with size 1130.9 KiB\n",
      "25/05/10 21:32:01 WARN DAGScheduler: Broadcasting large task binary with size 1130.8 KiB\n",
      "25/05/10 21:32:01 WARN DAGScheduler: Broadcasting large task binary with size 1130.8 KiB\n",
      "25/05/10 21:32:01 WARN DAGScheduler: Broadcasting large task binary with size 1130.8 KiB\n",
      "25/05/10 21:32:01 WARN DAGScheduler: Broadcasting large task binary with size 1130.9 KiB\n",
      "25/05/10 21:32:01 WARN DAGScheduler: Broadcasting large task binary with size 1130.8 KiB\n",
      "25/05/10 21:32:01 WARN DAGScheduler: Broadcasting large task binary with size 1130.9 KiB\n",
      "25/05/10 21:32:01 WARN DAGScheduler: Broadcasting large task binary with size 1130.9 KiB\n",
      "25/05/10 21:32:01 WARN DAGScheduler: Broadcasting large task binary with size 1130.9 KiB\n",
      "25/05/10 21:32:02 WARN DAGScheduler: Broadcasting large task binary with size 1130.8 KiB\n",
      "25/05/10 21:32:02 WARN DAGScheduler: Broadcasting large task binary with size 1130.8 KiB\n",
      "25/05/10 21:32:02 WARN DAGScheduler: Broadcasting large task binary with size 1130.8 KiB\n",
      "25/05/10 21:32:02 WARN DAGScheduler: Broadcasting large task binary with size 1130.8 KiB\n",
      "25/05/10 21:32:02 WARN DAGScheduler: Broadcasting large task binary with size 1130.8 KiB\n",
      "25/05/10 21:32:02 WARN DAGScheduler: Broadcasting large task binary with size 1130.9 KiB\n",
      "25/05/10 21:32:02 WARN DAGScheduler: Broadcasting large task binary with size 1130.9 KiB\n",
      "25/05/10 21:32:02 WARN DAGScheduler: Broadcasting large task binary with size 1130.8 KiB\n",
      "25/05/10 21:32:02 WARN DAGScheduler: Broadcasting large task binary with size 1130.8 KiB\n",
      "25/05/10 21:32:02 WARN DAGScheduler: Broadcasting large task binary with size 1130.8 KiB\n",
      "25/05/10 21:32:02 WARN DAGScheduler: Broadcasting large task binary with size 1130.8 KiB\n",
      "25/05/10 21:32:02 WARN DAGScheduler: Broadcasting large task binary with size 1130.9 KiB\n",
      "25/05/10 21:32:02 WARN DAGScheduler: Broadcasting large task binary with size 1130.9 KiB\n",
      "25/05/10 21:32:02 WARN DAGScheduler: Broadcasting large task binary with size 1130.8 KiB\n",
      "25/05/10 21:32:02 WARN DAGScheduler: Broadcasting large task binary with size 1130.9 KiB\n",
      "25/05/10 21:32:02 WARN DAGScheduler: Broadcasting large task binary with size 1130.8 KiB\n",
      "25/05/10 21:32:02 WARN DAGScheduler: Broadcasting large task binary with size 1130.8 KiB\n",
      "25/05/10 21:32:02 WARN DAGScheduler: Broadcasting large task binary with size 1130.9 KiB\n",
      "25/05/10 21:32:02 WARN DAGScheduler: Broadcasting large task binary with size 1130.8 KiB\n",
      "25/05/10 21:32:02 WARN DAGScheduler: Broadcasting large task binary with size 1130.9 KiB\n",
      "25/05/10 21:32:02 WARN DAGScheduler: Broadcasting large task binary with size 1130.9 KiB\n",
      "25/05/10 21:32:02 WARN DAGScheduler: Broadcasting large task binary with size 1130.8 KiB\n",
      "25/05/10 21:32:02 WARN DAGScheduler: Broadcasting large task binary with size 1130.8 KiB\n",
      "25/05/10 21:32:02 WARN DAGScheduler: Broadcasting large task binary with size 1130.9 KiB\n",
      "25/05/10 21:32:02 WARN DAGScheduler: Broadcasting large task binary with size 1130.8 KiB\n",
      "25/05/10 21:32:02 WARN DAGScheduler: Broadcasting large task binary with size 1130.8 KiB\n",
      "25/05/10 21:32:03 WARN DAGScheduler: Broadcasting large task binary with size 1130.9 KiB\n",
      "25/05/10 21:32:03 WARN DAGScheduler: Broadcasting large task binary with size 1130.8 KiB\n",
      "25/05/10 21:32:03 WARN DAGScheduler: Broadcasting large task binary with size 1130.9 KiB\n",
      "25/05/10 21:32:03 WARN DAGScheduler: Broadcasting large task binary with size 1130.9 KiB\n",
      "25/05/10 21:32:03 WARN DAGScheduler: Broadcasting large task binary with size 1130.8 KiB\n",
      "25/05/10 21:32:03 WARN DAGScheduler: Broadcasting large task binary with size 1130.8 KiB\n",
      "25/05/10 21:32:03 WARN DAGScheduler: Broadcasting large task binary with size 1130.8 KiB\n",
      "25/05/10 21:32:03 WARN DAGScheduler: Broadcasting large task binary with size 1130.9 KiB\n",
      "25/05/10 21:32:03 WARN DAGScheduler: Broadcasting large task binary with size 1130.9 KiB\n",
      "25/05/10 21:32:03 WARN DAGScheduler: Broadcasting large task binary with size 1130.8 KiB\n",
      "25/05/10 21:32:03 WARN DAGScheduler: Broadcasting large task binary with size 1130.9 KiB\n",
      "25/05/10 21:32:03 WARN DAGScheduler: Broadcasting large task binary with size 1130.8 KiB\n",
      "25/05/10 21:32:03 WARN DAGScheduler: Broadcasting large task binary with size 1130.9 KiB\n",
      "25/05/10 21:32:03 WARN DAGScheduler: Broadcasting large task binary with size 1130.9 KiB\n",
      "25/05/10 21:32:03 WARN DAGScheduler: Broadcasting large task binary with size 1130.8 KiB\n",
      "25/05/10 21:32:03 WARN DAGScheduler: Broadcasting large task binary with size 1130.8 KiB\n",
      "25/05/10 21:32:03 WARN DAGScheduler: Broadcasting large task binary with size 1130.8 KiB\n",
      "25/05/10 21:32:03 WARN DAGScheduler: Broadcasting large task binary with size 1130.9 KiB\n",
      "25/05/10 21:32:03 WARN DAGScheduler: Broadcasting large task binary with size 1130.9 KiB\n",
      "25/05/10 21:32:04 WARN DAGScheduler: Broadcasting large task binary with size 1130.8 KiB\n",
      "25/05/10 21:32:04 WARN DAGScheduler: Broadcasting large task binary with size 1130.9 KiB\n",
      "25/05/10 21:32:04 WARN DAGScheduler: Broadcasting large task binary with size 1130.8 KiB\n",
      "25/05/10 21:32:04 WARN DAGScheduler: Broadcasting large task binary with size 1130.9 KiB\n",
      "25/05/10 21:32:04 WARN DAGScheduler: Broadcasting large task binary with size 1130.8 KiB\n",
      "25/05/10 21:32:04 WARN DAGScheduler: Broadcasting large task binary with size 1130.8 KiB\n",
      "25/05/10 21:32:04 WARN DAGScheduler: Broadcasting large task binary with size 1130.9 KiB\n",
      "25/05/10 21:32:04 WARN DAGScheduler: Broadcasting large task binary with size 1129.6 KiB\n",
      "25/05/10 21:32:04 WARN DAGScheduler: Broadcasting large task binary with size 1130.8 KiB\n",
      "25/05/10 21:32:04 WARN DAGScheduler: Broadcasting large task binary with size 1130.9 KiB\n",
      "25/05/10 21:32:04 WARN DAGScheduler: Broadcasting large task binary with size 1130.8 KiB\n",
      "25/05/10 21:32:04 WARN DAGScheduler: Broadcasting large task binary with size 1130.9 KiB\n",
      "25/05/10 21:32:04 WARN DAGScheduler: Broadcasting large task binary with size 1130.8 KiB\n",
      "25/05/10 21:32:04 WARN DAGScheduler: Broadcasting large task binary with size 1130.8 KiB\n",
      "25/05/10 21:32:04 WARN DAGScheduler: Broadcasting large task binary with size 1130.9 KiB\n",
      "25/05/10 21:32:04 WARN DAGScheduler: Broadcasting large task binary with size 1130.9 KiB\n"
     ]
    },
    {
     "name": "stderr",
     "output_type": "stream",
     "text": [
      "                                                                                "
     ]
    },
    {
     "name": "stdout",
     "output_type": "stream",
     "text": [
      "25/05/10 21:32:09 WARN DAGScheduler: Broadcasting large task binary with size 1130.8 KiB\n",
      "25/05/10 21:32:09 WARN DAGScheduler: Broadcasting large task binary with size 1130.9 KiB\n",
      "25/05/10 21:32:09 WARN DAGScheduler: Broadcasting large task binary with size 1130.8 KiB\n",
      "25/05/10 21:32:09 WARN DAGScheduler: Broadcasting large task binary with size 1130.8 KiB\n",
      "25/05/10 21:32:09 WARN DAGScheduler: Broadcasting large task binary with size 1130.9 KiB\n",
      "25/05/10 21:32:09 WARN DAGScheduler: Broadcasting large task binary with size 1130.8 KiB\n",
      "25/05/10 21:32:09 WARN DAGScheduler: Broadcasting large task binary with size 1130.9 KiB\n",
      "25/05/10 21:32:09 WARN DAGScheduler: Broadcasting large task binary with size 1130.9 KiB\n",
      "25/05/10 21:32:09 WARN DAGScheduler: Broadcasting large task binary with size 1130.8 KiB\n"
     ]
    },
    {
     "name": "stderr",
     "output_type": "stream",
     "text": [
      "                                                                                "
     ]
    },
    {
     "name": "stdout",
     "output_type": "stream",
     "text": [
      "25/05/10 21:32:14 WARN DAGScheduler: Broadcasting large task binary with size 1130.8 KiB\n",
      "25/05/10 21:32:14 WARN DAGScheduler: Broadcasting large task binary with size 1130.9 KiB\n",
      "25/05/10 21:32:14 WARN DAGScheduler: Broadcasting large task binary with size 1130.8 KiB\n",
      "25/05/10 21:32:14 WARN DAGScheduler: Broadcasting large task binary with size 1130.8 KiB\n",
      "25/05/10 21:32:14 WARN DAGScheduler: Broadcasting large task binary with size 1130.8 KiB\n",
      "25/05/10 21:32:14 WARN DAGScheduler: Broadcasting large task binary with size 1130.9 KiB\n",
      "25/05/10 21:32:14 WARN DAGScheduler: Broadcasting large task binary with size 1130.9 KiB\n",
      "25/05/10 21:32:14 WARN DAGScheduler: Broadcasting large task binary with size 1130.8 KiB\n",
      "25/05/10 21:32:14 WARN DAGScheduler: Broadcasting large task binary with size 1130.9 KiB\n",
      "25/05/10 21:32:14 WARN DAGScheduler: Broadcasting large task binary with size 1130.8 KiB\n",
      "25/05/10 21:32:14 WARN DAGScheduler: Broadcasting large task binary with size 1130.8 KiB\n",
      "25/05/10 21:32:14 WARN DAGScheduler: Broadcasting large task binary with size 1130.8 KiB\n",
      "25/05/10 21:32:14 WARN DAGScheduler: Broadcasting large task binary with size 1130.8 KiB\n",
      "25/05/10 21:32:14 WARN DAGScheduler: Broadcasting large task binary with size 1130.9 KiB\n",
      "25/05/10 21:32:14 WARN DAGScheduler: Broadcasting large task binary with size 1130.9 KiB\n",
      "25/05/10 21:32:14 WARN DAGScheduler: Broadcasting large task binary with size 1130.8 KiB\n",
      "25/05/10 21:32:14 WARN DAGScheduler: Broadcasting large task binary with size 1130.9 KiB\n",
      "25/05/10 21:32:15 WARN DAGScheduler: Broadcasting large task binary with size 1130.8 KiB\n",
      "25/05/10 21:32:15 WARN DAGScheduler: Broadcasting large task binary with size 1130.9 KiB\n",
      "25/05/10 21:32:15 WARN DAGScheduler: Broadcasting large task binary with size 1130.8 KiB\n",
      "25/05/10 21:32:15 WARN DAGScheduler: Broadcasting large task binary with size 1130.8 KiB\n",
      "25/05/10 21:32:15 WARN DAGScheduler: Broadcasting large task binary with size 1130.9 KiB\n",
      "25/05/10 21:32:15 WARN DAGScheduler: Broadcasting large task binary with size 1130.8 KiB\n",
      "25/05/10 21:32:15 WARN DAGScheduler: Broadcasting large task binary with size 1130.9 KiB\n",
      "25/05/10 21:32:15 WARN DAGScheduler: Broadcasting large task binary with size 1130.8 KiB\n",
      "25/05/10 21:32:15 WARN DAGScheduler: Broadcasting large task binary with size 1130.9 KiB\n",
      "25/05/10 21:32:15 WARN DAGScheduler: Broadcasting large task binary with size 1130.8 KiB\n",
      "25/05/10 21:32:15 WARN DAGScheduler: Broadcasting large task binary with size 1130.9 KiB\n",
      "25/05/10 21:32:15 WARN DAGScheduler: Broadcasting large task binary with size 1130.8 KiB\n",
      "25/05/10 21:32:15 WARN DAGScheduler: Broadcasting large task binary with size 1130.8 KiB\n",
      "25/05/10 21:32:15 WARN DAGScheduler: Broadcasting large task binary with size 1130.9 KiB\n",
      "25/05/10 21:32:15 WARN DAGScheduler: Broadcasting large task binary with size 1130.8 KiB\n",
      "25/05/10 21:32:15 WARN DAGScheduler: Broadcasting large task binary with size 1130.8 KiB\n",
      "25/05/10 21:32:15 WARN DAGScheduler: Broadcasting large task binary with size 1130.9 KiB\n",
      "25/05/10 21:32:15 WARN DAGScheduler: Broadcasting large task binary with size 1130.9 KiB\n",
      "25/05/10 21:32:15 WARN DAGScheduler: Broadcasting large task binary with size 1130.9 KiB\n",
      "25/05/10 21:32:15 WARN DAGScheduler: Broadcasting large task binary with size 1130.8 KiB\n",
      "25/05/10 21:32:15 WARN DAGScheduler: Broadcasting large task binary with size 1130.8 KiB\n",
      "25/05/10 21:32:15 WARN DAGScheduler: Broadcasting large task binary with size 1130.8 KiB\n",
      "25/05/10 21:32:15 WARN DAGScheduler: Broadcasting large task binary with size 1130.9 KiB\n",
      "25/05/10 21:32:15 WARN DAGScheduler: Broadcasting large task binary with size 1130.8 KiB\n",
      "25/05/10 21:32:15 WARN DAGScheduler: Broadcasting large task binary with size 1130.9 KiB\n",
      "25/05/10 21:32:15 WARN DAGScheduler: Broadcasting large task binary with size 1130.8 KiB\n",
      "25/05/10 21:32:15 WARN DAGScheduler: Broadcasting large task binary with size 1130.9 KiB\n",
      "25/05/10 21:32:15 WARN DAGScheduler: Broadcasting large task binary with size 1130.9 KiB\n",
      "25/05/10 21:32:15 WARN DAGScheduler: Broadcasting large task binary with size 1130.8 KiB\n",
      "25/05/10 21:32:16 WARN DAGScheduler: Broadcasting large task binary with size 1130.8 KiB\n",
      "25/05/10 21:32:16 WARN DAGScheduler: Broadcasting large task binary with size 1130.9 KiB\n",
      "25/05/10 21:32:16 WARN DAGScheduler: Broadcasting large task binary with size 1130.8 KiB\n",
      "25/05/10 21:32:16 WARN DAGScheduler: Broadcasting large task binary with size 1130.9 KiB\n",
      "25/05/10 21:32:16 WARN DAGScheduler: Broadcasting large task binary with size 1130.8 KiB\n",
      "25/05/10 21:32:16 WARN DAGScheduler: Broadcasting large task binary with size 1130.8 KiB\n",
      "25/05/10 21:32:16 WARN DAGScheduler: Broadcasting large task binary with size 1130.9 KiB\n",
      "25/05/10 21:32:16 WARN DAGScheduler: Broadcasting large task binary with size 1130.9 KiB\n",
      "25/05/10 21:32:16 WARN DAGScheduler: Broadcasting large task binary with size 1130.8 KiB\n",
      "25/05/10 21:32:16 WARN DAGScheduler: Broadcasting large task binary with size 1130.9 KiB\n",
      "25/05/10 21:32:16 WARN DAGScheduler: Broadcasting large task binary with size 1130.8 KiB\n",
      "25/05/10 21:32:16 WARN DAGScheduler: Broadcasting large task binary with size 1130.8 KiB\n",
      "25/05/10 21:32:16 WARN DAGScheduler: Broadcasting large task binary with size 1130.9 KiB\n",
      "25/05/10 21:32:16 WARN DAGScheduler: Broadcasting large task binary with size 1130.8 KiB\n",
      "25/05/10 21:32:16 WARN DAGScheduler: Broadcasting large task binary with size 1130.9 KiB\n",
      "25/05/10 21:32:16 WARN DAGScheduler: Broadcasting large task binary with size 1130.9 KiB\n",
      "25/05/10 21:32:16 WARN DAGScheduler: Broadcasting large task binary with size 1129.6 KiB\n",
      "25/05/10 21:32:16 WARN DAGScheduler: Broadcasting large task binary with size 1130.8 KiB\n",
      "25/05/10 21:32:16 WARN DAGScheduler: Broadcasting large task binary with size 1130.8 KiB\n",
      "25/05/10 21:32:16 WARN DAGScheduler: Broadcasting large task binary with size 1130.9 KiB\n",
      "25/05/10 21:32:16 WARN DAGScheduler: Broadcasting large task binary with size 1130.9 KiB\n",
      "25/05/10 21:32:16 WARN DAGScheduler: Broadcasting large task binary with size 1130.8 KiB\n",
      "25/05/10 21:32:16 WARN DAGScheduler: Broadcasting large task binary with size 1130.9 KiB\n",
      "25/05/10 21:32:16 WARN DAGScheduler: Broadcasting large task binary with size 1130.9 KiB\n",
      "25/05/10 21:32:17 WARN DAGScheduler: Broadcasting large task binary with size 1129.6 KiB\n"
     ]
    },
    {
     "name": "stderr",
     "output_type": "stream",
     "text": [
      "                                                                                "
     ]
    },
    {
     "name": "stdout",
     "output_type": "stream",
     "text": [
      "25/05/10 21:32:21 WARN DAGScheduler: Broadcasting large task binary with size 1130.8 KiB\n",
      "25/05/10 21:32:21 WARN DAGScheduler: Broadcasting large task binary with size 1130.8 KiB\n",
      "25/05/10 21:32:21 WARN DAGScheduler: Broadcasting large task binary with size 1130.9 KiB\n",
      "25/05/10 21:32:21 WARN DAGScheduler: Broadcasting large task binary with size 1130.8 KiB\n",
      "25/05/10 21:32:21 WARN DAGScheduler: Broadcasting large task binary with size 1130.8 KiB\n",
      "25/05/10 21:32:21 WARN DAGScheduler: Broadcasting large task binary with size 1130.9 KiB\n",
      "25/05/10 21:32:21 WARN DAGScheduler: Broadcasting large task binary with size 1130.9 KiB\n",
      "25/05/10 21:32:21 WARN DAGScheduler: Broadcasting large task binary with size 1130.9 KiB\n"
     ]
    },
    {
     "name": "stderr",
     "output_type": "stream",
     "text": [
      "                                                                                "
     ]
    },
    {
     "name": "stdout",
     "output_type": "stream",
     "text": [
      "25/05/10 21:32:26 WARN DAGScheduler: Broadcasting large task binary with size 1130.8 KiB\n"
     ]
    },
    {
     "name": "stderr",
     "output_type": "stream",
     "text": [
      "                                                                                "
     ]
    },
    {
     "name": "stdout",
     "output_type": "stream",
     "text": [
      "25/05/10 21:32:30 WARN DAGScheduler: Broadcasting large task binary with size 1130.8 KiB\n",
      "25/05/10 21:32:31 WARN DAGScheduler: Broadcasting large task binary with size 1130.8 KiB\n",
      "25/05/10 21:32:31 WARN DAGScheduler: Broadcasting large task binary with size 1130.9 KiB\n",
      "25/05/10 21:32:31 WARN DAGScheduler: Broadcasting large task binary with size 1130.8 KiB\n",
      "25/05/10 21:32:31 WARN DAGScheduler: Broadcasting large task binary with size 1130.9 KiB\n",
      "25/05/10 21:32:31 WARN DAGScheduler: Broadcasting large task binary with size 1130.8 KiB\n",
      "25/05/10 21:32:31 WARN DAGScheduler: Broadcasting large task binary with size 1130.9 KiB\n",
      "25/05/10 21:32:31 WARN DAGScheduler: Broadcasting large task binary with size 1130.9 KiB\n"
     ]
    },
    {
     "name": "stderr",
     "output_type": "stream",
     "text": [
      "                                                                                "
     ]
    },
    {
     "name": "stdout",
     "output_type": "stream",
     "text": [
      "25/05/10 21:32:35 WARN DAGScheduler: Broadcasting large task binary with size 1130.8 KiB\n",
      "25/05/10 21:32:35 WARN DAGScheduler: Broadcasting large task binary with size 1130.8 KiB\n",
      "25/05/10 21:32:35 WARN DAGScheduler: Broadcasting large task binary with size 1130.8 KiB\n",
      "25/05/10 21:32:35 WARN DAGScheduler: Broadcasting large task binary with size 1130.9 KiB\n",
      "25/05/10 21:32:36 WARN DAGScheduler: Broadcasting large task binary with size 1130.9 KiB\n",
      "25/05/10 21:32:36 WARN DAGScheduler: Broadcasting large task binary with size 1130.8 KiB\n",
      "25/05/10 21:32:36 WARN DAGScheduler: Broadcasting large task binary with size 1130.8 KiB\n",
      "25/05/10 21:32:36 WARN DAGScheduler: Broadcasting large task binary with size 1130.8 KiB\n",
      "25/05/10 21:32:36 WARN DAGScheduler: Broadcasting large task binary with size 1130.9 KiB\n",
      "25/05/10 21:32:36 WARN DAGScheduler: Broadcasting large task binary with size 1130.8 KiB\n",
      "25/05/10 21:32:36 WARN DAGScheduler: Broadcasting large task binary with size 1130.9 KiB\n",
      "25/05/10 21:32:36 WARN DAGScheduler: Broadcasting large task binary with size 1130.8 KiB\n",
      "25/05/10 21:32:36 WARN DAGScheduler: Broadcasting large task binary with size 1130.8 KiB\n",
      "25/05/10 21:32:36 WARN DAGScheduler: Broadcasting large task binary with size 1130.8 KiB\n",
      "25/05/10 21:32:36 WARN DAGScheduler: Broadcasting large task binary with size 1130.9 KiB\n",
      "25/05/10 21:32:36 WARN DAGScheduler: Broadcasting large task binary with size 1130.9 KiB\n",
      "25/05/10 21:32:36 WARN DAGScheduler: Broadcasting large task binary with size 1130.8 KiB\n",
      "25/05/10 21:32:36 WARN DAGScheduler: Broadcasting large task binary with size 1130.8 KiB\n",
      "25/05/10 21:32:36 WARN DAGScheduler: Broadcasting large task binary with size 1130.9 KiB\n",
      "25/05/10 21:32:36 WARN DAGScheduler: Broadcasting large task binary with size 1130.9 KiB\n",
      "25/05/10 21:32:36 WARN DAGScheduler: Broadcasting large task binary with size 1130.9 KiB\n",
      "25/05/10 21:32:36 WARN DAGScheduler: Broadcasting large task binary with size 1130.8 KiB\n",
      "25/05/10 21:32:36 WARN DAGScheduler: Broadcasting large task binary with size 1130.8 KiB\n",
      "25/05/10 21:32:36 WARN DAGScheduler: Broadcasting large task binary with size 1130.9 KiB\n",
      "25/05/10 21:32:36 WARN DAGScheduler: Broadcasting large task binary with size 1130.8 KiB\n",
      "25/05/10 21:32:36 WARN DAGScheduler: Broadcasting large task binary with size 1130.8 KiB\n",
      "25/05/10 21:32:36 WARN DAGScheduler: Broadcasting large task binary with size 1130.8 KiB\n",
      "25/05/10 21:32:37 WARN DAGScheduler: Broadcasting large task binary with size 1130.9 KiB\n",
      "25/05/10 21:32:37 WARN DAGScheduler: Broadcasting large task binary with size 1130.8 KiB\n",
      "25/05/10 21:32:37 WARN DAGScheduler: Broadcasting large task binary with size 1130.9 KiB\n",
      "25/05/10 21:32:37 WARN DAGScheduler: Broadcasting large task binary with size 1130.8 KiB\n",
      "25/05/10 21:32:37 WARN DAGScheduler: Broadcasting large task binary with size 1130.9 KiB\n",
      "25/05/10 21:32:37 WARN DAGScheduler: Broadcasting large task binary with size 1130.9 KiB\n",
      "25/05/10 21:32:37 WARN DAGScheduler: Broadcasting large task binary with size 1130.8 KiB\n",
      "25/05/10 21:32:37 WARN DAGScheduler: Broadcasting large task binary with size 1130.8 KiB\n",
      "25/05/10 21:32:37 WARN DAGScheduler: Broadcasting large task binary with size 1130.8 KiB\n",
      "25/05/10 21:32:37 WARN DAGScheduler: Broadcasting large task binary with size 1130.9 KiB\n",
      "25/05/10 21:32:37 WARN DAGScheduler: Broadcasting large task binary with size 1130.8 KiB\n",
      "25/05/10 21:32:37 WARN DAGScheduler: Broadcasting large task binary with size 1130.9 KiB\n",
      "25/05/10 21:32:37 WARN DAGScheduler: Broadcasting large task binary with size 1130.8 KiB\n",
      "25/05/10 21:32:37 WARN DAGScheduler: Broadcasting large task binary with size 1130.9 KiB\n",
      "25/05/10 21:32:37 WARN DAGScheduler: Broadcasting large task binary with size 1130.8 KiB\n",
      "25/05/10 21:32:37 WARN DAGScheduler: Broadcasting large task binary with size 1130.9 KiB\n",
      "25/05/10 21:32:37 WARN DAGScheduler: Broadcasting large task binary with size 1130.8 KiB\n",
      "25/05/10 21:32:37 WARN DAGScheduler: Broadcasting large task binary with size 1130.8 KiB\n",
      "25/05/10 21:32:37 WARN DAGScheduler: Broadcasting large task binary with size 1130.8 KiB\n",
      "25/05/10 21:32:37 WARN DAGScheduler: Broadcasting large task binary with size 1130.8 KiB\n",
      "25/05/10 21:32:37 WARN DAGScheduler: Broadcasting large task binary with size 1130.8 KiB\n",
      "25/05/10 21:32:37 WARN DAGScheduler: Broadcasting large task binary with size 1130.9 KiB\n",
      "25/05/10 21:32:37 WARN DAGScheduler: Broadcasting large task binary with size 1130.9 KiB\n",
      "25/05/10 21:32:37 WARN DAGScheduler: Broadcasting large task binary with size 1130.9 KiB\n",
      "25/05/10 21:32:37 WARN DAGScheduler: Broadcasting large task binary with size 1130.9 KiB\n",
      "25/05/10 21:32:38 WARN DAGScheduler: Broadcasting large task binary with size 1130.8 KiB\n",
      "25/05/10 21:32:38 WARN DAGScheduler: Broadcasting large task binary with size 1130.8 KiB\n",
      "25/05/10 21:32:38 WARN DAGScheduler: Broadcasting large task binary with size 1130.8 KiB\n",
      "25/05/10 21:32:38 WARN DAGScheduler: Broadcasting large task binary with size 1130.8 KiB\n",
      "25/05/10 21:32:38 WARN DAGScheduler: Broadcasting large task binary with size 1130.9 KiB\n",
      "25/05/10 21:32:38 WARN DAGScheduler: Broadcasting large task binary with size 1130.8 KiB\n",
      "25/05/10 21:32:38 WARN DAGScheduler: Broadcasting large task binary with size 1130.9 KiB\n",
      "25/05/10 21:32:38 WARN DAGScheduler: Broadcasting large task binary with size 1130.9 KiB\n"
     ]
    },
    {
     "name": "stderr",
     "output_type": "stream",
     "text": [
      "[Stage 4766:>                                                       (0 + 2) / 2]"
     ]
    },
    {
     "name": "stdout",
     "output_type": "stream",
     "text": [
      "25/05/10 21:32:38 WARN DAGScheduler: Broadcasting large task binary with size 1130.9 KiB\n",
      "25/05/10 21:32:38 WARN DAGScheduler: Broadcasting large task binary with size 1130.8 KiB\n",
      "25/05/10 21:32:39 WARN DAGScheduler: Broadcasting large task binary with size 1130.8 KiB\n",
      "25/05/10 21:32:39 WARN DAGScheduler: Broadcasting large task binary with size 1130.8 KiB\n",
      "25/05/10 21:32:39 WARN DAGScheduler: Broadcasting large task binary with size 1130.8 KiB\n",
      "25/05/10 21:32:39 WARN DAGScheduler: Broadcasting large task binary with size 1130.9 KiB\n",
      "25/05/10 21:32:39 WARN DAGScheduler: Broadcasting large task binary with size 1130.8 KiB\n",
      "25/05/10 21:32:39 WARN DAGScheduler: Broadcasting large task binary with size 1130.9 KiB\n",
      "25/05/10 21:32:39 WARN DAGScheduler: Broadcasting large task binary with size 1130.8 KiB\n",
      "25/05/10 21:32:39 WARN DAGScheduler: Broadcasting large task binary with size 1130.9 KiB\n",
      "25/05/10 21:32:39 WARN DAGScheduler: Broadcasting large task binary with size 1130.9 KiB\n",
      "25/05/10 21:32:39 WARN DAGScheduler: Broadcasting large task binary with size 1130.8 KiB\n",
      "25/05/10 21:32:39 WARN DAGScheduler: Broadcasting large task binary with size 1130.9 KiB\n"
     ]
    },
    {
     "name": "stderr",
     "output_type": "stream",
     "text": [
      "                                                                                "
     ]
    },
    {
     "name": "stdout",
     "output_type": "stream",
     "text": [
      "25/05/10 21:32:39 WARN DAGScheduler: Broadcasting large task binary with size 1130.8 KiB\n",
      "25/05/10 21:32:39 WARN DAGScheduler: Broadcasting large task binary with size 1130.8 KiB\n",
      "25/05/10 21:32:39 WARN DAGScheduler: Broadcasting large task binary with size 1130.8 KiB\n",
      "25/05/10 21:32:39 WARN DAGScheduler: Broadcasting large task binary with size 1130.9 KiB\n",
      "25/05/10 21:32:39 WARN DAGScheduler: Broadcasting large task binary with size 1130.8 KiB\n",
      "25/05/10 21:32:39 WARN DAGScheduler: Broadcasting large task binary with size 1130.9 KiB\n",
      "25/05/10 21:32:39 WARN DAGScheduler: Broadcasting large task binary with size 1130.9 KiB\n",
      "25/05/10 21:32:39 WARN DAGScheduler: Broadcasting large task binary with size 1130.8 KiB\n",
      "25/05/10 21:32:39 WARN DAGScheduler: Broadcasting large task binary with size 1130.8 KiB\n",
      "25/05/10 21:32:39 WARN DAGScheduler: Broadcasting large task binary with size 1130.8 KiB\n",
      "25/05/10 21:32:39 WARN DAGScheduler: Broadcasting large task binary with size 1130.9 KiB\n",
      "25/05/10 21:32:39 WARN DAGScheduler: Broadcasting large task binary with size 1130.8 KiB\n",
      "25/05/10 21:32:39 WARN DAGScheduler: Broadcasting large task binary with size 1130.9 KiB\n",
      "25/05/10 21:32:39 WARN DAGScheduler: Broadcasting large task binary with size 1130.8 KiB\n",
      "25/05/10 21:32:39 WARN DAGScheduler: Broadcasting large task binary with size 1130.8 KiB\n",
      "25/05/10 21:32:40 WARN DAGScheduler: Broadcasting large task binary with size 1130.8 KiB\n",
      "25/05/10 21:32:40 WARN DAGScheduler: Broadcasting large task binary with size 1130.9 KiB\n",
      "25/05/10 21:32:40 WARN DAGScheduler: Broadcasting large task binary with size 1130.9 KiB\n",
      "25/05/10 21:32:40 WARN DAGScheduler: Broadcasting large task binary with size 1130.8 KiB\n",
      "25/05/10 21:32:40 WARN DAGScheduler: Broadcasting large task binary with size 1130.8 KiB\n",
      "25/05/10 21:32:40 WARN DAGScheduler: Broadcasting large task binary with size 1130.9 KiB\n",
      "25/05/10 21:32:40 WARN DAGScheduler: Broadcasting large task binary with size 1130.8 KiB\n",
      "25/05/10 21:32:40 WARN DAGScheduler: Broadcasting large task binary with size 1130.9 KiB\n",
      "25/05/10 21:32:40 WARN DAGScheduler: Broadcasting large task binary with size 1130.8 KiB\n",
      "25/05/10 21:32:40 WARN DAGScheduler: Broadcasting large task binary with size 1130.8 KiB\n",
      "25/05/10 21:32:40 WARN DAGScheduler: Broadcasting large task binary with size 1130.9 KiB\n",
      "25/05/10 21:32:40 WARN DAGScheduler: Broadcasting large task binary with size 1130.9 KiB\n",
      "25/05/10 21:32:40 WARN DAGScheduler: Broadcasting large task binary with size 1130.9 KiB\n",
      "25/05/10 21:32:40 WARN DAGScheduler: Broadcasting large task binary with size 1130.9 KiB\n",
      "25/05/10 21:32:40 WARN DAGScheduler: Broadcasting large task binary with size 1130.8 KiB\n",
      "25/05/10 21:32:40 WARN DAGScheduler: Broadcasting large task binary with size 1130.8 KiB\n",
      "25/05/10 21:32:40 WARN DAGScheduler: Broadcasting large task binary with size 1130.8 KiB\n",
      "25/05/10 21:32:40 WARN DAGScheduler: Broadcasting large task binary with size 1130.8 KiB\n",
      "25/05/10 21:32:40 WARN DAGScheduler: Broadcasting large task binary with size 1130.8 KiB\n",
      "25/05/10 21:32:40 WARN DAGScheduler: Broadcasting large task binary with size 1130.9 KiB\n",
      "25/05/10 21:32:40 WARN DAGScheduler: Broadcasting large task binary with size 1130.9 KiB\n",
      "25/05/10 21:32:40 WARN DAGScheduler: Broadcasting large task binary with size 1130.9 KiB\n",
      "25/05/10 21:32:40 WARN DAGScheduler: Broadcasting large task binary with size 1130.9 KiB\n",
      "25/05/10 21:32:40 WARN DAGScheduler: Broadcasting large task binary with size 1130.8 KiB\n",
      "25/05/10 21:32:40 WARN DAGScheduler: Broadcasting large task binary with size 1130.8 KiB\n",
      "25/05/10 21:32:40 WARN DAGScheduler: Broadcasting large task binary with size 1130.8 KiB\n",
      "25/05/10 21:32:40 WARN DAGScheduler: Broadcasting large task binary with size 1130.8 KiB\n",
      "25/05/10 21:32:40 WARN DAGScheduler: Broadcasting large task binary with size 1130.9 KiB\n",
      "25/05/10 21:32:40 WARN DAGScheduler: Broadcasting large task binary with size 1130.9 KiB\n",
      "25/05/10 21:32:40 WARN DAGScheduler: Broadcasting large task binary with size 1130.9 KiB\n",
      "25/05/10 21:32:41 WARN DAGScheduler: Broadcasting large task binary with size 1130.8 KiB\n",
      "25/05/10 21:32:41 WARN DAGScheduler: Broadcasting large task binary with size 1130.9 KiB\n",
      "25/05/10 21:32:41 WARN DAGScheduler: Broadcasting large task binary with size 1130.8 KiB\n",
      "25/05/10 21:32:41 WARN DAGScheduler: Broadcasting large task binary with size 1130.8 KiB\n",
      "25/05/10 21:32:41 WARN DAGScheduler: Broadcasting large task binary with size 1130.8 KiB\n",
      "25/05/10 21:32:41 WARN DAGScheduler: Broadcasting large task binary with size 1130.9 KiB\n",
      "25/05/10 21:32:41 WARN DAGScheduler: Broadcasting large task binary with size 1130.9 KiB\n",
      "25/05/10 21:32:41 WARN DAGScheduler: Broadcasting large task binary with size 1130.8 KiB\n",
      "25/05/10 21:32:41 WARN DAGScheduler: Broadcasting large task binary with size 1130.8 KiB\n",
      "25/05/10 21:32:41 WARN DAGScheduler: Broadcasting large task binary with size 1130.9 KiB\n",
      "25/05/10 21:32:41 WARN DAGScheduler: Broadcasting large task binary with size 1130.8 KiB\n",
      "25/05/10 21:32:41 WARN DAGScheduler: Broadcasting large task binary with size 1130.8 KiB\n",
      "25/05/10 21:32:41 WARN DAGScheduler: Broadcasting large task binary with size 1130.8 KiB\n",
      "25/05/10 21:32:41 WARN DAGScheduler: Broadcasting large task binary with size 1130.9 KiB\n",
      "25/05/10 21:32:41 WARN DAGScheduler: Broadcasting large task binary with size 1130.8 KiB\n",
      "25/05/10 21:32:41 WARN DAGScheduler: Broadcasting large task binary with size 1130.9 KiB\n",
      "25/05/10 21:32:41 WARN DAGScheduler: Broadcasting large task binary with size 1130.9 KiB\n",
      "25/05/10 21:32:41 WARN DAGScheduler: Broadcasting large task binary with size 1130.8 KiB\n",
      "25/05/10 21:32:41 WARN DAGScheduler: Broadcasting large task binary with size 1130.8 KiB\n",
      "25/05/10 21:32:41 WARN DAGScheduler: Broadcasting large task binary with size 1130.9 KiB\n",
      "25/05/10 21:32:41 WARN DAGScheduler: Broadcasting large task binary with size 1130.8 KiB\n",
      "25/05/10 21:32:41 WARN DAGScheduler: Broadcasting large task binary with size 1130.8 KiB\n",
      "25/05/10 21:32:42 WARN DAGScheduler: Broadcasting large task binary with size 1130.9 KiB\n",
      "25/05/10 21:32:42 WARN DAGScheduler: Broadcasting large task binary with size 1130.8 KiB\n",
      "25/05/10 21:32:42 WARN DAGScheduler: Broadcasting large task binary with size 1130.9 KiB\n",
      "25/05/10 21:32:42 WARN DAGScheduler: Broadcasting large task binary with size 1130.9 KiB\n",
      "25/05/10 21:32:42 WARN DAGScheduler: Broadcasting large task binary with size 1130.8 KiB\n",
      "25/05/10 21:32:42 WARN DAGScheduler: Broadcasting large task binary with size 1130.8 KiB\n",
      "25/05/10 21:32:42 WARN DAGScheduler: Broadcasting large task binary with size 1130.8 KiB\n",
      "25/05/10 21:32:42 WARN DAGScheduler: Broadcasting large task binary with size 1130.9 KiB\n",
      "25/05/10 21:32:42 WARN DAGScheduler: Broadcasting large task binary with size 1130.8 KiB\n",
      "25/05/10 21:32:42 WARN DAGScheduler: Broadcasting large task binary with size 1130.8 KiB\n",
      "25/05/10 21:32:42 WARN DAGScheduler: Broadcasting large task binary with size 1130.9 KiB\n",
      "25/05/10 21:32:42 WARN DAGScheduler: Broadcasting large task binary with size 1130.9 KiB\n",
      "25/05/10 21:32:42 WARN DAGScheduler: Broadcasting large task binary with size 1130.8 KiB\n",
      "25/05/10 21:32:42 WARN DAGScheduler: Broadcasting large task binary with size 1130.8 KiB\n",
      "25/05/10 21:32:42 WARN DAGScheduler: Broadcasting large task binary with size 1130.8 KiB\n",
      "25/05/10 21:32:42 WARN DAGScheduler: Broadcasting large task binary with size 1130.9 KiB\n",
      "25/05/10 21:32:42 WARN DAGScheduler: Broadcasting large task binary with size 1130.9 KiB\n",
      "25/05/10 21:32:42 WARN DAGScheduler: Broadcasting large task binary with size 1130.8 KiB\n",
      "25/05/10 21:32:42 WARN DAGScheduler: Broadcasting large task binary with size 1130.9 KiB\n",
      "25/05/10 21:32:42 WARN DAGScheduler: Broadcasting large task binary with size 1130.8 KiB\n",
      "25/05/10 21:32:42 WARN DAGScheduler: Broadcasting large task binary with size 1130.9 KiB\n",
      "25/05/10 21:32:42 WARN DAGScheduler: Broadcasting large task binary with size 1130.8 KiB\n",
      "25/05/10 21:32:42 WARN DAGScheduler: Broadcasting large task binary with size 1130.9 KiB\n",
      "25/05/10 21:32:43 WARN DAGScheduler: Broadcasting large task binary with size 1130.9 KiB\n",
      "25/05/10 21:32:43 WARN DAGScheduler: Broadcasting large task binary with size 1130.8 KiB\n",
      "25/05/10 21:32:43 WARN DAGScheduler: Broadcasting large task binary with size 1130.8 KiB\n",
      "25/05/10 21:32:43 WARN DAGScheduler: Broadcasting large task binary with size 1129.6 KiB\n",
      "25/05/10 21:32:43 WARN DAGScheduler: Broadcasting large task binary with size 1130.8 KiB\n",
      "25/05/10 21:32:43 WARN DAGScheduler: Broadcasting large task binary with size 1130.9 KiB\n",
      "25/05/10 21:32:43 WARN DAGScheduler: Broadcasting large task binary with size 1130.8 KiB\n",
      "25/05/10 21:32:43 WARN DAGScheduler: Broadcasting large task binary with size 1130.9 KiB\n",
      "25/05/10 21:32:43 WARN DAGScheduler: Broadcasting large task binary with size 1130.9 KiB\n",
      "25/05/10 21:32:43 WARN DAGScheduler: Broadcasting large task binary with size 1130.9 KiB\n",
      "25/05/10 21:32:43 WARN DAGScheduler: Broadcasting large task binary with size 1130.8 KiB\n",
      "25/05/10 21:32:43 WARN DAGScheduler: Broadcasting large task binary with size 1130.8 KiB\n"
     ]
    },
    {
     "name": "stderr",
     "output_type": "stream",
     "text": [
      "                                                                                "
     ]
    },
    {
     "name": "stdout",
     "output_type": "stream",
     "text": [
      "25/05/10 21:32:47 WARN DAGScheduler: Broadcasting large task binary with size 1130.8 KiB\n",
      "25/05/10 21:32:47 WARN DAGScheduler: Broadcasting large task binary with size 1130.8 KiB\n",
      "25/05/10 21:32:47 WARN DAGScheduler: Broadcasting large task binary with size 1130.9 KiB\n",
      "25/05/10 21:32:47 WARN DAGScheduler: Broadcasting large task binary with size 1130.8 KiB\n",
      "25/05/10 21:32:48 WARN DAGScheduler: Broadcasting large task binary with size 1130.9 KiB\n",
      "25/05/10 21:32:48 WARN DAGScheduler: Broadcasting large task binary with size 1130.9 KiB\n",
      "25/05/10 21:32:48 WARN DAGScheduler: Broadcasting large task binary with size 1130.9 KiB\n",
      "25/05/10 21:32:48 WARN DAGScheduler: Broadcasting large task binary with size 1130.8 KiB\n",
      "25/05/10 21:32:48 WARN DAGScheduler: Broadcasting large task binary with size 1130.8 KiB\n"
     ]
    },
    {
     "name": "stderr",
     "output_type": "stream",
     "text": [
      "                                                                                "
     ]
    },
    {
     "name": "stdout",
     "output_type": "stream",
     "text": [
      "25/05/10 21:32:52 WARN DAGScheduler: Broadcasting large task binary with size 1130.8 KiB\n",
      "25/05/10 21:32:52 WARN DAGScheduler: Broadcasting large task binary with size 1130.8 KiB\n",
      "25/05/10 21:32:52 WARN DAGScheduler: Broadcasting large task binary with size 1130.9 KiB\n",
      "25/05/10 21:32:52 WARN DAGScheduler: Broadcasting large task binary with size 1130.9 KiB\n",
      "25/05/10 21:32:52 WARN DAGScheduler: Broadcasting large task binary with size 1130.8 KiB\n",
      "25/05/10 21:32:52 WARN DAGScheduler: Broadcasting large task binary with size 1130.9 KiB\n",
      "25/05/10 21:32:52 WARN DAGScheduler: Broadcasting large task binary with size 1130.9 KiB\n",
      "25/05/10 21:32:52 WARN DAGScheduler: Broadcasting large task binary with size 1130.8 KiB\n",
      "25/05/10 21:32:52 WARN DAGScheduler: Broadcasting large task binary with size 1130.8 KiB\n",
      "25/05/10 21:32:53 WARN DAGScheduler: Broadcasting large task binary with size 1130.8 KiB\n",
      "25/05/10 21:32:53 WARN DAGScheduler: Broadcasting large task binary with size 1130.8 KiB\n",
      "25/05/10 21:32:53 WARN DAGScheduler: Broadcasting large task binary with size 1130.9 KiB\n",
      "25/05/10 21:32:53 WARN DAGScheduler: Broadcasting large task binary with size 1130.9 KiB\n",
      "25/05/10 21:32:53 WARN DAGScheduler: Broadcasting large task binary with size 1130.8 KiB\n",
      "25/05/10 21:32:53 WARN DAGScheduler: Broadcasting large task binary with size 1130.9 KiB\n",
      "25/05/10 21:32:53 WARN DAGScheduler: Broadcasting large task binary with size 1130.9 KiB\n",
      "25/05/10 21:32:53 WARN DAGScheduler: Broadcasting large task binary with size 1130.8 KiB\n",
      "25/05/10 21:32:53 WARN DAGScheduler: Broadcasting large task binary with size 1130.8 KiB\n",
      "25/05/10 21:32:53 WARN DAGScheduler: Broadcasting large task binary with size 1130.8 KiB\n",
      "25/05/10 21:32:53 WARN DAGScheduler: Broadcasting large task binary with size 1130.8 KiB\n",
      "25/05/10 21:32:53 WARN DAGScheduler: Broadcasting large task binary with size 1130.9 KiB\n",
      "25/05/10 21:32:53 WARN DAGScheduler: Broadcasting large task binary with size 1130.8 KiB\n",
      "25/05/10 21:32:53 WARN DAGScheduler: Broadcasting large task binary with size 1130.9 KiB\n",
      "25/05/10 21:32:53 WARN DAGScheduler: Broadcasting large task binary with size 1130.8 KiB\n",
      "25/05/10 21:32:53 WARN DAGScheduler: Broadcasting large task binary with size 1130.8 KiB\n",
      "25/05/10 21:32:54 WARN DAGScheduler: Broadcasting large task binary with size 1130.8 KiB\n",
      "25/05/10 21:32:54 WARN DAGScheduler: Broadcasting large task binary with size 1130.9 KiB\n",
      "25/05/10 21:32:54 WARN DAGScheduler: Broadcasting large task binary with size 1130.8 KiB\n",
      "25/05/10 21:32:54 WARN DAGScheduler: Broadcasting large task binary with size 1129.7 KiB\n",
      "25/05/10 21:32:54 WARN DAGScheduler: Broadcasting large task binary with size 1129.7 KiB\n",
      "25/05/10 21:32:54 WARN DAGScheduler: Broadcasting large task binary with size 1130.8 KiB\n",
      "25/05/10 21:32:54 WARN DAGScheduler: Broadcasting large task binary with size 1130.8 KiB\n",
      "25/05/10 21:32:54 WARN DAGScheduler: Broadcasting large task binary with size 1129.6 KiB\n",
      "25/05/10 21:32:54 WARN DAGScheduler: Broadcasting large task binary with size 1130.8 KiB\n",
      "25/05/10 21:32:54 WARN DAGScheduler: Broadcasting large task binary with size 1130.9 KiB\n",
      "25/05/10 21:32:54 WARN DAGScheduler: Broadcasting large task binary with size 1130.8 KiB\n",
      "25/05/10 21:32:54 WARN DAGScheduler: Broadcasting large task binary with size 1129.7 KiB\n"
     ]
    },
    {
     "name": "stderr",
     "output_type": "stream",
     "text": [
      "                                                                                "
     ]
    },
    {
     "name": "stdout",
     "output_type": "stream",
     "text": [
      "25/05/10 21:32:59 WARN DAGScheduler: Broadcasting large task binary with size 1130.9 KiB\n"
     ]
    },
    {
     "name": "stderr",
     "output_type": "stream",
     "text": [
      "                                                                                "
     ]
    },
    {
     "name": "stdout",
     "output_type": "stream",
     "text": [
      "25/05/10 21:33:03 WARN DAGScheduler: Broadcasting large task binary with size 1130.9 KiB\n",
      "25/05/10 21:33:03 WARN DAGScheduler: Broadcasting large task binary with size 1130.8 KiB\n",
      "25/05/10 21:33:03 WARN DAGScheduler: Broadcasting large task binary with size 1130.8 KiB\n"
     ]
    },
    {
     "name": "stderr",
     "output_type": "stream",
     "text": [
      "                                                                                "
     ]
    },
    {
     "name": "stdout",
     "output_type": "stream",
     "text": [
      "25/05/10 21:33:08 WARN DAGScheduler: Broadcasting large task binary with size 1130.8 KiB\n",
      "25/05/10 21:33:08 WARN DAGScheduler: Broadcasting large task binary with size 1130.9 KiB\n",
      "25/05/10 21:33:08 WARN DAGScheduler: Broadcasting large task binary with size 1130.8 KiB\n",
      "25/05/10 21:33:08 WARN DAGScheduler: Broadcasting large task binary with size 1130.8 KiB\n"
     ]
    },
    {
     "name": "stderr",
     "output_type": "stream",
     "text": [
      "                                                                                "
     ]
    },
    {
     "name": "stdout",
     "output_type": "stream",
     "text": [
      "25/05/10 21:33:13 WARN DAGScheduler: Broadcasting large task binary with size 1130.9 KiB\n"
     ]
    },
    {
     "name": "stderr",
     "output_type": "stream",
     "text": [
      "                                                                                "
     ]
    },
    {
     "name": "stdout",
     "output_type": "stream",
     "text": [
      "25/05/10 21:33:17 WARN DAGScheduler: Broadcasting large task binary with size 1130.9 KiB\n"
     ]
    },
    {
     "name": "stderr",
     "output_type": "stream",
     "text": [
      "                                                                                "
     ]
    },
    {
     "name": "stdout",
     "output_type": "stream",
     "text": [
      "25/05/10 21:33:22 WARN DAGScheduler: Broadcasting large task binary with size 1130.9 KiB\n",
      "25/05/10 21:33:22 WARN DAGScheduler: Broadcasting large task binary with size 1130.8 KiB\n",
      "25/05/10 21:33:22 WARN DAGScheduler: Broadcasting large task binary with size 1130.8 KiB\n"
     ]
    },
    {
     "name": "stderr",
     "output_type": "stream",
     "text": [
      "                                                                                "
     ]
    },
    {
     "name": "stdout",
     "output_type": "stream",
     "text": [
      "25/05/10 21:33:26 WARN DAGScheduler: Broadcasting large task binary with size 1130.9 KiB\n",
      "25/05/10 21:33:26 WARN DAGScheduler: Broadcasting large task binary with size 1130.8 KiB\n",
      "25/05/10 21:33:26 WARN DAGScheduler: Broadcasting large task binary with size 1130.8 KiB\n",
      "25/05/10 21:33:27 WARN DAGScheduler: Broadcasting large task binary with size 1130.8 KiB\n",
      "25/05/10 21:33:27 WARN DAGScheduler: Broadcasting large task binary with size 1130.9 KiB\n",
      "25/05/10 21:33:27 WARN DAGScheduler: Broadcasting large task binary with size 1130.9 KiB\n",
      "25/05/10 21:33:27 WARN DAGScheduler: Broadcasting large task binary with size 1130.8 KiB\n",
      "25/05/10 21:33:27 WARN DAGScheduler: Broadcasting large task binary with size 1130.8 KiB\n"
     ]
    },
    {
     "name": "stderr",
     "output_type": "stream",
     "text": [
      "                                                                                "
     ]
    },
    {
     "name": "stdout",
     "output_type": "stream",
     "text": [
      "25/05/10 21:33:31 WARN DAGScheduler: Broadcasting large task binary with size 1130.9 KiB\n",
      "25/05/10 21:33:31 WARN DAGScheduler: Broadcasting large task binary with size 1130.9 KiB\n",
      "25/05/10 21:33:31 WARN DAGScheduler: Broadcasting large task binary with size 1130.8 KiB\n",
      "25/05/10 21:33:31 WARN DAGScheduler: Broadcasting large task binary with size 1130.8 KiB\n",
      "25/05/10 21:33:31 WARN DAGScheduler: Broadcasting large task binary with size 1130.8 KiB\n",
      "25/05/10 21:33:31 WARN DAGScheduler: Broadcasting large task binary with size 1130.9 KiB\n",
      "25/05/10 21:33:31 WARN DAGScheduler: Broadcasting large task binary with size 1130.8 KiB\n",
      "25/05/10 21:33:31 WARN DAGScheduler: Broadcasting large task binary with size 1130.9 KiB\n",
      "25/05/10 21:33:31 WARN DAGScheduler: Broadcasting large task binary with size 1130.8 KiB\n",
      "25/05/10 21:33:31 WARN DAGScheduler: Broadcasting large task binary with size 1130.9 KiB\n",
      "25/05/10 21:33:31 WARN DAGScheduler: Broadcasting large task binary with size 1130.9 KiB\n",
      "25/05/10 21:33:31 WARN DAGScheduler: Broadcasting large task binary with size 1130.8 KiB\n",
      "25/05/10 21:33:31 WARN DAGScheduler: Broadcasting large task binary with size 1130.8 KiB\n",
      "25/05/10 21:33:31 WARN DAGScheduler: Broadcasting large task binary with size 1130.8 KiB\n",
      "25/05/10 21:33:32 WARN DAGScheduler: Broadcasting large task binary with size 1130.9 KiB\n",
      "25/05/10 21:33:32 WARN DAGScheduler: Broadcasting large task binary with size 1130.9 KiB\n",
      "25/05/10 21:33:32 WARN DAGScheduler: Broadcasting large task binary with size 1130.8 KiB\n",
      "25/05/10 21:33:32 WARN DAGScheduler: Broadcasting large task binary with size 1130.8 KiB\n",
      "25/05/10 21:33:32 WARN DAGScheduler: Broadcasting large task binary with size 1130.9 KiB\n",
      "25/05/10 21:33:32 WARN DAGScheduler: Broadcasting large task binary with size 1130.9 KiB\n",
      "25/05/10 21:33:32 WARN DAGScheduler: Broadcasting large task binary with size 1130.8 KiB\n",
      "25/05/10 21:33:32 WARN DAGScheduler: Broadcasting large task binary with size 1130.9 KiB\n",
      "25/05/10 21:33:32 WARN DAGScheduler: Broadcasting large task binary with size 1130.8 KiB\n",
      "25/05/10 21:33:32 WARN DAGScheduler: Broadcasting large task binary with size 1130.8 KiB\n",
      "25/05/10 21:33:32 WARN DAGScheduler: Broadcasting large task binary with size 1130.8 KiB\n",
      "25/05/10 21:33:32 WARN DAGScheduler: Broadcasting large task binary with size 1130.8 KiB\n",
      "25/05/10 21:33:32 WARN DAGScheduler: Broadcasting large task binary with size 1130.9 KiB\n",
      "25/05/10 21:33:32 WARN DAGScheduler: Broadcasting large task binary with size 1130.9 KiB\n",
      "25/05/10 21:33:32 WARN DAGScheduler: Broadcasting large task binary with size 1130.8 KiB\n",
      "25/05/10 21:33:32 WARN DAGScheduler: Broadcasting large task binary with size 1130.9 KiB\n",
      "25/05/10 21:33:32 WARN DAGScheduler: Broadcasting large task binary with size 1130.9 KiB\n",
      "25/05/10 21:33:32 WARN DAGScheduler: Broadcasting large task binary with size 1130.8 KiB\n",
      "25/05/10 21:33:32 WARN DAGScheduler: Broadcasting large task binary with size 1130.8 KiB\n",
      "25/05/10 21:33:32 WARN DAGScheduler: Broadcasting large task binary with size 1130.8 KiB\n",
      "25/05/10 21:33:32 WARN DAGScheduler: Broadcasting large task binary with size 1130.9 KiB\n",
      "25/05/10 21:33:32 WARN DAGScheduler: Broadcasting large task binary with size 1130.8 KiB\n",
      "25/05/10 21:33:32 WARN DAGScheduler: Broadcasting large task binary with size 1130.9 KiB\n",
      "25/05/10 21:33:32 WARN DAGScheduler: Broadcasting large task binary with size 1130.9 KiB\n",
      "25/05/10 21:33:32 WARN DAGScheduler: Broadcasting large task binary with size 1130.9 KiB\n",
      "25/05/10 21:33:32 WARN DAGScheduler: Broadcasting large task binary with size 1130.8 KiB\n",
      "25/05/10 21:33:33 WARN DAGScheduler: Broadcasting large task binary with size 1130.8 KiB\n",
      "25/05/10 21:33:33 WARN DAGScheduler: Broadcasting large task binary with size 1130.8 KiB\n",
      "25/05/10 21:33:33 WARN DAGScheduler: Broadcasting large task binary with size 1130.8 KiB\n",
      "25/05/10 21:33:33 WARN DAGScheduler: Broadcasting large task binary with size 1130.9 KiB\n",
      "25/05/10 21:33:33 WARN DAGScheduler: Broadcasting large task binary with size 1129.6 KiB\n",
      "25/05/10 21:33:33 WARN DAGScheduler: Broadcasting large task binary with size 1130.9 KiB\n",
      "25/05/10 21:33:33 WARN DAGScheduler: Broadcasting large task binary with size 1130.9 KiB\n",
      "25/05/10 21:33:33 WARN DAGScheduler: Broadcasting large task binary with size 1130.8 KiB\n",
      "25/05/10 21:33:33 WARN DAGScheduler: Broadcasting large task binary with size 1130.9 KiB\n",
      "25/05/10 21:33:33 WARN DAGScheduler: Broadcasting large task binary with size 1130.8 KiB\n",
      "25/05/10 21:33:33 WARN DAGScheduler: Broadcasting large task binary with size 1130.8 KiB\n",
      "25/05/10 21:33:33 WARN DAGScheduler: Broadcasting large task binary with size 1130.8 KiB\n",
      "25/05/10 21:33:33 WARN DAGScheduler: Broadcasting large task binary with size 1130.9 KiB\n"
     ]
    },
    {
     "name": "stderr",
     "output_type": "stream",
     "text": [
      "                                                                                "
     ]
    },
    {
     "name": "stdout",
     "output_type": "stream",
     "text": [
      "25/05/10 21:33:37 WARN DAGScheduler: Broadcasting large task binary with size 1130.9 KiB\n",
      "25/05/10 21:33:37 WARN DAGScheduler: Broadcasting large task binary with size 1130.9 KiB\n",
      "25/05/10 21:33:37 WARN DAGScheduler: Broadcasting large task binary with size 1130.9 KiB\n",
      "25/05/10 21:33:37 WARN DAGScheduler: Broadcasting large task binary with size 1130.9 KiB\n",
      "25/05/10 21:33:37 WARN DAGScheduler: Broadcasting large task binary with size 1130.9 KiB\n",
      "25/05/10 21:33:37 WARN DAGScheduler: Broadcasting large task binary with size 1130.9 KiB\n",
      "25/05/10 21:33:37 WARN DAGScheduler: Broadcasting large task binary with size 1130.8 KiB\n",
      "25/05/10 21:33:37 WARN DAGScheduler: Broadcasting large task binary with size 1130.9 KiB\n",
      "25/05/10 21:33:37 WARN DAGScheduler: Broadcasting large task binary with size 1130.9 KiB\n",
      "25/05/10 21:33:37 WARN DAGScheduler: Broadcasting large task binary with size 1130.8 KiB\n",
      "25/05/10 21:33:38 WARN DAGScheduler: Broadcasting large task binary with size 1130.9 KiB\n",
      "25/05/10 21:33:38 WARN DAGScheduler: Broadcasting large task binary with size 1130.8 KiB\n",
      "25/05/10 21:33:38 WARN DAGScheduler: Broadcasting large task binary with size 1130.8 KiB\n",
      "25/05/10 21:33:38 WARN DAGScheduler: Broadcasting large task binary with size 1130.8 KiB\n",
      "25/05/10 21:33:38 WARN DAGScheduler: Broadcasting large task binary with size 1130.9 KiB\n"
     ]
    },
    {
     "name": "stderr",
     "output_type": "stream",
     "text": [
      "                                                                                "
     ]
    },
    {
     "name": "stdout",
     "output_type": "stream",
     "text": [
      "25/05/10 21:33:41 WARN DAGScheduler: Broadcasting large task binary with size 1130.9 KiB\n",
      "25/05/10 21:33:41 WARN DAGScheduler: Broadcasting large task binary with size 1130.9 KiB\n",
      "25/05/10 21:33:41 WARN DAGScheduler: Broadcasting large task binary with size 1130.9 KiB\n",
      "25/05/10 21:33:42 WARN DAGScheduler: Broadcasting large task binary with size 1130.9 KiB\n",
      "25/05/10 21:33:42 WARN DAGScheduler: Broadcasting large task binary with size 1130.9 KiB\n",
      "25/05/10 21:33:42 WARN DAGScheduler: Broadcasting large task binary with size 1130.9 KiB\n",
      "25/05/10 21:33:42 WARN DAGScheduler: Broadcasting large task binary with size 1130.9 KiB\n",
      "25/05/10 21:33:42 WARN DAGScheduler: Broadcasting large task binary with size 1130.8 KiB\n",
      "25/05/10 21:33:42 WARN DAGScheduler: Broadcasting large task binary with size 1130.9 KiB\n",
      "25/05/10 21:33:42 WARN DAGScheduler: Broadcasting large task binary with size 1130.9 KiB\n",
      "25/05/10 21:33:42 WARN DAGScheduler: Broadcasting large task binary with size 1130.8 KiB\n",
      "25/05/10 21:33:42 WARN DAGScheduler: Broadcasting large task binary with size 1130.8 KiB\n",
      "25/05/10 21:33:42 WARN DAGScheduler: Broadcasting large task binary with size 1130.9 KiB\n",
      "25/05/10 21:33:42 WARN DAGScheduler: Broadcasting large task binary with size 1130.8 KiB\n",
      "25/05/10 21:33:42 WARN DAGScheduler: Broadcasting large task binary with size 1130.8 KiB\n",
      "25/05/10 21:33:42 WARN DAGScheduler: Broadcasting large task binary with size 1130.9 KiB\n",
      "25/05/10 21:33:43 WARN DAGScheduler: Broadcasting large task binary with size 1130.9 KiB\n",
      "25/05/10 21:33:43 WARN DAGScheduler: Broadcasting large task binary with size 1130.9 KiB\n",
      "25/05/10 21:33:43 WARN DAGScheduler: Broadcasting large task binary with size 1130.9 KiB\n",
      "25/05/10 21:33:43 WARN DAGScheduler: Broadcasting large task binary with size 1130.8 KiB\n",
      "25/05/10 21:33:43 WARN DAGScheduler: Broadcasting large task binary with size 1130.8 KiB\n",
      "25/05/10 21:33:43 WARN DAGScheduler: Broadcasting large task binary with size 1130.8 KiB\n",
      "25/05/10 21:33:43 WARN DAGScheduler: Broadcasting large task binary with size 1129.7 KiB\n",
      "25/05/10 21:33:43 WARN DAGScheduler: Broadcasting large task binary with size 1130.8 KiB\n",
      "25/05/10 21:33:43 WARN DAGScheduler: Broadcasting large task binary with size 1129.6 KiB\n",
      "25/05/10 21:33:43 WARN DAGScheduler: Broadcasting large task binary with size 1130.9 KiB\n",
      "25/05/10 21:33:43 WARN DAGScheduler: Broadcasting large task binary with size 1130.9 KiB\n",
      "25/05/10 21:33:43 WARN DAGScheduler: Broadcasting large task binary with size 1130.8 KiB\n",
      "25/05/10 21:33:43 WARN DAGScheduler: Broadcasting large task binary with size 1130.8 KiB\n",
      "25/05/10 21:33:43 WARN DAGScheduler: Broadcasting large task binary with size 1130.9 KiB\n",
      "25/05/10 21:33:43 WARN DAGScheduler: Broadcasting large task binary with size 1130.8 KiB\n"
     ]
    },
    {
     "name": "stderr",
     "output_type": "stream",
     "text": [
      "                                                                                "
     ]
    },
    {
     "name": "stdout",
     "output_type": "stream",
     "text": [
      "25/05/10 21:33:47 WARN DAGScheduler: Broadcasting large task binary with size 1130.9 KiB\n",
      "25/05/10 21:33:48 WARN DAGScheduler: Broadcasting large task binary with size 1130.8 KiB\n"
     ]
    },
    {
     "name": "stderr",
     "output_type": "stream",
     "text": [
      "                                                                                "
     ]
    },
    {
     "name": "stdout",
     "output_type": "stream",
     "text": [
      "25/05/10 21:33:50 WARN DAGScheduler: Broadcasting large task binary with size 1130.9 KiB\n"
     ]
    },
    {
     "name": "stderr",
     "output_type": "stream",
     "text": [
      "                                                                                "
     ]
    },
    {
     "name": "stdout",
     "output_type": "stream",
     "text": [
      "25/05/10 21:33:52 WARN DAGScheduler: Broadcasting large task binary with size 1130.8 KiB\n",
      "25/05/10 21:33:52 WARN DAGScheduler: Broadcasting large task binary with size 1130.9 KiB\n",
      "25/05/10 21:33:52 WARN DAGScheduler: Broadcasting large task binary with size 1130.8 KiB\n",
      "25/05/10 21:33:52 WARN DAGScheduler: Broadcasting large task binary with size 1130.9 KiB\n",
      "25/05/10 21:33:52 WARN DAGScheduler: Broadcasting large task binary with size 1130.8 KiB\n",
      "25/05/10 21:33:52 WARN DAGScheduler: Broadcasting large task binary with size 1130.8 KiB\n"
     ]
    },
    {
     "name": "stderr",
     "output_type": "stream",
     "text": [
      "                                                                                "
     ]
    },
    {
     "name": "stdout",
     "output_type": "stream",
     "text": [
      "25/05/10 21:33:54 WARN DAGScheduler: Broadcasting large task binary with size 1130.9 KiB\n"
     ]
    },
    {
     "name": "stderr",
     "output_type": "stream",
     "text": [
      "                                                                                "
     ]
    },
    {
     "name": "stdout",
     "output_type": "stream",
     "text": [
      "25/05/10 21:33:57 WARN DAGScheduler: Broadcasting large task binary with size 1130.9 KiB\n",
      "25/05/10 21:33:57 WARN DAGScheduler: Broadcasting large task binary with size 1130.8 KiB\n"
     ]
    },
    {
     "name": "stderr",
     "output_type": "stream",
     "text": [
      "                                                                                "
     ]
    },
    {
     "name": "stdout",
     "output_type": "stream",
     "text": [
      "25/05/10 21:33:58 WARN DAGScheduler: Broadcasting large task binary with size 1130.9 KiB\n",
      "25/05/10 21:33:58 WARN DAGScheduler: Broadcasting large task binary with size 1130.9 KiB\n",
      "25/05/10 21:33:58 WARN DAGScheduler: Broadcasting large task binary with size 1130.9 KiB\n",
      "25/05/10 21:33:58 WARN DAGScheduler: Broadcasting large task binary with size 1130.9 KiB\n",
      "25/05/10 21:33:58 WARN DAGScheduler: Broadcasting large task binary with size 1130.9 KiB\n",
      "25/05/10 21:33:58 WARN DAGScheduler: Broadcasting large task binary with size 1130.9 KiB\n",
      "25/05/10 21:33:59 WARN DAGScheduler: Broadcasting large task binary with size 1130.9 KiB\n",
      "25/05/10 21:33:59 WARN DAGScheduler: Broadcasting large task binary with size 1130.9 KiB\n",
      "25/05/10 21:33:59 WARN DAGScheduler: Broadcasting large task binary with size 1130.9 KiB\n",
      "25/05/10 21:33:59 WARN DAGScheduler: Broadcasting large task binary with size 1130.9 KiB\n",
      "25/05/10 21:33:59 WARN DAGScheduler: Broadcasting large task binary with size 1130.9 KiB\n",
      "25/05/10 21:33:59 WARN DAGScheduler: Broadcasting large task binary with size 1130.9 KiB\n",
      "25/05/10 21:33:59 WARN DAGScheduler: Broadcasting large task binary with size 1130.9 KiB\n",
      "25/05/10 21:33:59 WARN DAGScheduler: Broadcasting large task binary with size 1130.9 KiB\n",
      "25/05/10 21:34:00 WARN DAGScheduler: Broadcasting large task binary with size 1130.9 KiB\n",
      "25/05/10 21:34:00 WARN DAGScheduler: Broadcasting large task binary with size 1130.9 KiB\n",
      "25/05/10 21:34:00 WARN DAGScheduler: Broadcasting large task binary with size 1130.9 KiB\n",
      "25/05/10 21:34:00 WARN DAGScheduler: Broadcasting large task binary with size 1130.9 KiB\n",
      "25/05/10 21:34:00 WARN DAGScheduler: Broadcasting large task binary with size 1130.9 KiB\n",
      "25/05/10 21:34:00 WARN DAGScheduler: Broadcasting large task binary with size 1130.9 KiB\n",
      "25/05/10 21:34:00 WARN DAGScheduler: Broadcasting large task binary with size 1130.9 KiB\n",
      "25/05/10 21:34:00 WARN DAGScheduler: Broadcasting large task binary with size 1130.9 KiB\n",
      "25/05/10 21:34:01 WARN DAGScheduler: Broadcasting large task binary with size 1130.9 KiB\n",
      "25/05/10 21:34:01 WARN DAGScheduler: Broadcasting large task binary with size 1130.9 KiB\n",
      "25/05/10 21:34:01 WARN DAGScheduler: Broadcasting large task binary with size 1130.9 KiB\n",
      "25/05/10 21:34:01 WARN DAGScheduler: Broadcasting large task binary with size 1130.9 KiB\n",
      "25/05/10 21:34:01 WARN DAGScheduler: Broadcasting large task binary with size 1130.9 KiB\n",
      "25/05/10 21:34:01 WARN DAGScheduler: Broadcasting large task binary with size 1130.9 KiB\n",
      "25/05/10 21:34:01 WARN DAGScheduler: Broadcasting large task binary with size 1130.8 KiB\n",
      "25/05/10 21:34:01 WARN DAGScheduler: Broadcasting large task binary with size 1130.9 KiB\n",
      "25/05/10 21:34:01 WARN DAGScheduler: Broadcasting large task binary with size 1130.8 KiB\n",
      "25/05/10 21:34:01 WARN DAGScheduler: Broadcasting large task binary with size 1130.9 KiB\n",
      "25/05/10 21:34:02 WARN DAGScheduler: Broadcasting large task binary with size 1130.9 KiB\n",
      "25/05/10 21:34:02 WARN DAGScheduler: Broadcasting large task binary with size 1130.8 KiB\n",
      "25/05/10 21:34:02 WARN DAGScheduler: Broadcasting large task binary with size 1130.9 KiB\n",
      "25/05/10 21:34:02 WARN DAGScheduler: Broadcasting large task binary with size 1130.8 KiB\n",
      "25/05/10 21:34:02 WARN DAGScheduler: Broadcasting large task binary with size 1130.8 KiB\n",
      "25/05/10 21:34:02 WARN DAGScheduler: Broadcasting large task binary with size 1130.9 KiB\n",
      "25/05/10 21:34:02 WARN DAGScheduler: Broadcasting large task binary with size 1130.8 KiB\n",
      "25/05/10 21:34:02 WARN DAGScheduler: Broadcasting large task binary with size 1130.8 KiB\n",
      "25/05/10 21:34:02 WARN DAGScheduler: Broadcasting large task binary with size 1130.9 KiB\n",
      "25/05/10 21:34:02 WARN DAGScheduler: Broadcasting large task binary with size 1130.9 KiB\n",
      "25/05/10 21:34:02 WARN DAGScheduler: Broadcasting large task binary with size 1130.8 KiB\n",
      "25/05/10 21:34:02 WARN DAGScheduler: Broadcasting large task binary with size 1130.8 KiB\n",
      "25/05/10 21:34:02 WARN DAGScheduler: Broadcasting large task binary with size 1130.8 KiB\n",
      "25/05/10 21:34:02 WARN DAGScheduler: Broadcasting large task binary with size 1130.9 KiB\n",
      "25/05/10 21:34:02 WARN DAGScheduler: Broadcasting large task binary with size 1130.9 KiB\n",
      "25/05/10 21:34:02 WARN DAGScheduler: Broadcasting large task binary with size 1130.8 KiB\n",
      "25/05/10 21:34:02 WARN DAGScheduler: Broadcasting large task binary with size 1130.8 KiB\n",
      "25/05/10 21:34:02 WARN DAGScheduler: Broadcasting large task binary with size 1130.9 KiB\n",
      "25/05/10 21:34:02 WARN DAGScheduler: Broadcasting large task binary with size 1130.8 KiB\n",
      "25/05/10 21:34:02 WARN DAGScheduler: Broadcasting large task binary with size 1130.8 KiB\n",
      "25/05/10 21:34:02 WARN DAGScheduler: Broadcasting large task binary with size 1130.9 KiB\n",
      "25/05/10 21:34:02 WARN DAGScheduler: Broadcasting large task binary with size 1130.8 KiB\n",
      "25/05/10 21:34:02 WARN DAGScheduler: Broadcasting large task binary with size 1130.9 KiB\n",
      "25/05/10 21:34:02 WARN DAGScheduler: Broadcasting large task binary with size 1130.8 KiB\n",
      "25/05/10 21:34:02 WARN DAGScheduler: Broadcasting large task binary with size 1130.9 KiB\n",
      "25/05/10 21:34:02 WARN DAGScheduler: Broadcasting large task binary with size 1130.9 KiB\n",
      "25/05/10 21:34:02 WARN DAGScheduler: Broadcasting large task binary with size 1130.8 KiB\n",
      "25/05/10 21:34:02 WARN DAGScheduler: Broadcasting large task binary with size 1130.8 KiB\n",
      "25/05/10 21:34:02 WARN DAGScheduler: Broadcasting large task binary with size 1130.8 KiB\n",
      "25/05/10 21:34:02 WARN DAGScheduler: Broadcasting large task binary with size 1130.8 KiB\n",
      "25/05/10 21:34:02 WARN DAGScheduler: Broadcasting large task binary with size 1130.9 KiB\n",
      "25/05/10 21:34:02 WARN DAGScheduler: Broadcasting large task binary with size 1130.9 KiB\n",
      "25/05/10 21:34:02 WARN DAGScheduler: Broadcasting large task binary with size 1130.8 KiB\n",
      "25/05/10 21:34:03 WARN DAGScheduler: Broadcasting large task binary with size 1130.9 KiB\n",
      "25/05/10 21:34:03 WARN DAGScheduler: Broadcasting large task binary with size 1130.8 KiB\n",
      "25/05/10 21:34:03 WARN DAGScheduler: Broadcasting large task binary with size 1130.9 KiB\n",
      "25/05/10 21:34:03 WARN DAGScheduler: Broadcasting large task binary with size 1130.8 KiB\n",
      "25/05/10 21:34:03 WARN DAGScheduler: Broadcasting large task binary with size 1130.8 KiB\n",
      "25/05/10 21:34:03 WARN DAGScheduler: Broadcasting large task binary with size 1130.8 KiB\n",
      "25/05/10 21:34:03 WARN DAGScheduler: Broadcasting large task binary with size 1130.9 KiB\n",
      "25/05/10 21:34:03 WARN DAGScheduler: Broadcasting large task binary with size 1130.8 KiB\n",
      "25/05/10 21:34:03 WARN DAGScheduler: Broadcasting large task binary with size 1130.9 KiB\n",
      "25/05/10 21:34:03 WARN DAGScheduler: Broadcasting large task binary with size 1130.8 KiB\n",
      "25/05/10 21:34:03 WARN DAGScheduler: Broadcasting large task binary with size 1130.9 KiB\n",
      "25/05/10 21:34:03 WARN DAGScheduler: Broadcasting large task binary with size 1130.9 KiB\n",
      "25/05/10 21:34:03 WARN DAGScheduler: Broadcasting large task binary with size 1130.8 KiB\n",
      "25/05/10 21:34:03 WARN DAGScheduler: Broadcasting large task binary with size 1130.8 KiB\n",
      "25/05/10 21:34:03 WARN DAGScheduler: Broadcasting large task binary with size 1130.8 KiB\n",
      "25/05/10 21:34:03 WARN DAGScheduler: Broadcasting large task binary with size 1130.9 KiB\n",
      "25/05/10 21:34:03 WARN DAGScheduler: Broadcasting large task binary with size 1130.8 KiB\n",
      "25/05/10 21:34:03 WARN DAGScheduler: Broadcasting large task binary with size 1130.9 KiB\n",
      "25/05/10 21:34:03 WARN DAGScheduler: Broadcasting large task binary with size 1130.8 KiB\n",
      "25/05/10 21:34:03 WARN DAGScheduler: Broadcasting large task binary with size 1130.8 KiB\n",
      "25/05/10 21:34:03 WARN DAGScheduler: Broadcasting large task binary with size 1130.9 KiB\n",
      "25/05/10 21:34:03 WARN DAGScheduler: Broadcasting large task binary with size 1130.8 KiB\n",
      "25/05/10 21:34:03 WARN DAGScheduler: Broadcasting large task binary with size 1130.9 KiB\n",
      "25/05/10 21:34:03 WARN DAGScheduler: Broadcasting large task binary with size 1130.8 KiB\n",
      "25/05/10 21:34:04 WARN DAGScheduler: Broadcasting large task binary with size 1130.9 KiB\n",
      "25/05/10 21:34:04 WARN DAGScheduler: Broadcasting large task binary with size 1130.8 KiB\n",
      "25/05/10 21:34:04 WARN DAGScheduler: Broadcasting large task binary with size 1130.8 KiB\n",
      "25/05/10 21:34:04 WARN DAGScheduler: Broadcasting large task binary with size 1130.9 KiB\n",
      "25/05/10 21:34:04 WARN DAGScheduler: Broadcasting large task binary with size 1130.8 KiB\n",
      "25/05/10 21:34:04 WARN DAGScheduler: Broadcasting large task binary with size 1130.9 KiB\n",
      "25/05/10 21:34:04 WARN DAGScheduler: Broadcasting large task binary with size 1130.9 KiB\n",
      "25/05/10 21:34:04 WARN DAGScheduler: Broadcasting large task binary with size 1130.8 KiB\n",
      "25/05/10 21:34:04 WARN DAGScheduler: Broadcasting large task binary with size 1130.9 KiB\n",
      "25/05/10 21:34:04 WARN DAGScheduler: Broadcasting large task binary with size 1130.8 KiB\n",
      "25/05/10 21:34:04 WARN DAGScheduler: Broadcasting large task binary with size 1130.9 KiB\n",
      "25/05/10 21:34:04 WARN DAGScheduler: Broadcasting large task binary with size 1130.8 KiB\n",
      "25/05/10 21:34:04 WARN DAGScheduler: Broadcasting large task binary with size 1130.8 KiB\n",
      "25/05/10 21:34:04 WARN DAGScheduler: Broadcasting large task binary with size 1130.9 KiB\n",
      "25/05/10 21:34:04 WARN DAGScheduler: Broadcasting large task binary with size 1130.9 KiB\n",
      "25/05/10 21:34:04 WARN DAGScheduler: Broadcasting large task binary with size 1130.8 KiB\n",
      "25/05/10 21:34:04 WARN DAGScheduler: Broadcasting large task binary with size 1130.9 KiB\n",
      "25/05/10 21:34:04 WARN DAGScheduler: Broadcasting large task binary with size 1130.9 KiB\n",
      "25/05/10 21:34:04 WARN DAGScheduler: Broadcasting large task binary with size 1130.8 KiB\n",
      "25/05/10 21:34:04 WARN DAGScheduler: Broadcasting large task binary with size 1129.6 KiB\n",
      "25/05/10 21:34:04 WARN DAGScheduler: Broadcasting large task binary with size 1130.9 KiB\n",
      "25/05/10 21:34:04 WARN DAGScheduler: Broadcasting large task binary with size 1130.8 KiB\n",
      "25/05/10 21:34:04 WARN DAGScheduler: Broadcasting large task binary with size 1130.8 KiB\n",
      "25/05/10 21:34:05 WARN DAGScheduler: Broadcasting large task binary with size 1130.9 KiB\n",
      "25/05/10 21:34:05 WARN DAGScheduler: Broadcasting large task binary with size 1130.8 KiB\n",
      "25/05/10 21:34:05 WARN DAGScheduler: Broadcasting large task binary with size 1130.9 KiB\n",
      "25/05/10 21:34:05 WARN DAGScheduler: Broadcasting large task binary with size 1130.9 KiB\n",
      "25/05/10 21:34:05 WARN DAGScheduler: Broadcasting large task binary with size 1130.8 KiB\n"
     ]
    },
    {
     "name": "stderr",
     "output_type": "stream",
     "text": [
      "                                                                                "
     ]
    },
    {
     "name": "stdout",
     "output_type": "stream",
     "text": [
      "25/05/10 21:34:08 WARN DAGScheduler: Broadcasting large task binary with size 1130.9 KiB\n",
      "25/05/10 21:34:08 WARN DAGScheduler: Broadcasting large task binary with size 1130.9 KiB\n",
      "25/05/10 21:34:09 WARN DAGScheduler: Broadcasting large task binary with size 1130.9 KiB\n",
      "25/05/10 21:34:09 WARN DAGScheduler: Broadcasting large task binary with size 1130.9 KiB\n",
      "25/05/10 21:34:09 WARN DAGScheduler: Broadcasting large task binary with size 1130.9 KiB\n",
      "25/05/10 21:34:09 WARN DAGScheduler: Broadcasting large task binary with size 1130.9 KiB\n",
      "25/05/10 21:34:09 WARN DAGScheduler: Broadcasting large task binary with size 1130.9 KiB\n",
      "25/05/10 21:34:09 WARN DAGScheduler: Broadcasting large task binary with size 1130.8 KiB\n",
      "25/05/10 21:34:09 WARN DAGScheduler: Broadcasting large task binary with size 1130.8 KiB\n",
      "25/05/10 21:34:09 WARN DAGScheduler: Broadcasting large task binary with size 1130.9 KiB\n",
      "25/05/10 21:34:09 WARN DAGScheduler: Broadcasting large task binary with size 1130.8 KiB\n",
      "25/05/10 21:34:09 WARN DAGScheduler: Broadcasting large task binary with size 1130.8 KiB\n",
      "25/05/10 21:34:09 WARN DAGScheduler: Broadcasting large task binary with size 1130.9 KiB\n",
      "25/05/10 21:34:09 WARN DAGScheduler: Broadcasting large task binary with size 1130.9 KiB\n",
      "25/05/10 21:34:09 WARN DAGScheduler: Broadcasting large task binary with size 1130.9 KiB\n",
      "25/05/10 21:34:09 WARN DAGScheduler: Broadcasting large task binary with size 1130.8 KiB\n"
     ]
    },
    {
     "name": "stderr",
     "output_type": "stream",
     "text": [
      "                                                                                "
     ]
    },
    {
     "name": "stdout",
     "output_type": "stream",
     "text": [
      "25/05/10 21:34:13 WARN DAGScheduler: Broadcasting large task binary with size 1130.9 KiB\n",
      "25/05/10 21:34:13 WARN DAGScheduler: Broadcasting large task binary with size 1130.9 KiB\n",
      "25/05/10 21:34:13 WARN DAGScheduler: Broadcasting large task binary with size 1130.9 KiB\n",
      "25/05/10 21:34:13 WARN DAGScheduler: Broadcasting large task binary with size 1130.9 KiB\n",
      "25/05/10 21:34:13 WARN DAGScheduler: Broadcasting large task binary with size 1130.9 KiB\n",
      "25/05/10 21:34:14 WARN DAGScheduler: Broadcasting large task binary with size 1130.9 KiB\n",
      "25/05/10 21:34:14 WARN DAGScheduler: Broadcasting large task binary with size 1130.9 KiB\n",
      "25/05/10 21:34:14 WARN DAGScheduler: Broadcasting large task binary with size 1130.9 KiB\n",
      "25/05/10 21:34:14 WARN DAGScheduler: Broadcasting large task binary with size 1130.8 KiB\n",
      "25/05/10 21:34:14 WARN DAGScheduler: Broadcasting large task binary with size 1130.8 KiB\n",
      "25/05/10 21:34:14 WARN DAGScheduler: Broadcasting large task binary with size 1130.9 KiB\n",
      "25/05/10 21:34:14 WARN DAGScheduler: Broadcasting large task binary with size 1130.9 KiB\n",
      "25/05/10 21:34:14 WARN DAGScheduler: Broadcasting large task binary with size 1130.8 KiB\n",
      "25/05/10 21:34:14 WARN DAGScheduler: Broadcasting large task binary with size 1130.9 KiB\n",
      "25/05/10 21:34:14 WARN DAGScheduler: Broadcasting large task binary with size 1130.8 KiB\n",
      "25/05/10 21:34:14 WARN DAGScheduler: Broadcasting large task binary with size 1130.9 KiB\n",
      "25/05/10 21:34:14 WARN DAGScheduler: Broadcasting large task binary with size 1130.8 KiB\n",
      "25/05/10 21:34:14 WARN DAGScheduler: Broadcasting large task binary with size 1130.9 KiB\n",
      "25/05/10 21:34:14 WARN DAGScheduler: Broadcasting large task binary with size 1130.8 KiB\n",
      "25/05/10 21:34:14 WARN DAGScheduler: Broadcasting large task binary with size 1130.8 KiB\n",
      "25/05/10 21:34:14 WARN DAGScheduler: Broadcasting large task binary with size 1130.8 KiB\n",
      "25/05/10 21:34:14 WARN DAGScheduler: Broadcasting large task binary with size 1130.9 KiB\n",
      "25/05/10 21:34:14 WARN DAGScheduler: Broadcasting large task binary with size 1130.9 KiB\n",
      "25/05/10 21:34:15 WARN DAGScheduler: Broadcasting large task binary with size 1130.9 KiB\n",
      "25/05/10 21:34:15 WARN DAGScheduler: Broadcasting large task binary with size 1130.9 KiB\n",
      "25/05/10 21:34:15 WARN DAGScheduler: Broadcasting large task binary with size 1130.8 KiB\n",
      "25/05/10 21:34:15 WARN DAGScheduler: Broadcasting large task binary with size 1130.8 KiB\n",
      "25/05/10 21:34:15 WARN DAGScheduler: Broadcasting large task binary with size 1130.8 KiB\n",
      "25/05/10 21:34:15 WARN DAGScheduler: Broadcasting large task binary with size 1130.8 KiB\n",
      "25/05/10 21:34:15 WARN DAGScheduler: Broadcasting large task binary with size 1130.9 KiB\n",
      "25/05/10 21:34:15 WARN DAGScheduler: Broadcasting large task binary with size 1130.9 KiB\n",
      "25/05/10 21:34:15 WARN DAGScheduler: Broadcasting large task binary with size 1130.9 KiB\n",
      "25/05/10 21:34:15 WARN DAGScheduler: Broadcasting large task binary with size 1130.8 KiB\n",
      "25/05/10 21:34:15 WARN DAGScheduler: Broadcasting large task binary with size 1130.8 KiB\n",
      "25/05/10 21:34:15 WARN DAGScheduler: Broadcasting large task binary with size 1130.8 KiB\n",
      "25/05/10 21:34:15 WARN DAGScheduler: Broadcasting large task binary with size 1130.8 KiB\n",
      "25/05/10 21:34:15 WARN DAGScheduler: Broadcasting large task binary with size 1129.6 KiB\n",
      "25/05/10 21:34:15 WARN DAGScheduler: Broadcasting large task binary with size 1130.9 KiB\n",
      "25/05/10 21:34:15 WARN DAGScheduler: Broadcasting large task binary with size 1130.9 KiB\n",
      "25/05/10 21:34:15 WARN DAGScheduler: Broadcasting large task binary with size 1130.9 KiB\n",
      "25/05/10 21:34:15 WARN DAGScheduler: Broadcasting large task binary with size 1130.8 KiB\n",
      "25/05/10 21:34:15 WARN DAGScheduler: Broadcasting large task binary with size 1130.8 KiB\n",
      "25/05/10 21:34:15 WARN DAGScheduler: Broadcasting large task binary with size 1129.7 KiB\n",
      "25/05/10 21:34:15 WARN DAGScheduler: Broadcasting large task binary with size 1130.8 KiB\n",
      "25/05/10 21:34:15 WARN DAGScheduler: Broadcasting large task binary with size 1130.8 KiB\n"
     ]
    },
    {
     "name": "stderr",
     "output_type": "stream",
     "text": [
      "                                                                                "
     ]
    },
    {
     "name": "stdout",
     "output_type": "stream",
     "text": [
      "25/05/10 21:34:19 WARN DAGScheduler: Broadcasting large task binary with size 1130.9 KiB\n"
     ]
    },
    {
     "name": "stderr",
     "output_type": "stream",
     "text": [
      "                                                                                "
     ]
    },
    {
     "name": "stdout",
     "output_type": "stream",
     "text": [
      "25/05/10 21:34:20 WARN DAGScheduler: Broadcasting large task binary with size 1130.8 KiB\n",
      "25/05/10 21:34:20 WARN DAGScheduler: Broadcasting large task binary with size 1130.9 KiB\n",
      "25/05/10 21:34:20 WARN DAGScheduler: Broadcasting large task binary with size 1130.8 KiB\n",
      "25/05/10 21:34:20 WARN DAGScheduler: Broadcasting large task binary with size 1130.9 KiB\n",
      "25/05/10 21:34:20 WARN DAGScheduler: Broadcasting large task binary with size 1130.8 KiB\n"
     ]
    },
    {
     "name": "stderr",
     "output_type": "stream",
     "text": [
      "                                                                                "
     ]
    },
    {
     "name": "stdout",
     "output_type": "stream",
     "text": [
      "25/05/10 21:34:23 WARN DAGScheduler: Broadcasting large task binary with size 1130.9 KiB\n"
     ]
    },
    {
     "name": "stderr",
     "output_type": "stream",
     "text": [
      "                                                                                "
     ]
    },
    {
     "name": "stdout",
     "output_type": "stream",
     "text": [
      "25/05/10 21:34:24 WARN DAGScheduler: Broadcasting large task binary with size 1130.9 KiB\n",
      "25/05/10 21:34:24 WARN DAGScheduler: Broadcasting large task binary with size 1130.8 KiB\n",
      "25/05/10 21:34:25 WARN DAGScheduler: Broadcasting large task binary with size 1130.8 KiB\n"
     ]
    },
    {
     "name": "stderr",
     "output_type": "stream",
     "text": [
      "                                                                                "
     ]
    },
    {
     "name": "stdout",
     "output_type": "stream",
     "text": [
      "25/05/10 21:34:26 WARN DAGScheduler: Broadcasting large task binary with size 1130.9 KiB\n"
     ]
    },
    {
     "name": "stderr",
     "output_type": "stream",
     "text": [
      "                                                                                "
     ]
    },
    {
     "name": "stdout",
     "output_type": "stream",
     "text": [
      "25/05/10 21:34:29 WARN DAGScheduler: Broadcasting large task binary with size 1130.8 KiB\n",
      "25/05/10 21:34:29 WARN DAGScheduler: Broadcasting large task binary with size 1130.8 KiB\n",
      "25/05/10 21:34:29 WARN DAGScheduler: Broadcasting large task binary with size 1130.9 KiB\n",
      "25/05/10 21:34:29 WARN DAGScheduler: Broadcasting large task binary with size 1130.9 KiB\n",
      "25/05/10 21:34:29 WARN DAGScheduler: Broadcasting large task binary with size 1130.8 KiB\n"
     ]
    },
    {
     "name": "stderr",
     "output_type": "stream",
     "text": [
      "                                                                                "
     ]
    },
    {
     "name": "stdout",
     "output_type": "stream",
     "text": [
      "25/05/10 21:34:30 WARN DAGScheduler: Broadcasting large task binary with size 1130.9 KiB\n",
      "25/05/10 21:34:30 WARN DAGScheduler: Broadcasting large task binary with size 1130.9 KiB\n",
      "25/05/10 21:34:30 WARN DAGScheduler: Broadcasting large task binary with size 1130.9 KiB\n",
      "25/05/10 21:34:30 WARN DAGScheduler: Broadcasting large task binary with size 1130.9 KiB\n",
      "25/05/10 21:34:31 WARN DAGScheduler: Broadcasting large task binary with size 1130.9 KiB\n",
      "25/05/10 21:34:31 WARN DAGScheduler: Broadcasting large task binary with size 1130.9 KiB\n",
      "25/05/10 21:34:31 WARN DAGScheduler: Broadcasting large task binary with size 1130.9 KiB\n",
      "25/05/10 21:34:31 WARN DAGScheduler: Broadcasting large task binary with size 1130.9 KiB\n",
      "25/05/10 21:34:31 WARN DAGScheduler: Broadcasting large task binary with size 1130.9 KiB\n",
      "25/05/10 21:34:31 WARN DAGScheduler: Broadcasting large task binary with size 1130.9 KiB\n",
      "25/05/10 21:34:31 WARN DAGScheduler: Broadcasting large task binary with size 1130.9 KiB\n",
      "25/05/10 21:34:31 WARN DAGScheduler: Broadcasting large task binary with size 1130.9 KiB\n",
      "25/05/10 21:34:32 WARN DAGScheduler: Broadcasting large task binary with size 1130.9 KiB\n",
      "25/05/10 21:34:32 WARN DAGScheduler: Broadcasting large task binary with size 1130.9 KiB\n",
      "25/05/10 21:34:32 WARN DAGScheduler: Broadcasting large task binary with size 1130.9 KiB\n",
      "25/05/10 21:34:32 WARN DAGScheduler: Broadcasting large task binary with size 1130.9 KiB\n",
      "25/05/10 21:34:32 WARN DAGScheduler: Broadcasting large task binary with size 1130.9 KiB\n",
      "25/05/10 21:34:32 WARN DAGScheduler: Broadcasting large task binary with size 1130.9 KiB\n",
      "25/05/10 21:34:32 WARN DAGScheduler: Broadcasting large task binary with size 1130.9 KiB\n",
      "25/05/10 21:34:33 WARN DAGScheduler: Broadcasting large task binary with size 1130.9 KiB\n",
      "25/05/10 21:34:33 WARN DAGScheduler: Broadcasting large task binary with size 1130.9 KiB\n",
      "25/05/10 21:34:33 WARN DAGScheduler: Broadcasting large task binary with size 1130.9 KiB\n",
      "25/05/10 21:34:33 WARN DAGScheduler: Broadcasting large task binary with size 1130.9 KiB\n",
      "25/05/10 21:34:33 WARN DAGScheduler: Broadcasting large task binary with size 1130.9 KiB\n",
      "25/05/10 21:34:33 WARN DAGScheduler: Broadcasting large task binary with size 1130.9 KiB\n",
      "25/05/10 21:34:33 WARN DAGScheduler: Broadcasting large task binary with size 1130.9 KiB\n",
      "25/05/10 21:34:33 WARN DAGScheduler: Broadcasting large task binary with size 1130.9 KiB\n",
      "25/05/10 21:34:34 WARN DAGScheduler: Broadcasting large task binary with size 1130.9 KiB\n",
      "25/05/10 21:34:34 WARN DAGScheduler: Broadcasting large task binary with size 1130.8 KiB\n",
      "25/05/10 21:34:34 WARN DAGScheduler: Broadcasting large task binary with size 1130.8 KiB\n",
      "25/05/10 21:34:34 WARN DAGScheduler: Broadcasting large task binary with size 1130.8 KiB\n",
      "25/05/10 21:34:34 WARN DAGScheduler: Broadcasting large task binary with size 1130.8 KiB\n",
      "25/05/10 21:34:34 WARN DAGScheduler: Broadcasting large task binary with size 1130.9 KiB\n",
      "25/05/10 21:34:34 WARN DAGScheduler: Broadcasting large task binary with size 1130.9 KiB\n",
      "25/05/10 21:34:34 WARN DAGScheduler: Broadcasting large task binary with size 1129.7 KiB\n",
      "25/05/10 21:34:34 WARN DAGScheduler: Broadcasting large task binary with size 1130.9 KiB\n",
      "25/05/10 21:34:34 WARN DAGScheduler: Broadcasting large task binary with size 1130.8 KiB\n",
      "25/05/10 21:34:34 WARN DAGScheduler: Broadcasting large task binary with size 1130.8 KiB\n",
      "25/05/10 21:34:34 WARN DAGScheduler: Broadcasting large task binary with size 1130.9 KiB\n",
      "25/05/10 21:34:34 WARN DAGScheduler: Broadcasting large task binary with size 1130.8 KiB\n",
      "25/05/10 21:34:34 WARN DAGScheduler: Broadcasting large task binary with size 1130.8 KiB\n",
      "25/05/10 21:34:34 WARN DAGScheduler: Broadcasting large task binary with size 1130.8 KiB\n",
      "25/05/10 21:34:34 WARN DAGScheduler: Broadcasting large task binary with size 1130.9 KiB\n"
     ]
    },
    {
     "name": "stderr",
     "output_type": "stream",
     "text": [
      "                                                                                "
     ]
    },
    {
     "name": "stdout",
     "output_type": "stream",
     "text": [
      "25/05/10 21:34:39 WARN DAGScheduler: Broadcasting large task binary with size 1130.9 KiB\n",
      "25/05/10 21:34:39 WARN DAGScheduler: Broadcasting large task binary with size 1130.9 KiB\n",
      "25/05/10 21:34:39 WARN DAGScheduler: Broadcasting large task binary with size 1130.8 KiB\n",
      "25/05/10 21:34:39 WARN DAGScheduler: Broadcasting large task binary with size 1130.8 KiB\n",
      "25/05/10 21:34:39 WARN DAGScheduler: Broadcasting large task binary with size 1130.9 KiB\n",
      "25/05/10 21:34:39 WARN DAGScheduler: Broadcasting large task binary with size 1130.8 KiB\n",
      "25/05/10 21:34:39 WARN DAGScheduler: Broadcasting large task binary with size 1130.8 KiB\n",
      "25/05/10 21:34:39 WARN DAGScheduler: Broadcasting large task binary with size 1130.8 KiB\n",
      "25/05/10 21:34:39 WARN DAGScheduler: Broadcasting large task binary with size 1130.9 KiB\n"
     ]
    },
    {
     "name": "stderr",
     "output_type": "stream",
     "text": [
      "                                                                                "
     ]
    },
    {
     "name": "stdout",
     "output_type": "stream",
     "text": [
      "25/05/10 21:34:44 WARN DAGScheduler: Broadcasting large task binary with size 1130.9 KiB\n",
      "25/05/10 21:34:44 WARN DAGScheduler: Broadcasting large task binary with size 1130.9 KiB\n",
      "25/05/10 21:34:44 WARN DAGScheduler: Broadcasting large task binary with size 1130.8 KiB\n",
      "25/05/10 21:34:44 WARN DAGScheduler: Broadcasting large task binary with size 1130.8 KiB\n",
      "25/05/10 21:34:44 WARN DAGScheduler: Broadcasting large task binary with size 1130.9 KiB\n",
      "25/05/10 21:34:44 WARN DAGScheduler: Broadcasting large task binary with size 1130.8 KiB\n",
      "25/05/10 21:34:44 WARN DAGScheduler: Broadcasting large task binary with size 1130.9 KiB\n",
      "25/05/10 21:34:44 WARN DAGScheduler: Broadcasting large task binary with size 1130.8 KiB\n",
      "25/05/10 21:34:44 WARN DAGScheduler: Broadcasting large task binary with size 1130.8 KiB\n",
      "25/05/10 21:34:44 WARN DAGScheduler: Broadcasting large task binary with size 1130.9 KiB\n",
      "25/05/10 21:34:44 WARN DAGScheduler: Broadcasting large task binary with size 1130.9 KiB\n",
      "25/05/10 21:34:44 WARN DAGScheduler: Broadcasting large task binary with size 1130.8 KiB\n",
      "25/05/10 21:34:44 WARN DAGScheduler: Broadcasting large task binary with size 1130.9 KiB\n",
      "25/05/10 21:34:44 WARN DAGScheduler: Broadcasting large task binary with size 1130.8 KiB\n",
      "25/05/10 21:34:44 WARN DAGScheduler: Broadcasting large task binary with size 1130.9 KiB\n",
      "25/05/10 21:34:44 WARN DAGScheduler: Broadcasting large task binary with size 1130.8 KiB\n",
      "25/05/10 21:34:44 WARN DAGScheduler: Broadcasting large task binary with size 1130.8 KiB\n",
      "25/05/10 21:34:44 WARN DAGScheduler: Broadcasting large task binary with size 1130.9 KiB\n",
      "25/05/10 21:34:45 WARN DAGScheduler: Broadcasting large task binary with size 1130.8 KiB\n",
      "25/05/10 21:34:45 WARN DAGScheduler: Broadcasting large task binary with size 1130.8 KiB\n",
      "25/05/10 21:34:45 WARN DAGScheduler: Broadcasting large task binary with size 1130.9 KiB\n",
      "25/05/10 21:34:45 WARN DAGScheduler: Broadcasting large task binary with size 1130.9 KiB\n",
      "25/05/10 21:34:45 WARN DAGScheduler: Broadcasting large task binary with size 1130.9 KiB\n",
      "25/05/10 21:34:45 WARN DAGScheduler: Broadcasting large task binary with size 1130.8 KiB\n",
      "25/05/10 21:34:45 WARN DAGScheduler: Broadcasting large task binary with size 1130.8 KiB\n",
      "25/05/10 21:34:45 WARN DAGScheduler: Broadcasting large task binary with size 1130.9 KiB\n",
      "25/05/10 21:34:45 WARN DAGScheduler: Broadcasting large task binary with size 1130.8 KiB\n",
      "25/05/10 21:34:45 WARN DAGScheduler: Broadcasting large task binary with size 1130.8 KiB\n",
      "25/05/10 21:34:45 WARN DAGScheduler: Broadcasting large task binary with size 1130.9 KiB\n",
      "25/05/10 21:34:45 WARN DAGScheduler: Broadcasting large task binary with size 1130.9 KiB\n",
      "25/05/10 21:34:45 WARN DAGScheduler: Broadcasting large task binary with size 1130.8 KiB\n",
      "25/05/10 21:34:45 WARN DAGScheduler: Broadcasting large task binary with size 1130.9 KiB\n",
      "25/05/10 21:34:45 WARN DAGScheduler: Broadcasting large task binary with size 1130.8 KiB\n",
      "25/05/10 21:34:45 WARN DAGScheduler: Broadcasting large task binary with size 1130.9 KiB\n",
      "25/05/10 21:34:45 WARN DAGScheduler: Broadcasting large task binary with size 1130.8 KiB\n",
      "25/05/10 21:34:45 WARN DAGScheduler: Broadcasting large task binary with size 1130.9 KiB\n",
      "25/05/10 21:34:45 WARN DAGScheduler: Broadcasting large task binary with size 1130.8 KiB\n",
      "25/05/10 21:34:45 WARN DAGScheduler: Broadcasting large task binary with size 1130.9 KiB\n",
      "25/05/10 21:34:45 WARN DAGScheduler: Broadcasting large task binary with size 1130.8 KiB\n",
      "25/05/10 21:34:45 WARN DAGScheduler: Broadcasting large task binary with size 1130.8 KiB\n",
      "25/05/10 21:34:45 WARN DAGScheduler: Broadcasting large task binary with size 1130.9 KiB\n",
      "25/05/10 21:34:45 WARN DAGScheduler: Broadcasting large task binary with size 1130.8 KiB\n",
      "25/05/10 21:34:45 WARN DAGScheduler: Broadcasting large task binary with size 1130.9 KiB\n",
      "25/05/10 21:34:45 WARN DAGScheduler: Broadcasting large task binary with size 1130.9 KiB\n",
      "25/05/10 21:34:45 WARN DAGScheduler: Broadcasting large task binary with size 1130.8 KiB\n",
      "25/05/10 21:34:45 WARN DAGScheduler: Broadcasting large task binary with size 1130.8 KiB\n",
      "25/05/10 21:34:45 WARN DAGScheduler: Broadcasting large task binary with size 1130.9 KiB\n",
      "25/05/10 21:34:45 WARN DAGScheduler: Broadcasting large task binary with size 1130.8 KiB\n",
      "25/05/10 21:34:46 WARN DAGScheduler: Broadcasting large task binary with size 1130.8 KiB\n",
      "25/05/10 21:34:46 WARN DAGScheduler: Broadcasting large task binary with size 1130.9 KiB\n",
      "25/05/10 21:34:46 WARN DAGScheduler: Broadcasting large task binary with size 1130.9 KiB\n",
      "25/05/10 21:34:46 WARN DAGScheduler: Broadcasting large task binary with size 1130.8 KiB\n",
      "25/05/10 21:34:46 WARN DAGScheduler: Broadcasting large task binary with size 1130.8 KiB\n",
      "25/05/10 21:34:46 WARN DAGScheduler: Broadcasting large task binary with size 1130.9 KiB\n",
      "25/05/10 21:34:46 WARN DAGScheduler: Broadcasting large task binary with size 1130.8 KiB\n",
      "25/05/10 21:34:46 WARN DAGScheduler: Broadcasting large task binary with size 1130.9 KiB\n",
      "25/05/10 21:34:46 WARN DAGScheduler: Broadcasting large task binary with size 1130.8 KiB\n",
      "25/05/10 21:34:46 WARN DAGScheduler: Broadcasting large task binary with size 1130.9 KiB\n",
      "25/05/10 21:34:46 WARN DAGScheduler: Broadcasting large task binary with size 1130.9 KiB\n",
      "25/05/10 21:34:46 WARN DAGScheduler: Broadcasting large task binary with size 1130.8 KiB\n",
      "25/05/10 21:34:46 WARN DAGScheduler: Broadcasting large task binary with size 1130.8 KiB\n",
      "25/05/10 21:34:46 WARN DAGScheduler: Broadcasting large task binary with size 1130.9 KiB\n",
      "25/05/10 21:34:46 WARN DAGScheduler: Broadcasting large task binary with size 1130.8 KiB\n",
      "25/05/10 21:34:46 WARN DAGScheduler: Broadcasting large task binary with size 1130.8 KiB\n",
      "25/05/10 21:34:46 WARN DAGScheduler: Broadcasting large task binary with size 1130.8 KiB\n",
      "25/05/10 21:34:46 WARN DAGScheduler: Broadcasting large task binary with size 1130.9 KiB\n",
      "25/05/10 21:34:46 WARN DAGScheduler: Broadcasting large task binary with size 1130.9 KiB\n",
      "25/05/10 21:34:46 WARN DAGScheduler: Broadcasting large task binary with size 1130.9 KiB\n",
      "25/05/10 21:34:46 WARN DAGScheduler: Broadcasting large task binary with size 1130.8 KiB\n",
      "25/05/10 21:34:46 WARN DAGScheduler: Broadcasting large task binary with size 1129.6 KiB\n",
      "25/05/10 21:34:46 WARN DAGScheduler: Broadcasting large task binary with size 1130.9 KiB\n",
      "25/05/10 21:34:47 WARN DAGScheduler: Broadcasting large task binary with size 1130.8 KiB\n",
      "25/05/10 21:34:47 WARN DAGScheduler: Broadcasting large task binary with size 1130.8 KiB\n",
      "25/05/10 21:34:47 WARN DAGScheduler: Broadcasting large task binary with size 1130.8 KiB\n",
      "25/05/10 21:34:47 WARN DAGScheduler: Broadcasting large task binary with size 1130.9 KiB\n",
      "25/05/10 21:34:47 WARN DAGScheduler: Broadcasting large task binary with size 1130.9 KiB\n",
      "25/05/10 21:34:47 WARN DAGScheduler: Broadcasting large task binary with size 1130.9 KiB\n",
      "25/05/10 21:34:47 WARN DAGScheduler: Broadcasting large task binary with size 1130.8 KiB\n"
     ]
    },
    {
     "name": "stderr",
     "output_type": "stream",
     "text": [
      "                                                                                "
     ]
    },
    {
     "name": "stdout",
     "output_type": "stream",
     "text": [
      "25/05/10 21:34:51 WARN DAGScheduler: Broadcasting large task binary with size 1130.8 KiB\n",
      "25/05/10 21:34:51 WARN DAGScheduler: Broadcasting large task binary with size 1130.9 KiB\n",
      "25/05/10 21:34:51 WARN DAGScheduler: Broadcasting large task binary with size 1130.8 KiB\n",
      "25/05/10 21:34:51 WARN DAGScheduler: Broadcasting large task binary with size 1130.8 KiB\n",
      "25/05/10 21:34:51 WARN DAGScheduler: Broadcasting large task binary with size 1130.8 KiB\n",
      "25/05/10 21:34:51 WARN DAGScheduler: Broadcasting large task binary with size 1130.9 KiB\n",
      "25/05/10 21:34:51 WARN DAGScheduler: Broadcasting large task binary with size 1130.9 KiB\n",
      "25/05/10 21:34:51 WARN DAGScheduler: Broadcasting large task binary with size 1130.9 KiB\n",
      "25/05/10 21:34:51 WARN DAGScheduler: Broadcasting large task binary with size 1130.8 KiB\n"
     ]
    },
    {
     "name": "stderr",
     "output_type": "stream",
     "text": [
      "                                                                                "
     ]
    },
    {
     "name": "stdout",
     "output_type": "stream",
     "text": [
      "25/05/10 21:34:56 WARN DAGScheduler: Broadcasting large task binary with size 1130.8 KiB\n",
      "25/05/10 21:34:56 WARN DAGScheduler: Broadcasting large task binary with size 1130.8 KiB\n",
      "25/05/10 21:34:56 WARN DAGScheduler: Broadcasting large task binary with size 1130.9 KiB\n",
      "25/05/10 21:34:56 WARN DAGScheduler: Broadcasting large task binary with size 1130.8 KiB\n",
      "25/05/10 21:34:56 WARN DAGScheduler: Broadcasting large task binary with size 1130.9 KiB\n",
      "25/05/10 21:34:56 WARN DAGScheduler: Broadcasting large task binary with size 1130.8 KiB\n",
      "25/05/10 21:34:56 WARN DAGScheduler: Broadcasting large task binary with size 1130.9 KiB\n",
      "25/05/10 21:34:56 WARN DAGScheduler: Broadcasting large task binary with size 1130.9 KiB\n",
      "25/05/10 21:34:56 WARN DAGScheduler: Broadcasting large task binary with size 1130.8 KiB\n",
      "25/05/10 21:34:56 WARN DAGScheduler: Broadcasting large task binary with size 1130.9 KiB\n",
      "25/05/10 21:34:56 WARN DAGScheduler: Broadcasting large task binary with size 1130.8 KiB\n",
      "25/05/10 21:34:56 WARN DAGScheduler: Broadcasting large task binary with size 1130.9 KiB\n",
      "25/05/10 21:34:56 WARN DAGScheduler: Broadcasting large task binary with size 1130.8 KiB\n",
      "25/05/10 21:34:56 WARN DAGScheduler: Broadcasting large task binary with size 1130.9 KiB\n",
      "25/05/10 21:34:56 WARN DAGScheduler: Broadcasting large task binary with size 1130.9 KiB\n",
      "25/05/10 21:34:56 WARN DAGScheduler: Broadcasting large task binary with size 1130.8 KiB\n",
      "25/05/10 21:34:56 WARN DAGScheduler: Broadcasting large task binary with size 1130.8 KiB\n",
      "25/05/10 21:34:57 WARN DAGScheduler: Broadcasting large task binary with size 1130.9 KiB\n",
      "25/05/10 21:34:57 WARN DAGScheduler: Broadcasting large task binary with size 1130.8 KiB\n",
      "25/05/10 21:34:57 WARN DAGScheduler: Broadcasting large task binary with size 1130.8 KiB\n",
      "25/05/10 21:34:57 WARN DAGScheduler: Broadcasting large task binary with size 1130.8 KiB\n",
      "25/05/10 21:34:57 WARN DAGScheduler: Broadcasting large task binary with size 1130.9 KiB\n",
      "25/05/10 21:34:57 WARN DAGScheduler: Broadcasting large task binary with size 1130.9 KiB\n",
      "25/05/10 21:34:57 WARN DAGScheduler: Broadcasting large task binary with size 1130.9 KiB\n",
      "25/05/10 21:34:57 WARN DAGScheduler: Broadcasting large task binary with size 1130.8 KiB\n",
      "25/05/10 21:34:57 WARN DAGScheduler: Broadcasting large task binary with size 1130.8 KiB\n",
      "25/05/10 21:34:57 WARN DAGScheduler: Broadcasting large task binary with size 1130.8 KiB\n",
      "25/05/10 21:34:57 WARN DAGScheduler: Broadcasting large task binary with size 1130.9 KiB\n",
      "25/05/10 21:34:57 WARN DAGScheduler: Broadcasting large task binary with size 1130.9 KiB\n",
      "25/05/10 21:34:57 WARN DAGScheduler: Broadcasting large task binary with size 1130.8 KiB\n",
      "25/05/10 21:34:57 WARN DAGScheduler: Broadcasting large task binary with size 1130.8 KiB\n",
      "25/05/10 21:34:57 WARN DAGScheduler: Broadcasting large task binary with size 1130.9 KiB\n",
      "25/05/10 21:34:57 WARN DAGScheduler: Broadcasting large task binary with size 1130.9 KiB\n",
      "25/05/10 21:34:57 WARN DAGScheduler: Broadcasting large task binary with size 1130.8 KiB\n",
      "25/05/10 21:34:57 WARN DAGScheduler: Broadcasting large task binary with size 1130.8 KiB\n",
      "25/05/10 21:34:57 WARN DAGScheduler: Broadcasting large task binary with size 1130.8 KiB\n",
      "25/05/10 21:34:57 WARN DAGScheduler: Broadcasting large task binary with size 1130.9 KiB\n",
      "25/05/10 21:34:57 WARN DAGScheduler: Broadcasting large task binary with size 1130.9 KiB\n",
      "25/05/10 21:34:57 WARN DAGScheduler: Broadcasting large task binary with size 1130.8 KiB\n",
      "25/05/10 21:34:57 WARN DAGScheduler: Broadcasting large task binary with size 1130.8 KiB\n",
      "25/05/10 21:34:57 WARN DAGScheduler: Broadcasting large task binary with size 1130.9 KiB\n",
      "25/05/10 21:34:57 WARN DAGScheduler: Broadcasting large task binary with size 1130.8 KiB\n",
      "25/05/10 21:34:57 WARN DAGScheduler: Broadcasting large task binary with size 1130.8 KiB\n",
      "25/05/10 21:34:57 WARN DAGScheduler: Broadcasting large task binary with size 1130.9 KiB\n",
      "25/05/10 21:34:57 WARN DAGScheduler: Broadcasting large task binary with size 1130.8 KiB\n",
      "25/05/10 21:34:57 WARN DAGScheduler: Broadcasting large task binary with size 1130.9 KiB\n",
      "25/05/10 21:34:58 WARN DAGScheduler: Broadcasting large task binary with size 1130.9 KiB\n",
      "25/05/10 21:34:58 WARN DAGScheduler: Broadcasting large task binary with size 1130.8 KiB\n",
      "25/05/10 21:34:58 WARN DAGScheduler: Broadcasting large task binary with size 1130.8 KiB\n",
      "25/05/10 21:34:58 WARN DAGScheduler: Broadcasting large task binary with size 1130.8 KiB\n",
      "25/05/10 21:34:58 WARN DAGScheduler: Broadcasting large task binary with size 1130.9 KiB\n",
      "25/05/10 21:34:58 WARN DAGScheduler: Broadcasting large task binary with size 1130.8 KiB\n",
      "25/05/10 21:34:58 WARN DAGScheduler: Broadcasting large task binary with size 1130.8 KiB\n",
      "25/05/10 21:34:58 WARN DAGScheduler: Broadcasting large task binary with size 1130.9 KiB\n",
      "25/05/10 21:34:58 WARN DAGScheduler: Broadcasting large task binary with size 1130.8 KiB\n",
      "25/05/10 21:34:58 WARN DAGScheduler: Broadcasting large task binary with size 1130.8 KiB\n",
      "25/05/10 21:34:58 WARN DAGScheduler: Broadcasting large task binary with size 1130.9 KiB\n",
      "25/05/10 21:34:58 WARN DAGScheduler: Broadcasting large task binary with size 1130.9 KiB\n",
      "25/05/10 21:34:58 WARN DAGScheduler: Broadcasting large task binary with size 1130.8 KiB\n",
      "25/05/10 21:34:58 WARN DAGScheduler: Broadcasting large task binary with size 1130.9 KiB\n",
      "25/05/10 21:34:58 WARN DAGScheduler: Broadcasting large task binary with size 1130.8 KiB\n",
      "25/05/10 21:34:58 WARN DAGScheduler: Broadcasting large task binary with size 1130.9 KiB\n",
      "25/05/10 21:34:58 WARN DAGScheduler: Broadcasting large task binary with size 1130.8 KiB\n",
      "25/05/10 21:34:58 WARN DAGScheduler: Broadcasting large task binary with size 1130.8 KiB\n",
      "25/05/10 21:34:58 WARN DAGScheduler: Broadcasting large task binary with size 1130.9 KiB\n",
      "25/05/10 21:34:58 WARN DAGScheduler: Broadcasting large task binary with size 1130.9 KiB\n",
      "25/05/10 21:34:58 WARN DAGScheduler: Broadcasting large task binary with size 1130.8 KiB\n",
      "25/05/10 21:34:59 WARN DAGScheduler: Broadcasting large task binary with size 1130.9 KiB\n",
      "25/05/10 21:34:59 WARN DAGScheduler: Broadcasting large task binary with size 1130.8 KiB\n",
      "25/05/10 21:34:59 WARN DAGScheduler: Broadcasting large task binary with size 1130.9 KiB\n",
      "25/05/10 21:34:59 WARN DAGScheduler: Broadcasting large task binary with size 1130.8 KiB\n",
      "25/05/10 21:34:59 WARN DAGScheduler: Broadcasting large task binary with size 1129.6 KiB\n",
      "25/05/10 21:34:59 WARN DAGScheduler: Broadcasting large task binary with size 1130.8 KiB\n",
      "25/05/10 21:34:59 WARN DAGScheduler: Broadcasting large task binary with size 1130.9 KiB\n",
      "25/05/10 21:34:59 WARN DAGScheduler: Broadcasting large task binary with size 1130.9 KiB\n",
      "25/05/10 21:34:59 WARN DAGScheduler: Broadcasting large task binary with size 1130.8 KiB\n",
      "25/05/10 21:34:59 WARN DAGScheduler: Broadcasting large task binary with size 1130.8 KiB\n",
      "25/05/10 21:34:59 WARN DAGScheduler: Broadcasting large task binary with size 1130.8 KiB\n",
      "25/05/10 21:34:59 WARN DAGScheduler: Broadcasting large task binary with size 1130.9 KiB\n",
      "25/05/10 21:34:59 WARN DAGScheduler: Broadcasting large task binary with size 1130.9 KiB\n"
     ]
    },
    {
     "name": "stderr",
     "output_type": "stream",
     "text": [
      "                                                                                "
     ]
    },
    {
     "name": "stdout",
     "output_type": "stream",
     "text": [
      "25/05/10 21:35:04 WARN DAGScheduler: Broadcasting large task binary with size 1130.8 KiB\n",
      "25/05/10 21:35:04 WARN DAGScheduler: Broadcasting large task binary with size 1130.8 KiB\n",
      "25/05/10 21:35:04 WARN DAGScheduler: Broadcasting large task binary with size 1130.9 KiB\n",
      "25/05/10 21:35:04 WARN DAGScheduler: Broadcasting large task binary with size 1130.9 KiB\n",
      "25/05/10 21:35:04 WARN DAGScheduler: Broadcasting large task binary with size 1130.8 KiB\n",
      "25/05/10 21:35:04 WARN DAGScheduler: Broadcasting large task binary with size 1130.8 KiB\n",
      "25/05/10 21:35:04 WARN DAGScheduler: Broadcasting large task binary with size 1130.8 KiB\n",
      "25/05/10 21:35:04 WARN DAGScheduler: Broadcasting large task binary with size 1130.9 KiB\n",
      "25/05/10 21:35:04 WARN DAGScheduler: Broadcasting large task binary with size 1130.9 KiB\n"
     ]
    },
    {
     "name": "stderr",
     "output_type": "stream",
     "text": [
      "                                                                                "
     ]
    },
    {
     "name": "stdout",
     "output_type": "stream",
     "text": [
      "25/05/10 21:35:08 WARN DAGScheduler: Broadcasting large task binary with size 1130.8 KiB\n",
      "25/05/10 21:35:08 WARN DAGScheduler: Broadcasting large task binary with size 1130.8 KiB\n",
      "25/05/10 21:35:08 WARN DAGScheduler: Broadcasting large task binary with size 1130.9 KiB\n"
     ]
    },
    {
     "name": "stderr",
     "output_type": "stream",
     "text": [
      "                                                                                "
     ]
    },
    {
     "name": "stdout",
     "output_type": "stream",
     "text": [
      "25/05/10 21:35:09 WARN DAGScheduler: Broadcasting large task binary with size 1130.9 KiB\n",
      "25/05/10 21:35:09 WARN DAGScheduler: Broadcasting large task binary with size 1130.8 KiB\n",
      "25/05/10 21:35:09 WARN DAGScheduler: Broadcasting large task binary with size 1130.8 KiB\n",
      "25/05/10 21:35:09 WARN DAGScheduler: Broadcasting large task binary with size 1130.9 KiB\n",
      "25/05/10 21:35:09 WARN DAGScheduler: Broadcasting large task binary with size 1130.9 KiB\n",
      "25/05/10 21:35:09 WARN DAGScheduler: Broadcasting large task binary with size 1130.8 KiB\n",
      "25/05/10 21:35:09 WARN DAGScheduler: Broadcasting large task binary with size 1130.8 KiB\n",
      "25/05/10 21:35:09 WARN DAGScheduler: Broadcasting large task binary with size 1130.9 KiB\n",
      "25/05/10 21:35:09 WARN DAGScheduler: Broadcasting large task binary with size 1130.8 KiB\n",
      "25/05/10 21:35:09 WARN DAGScheduler: Broadcasting large task binary with size 1130.8 KiB\n",
      "25/05/10 21:35:09 WARN DAGScheduler: Broadcasting large task binary with size 1130.8 KiB\n",
      "25/05/10 21:35:09 WARN DAGScheduler: Broadcasting large task binary with size 1130.9 KiB\n",
      "25/05/10 21:35:09 WARN DAGScheduler: Broadcasting large task binary with size 1130.9 KiB\n",
      "25/05/10 21:35:10 WARN DAGScheduler: Broadcasting large task binary with size 1130.9 KiB\n",
      "25/05/10 21:35:10 WARN DAGScheduler: Broadcasting large task binary with size 1129.6 KiB\n",
      "25/05/10 21:35:10 WARN DAGScheduler: Broadcasting large task binary with size 1130.9 KiB\n",
      "25/05/10 21:35:10 WARN DAGScheduler: Broadcasting large task binary with size 1130.8 KiB\n",
      "25/05/10 21:35:10 WARN DAGScheduler: Broadcasting large task binary with size 1130.9 KiB\n",
      "25/05/10 21:35:10 WARN DAGScheduler: Broadcasting large task binary with size 1130.8 KiB\n",
      "25/05/10 21:35:10 WARN DAGScheduler: Broadcasting large task binary with size 1130.8 KiB\n",
      "25/05/10 21:35:10 WARN DAGScheduler: Broadcasting large task binary with size 1130.8 KiB\n",
      "25/05/10 21:35:10 WARN DAGScheduler: Broadcasting large task binary with size 1130.9 KiB\n",
      "25/05/10 21:35:10 WARN DAGScheduler: Broadcasting large task binary with size 1130.9 KiB\n"
     ]
    },
    {
     "name": "stderr",
     "output_type": "stream",
     "text": [
      "                                                                                "
     ]
    },
    {
     "name": "stdout",
     "output_type": "stream",
     "text": [
      "25/05/10 21:35:14 WARN DAGScheduler: Broadcasting large task binary with size 1130.8 KiB\n",
      "25/05/10 21:35:14 WARN DAGScheduler: Broadcasting large task binary with size 1130.9 KiB\n",
      "25/05/10 21:35:14 WARN DAGScheduler: Broadcasting large task binary with size 1130.8 KiB\n",
      "25/05/10 21:35:14 WARN DAGScheduler: Broadcasting large task binary with size 1130.8 KiB\n",
      "25/05/10 21:35:15 WARN DAGScheduler: Broadcasting large task binary with size 1130.8 KiB\n",
      "25/05/10 21:35:15 WARN DAGScheduler: Broadcasting large task binary with size 1130.9 KiB\n",
      "25/05/10 21:35:15 WARN DAGScheduler: Broadcasting large task binary with size 1130.8 KiB\n",
      "25/05/10 21:35:15 WARN DAGScheduler: Broadcasting large task binary with size 1130.9 KiB\n",
      "25/05/10 21:35:15 WARN DAGScheduler: Broadcasting large task binary with size 1130.9 KiB\n"
     ]
    },
    {
     "name": "stderr",
     "output_type": "stream",
     "text": [
      "                                                                                "
     ]
    },
    {
     "name": "stdout",
     "output_type": "stream",
     "text": [
      "25/05/10 21:35:19 WARN DAGScheduler: Broadcasting large task binary with size 1130.8 KiB\n",
      "25/05/10 21:35:19 WARN DAGScheduler: Broadcasting large task binary with size 1130.9 KiB\n",
      "25/05/10 21:35:19 WARN DAGScheduler: Broadcasting large task binary with size 1130.8 KiB\n",
      "25/05/10 21:35:19 WARN DAGScheduler: Broadcasting large task binary with size 1130.8 KiB\n",
      "25/05/10 21:35:19 WARN DAGScheduler: Broadcasting large task binary with size 1130.8 KiB\n",
      "25/05/10 21:35:19 WARN DAGScheduler: Broadcasting large task binary with size 1130.9 KiB\n",
      "25/05/10 21:35:19 WARN DAGScheduler: Broadcasting large task binary with size 1130.9 KiB\n",
      "25/05/10 21:35:19 WARN DAGScheduler: Broadcasting large task binary with size 1130.8 KiB\n",
      "25/05/10 21:35:19 WARN DAGScheduler: Broadcasting large task binary with size 1130.9 KiB\n",
      "25/05/10 21:35:19 WARN DAGScheduler: Broadcasting large task binary with size 1130.8 KiB\n",
      "25/05/10 21:35:19 WARN DAGScheduler: Broadcasting large task binary with size 1130.9 KiB\n",
      "25/05/10 21:35:19 WARN DAGScheduler: Broadcasting large task binary with size 1130.8 KiB\n",
      "25/05/10 21:35:19 WARN DAGScheduler: Broadcasting large task binary with size 1130.8 KiB\n",
      "25/05/10 21:35:19 WARN DAGScheduler: Broadcasting large task binary with size 1130.8 KiB\n",
      "25/05/10 21:35:20 WARN DAGScheduler: Broadcasting large task binary with size 1130.9 KiB\n",
      "25/05/10 21:35:20 WARN DAGScheduler: Broadcasting large task binary with size 1130.9 KiB\n",
      "25/05/10 21:35:20 WARN DAGScheduler: Broadcasting large task binary with size 1130.8 KiB\n",
      "25/05/10 21:35:20 WARN DAGScheduler: Broadcasting large task binary with size 1130.8 KiB\n",
      "25/05/10 21:35:20 WARN DAGScheduler: Broadcasting large task binary with size 1130.9 KiB\n",
      "25/05/10 21:35:20 WARN DAGScheduler: Broadcasting large task binary with size 1130.8 KiB\n",
      "25/05/10 21:35:20 WARN DAGScheduler: Broadcasting large task binary with size 1130.8 KiB\n",
      "25/05/10 21:35:20 WARN DAGScheduler: Broadcasting large task binary with size 1130.8 KiB\n",
      "25/05/10 21:35:20 WARN DAGScheduler: Broadcasting large task binary with size 1130.9 KiB\n",
      "25/05/10 21:35:20 WARN DAGScheduler: Broadcasting large task binary with size 1130.9 KiB\n",
      "25/05/10 21:35:20 WARN DAGScheduler: Broadcasting large task binary with size 1130.8 KiB\n",
      "25/05/10 21:35:20 WARN DAGScheduler: Broadcasting large task binary with size 1130.8 KiB\n",
      "25/05/10 21:35:20 WARN DAGScheduler: Broadcasting large task binary with size 1130.9 KiB\n",
      "25/05/10 21:35:20 WARN DAGScheduler: Broadcasting large task binary with size 1130.8 KiB\n",
      "25/05/10 21:35:20 WARN DAGScheduler: Broadcasting large task binary with size 1129.7 KiB\n",
      "25/05/10 21:35:20 WARN DAGScheduler: Broadcasting large task binary with size 1130.8 KiB\n",
      "25/05/10 21:35:20 WARN DAGScheduler: Broadcasting large task binary with size 1130.8 KiB\n",
      "25/05/10 21:35:20 WARN DAGScheduler: Broadcasting large task binary with size 1130.9 KiB\n",
      "25/05/10 21:35:20 WARN DAGScheduler: Broadcasting large task binary with size 1130.8 KiB\n",
      "25/05/10 21:35:20 WARN DAGScheduler: Broadcasting large task binary with size 1130.8 KiB\n",
      "25/05/10 21:35:20 WARN DAGScheduler: Broadcasting large task binary with size 1130.9 KiB\n",
      "25/05/10 21:35:20 WARN DAGScheduler: Broadcasting large task binary with size 1130.9 KiB\n",
      "25/05/10 21:35:20 WARN DAGScheduler: Broadcasting large task binary with size 1130.8 KiB\n"
     ]
    },
    {
     "name": "stderr",
     "output_type": "stream",
     "text": [
      "                                                                                "
     ]
    },
    {
     "name": "stdout",
     "output_type": "stream",
     "text": [
      "25/05/10 21:35:25 WARN DAGScheduler: Broadcasting large task binary with size 1130.9 KiB\n",
      "25/05/10 21:35:25 WARN DAGScheduler: Broadcasting large task binary with size 1130.8 KiB\n",
      "25/05/10 21:35:25 WARN DAGScheduler: Broadcasting large task binary with size 1130.8 KiB\n",
      "25/05/10 21:35:25 WARN DAGScheduler: Broadcasting large task binary with size 1130.9 KiB\n",
      "25/05/10 21:35:25 WARN DAGScheduler: Broadcasting large task binary with size 1130.8 KiB\n",
      "25/05/10 21:35:25 WARN DAGScheduler: Broadcasting large task binary with size 1130.9 KiB\n",
      "25/05/10 21:35:25 WARN DAGScheduler: Broadcasting large task binary with size 1130.9 KiB\n",
      "25/05/10 21:35:25 WARN DAGScheduler: Broadcasting large task binary with size 1130.8 KiB\n",
      "25/05/10 21:35:25 WARN DAGScheduler: Broadcasting large task binary with size 1130.8 KiB\n"
     ]
    },
    {
     "name": "stderr",
     "output_type": "stream",
     "text": [
      "                                                                                "
     ]
    },
    {
     "name": "stdout",
     "output_type": "stream",
     "text": [
      "25/05/10 21:35:30 WARN DAGScheduler: Broadcasting large task binary with size 1130.9 KiB\n",
      "25/05/10 21:35:30 WARN DAGScheduler: Broadcasting large task binary with size 1130.8 KiB\n",
      "25/05/10 21:35:30 WARN DAGScheduler: Broadcasting large task binary with size 1130.8 KiB\n",
      "25/05/10 21:35:30 WARN DAGScheduler: Broadcasting large task binary with size 1130.9 KiB\n",
      "25/05/10 21:35:30 WARN DAGScheduler: Broadcasting large task binary with size 1130.9 KiB\n",
      "25/05/10 21:35:30 WARN DAGScheduler: Broadcasting large task binary with size 1130.8 KiB\n",
      "25/05/10 21:35:30 WARN DAGScheduler: Broadcasting large task binary with size 1130.9 KiB\n",
      "25/05/10 21:35:30 WARN DAGScheduler: Broadcasting large task binary with size 1130.8 KiB\n",
      "25/05/10 21:35:30 WARN DAGScheduler: Broadcasting large task binary with size 1130.8 KiB\n",
      "25/05/10 21:35:30 WARN DAGScheduler: Broadcasting large task binary with size 1130.9 KiB\n",
      "25/05/10 21:35:30 WARN DAGScheduler: Broadcasting large task binary with size 1130.8 KiB\n",
      "25/05/10 21:35:30 WARN DAGScheduler: Broadcasting large task binary with size 1130.8 KiB\n",
      "25/05/10 21:35:30 WARN DAGScheduler: Broadcasting large task binary with size 1130.9 KiB\n",
      "25/05/10 21:35:30 WARN DAGScheduler: Broadcasting large task binary with size 1130.9 KiB\n",
      "25/05/10 21:35:30 WARN DAGScheduler: Broadcasting large task binary with size 1130.8 KiB\n",
      "25/05/10 21:35:30 WARN DAGScheduler: Broadcasting large task binary with size 1130.9 KiB\n",
      "25/05/10 21:35:31 WARN DAGScheduler: Broadcasting large task binary with size 1130.8 KiB\n",
      "25/05/10 21:35:31 WARN DAGScheduler: Broadcasting large task binary with size 1130.9 KiB\n",
      "25/05/10 21:35:31 WARN DAGScheduler: Broadcasting large task binary with size 1130.8 KiB\n",
      "25/05/10 21:35:31 WARN DAGScheduler: Broadcasting large task binary with size 1130.8 KiB\n",
      "25/05/10 21:35:31 WARN DAGScheduler: Broadcasting large task binary with size 1130.9 KiB\n",
      "25/05/10 21:35:31 WARN DAGScheduler: Broadcasting large task binary with size 1130.8 KiB\n",
      "25/05/10 21:35:31 WARN DAGScheduler: Broadcasting large task binary with size 1130.8 KiB\n",
      "25/05/10 21:35:31 WARN DAGScheduler: Broadcasting large task binary with size 1130.9 KiB\n",
      "25/05/10 21:35:31 WARN DAGScheduler: Broadcasting large task binary with size 1130.8 KiB\n",
      "25/05/10 21:35:31 WARN DAGScheduler: Broadcasting large task binary with size 1130.9 KiB\n",
      "25/05/10 21:35:31 WARN DAGScheduler: Broadcasting large task binary with size 1130.9 KiB\n",
      "25/05/10 21:35:31 WARN DAGScheduler: Broadcasting large task binary with size 1130.8 KiB\n",
      "25/05/10 21:35:31 WARN DAGScheduler: Broadcasting large task binary with size 1130.8 KiB\n",
      "25/05/10 21:35:31 WARN DAGScheduler: Broadcasting large task binary with size 1130.9 KiB\n",
      "25/05/10 21:35:31 WARN DAGScheduler: Broadcasting large task binary with size 1130.8 KiB\n",
      "25/05/10 21:35:31 WARN DAGScheduler: Broadcasting large task binary with size 1130.8 KiB\n",
      "25/05/10 21:35:31 WARN DAGScheduler: Broadcasting large task binary with size 1130.9 KiB\n",
      "25/05/10 21:35:31 WARN DAGScheduler: Broadcasting large task binary with size 1130.9 KiB\n",
      "25/05/10 21:35:31 WARN DAGScheduler: Broadcasting large task binary with size 1130.8 KiB\n",
      "25/05/10 21:35:31 WARN DAGScheduler: Broadcasting large task binary with size 1130.9 KiB\n",
      "25/05/10 21:35:31 WARN DAGScheduler: Broadcasting large task binary with size 1130.8 KiB\n",
      "25/05/10 21:35:31 WARN DAGScheduler: Broadcasting large task binary with size 1130.8 KiB\n",
      "25/05/10 21:35:31 WARN DAGScheduler: Broadcasting large task binary with size 1130.9 KiB\n",
      "25/05/10 21:35:31 WARN DAGScheduler: Broadcasting large task binary with size 1130.8 KiB\n",
      "25/05/10 21:35:32 WARN DAGScheduler: Broadcasting large task binary with size 1130.8 KiB\n",
      "25/05/10 21:35:32 WARN DAGScheduler: Broadcasting large task binary with size 1130.8 KiB\n",
      "25/05/10 21:35:32 WARN DAGScheduler: Broadcasting large task binary with size 1130.9 KiB\n",
      "25/05/10 21:35:32 WARN DAGScheduler: Broadcasting large task binary with size 1130.8 KiB\n",
      "25/05/10 21:35:32 WARN DAGScheduler: Broadcasting large task binary with size 1130.8 KiB\n",
      "25/05/10 21:35:32 WARN DAGScheduler: Broadcasting large task binary with size 1130.9 KiB\n",
      "25/05/10 21:35:32 WARN DAGScheduler: Broadcasting large task binary with size 1130.9 KiB\n",
      "25/05/10 21:35:32 WARN DAGScheduler: Broadcasting large task binary with size 1130.8 KiB\n",
      "25/05/10 21:35:32 WARN DAGScheduler: Broadcasting large task binary with size 1130.9 KiB\n",
      "25/05/10 21:35:32 WARN DAGScheduler: Broadcasting large task binary with size 1130.8 KiB\n",
      "25/05/10 21:35:32 WARN DAGScheduler: Broadcasting large task binary with size 1130.9 KiB\n",
      "25/05/10 21:35:32 WARN DAGScheduler: Broadcasting large task binary with size 1130.8 KiB\n",
      "25/05/10 21:35:32 WARN DAGScheduler: Broadcasting large task binary with size 1130.9 KiB\n",
      "25/05/10 21:35:32 WARN DAGScheduler: Broadcasting large task binary with size 1130.8 KiB\n",
      "25/05/10 21:35:32 WARN DAGScheduler: Broadcasting large task binary with size 1130.9 KiB\n",
      "25/05/10 21:35:32 WARN DAGScheduler: Broadcasting large task binary with size 1130.8 KiB\n",
      "25/05/10 21:35:32 WARN DAGScheduler: Broadcasting large task binary with size 1130.8 KiB\n",
      "25/05/10 21:35:32 WARN DAGScheduler: Broadcasting large task binary with size 1130.8 KiB\n",
      "25/05/10 21:35:32 WARN DAGScheduler: Broadcasting large task binary with size 1130.8 KiB\n",
      "25/05/10 21:35:32 WARN DAGScheduler: Broadcasting large task binary with size 1130.9 KiB\n",
      "25/05/10 21:35:32 WARN DAGScheduler: Broadcasting large task binary with size 1130.9 KiB\n",
      "25/05/10 21:35:32 WARN DAGScheduler: Broadcasting large task binary with size 1130.9 KiB\n",
      "25/05/10 21:35:32 WARN DAGScheduler: Broadcasting large task binary with size 1130.8 KiB\n",
      "25/05/10 21:35:32 WARN DAGScheduler: Broadcasting large task binary with size 1130.8 KiB\n",
      "25/05/10 21:35:32 WARN DAGScheduler: Broadcasting large task binary with size 1130.8 KiB\n",
      "25/05/10 21:35:32 WARN DAGScheduler: Broadcasting large task binary with size 1130.9 KiB\n",
      "25/05/10 21:35:32 WARN DAGScheduler: Broadcasting large task binary with size 1130.8 KiB\n",
      "25/05/10 21:35:33 WARN DAGScheduler: Broadcasting large task binary with size 1130.9 KiB\n",
      "25/05/10 21:35:33 WARN DAGScheduler: Broadcasting large task binary with size 1130.9 KiB\n",
      "25/05/10 21:35:33 WARN DAGScheduler: Broadcasting large task binary with size 1130.9 KiB\n",
      "25/05/10 21:35:33 WARN DAGScheduler: Broadcasting large task binary with size 1130.8 KiB\n",
      "25/05/10 21:35:33 WARN DAGScheduler: Broadcasting large task binary with size 1130.8 KiB\n",
      "25/05/10 21:35:33 WARN DAGScheduler: Broadcasting large task binary with size 1130.8 KiB\n",
      "25/05/10 21:35:33 WARN DAGScheduler: Broadcasting large task binary with size 1130.9 KiB\n",
      "25/05/10 21:35:33 WARN DAGScheduler: Broadcasting large task binary with size 1130.8 KiB\n",
      "25/05/10 21:35:33 WARN DAGScheduler: Broadcasting large task binary with size 1130.9 KiB\n",
      "25/05/10 21:35:33 WARN DAGScheduler: Broadcasting large task binary with size 1130.9 KiB\n",
      "25/05/10 21:35:33 WARN DAGScheduler: Broadcasting large task binary with size 1130.9 KiB\n",
      "25/05/10 21:35:33 WARN DAGScheduler: Broadcasting large task binary with size 1130.8 KiB\n",
      "25/05/10 21:35:33 WARN DAGScheduler: Broadcasting large task binary with size 1129.6 KiB\n",
      "25/05/10 21:35:33 WARN DAGScheduler: Broadcasting large task binary with size 1130.8 KiB\n",
      "25/05/10 21:35:33 WARN DAGScheduler: Broadcasting large task binary with size 1130.8 KiB\n",
      "25/05/10 21:35:33 WARN DAGScheduler: Broadcasting large task binary with size 1130.9 KiB\n",
      "25/05/10 21:35:33 WARN DAGScheduler: Broadcasting large task binary with size 1130.8 KiB\n",
      "25/05/10 21:35:33 WARN DAGScheduler: Broadcasting large task binary with size 1130.9 KiB\n",
      "25/05/10 21:35:33 WARN DAGScheduler: Broadcasting large task binary with size 1130.9 KiB\n",
      "25/05/10 21:35:33 WARN DAGScheduler: Broadcasting large task binary with size 1130.9 KiB\n",
      "25/05/10 21:35:33 WARN DAGScheduler: Broadcasting large task binary with size 1130.8 KiB\n"
     ]
    },
    {
     "name": "stderr",
     "output_type": "stream",
     "text": [
      "                                                                                "
     ]
    },
    {
     "name": "stdout",
     "output_type": "stream",
     "text": [
      "25/05/10 21:35:38 WARN DAGScheduler: Broadcasting large task binary with size 1130.8 KiB\n",
      "25/05/10 21:35:38 WARN DAGScheduler: Broadcasting large task binary with size 1130.8 KiB\n",
      "25/05/10 21:35:38 WARN DAGScheduler: Broadcasting large task binary with size 1130.8 KiB\n",
      "25/05/10 21:35:38 WARN DAGScheduler: Broadcasting large task binary with size 1130.9 KiB\n",
      "25/05/10 21:35:38 WARN DAGScheduler: Broadcasting large task binary with size 1130.9 KiB\n",
      "25/05/10 21:35:38 WARN DAGScheduler: Broadcasting large task binary with size 1130.8 KiB\n",
      "25/05/10 21:35:38 WARN DAGScheduler: Broadcasting large task binary with size 1130.9 KiB\n",
      "25/05/10 21:35:38 WARN DAGScheduler: Broadcasting large task binary with size 1130.9 KiB\n",
      "25/05/10 21:35:39 WARN DAGScheduler: Broadcasting large task binary with size 1130.8 KiB\n"
     ]
    },
    {
     "name": "stderr",
     "output_type": "stream",
     "text": [
      "                                                                                "
     ]
    },
    {
     "name": "stdout",
     "output_type": "stream",
     "text": [
      "25/05/10 21:35:43 WARN DAGScheduler: Broadcasting large task binary with size 1130.8 KiB\n",
      "25/05/10 21:35:43 WARN DAGScheduler: Broadcasting large task binary with size 1130.8 KiB\n",
      "25/05/10 21:35:43 WARN DAGScheduler: Broadcasting large task binary with size 1130.8 KiB\n",
      "25/05/10 21:35:43 WARN DAGScheduler: Broadcasting large task binary with size 1130.8 KiB\n",
      "25/05/10 21:35:43 WARN DAGScheduler: Broadcasting large task binary with size 1130.9 KiB\n",
      "25/05/10 21:35:43 WARN DAGScheduler: Broadcasting large task binary with size 1130.9 KiB\n",
      "25/05/10 21:35:43 WARN DAGScheduler: Broadcasting large task binary with size 1130.9 KiB\n",
      "25/05/10 21:35:43 WARN DAGScheduler: Broadcasting large task binary with size 1130.9 KiB\n",
      "25/05/10 21:35:43 WARN DAGScheduler: Broadcasting large task binary with size 1130.8 KiB\n",
      "25/05/10 21:35:43 WARN DAGScheduler: Broadcasting large task binary with size 1130.8 KiB\n",
      "25/05/10 21:35:44 WARN DAGScheduler: Broadcasting large task binary with size 1130.8 KiB\n",
      "25/05/10 21:35:44 WARN DAGScheduler: Broadcasting large task binary with size 1130.8 KiB\n",
      "25/05/10 21:35:44 WARN DAGScheduler: Broadcasting large task binary with size 1130.8 KiB\n",
      "25/05/10 21:35:44 WARN DAGScheduler: Broadcasting large task binary with size 1130.9 KiB\n",
      "25/05/10 21:35:44 WARN DAGScheduler: Broadcasting large task binary with size 1130.9 KiB\n",
      "25/05/10 21:35:44 WARN DAGScheduler: Broadcasting large task binary with size 1130.9 KiB\n",
      "25/05/10 21:35:44 WARN DAGScheduler: Broadcasting large task binary with size 1130.9 KiB\n",
      "25/05/10 21:35:44 WARN DAGScheduler: Broadcasting large task binary with size 1130.8 KiB\n",
      "25/05/10 21:35:44 WARN DAGScheduler: Broadcasting large task binary with size 1130.8 KiB\n",
      "25/05/10 21:35:44 WARN DAGScheduler: Broadcasting large task binary with size 1130.8 KiB\n",
      "25/05/10 21:35:44 WARN DAGScheduler: Broadcasting large task binary with size 1130.8 KiB\n",
      "25/05/10 21:35:44 WARN DAGScheduler: Broadcasting large task binary with size 1130.8 KiB\n",
      "25/05/10 21:35:44 WARN DAGScheduler: Broadcasting large task binary with size 1130.9 KiB\n",
      "25/05/10 21:35:44 WARN DAGScheduler: Broadcasting large task binary with size 1130.9 KiB\n",
      "25/05/10 21:35:44 WARN DAGScheduler: Broadcasting large task binary with size 1130.9 KiB\n",
      "25/05/10 21:35:44 WARN DAGScheduler: Broadcasting large task binary with size 1130.9 KiB\n",
      "25/05/10 21:35:44 WARN DAGScheduler: Broadcasting large task binary with size 1130.8 KiB\n",
      "25/05/10 21:35:44 WARN DAGScheduler: Broadcasting large task binary with size 1130.8 KiB\n",
      "25/05/10 21:35:44 WARN DAGScheduler: Broadcasting large task binary with size 1130.8 KiB\n",
      "25/05/10 21:35:44 WARN DAGScheduler: Broadcasting large task binary with size 1130.8 KiB\n",
      "25/05/10 21:35:44 WARN DAGScheduler: Broadcasting large task binary with size 1130.8 KiB\n",
      "25/05/10 21:35:44 WARN DAGScheduler: Broadcasting large task binary with size 1130.9 KiB\n",
      "25/05/10 21:35:44 WARN DAGScheduler: Broadcasting large task binary with size 1130.9 KiB\n",
      "25/05/10 21:35:44 WARN DAGScheduler: Broadcasting large task binary with size 1130.9 KiB\n",
      "25/05/10 21:35:44 WARN DAGScheduler: Broadcasting large task binary with size 1130.9 KiB\n",
      "25/05/10 21:35:44 WARN DAGScheduler: Broadcasting large task binary with size 1130.8 KiB\n",
      "25/05/10 21:35:44 WARN DAGScheduler: Broadcasting large task binary with size 1130.8 KiB\n",
      "25/05/10 21:35:44 WARN DAGScheduler: Broadcasting large task binary with size 1130.8 KiB\n",
      "25/05/10 21:35:44 WARN DAGScheduler: Broadcasting large task binary with size 1130.8 KiB\n",
      "25/05/10 21:35:44 WARN DAGScheduler: Broadcasting large task binary with size 1130.9 KiB\n",
      "25/05/10 21:35:44 WARN DAGScheduler: Broadcasting large task binary with size 1130.9 KiB\n",
      "25/05/10 21:35:45 WARN DAGScheduler: Broadcasting large task binary with size 1130.9 KiB\n",
      "25/05/10 21:35:45 WARN DAGScheduler: Broadcasting large task binary with size 1130.9 KiB\n"
     ]
    },
    {
     "name": "stderr",
     "output_type": "stream",
     "text": [
      "                                                                                "
     ]
    },
    {
     "name": "stdout",
     "output_type": "stream",
     "text": [
      "25/05/10 21:35:45 WARN DAGScheduler: Broadcasting large task binary with size 1130.8 KiB\n",
      "25/05/10 21:35:45 WARN DAGScheduler: Broadcasting large task binary with size 1130.9 KiB\n",
      "25/05/10 21:35:45 WARN DAGScheduler: Broadcasting large task binary with size 1130.8 KiB\n",
      "25/05/10 21:35:45 WARN DAGScheduler: Broadcasting large task binary with size 1130.9 KiB\n",
      "25/05/10 21:35:45 WARN DAGScheduler: Broadcasting large task binary with size 1130.8 KiB\n",
      "25/05/10 21:35:45 WARN DAGScheduler: Broadcasting large task binary with size 1130.8 KiB\n",
      "25/05/10 21:35:45 WARN DAGScheduler: Broadcasting large task binary with size 1129.6 KiB\n",
      "25/05/10 21:35:45 WARN DAGScheduler: Broadcasting large task binary with size 1130.9 KiB\n",
      "25/05/10 21:35:46 WARN DAGScheduler: Broadcasting large task binary with size 1130.9 KiB\n",
      "25/05/10 21:35:46 WARN DAGScheduler: Broadcasting large task binary with size 1130.8 KiB\n",
      "25/05/10 21:35:46 WARN DAGScheduler: Broadcasting large task binary with size 1130.9 KiB\n",
      "25/05/10 21:35:46 WARN DAGScheduler: Broadcasting large task binary with size 1130.8 KiB\n",
      "25/05/10 21:35:46 WARN DAGScheduler: Broadcasting large task binary with size 1130.9 KiB\n",
      "25/05/10 21:35:46 WARN DAGScheduler: Broadcasting large task binary with size 1130.8 KiB\n",
      "25/05/10 21:35:46 WARN DAGScheduler: Broadcasting large task binary with size 1130.8 KiB\n"
     ]
    },
    {
     "name": "stderr",
     "output_type": "stream",
     "text": [
      "                                                                                "
     ]
    },
    {
     "name": "stdout",
     "output_type": "stream",
     "text": [
      "25/05/10 21:35:50 WARN DAGScheduler: Broadcasting large task binary with size 1130.8 KiB\n",
      "25/05/10 21:35:50 WARN DAGScheduler: Broadcasting large task binary with size 1130.9 KiB\n",
      "25/05/10 21:35:50 WARN DAGScheduler: Broadcasting large task binary with size 1130.9 KiB\n",
      "25/05/10 21:35:50 WARN DAGScheduler: Broadcasting large task binary with size 1130.9 KiB\n",
      "25/05/10 21:35:50 WARN DAGScheduler: Broadcasting large task binary with size 1130.8 KiB\n",
      "25/05/10 21:35:50 WARN DAGScheduler: Broadcasting large task binary with size 1130.9 KiB\n",
      "25/05/10 21:35:51 WARN DAGScheduler: Broadcasting large task binary with size 1130.8 KiB\n",
      "25/05/10 21:35:51 WARN DAGScheduler: Broadcasting large task binary with size 1130.8 KiB\n",
      "25/05/10 21:35:51 WARN DAGScheduler: Broadcasting large task binary with size 1130.8 KiB\n"
     ]
    },
    {
     "name": "stderr",
     "output_type": "stream",
     "text": [
      "                                                                                "
     ]
    },
    {
     "name": "stdout",
     "output_type": "stream",
     "text": [
      "25/05/10 21:35:55 WARN DAGScheduler: Broadcasting large task binary with size 1130.8 KiB\n",
      "25/05/10 21:35:55 WARN DAGScheduler: Broadcasting large task binary with size 1130.9 KiB\n",
      "25/05/10 21:35:55 WARN DAGScheduler: Broadcasting large task binary with size 1130.9 KiB\n",
      "25/05/10 21:35:55 WARN DAGScheduler: Broadcasting large task binary with size 1130.9 KiB\n",
      "25/05/10 21:35:55 WARN DAGScheduler: Broadcasting large task binary with size 1130.9 KiB\n",
      "25/05/10 21:35:55 WARN DAGScheduler: Broadcasting large task binary with size 1130.8 KiB\n",
      "25/05/10 21:35:55 WARN DAGScheduler: Broadcasting large task binary with size 1130.8 KiB\n",
      "25/05/10 21:35:56 WARN DAGScheduler: Broadcasting large task binary with size 1130.8 KiB\n",
      "25/05/10 21:35:56 WARN DAGScheduler: Broadcasting large task binary with size 1130.8 KiB\n",
      "25/05/10 21:35:56 WARN DAGScheduler: Broadcasting large task binary with size 1130.9 KiB\n",
      "25/05/10 21:35:56 WARN DAGScheduler: Broadcasting large task binary with size 1130.9 KiB\n",
      "25/05/10 21:35:56 WARN DAGScheduler: Broadcasting large task binary with size 1130.9 KiB\n",
      "25/05/10 21:35:56 WARN DAGScheduler: Broadcasting large task binary with size 1130.9 KiB\n",
      "25/05/10 21:35:56 WARN DAGScheduler: Broadcasting large task binary with size 1130.8 KiB\n",
      "25/05/10 21:35:56 WARN DAGScheduler: Broadcasting large task binary with size 1130.8 KiB\n",
      "25/05/10 21:35:56 WARN DAGScheduler: Broadcasting large task binary with size 1130.8 KiB\n",
      "25/05/10 21:35:56 WARN DAGScheduler: Broadcasting large task binary with size 1129.6 KiB\n",
      "25/05/10 21:35:56 WARN DAGScheduler: Broadcasting large task binary with size 1130.8 KiB\n",
      "25/05/10 21:35:56 WARN DAGScheduler: Broadcasting large task binary with size 1130.9 KiB\n",
      "25/05/10 21:35:56 WARN DAGScheduler: Broadcasting large task binary with size 1130.9 KiB\n",
      "25/05/10 21:35:56 WARN DAGScheduler: Broadcasting large task binary with size 1130.9 KiB\n",
      "25/05/10 21:35:57 WARN DAGScheduler: Broadcasting large task binary with size 1130.8 KiB\n",
      "25/05/10 21:35:57 WARN DAGScheduler: Broadcasting large task binary with size 1130.9 KiB\n",
      "25/05/10 21:35:57 WARN DAGScheduler: Broadcasting large task binary with size 1130.8 KiB\n",
      "25/05/10 21:35:57 WARN DAGScheduler: Broadcasting large task binary with size 1130.8 KiB\n"
     ]
    },
    {
     "name": "stderr",
     "output_type": "stream",
     "text": [
      "                                                                                "
     ]
    },
    {
     "name": "stdout",
     "output_type": "stream",
     "text": [
      "25/05/10 21:36:01 WARN DAGScheduler: Broadcasting large task binary with size 1130.8 KiB\n",
      "25/05/10 21:36:01 WARN DAGScheduler: Broadcasting large task binary with size 1130.8 KiB\n",
      "25/05/10 21:36:01 WARN DAGScheduler: Broadcasting large task binary with size 1130.9 KiB\n",
      "25/05/10 21:36:01 WARN DAGScheduler: Broadcasting large task binary with size 1130.9 KiB\n",
      "25/05/10 21:36:01 WARN DAGScheduler: Broadcasting large task binary with size 1130.9 KiB\n",
      "25/05/10 21:36:01 WARN DAGScheduler: Broadcasting large task binary with size 1130.8 KiB\n",
      "25/05/10 21:36:01 WARN DAGScheduler: Broadcasting large task binary with size 1130.9 KiB\n",
      "25/05/10 21:36:01 WARN DAGScheduler: Broadcasting large task binary with size 1130.8 KiB\n",
      "25/05/10 21:36:01 WARN DAGScheduler: Broadcasting large task binary with size 1130.8 KiB\n"
     ]
    },
    {
     "name": "stderr",
     "output_type": "stream",
     "text": [
      "                                                                                "
     ]
    },
    {
     "name": "stdout",
     "output_type": "stream",
     "text": [
      "25/05/10 21:36:06 WARN DAGScheduler: Broadcasting large task binary with size 1130.8 KiB\n",
      "25/05/10 21:36:06 WARN DAGScheduler: Broadcasting large task binary with size 1130.8 KiB\n",
      "25/05/10 21:36:06 WARN DAGScheduler: Broadcasting large task binary with size 1130.9 KiB\n",
      "25/05/10 21:36:06 WARN DAGScheduler: Broadcasting large task binary with size 1130.9 KiB\n",
      "25/05/10 21:36:06 WARN DAGScheduler: Broadcasting large task binary with size 1130.9 KiB\n",
      "25/05/10 21:36:06 WARN DAGScheduler: Broadcasting large task binary with size 1130.8 KiB\n",
      "25/05/10 21:36:06 WARN DAGScheduler: Broadcasting large task binary with size 1130.9 KiB\n",
      "25/05/10 21:36:06 WARN DAGScheduler: Broadcasting large task binary with size 1130.8 KiB\n",
      "25/05/10 21:36:06 WARN DAGScheduler: Broadcasting large task binary with size 1130.8 KiB\n",
      "25/05/10 21:36:06 WARN DAGScheduler: Broadcasting large task binary with size 1130.8 KiB\n",
      "25/05/10 21:36:06 WARN DAGScheduler: Broadcasting large task binary with size 1130.8 KiB\n",
      "25/05/10 21:36:06 WARN DAGScheduler: Broadcasting large task binary with size 1130.9 KiB\n",
      "25/05/10 21:36:06 WARN DAGScheduler: Broadcasting large task binary with size 1130.9 KiB\n",
      "25/05/10 21:36:06 WARN DAGScheduler: Broadcasting large task binary with size 1130.9 KiB\n",
      "25/05/10 21:36:06 WARN DAGScheduler: Broadcasting large task binary with size 1130.8 KiB\n",
      "25/05/10 21:36:06 WARN DAGScheduler: Broadcasting large task binary with size 1130.8 KiB\n",
      "25/05/10 21:36:06 WARN DAGScheduler: Broadcasting large task binary with size 1130.9 KiB\n",
      "25/05/10 21:36:06 WARN DAGScheduler: Broadcasting large task binary with size 1130.8 KiB\n",
      "25/05/10 21:36:06 WARN DAGScheduler: Broadcasting large task binary with size 1130.8 KiB\n",
      "25/05/10 21:36:06 WARN DAGScheduler: Broadcasting large task binary with size 1130.8 KiB\n",
      "25/05/10 21:36:06 WARN DAGScheduler: Broadcasting large task binary with size 1130.9 KiB\n",
      "25/05/10 21:36:07 WARN DAGScheduler: Broadcasting large task binary with size 1130.9 KiB\n",
      "25/05/10 21:36:07 WARN DAGScheduler: Broadcasting large task binary with size 1130.9 KiB\n",
      "25/05/10 21:36:07 WARN DAGScheduler: Broadcasting large task binary with size 1130.8 KiB\n",
      "25/05/10 21:36:07 WARN DAGScheduler: Broadcasting large task binary with size 1130.8 KiB\n",
      "25/05/10 21:36:07 WARN DAGScheduler: Broadcasting large task binary with size 1130.9 KiB\n",
      "25/05/10 21:36:07 WARN DAGScheduler: Broadcasting large task binary with size 1130.8 KiB\n",
      "25/05/10 21:36:07 WARN DAGScheduler: Broadcasting large task binary with size 1130.8 KiB\n",
      "25/05/10 21:36:07 WARN DAGScheduler: Broadcasting large task binary with size 1130.8 KiB\n",
      "25/05/10 21:36:07 WARN DAGScheduler: Broadcasting large task binary with size 1130.9 KiB\n",
      "25/05/10 21:36:07 WARN DAGScheduler: Broadcasting large task binary with size 1130.9 KiB\n",
      "25/05/10 21:36:07 WARN DAGScheduler: Broadcasting large task binary with size 1130.9 KiB\n",
      "25/05/10 21:36:07 WARN DAGScheduler: Broadcasting large task binary with size 1130.8 KiB\n",
      "25/05/10 21:36:07 WARN DAGScheduler: Broadcasting large task binary with size 1130.8 KiB\n",
      "25/05/10 21:36:07 WARN DAGScheduler: Broadcasting large task binary with size 1130.8 KiB\n",
      "25/05/10 21:36:07 WARN DAGScheduler: Broadcasting large task binary with size 1130.9 KiB\n",
      "25/05/10 21:36:07 WARN DAGScheduler: Broadcasting large task binary with size 1130.8 KiB\n",
      "25/05/10 21:36:07 WARN DAGScheduler: Broadcasting large task binary with size 1130.9 KiB\n",
      "25/05/10 21:36:07 WARN DAGScheduler: Broadcasting large task binary with size 1130.8 KiB\n",
      "25/05/10 21:36:07 WARN DAGScheduler: Broadcasting large task binary with size 1130.9 KiB\n",
      "25/05/10 21:36:07 WARN DAGScheduler: Broadcasting large task binary with size 1130.9 KiB\n",
      "25/05/10 21:36:07 WARN DAGScheduler: Broadcasting large task binary with size 1130.8 KiB\n",
      "25/05/10 21:36:07 WARN DAGScheduler: Broadcasting large task binary with size 1130.8 KiB\n",
      "25/05/10 21:36:07 WARN DAGScheduler: Broadcasting large task binary with size 1130.8 KiB\n",
      "25/05/10 21:36:07 WARN DAGScheduler: Broadcasting large task binary with size 1130.8 KiB\n",
      "25/05/10 21:36:07 WARN DAGScheduler: Broadcasting large task binary with size 1130.9 KiB\n",
      "25/05/10 21:36:07 WARN DAGScheduler: Broadcasting large task binary with size 1130.8 KiB\n",
      "25/05/10 21:36:08 WARN DAGScheduler: Broadcasting large task binary with size 1130.9 KiB\n",
      "25/05/10 21:36:08 WARN DAGScheduler: Broadcasting large task binary with size 1130.9 KiB\n",
      "25/05/10 21:36:08 WARN DAGScheduler: Broadcasting large task binary with size 1130.8 KiB\n",
      "25/05/10 21:36:08 WARN DAGScheduler: Broadcasting large task binary with size 1130.8 KiB\n",
      "25/05/10 21:36:08 WARN DAGScheduler: Broadcasting large task binary with size 1130.8 KiB\n",
      "25/05/10 21:36:08 WARN DAGScheduler: Broadcasting large task binary with size 1130.8 KiB\n",
      "25/05/10 21:36:08 WARN DAGScheduler: Broadcasting large task binary with size 1130.9 KiB\n",
      "25/05/10 21:36:08 WARN DAGScheduler: Broadcasting large task binary with size 1130.8 KiB\n",
      "25/05/10 21:36:08 WARN DAGScheduler: Broadcasting large task binary with size 1130.9 KiB\n",
      "25/05/10 21:36:08 WARN DAGScheduler: Broadcasting large task binary with size 1130.9 KiB\n",
      "25/05/10 21:36:08 WARN DAGScheduler: Broadcasting large task binary with size 1130.8 KiB\n",
      "25/05/10 21:36:08 WARN DAGScheduler: Broadcasting large task binary with size 1129.7 KiB\n",
      "25/05/10 21:36:08 WARN DAGScheduler: Broadcasting large task binary with size 1130.8 KiB\n",
      "25/05/10 21:36:08 WARN DAGScheduler: Broadcasting large task binary with size 1130.8 KiB\n",
      "25/05/10 21:36:08 WARN DAGScheduler: Broadcasting large task binary with size 1130.8 KiB\n",
      "25/05/10 21:36:08 WARN DAGScheduler: Broadcasting large task binary with size 1130.8 KiB\n",
      "25/05/10 21:36:08 WARN DAGScheduler: Broadcasting large task binary with size 1130.9 KiB\n",
      "25/05/10 21:36:08 WARN DAGScheduler: Broadcasting large task binary with size 1130.9 KiB\n",
      "25/05/10 21:36:08 WARN DAGScheduler: Broadcasting large task binary with size 1130.8 KiB\n",
      "25/05/10 21:36:08 WARN DAGScheduler: Broadcasting large task binary with size 1130.9 KiB\n"
     ]
    },
    {
     "name": "stderr",
     "output_type": "stream",
     "text": [
      "                                                                                "
     ]
    },
    {
     "name": "stdout",
     "output_type": "stream",
     "text": [
      "25/05/10 21:36:13 WARN DAGScheduler: Broadcasting large task binary with size 1130.9 KiB\n",
      "25/05/10 21:36:13 WARN DAGScheduler: Broadcasting large task binary with size 1130.8 KiB\n",
      "25/05/10 21:36:13 WARN DAGScheduler: Broadcasting large task binary with size 1130.8 KiB\n",
      "25/05/10 21:36:13 WARN DAGScheduler: Broadcasting large task binary with size 1130.8 KiB\n",
      "25/05/10 21:36:13 WARN DAGScheduler: Broadcasting large task binary with size 1130.8 KiB\n",
      "25/05/10 21:36:13 WARN DAGScheduler: Broadcasting large task binary with size 1130.8 KiB\n",
      "25/05/10 21:36:13 WARN DAGScheduler: Broadcasting large task binary with size 1130.9 KiB\n",
      "25/05/10 21:36:13 WARN DAGScheduler: Broadcasting large task binary with size 1130.9 KiB\n",
      "25/05/10 21:36:13 WARN DAGScheduler: Broadcasting large task binary with size 1130.9 KiB\n"
     ]
    },
    {
     "name": "stderr",
     "output_type": "stream",
     "text": [
      "                                                                                "
     ]
    },
    {
     "name": "stdout",
     "output_type": "stream",
     "text": [
      "25/05/10 21:36:17 WARN DAGScheduler: Broadcasting large task binary with size 1130.9 KiB\n",
      "25/05/10 21:36:17 WARN DAGScheduler: Broadcasting large task binary with size 1130.8 KiB\n",
      "25/05/10 21:36:17 WARN DAGScheduler: Broadcasting large task binary with size 1130.8 KiB\n",
      "25/05/10 21:36:17 WARN DAGScheduler: Broadcasting large task binary with size 1130.8 KiB\n",
      "25/05/10 21:36:18 WARN DAGScheduler: Broadcasting large task binary with size 1130.9 KiB\n",
      "25/05/10 21:36:18 WARN DAGScheduler: Broadcasting large task binary with size 1130.9 KiB\n",
      "25/05/10 21:36:18 WARN DAGScheduler: Broadcasting large task binary with size 1130.8 KiB\n",
      "25/05/10 21:36:18 WARN DAGScheduler: Broadcasting large task binary with size 1130.8 KiB\n",
      "25/05/10 21:36:18 WARN DAGScheduler: Broadcasting large task binary with size 1130.9 KiB\n",
      "25/05/10 21:36:18 WARN DAGScheduler: Broadcasting large task binary with size 1130.9 KiB\n",
      "25/05/10 21:36:18 WARN DAGScheduler: Broadcasting large task binary with size 1130.9 KiB\n",
      "25/05/10 21:36:18 WARN DAGScheduler: Broadcasting large task binary with size 1130.8 KiB\n",
      "25/05/10 21:36:18 WARN DAGScheduler: Broadcasting large task binary with size 1130.9 KiB\n",
      "25/05/10 21:36:18 WARN DAGScheduler: Broadcasting large task binary with size 1130.8 KiB\n",
      "25/05/10 21:36:18 WARN DAGScheduler: Broadcasting large task binary with size 1130.8 KiB\n",
      "25/05/10 21:36:18 WARN DAGScheduler: Broadcasting large task binary with size 1130.8 KiB\n",
      "25/05/10 21:36:18 WARN DAGScheduler: Broadcasting large task binary with size 1130.8 KiB\n",
      "25/05/10 21:36:18 WARN DAGScheduler: Broadcasting large task binary with size 1130.8 KiB\n",
      "25/05/10 21:36:18 WARN DAGScheduler: Broadcasting large task binary with size 1130.9 KiB\n",
      "25/05/10 21:36:18 WARN DAGScheduler: Broadcasting large task binary with size 1130.9 KiB\n",
      "25/05/10 21:36:18 WARN DAGScheduler: Broadcasting large task binary with size 1130.9 KiB\n",
      "25/05/10 21:36:18 WARN DAGScheduler: Broadcasting large task binary with size 1130.8 KiB\n",
      "25/05/10 21:36:18 WARN DAGScheduler: Broadcasting large task binary with size 1130.9 KiB\n",
      "25/05/10 21:36:18 WARN DAGScheduler: Broadcasting large task binary with size 1130.8 KiB\n",
      "25/05/10 21:36:18 WARN DAGScheduler: Broadcasting large task binary with size 1130.8 KiB\n",
      "25/05/10 21:36:18 WARN DAGScheduler: Broadcasting large task binary with size 1130.9 KiB\n",
      "25/05/10 21:36:18 WARN DAGScheduler: Broadcasting large task binary with size 1130.8 KiB\n",
      "25/05/10 21:36:19 WARN DAGScheduler: Broadcasting large task binary with size 1130.9 KiB\n",
      "25/05/10 21:36:19 WARN DAGScheduler: Broadcasting large task binary with size 1130.8 KiB\n",
      "25/05/10 21:36:19 WARN DAGScheduler: Broadcasting large task binary with size 1130.8 KiB\n",
      "25/05/10 21:36:19 WARN DAGScheduler: Broadcasting large task binary with size 1130.9 KiB\n",
      "25/05/10 21:36:19 WARN DAGScheduler: Broadcasting large task binary with size 1130.9 KiB\n",
      "25/05/10 21:36:19 WARN DAGScheduler: Broadcasting large task binary with size 1130.9 KiB\n",
      "25/05/10 21:36:19 WARN DAGScheduler: Broadcasting large task binary with size 1130.8 KiB\n",
      "25/05/10 21:36:19 WARN DAGScheduler: Broadcasting large task binary with size 1130.8 KiB\n",
      "25/05/10 21:36:19 WARN DAGScheduler: Broadcasting large task binary with size 1130.8 KiB\n",
      "25/05/10 21:36:19 WARN DAGScheduler: Broadcasting large task binary with size 1130.8 KiB\n",
      "25/05/10 21:36:19 WARN DAGScheduler: Broadcasting large task binary with size 1130.8 KiB\n",
      "25/05/10 21:36:19 WARN DAGScheduler: Broadcasting large task binary with size 1130.9 KiB\n",
      "25/05/10 21:36:19 WARN DAGScheduler: Broadcasting large task binary with size 1130.9 KiB\n",
      "25/05/10 21:36:19 WARN DAGScheduler: Broadcasting large task binary with size 1130.8 KiB\n",
      "25/05/10 21:36:19 WARN DAGScheduler: Broadcasting large task binary with size 1130.8 KiB\n",
      "25/05/10 21:36:19 WARN DAGScheduler: Broadcasting large task binary with size 1130.9 KiB\n",
      "25/05/10 21:36:19 WARN DAGScheduler: Broadcasting large task binary with size 1130.9 KiB\n",
      "25/05/10 21:36:19 WARN DAGScheduler: Broadcasting large task binary with size 1130.8 KiB\n",
      "25/05/10 21:36:19 WARN DAGScheduler: Broadcasting large task binary with size 1130.8 KiB\n",
      "25/05/10 21:36:19 WARN DAGScheduler: Broadcasting large task binary with size 1130.8 KiB\n",
      "25/05/10 21:36:19 WARN DAGScheduler: Broadcasting large task binary with size 1130.9 KiB\n",
      "25/05/10 21:36:20 WARN DAGScheduler: Broadcasting large task binary with size 1130.9 KiB\n",
      "25/05/10 21:36:20 WARN DAGScheduler: Broadcasting large task binary with size 1130.8 KiB\n",
      "25/05/10 21:36:20 WARN DAGScheduler: Broadcasting large task binary with size 1130.9 KiB\n",
      "25/05/10 21:36:20 WARN DAGScheduler: Broadcasting large task binary with size 1130.9 KiB\n",
      "25/05/10 21:36:20 WARN DAGScheduler: Broadcasting large task binary with size 1130.8 KiB\n",
      "25/05/10 21:36:20 WARN DAGScheduler: Broadcasting large task binary with size 1130.8 KiB\n",
      "25/05/10 21:36:20 WARN DAGScheduler: Broadcasting large task binary with size 1130.8 KiB\n",
      "25/05/10 21:36:20 WARN DAGScheduler: Broadcasting large task binary with size 1130.8 KiB\n",
      "25/05/10 21:36:20 WARN DAGScheduler: Broadcasting large task binary with size 1130.9 KiB\n",
      "25/05/10 21:36:20 WARN DAGScheduler: Broadcasting large task binary with size 1130.9 KiB\n",
      "25/05/10 21:36:20 WARN DAGScheduler: Broadcasting large task binary with size 1130.8 KiB\n",
      "25/05/10 21:36:20 WARN DAGScheduler: Broadcasting large task binary with size 1130.9 KiB\n",
      "25/05/10 21:36:20 WARN DAGScheduler: Broadcasting large task binary with size 1130.9 KiB\n",
      "25/05/10 21:36:20 WARN DAGScheduler: Broadcasting large task binary with size 1130.8 KiB\n",
      "25/05/10 21:36:20 WARN DAGScheduler: Broadcasting large task binary with size 1130.8 KiB\n",
      "25/05/10 21:36:20 WARN DAGScheduler: Broadcasting large task binary with size 1130.8 KiB\n",
      "25/05/10 21:36:20 WARN DAGScheduler: Broadcasting large task binary with size 1130.8 KiB\n",
      "25/05/10 21:36:20 WARN DAGScheduler: Broadcasting large task binary with size 1130.9 KiB\n",
      "25/05/10 21:36:20 WARN DAGScheduler: Broadcasting large task binary with size 1130.9 KiB\n",
      "25/05/10 21:36:20 WARN DAGScheduler: Broadcasting large task binary with size 1130.8 KiB\n",
      "25/05/10 21:36:20 WARN DAGScheduler: Broadcasting large task binary with size 1130.9 KiB\n",
      "25/05/10 21:36:20 WARN DAGScheduler: Broadcasting large task binary with size 1130.9 KiB\n",
      "25/05/10 21:36:20 WARN DAGScheduler: Broadcasting large task binary with size 1130.8 KiB\n",
      "25/05/10 21:36:20 WARN DAGScheduler: Broadcasting large task binary with size 1130.8 KiB\n",
      "25/05/10 21:36:20 WARN DAGScheduler: Broadcasting large task binary with size 1130.9 KiB\n",
      "25/05/10 21:36:20 WARN DAGScheduler: Broadcasting large task binary with size 1130.8 KiB\n",
      "25/05/10 21:36:20 WARN DAGScheduler: Broadcasting large task binary with size 1130.9 KiB\n",
      "25/05/10 21:36:20 WARN DAGScheduler: Broadcasting large task binary with size 1130.8 KiB\n",
      "25/05/10 21:36:20 WARN DAGScheduler: Broadcasting large task binary with size 1130.9 KiB\n",
      "25/05/10 21:36:21 WARN DAGScheduler: Broadcasting large task binary with size 1130.9 KiB\n",
      "25/05/10 21:36:21 WARN DAGScheduler: Broadcasting large task binary with size 1130.8 KiB\n",
      "25/05/10 21:36:21 WARN DAGScheduler: Broadcasting large task binary with size 1130.8 KiB\n",
      "25/05/10 21:36:21 WARN DAGScheduler: Broadcasting large task binary with size 1130.9 KiB\n",
      "25/05/10 21:36:21 WARN DAGScheduler: Broadcasting large task binary with size 1130.8 KiB\n",
      "25/05/10 21:36:21 WARN DAGScheduler: Broadcasting large task binary with size 1129.6 KiB\n",
      "25/05/10 21:36:21 WARN DAGScheduler: Broadcasting large task binary with size 1130.9 KiB\n",
      "25/05/10 21:36:21 WARN DAGScheduler: Broadcasting large task binary with size 1130.8 KiB\n",
      "25/05/10 21:36:21 WARN DAGScheduler: Broadcasting large task binary with size 1130.9 KiB\n",
      "25/05/10 21:36:21 WARN DAGScheduler: Broadcasting large task binary with size 1130.9 KiB\n",
      "25/05/10 21:36:21 WARN DAGScheduler: Broadcasting large task binary with size 1130.9 KiB\n",
      "25/05/10 21:36:21 WARN DAGScheduler: Broadcasting large task binary with size 1130.8 KiB\n",
      "25/05/10 21:36:21 WARN DAGScheduler: Broadcasting large task binary with size 1130.8 KiB\n",
      "25/05/10 21:36:21 WARN DAGScheduler: Broadcasting large task binary with size 1129.6 KiB\n"
     ]
    },
    {
     "name": "stderr",
     "output_type": "stream",
     "text": [
      "                                                                                "
     ]
    },
    {
     "name": "stdout",
     "output_type": "stream",
     "text": [
      "25/05/10 21:36:26 WARN DAGScheduler: Broadcasting large task binary with size 1130.8 KiB\n",
      "25/05/10 21:36:26 WARN DAGScheduler: Broadcasting large task binary with size 1130.9 KiB\n",
      "25/05/10 21:36:26 WARN DAGScheduler: Broadcasting large task binary with size 1130.9 KiB\n",
      "25/05/10 21:36:26 WARN DAGScheduler: Broadcasting large task binary with size 1130.9 KiB\n",
      "25/05/10 21:36:26 WARN DAGScheduler: Broadcasting large task binary with size 1130.8 KiB\n",
      "25/05/10 21:36:26 WARN DAGScheduler: Broadcasting large task binary with size 1130.8 KiB\n",
      "25/05/10 21:36:26 WARN DAGScheduler: Broadcasting large task binary with size 1130.9 KiB\n",
      "25/05/10 21:36:26 WARN DAGScheduler: Broadcasting large task binary with size 1130.8 KiB\n"
     ]
    },
    {
     "name": "stderr",
     "output_type": "stream",
     "text": [
      "                                                                                "
     ]
    },
    {
     "name": "stdout",
     "output_type": "stream",
     "text": [
      "25/05/10 21:36:30 WARN DAGScheduler: Broadcasting large task binary with size 1130.8 KiB\n"
     ]
    },
    {
     "name": "stderr",
     "output_type": "stream",
     "text": [
      "                                                                                "
     ]
    },
    {
     "name": "stdout",
     "output_type": "stream",
     "text": [
      "25/05/10 21:36:35 WARN DAGScheduler: Broadcasting large task binary with size 1130.8 KiB\n",
      "25/05/10 21:36:35 WARN DAGScheduler: Broadcasting large task binary with size 1130.9 KiB\n",
      "25/05/10 21:36:35 WARN DAGScheduler: Broadcasting large task binary with size 1130.9 KiB\n",
      "25/05/10 21:36:35 WARN DAGScheduler: Broadcasting large task binary with size 1130.9 KiB\n",
      "25/05/10 21:36:35 WARN DAGScheduler: Broadcasting large task binary with size 1130.8 KiB\n",
      "25/05/10 21:36:35 WARN DAGScheduler: Broadcasting large task binary with size 1130.9 KiB\n",
      "25/05/10 21:36:35 WARN DAGScheduler: Broadcasting large task binary with size 1130.8 KiB\n",
      "25/05/10 21:36:35 WARN DAGScheduler: Broadcasting large task binary with size 1130.8 KiB\n"
     ]
    },
    {
     "name": "stderr",
     "output_type": "stream",
     "text": [
      "                                                                                "
     ]
    },
    {
     "name": "stdout",
     "output_type": "stream",
     "text": [
      "25/05/10 21:36:40 WARN DAGScheduler: Broadcasting large task binary with size 1130.8 KiB\n",
      "25/05/10 21:36:40 WARN DAGScheduler: Broadcasting large task binary with size 1130.9 KiB\n",
      "25/05/10 21:36:40 WARN DAGScheduler: Broadcasting large task binary with size 1130.8 KiB\n",
      "25/05/10 21:36:40 WARN DAGScheduler: Broadcasting large task binary with size 1130.9 KiB\n",
      "25/05/10 21:36:40 WARN DAGScheduler: Broadcasting large task binary with size 1130.9 KiB\n",
      "25/05/10 21:36:40 WARN DAGScheduler: Broadcasting large task binary with size 1130.8 KiB\n",
      "25/05/10 21:36:40 WARN DAGScheduler: Broadcasting large task binary with size 1130.9 KiB\n",
      "25/05/10 21:36:40 WARN DAGScheduler: Broadcasting large task binary with size 1130.8 KiB\n",
      "25/05/10 21:36:40 WARN DAGScheduler: Broadcasting large task binary with size 1130.8 KiB\n",
      "25/05/10 21:36:40 WARN DAGScheduler: Broadcasting large task binary with size 1130.8 KiB\n",
      "25/05/10 21:36:40 WARN DAGScheduler: Broadcasting large task binary with size 1130.9 KiB\n",
      "25/05/10 21:36:40 WARN DAGScheduler: Broadcasting large task binary with size 1130.8 KiB\n",
      "25/05/10 21:36:40 WARN DAGScheduler: Broadcasting large task binary with size 1130.9 KiB\n",
      "25/05/10 21:36:40 WARN DAGScheduler: Broadcasting large task binary with size 1130.9 KiB\n",
      "25/05/10 21:36:40 WARN DAGScheduler: Broadcasting large task binary with size 1130.9 KiB\n",
      "25/05/10 21:36:40 WARN DAGScheduler: Broadcasting large task binary with size 1130.8 KiB\n",
      "25/05/10 21:36:40 WARN DAGScheduler: Broadcasting large task binary with size 1130.8 KiB\n",
      "25/05/10 21:36:40 WARN DAGScheduler: Broadcasting large task binary with size 1130.8 KiB\n",
      "25/05/10 21:36:40 WARN DAGScheduler: Broadcasting large task binary with size 1130.8 KiB\n",
      "25/05/10 21:36:41 WARN DAGScheduler: Broadcasting large task binary with size 1130.9 KiB\n",
      "25/05/10 21:36:41 WARN DAGScheduler: Broadcasting large task binary with size 1130.8 KiB\n",
      "25/05/10 21:36:41 WARN DAGScheduler: Broadcasting large task binary with size 1130.9 KiB\n",
      "25/05/10 21:36:41 WARN DAGScheduler: Broadcasting large task binary with size 1130.9 KiB\n",
      "25/05/10 21:36:41 WARN DAGScheduler: Broadcasting large task binary with size 1130.9 KiB\n",
      "25/05/10 21:36:41 WARN DAGScheduler: Broadcasting large task binary with size 1130.8 KiB\n",
      "25/05/10 21:36:41 WARN DAGScheduler: Broadcasting large task binary with size 1130.8 KiB\n",
      "25/05/10 21:36:41 WARN DAGScheduler: Broadcasting large task binary with size 1130.9 KiB\n",
      "25/05/10 21:36:41 WARN DAGScheduler: Broadcasting large task binary with size 1130.8 KiB\n",
      "25/05/10 21:36:41 WARN DAGScheduler: Broadcasting large task binary with size 1130.8 KiB\n",
      "25/05/10 21:36:41 WARN DAGScheduler: Broadcasting large task binary with size 1130.9 KiB\n",
      "25/05/10 21:36:41 WARN DAGScheduler: Broadcasting large task binary with size 1130.8 KiB\n",
      "25/05/10 21:36:41 WARN DAGScheduler: Broadcasting large task binary with size 1130.9 KiB\n",
      "25/05/10 21:36:41 WARN DAGScheduler: Broadcasting large task binary with size 1130.9 KiB\n",
      "25/05/10 21:36:41 WARN DAGScheduler: Broadcasting large task binary with size 1130.8 KiB\n",
      "25/05/10 21:36:41 WARN DAGScheduler: Broadcasting large task binary with size 1130.8 KiB\n",
      "25/05/10 21:36:41 WARN DAGScheduler: Broadcasting large task binary with size 1130.8 KiB\n",
      "25/05/10 21:36:41 WARN DAGScheduler: Broadcasting large task binary with size 1130.9 KiB\n",
      "25/05/10 21:36:41 WARN DAGScheduler: Broadcasting large task binary with size 1130.9 KiB\n",
      "25/05/10 21:36:41 WARN DAGScheduler: Broadcasting large task binary with size 1130.8 KiB\n",
      "25/05/10 21:36:41 WARN DAGScheduler: Broadcasting large task binary with size 1129.6 KiB\n",
      "25/05/10 21:36:41 WARN DAGScheduler: Broadcasting large task binary with size 1130.9 KiB\n",
      "25/05/10 21:36:41 WARN DAGScheduler: Broadcasting large task binary with size 1130.9 KiB\n",
      "25/05/10 21:36:41 WARN DAGScheduler: Broadcasting large task binary with size 1130.8 KiB\n",
      "25/05/10 21:36:42 WARN DAGScheduler: Broadcasting large task binary with size 1130.8 KiB\n",
      "25/05/10 21:36:42 WARN DAGScheduler: Broadcasting large task binary with size 1130.8 KiB\n",
      "25/05/10 21:36:42 WARN DAGScheduler: Broadcasting large task binary with size 1130.9 KiB\n",
      "25/05/10 21:36:42 WARN DAGScheduler: Broadcasting large task binary with size 1130.9 KiB\n",
      "25/05/10 21:36:42 WARN DAGScheduler: Broadcasting large task binary with size 1130.8 KiB\n"
     ]
    },
    {
     "name": "stderr",
     "output_type": "stream",
     "text": [
      "                                                                                "
     ]
    },
    {
     "name": "stdout",
     "output_type": "stream",
     "text": [
      "25/05/10 21:36:46 WARN DAGScheduler: Broadcasting large task binary with size 1130.8 KiB\n",
      "25/05/10 21:36:46 WARN DAGScheduler: Broadcasting large task binary with size 1130.9 KiB\n",
      "25/05/10 21:36:46 WARN DAGScheduler: Broadcasting large task binary with size 1130.8 KiB\n",
      "25/05/10 21:36:46 WARN DAGScheduler: Broadcasting large task binary with size 1130.9 KiB\n",
      "25/05/10 21:36:46 WARN DAGScheduler: Broadcasting large task binary with size 1130.9 KiB\n",
      "25/05/10 21:36:46 WARN DAGScheduler: Broadcasting large task binary with size 1130.9 KiB\n",
      "25/05/10 21:36:46 WARN DAGScheduler: Broadcasting large task binary with size 1130.8 KiB\n",
      "25/05/10 21:36:46 WARN DAGScheduler: Broadcasting large task binary with size 1130.8 KiB\n",
      "25/05/10 21:36:47 WARN DAGScheduler: Broadcasting large task binary with size 1129.6 KiB\n"
     ]
    },
    {
     "name": "stderr",
     "output_type": "stream",
     "text": [
      "                                                                                "
     ]
    },
    {
     "name": "stdout",
     "output_type": "stream",
     "text": [
      "25/05/10 21:36:51 WARN DAGScheduler: Broadcasting large task binary with size 1130.8 KiB\n",
      "25/05/10 21:36:51 WARN DAGScheduler: Broadcasting large task binary with size 1130.9 KiB\n",
      "25/05/10 21:36:51 WARN DAGScheduler: Broadcasting large task binary with size 1130.8 KiB\n",
      "25/05/10 21:36:51 WARN DAGScheduler: Broadcasting large task binary with size 1130.9 KiB\n",
      "25/05/10 21:36:51 WARN DAGScheduler: Broadcasting large task binary with size 1130.9 KiB\n",
      "25/05/10 21:36:51 WARN DAGScheduler: Broadcasting large task binary with size 1130.9 KiB\n",
      "25/05/10 21:36:51 WARN DAGScheduler: Broadcasting large task binary with size 1130.8 KiB\n",
      "25/05/10 21:36:51 WARN DAGScheduler: Broadcasting large task binary with size 1130.8 KiB\n"
     ]
    },
    {
     "name": "stderr",
     "output_type": "stream",
     "text": [
      "                                                                                "
     ]
    },
    {
     "name": "stdout",
     "output_type": "stream",
     "text": [
      "25/05/10 21:36:56 WARN DAGScheduler: Broadcasting large task binary with size 1130.8 KiB\n",
      "25/05/10 21:36:56 WARN DAGScheduler: Broadcasting large task binary with size 1130.8 KiB\n",
      "25/05/10 21:36:56 WARN DAGScheduler: Broadcasting large task binary with size 1130.8 KiB\n",
      "25/05/10 21:36:56 WARN DAGScheduler: Broadcasting large task binary with size 1130.9 KiB\n",
      "25/05/10 21:36:56 WARN DAGScheduler: Broadcasting large task binary with size 1130.9 KiB\n",
      "25/05/10 21:36:56 WARN DAGScheduler: Broadcasting large task binary with size 1130.9 KiB\n",
      "25/05/10 21:36:56 WARN DAGScheduler: Broadcasting large task binary with size 1130.9 KiB\n",
      "25/05/10 21:36:56 WARN DAGScheduler: Broadcasting large task binary with size 1130.8 KiB\n",
      "25/05/10 21:36:56 WARN DAGScheduler: Broadcasting large task binary with size 1130.8 KiB\n"
     ]
    },
    {
     "name": "stderr",
     "output_type": "stream",
     "text": [
      "                                                                                "
     ]
    },
    {
     "name": "stdout",
     "output_type": "stream",
     "text": [
      "25/05/10 21:37:01 WARN DAGScheduler: Broadcasting large task binary with size 1130.8 KiB\n",
      "25/05/10 21:37:01 WARN DAGScheduler: Broadcasting large task binary with size 1130.8 KiB\n",
      "25/05/10 21:37:01 WARN DAGScheduler: Broadcasting large task binary with size 1130.8 KiB\n",
      "25/05/10 21:37:01 WARN DAGScheduler: Broadcasting large task binary with size 1130.9 KiB\n",
      "25/05/10 21:37:01 WARN DAGScheduler: Broadcasting large task binary with size 1130.9 KiB\n",
      "25/05/10 21:37:01 WARN DAGScheduler: Broadcasting large task binary with size 1130.9 KiB\n",
      "25/05/10 21:37:01 WARN DAGScheduler: Broadcasting large task binary with size 1130.8 KiB\n",
      "25/05/10 21:37:01 WARN DAGScheduler: Broadcasting large task binary with size 1130.9 KiB\n",
      "25/05/10 21:37:01 WARN DAGScheduler: Broadcasting large task binary with size 1130.8 KiB\n",
      "25/05/10 21:37:01 WARN DAGScheduler: Broadcasting large task binary with size 1130.8 KiB\n",
      "25/05/10 21:37:02 WARN DAGScheduler: Broadcasting large task binary with size 1130.8 KiB\n",
      "25/05/10 21:37:02 WARN DAGScheduler: Broadcasting large task binary with size 1130.9 KiB\n",
      "25/05/10 21:37:02 WARN DAGScheduler: Broadcasting large task binary with size 1130.9 KiB\n",
      "25/05/10 21:37:02 WARN DAGScheduler: Broadcasting large task binary with size 1130.9 KiB\n",
      "25/05/10 21:37:02 WARN DAGScheduler: Broadcasting large task binary with size 1130.8 KiB\n",
      "25/05/10 21:37:02 WARN DAGScheduler: Broadcasting large task binary with size 1130.8 KiB\n",
      "25/05/10 21:37:02 WARN DAGScheduler: Broadcasting large task binary with size 1130.8 KiB\n",
      "25/05/10 21:37:02 WARN DAGScheduler: Broadcasting large task binary with size 1130.9 KiB\n",
      "25/05/10 21:37:02 WARN DAGScheduler: Broadcasting large task binary with size 1130.8 KiB\n",
      "25/05/10 21:37:02 WARN DAGScheduler: Broadcasting large task binary with size 1130.8 KiB\n",
      "25/05/10 21:37:02 WARN DAGScheduler: Broadcasting large task binary with size 1130.9 KiB\n",
      "25/05/10 21:37:02 WARN DAGScheduler: Broadcasting large task binary with size 1130.9 KiB\n",
      "25/05/10 21:37:02 WARN DAGScheduler: Broadcasting large task binary with size 1130.9 KiB\n",
      "25/05/10 21:37:02 WARN DAGScheduler: Broadcasting large task binary with size 1130.8 KiB\n",
      "25/05/10 21:37:02 WARN DAGScheduler: Broadcasting large task binary with size 1130.8 KiB\n",
      "25/05/10 21:37:02 WARN DAGScheduler: Broadcasting large task binary with size 1130.9 KiB\n",
      "25/05/10 21:37:02 WARN DAGScheduler: Broadcasting large task binary with size 1130.8 KiB\n",
      "25/05/10 21:37:02 WARN DAGScheduler: Broadcasting large task binary with size 1130.8 KiB\n",
      "25/05/10 21:37:02 WARN DAGScheduler: Broadcasting large task binary with size 1130.9 KiB\n",
      "25/05/10 21:37:03 WARN DAGScheduler: Broadcasting large task binary with size 1130.8 KiB\n",
      "25/05/10 21:37:03 WARN DAGScheduler: Broadcasting large task binary with size 1130.9 KiB\n",
      "25/05/10 21:37:03 WARN DAGScheduler: Broadcasting large task binary with size 1130.9 KiB\n",
      "25/05/10 21:37:03 WARN DAGScheduler: Broadcasting large task binary with size 1130.8 KiB\n",
      "25/05/10 21:37:03 WARN DAGScheduler: Broadcasting large task binary with size 1130.8 KiB\n",
      "25/05/10 21:37:03 WARN DAGScheduler: Broadcasting large task binary with size 1130.8 KiB\n",
      "25/05/10 21:37:03 WARN DAGScheduler: Broadcasting large task binary with size 1130.8 KiB\n",
      "25/05/10 21:37:03 WARN DAGScheduler: Broadcasting large task binary with size 1130.8 KiB\n",
      "25/05/10 21:37:03 WARN DAGScheduler: Broadcasting large task binary with size 1130.9 KiB\n",
      "25/05/10 21:37:03 WARN DAGScheduler: Broadcasting large task binary with size 1130.9 KiB\n",
      "25/05/10 21:37:03 WARN DAGScheduler: Broadcasting large task binary with size 1130.9 KiB\n",
      "25/05/10 21:37:03 WARN DAGScheduler: Broadcasting large task binary with size 1130.8 KiB\n",
      "25/05/10 21:37:03 WARN DAGScheduler: Broadcasting large task binary with size 1129.7 KiB\n",
      "25/05/10 21:37:03 WARN DAGScheduler: Broadcasting large task binary with size 1130.8 KiB\n",
      "25/05/10 21:37:03 WARN DAGScheduler: Broadcasting large task binary with size 1130.8 KiB\n",
      "25/05/10 21:37:03 WARN DAGScheduler: Broadcasting large task binary with size 1130.8 KiB\n",
      "25/05/10 21:37:03 WARN DAGScheduler: Broadcasting large task binary with size 1130.8 KiB\n",
      "25/05/10 21:37:03 WARN DAGScheduler: Broadcasting large task binary with size 1130.8 KiB\n",
      "25/05/10 21:37:03 WARN DAGScheduler: Broadcasting large task binary with size 1130.9 KiB\n",
      "25/05/10 21:37:03 WARN DAGScheduler: Broadcasting large task binary with size 1130.9 KiB\n",
      "25/05/10 21:37:03 WARN DAGScheduler: Broadcasting large task binary with size 1130.9 KiB\n"
     ]
    },
    {
     "name": "stderr",
     "output_type": "stream",
     "text": [
      "                                                                                "
     ]
    },
    {
     "name": "stdout",
     "output_type": "stream",
     "text": [
      "25/05/10 21:37:08 WARN DAGScheduler: Broadcasting large task binary with size 1130.9 KiB\n",
      "25/05/10 21:37:08 WARN DAGScheduler: Broadcasting large task binary with size 1130.8 KiB\n",
      "25/05/10 21:37:08 WARN DAGScheduler: Broadcasting large task binary with size 1130.8 KiB\n",
      "25/05/10 21:37:08 WARN DAGScheduler: Broadcasting large task binary with size 1130.8 KiB\n",
      "25/05/10 21:37:08 WARN DAGScheduler: Broadcasting large task binary with size 1130.9 KiB\n",
      "25/05/10 21:37:08 WARN DAGScheduler: Broadcasting large task binary with size 1130.9 KiB\n",
      "25/05/10 21:37:08 WARN DAGScheduler: Broadcasting large task binary with size 1130.8 KiB\n",
      "25/05/10 21:37:08 WARN DAGScheduler: Broadcasting large task binary with size 1130.8 KiB\n",
      "25/05/10 21:37:08 WARN DAGScheduler: Broadcasting large task binary with size 1130.9 KiB\n"
     ]
    },
    {
     "name": "stderr",
     "output_type": "stream",
     "text": [
      "                                                                                "
     ]
    },
    {
     "name": "stdout",
     "output_type": "stream",
     "text": [
      "25/05/10 21:37:13 WARN DAGScheduler: Broadcasting large task binary with size 1130.9 KiB\n",
      "25/05/10 21:37:13 WARN DAGScheduler: Broadcasting large task binary with size 1130.8 KiB\n",
      "25/05/10 21:37:13 WARN DAGScheduler: Broadcasting large task binary with size 1130.8 KiB\n",
      "25/05/10 21:37:13 WARN DAGScheduler: Broadcasting large task binary with size 1130.8 KiB\n",
      "25/05/10 21:37:13 WARN DAGScheduler: Broadcasting large task binary with size 1130.8 KiB\n",
      "25/05/10 21:37:13 WARN DAGScheduler: Broadcasting large task binary with size 1130.9 KiB\n",
      "25/05/10 21:37:13 WARN DAGScheduler: Broadcasting large task binary with size 1130.9 KiB\n",
      "25/05/10 21:37:13 WARN DAGScheduler: Broadcasting large task binary with size 1130.8 KiB\n",
      "25/05/10 21:37:13 WARN DAGScheduler: Broadcasting large task binary with size 1130.9 KiB\n",
      "25/05/10 21:37:13 WARN DAGScheduler: Broadcasting large task binary with size 1130.8 KiB\n",
      "25/05/10 21:37:13 WARN DAGScheduler: Broadcasting large task binary with size 1130.8 KiB\n",
      "25/05/10 21:37:13 WARN DAGScheduler: Broadcasting large task binary with size 1130.8 KiB\n",
      "25/05/10 21:37:13 WARN DAGScheduler: Broadcasting large task binary with size 1130.9 KiB\n",
      "25/05/10 21:37:13 WARN DAGScheduler: Broadcasting large task binary with size 1130.8 KiB\n",
      "25/05/10 21:37:13 WARN DAGScheduler: Broadcasting large task binary with size 1130.9 KiB\n",
      "25/05/10 21:37:13 WARN DAGScheduler: Broadcasting large task binary with size 1130.9 KiB\n",
      "25/05/10 21:37:14 WARN DAGScheduler: Broadcasting large task binary with size 1130.8 KiB\n",
      "25/05/10 21:37:14 WARN DAGScheduler: Broadcasting large task binary with size 1130.8 KiB\n",
      "25/05/10 21:37:14 WARN DAGScheduler: Broadcasting large task binary with size 1130.8 KiB\n",
      "25/05/10 21:37:14 WARN DAGScheduler: Broadcasting large task binary with size 1130.9 KiB\n",
      "25/05/10 21:37:14 WARN DAGScheduler: Broadcasting large task binary with size 1130.9 KiB\n",
      "25/05/10 21:37:14 WARN DAGScheduler: Broadcasting large task binary with size 1130.8 KiB\n",
      "25/05/10 21:37:14 WARN DAGScheduler: Broadcasting large task binary with size 1130.9 KiB\n",
      "25/05/10 21:37:14 WARN DAGScheduler: Broadcasting large task binary with size 1130.8 KiB\n",
      "25/05/10 21:37:14 WARN DAGScheduler: Broadcasting large task binary with size 1130.9 KiB\n",
      "25/05/10 21:37:14 WARN DAGScheduler: Broadcasting large task binary with size 1130.8 KiB\n",
      "25/05/10 21:37:14 WARN DAGScheduler: Broadcasting large task binary with size 1130.8 KiB\n",
      "25/05/10 21:37:14 WARN DAGScheduler: Broadcasting large task binary with size 1130.9 KiB\n",
      "25/05/10 21:37:14 WARN DAGScheduler: Broadcasting large task binary with size 1130.9 KiB\n",
      "25/05/10 21:37:14 WARN DAGScheduler: Broadcasting large task binary with size 1129.6 KiB\n",
      "25/05/10 21:37:14 WARN DAGScheduler: Broadcasting large task binary with size 1130.8 KiB\n",
      "25/05/10 21:37:14 WARN DAGScheduler: Broadcasting large task binary with size 1130.8 KiB\n",
      "25/05/10 21:37:14 WARN DAGScheduler: Broadcasting large task binary with size 1130.8 KiB\n",
      "25/05/10 21:37:14 WARN DAGScheduler: Broadcasting large task binary with size 1130.9 KiB\n",
      "25/05/10 21:37:14 WARN DAGScheduler: Broadcasting large task binary with size 1130.9 KiB\n",
      "25/05/10 21:37:14 WARN DAGScheduler: Broadcasting large task binary with size 1130.8 KiB\n",
      "25/05/10 21:37:14 WARN DAGScheduler: Broadcasting large task binary with size 1130.9 KiB\n",
      "25/05/10 21:37:14 WARN DAGScheduler: Broadcasting large task binary with size 1130.9 KiB\n"
     ]
    },
    {
     "name": "stderr",
     "output_type": "stream",
     "text": [
      "                                                                                "
     ]
    },
    {
     "name": "stdout",
     "output_type": "stream",
     "text": [
      "25/05/10 21:37:19 WARN DAGScheduler: Broadcasting large task binary with size 1130.8 KiB\n",
      "25/05/10 21:37:19 WARN DAGScheduler: Broadcasting large task binary with size 1130.8 KiB\n",
      "25/05/10 21:37:19 WARN DAGScheduler: Broadcasting large task binary with size 1130.8 KiB\n",
      "25/05/10 21:37:20 WARN DAGScheduler: Broadcasting large task binary with size 1130.9 KiB\n",
      "25/05/10 21:37:20 WARN DAGScheduler: Broadcasting large task binary with size 1130.8 KiB\n",
      "25/05/10 21:37:20 WARN DAGScheduler: Broadcasting large task binary with size 1130.9 KiB\n",
      "25/05/10 21:37:20 WARN DAGScheduler: Broadcasting large task binary with size 1130.8 KiB\n",
      "25/05/10 21:37:20 WARN DAGScheduler: Broadcasting large task binary with size 1130.9 KiB\n",
      "25/05/10 21:37:20 WARN DAGScheduler: Broadcasting large task binary with size 1130.9 KiB\n"
     ]
    },
    {
     "name": "stderr",
     "output_type": "stream",
     "text": [
      "                                                                                "
     ]
    },
    {
     "name": "stdout",
     "output_type": "stream",
     "text": [
      "25/05/10 21:37:24 WARN DAGScheduler: Broadcasting large task binary with size 1130.8 KiB\n",
      "25/05/10 21:37:24 WARN DAGScheduler: Broadcasting large task binary with size 1130.8 KiB\n",
      "25/05/10 21:37:24 WARN DAGScheduler: Broadcasting large task binary with size 1130.8 KiB\n",
      "25/05/10 21:37:24 WARN DAGScheduler: Broadcasting large task binary with size 1130.9 KiB\n",
      "25/05/10 21:37:24 WARN DAGScheduler: Broadcasting large task binary with size 1130.8 KiB\n",
      "25/05/10 21:37:24 WARN DAGScheduler: Broadcasting large task binary with size 1130.9 KiB\n",
      "25/05/10 21:37:24 WARN DAGScheduler: Broadcasting large task binary with size 1130.9 KiB\n",
      "25/05/10 21:37:25 WARN DAGScheduler: Broadcasting large task binary with size 1130.9 KiB\n",
      "25/05/10 21:37:25 WARN DAGScheduler: Broadcasting large task binary with size 1130.8 KiB\n",
      "25/05/10 21:37:25 WARN DAGScheduler: Broadcasting large task binary with size 1130.9 KiB\n",
      "25/05/10 21:37:25 WARN DAGScheduler: Broadcasting large task binary with size 1130.9 KiB\n",
      "25/05/10 21:37:25 WARN DAGScheduler: Broadcasting large task binary with size 1130.8 KiB\n",
      "25/05/10 21:37:25 WARN DAGScheduler: Broadcasting large task binary with size 1130.8 KiB\n",
      "25/05/10 21:37:25 WARN DAGScheduler: Broadcasting large task binary with size 1130.9 KiB\n",
      "25/05/10 21:37:25 WARN DAGScheduler: Broadcasting large task binary with size 1130.8 KiB\n",
      "25/05/10 21:37:25 WARN DAGScheduler: Broadcasting large task binary with size 1130.8 KiB\n",
      "25/05/10 21:37:25 WARN DAGScheduler: Broadcasting large task binary with size 1130.9 KiB\n",
      "25/05/10 21:37:25 WARN DAGScheduler: Broadcasting large task binary with size 1130.8 KiB\n",
      "25/05/10 21:37:25 WARN DAGScheduler: Broadcasting large task binary with size 1130.9 KiB\n",
      "25/05/10 21:37:25 WARN DAGScheduler: Broadcasting large task binary with size 1130.9 KiB\n",
      "25/05/10 21:37:25 WARN DAGScheduler: Broadcasting large task binary with size 1130.8 KiB\n",
      "25/05/10 21:37:25 WARN DAGScheduler: Broadcasting large task binary with size 1130.8 KiB\n",
      "25/05/10 21:37:25 WARN DAGScheduler: Broadcasting large task binary with size 1130.9 KiB\n",
      "25/05/10 21:37:25 WARN DAGScheduler: Broadcasting large task binary with size 1130.8 KiB\n",
      "25/05/10 21:37:25 WARN DAGScheduler: Broadcasting large task binary with size 1130.9 KiB\n",
      "25/05/10 21:37:25 WARN DAGScheduler: Broadcasting large task binary with size 1130.8 KiB\n",
      "25/05/10 21:37:25 WARN DAGScheduler: Broadcasting large task binary with size 1130.9 KiB\n",
      "25/05/10 21:37:25 WARN DAGScheduler: Broadcasting large task binary with size 1130.9 KiB\n",
      "25/05/10 21:37:25 WARN DAGScheduler: Broadcasting large task binary with size 1130.8 KiB\n",
      "25/05/10 21:37:25 WARN DAGScheduler: Broadcasting large task binary with size 1130.8 KiB\n",
      "25/05/10 21:37:25 WARN DAGScheduler: Broadcasting large task binary with size 1130.9 KiB\n",
      "25/05/10 21:37:25 WARN DAGScheduler: Broadcasting large task binary with size 1130.9 KiB\n",
      "25/05/10 21:37:25 WARN DAGScheduler: Broadcasting large task binary with size 1130.8 KiB\n",
      "25/05/10 21:37:25 WARN DAGScheduler: Broadcasting large task binary with size 1130.9 KiB\n",
      "25/05/10 21:37:26 WARN DAGScheduler: Broadcasting large task binary with size 1130.9 KiB\n",
      "25/05/10 21:37:26 WARN DAGScheduler: Broadcasting large task binary with size 1130.8 KiB\n",
      "25/05/10 21:37:26 WARN DAGScheduler: Broadcasting large task binary with size 1130.8 KiB\n",
      "25/05/10 21:37:26 WARN DAGScheduler: Broadcasting large task binary with size 1130.9 KiB\n",
      "25/05/10 21:37:26 WARN DAGScheduler: Broadcasting large task binary with size 1130.9 KiB\n",
      "25/05/10 21:37:26 WARN DAGScheduler: Broadcasting large task binary with size 1129.6 KiB\n",
      "25/05/10 21:37:26 WARN DAGScheduler: Broadcasting large task binary with size 1130.8 KiB\n",
      "25/05/10 21:37:26 WARN DAGScheduler: Broadcasting large task binary with size 1130.9 KiB\n",
      "25/05/10 21:37:26 WARN DAGScheduler: Broadcasting large task binary with size 1130.9 KiB\n",
      "25/05/10 21:37:26 WARN DAGScheduler: Broadcasting large task binary with size 1130.8 KiB\n",
      "25/05/10 21:37:26 WARN DAGScheduler: Broadcasting large task binary with size 1130.8 KiB\n",
      "25/05/10 21:37:26 WARN DAGScheduler: Broadcasting large task binary with size 1130.9 KiB\n",
      "25/05/10 21:37:26 WARN DAGScheduler: Broadcasting large task binary with size 1130.9 KiB\n",
      "25/05/10 21:37:26 WARN DAGScheduler: Broadcasting large task binary with size 1129.6 KiB\n"
     ]
    },
    {
     "name": "stderr",
     "output_type": "stream",
     "text": [
      "                                                                                "
     ]
    },
    {
     "name": "stdout",
     "output_type": "stream",
     "text": [
      "25/05/10 21:37:30 WARN DAGScheduler: Broadcasting large task binary with size 1130.8 KiB\n",
      "25/05/10 21:37:30 WARN DAGScheduler: Broadcasting large task binary with size 1130.8 KiB\n",
      "25/05/10 21:37:30 WARN DAGScheduler: Broadcasting large task binary with size 1130.9 KiB\n",
      "25/05/10 21:37:31 WARN DAGScheduler: Broadcasting large task binary with size 1130.9 KiB\n",
      "25/05/10 21:37:31 WARN DAGScheduler: Broadcasting large task binary with size 1130.8 KiB\n",
      "25/05/10 21:37:31 WARN DAGScheduler: Broadcasting large task binary with size 1130.8 KiB\n",
      "25/05/10 21:37:31 WARN DAGScheduler: Broadcasting large task binary with size 1130.9 KiB\n",
      "25/05/10 21:37:31 WARN DAGScheduler: Broadcasting large task binary with size 1130.9 KiB\n"
     ]
    },
    {
     "name": "stderr",
     "output_type": "stream",
     "text": [
      "                                                                                "
     ]
    },
    {
     "name": "stdout",
     "output_type": "stream",
     "text": [
      "25/05/10 21:37:35 WARN DAGScheduler: Broadcasting large task binary with size 1130.8 KiB\n"
     ]
    },
    {
     "name": "stderr",
     "output_type": "stream",
     "text": [
      "                                                                                "
     ]
    },
    {
     "name": "stdout",
     "output_type": "stream",
     "text": [
      "25/05/10 21:37:40 WARN DAGScheduler: Broadcasting large task binary with size 1130.8 KiB\n",
      "25/05/10 21:37:40 WARN DAGScheduler: Broadcasting large task binary with size 1130.9 KiB\n",
      "25/05/10 21:37:40 WARN DAGScheduler: Broadcasting large task binary with size 1130.8 KiB\n",
      "25/05/10 21:37:40 WARN DAGScheduler: Broadcasting large task binary with size 1130.9 KiB\n",
      "25/05/10 21:37:40 WARN DAGScheduler: Broadcasting large task binary with size 1130.9 KiB\n",
      "25/05/10 21:37:40 WARN DAGScheduler: Broadcasting large task binary with size 1130.8 KiB\n",
      "25/05/10 21:37:40 WARN DAGScheduler: Broadcasting large task binary with size 1130.8 KiB\n",
      "25/05/10 21:37:40 WARN DAGScheduler: Broadcasting large task binary with size 1130.9 KiB\n"
     ]
    },
    {
     "name": "stderr",
     "output_type": "stream",
     "text": [
      "                                                                                "
     ]
    },
    {
     "name": "stdout",
     "output_type": "stream",
     "text": [
      "25/05/10 21:37:44 WARN DAGScheduler: Broadcasting large task binary with size 1130.8 KiB\n",
      "25/05/10 21:37:44 WARN DAGScheduler: Broadcasting large task binary with size 1130.8 KiB\n",
      "25/05/10 21:37:44 WARN DAGScheduler: Broadcasting large task binary with size 1130.9 KiB\n",
      "25/05/10 21:37:45 WARN DAGScheduler: Broadcasting large task binary with size 1130.9 KiB\n",
      "25/05/10 21:37:45 WARN DAGScheduler: Broadcasting large task binary with size 1130.9 KiB\n",
      "25/05/10 21:37:45 WARN DAGScheduler: Broadcasting large task binary with size 1130.8 KiB\n",
      "25/05/10 21:37:45 WARN DAGScheduler: Broadcasting large task binary with size 1130.8 KiB\n",
      "25/05/10 21:37:45 WARN DAGScheduler: Broadcasting large task binary with size 1130.8 KiB\n",
      "25/05/10 21:37:45 WARN DAGScheduler: Broadcasting large task binary with size 1130.9 KiB\n",
      "25/05/10 21:37:45 WARN DAGScheduler: Broadcasting large task binary with size 1130.8 KiB\n",
      "25/05/10 21:37:45 WARN DAGScheduler: Broadcasting large task binary with size 1130.8 KiB\n",
      "25/05/10 21:37:45 WARN DAGScheduler: Broadcasting large task binary with size 1130.9 KiB\n",
      "25/05/10 21:37:45 WARN DAGScheduler: Broadcasting large task binary with size 1130.9 KiB\n",
      "25/05/10 21:37:45 WARN DAGScheduler: Broadcasting large task binary with size 1130.9 KiB\n",
      "25/05/10 21:37:45 WARN DAGScheduler: Broadcasting large task binary with size 1130.8 KiB\n",
      "25/05/10 21:37:45 WARN DAGScheduler: Broadcasting large task binary with size 1130.9 KiB\n",
      "25/05/10 21:37:45 WARN DAGScheduler: Broadcasting large task binary with size 1130.9 KiB\n",
      "25/05/10 21:37:45 WARN DAGScheduler: Broadcasting large task binary with size 1130.8 KiB\n",
      "25/05/10 21:37:45 WARN DAGScheduler: Broadcasting large task binary with size 1130.8 KiB\n",
      "25/05/10 21:37:45 WARN DAGScheduler: Broadcasting large task binary with size 1130.8 KiB\n",
      "25/05/10 21:37:45 WARN DAGScheduler: Broadcasting large task binary with size 1130.8 KiB\n",
      "25/05/10 21:37:45 WARN DAGScheduler: Broadcasting large task binary with size 1130.9 KiB\n",
      "25/05/10 21:37:45 WARN DAGScheduler: Broadcasting large task binary with size 1130.8 KiB\n",
      "25/05/10 21:37:45 WARN DAGScheduler: Broadcasting large task binary with size 1130.8 KiB\n",
      "25/05/10 21:37:45 WARN DAGScheduler: Broadcasting large task binary with size 1130.9 KiB\n",
      "25/05/10 21:37:46 WARN DAGScheduler: Broadcasting large task binary with size 1130.8 KiB\n",
      "25/05/10 21:37:46 WARN DAGScheduler: Broadcasting large task binary with size 1130.9 KiB\n",
      "25/05/10 21:37:46 WARN DAGScheduler: Broadcasting large task binary with size 1130.9 KiB\n",
      "25/05/10 21:37:46 WARN DAGScheduler: Broadcasting large task binary with size 1130.8 KiB\n",
      "25/05/10 21:37:46 WARN DAGScheduler: Broadcasting large task binary with size 1130.9 KiB\n",
      "25/05/10 21:37:46 WARN DAGScheduler: Broadcasting large task binary with size 1130.8 KiB\n",
      "25/05/10 21:37:46 WARN DAGScheduler: Broadcasting large task binary with size 1130.9 KiB\n",
      "25/05/10 21:37:46 WARN DAGScheduler: Broadcasting large task binary with size 1130.8 KiB\n",
      "25/05/10 21:37:46 WARN DAGScheduler: Broadcasting large task binary with size 1130.9 KiB\n",
      "25/05/10 21:37:46 WARN DAGScheduler: Broadcasting large task binary with size 1130.8 KiB\n",
      "25/05/10 21:37:46 WARN DAGScheduler: Broadcasting large task binary with size 1130.9 KiB\n",
      "25/05/10 21:37:46 WARN DAGScheduler: Broadcasting large task binary with size 1129.6 KiB\n",
      "25/05/10 21:37:46 WARN DAGScheduler: Broadcasting large task binary with size 1130.8 KiB\n",
      "25/05/10 21:37:46 WARN DAGScheduler: Broadcasting large task binary with size 1130.8 KiB\n",
      "25/05/10 21:37:46 WARN DAGScheduler: Broadcasting large task binary with size 1130.9 KiB\n",
      "25/05/10 21:37:46 WARN DAGScheduler: Broadcasting large task binary with size 1130.9 KiB\n",
      "25/05/10 21:37:46 WARN DAGScheduler: Broadcasting large task binary with size 1130.8 KiB\n",
      "25/05/10 21:37:46 WARN DAGScheduler: Broadcasting large task binary with size 1130.9 KiB\n",
      "25/05/10 21:37:46 WARN DAGScheduler: Broadcasting large task binary with size 1130.8 KiB\n",
      "25/05/10 21:37:46 WARN DAGScheduler: Broadcasting large task binary with size 1130.9 KiB\n"
     ]
    },
    {
     "name": "stderr",
     "output_type": "stream",
     "text": [
      "                                                                                "
     ]
    },
    {
     "name": "stdout",
     "output_type": "stream",
     "text": [
      "25/05/10 21:37:51 WARN DAGScheduler: Broadcasting large task binary with size 1130.8 KiB\n",
      "25/05/10 21:37:51 WARN DAGScheduler: Broadcasting large task binary with size 1130.8 KiB\n",
      "25/05/10 21:37:51 WARN DAGScheduler: Broadcasting large task binary with size 1130.9 KiB\n",
      "25/05/10 21:37:51 WARN DAGScheduler: Broadcasting large task binary with size 1130.8 KiB\n",
      "25/05/10 21:37:51 WARN DAGScheduler: Broadcasting large task binary with size 1130.9 KiB\n",
      "25/05/10 21:37:51 WARN DAGScheduler: Broadcasting large task binary with size 1130.8 KiB\n",
      "25/05/10 21:37:51 WARN DAGScheduler: Broadcasting large task binary with size 1130.9 KiB\n",
      "25/05/10 21:37:51 WARN DAGScheduler: Broadcasting large task binary with size 1130.8 KiB\n",
      "25/05/10 21:37:51 WARN DAGScheduler: Broadcasting large task binary with size 1130.9 KiB\n"
     ]
    },
    {
     "name": "stderr",
     "output_type": "stream",
     "text": [
      "                                                                                "
     ]
    },
    {
     "name": "stdout",
     "output_type": "stream",
     "text": [
      "25/05/10 21:37:56 WARN DAGScheduler: Broadcasting large task binary with size 1130.8 KiB\n",
      "25/05/10 21:37:56 WARN DAGScheduler: Broadcasting large task binary with size 1130.8 KiB\n",
      "25/05/10 21:37:56 WARN DAGScheduler: Broadcasting large task binary with size 1130.8 KiB\n",
      "25/05/10 21:37:56 WARN DAGScheduler: Broadcasting large task binary with size 1130.9 KiB\n",
      "25/05/10 21:37:56 WARN DAGScheduler: Broadcasting large task binary with size 1130.8 KiB\n",
      "25/05/10 21:37:56 WARN DAGScheduler: Broadcasting large task binary with size 1130.8 KiB\n",
      "25/05/10 21:37:56 WARN DAGScheduler: Broadcasting large task binary with size 1130.9 KiB\n",
      "25/05/10 21:37:56 WARN DAGScheduler: Broadcasting large task binary with size 1130.9 KiB\n",
      "25/05/10 21:37:56 WARN DAGScheduler: Broadcasting large task binary with size 1130.9 KiB\n",
      "25/05/10 21:37:56 WARN DAGScheduler: Broadcasting large task binary with size 1130.8 KiB\n",
      "25/05/10 21:37:56 WARN DAGScheduler: Broadcasting large task binary with size 1130.8 KiB\n",
      "25/05/10 21:37:56 WARN DAGScheduler: Broadcasting large task binary with size 1130.8 KiB\n",
      "25/05/10 21:37:56 WARN DAGScheduler: Broadcasting large task binary with size 1130.9 KiB\n",
      "25/05/10 21:37:56 WARN DAGScheduler: Broadcasting large task binary with size 1130.8 KiB\n",
      "25/05/10 21:37:56 WARN DAGScheduler: Broadcasting large task binary with size 1130.8 KiB\n",
      "25/05/10 21:37:56 WARN DAGScheduler: Broadcasting large task binary with size 1130.9 KiB\n",
      "25/05/10 21:37:56 WARN DAGScheduler: Broadcasting large task binary with size 1130.9 KiB\n",
      "25/05/10 21:37:56 WARN DAGScheduler: Broadcasting large task binary with size 1130.9 KiB\n",
      "25/05/10 21:37:56 WARN DAGScheduler: Broadcasting large task binary with size 1130.8 KiB\n",
      "25/05/10 21:37:56 WARN DAGScheduler: Broadcasting large task binary with size 1130.8 KiB\n",
      "25/05/10 21:37:56 WARN DAGScheduler: Broadcasting large task binary with size 1130.8 KiB\n",
      "25/05/10 21:37:56 WARN DAGScheduler: Broadcasting large task binary with size 1130.8 KiB\n",
      "25/05/10 21:37:56 WARN DAGScheduler: Broadcasting large task binary with size 1130.8 KiB\n",
      "25/05/10 21:37:56 WARN DAGScheduler: Broadcasting large task binary with size 1130.9 KiB\n",
      "25/05/10 21:37:56 WARN DAGScheduler: Broadcasting large task binary with size 1130.9 KiB\n",
      "25/05/10 21:37:56 WARN DAGScheduler: Broadcasting large task binary with size 1130.9 KiB\n",
      "25/05/10 21:37:57 WARN DAGScheduler: Broadcasting large task binary with size 1130.9 KiB\n",
      "25/05/10 21:37:57 WARN DAGScheduler: Broadcasting large task binary with size 1130.8 KiB\n",
      "25/05/10 21:37:57 WARN DAGScheduler: Broadcasting large task binary with size 1130.8 KiB\n",
      "25/05/10 21:37:57 WARN DAGScheduler: Broadcasting large task binary with size 1130.8 KiB\n",
      "25/05/10 21:37:57 WARN DAGScheduler: Broadcasting large task binary with size 1130.8 KiB\n",
      "25/05/10 21:37:57 WARN DAGScheduler: Broadcasting large task binary with size 1130.8 KiB\n",
      "25/05/10 21:37:57 WARN DAGScheduler: Broadcasting large task binary with size 1130.9 KiB\n",
      "25/05/10 21:37:57 WARN DAGScheduler: Broadcasting large task binary with size 1130.9 KiB\n",
      "25/05/10 21:37:57 WARN DAGScheduler: Broadcasting large task binary with size 1130.9 KiB\n",
      "25/05/10 21:37:57 WARN DAGScheduler: Broadcasting large task binary with size 1130.9 KiB\n",
      "25/05/10 21:37:57 WARN DAGScheduler: Broadcasting large task binary with size 1130.8 KiB\n",
      "25/05/10 21:37:57 WARN DAGScheduler: Broadcasting large task binary with size 1130.8 KiB\n",
      "25/05/10 21:37:57 WARN DAGScheduler: Broadcasting large task binary with size 1130.8 KiB\n",
      "25/05/10 21:37:57 WARN DAGScheduler: Broadcasting large task binary with size 1130.8 KiB\n",
      "25/05/10 21:37:57 WARN DAGScheduler: Broadcasting large task binary with size 1130.8 KiB\n",
      "25/05/10 21:37:57 WARN DAGScheduler: Broadcasting large task binary with size 1130.9 KiB\n",
      "25/05/10 21:37:57 WARN DAGScheduler: Broadcasting large task binary with size 1130.9 KiB\n",
      "25/05/10 21:37:57 WARN DAGScheduler: Broadcasting large task binary with size 1130.9 KiB\n",
      "25/05/10 21:37:57 WARN DAGScheduler: Broadcasting large task binary with size 1130.9 KiB\n",
      "25/05/10 21:37:57 WARN DAGScheduler: Broadcasting large task binary with size 1130.8 KiB\n",
      "25/05/10 21:37:57 WARN DAGScheduler: Broadcasting large task binary with size 1130.8 KiB\n",
      "25/05/10 21:37:57 WARN DAGScheduler: Broadcasting large task binary with size 1130.8 KiB\n",
      "25/05/10 21:37:57 WARN DAGScheduler: Broadcasting large task binary with size 1130.8 KiB\n",
      "25/05/10 21:37:57 WARN DAGScheduler: Broadcasting large task binary with size 1130.8 KiB\n",
      "25/05/10 21:37:57 WARN DAGScheduler: Broadcasting large task binary with size 1130.9 KiB\n",
      "25/05/10 21:37:57 WARN DAGScheduler: Broadcasting large task binary with size 1130.9 KiB\n",
      "25/05/10 21:37:57 WARN DAGScheduler: Broadcasting large task binary with size 1130.9 KiB\n",
      "25/05/10 21:37:58 WARN DAGScheduler: Broadcasting large task binary with size 1130.8 KiB\n",
      "25/05/10 21:37:58 WARN DAGScheduler: Broadcasting large task binary with size 1130.8 KiB\n",
      "25/05/10 21:37:58 WARN DAGScheduler: Broadcasting large task binary with size 1130.8 KiB\n",
      "25/05/10 21:37:58 WARN DAGScheduler: Broadcasting large task binary with size 1130.9 KiB\n",
      "25/05/10 21:37:58 WARN DAGScheduler: Broadcasting large task binary with size 1130.8 KiB\n",
      "25/05/10 21:37:58 WARN DAGScheduler: Broadcasting large task binary with size 1130.8 KiB\n",
      "25/05/10 21:37:58 WARN DAGScheduler: Broadcasting large task binary with size 1130.9 KiB\n",
      "25/05/10 21:37:58 WARN DAGScheduler: Broadcasting large task binary with size 1130.9 KiB\n",
      "25/05/10 21:37:58 WARN DAGScheduler: Broadcasting large task binary with size 1130.8 KiB\n",
      "25/05/10 21:37:58 WARN DAGScheduler: Broadcasting large task binary with size 1130.9 KiB\n",
      "25/05/10 21:37:58 WARN DAGScheduler: Broadcasting large task binary with size 1130.8 KiB\n",
      "25/05/10 21:37:58 WARN DAGScheduler: Broadcasting large task binary with size 1130.8 KiB\n",
      "25/05/10 21:37:58 WARN DAGScheduler: Broadcasting large task binary with size 1130.8 KiB\n",
      "25/05/10 21:37:58 WARN DAGScheduler: Broadcasting large task binary with size 1130.9 KiB\n",
      "25/05/10 21:37:58 WARN DAGScheduler: Broadcasting large task binary with size 1130.8 KiB\n",
      "25/05/10 21:37:58 WARN DAGScheduler: Broadcasting large task binary with size 1130.9 KiB\n",
      "25/05/10 21:37:58 WARN DAGScheduler: Broadcasting large task binary with size 1130.8 KiB\n",
      "25/05/10 21:37:58 WARN DAGScheduler: Broadcasting large task binary with size 1130.9 KiB\n",
      "25/05/10 21:37:58 WARN DAGScheduler: Broadcasting large task binary with size 1130.8 KiB\n",
      "25/05/10 21:37:58 WARN DAGScheduler: Broadcasting large task binary with size 1130.9 KiB\n",
      "25/05/10 21:37:59 WARN DAGScheduler: Broadcasting large task binary with size 1130.8 KiB\n",
      "25/05/10 21:37:59 WARN DAGScheduler: Broadcasting large task binary with size 1130.8 KiB\n",
      "25/05/10 21:37:59 WARN DAGScheduler: Broadcasting large task binary with size 1130.8 KiB\n",
      "25/05/10 21:37:59 WARN DAGScheduler: Broadcasting large task binary with size 1130.9 KiB\n",
      "25/05/10 21:37:59 WARN DAGScheduler: Broadcasting large task binary with size 1130.9 KiB\n",
      "25/05/10 21:37:59 WARN DAGScheduler: Broadcasting large task binary with size 1130.8 KiB\n",
      "25/05/10 21:37:59 WARN DAGScheduler: Broadcasting large task binary with size 1130.8 KiB\n",
      "25/05/10 21:37:59 WARN DAGScheduler: Broadcasting large task binary with size 1130.9 KiB\n",
      "25/05/10 21:37:59 WARN DAGScheduler: Broadcasting large task binary with size 1130.8 KiB\n",
      "25/05/10 21:37:59 WARN DAGScheduler: Broadcasting large task binary with size 1130.8 KiB\n",
      "25/05/10 21:37:59 WARN DAGScheduler: Broadcasting large task binary with size 1130.8 KiB\n",
      "25/05/10 21:37:59 WARN DAGScheduler: Broadcasting large task binary with size 1130.8 KiB\n",
      "25/05/10 21:37:59 WARN DAGScheduler: Broadcasting large task binary with size 1130.8 KiB\n",
      "25/05/10 21:37:59 WARN DAGScheduler: Broadcasting large task binary with size 1130.9 KiB\n",
      "25/05/10 21:37:59 WARN DAGScheduler: Broadcasting large task binary with size 1130.9 KiB\n",
      "25/05/10 21:37:59 WARN DAGScheduler: Broadcasting large task binary with size 1130.9 KiB\n",
      "25/05/10 21:37:59 WARN DAGScheduler: Broadcasting large task binary with size 1130.8 KiB\n",
      "25/05/10 21:38:00 WARN DAGScheduler: Broadcasting large task binary with size 1129.7 KiB\n",
      "25/05/10 21:38:00 WARN DAGScheduler: Broadcasting large task binary with size 1130.8 KiB\n",
      "25/05/10 21:38:00 WARN DAGScheduler: Broadcasting large task binary with size 1130.8 KiB\n",
      "25/05/10 21:38:00 WARN DAGScheduler: Broadcasting large task binary with size 1130.8 KiB\n",
      "25/05/10 21:38:00 WARN DAGScheduler: Broadcasting large task binary with size 1130.8 KiB\n",
      "25/05/10 21:38:00 WARN DAGScheduler: Broadcasting large task binary with size 1130.9 KiB\n",
      "25/05/10 21:38:00 WARN DAGScheduler: Broadcasting large task binary with size 1130.9 KiB\n",
      "25/05/10 21:38:00 WARN DAGScheduler: Broadcasting large task binary with size 1130.9 KiB\n",
      "25/05/10 21:38:00 WARN DAGScheduler: Broadcasting large task binary with size 1130.8 KiB\n"
     ]
    },
    {
     "name": "stderr",
     "output_type": "stream",
     "text": [
      "                                                                                "
     ]
    },
    {
     "name": "stdout",
     "output_type": "stream",
     "text": [
      "25/05/10 21:38:04 WARN DAGScheduler: Broadcasting large task binary with size 1130.9 KiB\n",
      "25/05/10 21:38:04 WARN DAGScheduler: Broadcasting large task binary with size 1130.8 KiB\n",
      "25/05/10 21:38:04 WARN DAGScheduler: Broadcasting large task binary with size 1130.8 KiB\n",
      "25/05/10 21:38:04 WARN DAGScheduler: Broadcasting large task binary with size 1130.8 KiB\n",
      "25/05/10 21:38:04 WARN DAGScheduler: Broadcasting large task binary with size 1130.8 KiB\n",
      "25/05/10 21:38:05 WARN DAGScheduler: Broadcasting large task binary with size 1130.9 KiB\n",
      "25/05/10 21:38:05 WARN DAGScheduler: Broadcasting large task binary with size 1130.8 KiB\n",
      "25/05/10 21:38:05 WARN DAGScheduler: Broadcasting large task binary with size 1130.9 KiB\n",
      "25/05/10 21:38:05 WARN DAGScheduler: Broadcasting large task binary with size 1130.9 KiB\n"
     ]
    },
    {
     "name": "stderr",
     "output_type": "stream",
     "text": [
      "                                                                                "
     ]
    },
    {
     "name": "stdout",
     "output_type": "stream",
     "text": [
      "25/05/10 21:38:09 WARN DAGScheduler: Broadcasting large task binary with size 1130.9 KiB\n",
      "25/05/10 21:38:09 WARN DAGScheduler: Broadcasting large task binary with size 1130.8 KiB\n",
      "25/05/10 21:38:09 WARN DAGScheduler: Broadcasting large task binary with size 1130.8 KiB\n",
      "25/05/10 21:38:09 WARN DAGScheduler: Broadcasting large task binary with size 1130.8 KiB\n",
      "25/05/10 21:38:09 WARN DAGScheduler: Broadcasting large task binary with size 1130.9 KiB\n",
      "25/05/10 21:38:09 WARN DAGScheduler: Broadcasting large task binary with size 1130.8 KiB\n",
      "25/05/10 21:38:09 WARN DAGScheduler: Broadcasting large task binary with size 1130.8 KiB\n",
      "25/05/10 21:38:09 WARN DAGScheduler: Broadcasting large task binary with size 1130.9 KiB\n",
      "25/05/10 21:38:10 WARN DAGScheduler: Broadcasting large task binary with size 1130.8 KiB\n",
      "25/05/10 21:38:10 WARN DAGScheduler: Broadcasting large task binary with size 1130.9 KiB\n",
      "25/05/10 21:38:10 WARN DAGScheduler: Broadcasting large task binary with size 1130.9 KiB\n",
      "25/05/10 21:38:10 WARN DAGScheduler: Broadcasting large task binary with size 1130.8 KiB\n",
      "25/05/10 21:38:10 WARN DAGScheduler: Broadcasting large task binary with size 1130.9 KiB\n",
      "25/05/10 21:38:10 WARN DAGScheduler: Broadcasting large task binary with size 1130.8 KiB\n",
      "25/05/10 21:38:10 WARN DAGScheduler: Broadcasting large task binary with size 1130.8 KiB\n",
      "25/05/10 21:38:10 WARN DAGScheduler: Broadcasting large task binary with size 1130.9 KiB\n",
      "25/05/10 21:38:10 WARN DAGScheduler: Broadcasting large task binary with size 1130.8 KiB\n"
     ]
    },
    {
     "name": "stderr",
     "output_type": "stream",
     "text": [
      "[Stage 6365:=>(1 + 1) / 2][Stage 6366:> (0 + 1) / 2][Stage 6367:> (0 + 0) / 2]"
     ]
    },
    {
     "name": "stdout",
     "output_type": "stream",
     "text": [
      "25/05/10 21:38:10 WARN DAGScheduler: Broadcasting large task binary with size 1130.8 KiB\n",
      "25/05/10 21:38:10 WARN DAGScheduler: Broadcasting large task binary with size 1130.9 KiB\n",
      "25/05/10 21:38:11 WARN DAGScheduler: Broadcasting large task binary with size 1130.8 KiB\n",
      "25/05/10 21:38:11 WARN DAGScheduler: Broadcasting large task binary with size 1130.9 KiB\n",
      "25/05/10 21:38:11 WARN DAGScheduler: Broadcasting large task binary with size 1130.9 KiB\n"
     ]
    },
    {
     "name": "stderr",
     "output_type": "stream",
     "text": [
      "                                                                                "
     ]
    },
    {
     "name": "stdout",
     "output_type": "stream",
     "text": [
      "25/05/10 21:38:11 WARN DAGScheduler: Broadcasting large task binary with size 1130.9 KiB\n",
      "25/05/10 21:38:11 WARN DAGScheduler: Broadcasting large task binary with size 1130.8 KiB\n",
      "25/05/10 21:38:11 WARN DAGScheduler: Broadcasting large task binary with size 1130.8 KiB\n",
      "25/05/10 21:38:11 WARN DAGScheduler: Broadcasting large task binary with size 1130.8 KiB\n",
      "25/05/10 21:38:11 WARN DAGScheduler: Broadcasting large task binary with size 1130.9 KiB\n",
      "25/05/10 21:38:11 WARN DAGScheduler: Broadcasting large task binary with size 1130.8 KiB\n",
      "25/05/10 21:38:11 WARN DAGScheduler: Broadcasting large task binary with size 1130.8 KiB\n",
      "25/05/10 21:38:11 WARN DAGScheduler: Broadcasting large task binary with size 1130.9 KiB\n",
      "25/05/10 21:38:11 WARN DAGScheduler: Broadcasting large task binary with size 1130.8 KiB\n",
      "25/05/10 21:38:11 WARN DAGScheduler: Broadcasting large task binary with size 1130.9 KiB\n",
      "25/05/10 21:38:11 WARN DAGScheduler: Broadcasting large task binary with size 1130.8 KiB\n",
      "25/05/10 21:38:11 WARN DAGScheduler: Broadcasting large task binary with size 1130.8 KiB\n",
      "25/05/10 21:38:11 WARN DAGScheduler: Broadcasting large task binary with size 1130.9 KiB\n",
      "25/05/10 21:38:11 WARN DAGScheduler: Broadcasting large task binary with size 1130.8 KiB\n",
      "25/05/10 21:38:11 WARN DAGScheduler: Broadcasting large task binary with size 1130.9 KiB\n",
      "25/05/10 21:38:11 WARN DAGScheduler: Broadcasting large task binary with size 1130.9 KiB\n",
      "25/05/10 21:38:11 WARN DAGScheduler: Broadcasting large task binary with size 1130.9 KiB\n",
      "25/05/10 21:38:11 WARN DAGScheduler: Broadcasting large task binary with size 1130.8 KiB\n",
      "25/05/10 21:38:11 WARN DAGScheduler: Broadcasting large task binary with size 1130.8 KiB\n",
      "25/05/10 21:38:11 WARN DAGScheduler: Broadcasting large task binary with size 1130.9 KiB\n",
      "25/05/10 21:38:11 WARN DAGScheduler: Broadcasting large task binary with size 1130.8 KiB\n",
      "25/05/10 21:38:12 WARN DAGScheduler: Broadcasting large task binary with size 1130.8 KiB\n",
      "25/05/10 21:38:12 WARN DAGScheduler: Broadcasting large task binary with size 1130.9 KiB\n",
      "25/05/10 21:38:12 WARN DAGScheduler: Broadcasting large task binary with size 1130.9 KiB\n",
      "25/05/10 21:38:12 WARN DAGScheduler: Broadcasting large task binary with size 1130.8 KiB\n",
      "25/05/10 21:38:12 WARN DAGScheduler: Broadcasting large task binary with size 1130.8 KiB\n",
      "25/05/10 21:38:12 WARN DAGScheduler: Broadcasting large task binary with size 1130.9 KiB\n",
      "25/05/10 21:38:12 WARN DAGScheduler: Broadcasting large task binary with size 1130.9 KiB\n",
      "25/05/10 21:38:12 WARN DAGScheduler: Broadcasting large task binary with size 1130.8 KiB\n",
      "25/05/10 21:38:12 WARN DAGScheduler: Broadcasting large task binary with size 1129.6 KiB\n",
      "25/05/10 21:38:12 WARN DAGScheduler: Broadcasting large task binary with size 1130.8 KiB\n",
      "25/05/10 21:38:12 WARN DAGScheduler: Broadcasting large task binary with size 1130.9 KiB\n",
      "25/05/10 21:38:12 WARN DAGScheduler: Broadcasting large task binary with size 1130.8 KiB\n",
      "25/05/10 21:38:12 WARN DAGScheduler: Broadcasting large task binary with size 1130.9 KiB\n",
      "25/05/10 21:38:12 WARN DAGScheduler: Broadcasting large task binary with size 1130.9 KiB\n",
      "25/05/10 21:38:12 WARN DAGScheduler: Broadcasting large task binary with size 1130.8 KiB\n",
      "25/05/10 21:38:12 WARN DAGScheduler: Broadcasting large task binary with size 1130.8 KiB\n",
      "25/05/10 21:38:12 WARN DAGScheduler: Broadcasting large task binary with size 1130.9 KiB\n"
     ]
    },
    {
     "name": "stderr",
     "output_type": "stream",
     "text": [
      "                                                                                "
     ]
    },
    {
     "name": "stdout",
     "output_type": "stream",
     "text": [
      "25/05/10 21:38:16 WARN DAGScheduler: Broadcasting large task binary with size 1130.8 KiB\n",
      "25/05/10 21:38:16 WARN DAGScheduler: Broadcasting large task binary with size 1130.8 KiB\n",
      "25/05/10 21:38:16 WARN DAGScheduler: Broadcasting large task binary with size 1130.9 KiB\n",
      "25/05/10 21:38:17 WARN DAGScheduler: Broadcasting large task binary with size 1130.9 KiB\n",
      "25/05/10 21:38:17 WARN DAGScheduler: Broadcasting large task binary with size 1130.8 KiB\n",
      "25/05/10 21:38:17 WARN DAGScheduler: Broadcasting large task binary with size 1130.9 KiB\n",
      "25/05/10 21:38:17 WARN DAGScheduler: Broadcasting large task binary with size 1130.8 KiB\n",
      "25/05/10 21:38:17 WARN DAGScheduler: Broadcasting large task binary with size 1130.9 KiB\n",
      "25/05/10 21:38:17 WARN DAGScheduler: Broadcasting large task binary with size 1129.6 KiB\n"
     ]
    },
    {
     "name": "stderr",
     "output_type": "stream",
     "text": [
      "                                                                                "
     ]
    },
    {
     "name": "stdout",
     "output_type": "stream",
     "text": [
      "25/05/10 21:38:21 WARN DAGScheduler: Broadcasting large task binary with size 1130.8 KiB\n",
      "25/05/10 21:38:21 WARN DAGScheduler: Broadcasting large task binary with size 1130.9 KiB\n",
      "25/05/10 21:38:21 WARN DAGScheduler: Broadcasting large task binary with size 1130.8 KiB\n",
      "25/05/10 21:38:21 WARN DAGScheduler: Broadcasting large task binary with size 1130.9 KiB\n",
      "25/05/10 21:38:21 WARN DAGScheduler: Broadcasting large task binary with size 1130.9 KiB\n",
      "25/05/10 21:38:21 WARN DAGScheduler: Broadcasting large task binary with size 1130.9 KiB\n",
      "25/05/10 21:38:21 WARN DAGScheduler: Broadcasting large task binary with size 1130.8 KiB\n",
      "25/05/10 21:38:22 WARN DAGScheduler: Broadcasting large task binary with size 1130.8 KiB\n"
     ]
    },
    {
     "name": "stderr",
     "output_type": "stream",
     "text": [
      "                                                                                "
     ]
    },
    {
     "name": "stdout",
     "output_type": "stream",
     "text": [
      "25/05/10 21:38:26 WARN DAGScheduler: Broadcasting large task binary with size 1130.8 KiB\n",
      "25/05/10 21:38:26 WARN DAGScheduler: Broadcasting large task binary with size 1130.8 KiB\n",
      "25/05/10 21:38:26 WARN DAGScheduler: Broadcasting large task binary with size 1130.9 KiB\n",
      "25/05/10 21:38:26 WARN DAGScheduler: Broadcasting large task binary with size 1130.8 KiB\n",
      "25/05/10 21:38:26 WARN DAGScheduler: Broadcasting large task binary with size 1130.9 KiB\n",
      "25/05/10 21:38:26 WARN DAGScheduler: Broadcasting large task binary with size 1130.9 KiB\n",
      "25/05/10 21:38:26 WARN DAGScheduler: Broadcasting large task binary with size 1130.8 KiB\n",
      "25/05/10 21:38:26 WARN DAGScheduler: Broadcasting large task binary with size 1130.8 KiB\n",
      "25/05/10 21:38:26 WARN DAGScheduler: Broadcasting large task binary with size 1130.9 KiB\n"
     ]
    },
    {
     "name": "stderr",
     "output_type": "stream",
     "text": [
      "                                                                                "
     ]
    },
    {
     "name": "stdout",
     "output_type": "stream",
     "text": [
      "25/05/10 21:38:31 WARN DAGScheduler: Broadcasting large task binary with size 1130.8 KiB\n",
      "25/05/10 21:38:31 WARN DAGScheduler: Broadcasting large task binary with size 1130.9 KiB\n",
      "25/05/10 21:38:31 WARN DAGScheduler: Broadcasting large task binary with size 1130.8 KiB\n",
      "25/05/10 21:38:31 WARN DAGScheduler: Broadcasting large task binary with size 1130.8 KiB\n",
      "25/05/10 21:38:31 WARN DAGScheduler: Broadcasting large task binary with size 1130.8 KiB\n",
      "25/05/10 21:38:31 WARN DAGScheduler: Broadcasting large task binary with size 1130.9 KiB\n",
      "25/05/10 21:38:31 WARN DAGScheduler: Broadcasting large task binary with size 1130.9 KiB\n",
      "25/05/10 21:38:31 WARN DAGScheduler: Broadcasting large task binary with size 1130.8 KiB\n",
      "25/05/10 21:38:31 WARN DAGScheduler: Broadcasting large task binary with size 1130.9 KiB\n",
      "25/05/10 21:38:31 WARN DAGScheduler: Broadcasting large task binary with size 1130.8 KiB\n",
      "25/05/10 21:38:31 WARN DAGScheduler: Broadcasting large task binary with size 1130.9 KiB\n",
      "25/05/10 21:38:31 WARN DAGScheduler: Broadcasting large task binary with size 1130.8 KiB\n",
      "25/05/10 21:38:31 WARN DAGScheduler: Broadcasting large task binary with size 1130.8 KiB\n",
      "25/05/10 21:38:31 WARN DAGScheduler: Broadcasting large task binary with size 1130.8 KiB\n",
      "25/05/10 21:38:31 WARN DAGScheduler: Broadcasting large task binary with size 1130.8 KiB\n",
      "25/05/10 21:38:31 WARN DAGScheduler: Broadcasting large task binary with size 1130.9 KiB\n",
      "25/05/10 21:38:31 WARN DAGScheduler: Broadcasting large task binary with size 1130.9 KiB\n",
      "25/05/10 21:38:31 WARN DAGScheduler: Broadcasting large task binary with size 1130.9 KiB\n",
      "25/05/10 21:38:31 WARN DAGScheduler: Broadcasting large task binary with size 1130.8 KiB\n",
      "25/05/10 21:38:31 WARN DAGScheduler: Broadcasting large task binary with size 1130.9 KiB\n",
      "25/05/10 21:38:32 WARN DAGScheduler: Broadcasting large task binary with size 1130.8 KiB\n",
      "25/05/10 21:38:32 WARN DAGScheduler: Broadcasting large task binary with size 1130.8 KiB\n",
      "25/05/10 21:38:32 WARN DAGScheduler: Broadcasting large task binary with size 1130.9 KiB\n",
      "25/05/10 21:38:32 WARN DAGScheduler: Broadcasting large task binary with size 1130.8 KiB\n",
      "25/05/10 21:38:32 WARN DAGScheduler: Broadcasting large task binary with size 1130.9 KiB\n",
      "25/05/10 21:38:32 WARN DAGScheduler: Broadcasting large task binary with size 1130.9 KiB\n",
      "25/05/10 21:38:32 WARN DAGScheduler: Broadcasting large task binary with size 1130.8 KiB\n",
      "25/05/10 21:38:32 WARN DAGScheduler: Broadcasting large task binary with size 1130.9 KiB\n",
      "25/05/10 21:38:32 WARN DAGScheduler: Broadcasting large task binary with size 1130.8 KiB\n",
      "25/05/10 21:38:32 WARN DAGScheduler: Broadcasting large task binary with size 1130.8 KiB\n",
      "25/05/10 21:38:32 WARN DAGScheduler: Broadcasting large task binary with size 1130.9 KiB\n",
      "25/05/10 21:38:32 WARN DAGScheduler: Broadcasting large task binary with size 1129.6 KiB\n",
      "25/05/10 21:38:32 WARN DAGScheduler: Broadcasting large task binary with size 1130.8 KiB\n",
      "25/05/10 21:38:32 WARN DAGScheduler: Broadcasting large task binary with size 1130.9 KiB\n",
      "25/05/10 21:38:32 WARN DAGScheduler: Broadcasting large task binary with size 1130.9 KiB\n",
      "25/05/10 21:38:32 WARN DAGScheduler: Broadcasting large task binary with size 1130.9 KiB\n",
      "25/05/10 21:38:32 WARN DAGScheduler: Broadcasting large task binary with size 1130.8 KiB\n",
      "25/05/10 21:38:32 WARN DAGScheduler: Broadcasting large task binary with size 1130.8 KiB\n",
      "25/05/10 21:38:32 WARN DAGScheduler: Broadcasting large task binary with size 1130.8 KiB\n",
      "25/05/10 21:38:32 WARN DAGScheduler: Broadcasting large task binary with size 1130.9 KiB\n"
     ]
    },
    {
     "name": "stderr",
     "output_type": "stream",
     "text": [
      "                                                                                "
     ]
    },
    {
     "name": "stdout",
     "output_type": "stream",
     "text": [
      "25/05/10 21:38:37 WARN DAGScheduler: Broadcasting large task binary with size 1130.8 KiB\n",
      "25/05/10 21:38:37 WARN DAGScheduler: Broadcasting large task binary with size 1130.8 KiB\n",
      "25/05/10 21:38:37 WARN DAGScheduler: Broadcasting large task binary with size 1130.9 KiB\n",
      "25/05/10 21:38:37 WARN DAGScheduler: Broadcasting large task binary with size 1130.8 KiB\n",
      "25/05/10 21:38:37 WARN DAGScheduler: Broadcasting large task binary with size 1130.9 KiB\n",
      "25/05/10 21:38:37 WARN DAGScheduler: Broadcasting large task binary with size 1130.9 KiB\n",
      "25/05/10 21:38:37 WARN DAGScheduler: Broadcasting large task binary with size 1130.8 KiB\n",
      "25/05/10 21:38:37 WARN DAGScheduler: Broadcasting large task binary with size 1130.8 KiB\n",
      "25/05/10 21:38:37 WARN DAGScheduler: Broadcasting large task binary with size 1129.7 KiB\n"
     ]
    },
    {
     "name": "stderr",
     "output_type": "stream",
     "text": [
      "                                                                                "
     ]
    },
    {
     "name": "stdout",
     "output_type": "stream",
     "text": [
      "25/05/10 21:38:41 WARN DAGScheduler: Broadcasting large task binary with size 1130.8 KiB\n",
      "25/05/10 21:38:41 WARN DAGScheduler: Broadcasting large task binary with size 1130.8 KiB\n",
      "25/05/10 21:38:41 WARN DAGScheduler: Broadcasting large task binary with size 1130.9 KiB\n",
      "25/05/10 21:38:42 WARN DAGScheduler: Broadcasting large task binary with size 1130.8 KiB\n",
      "25/05/10 21:38:42 WARN DAGScheduler: Broadcasting large task binary with size 1130.9 KiB\n",
      "25/05/10 21:38:42 WARN DAGScheduler: Broadcasting large task binary with size 1130.9 KiB\n",
      "25/05/10 21:38:42 WARN DAGScheduler: Broadcasting large task binary with size 1130.8 KiB\n",
      "25/05/10 21:38:42 WARN DAGScheduler: Broadcasting large task binary with size 1130.8 KiB\n"
     ]
    },
    {
     "name": "stderr",
     "output_type": "stream",
     "text": [
      "                                                                                "
     ]
    },
    {
     "name": "stdout",
     "output_type": "stream",
     "text": [
      "25/05/10 21:38:46 WARN DAGScheduler: Broadcasting large task binary with size 1130.9 KiB\n",
      "25/05/10 21:38:46 WARN DAGScheduler: Broadcasting large task binary with size 1130.8 KiB\n",
      "25/05/10 21:38:46 WARN DAGScheduler: Broadcasting large task binary with size 1130.9 KiB\n",
      "25/05/10 21:38:46 WARN DAGScheduler: Broadcasting large task binary with size 1130.8 KiB\n",
      "25/05/10 21:38:46 WARN DAGScheduler: Broadcasting large task binary with size 1130.8 KiB\n",
      "25/05/10 21:38:46 WARN DAGScheduler: Broadcasting large task binary with size 1130.9 KiB\n",
      "25/05/10 21:38:47 WARN DAGScheduler: Broadcasting large task binary with size 1130.8 KiB\n",
      "25/05/10 21:38:47 WARN DAGScheduler: Broadcasting large task binary with size 1130.9 KiB\n",
      "25/05/10 21:38:47 WARN DAGScheduler: Broadcasting large task binary with size 1130.8 KiB\n"
     ]
    },
    {
     "name": "stderr",
     "output_type": "stream",
     "text": [
      "                                                                                "
     ]
    },
    {
     "name": "stdout",
     "output_type": "stream",
     "text": [
      "25/05/10 21:38:51 WARN DAGScheduler: Broadcasting large task binary with size 1130.9 KiB\n",
      "25/05/10 21:38:51 WARN DAGScheduler: Broadcasting large task binary with size 1130.8 KiB\n",
      "25/05/10 21:38:51 WARN DAGScheduler: Broadcasting large task binary with size 1130.9 KiB\n",
      "25/05/10 21:38:51 WARN DAGScheduler: Broadcasting large task binary with size 1130.8 KiB\n",
      "25/05/10 21:38:51 WARN DAGScheduler: Broadcasting large task binary with size 1130.8 KiB\n",
      "25/05/10 21:38:51 WARN DAGScheduler: Broadcasting large task binary with size 1130.9 KiB\n",
      "25/05/10 21:38:51 WARN DAGScheduler: Broadcasting large task binary with size 1130.8 KiB\n",
      "25/05/10 21:38:51 WARN DAGScheduler: Broadcasting large task binary with size 1130.9 KiB\n",
      "25/05/10 21:38:51 WARN DAGScheduler: Broadcasting large task binary with size 1130.9 KiB\n",
      "25/05/10 21:38:52 WARN DAGScheduler: Broadcasting large task binary with size 1130.8 KiB\n",
      "25/05/10 21:38:52 WARN DAGScheduler: Broadcasting large task binary with size 1130.8 KiB\n",
      "25/05/10 21:38:52 WARN DAGScheduler: Broadcasting large task binary with size 1130.9 KiB\n",
      "25/05/10 21:38:52 WARN DAGScheduler: Broadcasting large task binary with size 1130.8 KiB\n",
      "25/05/10 21:38:52 WARN DAGScheduler: Broadcasting large task binary with size 1130.9 KiB\n",
      "25/05/10 21:38:52 WARN DAGScheduler: Broadcasting large task binary with size 1130.8 KiB\n",
      "25/05/10 21:38:52 WARN DAGScheduler: Broadcasting large task binary with size 1130.8 KiB\n",
      "25/05/10 21:38:52 WARN DAGScheduler: Broadcasting large task binary with size 1130.9 KiB\n",
      "25/05/10 21:38:52 WARN DAGScheduler: Broadcasting large task binary with size 1130.8 KiB\n",
      "25/05/10 21:38:52 WARN DAGScheduler: Broadcasting large task binary with size 1130.8 KiB\n",
      "25/05/10 21:38:52 WARN DAGScheduler: Broadcasting large task binary with size 1130.9 KiB\n",
      "25/05/10 21:38:52 WARN DAGScheduler: Broadcasting large task binary with size 1130.9 KiB\n",
      "25/05/10 21:38:52 WARN DAGScheduler: Broadcasting large task binary with size 1130.8 KiB\n",
      "25/05/10 21:38:52 WARN DAGScheduler: Broadcasting large task binary with size 1130.9 KiB\n",
      "25/05/10 21:38:52 WARN DAGScheduler: Broadcasting large task binary with size 1130.8 KiB\n",
      "25/05/10 21:38:52 WARN DAGScheduler: Broadcasting large task binary with size 1130.8 KiB\n",
      "25/05/10 21:38:52 WARN DAGScheduler: Broadcasting large task binary with size 1130.8 KiB\n",
      "25/05/10 21:38:52 WARN DAGScheduler: Broadcasting large task binary with size 1130.9 KiB\n",
      "25/05/10 21:38:52 WARN DAGScheduler: Broadcasting large task binary with size 1130.8 KiB\n",
      "25/05/10 21:38:52 WARN DAGScheduler: Broadcasting large task binary with size 1130.9 KiB\n",
      "25/05/10 21:38:52 WARN DAGScheduler: Broadcasting large task binary with size 1130.8 KiB\n",
      "25/05/10 21:38:52 WARN DAGScheduler: Broadcasting large task binary with size 1130.9 KiB\n",
      "25/05/10 21:38:52 WARN DAGScheduler: Broadcasting large task binary with size 1130.9 KiB\n",
      "25/05/10 21:38:52 WARN DAGScheduler: Broadcasting large task binary with size 1130.8 KiB\n",
      "25/05/10 21:38:52 WARN DAGScheduler: Broadcasting large task binary with size 1130.8 KiB\n",
      "25/05/10 21:38:52 WARN DAGScheduler: Broadcasting large task binary with size 1130.8 KiB\n",
      "25/05/10 21:38:52 WARN DAGScheduler: Broadcasting large task binary with size 1130.9 KiB\n",
      "25/05/10 21:38:52 WARN DAGScheduler: Broadcasting large task binary with size 1130.8 KiB\n",
      "25/05/10 21:38:52 WARN DAGScheduler: Broadcasting large task binary with size 1130.9 KiB\n",
      "25/05/10 21:38:52 WARN DAGScheduler: Broadcasting large task binary with size 1130.9 KiB\n",
      "25/05/10 21:38:52 WARN DAGScheduler: Broadcasting large task binary with size 1130.8 KiB\n",
      "25/05/10 21:38:53 WARN DAGScheduler: Broadcasting large task binary with size 1130.9 KiB\n",
      "25/05/10 21:38:53 WARN DAGScheduler: Broadcasting large task binary with size 1130.8 KiB\n",
      "25/05/10 21:38:53 WARN DAGScheduler: Broadcasting large task binary with size 1130.8 KiB\n",
      "25/05/10 21:38:53 WARN DAGScheduler: Broadcasting large task binary with size 1130.8 KiB\n",
      "25/05/10 21:38:53 WARN DAGScheduler: Broadcasting large task binary with size 1130.8 KiB\n",
      "25/05/10 21:38:53 WARN DAGScheduler: Broadcasting large task binary with size 1130.9 KiB\n",
      "25/05/10 21:38:53 WARN DAGScheduler: Broadcasting large task binary with size 1130.9 KiB\n",
      "25/05/10 21:38:53 WARN DAGScheduler: Broadcasting large task binary with size 1130.8 KiB\n",
      "25/05/10 21:38:53 WARN DAGScheduler: Broadcasting large task binary with size 1130.9 KiB\n",
      "25/05/10 21:38:53 WARN DAGScheduler: Broadcasting large task binary with size 1130.8 KiB\n",
      "25/05/10 21:38:53 WARN DAGScheduler: Broadcasting large task binary with size 1130.9 KiB\n",
      "25/05/10 21:38:53 WARN DAGScheduler: Broadcasting large task binary with size 1130.8 KiB\n",
      "25/05/10 21:38:53 WARN DAGScheduler: Broadcasting large task binary with size 1130.8 KiB\n",
      "25/05/10 21:38:53 WARN DAGScheduler: Broadcasting large task binary with size 1130.8 KiB\n",
      "25/05/10 21:38:53 WARN DAGScheduler: Broadcasting large task binary with size 1130.9 KiB\n",
      "25/05/10 21:38:53 WARN DAGScheduler: Broadcasting large task binary with size 1130.9 KiB\n",
      "25/05/10 21:38:53 WARN DAGScheduler: Broadcasting large task binary with size 1130.8 KiB\n",
      "25/05/10 21:38:53 WARN DAGScheduler: Broadcasting large task binary with size 1130.9 KiB\n",
      "25/05/10 21:38:53 WARN DAGScheduler: Broadcasting large task binary with size 1130.8 KiB\n",
      "25/05/10 21:38:53 WARN DAGScheduler: Broadcasting large task binary with size 1130.9 KiB\n",
      "25/05/10 21:38:53 WARN DAGScheduler: Broadcasting large task binary with size 1130.8 KiB\n",
      "25/05/10 21:38:53 WARN DAGScheduler: Broadcasting large task binary with size 1130.8 KiB\n",
      "25/05/10 21:38:53 WARN DAGScheduler: Broadcasting large task binary with size 1130.8 KiB\n",
      "25/05/10 21:38:53 WARN DAGScheduler: Broadcasting large task binary with size 1130.9 KiB\n",
      "25/05/10 21:38:53 WARN DAGScheduler: Broadcasting large task binary with size 1130.9 KiB\n",
      "25/05/10 21:38:53 WARN DAGScheduler: Broadcasting large task binary with size 1130.8 KiB\n",
      "25/05/10 21:38:53 WARN DAGScheduler: Broadcasting large task binary with size 1130.8 KiB\n",
      "25/05/10 21:38:53 WARN DAGScheduler: Broadcasting large task binary with size 1130.9 KiB\n",
      "25/05/10 21:38:54 WARN DAGScheduler: Broadcasting large task binary with size 1130.8 KiB\n",
      "25/05/10 21:38:54 WARN DAGScheduler: Broadcasting large task binary with size 1130.8 KiB\n",
      "25/05/10 21:38:54 WARN DAGScheduler: Broadcasting large task binary with size 1130.9 KiB\n",
      "25/05/10 21:38:54 WARN DAGScheduler: Broadcasting large task binary with size 1130.8 KiB\n",
      "25/05/10 21:38:54 WARN DAGScheduler: Broadcasting large task binary with size 1130.9 KiB\n",
      "25/05/10 21:38:54 WARN DAGScheduler: Broadcasting large task binary with size 1130.9 KiB\n",
      "25/05/10 21:38:54 WARN DAGScheduler: Broadcasting large task binary with size 1130.8 KiB\n",
      "25/05/10 21:38:54 WARN DAGScheduler: Broadcasting large task binary with size 1130.8 KiB\n",
      "25/05/10 21:38:54 WARN DAGScheduler: Broadcasting large task binary with size 1130.9 KiB\n",
      "25/05/10 21:38:54 WARN DAGScheduler: Broadcasting large task binary with size 1130.8 KiB\n",
      "25/05/10 21:38:54 WARN DAGScheduler: Broadcasting large task binary with size 1130.9 KiB\n",
      "25/05/10 21:38:54 WARN DAGScheduler: Broadcasting large task binary with size 1130.8 KiB\n",
      "25/05/10 21:38:54 WARN DAGScheduler: Broadcasting large task binary with size 1130.9 KiB\n",
      "25/05/10 21:38:54 WARN DAGScheduler: Broadcasting large task binary with size 1130.8 KiB\n",
      "25/05/10 21:38:54 WARN DAGScheduler: Broadcasting large task binary with size 1130.9 KiB\n",
      "25/05/10 21:38:54 WARN DAGScheduler: Broadcasting large task binary with size 1130.9 KiB\n",
      "25/05/10 21:38:54 WARN DAGScheduler: Broadcasting large task binary with size 1130.8 KiB\n",
      "25/05/10 21:38:54 WARN DAGScheduler: Broadcasting large task binary with size 1130.8 KiB\n",
      "25/05/10 21:38:54 WARN DAGScheduler: Broadcasting large task binary with size 1130.8 KiB\n",
      "25/05/10 21:38:54 WARN DAGScheduler: Broadcasting large task binary with size 1130.9 KiB\n",
      "25/05/10 21:38:54 WARN DAGScheduler: Broadcasting large task binary with size 1130.8 KiB\n",
      "25/05/10 21:38:54 WARN DAGScheduler: Broadcasting large task binary with size 1130.8 KiB\n",
      "25/05/10 21:38:54 WARN DAGScheduler: Broadcasting large task binary with size 1130.9 KiB\n",
      "25/05/10 21:38:54 WARN DAGScheduler: Broadcasting large task binary with size 1130.9 KiB\n",
      "25/05/10 21:38:54 WARN DAGScheduler: Broadcasting large task binary with size 1130.9 KiB\n",
      "25/05/10 21:38:54 WARN DAGScheduler: Broadcasting large task binary with size 1130.8 KiB\n",
      "25/05/10 21:38:55 WARN BlockManagerMaster: Failed to remove broadcast 13106 with removeFromMaster = true - Block broadcast_13106 does not exist\n",
      "org.apache.spark.SparkException: Block broadcast_13106 does not exist\n",
      "\tat org.apache.spark.errors.SparkCoreErrors$.blockDoesNotExistError(SparkCoreErrors.scala:234)\n",
      "\tat org.apache.spark.storage.BlockInfoManager.blockInfo(BlockInfoManager.scala:237)\n",
      "\tat org.apache.spark.storage.BlockInfoManager.removeBlock(BlockInfoManager.scala:503)\n",
      "\tat org.apache.spark.storage.BlockManager.removeBlockInternal(BlockManager.scala:2007)\n",
      "\tat org.apache.spark.storage.BlockManager.removeBlock(BlockManager.scala:1973)\n",
      "\tat org.apache.spark.storage.BlockManager.$anonfun$removeBroadcast$3(BlockManager.scala:1959)\n",
      "\tat org.apache.spark.storage.BlockManager.$anonfun$removeBroadcast$3$adapted(BlockManager.scala:1959)\n",
      "\tat scala.collection.Iterator.foreach(Iterator.scala:943)\n",
      "\tat scala.collection.Iterator.foreach$(Iterator.scala:943)\n",
      "\tat scala.collection.AbstractIterator.foreach(Iterator.scala:1431)\n",
      "\tat org.apache.spark.storage.BlockManager.removeBroadcast(BlockManager.scala:1959)\n",
      "\tat org.apache.spark.storage.BlockManagerStorageEndpoint$$anonfun$receiveAndReply$1.$anonfun$applyOrElse$4(BlockManagerStorageEndpoint.scala:69)\n",
      "\tat scala.runtime.java8.JFunction0$mcI$sp.apply(JFunction0$mcI$sp.java:23)\n",
      "\tat org.apache.spark.storage.BlockManagerStorageEndpoint.$anonfun$doAsync$1(BlockManagerStorageEndpoint.scala:89)\n",
      "\tat scala.concurrent.Future$.$anonfun$apply$1(Future.scala:659)\n",
      "\tat scala.util.Success.$anonfun$map$1(Try.scala:255)\n",
      "\tat scala.util.Success.map(Try.scala:213)\n",
      "\tat scala.concurrent.Future.$anonfun$map$1(Future.scala:292)\n",
      "\tat scala.concurrent.impl.Promise.liftedTree1$1(Promise.scala:33)\n",
      "\tat scala.concurrent.impl.Promise.$anonfun$transform$1(Promise.scala:33)\n",
      "\tat scala.concurrent.impl.CallbackRunnable.run(Promise.scala:64)\n",
      "\tat java.util.concurrent.ThreadPoolExecutor.runWorker(ThreadPoolExecutor.java:1149)\n",
      "\tat java.util.concurrent.ThreadPoolExecutor$Worker.run(ThreadPoolExecutor.java:624)\n",
      "\tat java.lang.Thread.run(Thread.java:750)\n",
      "25/05/10 21:38:55 WARN DAGScheduler: Broadcasting large task binary with size 1130.8 KiB\n",
      "25/05/10 21:38:55 WARN DAGScheduler: Broadcasting large task binary with size 1130.9 KiB\n",
      "25/05/10 21:38:55 WARN DAGScheduler: Broadcasting large task binary with size 1130.8 KiB\n",
      "25/05/10 21:38:55 WARN DAGScheduler: Broadcasting large task binary with size 1130.8 KiB\n",
      "25/05/10 21:38:55 WARN DAGScheduler: Broadcasting large task binary with size 1130.8 KiB\n",
      "25/05/10 21:38:55 WARN DAGScheduler: Broadcasting large task binary with size 1130.9 KiB\n",
      "25/05/10 21:38:55 WARN DAGScheduler: Broadcasting large task binary with size 1130.8 KiB\n",
      "25/05/10 21:38:55 WARN DAGScheduler: Broadcasting large task binary with size 1130.8 KiB\n",
      "25/05/10 21:38:55 WARN DAGScheduler: Broadcasting large task binary with size 1130.9 KiB\n",
      "25/05/10 21:38:55 WARN DAGScheduler: Broadcasting large task binary with size 1130.8 KiB\n",
      "25/05/10 21:38:55 WARN DAGScheduler: Broadcasting large task binary with size 1130.9 KiB\n",
      "25/05/10 21:38:55 WARN DAGScheduler: Broadcasting large task binary with size 1130.8 KiB\n",
      "25/05/10 21:38:55 WARN DAGScheduler: Broadcasting large task binary with size 1130.9 KiB\n",
      "25/05/10 21:38:55 WARN DAGScheduler: Broadcasting large task binary with size 1130.8 KiB\n",
      "25/05/10 21:38:55 WARN DAGScheduler: Broadcasting large task binary with size 1130.9 KiB\n",
      "25/05/10 21:38:55 WARN DAGScheduler: Broadcasting large task binary with size 1130.8 KiB\n",
      "25/05/10 21:38:55 WARN DAGScheduler: Broadcasting large task binary with size 1130.8 KiB\n",
      "25/05/10 21:38:55 WARN DAGScheduler: Broadcasting large task binary with size 1130.8 KiB\n",
      "25/05/10 21:38:55 WARN DAGScheduler: Broadcasting large task binary with size 1130.9 KiB\n",
      "25/05/10 21:38:55 WARN DAGScheduler: Broadcasting large task binary with size 1130.8 KiB\n",
      "25/05/10 21:38:55 WARN DAGScheduler: Broadcasting large task binary with size 1130.9 KiB\n",
      "25/05/10 21:38:56 WARN DAGScheduler: Broadcasting large task binary with size 1130.9 KiB\n",
      "25/05/10 21:38:56 WARN DAGScheduler: Broadcasting large task binary with size 1130.8 KiB\n",
      "25/05/10 21:38:56 WARN DAGScheduler: Broadcasting large task binary with size 1130.8 KiB\n",
      "25/05/10 21:38:56 WARN DAGScheduler: Broadcasting large task binary with size 1130.8 KiB\n",
      "25/05/10 21:38:56 WARN DAGScheduler: Broadcasting large task binary with size 1130.8 KiB\n",
      "25/05/10 21:38:56 WARN DAGScheduler: Broadcasting large task binary with size 1129.7 KiB\n",
      "25/05/10 21:38:56 WARN DAGScheduler: Broadcasting large task binary with size 1130.8 KiB\n",
      "25/05/10 21:38:56 WARN DAGScheduler: Broadcasting large task binary with size 1130.9 KiB\n",
      "25/05/10 21:38:56 WARN DAGScheduler: Broadcasting large task binary with size 1130.8 KiB\n",
      "25/05/10 21:38:56 WARN DAGScheduler: Broadcasting large task binary with size 1130.9 KiB\n",
      "25/05/10 21:38:56 WARN DAGScheduler: Broadcasting large task binary with size 1130.9 KiB\n",
      "25/05/10 21:38:56 WARN DAGScheduler: Broadcasting large task binary with size 1130.8 KiB\n",
      "25/05/10 21:38:56 WARN DAGScheduler: Broadcasting large task binary with size 1130.8 KiB\n",
      "25/05/10 21:38:56 WARN DAGScheduler: Broadcasting large task binary with size 1130.8 KiB\n"
     ]
    },
    {
     "name": "stderr",
     "output_type": "stream",
     "text": [
      "                                                                                "
     ]
    },
    {
     "name": "stdout",
     "output_type": "stream",
     "text": [
      "25/05/10 21:39:00 WARN DAGScheduler: Broadcasting large task binary with size 1130.9 KiB\n",
      "25/05/10 21:39:01 WARN DAGScheduler: Broadcasting large task binary with size 1130.9 KiB\n",
      "25/05/10 21:39:01 WARN DAGScheduler: Broadcasting large task binary with size 1130.8 KiB\n",
      "25/05/10 21:39:01 WARN DAGScheduler: Broadcasting large task binary with size 1130.9 KiB\n",
      "25/05/10 21:39:01 WARN DAGScheduler: Broadcasting large task binary with size 1130.8 KiB\n",
      "25/05/10 21:39:01 WARN DAGScheduler: Broadcasting large task binary with size 1130.9 KiB\n",
      "25/05/10 21:39:01 WARN DAGScheduler: Broadcasting large task binary with size 1130.8 KiB\n",
      "25/05/10 21:39:01 WARN DAGScheduler: Broadcasting large task binary with size 1130.8 KiB\n"
     ]
    },
    {
     "name": "stderr",
     "output_type": "stream",
     "text": [
      "                                                                                "
     ]
    },
    {
     "name": "stdout",
     "output_type": "stream",
     "text": [
      "25/05/10 21:39:05 WARN DAGScheduler: Broadcasting large task binary with size 1130.9 KiB\n",
      "25/05/10 21:39:05 WARN DAGScheduler: Broadcasting large task binary with size 1130.9 KiB\n",
      "25/05/10 21:39:05 WARN DAGScheduler: Broadcasting large task binary with size 1130.9 KiB\n",
      "25/05/10 21:39:05 WARN DAGScheduler: Broadcasting large task binary with size 1130.8 KiB\n",
      "25/05/10 21:39:05 WARN DAGScheduler: Broadcasting large task binary with size 1130.8 KiB\n",
      "25/05/10 21:39:06 WARN DAGScheduler: Broadcasting large task binary with size 1130.9 KiB\n",
      "25/05/10 21:39:06 WARN DAGScheduler: Broadcasting large task binary with size 1130.9 KiB\n",
      "25/05/10 21:39:06 WARN DAGScheduler: Broadcasting large task binary with size 1130.9 KiB\n",
      "25/05/10 21:39:06 WARN DAGScheduler: Broadcasting large task binary with size 1130.8 KiB\n",
      "25/05/10 21:39:06 WARN DAGScheduler: Broadcasting large task binary with size 1130.9 KiB\n",
      "25/05/10 21:39:06 WARN DAGScheduler: Broadcasting large task binary with size 1130.8 KiB\n",
      "25/05/10 21:39:06 WARN DAGScheduler: Broadcasting large task binary with size 1130.8 KiB\n",
      "25/05/10 21:39:06 WARN DAGScheduler: Broadcasting large task binary with size 1130.9 KiB\n",
      "25/05/10 21:39:06 WARN DAGScheduler: Broadcasting large task binary with size 1130.9 KiB\n",
      "25/05/10 21:39:06 WARN DAGScheduler: Broadcasting large task binary with size 1130.9 KiB\n",
      "25/05/10 21:39:06 WARN DAGScheduler: Broadcasting large task binary with size 1130.9 KiB\n",
      "25/05/10 21:39:06 WARN DAGScheduler: Broadcasting large task binary with size 1130.8 KiB\n",
      "25/05/10 21:39:06 WARN DAGScheduler: Broadcasting large task binary with size 1130.8 KiB\n",
      "25/05/10 21:39:06 WARN DAGScheduler: Broadcasting large task binary with size 1130.8 KiB\n",
      "25/05/10 21:39:06 WARN DAGScheduler: Broadcasting large task binary with size 1130.9 KiB\n",
      "25/05/10 21:39:06 WARN DAGScheduler: Broadcasting large task binary with size 1130.8 KiB\n",
      "25/05/10 21:39:06 WARN DAGScheduler: Broadcasting large task binary with size 1130.8 KiB\n",
      "25/05/10 21:39:06 WARN DAGScheduler: Broadcasting large task binary with size 1130.9 KiB\n",
      "25/05/10 21:39:06 WARN DAGScheduler: Broadcasting large task binary with size 1130.9 KiB\n",
      "25/05/10 21:39:06 WARN DAGScheduler: Broadcasting large task binary with size 1130.9 KiB\n",
      "25/05/10 21:39:06 WARN DAGScheduler: Broadcasting large task binary with size 1130.8 KiB\n",
      "25/05/10 21:39:06 WARN DAGScheduler: Broadcasting large task binary with size 1130.9 KiB\n",
      "25/05/10 21:39:06 WARN DAGScheduler: Broadcasting large task binary with size 1130.8 KiB\n",
      "25/05/10 21:39:06 WARN DAGScheduler: Broadcasting large task binary with size 1130.8 KiB\n",
      "25/05/10 21:39:07 WARN DAGScheduler: Broadcasting large task binary with size 1130.9 KiB\n",
      "25/05/10 21:39:07 WARN DAGScheduler: Broadcasting large task binary with size 1130.8 KiB\n",
      "25/05/10 21:39:07 WARN DAGScheduler: Broadcasting large task binary with size 1130.9 KiB\n",
      "25/05/10 21:39:07 WARN DAGScheduler: Broadcasting large task binary with size 1130.8 KiB\n",
      "25/05/10 21:39:07 WARN DAGScheduler: Broadcasting large task binary with size 1130.9 KiB\n",
      "25/05/10 21:39:07 WARN DAGScheduler: Broadcasting large task binary with size 1130.8 KiB\n",
      "25/05/10 21:39:07 WARN DAGScheduler: Broadcasting large task binary with size 1130.9 KiB\n",
      "25/05/10 21:39:07 WARN DAGScheduler: Broadcasting large task binary with size 1130.9 KiB\n",
      "25/05/10 21:39:07 WARN DAGScheduler: Broadcasting large task binary with size 1130.8 KiB\n",
      "25/05/10 21:39:07 WARN DAGScheduler: Broadcasting large task binary with size 1130.8 KiB\n",
      "25/05/10 21:39:07 WARN DAGScheduler: Broadcasting large task binary with size 1130.9 KiB\n",
      "25/05/10 21:39:07 WARN DAGScheduler: Broadcasting large task binary with size 1130.8 KiB\n",
      "25/05/10 21:39:07 WARN DAGScheduler: Broadcasting large task binary with size 1130.8 KiB\n",
      "25/05/10 21:39:07 WARN DAGScheduler: Broadcasting large task binary with size 1130.9 KiB\n",
      "25/05/10 21:39:07 WARN DAGScheduler: Broadcasting large task binary with size 1130.9 KiB\n",
      "25/05/10 21:39:07 WARN DAGScheduler: Broadcasting large task binary with size 1130.9 KiB\n",
      "25/05/10 21:39:07 WARN DAGScheduler: Broadcasting large task binary with size 1130.8 KiB\n",
      "25/05/10 21:39:07 WARN DAGScheduler: Broadcasting large task binary with size 1130.8 KiB\n",
      "25/05/10 21:39:07 WARN DAGScheduler: Broadcasting large task binary with size 1130.9 KiB\n",
      "25/05/10 21:39:07 WARN DAGScheduler: Broadcasting large task binary with size 1130.8 KiB\n",
      "25/05/10 21:39:07 WARN DAGScheduler: Broadcasting large task binary with size 1130.9 KiB\n",
      "25/05/10 21:39:07 WARN DAGScheduler: Broadcasting large task binary with size 1130.9 KiB\n",
      "25/05/10 21:39:08 WARN DAGScheduler: Broadcasting large task binary with size 1130.9 KiB\n",
      "25/05/10 21:39:08 WARN DAGScheduler: Broadcasting large task binary with size 1130.8 KiB\n",
      "25/05/10 21:39:08 WARN DAGScheduler: Broadcasting large task binary with size 1130.8 KiB\n",
      "25/05/10 21:39:08 WARN DAGScheduler: Broadcasting large task binary with size 1130.9 KiB\n",
      "25/05/10 21:39:08 WARN DAGScheduler: Broadcasting large task binary with size 1130.8 KiB\n",
      "25/05/10 21:39:08 WARN DAGScheduler: Broadcasting large task binary with size 1130.9 KiB\n",
      "25/05/10 21:39:08 WARN DAGScheduler: Broadcasting large task binary with size 1130.9 KiB\n",
      "25/05/10 21:39:08 WARN DAGScheduler: Broadcasting large task binary with size 1130.9 KiB\n",
      "25/05/10 21:39:08 WARN DAGScheduler: Broadcasting large task binary with size 1130.9 KiB\n",
      "25/05/10 21:39:08 WARN DAGScheduler: Broadcasting large task binary with size 1130.8 KiB\n",
      "25/05/10 21:39:08 WARN DAGScheduler: Broadcasting large task binary with size 1130.8 KiB\n",
      "25/05/10 21:39:08 WARN DAGScheduler: Broadcasting large task binary with size 1130.9 KiB\n",
      "25/05/10 21:39:08 WARN DAGScheduler: Broadcasting large task binary with size 1130.9 KiB\n",
      "25/05/10 21:39:08 WARN DAGScheduler: Broadcasting large task binary with size 1130.9 KiB\n",
      "25/05/10 21:39:08 WARN DAGScheduler: Broadcasting large task binary with size 1130.9 KiB\n",
      "25/05/10 21:39:08 WARN DAGScheduler: Broadcasting large task binary with size 1130.8 KiB\n",
      "25/05/10 21:39:08 WARN DAGScheduler: Broadcasting large task binary with size 1130.8 KiB\n",
      "25/05/10 21:39:08 WARN DAGScheduler: Broadcasting large task binary with size 1130.9 KiB\n",
      "25/05/10 21:39:08 WARN DAGScheduler: Broadcasting large task binary with size 1130.9 KiB\n",
      "25/05/10 21:39:09 WARN DAGScheduler: Broadcasting large task binary with size 1129.6 KiB\n",
      "25/05/10 21:39:09 WARN DAGScheduler: Broadcasting large task binary with size 1130.9 KiB\n",
      "25/05/10 21:39:09 WARN DAGScheduler: Broadcasting large task binary with size 1130.8 KiB\n",
      "25/05/10 21:39:09 WARN DAGScheduler: Broadcasting large task binary with size 1130.9 KiB\n",
      "25/05/10 21:39:09 WARN DAGScheduler: Broadcasting large task binary with size 1130.8 KiB\n",
      "25/05/10 21:39:09 WARN DAGScheduler: Broadcasting large task binary with size 1130.9 KiB\n",
      "25/05/10 21:39:09 WARN DAGScheduler: Broadcasting large task binary with size 1130.9 KiB\n"
     ]
    },
    {
     "name": "stderr",
     "output_type": "stream",
     "text": [
      "                                                                                "
     ]
    },
    {
     "name": "stdout",
     "output_type": "stream",
     "text": [
      "25/05/10 21:39:13 WARN DAGScheduler: Broadcasting large task binary with size 1130.8 KiB\n",
      "25/05/10 21:39:13 WARN DAGScheduler: Broadcasting large task binary with size 1130.9 KiB\n",
      "25/05/10 21:39:13 WARN DAGScheduler: Broadcasting large task binary with size 1130.9 KiB\n",
      "25/05/10 21:39:13 WARN DAGScheduler: Broadcasting large task binary with size 1130.8 KiB\n",
      "25/05/10 21:39:13 WARN DAGScheduler: Broadcasting large task binary with size 1130.8 KiB\n",
      "25/05/10 21:39:13 WARN DAGScheduler: Broadcasting large task binary with size 1130.9 KiB\n",
      "25/05/10 21:39:13 WARN DAGScheduler: Broadcasting large task binary with size 1130.9 KiB\n"
     ]
    },
    {
     "name": "stderr",
     "output_type": "stream",
     "text": [
      "[Stage 6718:> (0 + 2) / 2][Stage 6719:> (0 + 0) / 2][Stage 6720:> (0 + 0) / 2]"
     ]
    },
    {
     "name": "stdout",
     "output_type": "stream",
     "text": [
      "25/05/10 21:39:16 WARN DAGScheduler: Broadcasting large task binary with size 1734.5 KiB\n"
     ]
    },
    {
     "name": "stderr",
     "output_type": "stream",
     "text": [
      "                                                                                "
     ]
    },
    {
     "name": "stdout",
     "output_type": "stream",
     "text": [
      "25/05/10 21:39:18 WARN DAGScheduler: Broadcasting large task binary with size 1130.8 KiB\n",
      "25/05/10 21:39:18 WARN DAGScheduler: Broadcasting large task binary with size 1130.9 KiB\n",
      "25/05/10 21:39:18 WARN DAGScheduler: Broadcasting large task binary with size 1130.9 KiB\n",
      "25/05/10 21:39:18 WARN DAGScheduler: Broadcasting large task binary with size 1130.8 KiB\n",
      "25/05/10 21:39:18 WARN DAGScheduler: Broadcasting large task binary with size 1130.8 KiB\n",
      "25/05/10 21:39:18 WARN DAGScheduler: Broadcasting large task binary with size 1130.9 KiB\n",
      "25/05/10 21:39:18 WARN DAGScheduler: Broadcasting large task binary with size 1130.9 KiB\n"
     ]
    },
    {
     "name": "stderr",
     "output_type": "stream",
     "text": [
      "[Stage 6725:> (0 + 2) / 2][Stage 6727:> (0 + 0) / 2][Stage 6728:> (0 + 0) / 2]"
     ]
    },
    {
     "name": "stdout",
     "output_type": "stream",
     "text": [
      "25/05/10 21:39:22 WARN DAGScheduler: Broadcasting large task binary with size 1734.5 KiB\n"
     ]
    },
    {
     "name": "stderr",
     "output_type": "stream",
     "text": [
      "                                                                                "
     ]
    },
    {
     "name": "stdout",
     "output_type": "stream",
     "text": [
      "25/05/10 21:39:35 WARN DAGScheduler: Broadcasting large task binary with size 1130.8 KiB\n",
      "25/05/10 21:39:35 WARN DAGScheduler: Broadcasting large task binary with size 1130.9 KiB\n",
      "25/05/10 21:39:35 WARN DAGScheduler: Broadcasting large task binary with size 1130.9 KiB\n",
      "25/05/10 21:39:35 WARN DAGScheduler: Broadcasting large task binary with size 1130.9 KiB\n",
      "25/05/10 21:39:35 WARN DAGScheduler: Broadcasting large task binary with size 1130.8 KiB\n",
      "25/05/10 21:39:35 WARN DAGScheduler: Broadcasting large task binary with size 1130.8 KiB\n",
      "25/05/10 21:39:35 WARN DAGScheduler: Broadcasting large task binary with size 1130.9 KiB\n"
     ]
    },
    {
     "name": "stderr",
     "output_type": "stream",
     "text": [
      "                                                                                "
     ]
    },
    {
     "name": "stdout",
     "output_type": "stream",
     "text": [
      "25/05/10 21:39:39 WARN DAGScheduler: Broadcasting large task binary with size 1130.8 KiB\n",
      "25/05/10 21:39:39 WARN DAGScheduler: Broadcasting large task binary with size 1130.9 KiB\n",
      "25/05/10 21:39:39 WARN DAGScheduler: Broadcasting large task binary with size 1130.9 KiB\n",
      "25/05/10 21:39:39 WARN DAGScheduler: Broadcasting large task binary with size 1130.9 KiB\n",
      "25/05/10 21:39:39 WARN DAGScheduler: Broadcasting large task binary with size 1130.8 KiB\n",
      "25/05/10 21:39:39 WARN DAGScheduler: Broadcasting large task binary with size 1130.8 KiB\n",
      "25/05/10 21:39:39 WARN DAGScheduler: Broadcasting large task binary with size 1130.8 KiB\n",
      "25/05/10 21:39:39 WARN DAGScheduler: Broadcasting large task binary with size 1130.9 KiB\n",
      "25/05/10 21:39:39 WARN DAGScheduler: Broadcasting large task binary with size 1130.9 KiB\n",
      "25/05/10 21:39:39 WARN DAGScheduler: Broadcasting large task binary with size 1130.9 KiB\n",
      "25/05/10 21:39:39 WARN DAGScheduler: Broadcasting large task binary with size 1130.8 KiB\n",
      "25/05/10 21:39:39 WARN DAGScheduler: Broadcasting large task binary with size 1130.8 KiB\n",
      "25/05/10 21:39:39 WARN DAGScheduler: Broadcasting large task binary with size 1130.9 KiB\n",
      "25/05/10 21:39:40 WARN DAGScheduler: Broadcasting large task binary with size 1130.8 KiB\n",
      "25/05/10 21:39:40 WARN DAGScheduler: Broadcasting large task binary with size 1130.9 KiB\n",
      "25/05/10 21:39:40 WARN DAGScheduler: Broadcasting large task binary with size 1129.7 KiB\n",
      "25/05/10 21:39:40 WARN DAGScheduler: Broadcasting large task binary with size 1130.9 KiB\n",
      "25/05/10 21:39:40 WARN DAGScheduler: Broadcasting large task binary with size 1130.8 KiB\n",
      "25/05/10 21:39:40 WARN DAGScheduler: Broadcasting large task binary with size 1130.8 KiB\n",
      "25/05/10 21:39:40 WARN DAGScheduler: Broadcasting large task binary with size 1130.9 KiB\n",
      "25/05/10 21:39:40 WARN DAGScheduler: Broadcasting large task binary with size 1130.8 KiB\n",
      "25/05/10 21:39:40 WARN DAGScheduler: Broadcasting large task binary with size 1130.9 KiB\n"
     ]
    },
    {
     "name": "stderr",
     "output_type": "stream",
     "text": [
      "                                                                                "
     ]
    },
    {
     "name": "stdout",
     "output_type": "stream",
     "text": [
      "25/05/10 21:39:44 WARN DAGScheduler: Broadcasting large task binary with size 1130.9 KiB\n",
      "25/05/10 21:39:45 WARN DAGScheduler: Broadcasting large task binary with size 1130.9 KiB\n",
      "25/05/10 21:39:45 WARN DAGScheduler: Broadcasting large task binary with size 1130.8 KiB\n",
      "25/05/10 21:39:45 WARN DAGScheduler: Broadcasting large task binary with size 1130.8 KiB\n",
      "25/05/10 21:39:45 WARN DAGScheduler: Broadcasting large task binary with size 1130.8 KiB\n",
      "25/05/10 21:39:45 WARN DAGScheduler: Broadcasting large task binary with size 1130.9 KiB\n",
      "25/05/10 21:39:45 WARN DAGScheduler: Broadcasting large task binary with size 1130.9 KiB\n"
     ]
    },
    {
     "name": "stderr",
     "output_type": "stream",
     "text": [
      "                                                                                "
     ]
    },
    {
     "name": "stdout",
     "output_type": "stream",
     "text": [
      "25/05/10 21:39:57 WARN DAGScheduler: Broadcasting large task binary with size 1130.9 KiB\n",
      "25/05/10 21:39:57 WARN DAGScheduler: Broadcasting large task binary with size 1130.8 KiB\n",
      "25/05/10 21:39:57 WARN DAGScheduler: Broadcasting large task binary with size 1130.9 KiB\n",
      "25/05/10 21:39:57 WARN DAGScheduler: Broadcasting large task binary with size 1130.8 KiB\n",
      "25/05/10 21:39:58 WARN DAGScheduler: Broadcasting large task binary with size 1130.9 KiB\n",
      "25/05/10 21:39:58 WARN DAGScheduler: Broadcasting large task binary with size 1130.9 KiB\n",
      "25/05/10 21:39:58 WARN DAGScheduler: Broadcasting large task binary with size 1130.8 KiB\n"
     ]
    },
    {
     "name": "stderr",
     "output_type": "stream",
     "text": [
      "                                                                                "
     ]
    },
    {
     "name": "stdout",
     "output_type": "stream",
     "text": [
      "25/05/10 21:40:02 WARN DAGScheduler: Broadcasting large task binary with size 1110.3 KiB\n"
     ]
    },
    {
     "name": "stderr",
     "output_type": "stream",
     "text": [
      "                                                                                "
     ]
    },
    {
     "name": "stdout",
     "output_type": "stream",
     "text": [
      "25/05/10 21:40:06 WARN DAGScheduler: Broadcasting large task binary with size 1130.9 KiB\n",
      "25/05/10 21:40:06 WARN DAGScheduler: Broadcasting large task binary with size 1130.8 KiB\n",
      "25/05/10 21:40:06 WARN DAGScheduler: Broadcasting large task binary with size 1130.9 KiB\n",
      "25/05/10 21:40:06 WARN DAGScheduler: Broadcasting large task binary with size 1110.3 KiB\n",
      "25/05/10 21:40:06 WARN DAGScheduler: Broadcasting large task binary with size 1130.8 KiB\n",
      "25/05/10 21:40:06 WARN DAGScheduler: Broadcasting large task binary with size 1130.9 KiB\n",
      "25/05/10 21:40:06 WARN DAGScheduler: Broadcasting large task binary with size 1130.9 KiB\n",
      "25/05/10 21:40:07 WARN DAGScheduler: Broadcasting large task binary with size 1130.8 KiB\n",
      "25/05/10 21:40:07 WARN DAGScheduler: Broadcasting large task binary with size 1112.4 KiB\n",
      "25/05/10 21:40:07 WARN DAGScheduler: Broadcasting large task binary with size 1130.9 KiB\n",
      "25/05/10 21:40:07 WARN DAGScheduler: Broadcasting large task binary with size 1130.8 KiB\n",
      "25/05/10 21:40:07 WARN DAGScheduler: Broadcasting large task binary with size 1130.9 KiB\n",
      "25/05/10 21:40:07 WARN DAGScheduler: Broadcasting large task binary with size 1130.8 KiB\n",
      "25/05/10 21:40:07 WARN DAGScheduler: Broadcasting large task binary with size 1112.4 KiB\n",
      "25/05/10 21:40:07 WARN DAGScheduler: Broadcasting large task binary with size 1130.9 KiB\n",
      "25/05/10 21:40:07 WARN DAGScheduler: Broadcasting large task binary with size 1130.9 KiB\n",
      "25/05/10 21:40:07 WARN DAGScheduler: Broadcasting large task binary with size 1130.8 KiB\n"
     ]
    },
    {
     "name": "stderr",
     "output_type": "stream",
     "text": [
      "                                                                                "
     ]
    },
    {
     "name": "stdout",
     "output_type": "stream",
     "text": [
      "25/05/10 21:40:11 WARN DAGScheduler: Broadcasting large task binary with size 1130.9 KiB\n",
      "25/05/10 21:40:11 WARN DAGScheduler: Broadcasting large task binary with size 1130.8 KiB\n",
      "25/05/10 21:40:11 WARN DAGScheduler: Broadcasting large task binary with size 1130.9 KiB\n",
      "25/05/10 21:40:11 WARN DAGScheduler: Broadcasting large task binary with size 1114.4 KiB\n",
      "25/05/10 21:40:11 WARN DAGScheduler: Broadcasting large task binary with size 1130.8 KiB\n"
     ]
    },
    {
     "name": "stderr",
     "output_type": "stream",
     "text": [
      "                                                                                "
     ]
    },
    {
     "name": "stdout",
     "output_type": "stream",
     "text": [
      "25/05/10 21:40:15 WARN DAGScheduler: Broadcasting large task binary with size 1130.9 KiB\n",
      "25/05/10 21:40:15 WARN DAGScheduler: Broadcasting large task binary with size 1130.9 KiB\n",
      "25/05/10 21:40:15 WARN DAGScheduler: Broadcasting large task binary with size 1114.4 KiB\n",
      "25/05/10 21:40:15 WARN DAGScheduler: Broadcasting large task binary with size 1130.9 KiB\n",
      "25/05/10 21:40:15 WARN DAGScheduler: Broadcasting large task binary with size 1130.8 KiB\n",
      "25/05/10 21:40:15 WARN DAGScheduler: Broadcasting large task binary with size 1130.8 KiB\n",
      "25/05/10 21:40:16 WARN DAGScheduler: Broadcasting large task binary with size 1130.9 KiB\n"
     ]
    },
    {
     "name": "stderr",
     "output_type": "stream",
     "text": [
      "                                                                                "
     ]
    },
    {
     "name": "stdout",
     "output_type": "stream",
     "text": [
      "25/05/10 21:40:22 WARN DAGScheduler: Broadcasting large task binary with size 1130.8 KiB\n"
     ]
    },
    {
     "name": "stderr",
     "output_type": "stream",
     "text": [
      "                                                                                "
     ]
    },
    {
     "name": "stdout",
     "output_type": "stream",
     "text": [
      "25/05/10 21:40:25 WARN DAGScheduler: Broadcasting large task binary with size 1130.9 KiB\n",
      "25/05/10 21:40:25 WARN DAGScheduler: Broadcasting large task binary with size 1130.9 KiB\n"
     ]
    },
    {
     "name": "stderr",
     "output_type": "stream",
     "text": [
      "                                                                                "
     ]
    },
    {
     "name": "stdout",
     "output_type": "stream",
     "text": [
      "25/05/10 21:40:31 WARN DAGScheduler: Broadcasting large task binary with size 1130.9 KiB\n",
      "25/05/10 21:40:31 WARN DAGScheduler: Broadcasting large task binary with size 1130.8 KiB\n",
      "25/05/10 21:40:31 WARN DAGScheduler: Broadcasting large task binary with size 1130.8 KiB\n",
      "25/05/10 21:40:31 WARN DAGScheduler: Broadcasting large task binary with size 1130.8 KiB\n",
      "25/05/10 21:40:31 WARN DAGScheduler: Broadcasting large task binary with size 1130.9 KiB\n",
      "25/05/10 21:40:32 WARN DAGScheduler: Broadcasting large task binary with size 1130.9 KiB\n"
     ]
    },
    {
     "name": "stderr",
     "output_type": "stream",
     "text": [
      "                                                                                "
     ]
    },
    {
     "name": "stdout",
     "output_type": "stream",
     "text": [
      "25/05/10 21:40:33 WARN DAGScheduler: Broadcasting large task binary with size 1130.9 KiB\n",
      "25/05/10 21:40:34 WARN DAGScheduler: Broadcasting large task binary with size 1130.8 KiB\n",
      "25/05/10 21:40:34 WARN DAGScheduler: Broadcasting large task binary with size 1130.9 KiB\n",
      "25/05/10 21:40:34 WARN DAGScheduler: Broadcasting large task binary with size 1130.8 KiB\n",
      "25/05/10 21:40:34 WARN DAGScheduler: Broadcasting large task binary with size 1130.8 KiB\n",
      "25/05/10 21:40:34 WARN DAGScheduler: Broadcasting large task binary with size 1130.9 KiB\n",
      "25/05/10 21:40:34 WARN DAGScheduler: Broadcasting large task binary with size 1130.9 KiB\n",
      "25/05/10 21:40:34 WARN DAGScheduler: Broadcasting large task binary with size 1130.9 KiB\n",
      "25/05/10 21:40:34 WARN DAGScheduler: Broadcasting large task binary with size 1130.8 KiB\n",
      "25/05/10 21:40:34 WARN DAGScheduler: Broadcasting large task binary with size 1130.9 KiB\n",
      "25/05/10 21:40:34 WARN DAGScheduler: Broadcasting large task binary with size 1130.8 KiB\n",
      "25/05/10 21:40:34 WARN DAGScheduler: Broadcasting large task binary with size 1130.8 KiB\n",
      "25/05/10 21:40:34 WARN DAGScheduler: Broadcasting large task binary with size 1130.9 KiB\n",
      "25/05/10 21:40:34 WARN DAGScheduler: Broadcasting large task binary with size 1130.9 KiB\n",
      "25/05/10 21:40:34 WARN DAGScheduler: Broadcasting large task binary with size 1129.6 KiB\n",
      "25/05/10 21:40:34 WARN DAGScheduler: Broadcasting large task binary with size 1130.8 KiB\n",
      "25/05/10 21:40:34 WARN DAGScheduler: Broadcasting large task binary with size 1130.9 KiB\n",
      "25/05/10 21:40:34 WARN DAGScheduler: Broadcasting large task binary with size 1130.8 KiB\n",
      "25/05/10 21:40:34 WARN DAGScheduler: Broadcasting large task binary with size 1130.9 KiB\n",
      "25/05/10 21:40:34 WARN DAGScheduler: Broadcasting large task binary with size 1130.9 KiB\n",
      "25/05/10 21:40:34 WARN DAGScheduler: Broadcasting large task binary with size 1130.8 KiB\n",
      "25/05/10 21:40:34 WARN DAGScheduler: Broadcasting large task binary with size 1130.9 KiB\n",
      "25/05/10 21:40:35 WARN DAGScheduler: Broadcasting large task binary with size 1129.6 KiB\n"
     ]
    },
    {
     "name": "stderr",
     "output_type": "stream",
     "text": [
      "                                                                                "
     ]
    },
    {
     "name": "stdout",
     "output_type": "stream",
     "text": [
      "25/05/10 21:40:39 WARN DAGScheduler: Broadcasting large task binary with size 1130.8 KiB\n",
      "25/05/10 21:40:39 WARN DAGScheduler: Broadcasting large task binary with size 1130.8 KiB\n",
      "25/05/10 21:40:39 WARN DAGScheduler: Broadcasting large task binary with size 1130.9 KiB\n",
      "25/05/10 21:40:39 WARN DAGScheduler: Broadcasting large task binary with size 1130.8 KiB\n",
      "25/05/10 21:40:39 WARN DAGScheduler: Broadcasting large task binary with size 1130.9 KiB\n",
      "25/05/10 21:40:39 WARN DAGScheduler: Broadcasting large task binary with size 1130.8 KiB\n",
      "25/05/10 21:40:39 WARN DAGScheduler: Broadcasting large task binary with size 1130.9 KiB\n",
      "25/05/10 21:40:39 WARN DAGScheduler: Broadcasting large task binary with size 1130.9 KiB\n"
     ]
    },
    {
     "name": "stderr",
     "output_type": "stream",
     "text": [
      "                                                                                "
     ]
    },
    {
     "name": "stdout",
     "output_type": "stream",
     "text": [
      "25/05/10 21:40:43 WARN DAGScheduler: Broadcasting large task binary with size 1130.8 KiB\n"
     ]
    },
    {
     "name": "stderr",
     "output_type": "stream",
     "text": [
      "                                                                                "
     ]
    },
    {
     "name": "stdout",
     "output_type": "stream",
     "text": [
      "25/05/10 21:40:48 WARN DAGScheduler: Broadcasting large task binary with size 1130.8 KiB\n",
      "25/05/10 21:40:48 WARN DAGScheduler: Broadcasting large task binary with size 1130.9 KiB\n",
      "25/05/10 21:40:48 WARN DAGScheduler: Broadcasting large task binary with size 1130.8 KiB\n",
      "25/05/10 21:40:48 WARN DAGScheduler: Broadcasting large task binary with size 1130.8 KiB\n",
      "25/05/10 21:40:48 WARN DAGScheduler: Broadcasting large task binary with size 1130.9 KiB\n",
      "25/05/10 21:40:48 WARN DAGScheduler: Broadcasting large task binary with size 1130.9 KiB\n",
      "25/05/10 21:40:48 WARN DAGScheduler: Broadcasting large task binary with size 1130.8 KiB\n",
      "25/05/10 21:40:48 WARN DAGScheduler: Broadcasting large task binary with size 1130.9 KiB\n"
     ]
    },
    {
     "name": "stderr",
     "output_type": "stream",
     "text": [
      "                                                                                "
     ]
    },
    {
     "name": "stdout",
     "output_type": "stream",
     "text": [
      "25/05/10 21:40:53 WARN DAGScheduler: Broadcasting large task binary with size 1130.8 KiB\n",
      "25/05/10 21:40:53 WARN DAGScheduler: Broadcasting large task binary with size 1130.8 KiB\n",
      "25/05/10 21:40:53 WARN DAGScheduler: Broadcasting large task binary with size 1130.8 KiB\n",
      "25/05/10 21:40:53 WARN DAGScheduler: Broadcasting large task binary with size 1130.8 KiB\n",
      "25/05/10 21:40:53 WARN DAGScheduler: Broadcasting large task binary with size 1130.8 KiB\n",
      "25/05/10 21:40:53 WARN DAGScheduler: Broadcasting large task binary with size 1130.9 KiB\n",
      "25/05/10 21:40:53 WARN DAGScheduler: Broadcasting large task binary with size 1130.9 KiB\n",
      "25/05/10 21:40:53 WARN DAGScheduler: Broadcasting large task binary with size 1130.8 KiB\n",
      "25/05/10 21:40:53 WARN DAGScheduler: Broadcasting large task binary with size 1130.8 KiB\n",
      "25/05/10 21:40:53 WARN DAGScheduler: Broadcasting large task binary with size 1130.8 KiB\n",
      "25/05/10 21:40:53 WARN DAGScheduler: Broadcasting large task binary with size 1130.8 KiB\n",
      "25/05/10 21:40:53 WARN DAGScheduler: Broadcasting large task binary with size 1130.9 KiB\n",
      "25/05/10 21:40:53 WARN DAGScheduler: Broadcasting large task binary with size 1130.8 KiB\n",
      "25/05/10 21:40:53 WARN DAGScheduler: Broadcasting large task binary with size 1129.7 KiB\n",
      "25/05/10 21:40:53 WARN DAGScheduler: Broadcasting large task binary with size 1129.7 KiB\n",
      "25/05/10 21:40:54 WARN DAGScheduler: Broadcasting large task binary with size 1130.9 KiB\n",
      "25/05/10 21:40:54 WARN DAGScheduler: Broadcasting large task binary with size 1130.8 KiB\n",
      "25/05/10 21:40:54 WARN DAGScheduler: Broadcasting large task binary with size 1130.8 KiB\n",
      "25/05/10 21:40:54 WARN DAGScheduler: Broadcasting large task binary with size 1130.9 KiB\n",
      "25/05/10 21:40:54 WARN DAGScheduler: Broadcasting large task binary with size 1130.8 KiB\n",
      "25/05/10 21:40:54 WARN DAGScheduler: Broadcasting large task binary with size 1130.8 KiB\n",
      "25/05/10 21:40:54 WARN DAGScheduler: Broadcasting large task binary with size 1130.8 KiB\n"
     ]
    },
    {
     "name": "stderr",
     "output_type": "stream",
     "text": [
      "                                                                                "
     ]
    },
    {
     "name": "stdout",
     "output_type": "stream",
     "text": [
      "25/05/10 21:40:58 WARN DAGScheduler: Broadcasting large task binary with size 1130.9 KiB\n"
     ]
    },
    {
     "name": "stderr",
     "output_type": "stream",
     "text": [
      "                                                                                "
     ]
    },
    {
     "name": "stdout",
     "output_type": "stream",
     "text": [
      "25/05/10 21:41:02 WARN DAGScheduler: Broadcasting large task binary with size 1130.9 KiB\n",
      "25/05/10 21:41:03 WARN DAGScheduler: Broadcasting large task binary with size 1130.9 KiB\n",
      "25/05/10 21:41:03 WARN DAGScheduler: Broadcasting large task binary with size 1130.8 KiB\n",
      "25/05/10 21:41:03 WARN DAGScheduler: Broadcasting large task binary with size 1130.8 KiB\n",
      "25/05/10 21:41:03 WARN DAGScheduler: Broadcasting large task binary with size 1130.9 KiB\n",
      "25/05/10 21:41:03 WARN DAGScheduler: Broadcasting large task binary with size 1130.8 KiB\n",
      "25/05/10 21:41:03 WARN DAGScheduler: Broadcasting large task binary with size 1130.8 KiB\n",
      "25/05/10 21:41:03 WARN DAGScheduler: Broadcasting large task binary with size 1130.8 KiB\n"
     ]
    },
    {
     "name": "stderr",
     "output_type": "stream",
     "text": [
      "                                                                                "
     ]
    },
    {
     "name": "stdout",
     "output_type": "stream",
     "text": [
      "25/05/10 21:41:07 WARN DAGScheduler: Broadcasting large task binary with size 1130.9 KiB\n"
     ]
    },
    {
     "name": "stderr",
     "output_type": "stream",
     "text": [
      "                                                                                "
     ]
    },
    {
     "name": "stdout",
     "output_type": "stream",
     "text": [
      "25/05/10 21:41:12 WARN DAGScheduler: Broadcasting large task binary with size 1130.9 KiB\n",
      "25/05/10 21:41:12 WARN DAGScheduler: Broadcasting large task binary with size 1130.8 KiB\n",
      "25/05/10 21:41:12 WARN DAGScheduler: Broadcasting large task binary with size 1130.9 KiB\n",
      "25/05/10 21:41:12 WARN DAGScheduler: Broadcasting large task binary with size 1130.8 KiB\n",
      "25/05/10 21:41:12 WARN DAGScheduler: Broadcasting large task binary with size 1130.8 KiB\n",
      "25/05/10 21:41:12 WARN DAGScheduler: Broadcasting large task binary with size 1130.9 KiB\n",
      "25/05/10 21:41:12 WARN DAGScheduler: Broadcasting large task binary with size 1130.8 KiB\n",
      "25/05/10 21:41:12 WARN DAGScheduler: Broadcasting large task binary with size 1130.8 KiB\n",
      "25/05/10 21:41:12 WARN DAGScheduler: Broadcasting large task binary with size 1130.9 KiB\n",
      "25/05/10 21:41:12 WARN DAGScheduler: Broadcasting large task binary with size 1130.8 KiB\n",
      "25/05/10 21:41:12 WARN DAGScheduler: Broadcasting large task binary with size 1130.9 KiB\n",
      "25/05/10 21:41:12 WARN DAGScheduler: Broadcasting large task binary with size 1130.8 KiB\n",
      "25/05/10 21:41:12 WARN DAGScheduler: Broadcasting large task binary with size 1130.9 KiB\n",
      "25/05/10 21:41:12 WARN DAGScheduler: Broadcasting large task binary with size 1130.9 KiB\n",
      "25/05/10 21:41:12 WARN DAGScheduler: Broadcasting large task binary with size 1130.8 KiB\n",
      "25/05/10 21:41:13 WARN DAGScheduler: Broadcasting large task binary with size 1130.8 KiB\n",
      "25/05/10 21:41:13 WARN DAGScheduler: Broadcasting large task binary with size 1130.8 KiB\n",
      "25/05/10 21:41:13 WARN DAGScheduler: Broadcasting large task binary with size 1130.9 KiB\n",
      "25/05/10 21:41:13 WARN DAGScheduler: Broadcasting large task binary with size 1130.9 KiB\n",
      "25/05/10 21:41:13 WARN DAGScheduler: Broadcasting large task binary with size 1130.8 KiB\n",
      "25/05/10 21:41:13 WARN DAGScheduler: Broadcasting large task binary with size 1130.8 KiB\n",
      "25/05/10 21:41:13 WARN DAGScheduler: Broadcasting large task binary with size 1130.9 KiB\n",
      "25/05/10 21:41:13 WARN DAGScheduler: Broadcasting large task binary with size 1130.8 KiB\n",
      "25/05/10 21:41:13 WARN DAGScheduler: Broadcasting large task binary with size 1130.9 KiB\n",
      "25/05/10 21:41:13 WARN DAGScheduler: Broadcasting large task binary with size 1130.8 KiB\n",
      "25/05/10 21:41:13 WARN DAGScheduler: Broadcasting large task binary with size 1130.8 KiB\n",
      "25/05/10 21:41:13 WARN DAGScheduler: Broadcasting large task binary with size 1130.9 KiB\n",
      "25/05/10 21:41:13 WARN DAGScheduler: Broadcasting large task binary with size 1130.8 KiB\n",
      "25/05/10 21:41:13 WARN DAGScheduler: Broadcasting large task binary with size 1130.9 KiB\n",
      "25/05/10 21:41:13 WARN DAGScheduler: Broadcasting large task binary with size 1130.8 KiB\n",
      "25/05/10 21:41:13 WARN DAGScheduler: Broadcasting large task binary with size 1130.9 KiB\n",
      "25/05/10 21:41:13 WARN DAGScheduler: Broadcasting large task binary with size 1130.8 KiB\n",
      "25/05/10 21:41:13 WARN DAGScheduler: Broadcasting large task binary with size 1130.9 KiB\n",
      "25/05/10 21:41:13 WARN DAGScheduler: Broadcasting large task binary with size 1130.9 KiB\n",
      "25/05/10 21:41:13 WARN DAGScheduler: Broadcasting large task binary with size 1130.8 KiB\n",
      "25/05/10 21:41:13 WARN DAGScheduler: Broadcasting large task binary with size 1130.8 KiB\n",
      "25/05/10 21:41:13 WARN DAGScheduler: Broadcasting large task binary with size 1130.8 KiB\n",
      "25/05/10 21:41:13 WARN DAGScheduler: Broadcasting large task binary with size 1130.9 KiB\n",
      "25/05/10 21:41:13 WARN DAGScheduler: Broadcasting large task binary with size 1130.8 KiB\n",
      "25/05/10 21:41:13 WARN DAGScheduler: Broadcasting large task binary with size 1130.9 KiB\n",
      "25/05/10 21:41:13 WARN DAGScheduler: Broadcasting large task binary with size 1130.9 KiB\n",
      "25/05/10 21:41:13 WARN DAGScheduler: Broadcasting large task binary with size 1130.8 KiB\n",
      "25/05/10 21:41:13 WARN DAGScheduler: Broadcasting large task binary with size 1130.8 KiB\n",
      "25/05/10 21:41:13 WARN DAGScheduler: Broadcasting large task binary with size 1130.8 KiB\n",
      "25/05/10 21:41:13 WARN DAGScheduler: Broadcasting large task binary with size 1130.9 KiB\n",
      "25/05/10 21:41:13 WARN DAGScheduler: Broadcasting large task binary with size 1130.8 KiB\n",
      "25/05/10 21:41:14 WARN DAGScheduler: Broadcasting large task binary with size 1130.9 KiB\n",
      "25/05/10 21:41:14 WARN DAGScheduler: Broadcasting large task binary with size 1130.9 KiB\n",
      "25/05/10 21:41:14 WARN DAGScheduler: Broadcasting large task binary with size 1130.8 KiB\n",
      "25/05/10 21:41:14 WARN DAGScheduler: Broadcasting large task binary with size 1130.8 KiB\n",
      "25/05/10 21:41:14 WARN DAGScheduler: Broadcasting large task binary with size 1130.9 KiB\n",
      "25/05/10 21:41:14 WARN DAGScheduler: Broadcasting large task binary with size 1130.8 KiB\n",
      "25/05/10 21:41:14 WARN DAGScheduler: Broadcasting large task binary with size 1130.8 KiB\n",
      "25/05/10 21:41:14 WARN DAGScheduler: Broadcasting large task binary with size 1130.9 KiB\n",
      "25/05/10 21:41:14 WARN DAGScheduler: Broadcasting large task binary with size 1130.8 KiB\n",
      "25/05/10 21:41:14 WARN DAGScheduler: Broadcasting large task binary with size 1130.9 KiB\n",
      "25/05/10 21:41:14 WARN DAGScheduler: Broadcasting large task binary with size 1130.8 KiB\n",
      "25/05/10 21:41:14 WARN DAGScheduler: Broadcasting large task binary with size 1130.9 KiB\n",
      "25/05/10 21:41:14 WARN DAGScheduler: Broadcasting large task binary with size 1130.9 KiB\n",
      "25/05/10 21:41:14 WARN DAGScheduler: Broadcasting large task binary with size 1130.9 KiB\n",
      "25/05/10 21:41:14 WARN DAGScheduler: Broadcasting large task binary with size 1130.8 KiB\n",
      "25/05/10 21:41:14 WARN DAGScheduler: Broadcasting large task binary with size 1130.8 KiB\n",
      "25/05/10 21:41:14 WARN DAGScheduler: Broadcasting large task binary with size 1130.8 KiB\n",
      "25/05/10 21:41:14 WARN DAGScheduler: Broadcasting large task binary with size 1130.9 KiB\n",
      "25/05/10 21:41:14 WARN DAGScheduler: Broadcasting large task binary with size 1130.9 KiB\n",
      "25/05/10 21:41:14 WARN DAGScheduler: Broadcasting large task binary with size 1130.9 KiB\n",
      "25/05/10 21:41:14 WARN DAGScheduler: Broadcasting large task binary with size 1130.8 KiB\n",
      "25/05/10 21:41:14 WARN DAGScheduler: Broadcasting large task binary with size 1130.9 KiB\n",
      "25/05/10 21:41:14 WARN DAGScheduler: Broadcasting large task binary with size 1130.8 KiB\n",
      "25/05/10 21:41:14 WARN DAGScheduler: Broadcasting large task binary with size 1130.8 KiB\n",
      "25/05/10 21:41:15 WARN DAGScheduler: Broadcasting large task binary with size 1129.6 KiB\n",
      "25/05/10 21:41:15 WARN DAGScheduler: Broadcasting large task binary with size 1130.9 KiB\n",
      "25/05/10 21:41:15 WARN DAGScheduler: Broadcasting large task binary with size 1130.8 KiB\n",
      "25/05/10 21:41:15 WARN DAGScheduler: Broadcasting large task binary with size 1130.9 KiB\n",
      "25/05/10 21:41:15 WARN DAGScheduler: Broadcasting large task binary with size 1130.8 KiB\n",
      "25/05/10 21:41:15 WARN DAGScheduler: Broadcasting large task binary with size 1130.9 KiB\n",
      "25/05/10 21:41:15 WARN DAGScheduler: Broadcasting large task binary with size 1130.8 KiB\n",
      "25/05/10 21:41:15 WARN DAGScheduler: Broadcasting large task binary with size 1130.9 KiB\n",
      "25/05/10 21:41:15 WARN DAGScheduler: Broadcasting large task binary with size 1130.8 KiB\n"
     ]
    },
    {
     "name": "stderr",
     "output_type": "stream",
     "text": [
      "                                                                                "
     ]
    },
    {
     "name": "stdout",
     "output_type": "stream",
     "text": [
      "25/05/10 21:41:19 WARN DAGScheduler: Broadcasting large task binary with size 1130.8 KiB\n",
      "25/05/10 21:41:19 WARN DAGScheduler: Broadcasting large task binary with size 1130.9 KiB\n",
      "25/05/10 21:41:19 WARN DAGScheduler: Broadcasting large task binary with size 1130.8 KiB\n",
      "25/05/10 21:41:19 WARN DAGScheduler: Broadcasting large task binary with size 1130.8 KiB\n",
      "25/05/10 21:41:19 WARN DAGScheduler: Broadcasting large task binary with size 1130.9 KiB\n",
      "25/05/10 21:41:19 WARN DAGScheduler: Broadcasting large task binary with size 1130.9 KiB\n",
      "25/05/10 21:41:19 WARN DAGScheduler: Broadcasting large task binary with size 1130.8 KiB\n",
      "25/05/10 21:41:19 WARN DAGScheduler: Broadcasting large task binary with size 1130.9 KiB\n",
      "25/05/10 21:41:19 WARN DAGScheduler: Broadcasting large task binary with size 1130.8 KiB\n"
     ]
    },
    {
     "name": "stderr",
     "output_type": "stream",
     "text": [
      "                                                                                "
     ]
    },
    {
     "name": "stdout",
     "output_type": "stream",
     "text": [
      "25/05/10 21:41:24 WARN DAGScheduler: Broadcasting large task binary with size 1130.8 KiB\n",
      "25/05/10 21:41:24 WARN DAGScheduler: Broadcasting large task binary with size 1130.9 KiB\n",
      "25/05/10 21:41:24 WARN DAGScheduler: Broadcasting large task binary with size 1130.8 KiB\n",
      "25/05/10 21:41:24 WARN DAGScheduler: Broadcasting large task binary with size 1130.8 KiB\n",
      "25/05/10 21:41:24 WARN DAGScheduler: Broadcasting large task binary with size 1130.9 KiB\n",
      "25/05/10 21:41:24 WARN DAGScheduler: Broadcasting large task binary with size 1130.8 KiB\n",
      "25/05/10 21:41:24 WARN DAGScheduler: Broadcasting large task binary with size 1130.9 KiB\n"
     ]
    },
    {
     "name": "stderr",
     "output_type": "stream",
     "text": [
      "                                                                                "
     ]
    },
    {
     "name": "stdout",
     "output_type": "stream",
     "text": [
      "25/05/10 21:41:25 WARN DAGScheduler: Broadcasting large task binary with size 1130.9 KiB\n",
      "25/05/10 21:41:25 WARN DAGScheduler: Broadcasting large task binary with size 1130.8 KiB\n",
      "25/05/10 21:41:25 WARN DAGScheduler: Broadcasting large task binary with size 1130.8 KiB\n",
      "25/05/10 21:41:25 WARN DAGScheduler: Broadcasting large task binary with size 1130.9 KiB\n",
      "25/05/10 21:41:25 WARN DAGScheduler: Broadcasting large task binary with size 1130.8 KiB\n",
      "25/05/10 21:41:25 WARN DAGScheduler: Broadcasting large task binary with size 1130.8 KiB\n",
      "25/05/10 21:41:25 WARN DAGScheduler: Broadcasting large task binary with size 1130.9 KiB\n",
      "25/05/10 21:41:25 WARN DAGScheduler: Broadcasting large task binary with size 1130.8 KiB\n",
      "25/05/10 21:41:25 WARN DAGScheduler: Broadcasting large task binary with size 1130.9 KiB\n",
      "25/05/10 21:41:25 WARN DAGScheduler: Broadcasting large task binary with size 1130.9 KiB\n",
      "25/05/10 21:41:25 WARN DAGScheduler: Broadcasting large task binary with size 1130.8 KiB\n",
      "25/05/10 21:41:25 WARN DAGScheduler: Broadcasting large task binary with size 1130.9 KiB\n",
      "25/05/10 21:41:25 WARN DAGScheduler: Broadcasting large task binary with size 1130.8 KiB\n",
      "25/05/10 21:41:26 WARN DAGScheduler: Broadcasting large task binary with size 1130.8 KiB\n",
      "25/05/10 21:41:26 WARN DAGScheduler: Broadcasting large task binary with size 1130.9 KiB\n",
      "25/05/10 21:41:26 WARN DAGScheduler: Broadcasting large task binary with size 1130.9 KiB\n",
      "25/05/10 21:41:26 WARN DAGScheduler: Broadcasting large task binary with size 1130.8 KiB\n",
      "25/05/10 21:41:26 WARN DAGScheduler: Broadcasting large task binary with size 1130.8 KiB\n",
      "25/05/10 21:41:26 WARN DAGScheduler: Broadcasting large task binary with size 1130.8 KiB\n",
      "25/05/10 21:41:26 WARN DAGScheduler: Broadcasting large task binary with size 1130.9 KiB\n",
      "25/05/10 21:41:26 WARN DAGScheduler: Broadcasting large task binary with size 1130.8 KiB\n",
      "25/05/10 21:41:26 WARN DAGScheduler: Broadcasting large task binary with size 1130.8 KiB\n",
      "25/05/10 21:41:26 WARN DAGScheduler: Broadcasting large task binary with size 1130.9 KiB\n",
      "25/05/10 21:41:26 WARN DAGScheduler: Broadcasting large task binary with size 1130.9 KiB\n",
      "25/05/10 21:41:26 WARN DAGScheduler: Broadcasting large task binary with size 1130.9 KiB\n",
      "25/05/10 21:41:26 WARN DAGScheduler: Broadcasting large task binary with size 1130.8 KiB\n",
      "25/05/10 21:41:26 WARN DAGScheduler: Broadcasting large task binary with size 1130.8 KiB\n",
      "25/05/10 21:41:26 WARN DAGScheduler: Broadcasting large task binary with size 1130.9 KiB\n",
      "25/05/10 21:41:26 WARN DAGScheduler: Broadcasting large task binary with size 1130.8 KiB\n",
      "25/05/10 21:41:26 WARN DAGScheduler: Broadcasting large task binary with size 1130.8 KiB\n",
      "25/05/10 21:41:26 WARN DAGScheduler: Broadcasting large task binary with size 1130.8 KiB\n",
      "25/05/10 21:41:26 WARN DAGScheduler: Broadcasting large task binary with size 1130.9 KiB\n",
      "25/05/10 21:41:26 WARN DAGScheduler: Broadcasting large task binary with size 1130.9 KiB\n",
      "25/05/10 21:41:26 WARN DAGScheduler: Broadcasting large task binary with size 1130.9 KiB\n",
      "25/05/10 21:41:26 WARN DAGScheduler: Broadcasting large task binary with size 1130.9 KiB\n",
      "25/05/10 21:41:27 WARN DAGScheduler: Broadcasting large task binary with size 1130.8 KiB\n",
      "25/05/10 21:41:27 WARN DAGScheduler: Broadcasting large task binary with size 1130.9 KiB\n",
      "25/05/10 21:41:27 WARN DAGScheduler: Broadcasting large task binary with size 1130.8 KiB\n",
      "25/05/10 21:41:27 WARN DAGScheduler: Broadcasting large task binary with size 1130.8 KiB\n",
      "25/05/10 21:41:27 WARN DAGScheduler: Broadcasting large task binary with size 1130.8 KiB\n",
      "25/05/10 21:41:27 WARN DAGScheduler: Broadcasting large task binary with size 1130.9 KiB\n",
      "25/05/10 21:41:27 WARN DAGScheduler: Broadcasting large task binary with size 1130.8 KiB\n",
      "25/05/10 21:41:27 WARN DAGScheduler: Broadcasting large task binary with size 1130.9 KiB\n",
      "25/05/10 21:41:27 WARN DAGScheduler: Broadcasting large task binary with size 1130.9 KiB\n",
      "25/05/10 21:41:27 WARN DAGScheduler: Broadcasting large task binary with size 1130.8 KiB\n",
      "25/05/10 21:41:27 WARN DAGScheduler: Broadcasting large task binary with size 1130.8 KiB\n",
      "25/05/10 21:41:27 WARN DAGScheduler: Broadcasting large task binary with size 1130.8 KiB\n",
      "25/05/10 21:41:27 WARN DAGScheduler: Broadcasting large task binary with size 1130.9 KiB\n",
      "25/05/10 21:41:27 WARN DAGScheduler: Broadcasting large task binary with size 1130.9 KiB\n",
      "25/05/10 21:41:27 WARN DAGScheduler: Broadcasting large task binary with size 1130.8 KiB\n",
      "25/05/10 21:41:27 WARN DAGScheduler: Broadcasting large task binary with size 1130.8 KiB\n",
      "25/05/10 21:41:27 WARN DAGScheduler: Broadcasting large task binary with size 1130.9 KiB\n",
      "25/05/10 21:41:27 WARN DAGScheduler: Broadcasting large task binary with size 1130.9 KiB\n",
      "25/05/10 21:41:27 WARN DAGScheduler: Broadcasting large task binary with size 1130.8 KiB\n",
      "25/05/10 21:41:27 WARN DAGScheduler: Broadcasting large task binary with size 1130.8 KiB\n",
      "25/05/10 21:41:27 WARN DAGScheduler: Broadcasting large task binary with size 1130.8 KiB\n",
      "25/05/10 21:41:27 WARN DAGScheduler: Broadcasting large task binary with size 1130.9 KiB\n",
      "25/05/10 21:41:27 WARN DAGScheduler: Broadcasting large task binary with size 1130.9 KiB\n",
      "25/05/10 21:41:27 WARN DAGScheduler: Broadcasting large task binary with size 1130.8 KiB\n",
      "25/05/10 21:41:27 WARN DAGScheduler: Broadcasting large task binary with size 1130.8 KiB\n",
      "25/05/10 21:41:27 WARN DAGScheduler: Broadcasting large task binary with size 1130.9 KiB\n",
      "25/05/10 21:41:27 WARN DAGScheduler: Broadcasting large task binary with size 1130.9 KiB\n",
      "25/05/10 21:41:27 WARN DAGScheduler: Broadcasting large task binary with size 1130.8 KiB\n",
      "25/05/10 21:41:28 WARN DAGScheduler: Broadcasting large task binary with size 1130.8 KiB\n",
      "25/05/10 21:41:28 WARN DAGScheduler: Broadcasting large task binary with size 1130.8 KiB\n",
      "25/05/10 21:41:28 WARN DAGScheduler: Broadcasting large task binary with size 1130.9 KiB\n",
      "25/05/10 21:41:28 WARN DAGScheduler: Broadcasting large task binary with size 1130.9 KiB\n",
      "25/05/10 21:41:28 WARN DAGScheduler: Broadcasting large task binary with size 1130.8 KiB\n",
      "25/05/10 21:41:28 WARN DAGScheduler: Broadcasting large task binary with size 1130.8 KiB\n",
      "25/05/10 21:41:28 WARN DAGScheduler: Broadcasting large task binary with size 1130.9 KiB\n",
      "25/05/10 21:41:28 WARN DAGScheduler: Broadcasting large task binary with size 1130.9 KiB\n",
      "25/05/10 21:41:28 WARN DAGScheduler: Broadcasting large task binary with size 1130.8 KiB\n",
      "25/05/10 21:41:28 WARN DAGScheduler: Broadcasting large task binary with size 1130.8 KiB\n",
      "25/05/10 21:41:28 WARN DAGScheduler: Broadcasting large task binary with size 1130.9 KiB\n",
      "25/05/10 21:41:28 WARN DAGScheduler: Broadcasting large task binary with size 1130.9 KiB\n",
      "25/05/10 21:41:28 WARN DAGScheduler: Broadcasting large task binary with size 1130.8 KiB\n",
      "25/05/10 21:41:28 WARN DAGScheduler: Broadcasting large task binary with size 1130.8 KiB\n",
      "25/05/10 21:41:28 WARN DAGScheduler: Broadcasting large task binary with size 1130.9 KiB\n",
      "25/05/10 21:41:28 WARN DAGScheduler: Broadcasting large task binary with size 1130.9 KiB\n",
      "25/05/10 21:41:28 WARN DAGScheduler: Broadcasting large task binary with size 1130.8 KiB\n",
      "25/05/10 21:41:28 WARN DAGScheduler: Broadcasting large task binary with size 1130.8 KiB\n",
      "25/05/10 21:41:28 WARN DAGScheduler: Broadcasting large task binary with size 1130.9 KiB\n",
      "25/05/10 21:41:28 WARN DAGScheduler: Broadcasting large task binary with size 1129.6 KiB\n",
      "25/05/10 21:41:28 WARN DAGScheduler: Broadcasting large task binary with size 1130.9 KiB\n",
      "25/05/10 21:41:29 WARN DAGScheduler: Broadcasting large task binary with size 1130.9 KiB\n",
      "25/05/10 21:41:29 WARN DAGScheduler: Broadcasting large task binary with size 1130.8 KiB\n",
      "25/05/10 21:41:29 WARN DAGScheduler: Broadcasting large task binary with size 1130.9 KiB\n",
      "25/05/10 21:41:29 WARN DAGScheduler: Broadcasting large task binary with size 1130.8 KiB\n",
      "25/05/10 21:41:29 WARN DAGScheduler: Broadcasting large task binary with size 1130.8 KiB\n",
      "25/05/10 21:41:29 WARN DAGScheduler: Broadcasting large task binary with size 1130.9 KiB\n",
      "25/05/10 21:41:29 WARN DAGScheduler: Broadcasting large task binary with size 1129.6 KiB\n"
     ]
    },
    {
     "name": "stderr",
     "output_type": "stream",
     "text": [
      "                                                                                "
     ]
    },
    {
     "name": "stdout",
     "output_type": "stream",
     "text": [
      "25/05/10 21:41:33 WARN DAGScheduler: Broadcasting large task binary with size 1130.8 KiB\n",
      "25/05/10 21:41:33 WARN DAGScheduler: Broadcasting large task binary with size 1130.9 KiB\n",
      "25/05/10 21:41:33 WARN DAGScheduler: Broadcasting large task binary with size 1130.8 KiB\n",
      "25/05/10 21:41:33 WARN DAGScheduler: Broadcasting large task binary with size 1130.9 KiB\n",
      "25/05/10 21:41:33 WARN DAGScheduler: Broadcasting large task binary with size 1130.9 KiB\n",
      "25/05/10 21:41:33 WARN DAGScheduler: Broadcasting large task binary with size 1130.8 KiB\n",
      "25/05/10 21:41:33 WARN DAGScheduler: Broadcasting large task binary with size 1130.8 KiB\n",
      "25/05/10 21:41:33 WARN DAGScheduler: Broadcasting large task binary with size 1130.9 KiB\n"
     ]
    },
    {
     "name": "stderr",
     "output_type": "stream",
     "text": [
      "                                                                                "
     ]
    },
    {
     "name": "stdout",
     "output_type": "stream",
     "text": [
      "25/05/10 21:41:38 WARN DAGScheduler: Broadcasting large task binary with size 1130.8 KiB\n"
     ]
    },
    {
     "name": "stderr",
     "output_type": "stream",
     "text": [
      "                                                                                "
     ]
    },
    {
     "name": "stdout",
     "output_type": "stream",
     "text": [
      "25/05/10 21:41:42 WARN DAGScheduler: Broadcasting large task binary with size 1130.8 KiB\n",
      "25/05/10 21:41:42 WARN DAGScheduler: Broadcasting large task binary with size 1130.9 KiB\n",
      "25/05/10 21:41:42 WARN DAGScheduler: Broadcasting large task binary with size 1130.8 KiB\n",
      "25/05/10 21:41:43 WARN DAGScheduler: Broadcasting large task binary with size 1130.8 KiB\n",
      "25/05/10 21:41:43 WARN DAGScheduler: Broadcasting large task binary with size 1130.9 KiB\n",
      "25/05/10 21:41:43 WARN DAGScheduler: Broadcasting large task binary with size 1130.9 KiB\n",
      "25/05/10 21:41:43 WARN DAGScheduler: Broadcasting large task binary with size 1130.8 KiB\n",
      "25/05/10 21:41:43 WARN DAGScheduler: Broadcasting large task binary with size 1130.9 KiB\n"
     ]
    },
    {
     "name": "stderr",
     "output_type": "stream",
     "text": [
      "                                                                                "
     ]
    },
    {
     "name": "stdout",
     "output_type": "stream",
     "text": [
      "25/05/10 21:41:47 WARN DAGScheduler: Broadcasting large task binary with size 1130.8 KiB\n",
      "25/05/10 21:41:47 WARN DAGScheduler: Broadcasting large task binary with size 1130.8 KiB\n",
      "25/05/10 21:41:47 WARN DAGScheduler: Broadcasting large task binary with size 1130.9 KiB\n",
      "25/05/10 21:41:47 WARN DAGScheduler: Broadcasting large task binary with size 1130.8 KiB\n",
      "25/05/10 21:41:47 WARN DAGScheduler: Broadcasting large task binary with size 1130.9 KiB\n",
      "25/05/10 21:41:47 WARN DAGScheduler: Broadcasting large task binary with size 1130.8 KiB\n",
      "25/05/10 21:41:47 WARN DAGScheduler: Broadcasting large task binary with size 1130.9 KiB\n",
      "25/05/10 21:41:48 WARN DAGScheduler: Broadcasting large task binary with size 1130.8 KiB\n",
      "25/05/10 21:41:48 WARN DAGScheduler: Broadcasting large task binary with size 1130.8 KiB\n",
      "25/05/10 21:41:48 WARN DAGScheduler: Broadcasting large task binary with size 1130.9 KiB\n",
      "25/05/10 21:41:48 WARN DAGScheduler: Broadcasting large task binary with size 1130.8 KiB\n",
      "25/05/10 21:41:48 WARN DAGScheduler: Broadcasting large task binary with size 1130.8 KiB\n",
      "25/05/10 21:41:48 WARN DAGScheduler: Broadcasting large task binary with size 1130.9 KiB\n",
      "25/05/10 21:41:48 WARN DAGScheduler: Broadcasting large task binary with size 1130.9 KiB\n",
      "25/05/10 21:41:48 WARN DAGScheduler: Broadcasting large task binary with size 1130.9 KiB\n",
      "25/05/10 21:41:48 WARN DAGScheduler: Broadcasting large task binary with size 1130.8 KiB\n",
      "25/05/10 21:41:48 WARN DAGScheduler: Broadcasting large task binary with size 1130.8 KiB\n",
      "25/05/10 21:41:48 WARN DAGScheduler: Broadcasting large task binary with size 1130.9 KiB\n",
      "25/05/10 21:41:48 WARN DAGScheduler: Broadcasting large task binary with size 1130.8 KiB\n",
      "25/05/10 21:41:48 WARN DAGScheduler: Broadcasting large task binary with size 1130.8 KiB\n",
      "25/05/10 21:41:48 WARN DAGScheduler: Broadcasting large task binary with size 1130.8 KiB\n",
      "25/05/10 21:41:48 WARN DAGScheduler: Broadcasting large task binary with size 1130.9 KiB\n",
      "25/05/10 21:41:48 WARN DAGScheduler: Broadcasting large task binary with size 1130.8 KiB\n",
      "25/05/10 21:41:48 WARN DAGScheduler: Broadcasting large task binary with size 1130.9 KiB\n",
      "25/05/10 21:41:48 WARN DAGScheduler: Broadcasting large task binary with size 1130.9 KiB\n",
      "25/05/10 21:41:48 WARN DAGScheduler: Broadcasting large task binary with size 1130.8 KiB\n",
      "25/05/10 21:41:48 WARN DAGScheduler: Broadcasting large task binary with size 1130.9 KiB\n",
      "25/05/10 21:41:48 WARN DAGScheduler: Broadcasting large task binary with size 1130.8 KiB\n",
      "25/05/10 21:41:48 WARN DAGScheduler: Broadcasting large task binary with size 1130.8 KiB\n",
      "25/05/10 21:41:48 WARN DAGScheduler: Broadcasting large task binary with size 1130.9 KiB\n",
      "25/05/10 21:41:48 WARN DAGScheduler: Broadcasting large task binary with size 1130.8 KiB\n",
      "25/05/10 21:41:48 WARN DAGScheduler: Broadcasting large task binary with size 1130.8 KiB\n",
      "25/05/10 21:41:48 WARN DAGScheduler: Broadcasting large task binary with size 1130.9 KiB\n",
      "25/05/10 21:41:48 WARN DAGScheduler: Broadcasting large task binary with size 1130.9 KiB\n",
      "25/05/10 21:41:48 WARN DAGScheduler: Broadcasting large task binary with size 1130.8 KiB\n",
      "25/05/10 21:41:48 WARN DAGScheduler: Broadcasting large task binary with size 1130.9 KiB\n",
      "25/05/10 21:41:48 WARN DAGScheduler: Broadcasting large task binary with size 1130.8 KiB\n",
      "25/05/10 21:41:49 WARN DAGScheduler: Broadcasting large task binary with size 1130.8 KiB\n",
      "25/05/10 21:41:49 WARN DAGScheduler: Broadcasting large task binary with size 1130.9 KiB\n",
      "25/05/10 21:41:49 WARN DAGScheduler: Broadcasting large task binary with size 1130.8 KiB\n",
      "25/05/10 21:41:49 WARN DAGScheduler: Broadcasting large task binary with size 1130.8 KiB\n",
      "25/05/10 21:41:49 WARN DAGScheduler: Broadcasting large task binary with size 1130.9 KiB\n",
      "25/05/10 21:41:49 WARN DAGScheduler: Broadcasting large task binary with size 1130.8 KiB\n",
      "25/05/10 21:41:49 WARN DAGScheduler: Broadcasting large task binary with size 1130.9 KiB\n",
      "25/05/10 21:41:49 WARN DAGScheduler: Broadcasting large task binary with size 1130.9 KiB\n",
      "25/05/10 21:41:49 WARN DAGScheduler: Broadcasting large task binary with size 1130.8 KiB\n",
      "25/05/10 21:41:49 WARN DAGScheduler: Broadcasting large task binary with size 1130.8 KiB\n",
      "25/05/10 21:41:49 WARN DAGScheduler: Broadcasting large task binary with size 1130.9 KiB\n",
      "25/05/10 21:41:49 WARN DAGScheduler: Broadcasting large task binary with size 1130.8 KiB\n",
      "25/05/10 21:41:49 WARN DAGScheduler: Broadcasting large task binary with size 1130.9 KiB\n",
      "25/05/10 21:41:49 WARN DAGScheduler: Broadcasting large task binary with size 1130.8 KiB\n",
      "25/05/10 21:41:49 WARN DAGScheduler: Broadcasting large task binary with size 1130.8 KiB\n",
      "25/05/10 21:41:49 WARN DAGScheduler: Broadcasting large task binary with size 1130.9 KiB\n",
      "25/05/10 21:41:49 WARN DAGScheduler: Broadcasting large task binary with size 1130.9 KiB\n",
      "25/05/10 21:41:49 WARN DAGScheduler: Broadcasting large task binary with size 1130.8 KiB\n",
      "25/05/10 21:41:49 WARN DAGScheduler: Broadcasting large task binary with size 1130.8 KiB\n",
      "25/05/10 21:41:49 WARN DAGScheduler: Broadcasting large task binary with size 1130.8 KiB\n",
      "25/05/10 21:41:49 WARN DAGScheduler: Broadcasting large task binary with size 1130.9 KiB\n",
      "25/05/10 21:41:49 WARN DAGScheduler: Broadcasting large task binary with size 1130.8 KiB\n",
      "25/05/10 21:41:49 WARN DAGScheduler: Broadcasting large task binary with size 1130.8 KiB\n",
      "25/05/10 21:41:49 WARN DAGScheduler: Broadcasting large task binary with size 1130.9 KiB\n",
      "25/05/10 21:41:49 WARN DAGScheduler: Broadcasting large task binary with size 1130.8 KiB\n",
      "25/05/10 21:41:49 WARN DAGScheduler: Broadcasting large task binary with size 1130.8 KiB\n",
      "25/05/10 21:41:49 WARN DAGScheduler: Broadcasting large task binary with size 1130.9 KiB\n",
      "25/05/10 21:41:50 WARN DAGScheduler: Broadcasting large task binary with size 1130.9 KiB\n",
      "25/05/10 21:41:50 WARN DAGScheduler: Broadcasting large task binary with size 1130.8 KiB\n",
      "25/05/10 21:41:50 WARN DAGScheduler: Broadcasting large task binary with size 1130.8 KiB\n",
      "25/05/10 21:41:50 WARN DAGScheduler: Broadcasting large task binary with size 1130.8 KiB\n",
      "25/05/10 21:41:50 WARN DAGScheduler: Broadcasting large task binary with size 1130.9 KiB\n",
      "25/05/10 21:41:50 WARN DAGScheduler: Broadcasting large task binary with size 1130.9 KiB\n",
      "25/05/10 21:41:50 WARN DAGScheduler: Broadcasting large task binary with size 1130.8 KiB\n",
      "25/05/10 21:41:50 WARN DAGScheduler: Broadcasting large task binary with size 1130.8 KiB\n",
      "25/05/10 21:41:50 WARN DAGScheduler: Broadcasting large task binary with size 1130.8 KiB\n",
      "25/05/10 21:41:50 WARN DAGScheduler: Broadcasting large task binary with size 1130.8 KiB\n",
      "25/05/10 21:41:50 WARN DAGScheduler: Broadcasting large task binary with size 1130.9 KiB\n",
      "25/05/10 21:41:50 WARN DAGScheduler: Broadcasting large task binary with size 1130.9 KiB\n",
      "25/05/10 21:41:50 WARN DAGScheduler: Broadcasting large task binary with size 1130.8 KiB\n",
      "25/05/10 21:41:50 WARN DAGScheduler: Broadcasting large task binary with size 1130.9 KiB\n",
      "25/05/10 21:41:50 WARN DAGScheduler: Broadcasting large task binary with size 1130.8 KiB\n",
      "25/05/10 21:41:50 WARN DAGScheduler: Broadcasting large task binary with size 1130.8 KiB\n",
      "25/05/10 21:41:50 WARN DAGScheduler: Broadcasting large task binary with size 1130.9 KiB\n",
      "25/05/10 21:41:50 WARN DAGScheduler: Broadcasting large task binary with size 1130.8 KiB\n",
      "25/05/10 21:41:50 WARN DAGScheduler: Broadcasting large task binary with size 1130.9 KiB\n",
      "25/05/10 21:41:50 WARN DAGScheduler: Broadcasting large task binary with size 1130.8 KiB\n",
      "25/05/10 21:41:50 WARN DAGScheduler: Broadcasting large task binary with size 1130.8 KiB\n",
      "25/05/10 21:41:50 WARN DAGScheduler: Broadcasting large task binary with size 1130.8 KiB\n",
      "25/05/10 21:41:50 WARN DAGScheduler: Broadcasting large task binary with size 1130.9 KiB\n",
      "25/05/10 21:41:50 WARN DAGScheduler: Broadcasting large task binary with size 1130.9 KiB\n",
      "25/05/10 21:41:50 WARN DAGScheduler: Broadcasting large task binary with size 1130.8 KiB\n",
      "25/05/10 21:41:51 WARN DAGScheduler: Broadcasting large task binary with size 1130.9 KiB\n",
      "25/05/10 21:41:51 WARN DAGScheduler: Broadcasting large task binary with size 1130.8 KiB\n",
      "25/05/10 21:41:51 WARN DAGScheduler: Broadcasting large task binary with size 1130.8 KiB\n",
      "25/05/10 21:41:51 WARN DAGScheduler: Broadcasting large task binary with size 1130.8 KiB\n",
      "25/05/10 21:41:51 WARN DAGScheduler: Broadcasting large task binary with size 1130.8 KiB\n",
      "25/05/10 21:41:51 WARN DAGScheduler: Broadcasting large task binary with size 1130.9 KiB\n",
      "25/05/10 21:41:51 WARN DAGScheduler: Broadcasting large task binary with size 1130.9 KiB\n",
      "25/05/10 21:41:51 WARN DAGScheduler: Broadcasting large task binary with size 1130.8 KiB\n",
      "25/05/10 21:41:51 WARN DAGScheduler: Broadcasting large task binary with size 1130.9 KiB\n",
      "25/05/10 21:41:51 WARN DAGScheduler: Broadcasting large task binary with size 1130.8 KiB\n",
      "25/05/10 21:41:51 WARN DAGScheduler: Broadcasting large task binary with size 1130.8 KiB\n",
      "25/05/10 21:41:51 WARN DAGScheduler: Broadcasting large task binary with size 1130.8 KiB\n",
      "25/05/10 21:41:51 WARN DAGScheduler: Broadcasting large task binary with size 1130.9 KiB\n",
      "25/05/10 21:41:51 WARN DAGScheduler: Broadcasting large task binary with size 1130.8 KiB\n",
      "25/05/10 21:41:51 WARN DAGScheduler: Broadcasting large task binary with size 1130.9 KiB\n",
      "25/05/10 21:41:51 WARN DAGScheduler: Broadcasting large task binary with size 1130.8 KiB\n",
      "25/05/10 21:41:51 WARN DAGScheduler: Broadcasting large task binary with size 1130.9 KiB\n",
      "25/05/10 21:41:51 WARN DAGScheduler: Broadcasting large task binary with size 1130.8 KiB\n",
      "25/05/10 21:41:51 WARN DAGScheduler: Broadcasting large task binary with size 1130.8 KiB\n",
      "25/05/10 21:41:51 WARN DAGScheduler: Broadcasting large task binary with size 1130.8 KiB\n",
      "25/05/10 21:41:51 WARN DAGScheduler: Broadcasting large task binary with size 1130.9 KiB\n",
      "25/05/10 21:41:51 WARN DAGScheduler: Broadcasting large task binary with size 1130.8 KiB\n",
      "25/05/10 21:41:51 WARN DAGScheduler: Broadcasting large task binary with size 1130.9 KiB\n",
      "25/05/10 21:41:51 WARN DAGScheduler: Broadcasting large task binary with size 1130.9 KiB\n",
      "25/05/10 21:41:51 WARN DAGScheduler: Broadcasting large task binary with size 1130.8 KiB\n",
      "25/05/10 21:41:51 WARN DAGScheduler: Broadcasting large task binary with size 1130.8 KiB\n",
      "25/05/10 21:41:51 WARN DAGScheduler: Broadcasting large task binary with size 1130.8 KiB\n",
      "25/05/10 21:41:51 WARN DAGScheduler: Broadcasting large task binary with size 1130.8 KiB\n",
      "25/05/10 21:41:51 WARN DAGScheduler: Broadcasting large task binary with size 1130.9 KiB\n",
      "25/05/10 21:41:52 WARN DAGScheduler: Broadcasting large task binary with size 1130.9 KiB\n",
      "25/05/10 21:41:52 WARN DAGScheduler: Broadcasting large task binary with size 1130.8 KiB\n",
      "25/05/10 21:41:52 WARN DAGScheduler: Broadcasting large task binary with size 1130.9 KiB\n",
      "25/05/10 21:41:52 WARN DAGScheduler: Broadcasting large task binary with size 1130.8 KiB\n",
      "25/05/10 21:41:52 WARN DAGScheduler: Broadcasting large task binary with size 1130.8 KiB\n",
      "25/05/10 21:41:52 WARN DAGScheduler: Broadcasting large task binary with size 1130.8 KiB\n",
      "25/05/10 21:41:52 WARN DAGScheduler: Broadcasting large task binary with size 1130.9 KiB\n",
      "25/05/10 21:41:52 WARN DAGScheduler: Broadcasting large task binary with size 1130.9 KiB\n",
      "25/05/10 21:41:52 WARN DAGScheduler: Broadcasting large task binary with size 1130.8 KiB\n",
      "25/05/10 21:41:52 WARN DAGScheduler: Broadcasting large task binary with size 1130.8 KiB\n",
      "25/05/10 21:41:52 WARN DAGScheduler: Broadcasting large task binary with size 1130.9 KiB\n",
      "25/05/10 21:41:52 WARN DAGScheduler: Broadcasting large task binary with size 1130.8 KiB\n",
      "25/05/10 21:41:52 WARN DAGScheduler: Broadcasting large task binary with size 1130.8 KiB\n",
      "25/05/10 21:41:52 WARN DAGScheduler: Broadcasting large task binary with size 1130.8 KiB\n",
      "25/05/10 21:41:52 WARN DAGScheduler: Broadcasting large task binary with size 1130.9 KiB\n",
      "25/05/10 21:41:52 WARN DAGScheduler: Broadcasting large task binary with size 1130.9 KiB\n",
      "25/05/10 21:41:52 WARN DAGScheduler: Broadcasting large task binary with size 1130.8 KiB\n",
      "25/05/10 21:41:52 WARN DAGScheduler: Broadcasting large task binary with size 1130.8 KiB\n",
      "25/05/10 21:41:52 WARN DAGScheduler: Broadcasting large task binary with size 1130.8 KiB\n",
      "25/05/10 21:41:52 WARN DAGScheduler: Broadcasting large task binary with size 1130.9 KiB\n",
      "25/05/10 21:41:52 WARN DAGScheduler: Broadcasting large task binary with size 1130.8 KiB\n",
      "25/05/10 21:41:52 WARN DAGScheduler: Broadcasting large task binary with size 1130.9 KiB\n",
      "25/05/10 21:41:52 WARN DAGScheduler: Broadcasting large task binary with size 1130.8 KiB\n",
      "25/05/10 21:41:52 WARN DAGScheduler: Broadcasting large task binary with size 1130.9 KiB\n",
      "25/05/10 21:41:52 WARN DAGScheduler: Broadcasting large task binary with size 1130.8 KiB\n",
      "25/05/10 21:41:52 WARN DAGScheduler: Broadcasting large task binary with size 1130.9 KiB\n",
      "25/05/10 21:41:52 WARN DAGScheduler: Broadcasting large task binary with size 1130.8 KiB\n",
      "25/05/10 21:41:52 WARN DAGScheduler: Broadcasting large task binary with size 1130.8 KiB\n",
      "25/05/10 21:41:52 WARN DAGScheduler: Broadcasting large task binary with size 1130.9 KiB\n",
      "25/05/10 21:41:53 WARN DAGScheduler: Broadcasting large task binary with size 1130.9 KiB\n",
      "25/05/10 21:41:53 WARN DAGScheduler: Broadcasting large task binary with size 1130.8 KiB\n",
      "25/05/10 21:41:53 WARN DAGScheduler: Broadcasting large task binary with size 1130.8 KiB\n",
      "25/05/10 21:41:53 WARN DAGScheduler: Broadcasting large task binary with size 1130.9 KiB\n",
      "25/05/10 21:41:53 WARN DAGScheduler: Broadcasting large task binary with size 1130.8 KiB\n",
      "25/05/10 21:41:53 WARN DAGScheduler: Broadcasting large task binary with size 1130.8 KiB\n",
      "25/05/10 21:41:53 WARN DAGScheduler: Broadcasting large task binary with size 1130.9 KiB\n",
      "25/05/10 21:41:53 WARN DAGScheduler: Broadcasting large task binary with size 1130.9 KiB\n",
      "25/05/10 21:41:53 WARN DAGScheduler: Broadcasting large task binary with size 1130.8 KiB\n",
      "25/05/10 21:41:53 WARN DAGScheduler: Broadcasting large task binary with size 1130.8 KiB\n",
      "25/05/10 21:41:53 WARN DAGScheduler: Broadcasting large task binary with size 1130.9 KiB\n",
      "25/05/10 21:41:53 WARN DAGScheduler: Broadcasting large task binary with size 1130.8 KiB\n",
      "25/05/10 21:41:53 WARN DAGScheduler: Broadcasting large task binary with size 1130.8 KiB\n",
      "25/05/10 21:41:53 WARN DAGScheduler: Broadcasting large task binary with size 1130.9 KiB\n",
      "25/05/10 21:41:53 WARN DAGScheduler: Broadcasting large task binary with size 1130.9 KiB\n",
      "25/05/10 21:41:53 WARN DAGScheduler: Broadcasting large task binary with size 1130.8 KiB\n",
      "25/05/10 21:41:53 WARN DAGScheduler: Broadcasting large task binary with size 1130.8 KiB\n",
      "25/05/10 21:41:53 WARN DAGScheduler: Broadcasting large task binary with size 1130.9 KiB\n",
      "25/05/10 21:41:53 WARN DAGScheduler: Broadcasting large task binary with size 1130.9 KiB\n",
      "25/05/10 21:41:53 WARN DAGScheduler: Broadcasting large task binary with size 1130.9 KiB\n",
      "25/05/10 21:41:53 WARN DAGScheduler: Broadcasting large task binary with size 1130.8 KiB\n",
      "25/05/10 21:41:53 WARN DAGScheduler: Broadcasting large task binary with size 1130.8 KiB\n",
      "25/05/10 21:41:53 WARN DAGScheduler: Broadcasting large task binary with size 1130.9 KiB\n",
      "25/05/10 21:41:53 WARN DAGScheduler: Broadcasting large task binary with size 1130.8 KiB\n",
      "25/05/10 21:41:54 WARN DAGScheduler: Broadcasting large task binary with size 1130.9 KiB\n",
      "25/05/10 21:41:54 WARN DAGScheduler: Broadcasting large task binary with size 1130.9 KiB\n",
      "25/05/10 21:41:54 WARN DAGScheduler: Broadcasting large task binary with size 1130.8 KiB\n",
      "25/05/10 21:41:54 WARN DAGScheduler: Broadcasting large task binary with size 1130.8 KiB\n",
      "25/05/10 21:41:54 WARN DAGScheduler: Broadcasting large task binary with size 1130.9 KiB\n",
      "25/05/10 21:41:54 WARN DAGScheduler: Broadcasting large task binary with size 1130.8 KiB\n",
      "25/05/10 21:41:54 WARN DAGScheduler: Broadcasting large task binary with size 1130.9 KiB\n",
      "25/05/10 21:41:54 WARN DAGScheduler: Broadcasting large task binary with size 1129.6 KiB\n",
      "25/05/10 21:41:54 WARN DAGScheduler: Broadcasting large task binary with size 1130.8 KiB\n",
      "25/05/10 21:41:54 WARN DAGScheduler: Broadcasting large task binary with size 1130.9 KiB\n",
      "25/05/10 21:41:54 WARN DAGScheduler: Broadcasting large task binary with size 1130.9 KiB\n",
      "25/05/10 21:41:54 WARN DAGScheduler: Broadcasting large task binary with size 1130.9 KiB\n",
      "25/05/10 21:41:54 WARN DAGScheduler: Broadcasting large task binary with size 1130.8 KiB\n",
      "25/05/10 21:41:54 WARN DAGScheduler: Broadcasting large task binary with size 1129.6 KiB\n"
     ]
    },
    {
     "name": "stderr",
     "output_type": "stream",
     "text": [
      "                                                                                "
     ]
    },
    {
     "name": "stdout",
     "output_type": "stream",
     "text": [
      "25/05/10 21:41:58 WARN DAGScheduler: Broadcasting large task binary with size 1130.8 KiB\n",
      "25/05/10 21:41:58 WARN DAGScheduler: Broadcasting large task binary with size 1130.9 KiB\n",
      "25/05/10 21:41:59 WARN DAGScheduler: Broadcasting large task binary with size 1130.8 KiB\n",
      "25/05/10 21:41:59 WARN DAGScheduler: Broadcasting large task binary with size 1130.9 KiB\n",
      "25/05/10 21:41:59 WARN DAGScheduler: Broadcasting large task binary with size 1130.9 KiB\n",
      "25/05/10 21:41:59 WARN DAGScheduler: Broadcasting large task binary with size 1129.6 KiB\n"
     ]
    },
    {
     "name": "stderr",
     "output_type": "stream",
     "text": [
      "                                                                                "
     ]
    },
    {
     "name": "stdout",
     "output_type": "stream",
     "text": [
      "25/05/10 21:42:03 WARN DAGScheduler: Broadcasting large task binary with size 1130.8 KiB\n"
     ]
    },
    {
     "name": "stderr",
     "output_type": "stream",
     "text": [
      "[Stage 7304:> (0 + 2) / 2][Stage 7305:> (0 + 0) / 2][Stage 7306:> (0 + 0) / 2]"
     ]
    },
    {
     "name": "stdout",
     "output_type": "stream",
     "text": [
      "25/05/10 21:42:04 WARN DAGScheduler: Broadcasting large task binary with size 1734.6 KiB\n"
     ]
    },
    {
     "name": "stderr",
     "output_type": "stream",
     "text": [
      "[Stage 7304:=>(1 + 1) / 2][Stage 7305:=>(1 + 0) / 2][Stage 7306:=>(1 + 0) / 2]"
     ]
    },
    {
     "name": "stdout",
     "output_type": "stream",
     "text": [
      "25/05/10 21:42:07 WARN DAGScheduler: Broadcasting large task binary with size 1734.5 KiB\n"
     ]
    },
    {
     "name": "stderr",
     "output_type": "stream",
     "text": [
      "                                                                                "
     ]
    },
    {
     "name": "stdout",
     "output_type": "stream",
     "text": [
      "25/05/10 21:42:08 WARN DAGScheduler: Broadcasting large task binary with size 1130.8 KiB\n",
      "25/05/10 21:42:08 WARN DAGScheduler: Broadcasting large task binary with size 1130.9 KiB\n",
      "25/05/10 21:42:08 WARN DAGScheduler: Broadcasting large task binary with size 1130.8 KiB\n",
      "25/05/10 21:42:08 WARN DAGScheduler: Broadcasting large task binary with size 1130.9 KiB\n",
      "25/05/10 21:42:08 WARN DAGScheduler: Broadcasting large task binary with size 1130.9 KiB\n"
     ]
    },
    {
     "name": "stderr",
     "output_type": "stream",
     "text": [
      "                                                                                "
     ]
    },
    {
     "name": "stdout",
     "output_type": "stream",
     "text": [
      "25/05/10 21:42:12 WARN DAGScheduler: Broadcasting large task binary with size 1130.8 KiB\n"
     ]
    },
    {
     "name": "stderr",
     "output_type": "stream",
     "text": [
      "                                                                                "
     ]
    },
    {
     "name": "stdout",
     "output_type": "stream",
     "text": [
      "25/05/10 21:42:17 WARN DAGScheduler: Broadcasting large task binary with size 1130.8 KiB\n"
     ]
    },
    {
     "name": "stderr",
     "output_type": "stream",
     "text": [
      "                                                                                "
     ]
    },
    {
     "name": "stdout",
     "output_type": "stream",
     "text": [
      "25/05/10 21:42:37 WARN DAGScheduler: Broadcasting large task binary with size 1130.8 KiB\n",
      "25/05/10 21:42:37 WARN DAGScheduler: Broadcasting large task binary with size 1130.8 KiB\n",
      "25/05/10 21:42:37 WARN DAGScheduler: Broadcasting large task binary with size 1130.9 KiB\n",
      "25/05/10 21:42:37 WARN DAGScheduler: Broadcasting large task binary with size 1130.9 KiB\n",
      "25/05/10 21:42:37 WARN DAGScheduler: Broadcasting large task binary with size 1130.9 KiB\n"
     ]
    },
    {
     "name": "stderr",
     "output_type": "stream",
     "text": [
      "                                                                                "
     ]
    },
    {
     "name": "stdout",
     "output_type": "stream",
     "text": [
      "25/05/10 21:42:41 WARN DAGScheduler: Broadcasting large task binary with size 1130.8 KiB\n",
      "25/05/10 21:42:42 WARN DAGScheduler: Broadcasting large task binary with size 1130.8 KiB\n",
      "25/05/10 21:42:42 WARN DAGScheduler: Broadcasting large task binary with size 1130.8 KiB\n",
      "25/05/10 21:42:42 WARN DAGScheduler: Broadcasting large task binary with size 1130.9 KiB\n",
      "25/05/10 21:42:42 WARN DAGScheduler: Broadcasting large task binary with size 1130.8 KiB\n",
      "25/05/10 21:42:42 WARN DAGScheduler: Broadcasting large task binary with size 1130.9 KiB\n",
      "25/05/10 21:42:42 WARN DAGScheduler: Broadcasting large task binary with size 1130.9 KiB\n",
      "25/05/10 21:42:42 WARN DAGScheduler: Broadcasting large task binary with size 1130.8 KiB\n",
      "25/05/10 21:42:42 WARN DAGScheduler: Broadcasting large task binary with size 1130.9 KiB\n",
      "25/05/10 21:42:42 WARN DAGScheduler: Broadcasting large task binary with size 1130.8 KiB\n",
      "25/05/10 21:42:42 WARN DAGScheduler: Broadcasting large task binary with size 1130.8 KiB\n",
      "25/05/10 21:42:42 WARN DAGScheduler: Broadcasting large task binary with size 1130.8 KiB\n",
      "25/05/10 21:42:42 WARN DAGScheduler: Broadcasting large task binary with size 1130.9 KiB\n",
      "25/05/10 21:42:42 WARN DAGScheduler: Broadcasting large task binary with size 1130.9 KiB\n",
      "25/05/10 21:42:42 WARN DAGScheduler: Broadcasting large task binary with size 1130.8 KiB\n",
      "25/05/10 21:42:42 WARN DAGScheduler: Broadcasting large task binary with size 1130.8 KiB\n",
      "25/05/10 21:42:42 WARN DAGScheduler: Broadcasting large task binary with size 1130.9 KiB\n",
      "25/05/10 21:42:42 WARN DAGScheduler: Broadcasting large task binary with size 1130.8 KiB\n",
      "25/05/10 21:42:42 WARN DAGScheduler: Broadcasting large task binary with size 1130.8 KiB\n",
      "25/05/10 21:42:42 WARN DAGScheduler: Broadcasting large task binary with size 1130.9 KiB\n",
      "25/05/10 21:42:43 WARN DAGScheduler: Broadcasting large task binary with size 1130.9 KiB\n",
      "25/05/10 21:42:43 WARN DAGScheduler: Broadcasting large task binary with size 1130.8 KiB\n",
      "25/05/10 21:42:43 WARN DAGScheduler: Broadcasting large task binary with size 1130.8 KiB\n",
      "25/05/10 21:42:43 WARN DAGScheduler: Broadcasting large task binary with size 1130.8 KiB\n",
      "25/05/10 21:42:43 WARN DAGScheduler: Broadcasting large task binary with size 1130.9 KiB\n",
      "25/05/10 21:42:43 WARN DAGScheduler: Broadcasting large task binary with size 1130.8 KiB\n",
      "25/05/10 21:42:43 WARN DAGScheduler: Broadcasting large task binary with size 1130.9 KiB\n"
     ]
    },
    {
     "name": "stderr",
     "output_type": "stream",
     "text": [
      "                                                                                "
     ]
    },
    {
     "name": "stdout",
     "output_type": "stream",
     "text": [
      "25/05/10 21:42:47 WARN DAGScheduler: Broadcasting large task binary with size 1130.9 KiB\n",
      "25/05/10 21:42:47 WARN DAGScheduler: Broadcasting large task binary with size 1130.8 KiB\n",
      "25/05/10 21:42:47 WARN DAGScheduler: Broadcasting large task binary with size 1130.8 KiB\n",
      "25/05/10 21:42:47 WARN DAGScheduler: Broadcasting large task binary with size 1130.8 KiB\n",
      "25/05/10 21:42:47 WARN DAGScheduler: Broadcasting large task binary with size 1130.9 KiB\n",
      "25/05/10 21:42:47 WARN DAGScheduler: Broadcasting large task binary with size 1130.8 KiB\n"
     ]
    },
    {
     "name": "stderr",
     "output_type": "stream",
     "text": [
      "                                                                                "
     ]
    },
    {
     "name": "stdout",
     "output_type": "stream",
     "text": [
      "25/05/10 21:42:51 WARN DAGScheduler: Broadcasting large task binary with size 1130.9 KiB\n",
      "25/05/10 21:42:52 WARN DAGScheduler: Broadcasting large task binary with size 1130.9 KiB\n",
      "25/05/10 21:42:52 WARN DAGScheduler: Broadcasting large task binary with size 1130.8 KiB\n",
      "25/05/10 21:42:52 WARN DAGScheduler: Broadcasting large task binary with size 1130.8 KiB\n",
      "25/05/10 21:42:52 WARN DAGScheduler: Broadcasting large task binary with size 1130.9 KiB\n",
      "25/05/10 21:42:52 WARN DAGScheduler: Broadcasting large task binary with size 1130.8 KiB\n",
      "25/05/10 21:42:52 WARN DAGScheduler: Broadcasting large task binary with size 1130.8 KiB\n",
      "25/05/10 21:42:52 WARN DAGScheduler: Broadcasting large task binary with size 1130.9 KiB\n",
      "25/05/10 21:42:52 WARN DAGScheduler: Broadcasting large task binary with size 1130.9 KiB\n",
      "25/05/10 21:42:52 WARN DAGScheduler: Broadcasting large task binary with size 1130.8 KiB\n",
      "25/05/10 21:42:52 WARN DAGScheduler: Broadcasting large task binary with size 1130.8 KiB\n",
      "25/05/10 21:42:52 WARN DAGScheduler: Broadcasting large task binary with size 1130.9 KiB\n",
      "25/05/10 21:42:52 WARN DAGScheduler: Broadcasting large task binary with size 1130.8 KiB\n",
      "25/05/10 21:42:52 WARN DAGScheduler: Broadcasting large task binary with size 1130.8 KiB\n",
      "25/05/10 21:42:52 WARN DAGScheduler: Broadcasting large task binary with size 1130.9 KiB\n",
      "25/05/10 21:42:52 WARN DAGScheduler: Broadcasting large task binary with size 1130.9 KiB\n",
      "25/05/10 21:42:52 WARN DAGScheduler: Broadcasting large task binary with size 1130.9 KiB\n",
      "25/05/10 21:42:52 WARN DAGScheduler: Broadcasting large task binary with size 1130.8 KiB\n",
      "25/05/10 21:42:53 WARN DAGScheduler: Broadcasting large task binary with size 1130.8 KiB\n"
     ]
    },
    {
     "name": "stderr",
     "output_type": "stream",
     "text": [
      "                                                                                "
     ]
    },
    {
     "name": "stdout",
     "output_type": "stream",
     "text": [
      "25/05/10 21:42:57 WARN DAGScheduler: Broadcasting large task binary with size 1130.8 KiB\n",
      "25/05/10 21:42:57 WARN DAGScheduler: Broadcasting large task binary with size 1130.9 KiB\n",
      "25/05/10 21:42:57 WARN DAGScheduler: Broadcasting large task binary with size 1130.8 KiB\n",
      "25/05/10 21:42:57 WARN DAGScheduler: Broadcasting large task binary with size 1130.9 KiB\n",
      "25/05/10 21:42:57 WARN DAGScheduler: Broadcasting large task binary with size 1110.3 KiB\n",
      "25/05/10 21:42:57 WARN DAGScheduler: Broadcasting large task binary with size 1130.9 KiB\n",
      "25/05/10 21:42:57 WARN DAGScheduler: Broadcasting large task binary with size 1130.8 KiB\n",
      "25/05/10 21:42:57 WARN DAGScheduler: Broadcasting large task binary with size 1130.8 KiB\n"
     ]
    },
    {
     "name": "stderr",
     "output_type": "stream",
     "text": [
      "                                                                                "
     ]
    },
    {
     "name": "stdout",
     "output_type": "stream",
     "text": [
      "25/05/10 21:43:01 WARN DAGScheduler: Broadcasting large task binary with size 1130.8 KiB\n",
      "25/05/10 21:43:01 WARN DAGScheduler: Broadcasting large task binary with size 1130.8 KiB\n",
      "25/05/10 21:43:01 WARN DAGScheduler: Broadcasting large task binary with size 1130.9 KiB\n",
      "25/05/10 21:43:02 WARN DAGScheduler: Broadcasting large task binary with size 1130.9 KiB\n",
      "25/05/10 21:43:02 WARN DAGScheduler: Broadcasting large task binary with size 1110.3 KiB\n",
      "25/05/10 21:43:02 WARN DAGScheduler: Broadcasting large task binary with size 1130.9 KiB\n",
      "25/05/10 21:43:02 WARN DAGScheduler: Broadcasting large task binary with size 1112.4 KiB\n",
      "25/05/10 21:43:02 WARN DAGScheduler: Broadcasting large task binary with size 1130.8 KiB\n",
      "25/05/10 21:43:02 WARN DAGScheduler: Broadcasting large task binary with size 1130.8 KiB\n",
      "25/05/10 21:43:02 WARN DAGScheduler: Broadcasting large task binary with size 1130.8 KiB\n",
      "25/05/10 21:43:02 WARN DAGScheduler: Broadcasting large task binary with size 1130.8 KiB\n",
      "25/05/10 21:43:02 WARN DAGScheduler: Broadcasting large task binary with size 1130.9 KiB\n",
      "25/05/10 21:43:02 WARN DAGScheduler: Broadcasting large task binary with size 1130.9 KiB\n",
      "25/05/10 21:43:02 WARN DAGScheduler: Broadcasting large task binary with size 1130.9 KiB\n",
      "25/05/10 21:43:02 WARN DAGScheduler: Broadcasting large task binary with size 1112.4 KiB\n"
     ]
    },
    {
     "name": "stderr",
     "output_type": "stream",
     "text": [
      "                                                                                "
     ]
    },
    {
     "name": "stdout",
     "output_type": "stream",
     "text": [
      "25/05/10 21:43:06 WARN DAGScheduler: Broadcasting large task binary with size 1130.8 KiB\n",
      "25/05/10 21:43:06 WARN DAGScheduler: Broadcasting large task binary with size 1130.8 KiB\n",
      "25/05/10 21:43:06 WARN DAGScheduler: Broadcasting large task binary with size 1130.8 KiB\n",
      "25/05/10 21:43:06 WARN DAGScheduler: Broadcasting large task binary with size 1114.4 KiB\n",
      "25/05/10 21:43:07 WARN DAGScheduler: Broadcasting large task binary with size 1130.8 KiB\n",
      "25/05/10 21:43:07 WARN DAGScheduler: Broadcasting large task binary with size 1130.9 KiB\n",
      "25/05/10 21:43:07 WARN DAGScheduler: Broadcasting large task binary with size 1130.9 KiB\n",
      "25/05/10 21:43:07 WARN DAGScheduler: Broadcasting large task binary with size 1130.9 KiB\n"
     ]
    },
    {
     "name": "stderr",
     "output_type": "stream",
     "text": [
      "                                                                                "
     ]
    },
    {
     "name": "stdout",
     "output_type": "stream",
     "text": [
      "25/05/10 21:43:11 WARN DAGScheduler: Broadcasting large task binary with size 1130.8 KiB\n",
      "25/05/10 21:43:11 WARN DAGScheduler: Broadcasting large task binary with size 1130.8 KiB\n",
      "25/05/10 21:43:11 WARN DAGScheduler: Broadcasting large task binary with size 1130.8 KiB\n",
      "25/05/10 21:43:11 WARN DAGScheduler: Broadcasting large task binary with size 1114.4 KiB\n"
     ]
    },
    {
     "name": "stderr",
     "output_type": "stream",
     "text": [
      "                                                                                "
     ]
    },
    {
     "name": "stdout",
     "output_type": "stream",
     "text": [
      "25/05/10 21:43:17 WARN DAGScheduler: Broadcasting large task binary with size 1130.8 KiB\n"
     ]
    },
    {
     "name": "stderr",
     "output_type": "stream",
     "text": [
      "                                                                                "
     ]
    },
    {
     "name": "stdout",
     "output_type": "stream",
     "text": [
      "25/05/10 21:43:20 WARN DAGScheduler: Broadcasting large task binary with size 1130.9 KiB\n",
      "25/05/10 21:43:21 WARN DAGScheduler: Broadcasting large task binary with size 1130.9 KiB\n",
      "25/05/10 21:43:21 WARN DAGScheduler: Broadcasting large task binary with size 1130.9 KiB\n",
      "25/05/10 21:43:21 WARN DAGScheduler: Broadcasting large task binary with size 1130.8 KiB\n",
      "25/05/10 21:43:21 WARN DAGScheduler: Broadcasting large task binary with size 1130.8 KiB\n",
      "25/05/10 21:43:21 WARN DAGScheduler: Broadcasting large task binary with size 1130.8 KiB\n"
     ]
    },
    {
     "name": "stderr",
     "output_type": "stream",
     "text": [
      "                                                                                "
     ]
    },
    {
     "name": "stdout",
     "output_type": "stream",
     "text": [
      "25/05/10 21:43:27 WARN DAGScheduler: Broadcasting large task binary with size 1130.8 KiB\n",
      "25/05/10 21:43:27 WARN DAGScheduler: Broadcasting large task binary with size 1130.9 KiB\n",
      "25/05/10 21:43:27 WARN DAGScheduler: Broadcasting large task binary with size 1130.9 KiB\n"
     ]
    },
    {
     "name": "stderr",
     "output_type": "stream",
     "text": [
      "                                                                                "
     ]
    },
    {
     "name": "stdout",
     "output_type": "stream",
     "text": [
      "25/05/10 21:43:29 WARN DAGScheduler: Broadcasting large task binary with size 1130.9 KiB\n",
      "25/05/10 21:43:29 WARN DAGScheduler: Broadcasting large task binary with size 1130.8 KiB\n",
      "25/05/10 21:43:29 WARN DAGScheduler: Broadcasting large task binary with size 1130.8 KiB\n",
      "25/05/10 21:43:29 WARN DAGScheduler: Broadcasting large task binary with size 1130.8 KiB\n",
      "25/05/10 21:43:29 WARN DAGScheduler: Broadcasting large task binary with size 1130.8 KiB\n",
      "25/05/10 21:43:29 WARN DAGScheduler: Broadcasting large task binary with size 1130.9 KiB\n",
      "25/05/10 21:43:29 WARN DAGScheduler: Broadcasting large task binary with size 1130.9 KiB\n",
      "25/05/10 21:43:29 WARN DAGScheduler: Broadcasting large task binary with size 1130.9 KiB\n",
      "25/05/10 21:43:29 WARN DAGScheduler: Broadcasting large task binary with size 1130.8 KiB\n",
      "25/05/10 21:43:29 WARN DAGScheduler: Broadcasting large task binary with size 1130.8 KiB\n",
      "25/05/10 21:43:29 WARN DAGScheduler: Broadcasting large task binary with size 1130.8 KiB\n",
      "25/05/10 21:43:29 WARN DAGScheduler: Broadcasting large task binary with size 1130.8 KiB\n",
      "25/05/10 21:43:29 WARN DAGScheduler: Broadcasting large task binary with size 1129.7 KiB\n",
      "25/05/10 21:43:29 WARN DAGScheduler: Broadcasting large task binary with size 1130.9 KiB\n",
      "25/05/10 21:43:29 WARN DAGScheduler: Broadcasting large task binary with size 1130.9 KiB\n",
      "25/05/10 21:43:29 WARN DAGScheduler: Broadcasting large task binary with size 1130.9 KiB\n",
      "25/05/10 21:43:30 WARN DAGScheduler: Broadcasting large task binary with size 1130.8 KiB\n",
      "25/05/10 21:43:30 WARN DAGScheduler: Broadcasting large task binary with size 1130.8 KiB\n",
      "25/05/10 21:43:30 WARN DAGScheduler: Broadcasting large task binary with size 1130.8 KiB\n",
      "25/05/10 21:43:30 WARN DAGScheduler: Broadcasting large task binary with size 1130.8 KiB\n",
      "25/05/10 21:43:30 WARN DAGScheduler: Broadcasting large task binary with size 1129.7 KiB\n"
     ]
    },
    {
     "name": "stderr",
     "output_type": "stream",
     "text": [
      "                                                                                "
     ]
    },
    {
     "name": "stdout",
     "output_type": "stream",
     "text": [
      "25/05/10 21:43:34 WARN DAGScheduler: Broadcasting large task binary with size 1130.9 KiB\n",
      "25/05/10 21:43:34 WARN DAGScheduler: Broadcasting large task binary with size 1130.9 KiB\n",
      "25/05/10 21:43:34 WARN DAGScheduler: Broadcasting large task binary with size 1130.9 KiB\n",
      "25/05/10 21:43:34 WARN DAGScheduler: Broadcasting large task binary with size 1130.9 KiB\n",
      "25/05/10 21:43:34 WARN DAGScheduler: Broadcasting large task binary with size 1130.8 KiB\n",
      "25/05/10 21:43:34 WARN DAGScheduler: Broadcasting large task binary with size 1130.8 KiB\n",
      "25/05/10 21:43:34 WARN DAGScheduler: Broadcasting large task binary with size 1130.8 KiB\n",
      "25/05/10 21:43:34 WARN DAGScheduler: Broadcasting large task binary with size 1130.8 KiB\n"
     ]
    },
    {
     "name": "stderr",
     "output_type": "stream",
     "text": [
      "                                                                                "
     ]
    },
    {
     "name": "stdout",
     "output_type": "stream",
     "text": [
      "25/05/10 21:43:39 WARN DAGScheduler: Broadcasting large task binary with size 1130.9 KiB\n"
     ]
    },
    {
     "name": "stderr",
     "output_type": "stream",
     "text": [
      "                                                                                "
     ]
    },
    {
     "name": "stdout",
     "output_type": "stream",
     "text": [
      "25/05/10 21:43:43 WARN DAGScheduler: Broadcasting large task binary with size 1130.9 KiB\n",
      "25/05/10 21:43:43 WARN DAGScheduler: Broadcasting large task binary with size 1130.9 KiB\n",
      "25/05/10 21:43:43 WARN DAGScheduler: Broadcasting large task binary with size 1130.9 KiB\n",
      "25/05/10 21:43:44 WARN DAGScheduler: Broadcasting large task binary with size 1130.9 KiB\n",
      "25/05/10 21:43:44 WARN DAGScheduler: Broadcasting large task binary with size 1130.8 KiB\n",
      "25/05/10 21:43:44 WARN DAGScheduler: Broadcasting large task binary with size 1130.8 KiB\n",
      "25/05/10 21:43:44 WARN DAGScheduler: Broadcasting large task binary with size 1130.8 KiB\n",
      "25/05/10 21:43:44 WARN DAGScheduler: Broadcasting large task binary with size 1130.8 KiB\n"
     ]
    },
    {
     "name": "stderr",
     "output_type": "stream",
     "text": [
      "                                                                                "
     ]
    },
    {
     "name": "stdout",
     "output_type": "stream",
     "text": [
      "25/05/10 21:43:48 WARN DAGScheduler: Broadcasting large task binary with size 1130.9 KiB\n",
      "25/05/10 21:43:48 WARN DAGScheduler: Broadcasting large task binary with size 1130.9 KiB\n",
      "25/05/10 21:43:48 WARN DAGScheduler: Broadcasting large task binary with size 1130.9 KiB\n",
      "25/05/10 21:43:48 WARN DAGScheduler: Broadcasting large task binary with size 1130.9 KiB\n",
      "25/05/10 21:43:48 WARN DAGScheduler: Broadcasting large task binary with size 1130.8 KiB\n",
      "25/05/10 21:43:48 WARN DAGScheduler: Broadcasting large task binary with size 1130.8 KiB\n",
      "25/05/10 21:43:48 WARN DAGScheduler: Broadcasting large task binary with size 1130.9 KiB\n",
      "25/05/10 21:43:49 WARN DAGScheduler: Broadcasting large task binary with size 1130.8 KiB\n",
      "25/05/10 21:43:49 WARN DAGScheduler: Broadcasting large task binary with size 1130.8 KiB\n",
      "25/05/10 21:43:49 WARN DAGScheduler: Broadcasting large task binary with size 1130.9 KiB\n",
      "25/05/10 21:43:49 WARN DAGScheduler: Broadcasting large task binary with size 1130.9 KiB\n",
      "25/05/10 21:43:49 WARN DAGScheduler: Broadcasting large task binary with size 1130.9 KiB\n",
      "25/05/10 21:43:49 WARN DAGScheduler: Broadcasting large task binary with size 1130.9 KiB\n",
      "25/05/10 21:43:49 WARN DAGScheduler: Broadcasting large task binary with size 1130.8 KiB\n",
      "25/05/10 21:43:49 WARN DAGScheduler: Broadcasting large task binary with size 1130.8 KiB\n",
      "25/05/10 21:43:49 WARN DAGScheduler: Broadcasting large task binary with size 1130.9 KiB\n",
      "25/05/10 21:43:49 WARN DAGScheduler: Broadcasting large task binary with size 1130.8 KiB\n",
      "25/05/10 21:43:49 WARN DAGScheduler: Broadcasting large task binary with size 1130.9 KiB\n",
      "25/05/10 21:43:49 WARN DAGScheduler: Broadcasting large task binary with size 1130.9 KiB\n",
      "25/05/10 21:43:49 WARN DAGScheduler: Broadcasting large task binary with size 1130.9 KiB\n",
      "25/05/10 21:43:49 WARN DAGScheduler: Broadcasting large task binary with size 1130.8 KiB\n",
      "25/05/10 21:43:49 WARN DAGScheduler: Broadcasting large task binary with size 1130.8 KiB\n",
      "25/05/10 21:43:49 WARN DAGScheduler: Broadcasting large task binary with size 1130.9 KiB\n",
      "25/05/10 21:43:49 WARN DAGScheduler: Broadcasting large task binary with size 1130.9 KiB\n",
      "25/05/10 21:43:49 WARN DAGScheduler: Broadcasting large task binary with size 1130.9 KiB\n",
      "25/05/10 21:43:49 WARN DAGScheduler: Broadcasting large task binary with size 1130.9 KiB\n",
      "25/05/10 21:43:49 WARN DAGScheduler: Broadcasting large task binary with size 1130.8 KiB\n",
      "25/05/10 21:43:49 WARN DAGScheduler: Broadcasting large task binary with size 1130.8 KiB\n",
      "25/05/10 21:43:49 WARN DAGScheduler: Broadcasting large task binary with size 1130.9 KiB\n",
      "25/05/10 21:43:50 WARN DAGScheduler: Broadcasting large task binary with size 1130.9 KiB\n",
      "25/05/10 21:43:50 WARN DAGScheduler: Broadcasting large task binary with size 1130.9 KiB\n",
      "25/05/10 21:43:50 WARN DAGScheduler: Broadcasting large task binary with size 1130.8 KiB\n",
      "25/05/10 21:43:50 WARN DAGScheduler: Broadcasting large task binary with size 1130.9 KiB\n",
      "25/05/10 21:43:50 WARN DAGScheduler: Broadcasting large task binary with size 1130.8 KiB\n",
      "25/05/10 21:43:50 WARN DAGScheduler: Broadcasting large task binary with size 1130.9 KiB\n",
      "25/05/10 21:43:50 WARN DAGScheduler: Broadcasting large task binary with size 1130.8 KiB\n",
      "25/05/10 21:43:50 WARN DAGScheduler: Broadcasting large task binary with size 1130.9 KiB\n",
      "25/05/10 21:43:50 WARN DAGScheduler: Broadcasting large task binary with size 1130.9 KiB\n",
      "25/05/10 21:43:50 WARN DAGScheduler: Broadcasting large task binary with size 1130.8 KiB\n",
      "25/05/10 21:43:50 WARN DAGScheduler: Broadcasting large task binary with size 1130.8 KiB\n",
      "25/05/10 21:43:50 WARN DAGScheduler: Broadcasting large task binary with size 1130.9 KiB\n",
      "25/05/10 21:43:50 WARN DAGScheduler: Broadcasting large task binary with size 1130.8 KiB\n",
      "25/05/10 21:43:50 WARN DAGScheduler: Broadcasting large task binary with size 1130.9 KiB\n",
      "25/05/10 21:43:50 WARN DAGScheduler: Broadcasting large task binary with size 1130.9 KiB\n",
      "25/05/10 21:43:50 WARN DAGScheduler: Broadcasting large task binary with size 1130.9 KiB\n",
      "25/05/10 21:43:50 WARN DAGScheduler: Broadcasting large task binary with size 1130.8 KiB\n",
      "25/05/10 21:43:50 WARN DAGScheduler: Broadcasting large task binary with size 1130.9 KiB\n",
      "25/05/10 21:43:50 WARN DAGScheduler: Broadcasting large task binary with size 1130.9 KiB\n",
      "25/05/10 21:43:50 WARN DAGScheduler: Broadcasting large task binary with size 1130.8 KiB\n",
      "25/05/10 21:43:50 WARN DAGScheduler: Broadcasting large task binary with size 1130.8 KiB\n",
      "25/05/10 21:43:50 WARN DAGScheduler: Broadcasting large task binary with size 1130.9 KiB\n",
      "25/05/10 21:43:50 WARN DAGScheduler: Broadcasting large task binary with size 1130.9 KiB\n",
      "25/05/10 21:43:50 WARN DAGScheduler: Broadcasting large task binary with size 1130.9 KiB\n",
      "25/05/10 21:43:50 WARN DAGScheduler: Broadcasting large task binary with size 1130.9 KiB\n",
      "25/05/10 21:43:50 WARN DAGScheduler: Broadcasting large task binary with size 1130.8 KiB\n",
      "25/05/10 21:43:51 WARN DAGScheduler: Broadcasting large task binary with size 1130.9 KiB\n",
      "25/05/10 21:43:51 WARN DAGScheduler: Broadcasting large task binary with size 1129.6 KiB\n",
      "25/05/10 21:43:51 WARN DAGScheduler: Broadcasting large task binary with size 1130.9 KiB\n",
      "25/05/10 21:43:51 WARN DAGScheduler: Broadcasting large task binary with size 1130.8 KiB\n",
      "25/05/10 21:43:51 WARN DAGScheduler: Broadcasting large task binary with size 1130.9 KiB\n",
      "25/05/10 21:43:51 WARN DAGScheduler: Broadcasting large task binary with size 1130.9 KiB\n",
      "25/05/10 21:43:51 WARN DAGScheduler: Broadcasting large task binary with size 1130.9 KiB\n",
      "25/05/10 21:43:51 WARN DAGScheduler: Broadcasting large task binary with size 1130.8 KiB\n",
      "25/05/10 21:43:51 WARN DAGScheduler: Broadcasting large task binary with size 1130.9 KiB\n",
      "25/05/10 21:43:51 WARN DAGScheduler: Broadcasting large task binary with size 1129.6 KiB\n"
     ]
    },
    {
     "name": "stderr",
     "output_type": "stream",
     "text": [
      "                                                                                "
     ]
    },
    {
     "name": "stdout",
     "output_type": "stream",
     "text": [
      "25/05/10 21:43:55 WARN DAGScheduler: Broadcasting large task binary with size 1130.8 KiB\n",
      "25/05/10 21:43:55 WARN DAGScheduler: Broadcasting large task binary with size 1130.9 KiB\n",
      "25/05/10 21:43:55 WARN DAGScheduler: Broadcasting large task binary with size 1130.8 KiB\n",
      "25/05/10 21:43:56 WARN DAGScheduler: Broadcasting large task binary with size 1130.9 KiB\n",
      "25/05/10 21:43:56 WARN DAGScheduler: Broadcasting large task binary with size 1130.9 KiB\n",
      "25/05/10 21:43:56 WARN DAGScheduler: Broadcasting large task binary with size 1130.9 KiB\n",
      "25/05/10 21:43:56 WARN DAGScheduler: Broadcasting large task binary with size 1130.8 KiB\n",
      "25/05/10 21:43:56 WARN DAGScheduler: Broadcasting large task binary with size 1130.9 KiB\n"
     ]
    },
    {
     "name": "stderr",
     "output_type": "stream",
     "text": [
      "                                                                                "
     ]
    },
    {
     "name": "stdout",
     "output_type": "stream",
     "text": [
      "25/05/10 21:44:00 WARN DAGScheduler: Broadcasting large task binary with size 1130.8 KiB\n"
     ]
    },
    {
     "name": "stderr",
     "output_type": "stream",
     "text": [
      "                                                                                "
     ]
    },
    {
     "name": "stdout",
     "output_type": "stream",
     "text": [
      "25/05/10 21:44:05 WARN DAGScheduler: Broadcasting large task binary with size 1130.8 KiB\n",
      "25/05/10 21:44:05 WARN DAGScheduler: Broadcasting large task binary with size 1130.9 KiB\n",
      "25/05/10 21:44:05 WARN DAGScheduler: Broadcasting large task binary with size 1130.8 KiB\n",
      "25/05/10 21:44:05 WARN DAGScheduler: Broadcasting large task binary with size 1130.9 KiB\n",
      "25/05/10 21:44:05 WARN DAGScheduler: Broadcasting large task binary with size 1130.9 KiB\n",
      "25/05/10 21:44:05 WARN DAGScheduler: Broadcasting large task binary with size 1130.9 KiB\n",
      "25/05/10 21:44:05 WARN DAGScheduler: Broadcasting large task binary with size 1130.8 KiB\n",
      "25/05/10 21:44:05 WARN DAGScheduler: Broadcasting large task binary with size 1130.9 KiB\n"
     ]
    },
    {
     "name": "stderr",
     "output_type": "stream",
     "text": [
      "                                                                                "
     ]
    },
    {
     "name": "stdout",
     "output_type": "stream",
     "text": [
      "25/05/10 21:44:09 WARN DAGScheduler: Broadcasting large task binary with size 1130.8 KiB\n",
      "25/05/10 21:44:09 WARN DAGScheduler: Broadcasting large task binary with size 1130.8 KiB\n",
      "25/05/10 21:44:09 WARN DAGScheduler: Broadcasting large task binary with size 1130.9 KiB\n",
      "25/05/10 21:44:09 WARN DAGScheduler: Broadcasting large task binary with size 1130.8 KiB\n",
      "25/05/10 21:44:10 WARN DAGScheduler: Broadcasting large task binary with size 1130.9 KiB\n",
      "25/05/10 21:44:10 WARN DAGScheduler: Broadcasting large task binary with size 1130.9 KiB\n",
      "25/05/10 21:44:10 WARN DAGScheduler: Broadcasting large task binary with size 1130.9 KiB\n",
      "25/05/10 21:44:10 WARN DAGScheduler: Broadcasting large task binary with size 1130.8 KiB\n",
      "25/05/10 21:44:10 WARN DAGScheduler: Broadcasting large task binary with size 1130.9 KiB\n",
      "25/05/10 21:44:10 WARN DAGScheduler: Broadcasting large task binary with size 1130.8 KiB\n",
      "25/05/10 21:44:10 WARN DAGScheduler: Broadcasting large task binary with size 1130.9 KiB\n",
      "25/05/10 21:44:10 WARN DAGScheduler: Broadcasting large task binary with size 1130.8 KiB\n",
      "25/05/10 21:44:10 WARN DAGScheduler: Broadcasting large task binary with size 1130.9 KiB\n",
      "25/05/10 21:44:10 WARN DAGScheduler: Broadcasting large task binary with size 1130.9 KiB\n",
      "25/05/10 21:44:10 WARN DAGScheduler: Broadcasting large task binary with size 1130.8 KiB\n",
      "25/05/10 21:44:10 WARN DAGScheduler: Broadcasting large task binary with size 1130.9 KiB\n",
      "25/05/10 21:44:10 WARN DAGScheduler: Broadcasting large task binary with size 1130.8 KiB\n",
      "25/05/10 21:44:10 WARN DAGScheduler: Broadcasting large task binary with size 1130.8 KiB\n",
      "25/05/10 21:44:10 WARN DAGScheduler: Broadcasting large task binary with size 1130.8 KiB\n",
      "25/05/10 21:44:10 WARN DAGScheduler: Broadcasting large task binary with size 1130.9 KiB\n",
      "25/05/10 21:44:10 WARN DAGScheduler: Broadcasting large task binary with size 1130.9 KiB\n",
      "25/05/10 21:44:10 WARN DAGScheduler: Broadcasting large task binary with size 1130.9 KiB\n",
      "25/05/10 21:44:10 WARN DAGScheduler: Broadcasting large task binary with size 1130.9 KiB\n",
      "25/05/10 21:44:10 WARN DAGScheduler: Broadcasting large task binary with size 1130.8 KiB\n",
      "25/05/10 21:44:10 WARN DAGScheduler: Broadcasting large task binary with size 1130.9 KiB\n",
      "25/05/10 21:44:10 WARN DAGScheduler: Broadcasting large task binary with size 1130.8 KiB\n",
      "25/05/10 21:44:10 WARN DAGScheduler: Broadcasting large task binary with size 1130.8 KiB\n",
      "25/05/10 21:44:10 WARN DAGScheduler: Broadcasting large task binary with size 1130.9 KiB\n",
      "25/05/10 21:44:11 WARN DAGScheduler: Broadcasting large task binary with size 1130.9 KiB\n",
      "25/05/10 21:44:11 WARN DAGScheduler: Broadcasting large task binary with size 1130.8 KiB\n",
      "25/05/10 21:44:11 WARN DAGScheduler: Broadcasting large task binary with size 1130.9 KiB\n",
      "25/05/10 21:44:11 WARN DAGScheduler: Broadcasting large task binary with size 1130.9 KiB\n",
      "25/05/10 21:44:11 WARN DAGScheduler: Broadcasting large task binary with size 1130.8 KiB\n",
      "25/05/10 21:44:11 WARN DAGScheduler: Broadcasting large task binary with size 1130.9 KiB\n",
      "25/05/10 21:44:11 WARN DAGScheduler: Broadcasting large task binary with size 1130.8 KiB\n",
      "25/05/10 21:44:11 WARN DAGScheduler: Broadcasting large task binary with size 1130.8 KiB\n",
      "25/05/10 21:44:11 WARN DAGScheduler: Broadcasting large task binary with size 1130.9 KiB\n",
      "25/05/10 21:44:11 WARN DAGScheduler: Broadcasting large task binary with size 1130.8 KiB\n",
      "25/05/10 21:44:11 WARN DAGScheduler: Broadcasting large task binary with size 1130.9 KiB\n",
      "25/05/10 21:44:11 WARN DAGScheduler: Broadcasting large task binary with size 1130.9 KiB\n",
      "25/05/10 21:44:11 WARN DAGScheduler: Broadcasting large task binary with size 1130.9 KiB\n",
      "25/05/10 21:44:11 WARN DAGScheduler: Broadcasting large task binary with size 1130.8 KiB\n",
      "25/05/10 21:44:11 WARN DAGScheduler: Broadcasting large task binary with size 1130.8 KiB\n",
      "25/05/10 21:44:11 WARN DAGScheduler: Broadcasting large task binary with size 1130.9 KiB\n",
      "25/05/10 21:44:11 WARN DAGScheduler: Broadcasting large task binary with size 1130.8 KiB\n",
      "25/05/10 21:44:11 WARN DAGScheduler: Broadcasting large task binary with size 1130.9 KiB\n",
      "25/05/10 21:44:11 WARN DAGScheduler: Broadcasting large task binary with size 1130.8 KiB\n",
      "25/05/10 21:44:11 WARN DAGScheduler: Broadcasting large task binary with size 1130.9 KiB\n",
      "25/05/10 21:44:11 WARN DAGScheduler: Broadcasting large task binary with size 1130.8 KiB\n",
      "25/05/10 21:44:11 WARN DAGScheduler: Broadcasting large task binary with size 1130.8 KiB\n",
      "25/05/10 21:44:11 WARN DAGScheduler: Broadcasting large task binary with size 1130.9 KiB\n",
      "25/05/10 21:44:11 WARN DAGScheduler: Broadcasting large task binary with size 1130.9 KiB\n",
      "25/05/10 21:44:11 WARN DAGScheduler: Broadcasting large task binary with size 1130.9 KiB\n",
      "25/05/10 21:44:11 WARN DAGScheduler: Broadcasting large task binary with size 1130.8 KiB\n",
      "25/05/10 21:44:11 WARN DAGScheduler: Broadcasting large task binary with size 1130.9 KiB\n",
      "25/05/10 21:44:11 WARN DAGScheduler: Broadcasting large task binary with size 1130.8 KiB\n",
      "25/05/10 21:44:12 WARN DAGScheduler: Broadcasting large task binary with size 1130.9 KiB\n",
      "25/05/10 21:44:12 WARN DAGScheduler: Broadcasting large task binary with size 1130.8 KiB\n",
      "25/05/10 21:44:12 WARN DAGScheduler: Broadcasting large task binary with size 1130.9 KiB\n",
      "25/05/10 21:44:12 WARN DAGScheduler: Broadcasting large task binary with size 1130.9 KiB\n",
      "25/05/10 21:44:12 WARN DAGScheduler: Broadcasting large task binary with size 1130.8 KiB\n",
      "25/05/10 21:44:12 WARN DAGScheduler: Broadcasting large task binary with size 1130.9 KiB\n",
      "25/05/10 21:44:12 WARN DAGScheduler: Broadcasting large task binary with size 1130.8 KiB\n",
      "25/05/10 21:44:12 WARN DAGScheduler: Broadcasting large task binary with size 1130.8 KiB\n",
      "25/05/10 21:44:12 WARN DAGScheduler: Broadcasting large task binary with size 1130.9 KiB\n",
      "25/05/10 21:44:12 WARN DAGScheduler: Broadcasting large task binary with size 1130.8 KiB\n",
      "25/05/10 21:44:12 WARN DAGScheduler: Broadcasting large task binary with size 1130.9 KiB\n",
      "25/05/10 21:44:12 WARN DAGScheduler: Broadcasting large task binary with size 1130.9 KiB\n",
      "25/05/10 21:44:12 WARN DAGScheduler: Broadcasting large task binary with size 1130.9 KiB\n",
      "25/05/10 21:44:12 WARN DAGScheduler: Broadcasting large task binary with size 1130.9 KiB\n",
      "25/05/10 21:44:12 WARN DAGScheduler: Broadcasting large task binary with size 1130.9 KiB\n",
      "25/05/10 21:44:12 WARN DAGScheduler: Broadcasting large task binary with size 1130.9 KiB\n",
      "25/05/10 21:44:12 WARN DAGScheduler: Broadcasting large task binary with size 1130.8 KiB\n",
      "25/05/10 21:44:12 WARN DAGScheduler: Broadcasting large task binary with size 1130.8 KiB\n",
      "25/05/10 21:44:12 WARN DAGScheduler: Broadcasting large task binary with size 1130.9 KiB\n",
      "25/05/10 21:44:12 WARN DAGScheduler: Broadcasting large task binary with size 1130.8 KiB\n",
      "25/05/10 21:44:12 WARN DAGScheduler: Broadcasting large task binary with size 1130.8 KiB\n",
      "25/05/10 21:44:13 WARN DAGScheduler: Broadcasting large task binary with size 1130.9 KiB\n",
      "25/05/10 21:44:13 WARN DAGScheduler: Broadcasting large task binary with size 1130.8 KiB\n",
      "25/05/10 21:44:13 WARN DAGScheduler: Broadcasting large task binary with size 1130.9 KiB\n",
      "25/05/10 21:44:13 WARN DAGScheduler: Broadcasting large task binary with size 1130.8 KiB\n",
      "25/05/10 21:44:13 WARN DAGScheduler: Broadcasting large task binary with size 1130.9 KiB\n",
      "25/05/10 21:44:13 WARN DAGScheduler: Broadcasting large task binary with size 1130.9 KiB\n",
      "25/05/10 21:44:13 WARN DAGScheduler: Broadcasting large task binary with size 1130.8 KiB\n",
      "25/05/10 21:44:13 WARN DAGScheduler: Broadcasting large task binary with size 1130.9 KiB\n",
      "25/05/10 21:44:13 WARN DAGScheduler: Broadcasting large task binary with size 1130.9 KiB\n",
      "25/05/10 21:44:13 WARN DAGScheduler: Broadcasting large task binary with size 1130.8 KiB\n"
     ]
    },
    {
     "name": "stderr",
     "output_type": "stream",
     "text": [
      "                                                                                "
     ]
    },
    {
     "name": "stdout",
     "output_type": "stream",
     "text": [
      "25/05/10 21:44:14 WARN DAGScheduler: Broadcasting large task binary with size 1130.9 KiB\n",
      "25/05/10 21:44:14 WARN DAGScheduler: Broadcasting large task binary with size 1130.9 KiB\n",
      "25/05/10 21:44:14 WARN DAGScheduler: Broadcasting large task binary with size 1130.8 KiB\n",
      "25/05/10 21:44:14 WARN DAGScheduler: Broadcasting large task binary with size 1130.8 KiB\n",
      "25/05/10 21:44:14 WARN DAGScheduler: Broadcasting large task binary with size 1129.7 KiB\n",
      "25/05/10 21:44:14 WARN DAGScheduler: Broadcasting large task binary with size 1130.9 KiB\n",
      "25/05/10 21:44:14 WARN DAGScheduler: Broadcasting large task binary with size 1130.8 KiB\n",
      "25/05/10 21:44:14 WARN DAGScheduler: Broadcasting large task binary with size 1130.8 KiB\n",
      "25/05/10 21:44:14 WARN DAGScheduler: Broadcasting large task binary with size 1130.9 KiB\n",
      "25/05/10 21:44:14 WARN DAGScheduler: Broadcasting large task binary with size 1130.9 KiB\n",
      "25/05/10 21:44:14 WARN DAGScheduler: Broadcasting large task binary with size 1130.9 KiB\n",
      "25/05/10 21:44:14 WARN DAGScheduler: Broadcasting large task binary with size 1130.8 KiB\n",
      "25/05/10 21:44:14 WARN DAGScheduler: Broadcasting large task binary with size 1130.8 KiB\n"
     ]
    },
    {
     "name": "stderr",
     "output_type": "stream",
     "text": [
      "                                                                                "
     ]
    },
    {
     "name": "stdout",
     "output_type": "stream",
     "text": [
      "25/05/10 21:44:19 WARN DAGScheduler: Broadcasting large task binary with size 1130.9 KiB\n",
      "25/05/10 21:44:19 WARN DAGScheduler: Broadcasting large task binary with size 1130.9 KiB\n",
      "25/05/10 21:44:19 WARN DAGScheduler: Broadcasting large task binary with size 1130.9 KiB\n",
      "25/05/10 21:44:19 WARN DAGScheduler: Broadcasting large task binary with size 1130.8 KiB\n",
      "25/05/10 21:44:19 WARN DAGScheduler: Broadcasting large task binary with size 1130.9 KiB\n",
      "25/05/10 21:44:19 WARN DAGScheduler: Broadcasting large task binary with size 1130.8 KiB\n",
      "25/05/10 21:44:19 WARN DAGScheduler: Broadcasting large task binary with size 1130.9 KiB\n",
      "25/05/10 21:44:19 WARN DAGScheduler: Broadcasting large task binary with size 1130.8 KiB\n",
      "25/05/10 21:44:19 WARN DAGScheduler: Broadcasting large task binary with size 1130.8 KiB\n"
     ]
    },
    {
     "name": "stderr",
     "output_type": "stream",
     "text": [
      "                                                                                "
     ]
    },
    {
     "name": "stdout",
     "output_type": "stream",
     "text": [
      "25/05/10 21:44:23 WARN DAGScheduler: Broadcasting large task binary with size 1130.9 KiB\n",
      "25/05/10 21:44:23 WARN DAGScheduler: Broadcasting large task binary with size 1130.9 KiB\n",
      "25/05/10 21:44:24 WARN DAGScheduler: Broadcasting large task binary with size 1130.8 KiB\n",
      "25/05/10 21:44:24 WARN DAGScheduler: Broadcasting large task binary with size 1130.9 KiB\n",
      "25/05/10 21:44:24 WARN DAGScheduler: Broadcasting large task binary with size 1130.8 KiB\n",
      "25/05/10 21:44:24 WARN DAGScheduler: Broadcasting large task binary with size 1130.8 KiB\n",
      "25/05/10 21:44:24 WARN DAGScheduler: Broadcasting large task binary with size 1130.8 KiB\n",
      "25/05/10 21:44:24 WARN DAGScheduler: Broadcasting large task binary with size 1130.9 KiB\n",
      "25/05/10 21:44:24 WARN DAGScheduler: Broadcasting large task binary with size 1130.8 KiB\n",
      "25/05/10 21:44:24 WARN DAGScheduler: Broadcasting large task binary with size 1130.9 KiB\n",
      "25/05/10 21:44:24 WARN DAGScheduler: Broadcasting large task binary with size 1130.8 KiB\n",
      "25/05/10 21:44:24 WARN DAGScheduler: Broadcasting large task binary with size 1130.8 KiB\n",
      "25/05/10 21:44:24 WARN DAGScheduler: Broadcasting large task binary with size 1130.9 KiB\n",
      "25/05/10 21:44:24 WARN DAGScheduler: Broadcasting large task binary with size 1129.7 KiB\n",
      "25/05/10 21:44:24 WARN DAGScheduler: Broadcasting large task binary with size 1129.7 KiB\n",
      "25/05/10 21:44:24 WARN DAGScheduler: Broadcasting large task binary with size 1130.9 KiB\n",
      "25/05/10 21:44:24 WARN DAGScheduler: Broadcasting large task binary with size 1130.8 KiB\n",
      "25/05/10 21:44:24 WARN DAGScheduler: Broadcasting large task binary with size 1130.8 KiB\n",
      "25/05/10 21:44:24 WARN DAGScheduler: Broadcasting large task binary with size 1130.8 KiB\n",
      "25/05/10 21:44:24 WARN DAGScheduler: Broadcasting large task binary with size 1130.8 KiB\n",
      "25/05/10 21:44:24 WARN DAGScheduler: Broadcasting large task binary with size 1130.9 KiB\n",
      "25/05/10 21:44:24 WARN DAGScheduler: Broadcasting large task binary with size 1130.9 KiB\n"
     ]
    },
    {
     "name": "stderr",
     "output_type": "stream",
     "text": [
      "                                                                                "
     ]
    },
    {
     "name": "stdout",
     "output_type": "stream",
     "text": [
      "25/05/10 21:44:29 WARN DAGScheduler: Broadcasting large task binary with size 1130.9 KiB\n"
     ]
    },
    {
     "name": "stderr",
     "output_type": "stream",
     "text": [
      "                                                                                "
     ]
    },
    {
     "name": "stdout",
     "output_type": "stream",
     "text": [
      "25/05/10 21:44:33 WARN DAGScheduler: Broadcasting large task binary with size 1130.9 KiB\n",
      "25/05/10 21:44:33 WARN DAGScheduler: Broadcasting large task binary with size 1130.8 KiB\n",
      "25/05/10 21:44:33 WARN DAGScheduler: Broadcasting large task binary with size 1130.9 KiB\n",
      "25/05/10 21:44:34 WARN DAGScheduler: Broadcasting large task binary with size 1130.8 KiB\n",
      "25/05/10 21:44:34 WARN DAGScheduler: Broadcasting large task binary with size 1130.8 KiB\n",
      "25/05/10 21:44:34 WARN DAGScheduler: Broadcasting large task binary with size 1130.8 KiB\n",
      "25/05/10 21:44:34 WARN DAGScheduler: Broadcasting large task binary with size 1130.9 KiB\n",
      "25/05/10 21:44:34 WARN DAGScheduler: Broadcasting large task binary with size 1130.9 KiB\n"
     ]
    },
    {
     "name": "stderr",
     "output_type": "stream",
     "text": [
      "                                                                                "
     ]
    },
    {
     "name": "stdout",
     "output_type": "stream",
     "text": [
      "25/05/10 21:44:38 WARN DAGScheduler: Broadcasting large task binary with size 1130.9 KiB\n"
     ]
    },
    {
     "name": "stderr",
     "output_type": "stream",
     "text": [
      "                                                                                "
     ]
    },
    {
     "name": "stdout",
     "output_type": "stream",
     "text": [
      "25/05/10 21:44:43 WARN DAGScheduler: Broadcasting large task binary with size 1130.9 KiB\n",
      "25/05/10 21:44:43 WARN DAGScheduler: Broadcasting large task binary with size 1130.8 KiB\n",
      "25/05/10 21:44:43 WARN DAGScheduler: Broadcasting large task binary with size 1130.9 KiB\n",
      "25/05/10 21:44:43 WARN DAGScheduler: Broadcasting large task binary with size 1130.8 KiB\n",
      "25/05/10 21:44:43 WARN DAGScheduler: Broadcasting large task binary with size 1130.8 KiB\n",
      "25/05/10 21:44:43 WARN DAGScheduler: Broadcasting large task binary with size 1130.9 KiB\n",
      "25/05/10 21:44:43 WARN DAGScheduler: Broadcasting large task binary with size 1130.9 KiB\n",
      "25/05/10 21:44:43 WARN DAGScheduler: Broadcasting large task binary with size 1130.9 KiB\n",
      "25/05/10 21:44:43 WARN DAGScheduler: Broadcasting large task binary with size 1130.8 KiB\n",
      "25/05/10 21:44:43 WARN DAGScheduler: Broadcasting large task binary with size 1130.9 KiB\n",
      "25/05/10 21:44:43 WARN DAGScheduler: Broadcasting large task binary with size 1130.8 KiB\n",
      "25/05/10 21:44:43 WARN DAGScheduler: Broadcasting large task binary with size 1130.8 KiB\n",
      "25/05/10 21:44:44 WARN DAGScheduler: Broadcasting large task binary with size 1130.9 KiB\n",
      "25/05/10 21:44:44 WARN DAGScheduler: Broadcasting large task binary with size 1130.9 KiB\n",
      "25/05/10 21:44:44 WARN DAGScheduler: Broadcasting large task binary with size 1130.9 KiB\n",
      "25/05/10 21:44:44 WARN DAGScheduler: Broadcasting large task binary with size 1130.9 KiB\n",
      "25/05/10 21:44:44 WARN DAGScheduler: Broadcasting large task binary with size 1130.8 KiB\n",
      "25/05/10 21:44:44 WARN DAGScheduler: Broadcasting large task binary with size 1130.8 KiB\n",
      "25/05/10 21:44:44 WARN DAGScheduler: Broadcasting large task binary with size 1130.9 KiB\n",
      "25/05/10 21:44:44 WARN DAGScheduler: Broadcasting large task binary with size 1130.8 KiB\n",
      "25/05/10 21:44:44 WARN DAGScheduler: Broadcasting large task binary with size 1130.8 KiB\n",
      "25/05/10 21:44:44 WARN DAGScheduler: Broadcasting large task binary with size 1130.9 KiB\n",
      "25/05/10 21:44:44 WARN DAGScheduler: Broadcasting large task binary with size 1130.9 KiB\n",
      "25/05/10 21:44:44 WARN DAGScheduler: Broadcasting large task binary with size 1130.9 KiB\n",
      "25/05/10 21:44:44 WARN DAGScheduler: Broadcasting large task binary with size 1130.8 KiB\n",
      "25/05/10 21:44:44 WARN DAGScheduler: Broadcasting large task binary with size 1130.9 KiB\n",
      "25/05/10 21:44:44 WARN DAGScheduler: Broadcasting large task binary with size 1130.9 KiB\n",
      "25/05/10 21:44:44 WARN DAGScheduler: Broadcasting large task binary with size 1130.8 KiB\n",
      "25/05/10 21:44:44 WARN DAGScheduler: Broadcasting large task binary with size 1130.9 KiB\n",
      "25/05/10 21:44:44 WARN DAGScheduler: Broadcasting large task binary with size 1130.9 KiB\n",
      "25/05/10 21:44:44 WARN DAGScheduler: Broadcasting large task binary with size 1130.9 KiB\n",
      "25/05/10 21:44:44 WARN DAGScheduler: Broadcasting large task binary with size 1130.8 KiB\n",
      "25/05/10 21:44:44 WARN DAGScheduler: Broadcasting large task binary with size 1130.9 KiB\n",
      "25/05/10 21:44:44 WARN DAGScheduler: Broadcasting large task binary with size 1130.9 KiB\n",
      "25/05/10 21:44:44 WARN DAGScheduler: Broadcasting large task binary with size 1130.9 KiB\n",
      "25/05/10 21:44:44 WARN DAGScheduler: Broadcasting large task binary with size 1130.9 KiB\n",
      "25/05/10 21:44:44 WARN DAGScheduler: Broadcasting large task binary with size 1130.8 KiB\n",
      "25/05/10 21:44:44 WARN DAGScheduler: Broadcasting large task binary with size 1130.8 KiB\n",
      "25/05/10 21:44:45 WARN DAGScheduler: Broadcasting large task binary with size 1130.9 KiB\n",
      "25/05/10 21:44:45 WARN DAGScheduler: Broadcasting large task binary with size 1130.8 KiB\n",
      "25/05/10 21:44:45 WARN DAGScheduler: Broadcasting large task binary with size 1129.6 KiB\n",
      "25/05/10 21:44:45 WARN DAGScheduler: Broadcasting large task binary with size 1130.9 KiB\n",
      "25/05/10 21:44:45 WARN DAGScheduler: Broadcasting large task binary with size 1130.9 KiB\n",
      "25/05/10 21:44:45 WARN DAGScheduler: Broadcasting large task binary with size 1130.9 KiB\n",
      "25/05/10 21:44:45 WARN DAGScheduler: Broadcasting large task binary with size 1130.9 KiB\n",
      "25/05/10 21:44:45 WARN DAGScheduler: Broadcasting large task binary with size 1130.8 KiB\n",
      "25/05/10 21:44:45 WARN DAGScheduler: Broadcasting large task binary with size 1130.8 KiB\n",
      "25/05/10 21:44:45 WARN DAGScheduler: Broadcasting large task binary with size 1130.9 KiB\n",
      "25/05/10 21:44:45 WARN DAGScheduler: Broadcasting large task binary with size 1130.8 KiB\n"
     ]
    },
    {
     "name": "stderr",
     "output_type": "stream",
     "text": [
      "                                                                                "
     ]
    },
    {
     "name": "stdout",
     "output_type": "stream",
     "text": [
      "25/05/10 21:44:49 WARN DAGScheduler: Broadcasting large task binary with size 1130.8 KiB\n",
      "25/05/10 21:44:49 WARN DAGScheduler: Broadcasting large task binary with size 1130.9 KiB\n",
      "25/05/10 21:44:49 WARN DAGScheduler: Broadcasting large task binary with size 1130.9 KiB\n",
      "25/05/10 21:44:50 WARN DAGScheduler: Broadcasting large task binary with size 1130.9 KiB\n",
      "25/05/10 21:44:50 WARN DAGScheduler: Broadcasting large task binary with size 1130.8 KiB\n",
      "25/05/10 21:44:50 WARN DAGScheduler: Broadcasting large task binary with size 1130.9 KiB\n",
      "25/05/10 21:44:50 WARN DAGScheduler: Broadcasting large task binary with size 1130.8 KiB\n",
      "25/05/10 21:44:50 WARN DAGScheduler: Broadcasting large task binary with size 1130.9 KiB\n",
      "25/05/10 21:44:50 WARN DAGScheduler: Broadcasting large task binary with size 1130.8 KiB\n"
     ]
    },
    {
     "name": "stderr",
     "output_type": "stream",
     "text": [
      "                                                                                "
     ]
    },
    {
     "name": "stdout",
     "output_type": "stream",
     "text": [
      "25/05/10 21:44:54 WARN DAGScheduler: Broadcasting large task binary with size 1130.8 KiB\n",
      "25/05/10 21:44:54 WARN DAGScheduler: Broadcasting large task binary with size 1130.9 KiB\n",
      "25/05/10 21:44:54 WARN DAGScheduler: Broadcasting large task binary with size 1130.9 KiB\n",
      "25/05/10 21:44:54 WARN DAGScheduler: Broadcasting large task binary with size 1130.9 KiB\n",
      "25/05/10 21:44:54 WARN DAGScheduler: Broadcasting large task binary with size 1130.8 KiB\n",
      "25/05/10 21:44:55 WARN DAGScheduler: Broadcasting large task binary with size 1130.8 KiB\n",
      "25/05/10 21:44:55 WARN DAGScheduler: Broadcasting large task binary with size 1130.9 KiB\n",
      "25/05/10 21:44:55 WARN DAGScheduler: Broadcasting large task binary with size 1130.9 KiB\n",
      "25/05/10 21:44:55 WARN DAGScheduler: Broadcasting large task binary with size 1130.8 KiB\n",
      "25/05/10 21:44:55 WARN DAGScheduler: Broadcasting large task binary with size 1130.9 KiB\n",
      "25/05/10 21:44:55 WARN DAGScheduler: Broadcasting large task binary with size 1130.8 KiB\n",
      "25/05/10 21:44:55 WARN DAGScheduler: Broadcasting large task binary with size 1130.9 KiB\n",
      "25/05/10 21:44:55 WARN DAGScheduler: Broadcasting large task binary with size 1130.8 KiB\n",
      "25/05/10 21:44:55 WARN DAGScheduler: Broadcasting large task binary with size 1130.9 KiB\n",
      "25/05/10 21:44:55 WARN DAGScheduler: Broadcasting large task binary with size 1130.9 KiB\n",
      "25/05/10 21:44:55 WARN DAGScheduler: Broadcasting large task binary with size 1130.9 KiB\n",
      "25/05/10 21:44:55 WARN DAGScheduler: Broadcasting large task binary with size 1130.9 KiB\n",
      "25/05/10 21:44:55 WARN DAGScheduler: Broadcasting large task binary with size 1130.8 KiB\n",
      "25/05/10 21:44:55 WARN DAGScheduler: Broadcasting large task binary with size 1130.8 KiB\n",
      "25/05/10 21:44:55 WARN DAGScheduler: Broadcasting large task binary with size 1130.8 KiB\n",
      "25/05/10 21:44:55 WARN DAGScheduler: Broadcasting large task binary with size 1130.9 KiB\n",
      "25/05/10 21:44:55 WARN DAGScheduler: Broadcasting large task binary with size 1130.9 KiB\n",
      "25/05/10 21:44:55 WARN DAGScheduler: Broadcasting large task binary with size 1130.9 KiB\n",
      "25/05/10 21:44:55 WARN DAGScheduler: Broadcasting large task binary with size 1129.6 KiB\n",
      "25/05/10 21:44:55 WARN DAGScheduler: Broadcasting large task binary with size 1130.9 KiB\n",
      "25/05/10 21:44:55 WARN DAGScheduler: Broadcasting large task binary with size 1130.9 KiB\n",
      "25/05/10 21:44:55 WARN DAGScheduler: Broadcasting large task binary with size 1130.8 KiB\n",
      "25/05/10 21:44:56 WARN DAGScheduler: Broadcasting large task binary with size 1130.8 KiB\n",
      "25/05/10 21:44:56 WARN DAGScheduler: Broadcasting large task binary with size 1130.9 KiB\n",
      "25/05/10 21:44:56 WARN DAGScheduler: Broadcasting large task binary with size 1130.9 KiB\n",
      "25/05/10 21:44:56 WARN DAGScheduler: Broadcasting large task binary with size 1130.9 KiB\n",
      "25/05/10 21:44:56 WARN DAGScheduler: Broadcasting large task binary with size 1129.6 KiB\n"
     ]
    },
    {
     "name": "stderr",
     "output_type": "stream",
     "text": [
      "                                                                                "
     ]
    },
    {
     "name": "stdout",
     "output_type": "stream",
     "text": [
      "25/05/10 21:45:00 WARN DAGScheduler: Broadcasting large task binary with size 1130.8 KiB\n",
      "25/05/10 21:45:00 WARN DAGScheduler: Broadcasting large task binary with size 1130.9 KiB\n",
      "25/05/10 21:45:00 WARN DAGScheduler: Broadcasting large task binary with size 1130.9 KiB\n",
      "25/05/10 21:45:00 WARN DAGScheduler: Broadcasting large task binary with size 1130.8 KiB\n",
      "25/05/10 21:45:00 WARN DAGScheduler: Broadcasting large task binary with size 1130.8 KiB\n",
      "25/05/10 21:45:00 WARN DAGScheduler: Broadcasting large task binary with size 1130.9 KiB\n",
      "25/05/10 21:45:00 WARN DAGScheduler: Broadcasting large task binary with size 1130.9 KiB\n",
      "25/05/10 21:45:00 WARN DAGScheduler: Broadcasting large task binary with size 1130.9 KiB\n"
     ]
    },
    {
     "name": "stderr",
     "output_type": "stream",
     "text": [
      "                                                                                "
     ]
    },
    {
     "name": "stdout",
     "output_type": "stream",
     "text": [
      "25/05/10 21:45:05 WARN DAGScheduler: Broadcasting large task binary with size 1130.8 KiB\n"
     ]
    },
    {
     "name": "stderr",
     "output_type": "stream",
     "text": [
      "                                                                                "
     ]
    },
    {
     "name": "stdout",
     "output_type": "stream",
     "text": [
      "25/05/10 21:45:09 WARN DAGScheduler: Broadcasting large task binary with size 1130.8 KiB\n",
      "25/05/10 21:45:09 WARN DAGScheduler: Broadcasting large task binary with size 1130.9 KiB\n",
      "25/05/10 21:45:09 WARN DAGScheduler: Broadcasting large task binary with size 1130.9 KiB\n",
      "25/05/10 21:45:09 WARN DAGScheduler: Broadcasting large task binary with size 1130.8 KiB\n",
      "25/05/10 21:45:09 WARN DAGScheduler: Broadcasting large task binary with size 1130.9 KiB\n",
      "25/05/10 21:45:09 WARN DAGScheduler: Broadcasting large task binary with size 1130.8 KiB\n",
      "25/05/10 21:45:10 WARN DAGScheduler: Broadcasting large task binary with size 1130.9 KiB\n",
      "25/05/10 21:45:10 WARN DAGScheduler: Broadcasting large task binary with size 1130.9 KiB\n"
     ]
    },
    {
     "name": "stderr",
     "output_type": "stream",
     "text": [
      "                                                                                "
     ]
    },
    {
     "name": "stdout",
     "output_type": "stream",
     "text": [
      "25/05/10 21:45:14 WARN DAGScheduler: Broadcasting large task binary with size 1130.8 KiB\n",
      "25/05/10 21:45:14 WARN DAGScheduler: Broadcasting large task binary with size 1130.8 KiB\n",
      "25/05/10 21:45:14 WARN DAGScheduler: Broadcasting large task binary with size 1130.9 KiB\n",
      "25/05/10 21:45:14 WARN DAGScheduler: Broadcasting large task binary with size 1130.9 KiB\n",
      "25/05/10 21:45:14 WARN DAGScheduler: Broadcasting large task binary with size 1130.9 KiB\n",
      "25/05/10 21:45:14 WARN DAGScheduler: Broadcasting large task binary with size 1130.8 KiB\n",
      "25/05/10 21:45:14 WARN DAGScheduler: Broadcasting large task binary with size 1130.9 KiB\n",
      "25/05/10 21:45:15 WARN DAGScheduler: Broadcasting large task binary with size 1130.8 KiB\n",
      "25/05/10 21:45:15 WARN DAGScheduler: Broadcasting large task binary with size 1130.9 KiB\n",
      "25/05/10 21:45:15 WARN DAGScheduler: Broadcasting large task binary with size 1130.9 KiB\n",
      "25/05/10 21:45:15 WARN DAGScheduler: Broadcasting large task binary with size 1130.9 KiB\n",
      "25/05/10 21:45:15 WARN DAGScheduler: Broadcasting large task binary with size 1130.9 KiB\n",
      "25/05/10 21:45:15 WARN DAGScheduler: Broadcasting large task binary with size 1130.8 KiB\n",
      "25/05/10 21:45:15 WARN DAGScheduler: Broadcasting large task binary with size 1130.8 KiB\n",
      "25/05/10 21:45:15 WARN DAGScheduler: Broadcasting large task binary with size 1130.8 KiB\n",
      "25/05/10 21:45:15 WARN DAGScheduler: Broadcasting large task binary with size 1130.8 KiB\n",
      "25/05/10 21:45:15 WARN DAGScheduler: Broadcasting large task binary with size 1130.9 KiB\n",
      "25/05/10 21:45:15 WARN DAGScheduler: Broadcasting large task binary with size 1130.9 KiB\n",
      "25/05/10 21:45:15 WARN DAGScheduler: Broadcasting large task binary with size 1130.9 KiB\n",
      "25/05/10 21:45:15 WARN DAGScheduler: Broadcasting large task binary with size 1130.9 KiB\n",
      "25/05/10 21:45:15 WARN DAGScheduler: Broadcasting large task binary with size 1130.8 KiB\n",
      "25/05/10 21:45:15 WARN DAGScheduler: Broadcasting large task binary with size 1130.9 KiB\n",
      "25/05/10 21:45:15 WARN DAGScheduler: Broadcasting large task binary with size 1130.8 KiB\n",
      "25/05/10 21:45:15 WARN DAGScheduler: Broadcasting large task binary with size 1130.8 KiB\n",
      "25/05/10 21:45:15 WARN DAGScheduler: Broadcasting large task binary with size 1130.9 KiB\n",
      "25/05/10 21:45:15 WARN DAGScheduler: Broadcasting large task binary with size 1130.9 KiB\n",
      "25/05/10 21:45:15 WARN DAGScheduler: Broadcasting large task binary with size 1130.8 KiB\n",
      "25/05/10 21:45:15 WARN DAGScheduler: Broadcasting large task binary with size 1130.9 KiB\n",
      "25/05/10 21:45:15 WARN DAGScheduler: Broadcasting large task binary with size 1130.9 KiB\n",
      "25/05/10 21:45:15 WARN DAGScheduler: Broadcasting large task binary with size 1130.8 KiB\n",
      "25/05/10 21:45:15 WARN DAGScheduler: Broadcasting large task binary with size 1130.8 KiB\n",
      "25/05/10 21:45:15 WARN DAGScheduler: Broadcasting large task binary with size 1130.8 KiB\n",
      "25/05/10 21:45:16 WARN DAGScheduler: Broadcasting large task binary with size 1130.9 KiB\n",
      "25/05/10 21:45:16 WARN DAGScheduler: Broadcasting large task binary with size 1130.9 KiB\n",
      "25/05/10 21:45:16 WARN DAGScheduler: Broadcasting large task binary with size 1130.9 KiB\n",
      "25/05/10 21:45:16 WARN DAGScheduler: Broadcasting large task binary with size 1130.8 KiB\n",
      "25/05/10 21:45:16 WARN DAGScheduler: Broadcasting large task binary with size 1130.9 KiB\n",
      "25/05/10 21:45:16 WARN DAGScheduler: Broadcasting large task binary with size 1130.9 KiB\n",
      "25/05/10 21:45:16 WARN DAGScheduler: Broadcasting large task binary with size 1130.8 KiB\n",
      "25/05/10 21:45:16 WARN DAGScheduler: Broadcasting large task binary with size 1130.8 KiB\n",
      "25/05/10 21:45:16 WARN DAGScheduler: Broadcasting large task binary with size 1130.8 KiB\n",
      "25/05/10 21:45:16 WARN DAGScheduler: Broadcasting large task binary with size 1130.9 KiB\n",
      "25/05/10 21:45:16 WARN DAGScheduler: Broadcasting large task binary with size 1130.9 KiB\n",
      "25/05/10 21:45:16 WARN DAGScheduler: Broadcasting large task binary with size 1130.9 KiB\n",
      "25/05/10 21:45:16 WARN DAGScheduler: Broadcasting large task binary with size 1130.8 KiB\n",
      "25/05/10 21:45:16 WARN DAGScheduler: Broadcasting large task binary with size 1130.9 KiB\n",
      "25/05/10 21:45:16 WARN DAGScheduler: Broadcasting large task binary with size 1130.9 KiB\n",
      "25/05/10 21:45:16 WARN DAGScheduler: Broadcasting large task binary with size 1130.8 KiB\n",
      "25/05/10 21:45:16 WARN DAGScheduler: Broadcasting large task binary with size 1130.8 KiB\n",
      "25/05/10 21:45:16 WARN DAGScheduler: Broadcasting large task binary with size 1130.8 KiB\n",
      "25/05/10 21:45:16 WARN DAGScheduler: Broadcasting large task binary with size 1130.9 KiB\n",
      "25/05/10 21:45:16 WARN DAGScheduler: Broadcasting large task binary with size 1130.9 KiB\n",
      "25/05/10 21:45:16 WARN DAGScheduler: Broadcasting large task binary with size 1130.9 KiB\n",
      "25/05/10 21:45:16 WARN DAGScheduler: Broadcasting large task binary with size 1130.8 KiB\n",
      "25/05/10 21:45:16 WARN DAGScheduler: Broadcasting large task binary with size 1130.9 KiB\n",
      "25/05/10 21:45:16 WARN DAGScheduler: Broadcasting large task binary with size 1130.9 KiB\n",
      "25/05/10 21:45:16 WARN DAGScheduler: Broadcasting large task binary with size 1130.8 KiB\n",
      "25/05/10 21:45:16 WARN DAGScheduler: Broadcasting large task binary with size 1130.8 KiB\n",
      "25/05/10 21:45:16 WARN DAGScheduler: Broadcasting large task binary with size 1130.8 KiB\n",
      "25/05/10 21:45:17 WARN DAGScheduler: Broadcasting large task binary with size 1130.9 KiB\n",
      "25/05/10 21:45:17 WARN DAGScheduler: Broadcasting large task binary with size 1130.9 KiB\n",
      "25/05/10 21:45:17 WARN DAGScheduler: Broadcasting large task binary with size 1130.8 KiB\n",
      "25/05/10 21:45:17 WARN DAGScheduler: Broadcasting large task binary with size 1130.9 KiB\n",
      "25/05/10 21:45:17 WARN DAGScheduler: Broadcasting large task binary with size 1130.9 KiB\n",
      "25/05/10 21:45:17 WARN DAGScheduler: Broadcasting large task binary with size 1130.9 KiB\n",
      "25/05/10 21:45:17 WARN DAGScheduler: Broadcasting large task binary with size 1130.8 KiB\n",
      "25/05/10 21:45:17 WARN DAGScheduler: Broadcasting large task binary with size 1130.8 KiB\n",
      "25/05/10 21:45:17 WARN DAGScheduler: Broadcasting large task binary with size 1130.8 KiB\n",
      "25/05/10 21:45:17 WARN DAGScheduler: Broadcasting large task binary with size 1130.9 KiB\n",
      "25/05/10 21:45:17 WARN DAGScheduler: Broadcasting large task binary with size 1130.9 KiB\n",
      "25/05/10 21:45:17 WARN DAGScheduler: Broadcasting large task binary with size 1130.8 KiB\n",
      "25/05/10 21:45:17 WARN DAGScheduler: Broadcasting large task binary with size 1130.9 KiB\n",
      "25/05/10 21:45:17 WARN DAGScheduler: Broadcasting large task binary with size 1130.9 KiB\n",
      "25/05/10 21:45:17 WARN DAGScheduler: Broadcasting large task binary with size 1130.9 KiB\n",
      "25/05/10 21:45:17 WARN DAGScheduler: Broadcasting large task binary with size 1130.8 KiB\n",
      "25/05/10 21:45:17 WARN DAGScheduler: Broadcasting large task binary with size 1130.8 KiB\n",
      "25/05/10 21:45:17 WARN DAGScheduler: Broadcasting large task binary with size 1130.8 KiB\n",
      "25/05/10 21:45:17 WARN DAGScheduler: Broadcasting large task binary with size 1130.9 KiB\n",
      "25/05/10 21:45:17 WARN DAGScheduler: Broadcasting large task binary with size 1130.9 KiB\n",
      "25/05/10 21:45:17 WARN DAGScheduler: Broadcasting large task binary with size 1130.8 KiB\n",
      "25/05/10 21:45:17 WARN DAGScheduler: Broadcasting large task binary with size 1130.9 KiB\n",
      "25/05/10 21:45:17 WARN DAGScheduler: Broadcasting large task binary with size 1130.9 KiB\n",
      "25/05/10 21:45:17 WARN DAGScheduler: Broadcasting large task binary with size 1130.8 KiB\n",
      "25/05/10 21:45:17 WARN DAGScheduler: Broadcasting large task binary with size 1130.9 KiB\n",
      "25/05/10 21:45:17 WARN DAGScheduler: Broadcasting large task binary with size 1130.8 KiB\n",
      "25/05/10 21:45:17 WARN DAGScheduler: Broadcasting large task binary with size 1130.8 KiB\n",
      "25/05/10 21:45:17 WARN DAGScheduler: Broadcasting large task binary with size 1130.9 KiB\n",
      "25/05/10 21:45:17 WARN DAGScheduler: Broadcasting large task binary with size 1130.9 KiB\n",
      "25/05/10 21:45:17 WARN DAGScheduler: Broadcasting large task binary with size 1130.8 KiB\n",
      "25/05/10 21:45:17 WARN DAGScheduler: Broadcasting large task binary with size 1130.9 KiB\n",
      "25/05/10 21:45:18 WARN DAGScheduler: Broadcasting large task binary with size 1130.9 KiB\n",
      "25/05/10 21:45:18 WARN DAGScheduler: Broadcasting large task binary with size 1130.8 KiB\n",
      "25/05/10 21:45:18 WARN DAGScheduler: Broadcasting large task binary with size 1130.9 KiB\n",
      "25/05/10 21:45:18 WARN DAGScheduler: Broadcasting large task binary with size 1130.8 KiB\n",
      "25/05/10 21:45:18 WARN DAGScheduler: Broadcasting large task binary with size 1130.8 KiB\n",
      "25/05/10 21:45:18 WARN DAGScheduler: Broadcasting large task binary with size 1130.9 KiB\n",
      "25/05/10 21:45:18 WARN DAGScheduler: Broadcasting large task binary with size 1130.9 KiB\n",
      "25/05/10 21:45:18 WARN DAGScheduler: Broadcasting large task binary with size 1130.8 KiB\n",
      "25/05/10 21:45:18 WARN DAGScheduler: Broadcasting large task binary with size 1130.9 KiB\n",
      "25/05/10 21:45:18 WARN DAGScheduler: Broadcasting large task binary with size 1130.9 KiB\n",
      "25/05/10 21:45:18 WARN DAGScheduler: Broadcasting large task binary with size 1130.8 KiB\n",
      "25/05/10 21:45:18 WARN DAGScheduler: Broadcasting large task binary with size 1130.9 KiB\n",
      "25/05/10 21:45:18 WARN DAGScheduler: Broadcasting large task binary with size 1130.9 KiB\n",
      "25/05/10 21:45:18 WARN DAGScheduler: Broadcasting large task binary with size 1130.8 KiB\n",
      "25/05/10 21:45:18 WARN DAGScheduler: Broadcasting large task binary with size 1130.8 KiB\n",
      "25/05/10 21:45:18 WARN DAGScheduler: Broadcasting large task binary with size 1130.9 KiB\n",
      "25/05/10 21:45:18 WARN DAGScheduler: Broadcasting large task binary with size 1130.9 KiB\n",
      "25/05/10 21:45:18 WARN DAGScheduler: Broadcasting large task binary with size 1130.8 KiB\n",
      "25/05/10 21:45:18 WARN DAGScheduler: Broadcasting large task binary with size 1130.8 KiB\n",
      "25/05/10 21:45:18 WARN DAGScheduler: Broadcasting large task binary with size 1130.9 KiB\n",
      "25/05/10 21:45:18 WARN DAGScheduler: Broadcasting large task binary with size 1130.9 KiB\n",
      "25/05/10 21:45:18 WARN DAGScheduler: Broadcasting large task binary with size 1130.9 KiB\n",
      "25/05/10 21:45:18 WARN DAGScheduler: Broadcasting large task binary with size 1130.8 KiB\n",
      "25/05/10 21:45:18 WARN DAGScheduler: Broadcasting large task binary with size 1130.8 KiB\n",
      "25/05/10 21:45:19 WARN DAGScheduler: Broadcasting large task binary with size 1130.9 KiB\n",
      "25/05/10 21:45:19 WARN DAGScheduler: Broadcasting large task binary with size 1130.9 KiB\n",
      "25/05/10 21:45:19 WARN DAGScheduler: Broadcasting large task binary with size 1130.8 KiB\n",
      "25/05/10 21:45:19 WARN DAGScheduler: Broadcasting large task binary with size 1130.8 KiB\n",
      "25/05/10 21:45:19 WARN DAGScheduler: Broadcasting large task binary with size 1130.9 KiB\n"
     ]
    },
    {
     "name": "stderr",
     "output_type": "stream",
     "text": [
      "                                                                                "
     ]
    },
    {
     "name": "stdout",
     "output_type": "stream",
     "text": [
      "25/05/10 21:45:19 WARN DAGScheduler: Broadcasting large task binary with size 1130.9 KiB\n",
      "25/05/10 21:45:19 WARN DAGScheduler: Broadcasting large task binary with size 1130.9 KiB\n",
      "25/05/10 21:45:19 WARN DAGScheduler: Broadcasting large task binary with size 1130.8 KiB\n",
      "25/05/10 21:45:19 WARN DAGScheduler: Broadcasting large task binary with size 1130.8 KiB\n",
      "25/05/10 21:45:19 WARN DAGScheduler: Broadcasting large task binary with size 1130.9 KiB\n",
      "25/05/10 21:45:19 WARN DAGScheduler: Broadcasting large task binary with size 1130.9 KiB\n",
      "25/05/10 21:45:19 WARN DAGScheduler: Broadcasting large task binary with size 1130.9 KiB\n",
      "25/05/10 21:45:19 WARN DAGScheduler: Broadcasting large task binary with size 1130.8 KiB\n",
      "25/05/10 21:45:19 WARN DAGScheduler: Broadcasting large task binary with size 1130.8 KiB\n",
      "25/05/10 21:45:19 WARN DAGScheduler: Broadcasting large task binary with size 1130.9 KiB\n",
      "25/05/10 21:45:19 WARN DAGScheduler: Broadcasting large task binary with size 1130.9 KiB\n",
      "25/05/10 21:45:19 WARN DAGScheduler: Broadcasting large task binary with size 1130.8 KiB\n",
      "25/05/10 21:45:20 WARN DAGScheduler: Broadcasting large task binary with size 1130.8 KiB\n",
      "25/05/10 21:45:20 WARN DAGScheduler: Broadcasting large task binary with size 1130.9 KiB\n",
      "25/05/10 21:45:20 WARN DAGScheduler: Broadcasting large task binary with size 1130.8 KiB\n",
      "25/05/10 21:45:20 WARN DAGScheduler: Broadcasting large task binary with size 1130.9 KiB\n",
      "25/05/10 21:45:20 WARN DAGScheduler: Broadcasting large task binary with size 1130.9 KiB\n",
      "25/05/10 21:45:20 WARN DAGScheduler: Broadcasting large task binary with size 1130.8 KiB\n",
      "25/05/10 21:45:20 WARN DAGScheduler: Broadcasting large task binary with size 1130.9 KiB\n",
      "25/05/10 21:45:20 WARN DAGScheduler: Broadcasting large task binary with size 1130.9 KiB\n",
      "25/05/10 21:45:20 WARN DAGScheduler: Broadcasting large task binary with size 1130.8 KiB\n",
      "25/05/10 21:45:20 WARN DAGScheduler: Broadcasting large task binary with size 1130.9 KiB\n",
      "25/05/10 21:45:20 WARN DAGScheduler: Broadcasting large task binary with size 1130.8 KiB\n",
      "25/05/10 21:45:20 WARN DAGScheduler: Broadcasting large task binary with size 1130.8 KiB\n",
      "25/05/10 21:45:20 WARN DAGScheduler: Broadcasting large task binary with size 1130.9 KiB\n",
      "25/05/10 21:45:20 WARN DAGScheduler: Broadcasting large task binary with size 1130.9 KiB\n",
      "25/05/10 21:45:20 WARN DAGScheduler: Broadcasting large task binary with size 1130.8 KiB\n",
      "25/05/10 21:45:20 WARN DAGScheduler: Broadcasting large task binary with size 1130.9 KiB\n",
      "25/05/10 21:45:20 WARN DAGScheduler: Broadcasting large task binary with size 1130.8 KiB\n",
      "25/05/10 21:45:20 WARN DAGScheduler: Broadcasting large task binary with size 1130.9 KiB\n",
      "25/05/10 21:45:20 WARN DAGScheduler: Broadcasting large task binary with size 1130.8 KiB\n",
      "25/05/10 21:45:20 WARN DAGScheduler: Broadcasting large task binary with size 1130.9 KiB\n",
      "25/05/10 21:45:20 WARN DAGScheduler: Broadcasting large task binary with size 1130.8 KiB\n",
      "25/05/10 21:45:20 WARN DAGScheduler: Broadcasting large task binary with size 1130.9 KiB\n",
      "25/05/10 21:45:20 WARN DAGScheduler: Broadcasting large task binary with size 1130.9 KiB\n",
      "25/05/10 21:45:20 WARN DAGScheduler: Broadcasting large task binary with size 1130.8 KiB\n",
      "25/05/10 21:45:20 WARN DAGScheduler: Broadcasting large task binary with size 1130.9 KiB\n",
      "25/05/10 21:45:20 WARN DAGScheduler: Broadcasting large task binary with size 1130.8 KiB\n",
      "25/05/10 21:45:20 WARN DAGScheduler: Broadcasting large task binary with size 1130.9 KiB\n",
      "25/05/10 21:45:20 WARN DAGScheduler: Broadcasting large task binary with size 1130.9 KiB\n",
      "25/05/10 21:45:20 WARN DAGScheduler: Broadcasting large task binary with size 1130.8 KiB\n",
      "25/05/10 21:45:20 WARN DAGScheduler: Broadcasting large task binary with size 1130.8 KiB\n",
      "25/05/10 21:45:20 WARN DAGScheduler: Broadcasting large task binary with size 1130.9 KiB\n",
      "25/05/10 21:45:20 WARN DAGScheduler: Broadcasting large task binary with size 1130.9 KiB\n",
      "25/05/10 21:45:20 WARN DAGScheduler: Broadcasting large task binary with size 1130.8 KiB\n",
      "25/05/10 21:45:21 WARN DAGScheduler: Broadcasting large task binary with size 1130.8 KiB\n",
      "25/05/10 21:45:21 WARN DAGScheduler: Broadcasting large task binary with size 1130.9 KiB\n",
      "25/05/10 21:45:21 WARN DAGScheduler: Broadcasting large task binary with size 1130.9 KiB\n",
      "25/05/10 21:45:21 WARN DAGScheduler: Broadcasting large task binary with size 1130.8 KiB\n",
      "25/05/10 21:45:21 WARN DAGScheduler: Broadcasting large task binary with size 1130.8 KiB\n",
      "25/05/10 21:45:21 WARN DAGScheduler: Broadcasting large task binary with size 1130.9 KiB\n",
      "25/05/10 21:45:21 WARN DAGScheduler: Broadcasting large task binary with size 1130.8 KiB\n",
      "25/05/10 21:45:21 WARN DAGScheduler: Broadcasting large task binary with size 1130.8 KiB\n",
      "25/05/10 21:45:21 WARN DAGScheduler: Broadcasting large task binary with size 1130.9 KiB\n",
      "25/05/10 21:45:21 WARN DAGScheduler: Broadcasting large task binary with size 1129.7 KiB\n",
      "25/05/10 21:45:21 WARN DAGScheduler: Broadcasting large task binary with size 1130.9 KiB\n",
      "25/05/10 21:45:21 WARN DAGScheduler: Broadcasting large task binary with size 1130.9 KiB\n",
      "25/05/10 21:45:21 WARN DAGScheduler: Broadcasting large task binary with size 1130.8 KiB\n",
      "25/05/10 21:45:21 WARN DAGScheduler: Broadcasting large task binary with size 1130.8 KiB\n",
      "25/05/10 21:45:21 WARN DAGScheduler: Broadcasting large task binary with size 1130.8 KiB\n",
      "25/05/10 21:45:21 WARN DAGScheduler: Broadcasting large task binary with size 1130.9 KiB\n",
      "25/05/10 21:45:21 WARN DAGScheduler: Broadcasting large task binary with size 1130.8 KiB\n",
      "25/05/10 21:45:21 WARN DAGScheduler: Broadcasting large task binary with size 1130.9 KiB\n"
     ]
    },
    {
     "name": "stderr",
     "output_type": "stream",
     "text": [
      "                                                                                "
     ]
    },
    {
     "name": "stdout",
     "output_type": "stream",
     "text": [
      "25/05/10 21:45:26 WARN DAGScheduler: Broadcasting large task binary with size 1130.9 KiB\n",
      "25/05/10 21:45:26 WARN DAGScheduler: Broadcasting large task binary with size 1130.9 KiB\n",
      "25/05/10 21:45:26 WARN DAGScheduler: Broadcasting large task binary with size 1130.8 KiB\n",
      "25/05/10 21:45:26 WARN DAGScheduler: Broadcasting large task binary with size 1130.9 KiB\n",
      "25/05/10 21:45:26 WARN DAGScheduler: Broadcasting large task binary with size 1130.8 KiB\n",
      "25/05/10 21:45:26 WARN DAGScheduler: Broadcasting large task binary with size 1130.8 KiB\n",
      "25/05/10 21:45:26 WARN DAGScheduler: Broadcasting large task binary with size 1130.8 KiB\n",
      "25/05/10 21:45:26 WARN DAGScheduler: Broadcasting large task binary with size 1130.9 KiB\n",
      "25/05/10 21:45:26 WARN DAGScheduler: Broadcasting large task binary with size 1129.7 KiB\n"
     ]
    },
    {
     "name": "stderr",
     "output_type": "stream",
     "text": [
      "                                                                                "
     ]
    },
    {
     "name": "stdout",
     "output_type": "stream",
     "text": [
      "25/05/10 21:45:30 WARN DAGScheduler: Broadcasting large task binary with size 1130.9 KiB\n",
      "25/05/10 21:45:31 WARN DAGScheduler: Broadcasting large task binary with size 1130.9 KiB\n",
      "25/05/10 21:45:31 WARN DAGScheduler: Broadcasting large task binary with size 1130.8 KiB\n",
      "25/05/10 21:45:31 WARN DAGScheduler: Broadcasting large task binary with size 1130.9 KiB\n",
      "25/05/10 21:45:31 WARN DAGScheduler: Broadcasting large task binary with size 1130.8 KiB\n",
      "25/05/10 21:45:31 WARN DAGScheduler: Broadcasting large task binary with size 1130.8 KiB\n",
      "25/05/10 21:45:31 WARN DAGScheduler: Broadcasting large task binary with size 1130.8 KiB\n",
      "25/05/10 21:45:31 WARN DAGScheduler: Broadcasting large task binary with size 1130.9 KiB\n"
     ]
    },
    {
     "name": "stderr",
     "output_type": "stream",
     "text": [
      "                                                                                "
     ]
    },
    {
     "name": "stdout",
     "output_type": "stream",
     "text": [
      "25/05/10 21:45:35 WARN DAGScheduler: Broadcasting large task binary with size 1130.9 KiB\n",
      "25/05/10 21:45:35 WARN DAGScheduler: Broadcasting large task binary with size 1130.9 KiB\n",
      "25/05/10 21:45:36 WARN DAGScheduler: Broadcasting large task binary with size 1130.9 KiB\n",
      "25/05/10 21:45:36 WARN DAGScheduler: Broadcasting large task binary with size 1130.9 KiB\n",
      "25/05/10 21:45:36 WARN DAGScheduler: Broadcasting large task binary with size 1130.8 KiB\n",
      "25/05/10 21:45:36 WARN DAGScheduler: Broadcasting large task binary with size 1130.8 KiB\n",
      "25/05/10 21:45:36 WARN DAGScheduler: Broadcasting large task binary with size 1130.8 KiB\n",
      "25/05/10 21:45:36 WARN DAGScheduler: Broadcasting large task binary with size 1130.9 KiB\n",
      "25/05/10 21:45:36 WARN DAGScheduler: Broadcasting large task binary with size 1129.6 KiB\n"
     ]
    },
    {
     "name": "stderr",
     "output_type": "stream",
     "text": [
      "                                                                                "
     ]
    },
    {
     "name": "stdout",
     "output_type": "stream",
     "text": [
      "25/05/10 21:45:40 WARN DAGScheduler: Broadcasting large task binary with size 1130.9 KiB\n",
      "25/05/10 21:45:40 WARN DAGScheduler: Broadcasting large task binary with size 1130.9 KiB\n",
      "25/05/10 21:45:40 WARN DAGScheduler: Broadcasting large task binary with size 1130.9 KiB\n",
      "25/05/10 21:45:41 WARN DAGScheduler: Broadcasting large task binary with size 1130.9 KiB\n",
      "25/05/10 21:45:41 WARN DAGScheduler: Broadcasting large task binary with size 1130.9 KiB\n",
      "25/05/10 21:45:41 WARN DAGScheduler: Broadcasting large task binary with size 1130.8 KiB\n",
      "25/05/10 21:45:41 WARN DAGScheduler: Broadcasting large task binary with size 1130.8 KiB\n",
      "25/05/10 21:45:41 WARN DAGScheduler: Broadcasting large task binary with size 1129.6 KiB\n"
     ]
    },
    {
     "name": "stderr",
     "output_type": "stream",
     "text": [
      "                                                                                "
     ]
    },
    {
     "name": "stdout",
     "output_type": "stream",
     "text": [
      "25/05/10 21:45:45 WARN DAGScheduler: Broadcasting large task binary with size 1130.8 KiB\n",
      "25/05/10 21:45:45 WARN DAGScheduler: Broadcasting large task binary with size 1130.9 KiB\n",
      "25/05/10 21:45:45 WARN DAGScheduler: Broadcasting large task binary with size 1130.9 KiB\n",
      "25/05/10 21:45:45 WARN DAGScheduler: Broadcasting large task binary with size 1130.9 KiB\n",
      "25/05/10 21:45:45 WARN DAGScheduler: Broadcasting large task binary with size 1130.9 KiB\n",
      "25/05/10 21:45:45 WARN DAGScheduler: Broadcasting large task binary with size 1130.8 KiB\n",
      "25/05/10 21:45:45 WARN DAGScheduler: Broadcasting large task binary with size 1130.9 KiB\n",
      "25/05/10 21:45:45 WARN DAGScheduler: Broadcasting large task binary with size 1130.8 KiB\n"
     ]
    },
    {
     "name": "stderr",
     "output_type": "stream",
     "text": [
      "                                                                                "
     ]
    },
    {
     "name": "stdout",
     "output_type": "stream",
     "text": [
      "25/05/10 21:45:50 WARN DAGScheduler: Broadcasting large task binary with size 1130.8 KiB\n"
     ]
    },
    {
     "name": "stderr",
     "output_type": "stream",
     "text": [
      "                                                                                "
     ]
    },
    {
     "name": "stdout",
     "output_type": "stream",
     "text": [
      "25/05/10 21:45:55 WARN DAGScheduler: Broadcasting large task binary with size 1130.8 KiB\n",
      "25/05/10 21:45:55 WARN DAGScheduler: Broadcasting large task binary with size 1130.9 KiB\n",
      "25/05/10 21:45:55 WARN DAGScheduler: Broadcasting large task binary with size 1130.9 KiB\n",
      "25/05/10 21:45:55 WARN DAGScheduler: Broadcasting large task binary with size 1130.9 KiB\n",
      "25/05/10 21:45:55 WARN DAGScheduler: Broadcasting large task binary with size 1130.8 KiB\n",
      "25/05/10 21:45:55 WARN DAGScheduler: Broadcasting large task binary with size 1130.9 KiB\n",
      "25/05/10 21:45:55 WARN DAGScheduler: Broadcasting large task binary with size 1130.9 KiB\n",
      "25/05/10 21:45:55 WARN DAGScheduler: Broadcasting large task binary with size 1130.8 KiB\n"
     ]
    },
    {
     "name": "stderr",
     "output_type": "stream",
     "text": [
      "                                                                                "
     ]
    },
    {
     "name": "stdout",
     "output_type": "stream",
     "text": [
      "25/05/10 21:45:59 WARN DAGScheduler: Broadcasting large task binary with size 1130.8 KiB\n",
      "25/05/10 21:46:00 WARN DAGScheduler: Broadcasting large task binary with size 1130.9 KiB\n",
      "25/05/10 21:46:00 WARN DAGScheduler: Broadcasting large task binary with size 1130.8 KiB\n",
      "25/05/10 21:46:00 WARN DAGScheduler: Broadcasting large task binary with size 1130.9 KiB\n",
      "25/05/10 21:46:00 WARN DAGScheduler: Broadcasting large task binary with size 1130.8 KiB\n",
      "25/05/10 21:46:00 WARN DAGScheduler: Broadcasting large task binary with size 1130.9 KiB\n",
      "25/05/10 21:46:00 WARN DAGScheduler: Broadcasting large task binary with size 1130.9 KiB\n",
      "25/05/10 21:46:00 WARN DAGScheduler: Broadcasting large task binary with size 1130.9 KiB\n",
      "25/05/10 21:46:00 WARN DAGScheduler: Broadcasting large task binary with size 1130.8 KiB\n",
      "25/05/10 21:46:00 WARN DAGScheduler: Broadcasting large task binary with size 1130.8 KiB\n",
      "25/05/10 21:46:00 WARN DAGScheduler: Broadcasting large task binary with size 1130.9 KiB\n",
      "25/05/10 21:46:00 WARN DAGScheduler: Broadcasting large task binary with size 1130.9 KiB\n",
      "25/05/10 21:46:00 WARN DAGScheduler: Broadcasting large task binary with size 1130.8 KiB\n",
      "25/05/10 21:46:00 WARN DAGScheduler: Broadcasting large task binary with size 1130.8 KiB\n",
      "25/05/10 21:46:00 WARN DAGScheduler: Broadcasting large task binary with size 1130.9 KiB\n",
      "25/05/10 21:46:00 WARN DAGScheduler: Broadcasting large task binary with size 1130.9 KiB\n",
      "25/05/10 21:46:00 WARN DAGScheduler: Broadcasting large task binary with size 1130.9 KiB\n",
      "25/05/10 21:46:00 WARN DAGScheduler: Broadcasting large task binary with size 1130.8 KiB\n",
      "25/05/10 21:46:00 WARN DAGScheduler: Broadcasting large task binary with size 1130.9 KiB\n",
      "25/05/10 21:46:00 WARN DAGScheduler: Broadcasting large task binary with size 1130.9 KiB\n",
      "25/05/10 21:46:00 WARN DAGScheduler: Broadcasting large task binary with size 1130.8 KiB\n",
      "25/05/10 21:46:00 WARN DAGScheduler: Broadcasting large task binary with size 1130.8 KiB\n",
      "25/05/10 21:46:00 WARN DAGScheduler: Broadcasting large task binary with size 1130.8 KiB\n",
      "25/05/10 21:46:01 WARN DAGScheduler: Broadcasting large task binary with size 1130.9 KiB\n",
      "25/05/10 21:46:01 WARN DAGScheduler: Broadcasting large task binary with size 1130.9 KiB\n",
      "25/05/10 21:46:01 WARN DAGScheduler: Broadcasting large task binary with size 1130.9 KiB\n",
      "25/05/10 21:46:01 WARN DAGScheduler: Broadcasting large task binary with size 1130.9 KiB\n",
      "25/05/10 21:46:01 WARN DAGScheduler: Broadcasting large task binary with size 1130.8 KiB\n",
      "25/05/10 21:46:01 WARN DAGScheduler: Broadcasting large task binary with size 1130.9 KiB\n",
      "25/05/10 21:46:01 WARN DAGScheduler: Broadcasting large task binary with size 1130.8 KiB\n",
      "25/05/10 21:46:01 WARN DAGScheduler: Broadcasting large task binary with size 1130.8 KiB\n",
      "25/05/10 21:46:01 WARN DAGScheduler: Broadcasting large task binary with size 1130.8 KiB\n",
      "25/05/10 21:46:01 WARN DAGScheduler: Broadcasting large task binary with size 1130.9 KiB\n",
      "25/05/10 21:46:01 WARN DAGScheduler: Broadcasting large task binary with size 1130.9 KiB\n",
      "25/05/10 21:46:01 WARN DAGScheduler: Broadcasting large task binary with size 1130.9 KiB\n",
      "25/05/10 21:46:01 WARN DAGScheduler: Broadcasting large task binary with size 1130.9 KiB\n",
      "25/05/10 21:46:01 WARN DAGScheduler: Broadcasting large task binary with size 1130.8 KiB\n",
      "25/05/10 21:46:01 WARN DAGScheduler: Broadcasting large task binary with size 1130.9 KiB\n",
      "25/05/10 21:46:01 WARN DAGScheduler: Broadcasting large task binary with size 1130.8 KiB\n",
      "25/05/10 21:46:01 WARN DAGScheduler: Broadcasting large task binary with size 1130.8 KiB\n",
      "25/05/10 21:46:01 WARN DAGScheduler: Broadcasting large task binary with size 1130.8 KiB\n",
      "25/05/10 21:46:01 WARN DAGScheduler: Broadcasting large task binary with size 1130.9 KiB\n",
      "25/05/10 21:46:01 WARN DAGScheduler: Broadcasting large task binary with size 1130.9 KiB\n",
      "25/05/10 21:46:01 WARN DAGScheduler: Broadcasting large task binary with size 1130.9 KiB\n",
      "25/05/10 21:46:01 WARN DAGScheduler: Broadcasting large task binary with size 1130.9 KiB\n",
      "25/05/10 21:46:01 WARN DAGScheduler: Broadcasting large task binary with size 1130.8 KiB\n",
      "25/05/10 21:46:01 WARN DAGScheduler: Broadcasting large task binary with size 1130.9 KiB\n",
      "25/05/10 21:46:01 WARN DAGScheduler: Broadcasting large task binary with size 1130.8 KiB\n",
      "25/05/10 21:46:01 WARN DAGScheduler: Broadcasting large task binary with size 1130.9 KiB\n",
      "25/05/10 21:46:01 WARN DAGScheduler: Broadcasting large task binary with size 1130.8 KiB\n",
      "25/05/10 21:46:01 WARN DAGScheduler: Broadcasting large task binary with size 1130.8 KiB\n",
      "25/05/10 21:46:01 WARN DAGScheduler: Broadcasting large task binary with size 1130.9 KiB\n",
      "25/05/10 21:46:02 WARN DAGScheduler: Broadcasting large task binary with size 1130.9 KiB\n",
      "25/05/10 21:46:02 WARN DAGScheduler: Broadcasting large task binary with size 1130.9 KiB\n",
      "25/05/10 21:46:02 WARN DAGScheduler: Broadcasting large task binary with size 1130.8 KiB\n",
      "25/05/10 21:46:02 WARN DAGScheduler: Broadcasting large task binary with size 1130.9 KiB\n",
      "25/05/10 21:46:02 WARN DAGScheduler: Broadcasting large task binary with size 1130.9 KiB\n",
      "25/05/10 21:46:02 WARN DAGScheduler: Broadcasting large task binary with size 1130.8 KiB\n",
      "25/05/10 21:46:02 WARN DAGScheduler: Broadcasting large task binary with size 1130.8 KiB\n",
      "25/05/10 21:46:02 WARN DAGScheduler: Broadcasting large task binary with size 1130.8 KiB\n",
      "25/05/10 21:46:02 WARN DAGScheduler: Broadcasting large task binary with size 1130.9 KiB\n",
      "25/05/10 21:46:02 WARN DAGScheduler: Broadcasting large task binary with size 1130.9 KiB\n",
      "25/05/10 21:46:02 WARN DAGScheduler: Broadcasting large task binary with size 1130.9 KiB\n",
      "25/05/10 21:46:02 WARN DAGScheduler: Broadcasting large task binary with size 1130.8 KiB\n",
      "25/05/10 21:46:02 WARN DAGScheduler: Broadcasting large task binary with size 1130.9 KiB\n",
      "25/05/10 21:46:02 WARN DAGScheduler: Broadcasting large task binary with size 1130.9 KiB\n",
      "25/05/10 21:46:02 WARN DAGScheduler: Broadcasting large task binary with size 1130.9 KiB\n",
      "25/05/10 21:46:02 WARN DAGScheduler: Broadcasting large task binary with size 1130.8 KiB\n",
      "25/05/10 21:46:02 WARN DAGScheduler: Broadcasting large task binary with size 1130.9 KiB\n",
      "25/05/10 21:46:02 WARN DAGScheduler: Broadcasting large task binary with size 1130.9 KiB\n",
      "25/05/10 21:46:02 WARN DAGScheduler: Broadcasting large task binary with size 1130.8 KiB\n",
      "25/05/10 21:46:02 WARN DAGScheduler: Broadcasting large task binary with size 1130.8 KiB\n",
      "25/05/10 21:46:02 WARN DAGScheduler: Broadcasting large task binary with size 1130.8 KiB\n",
      "25/05/10 21:46:02 WARN DAGScheduler: Broadcasting large task binary with size 1130.9 KiB\n",
      "25/05/10 21:46:02 WARN DAGScheduler: Broadcasting large task binary with size 1130.9 KiB\n",
      "25/05/10 21:46:02 WARN DAGScheduler: Broadcasting large task binary with size 1130.9 KiB\n",
      "25/05/10 21:46:02 WARN DAGScheduler: Broadcasting large task binary with size 1130.8 KiB\n",
      "25/05/10 21:46:02 WARN DAGScheduler: Broadcasting large task binary with size 1130.9 KiB\n",
      "25/05/10 21:46:03 WARN DAGScheduler: Broadcasting large task binary with size 1130.9 KiB\n",
      "25/05/10 21:46:03 WARN DAGScheduler: Broadcasting large task binary with size 1130.8 KiB\n",
      "25/05/10 21:46:03 WARN DAGScheduler: Broadcasting large task binary with size 1130.8 KiB\n",
      "25/05/10 21:46:03 WARN DAGScheduler: Broadcasting large task binary with size 1130.8 KiB\n",
      "25/05/10 21:46:03 WARN DAGScheduler: Broadcasting large task binary with size 1130.9 KiB\n",
      "25/05/10 21:46:03 WARN DAGScheduler: Broadcasting large task binary with size 1130.9 KiB\n",
      "25/05/10 21:46:03 WARN DAGScheduler: Broadcasting large task binary with size 1130.9 KiB\n",
      "25/05/10 21:46:03 WARN DAGScheduler: Broadcasting large task binary with size 1130.8 KiB\n",
      "25/05/10 21:46:03 WARN DAGScheduler: Broadcasting large task binary with size 1130.9 KiB\n",
      "25/05/10 21:46:03 WARN DAGScheduler: Broadcasting large task binary with size 1130.8 KiB\n",
      "25/05/10 21:46:03 WARN DAGScheduler: Broadcasting large task binary with size 1130.9 KiB\n",
      "25/05/10 21:46:03 WARN DAGScheduler: Broadcasting large task binary with size 1130.8 KiB\n",
      "25/05/10 21:46:03 WARN DAGScheduler: Broadcasting large task binary with size 1130.8 KiB\n",
      "25/05/10 21:46:03 WARN DAGScheduler: Broadcasting large task binary with size 1130.9 KiB\n",
      "25/05/10 21:46:03 WARN DAGScheduler: Broadcasting large task binary with size 1130.9 KiB\n",
      "25/05/10 21:46:03 WARN DAGScheduler: Broadcasting large task binary with size 1130.9 KiB\n",
      "25/05/10 21:46:03 WARN DAGScheduler: Broadcasting large task binary with size 1130.8 KiB\n",
      "25/05/10 21:46:03 WARN DAGScheduler: Broadcasting large task binary with size 1130.9 KiB\n",
      "25/05/10 21:46:03 WARN DAGScheduler: Broadcasting large task binary with size 1130.8 KiB\n",
      "25/05/10 21:46:03 WARN DAGScheduler: Broadcasting large task binary with size 1130.9 KiB\n",
      "25/05/10 21:46:03 WARN DAGScheduler: Broadcasting large task binary with size 1130.8 KiB\n",
      "25/05/10 21:46:03 WARN DAGScheduler: Broadcasting large task binary with size 1130.8 KiB\n",
      "25/05/10 21:46:03 WARN DAGScheduler: Broadcasting large task binary with size 1130.9 KiB\n",
      "25/05/10 21:46:03 WARN DAGScheduler: Broadcasting large task binary with size 1130.9 KiB\n",
      "25/05/10 21:46:03 WARN DAGScheduler: Broadcasting large task binary with size 1130.9 KiB\n",
      "25/05/10 21:46:03 WARN DAGScheduler: Broadcasting large task binary with size 1130.9 KiB\n",
      "25/05/10 21:46:03 WARN DAGScheduler: Broadcasting large task binary with size 1130.8 KiB\n",
      "25/05/10 21:46:03 WARN DAGScheduler: Broadcasting large task binary with size 1130.9 KiB\n",
      "25/05/10 21:46:03 WARN DAGScheduler: Broadcasting large task binary with size 1130.8 KiB\n",
      "25/05/10 21:46:03 WARN DAGScheduler: Broadcasting large task binary with size 1130.8 KiB\n",
      "25/05/10 21:46:04 WARN DAGScheduler: Broadcasting large task binary with size 1130.8 KiB\n",
      "25/05/10 21:46:04 WARN DAGScheduler: Broadcasting large task binary with size 1130.9 KiB\n",
      "25/05/10 21:46:04 WARN DAGScheduler: Broadcasting large task binary with size 1130.9 KiB\n",
      "25/05/10 21:46:04 WARN DAGScheduler: Broadcasting large task binary with size 1130.9 KiB\n",
      "25/05/10 21:46:04 WARN DAGScheduler: Broadcasting large task binary with size 1130.9 KiB\n",
      "25/05/10 21:46:04 WARN DAGScheduler: Broadcasting large task binary with size 1130.8 KiB\n",
      "25/05/10 21:46:04 WARN DAGScheduler: Broadcasting large task binary with size 1130.9 KiB\n",
      "25/05/10 21:46:04 WARN DAGScheduler: Broadcasting large task binary with size 1130.8 KiB\n",
      "25/05/10 21:46:04 WARN DAGScheduler: Broadcasting large task binary with size 1130.8 KiB\n",
      "25/05/10 21:46:04 WARN DAGScheduler: Broadcasting large task binary with size 1130.8 KiB\n",
      "25/05/10 21:46:04 WARN DAGScheduler: Broadcasting large task binary with size 1130.9 KiB\n",
      "25/05/10 21:46:04 WARN DAGScheduler: Broadcasting large task binary with size 1130.9 KiB\n",
      "25/05/10 21:46:04 WARN DAGScheduler: Broadcasting large task binary with size 1130.9 KiB\n",
      "25/05/10 21:46:04 WARN DAGScheduler: Broadcasting large task binary with size 1130.9 KiB\n",
      "25/05/10 21:46:04 WARN DAGScheduler: Broadcasting large task binary with size 1130.8 KiB\n",
      "25/05/10 21:46:04 WARN DAGScheduler: Broadcasting large task binary with size 1130.9 KiB\n",
      "25/05/10 21:46:04 WARN DAGScheduler: Broadcasting large task binary with size 1130.8 KiB\n",
      "25/05/10 21:46:04 WARN DAGScheduler: Broadcasting large task binary with size 1130.8 KiB\n",
      "25/05/10 21:46:04 WARN DAGScheduler: Broadcasting large task binary with size 1130.8 KiB\n",
      "25/05/10 21:46:04 WARN DAGScheduler: Broadcasting large task binary with size 1130.9 KiB\n",
      "25/05/10 21:46:05 WARN DAGScheduler: Broadcasting large task binary with size 1130.9 KiB\n",
      "25/05/10 21:46:05 WARN DAGScheduler: Broadcasting large task binary with size 1130.9 KiB\n",
      "25/05/10 21:46:05 WARN DAGScheduler: Broadcasting large task binary with size 1130.9 KiB\n",
      "25/05/10 21:46:05 WARN DAGScheduler: Broadcasting large task binary with size 1130.8 KiB\n",
      "25/05/10 21:46:05 WARN DAGScheduler: Broadcasting large task binary with size 1130.9 KiB\n",
      "25/05/10 21:46:05 WARN DAGScheduler: Broadcasting large task binary with size 1130.8 KiB\n",
      "25/05/10 21:46:05 WARN DAGScheduler: Broadcasting large task binary with size 1130.8 KiB\n",
      "25/05/10 21:46:05 WARN DAGScheduler: Broadcasting large task binary with size 1130.8 KiB\n",
      "25/05/10 21:46:05 WARN DAGScheduler: Broadcasting large task binary with size 1130.9 KiB\n",
      "25/05/10 21:46:05 WARN DAGScheduler: Broadcasting large task binary with size 1130.9 KiB\n",
      "25/05/10 21:46:05 WARN DAGScheduler: Broadcasting large task binary with size 1130.9 KiB\n",
      "25/05/10 21:46:05 WARN DAGScheduler: Broadcasting large task binary with size 1130.8 KiB\n",
      "25/05/10 21:46:05 WARN DAGScheduler: Broadcasting large task binary with size 1130.9 KiB\n",
      "25/05/10 21:46:05 WARN DAGScheduler: Broadcasting large task binary with size 1130.9 KiB\n",
      "25/05/10 21:46:05 WARN DAGScheduler: Broadcasting large task binary with size 1130.8 KiB\n",
      "25/05/10 21:46:05 WARN DAGScheduler: Broadcasting large task binary with size 1130.8 KiB\n",
      "25/05/10 21:46:05 WARN DAGScheduler: Broadcasting large task binary with size 1130.9 KiB\n",
      "25/05/10 21:46:05 WARN DAGScheduler: Broadcasting large task binary with size 1130.9 KiB\n",
      "25/05/10 21:46:05 WARN DAGScheduler: Broadcasting large task binary with size 1130.8 KiB\n",
      "25/05/10 21:46:05 WARN DAGScheduler: Broadcasting large task binary with size 1130.8 KiB\n",
      "25/05/10 21:46:05 WARN DAGScheduler: Broadcasting large task binary with size 1130.9 KiB\n",
      "25/05/10 21:46:05 WARN DAGScheduler: Broadcasting large task binary with size 1130.9 KiB\n",
      "25/05/10 21:46:05 WARN DAGScheduler: Broadcasting large task binary with size 1130.9 KiB\n",
      "25/05/10 21:46:05 WARN DAGScheduler: Broadcasting large task binary with size 1130.9 KiB\n",
      "25/05/10 21:46:05 WARN DAGScheduler: Broadcasting large task binary with size 1130.8 KiB\n",
      "25/05/10 21:46:05 WARN DAGScheduler: Broadcasting large task binary with size 1130.8 KiB\n",
      "25/05/10 21:46:05 WARN DAGScheduler: Broadcasting large task binary with size 1130.9 KiB\n",
      "25/05/10 21:46:05 WARN DAGScheduler: Broadcasting large task binary with size 1130.8 KiB\n",
      "25/05/10 21:46:05 WARN DAGScheduler: Broadcasting large task binary with size 1130.8 KiB\n",
      "25/05/10 21:46:05 WARN DAGScheduler: Broadcasting large task binary with size 1130.9 KiB\n",
      "25/05/10 21:46:05 WARN DAGScheduler: Broadcasting large task binary with size 1130.9 KiB\n",
      "25/05/10 21:46:05 WARN DAGScheduler: Broadcasting large task binary with size 1130.9 KiB\n",
      "25/05/10 21:46:05 WARN DAGScheduler: Broadcasting large task binary with size 1130.9 KiB\n",
      "25/05/10 21:46:06 WARN DAGScheduler: Broadcasting large task binary with size 1130.8 KiB\n",
      "25/05/10 21:46:06 WARN DAGScheduler: Broadcasting large task binary with size 1130.8 KiB\n",
      "25/05/10 21:46:06 WARN DAGScheduler: Broadcasting large task binary with size 1130.9 KiB\n",
      "25/05/10 21:46:06 WARN DAGScheduler: Broadcasting large task binary with size 1130.8 KiB\n",
      "25/05/10 21:46:06 WARN DAGScheduler: Broadcasting large task binary with size 1130.8 KiB\n",
      "25/05/10 21:46:06 WARN DAGScheduler: Broadcasting large task binary with size 1130.9 KiB\n",
      "25/05/10 21:46:06 WARN DAGScheduler: Broadcasting large task binary with size 1130.9 KiB\n",
      "25/05/10 21:46:06 WARN DAGScheduler: Broadcasting large task binary with size 1130.9 KiB\n",
      "25/05/10 21:46:06 WARN DAGScheduler: Broadcasting large task binary with size 1130.8 KiB\n",
      "25/05/10 21:46:06 WARN DAGScheduler: Broadcasting large task binary with size 1130.9 KiB\n",
      "25/05/10 21:46:06 WARN DAGScheduler: Broadcasting large task binary with size 1130.8 KiB\n",
      "25/05/10 21:46:06 WARN DAGScheduler: Broadcasting large task binary with size 1130.9 KiB\n",
      "25/05/10 21:46:06 WARN DAGScheduler: Broadcasting large task binary with size 1130.8 KiB\n",
      "25/05/10 21:46:06 WARN DAGScheduler: Broadcasting large task binary with size 1130.8 KiB\n",
      "25/05/10 21:46:06 WARN DAGScheduler: Broadcasting large task binary with size 1130.9 KiB\n",
      "25/05/10 21:46:06 WARN DAGScheduler: Broadcasting large task binary with size 1130.9 KiB\n",
      "25/05/10 21:46:06 WARN DAGScheduler: Broadcasting large task binary with size 1130.9 KiB\n",
      "25/05/10 21:46:06 WARN DAGScheduler: Broadcasting large task binary with size 1130.9 KiB\n",
      "25/05/10 21:46:06 WARN DAGScheduler: Broadcasting large task binary with size 1130.8 KiB\n",
      "25/05/10 21:46:06 WARN DAGScheduler: Broadcasting large task binary with size 1130.8 KiB\n",
      "25/05/10 21:46:06 WARN DAGScheduler: Broadcasting large task binary with size 1130.9 KiB\n",
      "25/05/10 21:46:06 WARN DAGScheduler: Broadcasting large task binary with size 1130.8 KiB\n",
      "25/05/10 21:46:06 WARN DAGScheduler: Broadcasting large task binary with size 1130.8 KiB\n",
      "25/05/10 21:46:07 WARN DAGScheduler: Broadcasting large task binary with size 1130.9 KiB\n",
      "25/05/10 21:46:07 WARN DAGScheduler: Broadcasting large task binary with size 1130.9 KiB\n",
      "25/05/10 21:46:07 WARN DAGScheduler: Broadcasting large task binary with size 1130.9 KiB\n",
      "25/05/10 21:46:07 WARN DAGScheduler: Broadcasting large task binary with size 1130.9 KiB\n",
      "25/05/10 21:46:07 WARN DAGScheduler: Broadcasting large task binary with size 1130.8 KiB\n",
      "25/05/10 21:46:07 WARN DAGScheduler: Broadcasting large task binary with size 1130.9 KiB\n",
      "25/05/10 21:46:07 WARN DAGScheduler: Broadcasting large task binary with size 1130.9 KiB\n",
      "25/05/10 21:46:07 WARN DAGScheduler: Broadcasting large task binary with size 1130.9 KiB\n",
      "25/05/10 21:46:07 WARN DAGScheduler: Broadcasting large task binary with size 1130.9 KiB\n",
      "25/05/10 21:46:07 WARN DAGScheduler: Broadcasting large task binary with size 1130.8 KiB\n",
      "25/05/10 21:46:07 WARN DAGScheduler: Broadcasting large task binary with size 1130.8 KiB\n",
      "25/05/10 21:46:07 WARN DAGScheduler: Broadcasting large task binary with size 1130.9 KiB\n",
      "25/05/10 21:46:07 WARN DAGScheduler: Broadcasting large task binary with size 1130.8 KiB\n",
      "25/05/10 21:46:07 WARN DAGScheduler: Broadcasting large task binary with size 1130.9 KiB\n",
      "25/05/10 21:46:07 WARN DAGScheduler: Broadcasting large task binary with size 1130.8 KiB\n",
      "25/05/10 21:46:07 WARN DAGScheduler: Broadcasting large task binary with size 1130.8 KiB\n",
      "25/05/10 21:46:07 WARN DAGScheduler: Broadcasting large task binary with size 1130.8 KiB\n",
      "25/05/10 21:46:07 WARN DAGScheduler: Broadcasting large task binary with size 1130.9 KiB\n",
      "25/05/10 21:46:07 WARN DAGScheduler: Broadcasting large task binary with size 1130.9 KiB\n",
      "25/05/10 21:46:07 WARN DAGScheduler: Broadcasting large task binary with size 1130.9 KiB\n",
      "25/05/10 21:46:07 WARN DAGScheduler: Broadcasting large task binary with size 1130.9 KiB\n",
      "25/05/10 21:46:07 WARN DAGScheduler: Broadcasting large task binary with size 1130.9 KiB\n",
      "25/05/10 21:46:08 WARN DAGScheduler: Broadcasting large task binary with size 1130.8 KiB\n",
      "25/05/10 21:46:08 WARN DAGScheduler: Broadcasting large task binary with size 1130.8 KiB\n",
      "25/05/10 21:46:08 WARN DAGScheduler: Broadcasting large task binary with size 1130.9 KiB\n",
      "25/05/10 21:46:08 WARN DAGScheduler: Broadcasting large task binary with size 1130.9 KiB\n",
      "25/05/10 21:46:08 WARN DAGScheduler: Broadcasting large task binary with size 1130.9 KiB\n",
      "25/05/10 21:46:08 WARN DAGScheduler: Broadcasting large task binary with size 1130.8 KiB\n",
      "25/05/10 21:46:08 WARN DAGScheduler: Broadcasting large task binary with size 1130.9 KiB\n",
      "25/05/10 21:46:08 WARN DAGScheduler: Broadcasting large task binary with size 1130.9 KiB\n",
      "25/05/10 21:46:08 WARN DAGScheduler: Broadcasting large task binary with size 1130.8 KiB\n",
      "25/05/10 21:46:08 WARN DAGScheduler: Broadcasting large task binary with size 1130.9 KiB\n",
      "25/05/10 21:46:08 WARN DAGScheduler: Broadcasting large task binary with size 1130.9 KiB\n",
      "25/05/10 21:46:08 WARN DAGScheduler: Broadcasting large task binary with size 1129.6 KiB\n",
      "25/05/10 21:46:08 WARN DAGScheduler: Broadcasting large task binary with size 1129.6 KiB\n",
      "25/05/10 21:46:08 WARN DAGScheduler: Broadcasting large task binary with size 1130.8 KiB\n",
      "25/05/10 21:46:08 WARN DAGScheduler: Broadcasting large task binary with size 1130.9 KiB\n",
      "25/05/10 21:46:08 WARN DAGScheduler: Broadcasting large task binary with size 1130.8 KiB\n",
      "25/05/10 21:46:08 WARN DAGScheduler: Broadcasting large task binary with size 1130.9 KiB\n",
      "25/05/10 21:46:08 WARN DAGScheduler: Broadcasting large task binary with size 1130.9 KiB\n",
      "25/05/10 21:46:09 WARN DAGScheduler: Broadcasting large task binary with size 1130.9 KiB\n",
      "25/05/10 21:46:09 WARN DAGScheduler: Broadcasting large task binary with size 1130.9 KiB\n"
     ]
    },
    {
     "name": "stderr",
     "output_type": "stream",
     "text": [
      "                                                                                "
     ]
    },
    {
     "name": "stdout",
     "output_type": "stream",
     "text": [
      "25/05/10 21:46:13 WARN DAGScheduler: Broadcasting large task binary with size 1130.8 KiB\n"
     ]
    },
    {
     "name": "stderr",
     "output_type": "stream",
     "text": [
      "                                                                                "
     ]
    },
    {
     "name": "stdout",
     "output_type": "stream",
     "text": [
      "25/05/10 21:46:17 WARN DAGScheduler: Broadcasting large task binary with size 1130.8 KiB\n",
      "25/05/10 21:46:17 WARN DAGScheduler: Broadcasting large task binary with size 1130.8 KiB\n",
      "25/05/10 21:46:17 WARN DAGScheduler: Broadcasting large task binary with size 1130.8 KiB\n",
      "25/05/10 21:46:17 WARN DAGScheduler: Broadcasting large task binary with size 1130.9 KiB\n",
      "25/05/10 21:46:17 WARN DAGScheduler: Broadcasting large task binary with size 1130.9 KiB\n",
      "25/05/10 21:46:17 WARN DAGScheduler: Broadcasting large task binary with size 1130.9 KiB\n",
      "25/05/10 21:46:18 WARN DAGScheduler: Broadcasting large task binary with size 1130.9 KiB\n",
      "25/05/10 21:46:18 WARN DAGScheduler: Broadcasting large task binary with size 1130.9 KiB\n"
     ]
    },
    {
     "name": "stderr",
     "output_type": "stream",
     "text": [
      "[Stage 8278:> (0 + 2) / 2][Stage 8279:> (0 + 0) / 2][Stage 8280:> (0 + 0) / 2]  "
     ]
    },
    {
     "name": "stdout",
     "output_type": "stream",
     "text": [
      "25/05/10 21:46:23 WARN DAGScheduler: Broadcasting large task binary with size 1130.8 KiB\n"
     ]
    },
    {
     "name": "stderr",
     "output_type": "stream",
     "text": [
      "                                                                                "
     ]
    },
    {
     "name": "stdout",
     "output_type": "stream",
     "text": [
      "25/05/10 21:46:27 WARN DAGScheduler: Broadcasting large task binary with size 1130.8 KiB\n",
      "25/05/10 21:46:27 WARN DAGScheduler: Broadcasting large task binary with size 1130.8 KiB\n",
      "25/05/10 21:46:27 WARN DAGScheduler: Broadcasting large task binary with size 1130.8 KiB\n",
      "25/05/10 21:46:27 WARN DAGScheduler: Broadcasting large task binary with size 1130.9 KiB\n",
      "25/05/10 21:46:27 WARN DAGScheduler: Broadcasting large task binary with size 1130.9 KiB\n",
      "25/05/10 21:46:27 WARN DAGScheduler: Broadcasting large task binary with size 1130.9 KiB\n",
      "25/05/10 21:46:28 WARN DAGScheduler: Broadcasting large task binary with size 1130.8 KiB\n",
      "25/05/10 21:46:28 WARN DAGScheduler: Broadcasting large task binary with size 1130.9 KiB\n",
      "25/05/10 21:46:28 WARN DAGScheduler: Broadcasting large task binary with size 1130.9 KiB\n",
      "25/05/10 21:46:28 WARN DAGScheduler: Broadcasting large task binary with size 1130.8 KiB\n",
      "25/05/10 21:46:28 WARN DAGScheduler: Broadcasting large task binary with size 1130.9 KiB\n",
      "25/05/10 21:46:28 WARN DAGScheduler: Broadcasting large task binary with size 1130.9 KiB\n",
      "25/05/10 21:46:28 WARN DAGScheduler: Broadcasting large task binary with size 1130.8 KiB\n",
      "25/05/10 21:46:28 WARN DAGScheduler: Broadcasting large task binary with size 1130.8 KiB\n",
      "25/05/10 21:46:28 WARN DAGScheduler: Broadcasting large task binary with size 1130.9 KiB\n",
      "25/05/10 21:46:28 WARN DAGScheduler: Broadcasting large task binary with size 1130.8 KiB\n",
      "25/05/10 21:46:28 WARN DAGScheduler: Broadcasting large task binary with size 1130.9 KiB\n",
      "25/05/10 21:46:28 WARN DAGScheduler: Broadcasting large task binary with size 1130.9 KiB\n",
      "25/05/10 21:46:28 WARN DAGScheduler: Broadcasting large task binary with size 1130.8 KiB\n",
      "25/05/10 21:46:28 WARN DAGScheduler: Broadcasting large task binary with size 1130.8 KiB\n",
      "25/05/10 21:46:28 WARN DAGScheduler: Broadcasting large task binary with size 1130.9 KiB\n",
      "25/05/10 21:46:28 WARN DAGScheduler: Broadcasting large task binary with size 1130.8 KiB\n",
      "25/05/10 21:46:28 WARN DAGScheduler: Broadcasting large task binary with size 1130.9 KiB\n",
      "25/05/10 21:46:28 WARN DAGScheduler: Broadcasting large task binary with size 1130.9 KiB\n",
      "25/05/10 21:46:28 WARN DAGScheduler: Broadcasting large task binary with size 1130.8 KiB\n",
      "25/05/10 21:46:28 WARN DAGScheduler: Broadcasting large task binary with size 1130.9 KiB\n",
      "25/05/10 21:46:28 WARN DAGScheduler: Broadcasting large task binary with size 1130.8 KiB\n",
      "25/05/10 21:46:28 WARN DAGScheduler: Broadcasting large task binary with size 1130.9 KiB\n",
      "25/05/10 21:46:28 WARN DAGScheduler: Broadcasting large task binary with size 1130.9 KiB\n",
      "25/05/10 21:46:28 WARN DAGScheduler: Broadcasting large task binary with size 1130.8 KiB\n",
      "25/05/10 21:46:28 WARN DAGScheduler: Broadcasting large task binary with size 1130.8 KiB\n",
      "25/05/10 21:46:28 WARN DAGScheduler: Broadcasting large task binary with size 1130.9 KiB\n",
      "25/05/10 21:46:29 WARN DAGScheduler: Broadcasting large task binary with size 1130.9 KiB\n",
      "25/05/10 21:46:29 WARN DAGScheduler: Broadcasting large task binary with size 1130.8 KiB\n",
      "25/05/10 21:46:29 WARN DAGScheduler: Broadcasting large task binary with size 1130.8 KiB\n",
      "25/05/10 21:46:29 WARN DAGScheduler: Broadcasting large task binary with size 1130.9 KiB\n",
      "25/05/10 21:46:29 WARN DAGScheduler: Broadcasting large task binary with size 1130.9 KiB\n",
      "25/05/10 21:46:29 WARN DAGScheduler: Broadcasting large task binary with size 1130.9 KiB\n",
      "25/05/10 21:46:29 WARN DAGScheduler: Broadcasting large task binary with size 1130.8 KiB\n",
      "25/05/10 21:46:29 WARN DAGScheduler: Broadcasting large task binary with size 1130.9 KiB\n",
      "25/05/10 21:46:29 WARN DAGScheduler: Broadcasting large task binary with size 1130.8 KiB\n",
      "25/05/10 21:46:29 WARN DAGScheduler: Broadcasting large task binary with size 1130.9 KiB\n",
      "25/05/10 21:46:29 WARN DAGScheduler: Broadcasting large task binary with size 1130.8 KiB\n",
      "25/05/10 21:46:29 WARN DAGScheduler: Broadcasting large task binary with size 1130.9 KiB\n",
      "25/05/10 21:46:29 WARN DAGScheduler: Broadcasting large task binary with size 1130.8 KiB\n",
      "25/05/10 21:46:29 WARN DAGScheduler: Broadcasting large task binary with size 1130.9 KiB\n",
      "25/05/10 21:46:29 WARN DAGScheduler: Broadcasting large task binary with size 1130.9 KiB\n",
      "25/05/10 21:46:29 WARN DAGScheduler: Broadcasting large task binary with size 1130.8 KiB\n",
      "25/05/10 21:46:29 WARN DAGScheduler: Broadcasting large task binary with size 1130.8 KiB\n",
      "25/05/10 21:46:29 WARN DAGScheduler: Broadcasting large task binary with size 1130.9 KiB\n",
      "25/05/10 21:46:29 WARN DAGScheduler: Broadcasting large task binary with size 1130.9 KiB\n",
      "25/05/10 21:46:29 WARN DAGScheduler: Broadcasting large task binary with size 1130.8 KiB\n",
      "25/05/10 21:46:29 WARN DAGScheduler: Broadcasting large task binary with size 1130.9 KiB\n",
      "25/05/10 21:46:29 WARN DAGScheduler: Broadcasting large task binary with size 1130.8 KiB\n",
      "25/05/10 21:46:29 WARN DAGScheduler: Broadcasting large task binary with size 1130.9 KiB\n",
      "25/05/10 21:46:29 WARN DAGScheduler: Broadcasting large task binary with size 1130.8 KiB\n",
      "25/05/10 21:46:29 WARN DAGScheduler: Broadcasting large task binary with size 1130.9 KiB\n",
      "25/05/10 21:46:29 WARN DAGScheduler: Broadcasting large task binary with size 1130.8 KiB\n",
      "25/05/10 21:46:29 WARN DAGScheduler: Broadcasting large task binary with size 1130.9 KiB\n",
      "25/05/10 21:46:29 WARN DAGScheduler: Broadcasting large task binary with size 1130.9 KiB\n",
      "25/05/10 21:46:29 WARN DAGScheduler: Broadcasting large task binary with size 1130.8 KiB\n",
      "25/05/10 21:46:29 WARN DAGScheduler: Broadcasting large task binary with size 1130.9 KiB\n",
      "25/05/10 21:46:30 WARN DAGScheduler: Broadcasting large task binary with size 1130.9 KiB\n",
      "25/05/10 21:46:30 WARN DAGScheduler: Broadcasting large task binary with size 1130.8 KiB\n",
      "25/05/10 21:46:30 WARN DAGScheduler: Broadcasting large task binary with size 1130.8 KiB\n",
      "25/05/10 21:46:30 WARN DAGScheduler: Broadcasting large task binary with size 1130.9 KiB\n",
      "25/05/10 21:46:30 WARN DAGScheduler: Broadcasting large task binary with size 1130.9 KiB\n",
      "25/05/10 21:46:30 WARN DAGScheduler: Broadcasting large task binary with size 1130.8 KiB\n",
      "25/05/10 21:46:30 WARN DAGScheduler: Broadcasting large task binary with size 1130.9 KiB\n",
      "25/05/10 21:46:30 WARN DAGScheduler: Broadcasting large task binary with size 1130.8 KiB\n",
      "25/05/10 21:46:30 WARN DAGScheduler: Broadcasting large task binary with size 1130.8 KiB\n",
      "25/05/10 21:46:30 WARN DAGScheduler: Broadcasting large task binary with size 1130.9 KiB\n",
      "25/05/10 21:46:30 WARN DAGScheduler: Broadcasting large task binary with size 1130.9 KiB\n",
      "25/05/10 21:46:30 WARN DAGScheduler: Broadcasting large task binary with size 1130.8 KiB\n",
      "25/05/10 21:46:30 WARN DAGScheduler: Broadcasting large task binary with size 1130.9 KiB\n",
      "25/05/10 21:46:30 WARN DAGScheduler: Broadcasting large task binary with size 1130.8 KiB\n",
      "25/05/10 21:46:30 WARN DAGScheduler: Broadcasting large task binary with size 1130.9 KiB\n",
      "25/05/10 21:46:30 WARN DAGScheduler: Broadcasting large task binary with size 1130.9 KiB\n",
      "25/05/10 21:46:30 WARN DAGScheduler: Broadcasting large task binary with size 1130.8 KiB\n",
      "25/05/10 21:46:30 WARN DAGScheduler: Broadcasting large task binary with size 1130.8 KiB\n",
      "25/05/10 21:46:30 WARN DAGScheduler: Broadcasting large task binary with size 1130.9 KiB\n",
      "25/05/10 21:46:30 WARN DAGScheduler: Broadcasting large task binary with size 1130.9 KiB\n",
      "25/05/10 21:46:30 WARN DAGScheduler: Broadcasting large task binary with size 1130.8 KiB\n",
      "25/05/10 21:46:30 WARN DAGScheduler: Broadcasting large task binary with size 1130.8 KiB\n",
      "25/05/10 21:46:30 WARN DAGScheduler: Broadcasting large task binary with size 1130.9 KiB\n",
      "25/05/10 21:46:30 WARN DAGScheduler: Broadcasting large task binary with size 1130.9 KiB\n",
      "25/05/10 21:46:30 WARN DAGScheduler: Broadcasting large task binary with size 1130.9 KiB\n",
      "25/05/10 21:46:30 WARN DAGScheduler: Broadcasting large task binary with size 1130.8 KiB\n",
      "25/05/10 21:46:30 WARN DAGScheduler: Broadcasting large task binary with size 1130.8 KiB\n",
      "25/05/10 21:46:30 WARN DAGScheduler: Broadcasting large task binary with size 1130.9 KiB\n",
      "25/05/10 21:46:31 WARN DAGScheduler: Broadcasting large task binary with size 1130.9 KiB\n",
      "25/05/10 21:46:31 WARN DAGScheduler: Broadcasting large task binary with size 1130.8 KiB\n",
      "25/05/10 21:46:31 WARN DAGScheduler: Broadcasting large task binary with size 1130.9 KiB\n",
      "25/05/10 21:46:31 WARN DAGScheduler: Broadcasting large task binary with size 1130.8 KiB\n",
      "25/05/10 21:46:31 WARN DAGScheduler: Broadcasting large task binary with size 1130.9 KiB\n",
      "25/05/10 21:46:31 WARN DAGScheduler: Broadcasting large task binary with size 1130.9 KiB\n",
      "25/05/10 21:46:31 WARN DAGScheduler: Broadcasting large task binary with size 1130.8 KiB\n",
      "25/05/10 21:46:31 WARN DAGScheduler: Broadcasting large task binary with size 1130.9 KiB\n",
      "25/05/10 21:46:31 WARN DAGScheduler: Broadcasting large task binary with size 1130.8 KiB\n",
      "25/05/10 21:46:31 WARN DAGScheduler: Broadcasting large task binary with size 1130.9 KiB\n",
      "25/05/10 21:46:31 WARN DAGScheduler: Broadcasting large task binary with size 1130.8 KiB\n",
      "25/05/10 21:46:31 WARN DAGScheduler: Broadcasting large task binary with size 1130.9 KiB\n",
      "25/05/10 21:46:31 WARN DAGScheduler: Broadcasting large task binary with size 1130.9 KiB\n",
      "25/05/10 21:46:31 WARN DAGScheduler: Broadcasting large task binary with size 1130.8 KiB\n",
      "25/05/10 21:46:31 WARN DAGScheduler: Broadcasting large task binary with size 1130.8 KiB\n",
      "25/05/10 21:46:31 WARN DAGScheduler: Broadcasting large task binary with size 1130.9 KiB\n",
      "25/05/10 21:46:31 WARN DAGScheduler: Broadcasting large task binary with size 1130.9 KiB\n",
      "25/05/10 21:46:31 WARN DAGScheduler: Broadcasting large task binary with size 1130.8 KiB\n",
      "25/05/10 21:46:31 WARN DAGScheduler: Broadcasting large task binary with size 1130.9 KiB\n",
      "25/05/10 21:46:31 WARN DAGScheduler: Broadcasting large task binary with size 1130.8 KiB\n",
      "25/05/10 21:46:31 WARN DAGScheduler: Broadcasting large task binary with size 1130.8 KiB\n",
      "25/05/10 21:46:31 WARN DAGScheduler: Broadcasting large task binary with size 1130.9 KiB\n",
      "25/05/10 21:46:31 WARN DAGScheduler: Broadcasting large task binary with size 1130.8 KiB\n",
      "25/05/10 21:46:31 WARN DAGScheduler: Broadcasting large task binary with size 1130.9 KiB\n",
      "25/05/10 21:46:32 WARN DAGScheduler: Broadcasting large task binary with size 1130.9 KiB\n",
      "25/05/10 21:46:32 WARN DAGScheduler: Broadcasting large task binary with size 1130.9 KiB\n",
      "25/05/10 21:46:32 WARN DAGScheduler: Broadcasting large task binary with size 1130.8 KiB\n",
      "25/05/10 21:46:32 WARN DAGScheduler: Broadcasting large task binary with size 1130.9 KiB\n",
      "25/05/10 21:46:32 WARN DAGScheduler: Broadcasting large task binary with size 1130.9 KiB\n",
      "25/05/10 21:46:32 WARN DAGScheduler: Broadcasting large task binary with size 1130.8 KiB\n",
      "25/05/10 21:46:32 WARN DAGScheduler: Broadcasting large task binary with size 1130.8 KiB\n",
      "25/05/10 21:46:32 WARN DAGScheduler: Broadcasting large task binary with size 1130.8 KiB\n",
      "25/05/10 21:46:32 WARN DAGScheduler: Broadcasting large task binary with size 1130.9 KiB\n",
      "25/05/10 21:46:32 WARN DAGScheduler: Broadcasting large task binary with size 1130.8 KiB\n",
      "25/05/10 21:46:32 WARN DAGScheduler: Broadcasting large task binary with size 1130.9 KiB\n",
      "25/05/10 21:46:32 WARN DAGScheduler: Broadcasting large task binary with size 1130.9 KiB\n",
      "25/05/10 21:46:32 WARN DAGScheduler: Broadcasting large task binary with size 1130.9 KiB\n",
      "25/05/10 21:46:32 WARN DAGScheduler: Broadcasting large task binary with size 1130.9 KiB\n",
      "25/05/10 21:46:32 WARN DAGScheduler: Broadcasting large task binary with size 1130.8 KiB\n",
      "25/05/10 21:46:32 WARN DAGScheduler: Broadcasting large task binary with size 1130.8 KiB\n",
      "25/05/10 21:46:32 WARN DAGScheduler: Broadcasting large task binary with size 1130.8 KiB\n",
      "25/05/10 21:46:32 WARN DAGScheduler: Broadcasting large task binary with size 1130.9 KiB\n",
      "25/05/10 21:46:32 WARN DAGScheduler: Broadcasting large task binary with size 1130.8 KiB\n",
      "25/05/10 21:46:32 WARN DAGScheduler: Broadcasting large task binary with size 1130.9 KiB\n",
      "25/05/10 21:46:32 WARN DAGScheduler: Broadcasting large task binary with size 1130.9 KiB\n",
      "25/05/10 21:46:32 WARN DAGScheduler: Broadcasting large task binary with size 1130.9 KiB\n",
      "25/05/10 21:46:32 WARN DAGScheduler: Broadcasting large task binary with size 1130.9 KiB\n",
      "25/05/10 21:46:33 WARN DAGScheduler: Broadcasting large task binary with size 1130.8 KiB\n",
      "25/05/10 21:46:33 WARN DAGScheduler: Broadcasting large task binary with size 1130.9 KiB\n",
      "25/05/10 21:46:33 WARN DAGScheduler: Broadcasting large task binary with size 1130.8 KiB\n",
      "25/05/10 21:46:33 WARN DAGScheduler: Broadcasting large task binary with size 1130.9 KiB\n",
      "25/05/10 21:46:33 WARN DAGScheduler: Broadcasting large task binary with size 1130.8 KiB\n",
      "25/05/10 21:46:33 WARN DAGScheduler: Broadcasting large task binary with size 1130.8 KiB\n",
      "25/05/10 21:46:33 WARN DAGScheduler: Broadcasting large task binary with size 1130.9 KiB\n",
      "25/05/10 21:46:33 WARN DAGScheduler: Broadcasting large task binary with size 1130.9 KiB\n",
      "25/05/10 21:46:33 WARN DAGScheduler: Broadcasting large task binary with size 1130.9 KiB\n",
      "25/05/10 21:46:33 WARN DAGScheduler: Broadcasting large task binary with size 1130.8 KiB\n",
      "25/05/10 21:46:33 WARN DAGScheduler: Broadcasting large task binary with size 1130.8 KiB\n",
      "25/05/10 21:46:33 WARN DAGScheduler: Broadcasting large task binary with size 1130.9 KiB\n",
      "25/05/10 21:46:33 WARN DAGScheduler: Broadcasting large task binary with size 1130.9 KiB\n",
      "25/05/10 21:46:33 WARN DAGScheduler: Broadcasting large task binary with size 1130.8 KiB\n",
      "25/05/10 21:46:33 WARN DAGScheduler: Broadcasting large task binary with size 1130.8 KiB\n",
      "25/05/10 21:46:33 WARN DAGScheduler: Broadcasting large task binary with size 1130.8 KiB\n",
      "25/05/10 21:46:33 WARN DAGScheduler: Broadcasting large task binary with size 1130.9 KiB\n",
      "25/05/10 21:46:33 WARN DAGScheduler: Broadcasting large task binary with size 1130.9 KiB\n",
      "25/05/10 21:46:33 WARN DAGScheduler: Broadcasting large task binary with size 1130.8 KiB\n",
      "25/05/10 21:46:33 WARN DAGScheduler: Broadcasting large task binary with size 1130.9 KiB\n",
      "25/05/10 21:46:33 WARN DAGScheduler: Broadcasting large task binary with size 1130.9 KiB\n",
      "25/05/10 21:46:33 WARN DAGScheduler: Broadcasting large task binary with size 1130.9 KiB\n",
      "25/05/10 21:46:33 WARN DAGScheduler: Broadcasting large task binary with size 1130.8 KiB\n",
      "25/05/10 21:46:34 WARN DAGScheduler: Broadcasting large task binary with size 1130.8 KiB\n",
      "25/05/10 21:46:34 WARN DAGScheduler: Broadcasting large task binary with size 1130.8 KiB\n",
      "25/05/10 21:46:34 WARN DAGScheduler: Broadcasting large task binary with size 1130.9 KiB\n",
      "25/05/10 21:46:34 WARN DAGScheduler: Broadcasting large task binary with size 1130.9 KiB\n",
      "25/05/10 21:46:34 WARN DAGScheduler: Broadcasting large task binary with size 1130.8 KiB\n",
      "25/05/10 21:46:34 WARN DAGScheduler: Broadcasting large task binary with size 1130.9 KiB\n",
      "25/05/10 21:46:34 WARN DAGScheduler: Broadcasting large task binary with size 1130.9 KiB\n",
      "25/05/10 21:46:34 WARN DAGScheduler: Broadcasting large task binary with size 1130.9 KiB\n",
      "25/05/10 21:46:34 WARN DAGScheduler: Broadcasting large task binary with size 1130.8 KiB\n",
      "25/05/10 21:46:34 WARN DAGScheduler: Broadcasting large task binary with size 1130.8 KiB\n",
      "25/05/10 21:46:34 WARN DAGScheduler: Broadcasting large task binary with size 1130.8 KiB\n",
      "25/05/10 21:46:34 WARN DAGScheduler: Broadcasting large task binary with size 1130.9 KiB\n",
      "25/05/10 21:46:34 WARN DAGScheduler: Broadcasting large task binary with size 1130.8 KiB\n",
      "25/05/10 21:46:34 WARN DAGScheduler: Broadcasting large task binary with size 1130.9 KiB\n",
      "25/05/10 21:46:34 WARN DAGScheduler: Broadcasting large task binary with size 1130.9 KiB\n",
      "25/05/10 21:46:34 WARN DAGScheduler: Broadcasting large task binary with size 1130.9 KiB\n",
      "25/05/10 21:46:34 WARN DAGScheduler: Broadcasting large task binary with size 1130.9 KiB\n",
      "25/05/10 21:46:34 WARN DAGScheduler: Broadcasting large task binary with size 1130.8 KiB\n",
      "25/05/10 21:46:34 WARN DAGScheduler: Broadcasting large task binary with size 1130.8 KiB\n",
      "25/05/10 21:46:34 WARN DAGScheduler: Broadcasting large task binary with size 1130.8 KiB\n",
      "25/05/10 21:46:34 WARN DAGScheduler: Broadcasting large task binary with size 1130.9 KiB\n",
      "25/05/10 21:46:34 WARN DAGScheduler: Broadcasting large task binary with size 1130.8 KiB\n",
      "25/05/10 21:46:35 WARN DAGScheduler: Broadcasting large task binary with size 1130.9 KiB\n",
      "25/05/10 21:46:35 WARN DAGScheduler: Broadcasting large task binary with size 1130.9 KiB\n",
      "25/05/10 21:46:35 WARN DAGScheduler: Broadcasting large task binary with size 1130.9 KiB\n",
      "25/05/10 21:46:35 WARN DAGScheduler: Broadcasting large task binary with size 1130.8 KiB\n",
      "25/05/10 21:46:35 WARN DAGScheduler: Broadcasting large task binary with size 1130.9 KiB\n",
      "25/05/10 21:46:35 WARN DAGScheduler: Broadcasting large task binary with size 1130.8 KiB\n",
      "25/05/10 21:46:35 WARN DAGScheduler: Broadcasting large task binary with size 1130.9 KiB\n",
      "25/05/10 21:46:35 WARN DAGScheduler: Broadcasting large task binary with size 1130.8 KiB\n",
      "25/05/10 21:46:35 WARN DAGScheduler: Broadcasting large task binary with size 1130.8 KiB\n",
      "25/05/10 21:46:35 WARN DAGScheduler: Broadcasting large task binary with size 1130.9 KiB\n",
      "25/05/10 21:46:35 WARN DAGScheduler: Broadcasting large task binary with size 1130.9 KiB\n",
      "25/05/10 21:46:35 WARN DAGScheduler: Broadcasting large task binary with size 1130.8 KiB\n",
      "25/05/10 21:46:35 WARN DAGScheduler: Broadcasting large task binary with size 1130.9 KiB\n",
      "25/05/10 21:46:35 WARN DAGScheduler: Broadcasting large task binary with size 1130.9 KiB\n",
      "25/05/10 21:46:35 WARN DAGScheduler: Broadcasting large task binary with size 1130.8 KiB\n",
      "25/05/10 21:46:35 WARN DAGScheduler: Broadcasting large task binary with size 1130.8 KiB\n",
      "25/05/10 21:46:35 WARN DAGScheduler: Broadcasting large task binary with size 1130.8 KiB\n",
      "25/05/10 21:46:35 WARN DAGScheduler: Broadcasting large task binary with size 1130.8 KiB\n",
      "25/05/10 21:46:35 WARN DAGScheduler: Broadcasting large task binary with size 1130.9 KiB\n",
      "25/05/10 21:46:36 WARN DAGScheduler: Broadcasting large task binary with size 1130.9 KiB\n",
      "25/05/10 21:46:36 WARN DAGScheduler: Broadcasting large task binary with size 1130.8 KiB\n",
      "25/05/10 21:46:36 WARN DAGScheduler: Broadcasting large task binary with size 1130.9 KiB\n",
      "25/05/10 21:46:36 WARN DAGScheduler: Broadcasting large task binary with size 1129.7 KiB\n",
      "25/05/10 21:46:36 WARN DAGScheduler: Broadcasting large task binary with size 1130.8 KiB\n",
      "25/05/10 21:46:36 WARN DAGScheduler: Broadcasting large task binary with size 1130.9 KiB\n",
      "25/05/10 21:46:36 WARN DAGScheduler: Broadcasting large task binary with size 1130.8 KiB\n",
      "25/05/10 21:46:36 WARN DAGScheduler: Broadcasting large task binary with size 1130.8 KiB\n",
      "25/05/10 21:46:36 WARN DAGScheduler: Broadcasting large task binary with size 1130.9 KiB\n",
      "25/05/10 21:46:36 WARN DAGScheduler: Broadcasting large task binary with size 1130.8 KiB\n",
      "25/05/10 21:46:36 WARN DAGScheduler: Broadcasting large task binary with size 1130.9 KiB\n",
      "25/05/10 21:46:36 WARN DAGScheduler: Broadcasting large task binary with size 1129.7 KiB\n"
     ]
    },
    {
     "name": "stderr",
     "output_type": "stream",
     "text": [
      "                                                                                "
     ]
    },
    {
     "name": "stdout",
     "output_type": "stream",
     "text": [
      "25/05/10 21:46:41 WARN DAGScheduler: Broadcasting large task binary with size 1130.9 KiB\n",
      "25/05/10 21:46:41 WARN DAGScheduler: Broadcasting large task binary with size 1130.9 KiB\n",
      "25/05/10 21:46:41 WARN DAGScheduler: Broadcasting large task binary with size 1130.8 KiB\n",
      "25/05/10 21:46:41 WARN DAGScheduler: Broadcasting large task binary with size 1130.9 KiB\n",
      "25/05/10 21:46:41 WARN DAGScheduler: Broadcasting large task binary with size 1130.8 KiB\n",
      "25/05/10 21:46:41 WARN DAGScheduler: Broadcasting large task binary with size 1130.9 KiB\n",
      "25/05/10 21:46:41 WARN DAGScheduler: Broadcasting large task binary with size 1129.6 KiB\n",
      "25/05/10 21:46:41 WARN DAGScheduler: Broadcasting large task binary with size 1129.6 KiB\n"
     ]
    },
    {
     "name": "stderr",
     "output_type": "stream",
     "text": [
      "                                                                                "
     ]
    },
    {
     "name": "stdout",
     "output_type": "stream",
     "text": [
      "25/05/10 21:46:45 WARN DAGScheduler: Broadcasting large task binary with size 1130.9 KiB\n"
     ]
    },
    {
     "name": "stderr",
     "output_type": "stream",
     "text": [
      "                                                                                "
     ]
    },
    {
     "name": "stdout",
     "output_type": "stream",
     "text": [
      "25/05/10 21:46:50 WARN DAGScheduler: Broadcasting large task binary with size 1130.9 KiB\n",
      "25/05/10 21:46:50 WARN DAGScheduler: Broadcasting large task binary with size 1130.9 KiB\n",
      "25/05/10 21:46:50 WARN DAGScheduler: Broadcasting large task binary with size 1130.8 KiB\n",
      "25/05/10 21:46:50 WARN DAGScheduler: Broadcasting large task binary with size 1130.8 KiB\n",
      "25/05/10 21:46:50 WARN DAGScheduler: Broadcasting large task binary with size 1130.9 KiB\n",
      "25/05/10 21:46:50 WARN DAGScheduler: Broadcasting large task binary with size 1130.9 KiB\n"
     ]
    },
    {
     "name": "stderr",
     "output_type": "stream",
     "text": [
      "                                                                                "
     ]
    },
    {
     "name": "stdout",
     "output_type": "stream",
     "text": [
      "25/05/10 21:46:55 WARN DAGScheduler: Broadcasting large task binary with size 1130.8 KiB\n"
     ]
    },
    {
     "name": "stderr",
     "output_type": "stream",
     "text": [
      "                                                                                "
     ]
    },
    {
     "name": "stdout",
     "output_type": "stream",
     "text": [
      "25/05/10 21:46:59 WARN DAGScheduler: Broadcasting large task binary with size 1130.8 KiB\n"
     ]
    },
    {
     "name": "stderr",
     "output_type": "stream",
     "text": [
      "                                                                                "
     ]
    },
    {
     "name": "stdout",
     "output_type": "stream",
     "text": [
      "25/05/10 21:47:04 WARN DAGScheduler: Broadcasting large task binary with size 1130.9 KiB\n",
      "25/05/10 21:47:04 WARN DAGScheduler: Broadcasting large task binary with size 1130.9 KiB\n",
      "25/05/10 21:47:04 WARN DAGScheduler: Broadcasting large task binary with size 1130.9 KiB\n",
      "25/05/10 21:47:04 WARN DAGScheduler: Broadcasting large task binary with size 1130.8 KiB\n",
      "25/05/10 21:47:04 WARN DAGScheduler: Broadcasting large task binary with size 1130.9 KiB\n",
      "25/05/10 21:47:04 WARN DAGScheduler: Broadcasting large task binary with size 1130.9 KiB\n",
      "25/05/10 21:47:05 WARN DAGScheduler: Broadcasting large task binary with size 1129.6 KiB\n"
     ]
    },
    {
     "name": "stderr",
     "output_type": "stream",
     "text": [
      "                                                                                "
     ]
    },
    {
     "name": "stdout",
     "output_type": "stream",
     "text": [
      "25/05/10 21:47:09 WARN DAGScheduler: Broadcasting large task binary with size 1130.8 KiB\n",
      "25/05/10 21:47:09 WARN DAGScheduler: Broadcasting large task binary with size 1130.9 KiB\n",
      "25/05/10 21:47:09 WARN DAGScheduler: Broadcasting large task binary with size 1130.9 KiB\n",
      "25/05/10 21:47:09 WARN DAGScheduler: Broadcasting large task binary with size 1130.9 KiB\n",
      "25/05/10 21:47:09 WARN DAGScheduler: Broadcasting large task binary with size 1130.8 KiB\n",
      "25/05/10 21:47:09 WARN DAGScheduler: Broadcasting large task binary with size 1130.9 KiB\n",
      "25/05/10 21:47:09 WARN DAGScheduler: Broadcasting large task binary with size 1130.9 KiB\n"
     ]
    },
    {
     "name": "stderr",
     "output_type": "stream",
     "text": [
      "                                                                                "
     ]
    },
    {
     "name": "stdout",
     "output_type": "stream",
     "text": [
      "25/05/10 21:47:13 WARN DAGScheduler: Broadcasting large task binary with size 1130.8 KiB\n",
      "25/05/10 21:47:13 WARN DAGScheduler: Broadcasting large task binary with size 1130.8 KiB\n",
      "25/05/10 21:47:14 WARN DAGScheduler: Broadcasting large task binary with size 1130.8 KiB\n",
      "25/05/10 21:47:14 WARN DAGScheduler: Broadcasting large task binary with size 1130.8 KiB\n",
      "25/05/10 21:47:14 WARN DAGScheduler: Broadcasting large task binary with size 1130.8 KiB\n",
      "25/05/10 21:47:14 WARN DAGScheduler: Broadcasting large task binary with size 1130.8 KiB\n",
      "25/05/10 21:47:14 WARN DAGScheduler: Broadcasting large task binary with size 1130.9 KiB\n",
      "25/05/10 21:47:14 WARN DAGScheduler: Broadcasting large task binary with size 1130.9 KiB\n",
      "25/05/10 21:47:14 WARN DAGScheduler: Broadcasting large task binary with size 1130.9 KiB\n",
      "25/05/10 21:47:14 WARN DAGScheduler: Broadcasting large task binary with size 1130.9 KiB\n",
      "25/05/10 21:47:14 WARN DAGScheduler: Broadcasting large task binary with size 1130.8 KiB\n",
      "25/05/10 21:47:14 WARN DAGScheduler: Broadcasting large task binary with size 1130.9 KiB\n"
     ]
    },
    {
     "name": "stderr",
     "output_type": "stream",
     "text": [
      "                                                                                "
     ]
    },
    {
     "name": "stdout",
     "output_type": "stream",
     "text": [
      "25/05/10 21:47:18 WARN DAGScheduler: Broadcasting large task binary with size 1130.8 KiB\n",
      "25/05/10 21:47:18 WARN DAGScheduler: Broadcasting large task binary with size 1130.8 KiB\n",
      "25/05/10 21:47:18 WARN DAGScheduler: Broadcasting large task binary with size 1130.8 KiB\n",
      "25/05/10 21:47:18 WARN DAGScheduler: Broadcasting large task binary with size 1130.8 KiB\n",
      "25/05/10 21:47:18 WARN DAGScheduler: Broadcasting large task binary with size 1130.8 KiB\n",
      "25/05/10 21:47:18 WARN DAGScheduler: Broadcasting large task binary with size 1130.8 KiB\n",
      "25/05/10 21:47:18 WARN DAGScheduler: Broadcasting large task binary with size 1130.8 KiB\n",
      "25/05/10 21:47:19 WARN DAGScheduler: Broadcasting large task binary with size 1130.8 KiB\n",
      "25/05/10 21:47:19 WARN DAGScheduler: Broadcasting large task binary with size 1130.8 KiB\n",
      "25/05/10 21:47:19 WARN DAGScheduler: Broadcasting large task binary with size 1130.8 KiB\n",
      "25/05/10 21:47:19 WARN DAGScheduler: Broadcasting large task binary with size 1130.8 KiB\n",
      "25/05/10 21:47:19 WARN DAGScheduler: Broadcasting large task binary with size 1130.9 KiB\n",
      "25/05/10 21:47:19 WARN DAGScheduler: Broadcasting large task binary with size 1130.9 KiB\n",
      "25/05/10 21:47:19 WARN DAGScheduler: Broadcasting large task binary with size 1130.9 KiB\n",
      "25/05/10 21:47:19 WARN DAGScheduler: Broadcasting large task binary with size 1130.9 KiB\n",
      "25/05/10 21:47:19 WARN DAGScheduler: Broadcasting large task binary with size 1130.8 KiB\n",
      "25/05/10 21:47:19 WARN DAGScheduler: Broadcasting large task binary with size 1130.8 KiB\n",
      "25/05/10 21:47:19 WARN DAGScheduler: Broadcasting large task binary with size 1130.9 KiB\n",
      "25/05/10 21:47:19 WARN DAGScheduler: Broadcasting large task binary with size 1130.8 KiB\n",
      "25/05/10 21:47:19 WARN DAGScheduler: Broadcasting large task binary with size 1130.8 KiB\n",
      "25/05/10 21:47:19 WARN DAGScheduler: Broadcasting large task binary with size 1130.9 KiB\n",
      "25/05/10 21:47:19 WARN DAGScheduler: Broadcasting large task binary with size 1130.9 KiB\n",
      "25/05/10 21:47:19 WARN DAGScheduler: Broadcasting large task binary with size 1130.9 KiB\n",
      "25/05/10 21:47:19 WARN DAGScheduler: Broadcasting large task binary with size 1130.8 KiB\n",
      "25/05/10 21:47:19 WARN DAGScheduler: Broadcasting large task binary with size 1130.9 KiB\n",
      "25/05/10 21:47:19 WARN DAGScheduler: Broadcasting large task binary with size 1130.8 KiB\n",
      "25/05/10 21:47:19 WARN DAGScheduler: Broadcasting large task binary with size 1130.8 KiB\n",
      "25/05/10 21:47:20 WARN DAGScheduler: Broadcasting large task binary with size 1130.8 KiB\n",
      "25/05/10 21:47:20 WARN DAGScheduler: Broadcasting large task binary with size 1130.9 KiB\n",
      "25/05/10 21:47:20 WARN DAGScheduler: Broadcasting large task binary with size 1130.9 KiB\n",
      "25/05/10 21:47:20 WARN DAGScheduler: Broadcasting large task binary with size 1130.8 KiB\n",
      "25/05/10 21:47:20 WARN DAGScheduler: Broadcasting large task binary with size 1130.9 KiB\n",
      "25/05/10 21:47:20 WARN DAGScheduler: Broadcasting large task binary with size 1130.9 KiB\n",
      "25/05/10 21:47:20 WARN DAGScheduler: Broadcasting large task binary with size 1130.9 KiB\n",
      "25/05/10 21:47:20 WARN DAGScheduler: Broadcasting large task binary with size 1130.8 KiB\n",
      "25/05/10 21:47:20 WARN DAGScheduler: Broadcasting large task binary with size 1130.8 KiB\n",
      "25/05/10 21:47:20 WARN DAGScheduler: Broadcasting large task binary with size 1130.8 KiB\n",
      "25/05/10 21:47:20 WARN DAGScheduler: Broadcasting large task binary with size 1130.8 KiB\n",
      "25/05/10 21:47:20 WARN DAGScheduler: Broadcasting large task binary with size 1130.9 KiB\n",
      "25/05/10 21:47:20 WARN DAGScheduler: Broadcasting large task binary with size 1130.9 KiB\n",
      "25/05/10 21:47:20 WARN DAGScheduler: Broadcasting large task binary with size 1130.9 KiB\n",
      "25/05/10 21:47:20 WARN DAGScheduler: Broadcasting large task binary with size 1130.8 KiB\n",
      "25/05/10 21:47:20 WARN DAGScheduler: Broadcasting large task binary with size 1130.8 KiB\n",
      "25/05/10 21:47:20 WARN DAGScheduler: Broadcasting large task binary with size 1130.8 KiB\n",
      "25/05/10 21:47:20 WARN DAGScheduler: Broadcasting large task binary with size 1130.9 KiB\n"
     ]
    },
    {
     "name": "stderr",
     "output_type": "stream",
     "text": [
      "                                                                                "
     ]
    },
    {
     "name": "stdout",
     "output_type": "stream",
     "text": [
      "25/05/10 21:47:21 WARN DAGScheduler: Broadcasting large task binary with size 1130.9 KiB\n",
      "25/05/10 21:47:21 WARN DAGScheduler: Broadcasting large task binary with size 1130.9 KiB\n",
      "25/05/10 21:47:21 WARN DAGScheduler: Broadcasting large task binary with size 1130.8 KiB\n",
      "25/05/10 21:47:21 WARN DAGScheduler: Broadcasting large task binary with size 1130.8 KiB\n",
      "25/05/10 21:47:21 WARN DAGScheduler: Broadcasting large task binary with size 1130.8 KiB\n",
      "25/05/10 21:47:21 WARN DAGScheduler: Broadcasting large task binary with size 1130.9 KiB\n",
      "25/05/10 21:47:21 WARN DAGScheduler: Broadcasting large task binary with size 1129.7 KiB\n",
      "25/05/10 21:47:21 WARN DAGScheduler: Broadcasting large task binary with size 1130.8 KiB\n",
      "25/05/10 21:47:21 WARN DAGScheduler: Broadcasting large task binary with size 1130.9 KiB\n",
      "25/05/10 21:47:22 WARN DAGScheduler: Broadcasting large task binary with size 1130.9 KiB\n",
      "25/05/10 21:47:22 WARN DAGScheduler: Broadcasting large task binary with size 1130.9 KiB\n",
      "25/05/10 21:47:22 WARN DAGScheduler: Broadcasting large task binary with size 1130.8 KiB\n",
      "25/05/10 21:47:22 WARN DAGScheduler: Broadcasting large task binary with size 1130.8 KiB\n",
      "25/05/10 21:47:22 WARN DAGScheduler: Broadcasting large task binary with size 1130.8 KiB\n",
      "25/05/10 21:47:22 WARN DAGScheduler: Broadcasting large task binary with size 1130.9 KiB\n"
     ]
    },
    {
     "name": "stderr",
     "output_type": "stream",
     "text": [
      "                                                                                "
     ]
    },
    {
     "name": "stdout",
     "output_type": "stream",
     "text": [
      "25/05/10 21:47:25 WARN DAGScheduler: Broadcasting large task binary with size 1130.8 KiB\n",
      "25/05/10 21:47:25 WARN DAGScheduler: Broadcasting large task binary with size 1130.8 KiB\n",
      "25/05/10 21:47:25 WARN DAGScheduler: Broadcasting large task binary with size 1130.8 KiB\n",
      "25/05/10 21:47:26 WARN DAGScheduler: Broadcasting large task binary with size 1130.8 KiB\n",
      "25/05/10 21:47:26 WARN DAGScheduler: Broadcasting large task binary with size 1130.8 KiB\n",
      "25/05/10 21:47:26 WARN DAGScheduler: Broadcasting large task binary with size 1130.9 KiB\n",
      "25/05/10 21:47:26 WARN DAGScheduler: Broadcasting large task binary with size 1130.9 KiB\n",
      "25/05/10 21:47:26 WARN DAGScheduler: Broadcasting large task binary with size 1130.9 KiB\n",
      "25/05/10 21:47:26 WARN DAGScheduler: Broadcasting large task binary with size 1130.8 KiB\n",
      "25/05/10 21:47:26 WARN DAGScheduler: Broadcasting large task binary with size 1130.9 KiB\n",
      "25/05/10 21:47:26 WARN DAGScheduler: Broadcasting large task binary with size 1130.8 KiB\n",
      "25/05/10 21:47:26 WARN DAGScheduler: Broadcasting large task binary with size 1129.6 KiB\n",
      "25/05/10 21:47:26 WARN DAGScheduler: Broadcasting large task binary with size 1130.9 KiB\n",
      "25/05/10 21:47:26 WARN DAGScheduler: Broadcasting large task binary with size 1130.8 KiB\n"
     ]
    },
    {
     "name": "stderr",
     "output_type": "stream",
     "text": [
      "                                                                                "
     ]
    },
    {
     "name": "stdout",
     "output_type": "stream",
     "text": [
      "25/05/10 21:47:31 WARN DAGScheduler: Broadcasting large task binary with size 1130.9 KiB\n",
      "25/05/10 21:47:31 WARN DAGScheduler: Broadcasting large task binary with size 1130.9 KiB\n",
      "25/05/10 21:47:31 WARN DAGScheduler: Broadcasting large task binary with size 1130.9 KiB\n",
      "25/05/10 21:47:31 WARN DAGScheduler: Broadcasting large task binary with size 1130.8 KiB\n",
      "25/05/10 21:47:31 WARN DAGScheduler: Broadcasting large task binary with size 1130.8 KiB\n",
      "25/05/10 21:47:31 WARN DAGScheduler: Broadcasting large task binary with size 1130.9 KiB\n"
     ]
    },
    {
     "name": "stderr",
     "output_type": "stream",
     "text": [
      "                                                                                "
     ]
    },
    {
     "name": "stdout",
     "output_type": "stream",
     "text": [
      "25/05/10 21:47:36 WARN DAGScheduler: Broadcasting large task binary with size 1130.8 KiB\n",
      "25/05/10 21:47:36 WARN DAGScheduler: Broadcasting large task binary with size 1130.9 KiB\n",
      "25/05/10 21:47:36 WARN DAGScheduler: Broadcasting large task binary with size 1130.8 KiB\n",
      "25/05/10 21:47:36 WARN DAGScheduler: Broadcasting large task binary with size 1130.9 KiB\n",
      "25/05/10 21:47:36 WARN DAGScheduler: Broadcasting large task binary with size 1130.8 KiB\n",
      "25/05/10 21:47:36 WARN DAGScheduler: Broadcasting large task binary with size 1130.8 KiB\n",
      "25/05/10 21:47:36 WARN DAGScheduler: Broadcasting large task binary with size 1130.9 KiB\n",
      "25/05/10 21:47:36 WARN DAGScheduler: Broadcasting large task binary with size 1130.9 KiB\n",
      "25/05/10 21:47:36 WARN DAGScheduler: Broadcasting large task binary with size 1130.9 KiB\n"
     ]
    },
    {
     "name": "stderr",
     "output_type": "stream",
     "text": [
      "                                                                                "
     ]
    },
    {
     "name": "stdout",
     "output_type": "stream",
     "text": [
      "25/05/10 21:47:40 WARN DAGScheduler: Broadcasting large task binary with size 1130.8 KiB\n",
      "25/05/10 21:47:40 WARN DAGScheduler: Broadcasting large task binary with size 1130.8 KiB\n",
      "25/05/10 21:47:40 WARN DAGScheduler: Broadcasting large task binary with size 1130.9 KiB\n",
      "25/05/10 21:47:41 WARN DAGScheduler: Broadcasting large task binary with size 1130.8 KiB\n",
      "25/05/10 21:47:41 WARN DAGScheduler: Broadcasting large task binary with size 1130.9 KiB\n",
      "25/05/10 21:47:41 WARN DAGScheduler: Broadcasting large task binary with size 1130.8 KiB\n",
      "25/05/10 21:47:41 WARN DAGScheduler: Broadcasting large task binary with size 1130.9 KiB\n",
      "25/05/10 21:47:41 WARN DAGScheduler: Broadcasting large task binary with size 1130.8 KiB\n",
      "25/05/10 21:47:41 WARN DAGScheduler: Broadcasting large task binary with size 1130.8 KiB\n",
      "25/05/10 21:47:41 WARN DAGScheduler: Broadcasting large task binary with size 1130.8 KiB\n",
      "25/05/10 21:47:41 WARN DAGScheduler: Broadcasting large task binary with size 1130.9 KiB\n",
      "25/05/10 21:47:41 WARN DAGScheduler: Broadcasting large task binary with size 1130.9 KiB\n",
      "25/05/10 21:47:41 WARN DAGScheduler: Broadcasting large task binary with size 1130.9 KiB\n",
      "25/05/10 21:47:41 WARN DAGScheduler: Broadcasting large task binary with size 1130.8 KiB\n",
      "25/05/10 21:47:41 WARN DAGScheduler: Broadcasting large task binary with size 1130.8 KiB\n",
      "25/05/10 21:47:41 WARN DAGScheduler: Broadcasting large task binary with size 1130.9 KiB\n",
      "25/05/10 21:47:41 WARN DAGScheduler: Broadcasting large task binary with size 1130.9 KiB\n",
      "25/05/10 21:47:41 WARN DAGScheduler: Broadcasting large task binary with size 1130.8 KiB\n",
      "25/05/10 21:47:41 WARN DAGScheduler: Broadcasting large task binary with size 1130.8 KiB\n",
      "25/05/10 21:47:41 WARN DAGScheduler: Broadcasting large task binary with size 1130.9 KiB\n",
      "25/05/10 21:47:41 WARN DAGScheduler: Broadcasting large task binary with size 1130.9 KiB\n",
      "25/05/10 21:47:41 WARN DAGScheduler: Broadcasting large task binary with size 1130.9 KiB\n",
      "25/05/10 21:47:42 WARN DAGScheduler: Broadcasting large task binary with size 1130.8 KiB\n",
      "25/05/10 21:47:42 WARN DAGScheduler: Broadcasting large task binary with size 1130.8 KiB\n",
      "25/05/10 21:47:42 WARN DAGScheduler: Broadcasting large task binary with size 1130.8 KiB\n",
      "25/05/10 21:47:42 WARN DAGScheduler: Broadcasting large task binary with size 1130.9 KiB\n",
      "25/05/10 21:47:42 WARN DAGScheduler: Broadcasting large task binary with size 1130.9 KiB\n",
      "25/05/10 21:47:42 WARN DAGScheduler: Broadcasting large task binary with size 1130.8 KiB\n",
      "25/05/10 21:47:42 WARN DAGScheduler: Broadcasting large task binary with size 1130.9 KiB\n",
      "25/05/10 21:47:42 WARN DAGScheduler: Broadcasting large task binary with size 1130.9 KiB\n",
      "25/05/10 21:47:42 WARN DAGScheduler: Broadcasting large task binary with size 1130.8 KiB\n",
      "25/05/10 21:47:42 WARN DAGScheduler: Broadcasting large task binary with size 1130.8 KiB\n",
      "25/05/10 21:47:42 WARN DAGScheduler: Broadcasting large task binary with size 1130.9 KiB\n",
      "25/05/10 21:47:42 WARN DAGScheduler: Broadcasting large task binary with size 1130.8 KiB\n",
      "25/05/10 21:47:42 WARN DAGScheduler: Broadcasting large task binary with size 1130.9 KiB\n",
      "25/05/10 21:47:42 WARN DAGScheduler: Broadcasting large task binary with size 1130.8 KiB\n",
      "25/05/10 21:47:42 WARN DAGScheduler: Broadcasting large task binary with size 1130.9 KiB\n",
      "25/05/10 21:47:42 WARN DAGScheduler: Broadcasting large task binary with size 1130.9 KiB\n",
      "25/05/10 21:47:42 WARN DAGScheduler: Broadcasting large task binary with size 1130.9 KiB\n",
      "25/05/10 21:47:42 WARN DAGScheduler: Broadcasting large task binary with size 1130.9 KiB\n",
      "25/05/10 21:47:42 WARN DAGScheduler: Broadcasting large task binary with size 1130.8 KiB\n",
      "25/05/10 21:47:42 WARN DAGScheduler: Broadcasting large task binary with size 1130.9 KiB\n",
      "25/05/10 21:47:42 WARN DAGScheduler: Broadcasting large task binary with size 1130.8 KiB\n",
      "25/05/10 21:47:43 WARN DAGScheduler: Broadcasting large task binary with size 1130.8 KiB\n",
      "25/05/10 21:47:43 WARN DAGScheduler: Broadcasting large task binary with size 1130.8 KiB\n",
      "25/05/10 21:47:43 WARN DAGScheduler: Broadcasting large task binary with size 1130.9 KiB\n",
      "25/05/10 21:47:43 WARN DAGScheduler: Broadcasting large task binary with size 1130.9 KiB\n",
      "25/05/10 21:47:43 WARN DAGScheduler: Broadcasting large task binary with size 1130.8 KiB\n",
      "25/05/10 21:47:43 WARN DAGScheduler: Broadcasting large task binary with size 1130.9 KiB\n",
      "25/05/10 21:47:43 WARN DAGScheduler: Broadcasting large task binary with size 1130.9 KiB\n",
      "25/05/10 21:47:43 WARN DAGScheduler: Broadcasting large task binary with size 1130.8 KiB\n",
      "25/05/10 21:47:43 WARN DAGScheduler: Broadcasting large task binary with size 1130.9 KiB\n",
      "25/05/10 21:47:43 WARN DAGScheduler: Broadcasting large task binary with size 1130.8 KiB\n",
      "25/05/10 21:47:43 WARN DAGScheduler: Broadcasting large task binary with size 1130.8 KiB\n",
      "25/05/10 21:47:43 WARN DAGScheduler: Broadcasting large task binary with size 1130.9 KiB\n",
      "25/05/10 21:47:43 WARN DAGScheduler: Broadcasting large task binary with size 1130.8 KiB\n",
      "25/05/10 21:47:43 WARN DAGScheduler: Broadcasting large task binary with size 1130.9 KiB\n",
      "25/05/10 21:47:43 WARN DAGScheduler: Broadcasting large task binary with size 1130.8 KiB\n",
      "25/05/10 21:47:43 WARN DAGScheduler: Broadcasting large task binary with size 1130.9 KiB\n",
      "25/05/10 21:47:43 WARN DAGScheduler: Broadcasting large task binary with size 1130.9 KiB\n",
      "25/05/10 21:47:43 WARN DAGScheduler: Broadcasting large task binary with size 1130.8 KiB\n",
      "25/05/10 21:47:43 WARN DAGScheduler: Broadcasting large task binary with size 1130.9 KiB\n",
      "25/05/10 21:47:43 WARN DAGScheduler: Broadcasting large task binary with size 1130.9 KiB\n",
      "25/05/10 21:47:43 WARN DAGScheduler: Broadcasting large task binary with size 1130.8 KiB\n",
      "25/05/10 21:47:43 WARN DAGScheduler: Broadcasting large task binary with size 1130.8 KiB\n",
      "25/05/10 21:47:43 WARN DAGScheduler: Broadcasting large task binary with size 1130.9 KiB\n",
      "25/05/10 21:47:43 WARN DAGScheduler: Broadcasting large task binary with size 1130.8 KiB\n",
      "25/05/10 21:47:44 WARN DAGScheduler: Broadcasting large task binary with size 1130.9 KiB\n",
      "25/05/10 21:47:44 WARN DAGScheduler: Broadcasting large task binary with size 1130.9 KiB\n",
      "25/05/10 21:47:44 WARN DAGScheduler: Broadcasting large task binary with size 1130.9 KiB\n",
      "25/05/10 21:47:44 WARN DAGScheduler: Broadcasting large task binary with size 1130.8 KiB\n",
      "25/05/10 21:47:44 WARN DAGScheduler: Broadcasting large task binary with size 1130.9 KiB\n",
      "25/05/10 21:47:44 WARN DAGScheduler: Broadcasting large task binary with size 1130.8 KiB\n",
      "25/05/10 21:47:44 WARN DAGScheduler: Broadcasting large task binary with size 1130.9 KiB\n",
      "25/05/10 21:47:44 WARN DAGScheduler: Broadcasting large task binary with size 1130.8 KiB\n",
      "25/05/10 21:47:44 WARN DAGScheduler: Broadcasting large task binary with size 1130.9 KiB\n",
      "25/05/10 21:47:44 WARN DAGScheduler: Broadcasting large task binary with size 1130.9 KiB\n",
      "25/05/10 21:47:44 WARN DAGScheduler: Broadcasting large task binary with size 1130.8 KiB\n",
      "25/05/10 21:47:44 WARN DAGScheduler: Broadcasting large task binary with size 1130.8 KiB\n",
      "25/05/10 21:47:44 WARN DAGScheduler: Broadcasting large task binary with size 1130.9 KiB\n",
      "25/05/10 21:47:44 WARN DAGScheduler: Broadcasting large task binary with size 1130.9 KiB\n",
      "25/05/10 21:47:44 WARN DAGScheduler: Broadcasting large task binary with size 1130.8 KiB\n",
      "25/05/10 21:47:44 WARN DAGScheduler: Broadcasting large task binary with size 1130.9 KiB\n",
      "25/05/10 21:47:44 WARN DAGScheduler: Broadcasting large task binary with size 1130.8 KiB\n",
      "25/05/10 21:47:44 WARN DAGScheduler: Broadcasting large task binary with size 1130.9 KiB\n",
      "25/05/10 21:47:44 WARN DAGScheduler: Broadcasting large task binary with size 1130.8 KiB\n",
      "25/05/10 21:47:44 WARN DAGScheduler: Broadcasting large task binary with size 1130.8 KiB\n",
      "25/05/10 21:47:44 WARN DAGScheduler: Broadcasting large task binary with size 1130.9 KiB\n",
      "25/05/10 21:47:44 WARN DAGScheduler: Broadcasting large task binary with size 1130.9 KiB\n",
      "25/05/10 21:47:45 WARN DAGScheduler: Broadcasting large task binary with size 1130.9 KiB\n",
      "25/05/10 21:47:45 WARN DAGScheduler: Broadcasting large task binary with size 1130.8 KiB\n",
      "25/05/10 21:47:45 WARN DAGScheduler: Broadcasting large task binary with size 1130.9 KiB\n",
      "25/05/10 21:47:45 WARN DAGScheduler: Broadcasting large task binary with size 1130.8 KiB\n",
      "25/05/10 21:47:45 WARN DAGScheduler: Broadcasting large task binary with size 1129.7 KiB\n",
      "25/05/10 21:47:45 WARN DAGScheduler: Broadcasting large task binary with size 1130.8 KiB\n",
      "25/05/10 21:47:45 WARN DAGScheduler: Broadcasting large task binary with size 1130.9 KiB\n",
      "25/05/10 21:47:45 WARN DAGScheduler: Broadcasting large task binary with size 1130.8 KiB\n",
      "25/05/10 21:47:45 WARN DAGScheduler: Broadcasting large task binary with size 1130.9 KiB\n",
      "25/05/10 21:47:45 WARN DAGScheduler: Broadcasting large task binary with size 1130.9 KiB\n",
      "25/05/10 21:47:45 WARN DAGScheduler: Broadcasting large task binary with size 1130.8 KiB\n",
      "25/05/10 21:47:45 WARN DAGScheduler: Broadcasting large task binary with size 1130.9 KiB\n",
      "25/05/10 21:47:45 WARN DAGScheduler: Broadcasting large task binary with size 1130.8 KiB\n"
     ]
    },
    {
     "name": "stderr",
     "output_type": "stream",
     "text": [
      "                                                                                "
     ]
    },
    {
     "name": "stdout",
     "output_type": "stream",
     "text": [
      "25/05/10 21:47:49 WARN DAGScheduler: Broadcasting large task binary with size 1130.9 KiB\n",
      "25/05/10 21:47:49 WARN DAGScheduler: Broadcasting large task binary with size 1130.9 KiB\n",
      "25/05/10 21:47:50 WARN DAGScheduler: Broadcasting large task binary with size 1130.8 KiB\n",
      "25/05/10 21:47:50 WARN DAGScheduler: Broadcasting large task binary with size 1130.9 KiB\n",
      "25/05/10 21:47:50 WARN DAGScheduler: Broadcasting large task binary with size 1130.9 KiB\n",
      "25/05/10 21:47:50 WARN DAGScheduler: Broadcasting large task binary with size 1130.8 KiB\n",
      "25/05/10 21:47:50 WARN DAGScheduler: Broadcasting large task binary with size 1130.8 KiB\n",
      "25/05/10 21:47:50 WARN DAGScheduler: Broadcasting large task binary with size 1130.9 KiB\n",
      "25/05/10 21:47:50 WARN DAGScheduler: Broadcasting large task binary with size 1129.6 KiB\n"
     ]
    },
    {
     "name": "stderr",
     "output_type": "stream",
     "text": [
      "                                                                                "
     ]
    },
    {
     "name": "stdout",
     "output_type": "stream",
     "text": [
      "25/05/10 21:47:54 WARN DAGScheduler: Broadcasting large task binary with size 1130.9 KiB\n",
      "25/05/10 21:47:54 WARN DAGScheduler: Broadcasting large task binary with size 1130.9 KiB\n",
      "25/05/10 21:47:54 WARN DAGScheduler: Broadcasting large task binary with size 1130.8 KiB\n",
      "25/05/10 21:47:54 WARN DAGScheduler: Broadcasting large task binary with size 1130.9 KiB\n",
      "25/05/10 21:47:55 WARN DAGScheduler: Broadcasting large task binary with size 1130.9 KiB\n",
      "25/05/10 21:47:55 WARN DAGScheduler: Broadcasting large task binary with size 1130.8 KiB\n",
      "25/05/10 21:47:55 WARN DAGScheduler: Broadcasting large task binary with size 1130.8 KiB\n",
      "25/05/10 21:47:55 WARN DAGScheduler: Broadcasting large task binary with size 1130.9 KiB\n"
     ]
    },
    {
     "name": "stderr",
     "output_type": "stream",
     "text": [
      "                                                                                "
     ]
    },
    {
     "name": "stdout",
     "output_type": "stream",
     "text": [
      "25/05/10 21:47:59 WARN DAGScheduler: Broadcasting large task binary with size 1130.8 KiB\n",
      "25/05/10 21:47:59 WARN DAGScheduler: Broadcasting large task binary with size 1130.9 KiB\n",
      "25/05/10 21:47:59 WARN DAGScheduler: Broadcasting large task binary with size 1130.9 KiB\n",
      "25/05/10 21:47:59 WARN DAGScheduler: Broadcasting large task binary with size 1130.9 KiB\n",
      "25/05/10 21:47:59 WARN DAGScheduler: Broadcasting large task binary with size 1130.8 KiB\n",
      "25/05/10 21:47:59 WARN DAGScheduler: Broadcasting large task binary with size 1130.9 KiB\n",
      "25/05/10 21:47:59 WARN DAGScheduler: Broadcasting large task binary with size 1130.8 KiB\n",
      "25/05/10 21:48:00 WARN DAGScheduler: Broadcasting large task binary with size 1130.8 KiB\n",
      "25/05/10 21:48:00 WARN DAGScheduler: Broadcasting large task binary with size 1130.9 KiB\n"
     ]
    },
    {
     "name": "stderr",
     "output_type": "stream",
     "text": [
      "                                                                                "
     ]
    },
    {
     "name": "stdout",
     "output_type": "stream",
     "text": [
      "25/05/10 21:48:04 WARN DAGScheduler: Broadcasting large task binary with size 1130.8 KiB\n",
      "25/05/10 21:48:04 WARN DAGScheduler: Broadcasting large task binary with size 1130.9 KiB\n",
      "25/05/10 21:48:04 WARN DAGScheduler: Broadcasting large task binary with size 1130.9 KiB\n",
      "25/05/10 21:48:04 WARN DAGScheduler: Broadcasting large task binary with size 1130.9 KiB\n",
      "25/05/10 21:48:05 WARN DAGScheduler: Broadcasting large task binary with size 1130.8 KiB\n",
      "25/05/10 21:48:05 WARN DAGScheduler: Broadcasting large task binary with size 1130.9 KiB\n",
      "25/05/10 21:48:05 WARN DAGScheduler: Broadcasting large task binary with size 1130.8 KiB\n"
     ]
    },
    {
     "name": "stderr",
     "output_type": "stream",
     "text": [
      "                                                                                "
     ]
    },
    {
     "name": "stdout",
     "output_type": "stream",
     "text": [
      "25/05/10 21:48:05 WARN DAGScheduler: Broadcasting large task binary with size 1130.8 KiB\n",
      "25/05/10 21:48:06 WARN DAGScheduler: Broadcasting large task binary with size 1130.9 KiB\n"
     ]
    },
    {
     "name": "stderr",
     "output_type": "stream",
     "text": [
      "[Stage 8767:>               (0 + 2) / 2][Stage 8768:>               (0 + 0) / 2]"
     ]
    },
    {
     "name": "stdout",
     "output_type": "stream",
     "text": [
      "25/05/10 21:48:06 WARN DAGScheduler: Broadcasting large task binary with size 1130.9 KiB\n",
      "25/05/10 21:48:06 WARN DAGScheduler: Broadcasting large task binary with size 1130.8 KiB\n"
     ]
    },
    {
     "name": "stderr",
     "output_type": "stream",
     "text": [
      "[Stage 8767:> (0 + 2) / 2][Stage 8768:> (0 + 0) / 2][Stage 8769:> (0 + 0) / 2]"
     ]
    },
    {
     "name": "stdout",
     "output_type": "stream",
     "text": [
      "25/05/10 21:48:07 WARN DAGScheduler: Broadcasting large task binary with size 1130.8 KiB\n",
      "25/05/10 21:48:07 WARN DAGScheduler: Broadcasting large task binary with size 1130.9 KiB\n",
      "25/05/10 21:48:07 WARN DAGScheduler: Broadcasting large task binary with size 1130.9 KiB\n",
      "25/05/10 21:48:07 WARN DAGScheduler: Broadcasting large task binary with size 1130.8 KiB\n",
      "25/05/10 21:48:08 WARN DAGScheduler: Broadcasting large task binary with size 1130.9 KiB\n"
     ]
    },
    {
     "name": "stderr",
     "output_type": "stream",
     "text": [
      "                                                                                "
     ]
    },
    {
     "name": "stdout",
     "output_type": "stream",
     "text": [
      "25/05/10 21:48:08 WARN DAGScheduler: Broadcasting large task binary with size 1130.8 KiB\n",
      "25/05/10 21:48:08 WARN DAGScheduler: Broadcasting large task binary with size 1130.8 KiB\n"
     ]
    },
    {
     "name": "stderr",
     "output_type": "stream",
     "text": [
      "[Stage 8775:> (0 + 2) / 2][Stage 8776:> (0 + 0) / 2][Stage 8777:> (0 + 0) / 2]2]"
     ]
    },
    {
     "name": "stdout",
     "output_type": "stream",
     "text": [
      "25/05/10 21:48:09 WARN DAGScheduler: Broadcasting large task binary with size 1130.9 KiB\n",
      "25/05/10 21:48:09 WARN DAGScheduler: Broadcasting large task binary with size 1130.9 KiB\n",
      "25/05/10 21:48:09 WARN DAGScheduler: Broadcasting large task binary with size 1130.8 KiB\n",
      "25/05/10 21:48:10 WARN DAGScheduler: Broadcasting large task binary with size 1130.9 KiB\n",
      "25/05/10 21:48:11 WARN DAGScheduler: Broadcasting large task binary with size 1130.8 KiB\n",
      "25/05/10 21:48:11 WARN DAGScheduler: Broadcasting large task binary with size 1130.9 KiB\n"
     ]
    },
    {
     "name": "stderr",
     "output_type": "stream",
     "text": [
      "                                                                                "
     ]
    },
    {
     "name": "stdout",
     "output_type": "stream",
     "text": [
      "25/05/10 21:48:12 WARN DAGScheduler: Broadcasting large task binary with size 1130.8 KiB\n"
     ]
    },
    {
     "name": "stderr",
     "output_type": "stream",
     "text": [
      "[Stage 8784:>                                                       (0 + 0) / 2]"
     ]
    },
    {
     "name": "stdout",
     "output_type": "stream",
     "text": [
      "25/05/10 21:48:12 WARN DAGScheduler: Broadcasting large task binary with size 1130.8 KiB\n"
     ]
    },
    {
     "name": "stderr",
     "output_type": "stream",
     "text": [
      "[Stage 8784:>               (0 + 0) / 2][Stage 8785:>               (0 + 0) / 2]"
     ]
    },
    {
     "name": "stdout",
     "output_type": "stream",
     "text": [
      "25/05/10 21:48:13 WARN DAGScheduler: Broadcasting large task binary with size 1130.9 KiB\n"
     ]
    },
    {
     "name": "stderr",
     "output_type": "stream",
     "text": [
      "[Stage 8784:> (0 + 0) / 2][Stage 8785:> (0 + 0) / 2][Stage 8786:> (0 + 0) / 2]"
     ]
    },
    {
     "name": "stdout",
     "output_type": "stream",
     "text": [
      "25/05/10 21:48:14 WARN DAGScheduler: Broadcasting large task binary with size 1130.8 KiB\n",
      "25/05/10 21:48:14 WARN DAGScheduler: Broadcasting large task binary with size 1130.8 KiB\n",
      "25/05/10 21:48:15 WARN DAGScheduler: Broadcasting large task binary with size 1130.9 KiB\n",
      "25/05/10 21:48:15 WARN DAGScheduler: Broadcasting large task binary with size 1130.9 KiB\n",
      "25/05/10 21:48:16 WARN DAGScheduler: Broadcasting large task binary with size 1130.9 KiB\n",
      "25/05/10 21:48:17 WARN DAGScheduler: Broadcasting large task binary with size 1130.9 KiB\n"
     ]
    },
    {
     "name": "stderr",
     "output_type": "stream",
     "text": [
      "[Stage 8792:>                                                       (0 + 2) / 2]"
     ]
    },
    {
     "name": "stdout",
     "output_type": "stream",
     "text": [
      "25/05/10 21:48:18 WARN DAGScheduler: Broadcasting large task binary with size 1130.9 KiB\n"
     ]
    },
    {
     "name": "stderr",
     "output_type": "stream",
     "text": [
      "[Stage 8792:>               (0 + 2) / 2][Stage 8793:>               (0 + 0) / 2]"
     ]
    },
    {
     "name": "stdout",
     "output_type": "stream",
     "text": [
      "25/05/10 21:48:18 WARN DAGScheduler: Broadcasting large task binary with size 1130.9 KiB\n"
     ]
    },
    {
     "name": "stderr",
     "output_type": "stream",
     "text": [
      "[Stage 8792:> (0 + 2) / 2][Stage 8793:> (0 + 0) / 2][Stage 8794:> (0 + 0) / 2]"
     ]
    },
    {
     "name": "stdout",
     "output_type": "stream",
     "text": [
      "25/05/10 21:48:19 WARN DAGScheduler: Broadcasting large task binary with size 1130.9 KiB\n"
     ]
    },
    {
     "name": "stderr",
     "output_type": "stream",
     "text": [
      "                                                                                "
     ]
    },
    {
     "name": "stdout",
     "output_type": "stream",
     "text": [
      "25/05/10 21:48:19 WARN DAGScheduler: Broadcasting large task binary with size 1130.8 KiB\n"
     ]
    },
    {
     "name": "stderr",
     "output_type": "stream",
     "text": [
      "[Stage 8793:> (0 + 0) / 2][Stage 8794:> (0 + 0) / 2][Stage 8795:> (0 + 0) / 2]"
     ]
    },
    {
     "name": "stdout",
     "output_type": "stream",
     "text": [
      "25/05/10 21:48:20 WARN DAGScheduler: Broadcasting large task binary with size 1130.8 KiB\n",
      "25/05/10 21:48:20 WARN DAGScheduler: Broadcasting large task binary with size 1130.9 KiB\n",
      "25/05/10 21:48:21 WARN DAGScheduler: Broadcasting large task binary with size 1130.8 KiB\n",
      "25/05/10 21:48:21 WARN DAGScheduler: Broadcasting large task binary with size 1130.8 KiB\n"
     ]
    },
    {
     "name": "stderr",
     "output_type": "stream",
     "text": [
      "                                                                                "
     ]
    },
    {
     "name": "stdout",
     "output_type": "stream",
     "text": [
      "25/05/10 21:48:22 WARN DAGScheduler: Broadcasting large task binary with size 1130.9 KiB\n",
      "25/05/10 21:48:22 WARN DAGScheduler: Broadcasting large task binary with size 1130.9 KiB\n"
     ]
    },
    {
     "name": "stderr",
     "output_type": "stream",
     "text": [
      "[Stage 8801:>               (0 + 0) / 2][Stage 8802:>               (0 + 0) / 2]"
     ]
    },
    {
     "name": "stdout",
     "output_type": "stream",
     "text": [
      "25/05/10 21:48:23 WARN DAGScheduler: Broadcasting large task binary with size 1130.9 KiB\n",
      "25/05/10 21:48:23 WARN DAGScheduler: Broadcasting large task binary with size 1130.9 KiB\n"
     ]
    },
    {
     "name": "stderr",
     "output_type": "stream",
     "text": [
      "[Stage 8801:> (0 + 2) / 2][Stage 8802:> (0 + 0) / 2][Stage 8803:> (0 + 0) / 2]"
     ]
    },
    {
     "name": "stdout",
     "output_type": "stream",
     "text": [
      "25/05/10 21:48:24 WARN DAGScheduler: Broadcasting large task binary with size 1130.8 KiB\n",
      "25/05/10 21:48:24 WARN DAGScheduler: Broadcasting large task binary with size 1130.8 KiB\n",
      "25/05/10 21:48:25 WARN DAGScheduler: Broadcasting large task binary with size 1130.8 KiB\n",
      "25/05/10 21:48:25 WARN DAGScheduler: Broadcasting large task binary with size 1130.9 KiB\n"
     ]
    },
    {
     "name": "stderr",
     "output_type": "stream",
     "text": [
      "                                                                                "
     ]
    },
    {
     "name": "stdout",
     "output_type": "stream",
     "text": [
      "25/05/10 21:48:25 WARN DAGScheduler: Broadcasting large task binary with size 1130.8 KiB\n",
      "25/05/10 21:48:26 WARN DAGScheduler: Broadcasting large task binary with size 1130.9 KiB\n",
      "25/05/10 21:48:26 WARN DAGScheduler: Broadcasting large task binary with size 1130.8 KiB\n",
      "25/05/10 21:48:27 WARN DAGScheduler: Broadcasting large task binary with size 1130.9 KiB\n"
     ]
    },
    {
     "name": "stderr",
     "output_type": "stream",
     "text": [
      "[Stage 8809:> (0 + 2) / 2][Stage 8810:> (0 + 0) / 2][Stage 8811:> (0 + 0) / 2]"
     ]
    },
    {
     "name": "stdout",
     "output_type": "stream",
     "text": [
      "25/05/10 21:48:27 WARN DAGScheduler: Broadcasting large task binary with size 1130.8 KiB\n",
      "25/05/10 21:48:27 WARN DAGScheduler: Broadcasting large task binary with size 1130.8 KiB\n"
     ]
    },
    {
     "name": "stderr",
     "output_type": "stream",
     "text": [
      "                                                                                "
     ]
    },
    {
     "name": "stdout",
     "output_type": "stream",
     "text": [
      "25/05/10 21:48:27 WARN DAGScheduler: Broadcasting large task binary with size 1130.9 KiB\n"
     ]
    },
    {
     "name": "stderr",
     "output_type": "stream",
     "text": [
      "                                                                                "
     ]
    },
    {
     "name": "stdout",
     "output_type": "stream",
     "text": [
      "25/05/10 21:48:28 WARN DAGScheduler: Broadcasting large task binary with size 1130.9 KiB\n",
      "25/05/10 21:48:28 WARN DAGScheduler: Broadcasting large task binary with size 1130.9 KiB\n",
      "25/05/10 21:48:29 WARN DAGScheduler: Broadcasting large task binary with size 1130.8 KiB\n",
      "25/05/10 21:48:29 WARN DAGScheduler: Broadcasting large task binary with size 1130.9 KiB\n",
      "25/05/10 21:48:29 WARN DAGScheduler: Broadcasting large task binary with size 1130.8 KiB\n",
      "25/05/10 21:48:30 WARN DAGScheduler: Broadcasting large task binary with size 1130.8 KiB\n"
     ]
    },
    {
     "name": "stderr",
     "output_type": "stream",
     "text": [
      "[Stage 8817:> (0 + 2) / 2][Stage 8818:> (0 + 0) / 2][Stage 8819:> (0 + 0) / 2]"
     ]
    },
    {
     "name": "stdout",
     "output_type": "stream",
     "text": [
      "25/05/10 21:48:30 WARN DAGScheduler: Broadcasting large task binary with size 1130.9 KiB\n"
     ]
    },
    {
     "name": "stderr",
     "output_type": "stream",
     "text": [
      "                                                                                "
     ]
    },
    {
     "name": "stdout",
     "output_type": "stream",
     "text": [
      "25/05/10 21:48:30 WARN DAGScheduler: Broadcasting large task binary with size 1130.9 KiB\n",
      "25/05/10 21:48:31 WARN DAGScheduler: Broadcasting large task binary with size 1130.8 KiB\n"
     ]
    },
    {
     "name": "stderr",
     "output_type": "stream",
     "text": [
      "[Stage 8819:> (0 + 2) / 2][Stage 8820:> (0 + 0) / 2][Stage 8821:> (0 + 0) / 2]"
     ]
    },
    {
     "name": "stdout",
     "output_type": "stream",
     "text": [
      "25/05/10 21:48:31 WARN DAGScheduler: Broadcasting large task binary with size 1130.9 KiB\n"
     ]
    },
    {
     "name": "stderr",
     "output_type": "stream",
     "text": [
      "                                                                                "
     ]
    },
    {
     "name": "stdout",
     "output_type": "stream",
     "text": [
      "25/05/10 21:48:31 WARN DAGScheduler: Broadcasting large task binary with size 1130.8 KiB\n",
      "25/05/10 21:48:32 WARN DAGScheduler: Broadcasting large task binary with size 1130.9 KiB\n",
      "25/05/10 21:48:32 WARN DAGScheduler: Broadcasting large task binary with size 1130.9 KiB\n",
      "25/05/10 21:48:32 WARN DAGScheduler: Broadcasting large task binary with size 1130.8 KiB\n",
      "25/05/10 21:48:32 WARN DAGScheduler: Broadcasting large task binary with size 1130.8 KiB\n"
     ]
    },
    {
     "name": "stderr",
     "output_type": "stream",
     "text": [
      "                                                                                "
     ]
    },
    {
     "name": "stdout",
     "output_type": "stream",
     "text": [
      "25/05/10 21:48:33 WARN DAGScheduler: Broadcasting large task binary with size 1130.9 KiB\n",
      "25/05/10 21:48:33 WARN DAGScheduler: Broadcasting large task binary with size 1130.9 KiB\n"
     ]
    },
    {
     "name": "stderr",
     "output_type": "stream",
     "text": [
      "[Stage 8827:> (0 + 2) / 2][Stage 8828:> (0 + 0) / 2][Stage 8829:> (0 + 0) / 2]"
     ]
    },
    {
     "name": "stdout",
     "output_type": "stream",
     "text": [
      "25/05/10 21:48:33 WARN DAGScheduler: Broadcasting large task binary with size 1130.8 KiB\n"
     ]
    },
    {
     "name": "stderr",
     "output_type": "stream",
     "text": [
      "                                                                                "
     ]
    },
    {
     "name": "stdout",
     "output_type": "stream",
     "text": [
      "25/05/10 21:48:34 WARN DAGScheduler: Broadcasting large task binary with size 1130.9 KiB\n",
      "25/05/10 21:48:34 WARN DAGScheduler: Broadcasting large task binary with size 1130.8 KiB\n",
      "25/05/10 21:48:34 WARN DAGScheduler: Broadcasting large task binary with size 1130.9 KiB\n",
      "25/05/10 21:48:34 WARN DAGScheduler: Broadcasting large task binary with size 1130.9 KiB\n",
      "25/05/10 21:48:34 WARN DAGScheduler: Broadcasting large task binary with size 1130.8 KiB\n",
      "25/05/10 21:48:34 WARN DAGScheduler: Broadcasting large task binary with size 1130.8 KiB\n",
      "25/05/10 21:48:34 WARN DAGScheduler: Broadcasting large task binary with size 1130.9 KiB\n",
      "25/05/10 21:48:34 WARN DAGScheduler: Broadcasting large task binary with size 1130.9 KiB\n",
      "25/05/10 21:48:35 WARN DAGScheduler: Broadcasting large task binary with size 1130.8 KiB\n",
      "25/05/10 21:48:35 WARN DAGScheduler: Broadcasting large task binary with size 1130.9 KiB\n",
      "25/05/10 21:48:35 WARN DAGScheduler: Broadcasting large task binary with size 1130.8 KiB\n",
      "25/05/10 21:48:35 WARN DAGScheduler: Broadcasting large task binary with size 1130.9 KiB\n",
      "25/05/10 21:48:35 WARN DAGScheduler: Broadcasting large task binary with size 1130.9 KiB\n",
      "25/05/10 21:48:35 WARN DAGScheduler: Broadcasting large task binary with size 1130.8 KiB\n",
      "25/05/10 21:48:35 WARN DAGScheduler: Broadcasting large task binary with size 1130.8 KiB\n",
      "25/05/10 21:48:35 WARN DAGScheduler: Broadcasting large task binary with size 1130.9 KiB\n",
      "25/05/10 21:48:35 WARN DAGScheduler: Broadcasting large task binary with size 1130.9 KiB\n",
      "25/05/10 21:48:36 WARN DAGScheduler: Broadcasting large task binary with size 1130.8 KiB\n",
      "25/05/10 21:48:36 WARN DAGScheduler: Broadcasting large task binary with size 1130.9 KiB\n",
      "25/05/10 21:48:36 WARN DAGScheduler: Broadcasting large task binary with size 1130.8 KiB\n",
      "25/05/10 21:48:36 WARN DAGScheduler: Broadcasting large task binary with size 1130.9 KiB\n",
      "25/05/10 21:48:36 WARN DAGScheduler: Broadcasting large task binary with size 1130.9 KiB\n",
      "25/05/10 21:48:36 WARN DAGScheduler: Broadcasting large task binary with size 1130.9 KiB\n",
      "25/05/10 21:48:36 WARN DAGScheduler: Broadcasting large task binary with size 1130.8 KiB\n",
      "25/05/10 21:48:36 WARN DAGScheduler: Broadcasting large task binary with size 1130.9 KiB\n",
      "25/05/10 21:48:36 WARN DAGScheduler: Broadcasting large task binary with size 1130.8 KiB\n",
      "25/05/10 21:48:36 WARN DAGScheduler: Broadcasting large task binary with size 1130.9 KiB\n",
      "25/05/10 21:48:36 WARN DAGScheduler: Broadcasting large task binary with size 1130.9 KiB\n",
      "25/05/10 21:48:36 WARN DAGScheduler: Broadcasting large task binary with size 1130.8 KiB\n",
      "25/05/10 21:48:36 WARN DAGScheduler: Broadcasting large task binary with size 1130.9 KiB\n",
      "25/05/10 21:48:36 WARN DAGScheduler: Broadcasting large task binary with size 1130.8 KiB\n",
      "25/05/10 21:48:36 WARN DAGScheduler: Broadcasting large task binary with size 1129.6 KiB\n",
      "25/05/10 21:48:37 WARN DAGScheduler: Broadcasting large task binary with size 1130.8 KiB\n",
      "25/05/10 21:48:37 WARN DAGScheduler: Broadcasting large task binary with size 1130.9 KiB\n",
      "25/05/10 21:48:37 WARN DAGScheduler: Broadcasting large task binary with size 1130.9 KiB\n",
      "25/05/10 21:48:37 WARN DAGScheduler: Broadcasting large task binary with size 1130.9 KiB\n",
      "25/05/10 21:48:37 WARN DAGScheduler: Broadcasting large task binary with size 1130.8 KiB\n",
      "25/05/10 21:48:37 WARN DAGScheduler: Broadcasting large task binary with size 1130.9 KiB\n",
      "25/05/10 21:48:37 WARN DAGScheduler: Broadcasting large task binary with size 1129.7 KiB\n",
      "25/05/10 21:48:37 WARN DAGScheduler: Broadcasting large task binary with size 1130.8 KiB\n"
     ]
    },
    {
     "name": "stderr",
     "output_type": "stream",
     "text": [
      "                                                                                "
     ]
    },
    {
     "name": "stdout",
     "output_type": "stream",
     "text": [
      "25/05/10 21:48:41 WARN DAGScheduler: Broadcasting large task binary with size 1130.8 KiB\n",
      "25/05/10 21:48:41 WARN DAGScheduler: Broadcasting large task binary with size 1130.9 KiB\n",
      "25/05/10 21:48:41 WARN DAGScheduler: Broadcasting large task binary with size 1130.8 KiB\n",
      "25/05/10 21:48:41 WARN DAGScheduler: Broadcasting large task binary with size 1130.9 KiB\n",
      "25/05/10 21:48:41 WARN DAGScheduler: Broadcasting large task binary with size 1130.8 KiB\n",
      "25/05/10 21:48:41 WARN DAGScheduler: Broadcasting large task binary with size 1130.9 KiB\n",
      "25/05/10 21:48:42 WARN DAGScheduler: Broadcasting large task binary with size 1129.7 KiB\n"
     ]
    },
    {
     "name": "stderr",
     "output_type": "stream",
     "text": [
      "                                                                                "
     ]
    },
    {
     "name": "stdout",
     "output_type": "stream",
     "text": [
      "25/05/10 21:48:46 WARN DAGScheduler: Broadcasting large task binary with size 1130.9 KiB\n",
      "25/05/10 21:48:46 WARN DAGScheduler: Broadcasting large task binary with size 1130.8 KiB\n"
     ]
    },
    {
     "name": "stderr",
     "output_type": "stream",
     "text": [
      "                                                                                "
     ]
    },
    {
     "name": "stdout",
     "output_type": "stream",
     "text": [
      "25/05/10 21:48:50 WARN DAGScheduler: Broadcasting large task binary with size 1130.8 KiB\n",
      "25/05/10 21:48:50 WARN DAGScheduler: Broadcasting large task binary with size 1130.9 KiB\n",
      "25/05/10 21:48:50 WARN DAGScheduler: Broadcasting large task binary with size 1130.8 KiB\n",
      "25/05/10 21:48:50 WARN DAGScheduler: Broadcasting large task binary with size 1130.9 KiB\n",
      "25/05/10 21:48:51 WARN DAGScheduler: Broadcasting large task binary with size 1130.8 KiB\n",
      "25/05/10 21:48:51 WARN DAGScheduler: Broadcasting large task binary with size 1130.9 KiB\n"
     ]
    },
    {
     "name": "stderr",
     "output_type": "stream",
     "text": [
      "                                                                                "
     ]
    },
    {
     "name": "stdout",
     "output_type": "stream",
     "text": [
      "25/05/10 21:48:55 WARN DAGScheduler: Broadcasting large task binary with size 1130.9 KiB\n"
     ]
    },
    {
     "name": "stderr",
     "output_type": "stream",
     "text": [
      "                                                                                "
     ]
    },
    {
     "name": "stdout",
     "output_type": "stream",
     "text": [
      "25/05/10 21:49:00 WARN DAGScheduler: Broadcasting large task binary with size 1130.9 KiB\n",
      "25/05/10 21:49:00 WARN DAGScheduler: Broadcasting large task binary with size 1130.8 KiB\n",
      "25/05/10 21:49:00 WARN DAGScheduler: Broadcasting large task binary with size 1130.8 KiB\n",
      "25/05/10 21:49:00 WARN DAGScheduler: Broadcasting large task binary with size 1130.9 KiB\n",
      "25/05/10 21:49:00 WARN DAGScheduler: Broadcasting large task binary with size 1130.9 KiB\n",
      "25/05/10 21:49:00 WARN DAGScheduler: Broadcasting large task binary with size 1130.8 KiB\n",
      "25/05/10 21:49:00 WARN DAGScheduler: Broadcasting large task binary with size 1130.8 KiB\n",
      "25/05/10 21:49:00 WARN DAGScheduler: Broadcasting large task binary with size 1129.7 KiB\n"
     ]
    },
    {
     "name": "stderr",
     "output_type": "stream",
     "text": [
      "                                                                                "
     ]
    },
    {
     "name": "stdout",
     "output_type": "stream",
     "text": [
      "25/05/10 21:49:04 WARN DAGScheduler: Broadcasting large task binary with size 1130.9 KiB\n",
      "25/05/10 21:49:04 WARN DAGScheduler: Broadcasting large task binary with size 1130.9 KiB\n",
      "25/05/10 21:49:04 WARN DAGScheduler: Broadcasting large task binary with size 1130.8 KiB\n",
      "25/05/10 21:49:05 WARN DAGScheduler: Broadcasting large task binary with size 1130.9 KiB\n",
      "25/05/10 21:49:05 WARN DAGScheduler: Broadcasting large task binary with size 1130.8 KiB\n",
      "25/05/10 21:49:05 WARN DAGScheduler: Broadcasting large task binary with size 1130.8 KiB\n",
      "25/05/10 21:49:05 WARN DAGScheduler: Broadcasting large task binary with size 1130.9 KiB\n",
      "25/05/10 21:49:05 WARN DAGScheduler: Broadcasting large task binary with size 1130.8 KiB\n"
     ]
    },
    {
     "name": "stderr",
     "output_type": "stream",
     "text": [
      "                                                                                "
     ]
    },
    {
     "name": "stdout",
     "output_type": "stream",
     "text": [
      "25/05/10 21:49:09 WARN DAGScheduler: Broadcasting large task binary with size 1130.9 KiB\n",
      "25/05/10 21:49:09 WARN DAGScheduler: Broadcasting large task binary with size 1130.9 KiB\n",
      "25/05/10 21:49:09 WARN DAGScheduler: Broadcasting large task binary with size 1130.9 KiB\n",
      "25/05/10 21:49:09 WARN DAGScheduler: Broadcasting large task binary with size 1130.9 KiB\n",
      "25/05/10 21:49:09 WARN DAGScheduler: Broadcasting large task binary with size 1130.8 KiB\n",
      "25/05/10 21:49:09 WARN DAGScheduler: Broadcasting large task binary with size 1130.8 KiB\n",
      "25/05/10 21:49:09 WARN DAGScheduler: Broadcasting large task binary with size 1130.8 KiB\n",
      "25/05/10 21:49:09 WARN DAGScheduler: Broadcasting large task binary with size 1130.9 KiB\n",
      "25/05/10 21:49:10 WARN DAGScheduler: Broadcasting large task binary with size 1130.8 KiB\n"
     ]
    },
    {
     "name": "stderr",
     "output_type": "stream",
     "text": [
      "[Stage 8906:> (0 + 2) / 2][Stage 8907:> (0 + 0) / 2][Stage 8908:> (0 + 0) / 2]"
     ]
    },
    {
     "ename": "KeyboardInterrupt",
     "evalue": "",
     "output_type": "error",
     "traceback": [
      "\u001b[0;31m---------------------------------------------------------------------------\u001b[0m",
      "\u001b[0;31mIndexError\u001b[0m                                Traceback (most recent call last)",
      "File \u001b[0;32m/usr/lib64/python3.9/multiprocessing/pool.py:853\u001b[0m, in \u001b[0;36mIMapIterator.next\u001b[0;34m(self, timeout)\u001b[0m\n\u001b[1;32m    852\u001b[0m \u001b[38;5;28;01mtry\u001b[39;00m:\n\u001b[0;32m--> 853\u001b[0m     item \u001b[38;5;241m=\u001b[39m \u001b[38;5;28;43mself\u001b[39;49m\u001b[38;5;241;43m.\u001b[39;49m\u001b[43m_items\u001b[49m\u001b[38;5;241;43m.\u001b[39;49m\u001b[43mpopleft\u001b[49m\u001b[43m(\u001b[49m\u001b[43m)\u001b[49m\n\u001b[1;32m    854\u001b[0m \u001b[38;5;28;01mexcept\u001b[39;00m \u001b[38;5;167;01mIndexError\u001b[39;00m:\n",
      "\u001b[0;31mIndexError\u001b[0m: pop from an empty deque",
      "\nDuring handling of the above exception, another exception occurred:\n",
      "\u001b[0;31mKeyboardInterrupt\u001b[0m                         Traceback (most recent call last)",
      "Cell \u001b[0;32mIn[36], line 2\u001b[0m\n\u001b[1;32m      1\u001b[0m train_data \u001b[38;5;241m=\u001b[39m train_data\u001b[38;5;241m.\u001b[39mcache()\n\u001b[0;32m----> 2\u001b[0m cvModel \u001b[38;5;241m=\u001b[39m \u001b[43mcv\u001b[49m\u001b[38;5;241;43m.\u001b[39;49m\u001b[43mfit\u001b[49m\u001b[43m(\u001b[49m\u001b[43mtrain_data\u001b[49m\u001b[43m)\u001b[49m\n",
      "File \u001b[0;32m/usr/lib/spark/python/pyspark/ml/base.py:205\u001b[0m, in \u001b[0;36mEstimator.fit\u001b[0;34m(self, dataset, params)\u001b[0m\n\u001b[1;32m    203\u001b[0m         \u001b[38;5;28;01mreturn\u001b[39;00m \u001b[38;5;28mself\u001b[39m\u001b[38;5;241m.\u001b[39mcopy(params)\u001b[38;5;241m.\u001b[39m_fit(dataset)\n\u001b[1;32m    204\u001b[0m     \u001b[38;5;28;01melse\u001b[39;00m:\n\u001b[0;32m--> 205\u001b[0m         \u001b[38;5;28;01mreturn\u001b[39;00m \u001b[38;5;28;43mself\u001b[39;49m\u001b[38;5;241;43m.\u001b[39;49m\u001b[43m_fit\u001b[49m\u001b[43m(\u001b[49m\u001b[43mdataset\u001b[49m\u001b[43m)\u001b[49m\n\u001b[1;32m    206\u001b[0m \u001b[38;5;28;01melse\u001b[39;00m:\n\u001b[1;32m    207\u001b[0m     \u001b[38;5;28;01mraise\u001b[39;00m \u001b[38;5;167;01mTypeError\u001b[39;00m(\n\u001b[1;32m    208\u001b[0m         \u001b[38;5;124m\"\u001b[39m\u001b[38;5;124mParams must be either a param map or a list/tuple of param maps, \u001b[39m\u001b[38;5;124m\"\u001b[39m\n\u001b[1;32m    209\u001b[0m         \u001b[38;5;124m\"\u001b[39m\u001b[38;5;124mbut got \u001b[39m\u001b[38;5;132;01m%s\u001b[39;00m\u001b[38;5;124m.\u001b[39m\u001b[38;5;124m\"\u001b[39m \u001b[38;5;241m%\u001b[39m \u001b[38;5;28mtype\u001b[39m(params)\n\u001b[1;32m    210\u001b[0m     )\n",
      "File \u001b[0;32m/usr/lib/spark/python/pyspark/ml/tuning.py:847\u001b[0m, in \u001b[0;36mCrossValidator._fit\u001b[0;34m(self, dataset)\u001b[0m\n\u001b[1;32m    841\u001b[0m train \u001b[38;5;241m=\u001b[39m datasets[i][\u001b[38;5;241m0\u001b[39m]\u001b[38;5;241m.\u001b[39mcache()\n\u001b[1;32m    843\u001b[0m tasks \u001b[38;5;241m=\u001b[39m \u001b[38;5;28mmap\u001b[39m(\n\u001b[1;32m    844\u001b[0m     inheritable_thread_target,\n\u001b[1;32m    845\u001b[0m     _parallelFitTasks(est, train, eva, validation, epm, collectSubModelsParam),\n\u001b[1;32m    846\u001b[0m )\n\u001b[0;32m--> 847\u001b[0m \u001b[38;5;28;01mfor\u001b[39;00m j, metric, subModel \u001b[38;5;129;01min\u001b[39;00m pool\u001b[38;5;241m.\u001b[39mimap_unordered(\u001b[38;5;28;01mlambda\u001b[39;00m f: f(), tasks):\n\u001b[1;32m    848\u001b[0m     metrics_all[i][j] \u001b[38;5;241m=\u001b[39m metric\n\u001b[1;32m    849\u001b[0m     \u001b[38;5;28;01mif\u001b[39;00m collectSubModelsParam:\n",
      "File \u001b[0;32m/usr/lib64/python3.9/multiprocessing/pool.py:858\u001b[0m, in \u001b[0;36mIMapIterator.next\u001b[0;34m(self, timeout)\u001b[0m\n\u001b[1;32m    856\u001b[0m     \u001b[38;5;28mself\u001b[39m\u001b[38;5;241m.\u001b[39m_pool \u001b[38;5;241m=\u001b[39m \u001b[38;5;28;01mNone\u001b[39;00m\n\u001b[1;32m    857\u001b[0m     \u001b[38;5;28;01mraise\u001b[39;00m \u001b[38;5;167;01mStopIteration\u001b[39;00m \u001b[38;5;28;01mfrom\u001b[39;00m \u001b[38;5;28;01mNone\u001b[39;00m\n\u001b[0;32m--> 858\u001b[0m \u001b[38;5;28;43mself\u001b[39;49m\u001b[38;5;241;43m.\u001b[39;49m\u001b[43m_cond\u001b[49m\u001b[38;5;241;43m.\u001b[39;49m\u001b[43mwait\u001b[49m\u001b[43m(\u001b[49m\u001b[43mtimeout\u001b[49m\u001b[43m)\u001b[49m\n\u001b[1;32m    859\u001b[0m \u001b[38;5;28;01mtry\u001b[39;00m:\n\u001b[1;32m    860\u001b[0m     item \u001b[38;5;241m=\u001b[39m \u001b[38;5;28mself\u001b[39m\u001b[38;5;241m.\u001b[39m_items\u001b[38;5;241m.\u001b[39mpopleft()\n",
      "File \u001b[0;32m/usr/lib64/python3.9/threading.py:312\u001b[0m, in \u001b[0;36mCondition.wait\u001b[0;34m(self, timeout)\u001b[0m\n\u001b[1;32m    310\u001b[0m \u001b[38;5;28;01mtry\u001b[39;00m:    \u001b[38;5;66;03m# restore state no matter what (e.g., KeyboardInterrupt)\u001b[39;00m\n\u001b[1;32m    311\u001b[0m     \u001b[38;5;28;01mif\u001b[39;00m timeout \u001b[38;5;129;01mis\u001b[39;00m \u001b[38;5;28;01mNone\u001b[39;00m:\n\u001b[0;32m--> 312\u001b[0m         \u001b[43mwaiter\u001b[49m\u001b[38;5;241;43m.\u001b[39;49m\u001b[43macquire\u001b[49m\u001b[43m(\u001b[49m\u001b[43m)\u001b[49m\n\u001b[1;32m    313\u001b[0m         gotit \u001b[38;5;241m=\u001b[39m \u001b[38;5;28;01mTrue\u001b[39;00m\n\u001b[1;32m    314\u001b[0m     \u001b[38;5;28;01melse\u001b[39;00m:\n",
      "\u001b[0;31mKeyboardInterrupt\u001b[0m: "
     ]
    }
   ],
   "source": [
    "train_data = train_data.cache()\n",
    "cvModel = cv.fit(train_data)"
   ]
  },
  {
   "cell_type": "code",
   "execution_count": null,
   "id": "36713a5b-6c51-4ef6-aa6e-7eead580c5c7",
   "metadata": {},
   "outputs": [],
   "source": [
    "val_predictions = cvModel.transform(val_data)\n",
    "val_f1 = evaluator.evaluate(val_predictions)\n",
    "print(f\"F1-Score: {val_f1}\")"
   ]
  },
  {
   "cell_type": "code",
   "execution_count": null,
   "id": "e58aa06e-b5fe-495b-8968-36be94949df9",
   "metadata": {},
   "outputs": [],
   "source": []
  },
  {
   "cell_type": "code",
   "execution_count": null,
   "id": "d470077f-0e34-4974-9f02-2fc2cdfa79aa",
   "metadata": {},
   "outputs": [],
   "source": []
  },
  {
   "cell_type": "code",
   "execution_count": null,
   "id": "f78df481-4552-4dd8-bcb0-e9b063b50810",
   "metadata": {},
   "outputs": [],
   "source": []
  },
  {
   "cell_type": "code",
   "execution_count": null,
   "id": "326e8f64-8106-4849-9ea3-e14cee4434c8",
   "metadata": {},
   "outputs": [],
   "source": []
  },
  {
   "cell_type": "code",
   "execution_count": null,
   "id": "b33289ed-e243-434d-8441-7a90728f4e0b",
   "metadata": {},
   "outputs": [],
   "source": []
  },
  {
   "cell_type": "code",
   "execution_count": null,
   "id": "f6018704-5402-47d5-971a-045edac40151",
   "metadata": {},
   "outputs": [],
   "source": []
  },
  {
   "cell_type": "code",
   "execution_count": null,
   "id": "58f92a1b-c20a-46d3-8f78-336fc9859efd",
   "metadata": {},
   "outputs": [],
   "source": []
  }
 ],
 "metadata": {
  "kernelspec": {
   "display_name": "Python 3 (LLM)",
   "language": "python",
   "name": "python3_llm"
  },
  "language_info": {
   "codemirror_mode": {
    "name": "ipython",
    "version": 3
   },
   "file_extension": ".py",
   "mimetype": "text/x-python",
   "name": "python",
   "nbconvert_exporter": "python",
   "pygments_lexer": "ipython3",
   "version": "3.9.20"
  }
 },
 "nbformat": 4,
 "nbformat_minor": 5
}
